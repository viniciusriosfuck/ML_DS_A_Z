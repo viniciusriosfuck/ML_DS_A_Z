{
  "nbformat": 4,
  "nbformat_minor": 0,
  "metadata": {
    "colab": {
      "name": "MachineLearningUdemy.ipynb",
      "provenance": [],
      "toc_visible": true,
      "authorship_tag": "ABX9TyOVLlFWfob6LUkpwJWBZRfp",
      "include_colab_link": true
    },
    "kernelspec": {
      "name": "python3",
      "display_name": "Python 3"
    }
  },
  "cells": [
    {
      "cell_type": "markdown",
      "metadata": {
        "id": "view-in-github",
        "colab_type": "text"
      },
      "source": [
        "<a href=\"https://colab.research.google.com/github/viniciusriosfuck/ML_DS_A_Z/blob/main/MachineLearningUdemy.ipynb\" target=\"_parent\"><img src=\"https://colab.research.google.com/assets/colab-badge.svg\" alt=\"Open In Colab\"/></a>"
      ]
    },
    {
      "cell_type": "markdown",
      "metadata": {
        "id": "syAGDRVC5N70"
      },
      "source": [
        "# Machine Learning e Data Science com Python de A a Z\n",
        "\n",
        "Instrutor: Jones Granatyr\n",
        "\n",
        "Início: 05.11.2020\n",
        "\n",
        "30 horas\n",
        "\n",
        "* Salesforce: 50 mi U$ @ 2017\n",
        "* 300-500 mil U$/ano\n",
        "\n",
        "1. Itaú, \n",
        "2. IBM, Intel, Microsoft\n",
        "3. Nvidia (GPU, redes neurais, deep learning)"
      ]
    },
    {
      "cell_type": "markdown",
      "metadata": {
        "id": "yxvccE9DVN_m"
      },
      "source": [
        "# Dicas\n",
        "1. Repositórios\n",
        " * UCI Machine Learning Repository\n",
        "1. Ferramentas\n",
        " * WECA (ML)"
      ]
    },
    {
      "cell_type": "markdown",
      "metadata": {
        "id": "RaXRCbTj6BLt"
      },
      "source": [
        "# Terminologia\n",
        "1. Inteligência artificial: desenvolver sistemas que simulem capacidade humana para resolver problemas\n",
        "1. Sistemas especialistas\n",
        "1. Machine learning: métodos matemáticos para treinar algoritmos\n",
        "    1. Redes neurais\n",
        "        1. Deep learning (aprendizado profundo): rede neural com muitas camadas\n",
        "2. Visão computacional\n",
        "1. Robótica\n",
        "1. Mineração de dados: extrair conhecimento de dados, usando ML\n",
        "1. Inteligência computacional: NN, computação evolucionária (genéticos), lógica nebulosa (fuzzy)\n",
        "\n",
        "1. Big data: imenso volume de dados\n",
        "1. Ciência de dados\n",
        " 1. exploração e análise de dados\n",
        " 1. computação + estatística\n",
        " 1. ML\n",
        "\n",
        "\n"
      ]
    },
    {
      "cell_type": "markdown",
      "metadata": {
        "id": "0wbDi-Me7rvJ"
      },
      "source": [
        "# Machine Learning\n",
        "1. Preditivo / supervisionado\n",
        "    1. Classificação\n",
        "    1. Regressão\n",
        "\n",
        "1. Descritivo / não supervisionado\n",
        "    1. Associação\n",
        "    1. Agrupamento\n",
        "    1. Detecção de desvios\n",
        "    1. Padrões sequenciais\n",
        "    1. Sumarização\n",
        "\n",
        "1. Reforço"
      ]
    },
    {
      "cell_type": "markdown",
      "metadata": {
        "id": "HMdX_m-j8AzD"
      },
      "source": [
        "## Exemplos\n",
        "1. Classificação (rótulo)\n",
        " 1. Marketing direto\n",
        " 1. Insatisfação de clientes\n",
        " 1. Risco de crédito\n",
        " 1. Filtros de spam\n",
        " 1. Separação de notícias\n",
        " 1. Reconhecimento de voz\n",
        " 1. Reconhecimento de face\n",
        " 1. Previsão de doença\n",
        "\n",
        "1. Regressão (número)\n",
        " 1. Propaganda > Venda\n",
        " 1. T, U, p > Vvento\n",
        " 1. fatores externos > valor dólar\n",
        " 1. exame > probabilidade de sobreviver\n",
        " 1. risco de investimento\n",
        " 1. histórico gasto crédito > limite\n",
        " 1. histórico valor > valor produto\n",
        "\n",
        "1. Associação\n",
        " 1. prateleira mercado\n",
        " 1. promoções conjunto\n",
        " 1. catálogos, folhetos\n",
        " 1. evasão escolar\n",
        "\n",
        "1. Agrupamento\n",
        " 1. segmentação de mercado\n",
        " 1. mala direta\n",
        " 1. documentos, notícias\n",
        " 1. produtos\n",
        " 1. perfil cliente (persona)\n",
        " 1. análise redes sociais\n",
        "\n",
        "1. Detecção de desvios (outliers)\n",
        " 1. fraude de cartão de crédito\n",
        " 1. intrusão em redes\n",
        " 1. uso de energia elétrica, água, telefone\n",
        " 1. desempenho atleta (doping) \n",
        " 1. monitorar máquina data center\n",
        "\n",
        "1. Descoberta padrões sequenciais\n",
        " 1. livrarias, lojas esportes, PCs\n",
        " 1. marketing direcionado\n",
        " 1. prevenir doenças\n",
        " 1. navegar sites\n",
        "\n",
        "1. Sumarização\n",
        " 1. resumir persona\n",
        " 1. segmentar mercado"
      ]
    },
    {
      "cell_type": "markdown",
      "metadata": {
        "id": "BWkMnubqzszY"
      },
      "source": [
        "## Preditivo / supervisionado\n",
        "\n",
        "1. Treinamento\n",
        " 1. Extração de características\n",
        " 1. Algoritmo de aprendizagem (+supervisor)\n",
        " 1. Modelo treinado\n",
        "\n",
        "1. Teste\n",
        " 1. Extração de características\n",
        " 1. Modelo treinado\n",
        " 1. Previsão "
      ]
    },
    {
      "cell_type": "markdown",
      "metadata": {
        "id": "128bGDlG0d-0"
      },
      "source": [
        "## Descritivo / não supervisionado\n",
        "\n",
        "1. Analisar automaticamente os dados\n",
        "1. Requer análise para determinar o signifcado dos padrões encontrados"
      ]
    },
    {
      "cell_type": "markdown",
      "metadata": {
        "id": "-sBToB_70zEu"
      },
      "source": [
        "## Por reforço\n",
        "1. Aprender com interações com ambiente (causa e efeito)\n",
        "1. Aprender com própria experiência\n",
        "\n",
        "Ex: Robôs\n",
        "\n",
        "SMA: Sistema Multi Agente"
      ]
    },
    {
      "cell_type": "markdown",
      "metadata": {
        "id": "g9Tvqgdx1MYb"
      },
      "source": [
        "# Classificação (intro)\n",
        "\n",
        "* 1 classe\n",
        "* relacionamento entre features e target\n",
        "* target conhecido (supervisionado)\n",
        "\n",
        "Método indutivo\n",
        "1. Treinamento (histórico)\n",
        " 1. Features, target\n",
        " 1. Sistema de aprendizado\n",
        " 1. Classificador\n",
        "1. Teste\n",
        " 1. Features\n",
        " 1. Classificador\n",
        " 1. Decisão\n",
        "\n",
        "\n",
        "\n",
        "1. Treinamento (histórico)\n",
        "1. Teste\n",
        "\n",
        "Naive Bayes (tabela probabilidade)\n",
        "Árvores decisão (árvore)\n",
        "Redes neurais (pesos)\n",
        "\n",
        "\n",
        "\n"
      ]
    },
    {
      "cell_type": "markdown",
      "metadata": {
        "id": "LZnbxUMWvuFT"
      },
      "source": [
        "## Bases\n"
      ]
    },
    {
      "cell_type": "code",
      "metadata": {
        "colab": {
          "base_uri": "https://localhost:8080/"
        },
        "id": "yxHWRzpgSjN6",
        "outputId": "714f7fd4-06c6-4f3d-9b8c-88b393b009b1"
      },
      "source": [
        "# download databases\r\n",
        "!curl -o census.csv https://raw.githubusercontent.com/viniciusriosfuck/ML_DS_A_Z/main/data/census.csv\r\n",
        "!curl -o credit_data.csv https://raw.githubusercontent.com/viniciusriosfuck/ML_DS_A_Z/main/data/credit_data.csv\r\n",
        "!curl -o risco_credito.csv https://raw.githubusercontent.com/viniciusriosfuck/ML_DS_A_Z/main/data/risco_credito.csv"
      ],
      "execution_count": 1,
      "outputs": [
        {
          "output_type": "stream",
          "text": [
            "  % Total    % Received % Xferd  Average Speed   Time    Time     Time  Current\n",
            "                                 Dload  Upload   Total   Spent    Left  Speed\n",
            "100 3881k  100 3881k    0     0  21.1M      0 --:--:-- --:--:-- --:--:-- 21.1M\n",
            "  % Total    % Received % Xferd  Average Speed   Time    Time     Time  Current\n",
            "                                 Dload  Upload   Total   Spent    Left  Speed\n",
            "100  115k  100  115k    0     0   252k      0 --:--:-- --:--:-- --:--:--  252k\n",
            "  % Total    % Received % Xferd  Average Speed   Time    Time     Time  Current\n",
            "                                 Dload  Upload   Total   Spent    Left  Speed\n",
            "100   525  100   525    0     0   2419      0 --:--:-- --:--:-- --:--:--  2419\n"
          ],
          "name": "stdout"
        }
      ]
    },
    {
      "cell_type": "markdown",
      "metadata": {
        "id": "IGxLziDJvw05"
      },
      "source": [
        "### Risco de crédito\n",
        "* features / previsores / independentes\n",
        " 1. História de crédito: Desconhecida, Ruim, Boa\n",
        " 1. Dívida: Alta, Baixa\n",
        " 1. Garantias: Nenhuma, Adequada\n",
        " 1. Renda Anual: <15.000, >=15.000 a <=35.000, >35.000\n",
        "* target: meta: classe / dependente\n",
        " 1. Risco: Alto, Moderado, Baixo"
      ]
    },
    {
      "cell_type": "code",
      "metadata": {
        "colab": {
          "base_uri": "https://localhost:8080/",
          "height": 204
        },
        "id": "teH1pyRxPczr",
        "outputId": "dfe0e63a-a0a4-458e-ba63-f7bd8af5632c"
      },
      "source": [
        "import pandas as pd\r\n",
        "\r\n",
        "lst_risco_credito = [\r\n",
        "        {\"historia\":\"ruim\",\"divida\":\"alta\",\"garantias\":\"nenhuma\",\"renda\":\"0_15\",\"risco\":\"alto\"},\r\n",
        "        {\"historia\":\"desconhecida\",\"divida\":\"alta\",\"garantias\":\"nenhuma\",\"renda\":\"15_35\",\"risco\":\"alto\"},\r\n",
        "        {\"historia\":\"desconhecida\",\"divida\":\"baixa\",\"garantias\":\"nenhuma\",\"renda\":\"15_35\",\"risco\":\"moderado\"},\r\n",
        "        {\"historia\":\"desconhecida\",\"divida\":\"baixa\",\"garantias\":\"nenhuma\",\"renda\":\"acima_35\",\"risco\":\"alto\"},\r\n",
        "        {\"historia\":\"desconhecida\",\"divida\":\"baixa\",\"garantias\":\"nenhuma\",\"renda\":\"acima_35\",\"risco\":\"baixo\"},\r\n",
        "        {\"historia\":\"desconhecida\",\"divida\":\"baixa\",\"garantias\":\"adequada\",\"renda\":\"acima_35\",\"risco\":\"baixo\"},\r\n",
        "        {\"historia\":\"ruim\",\"divida\":\"baixa\",\"garantias\":\"nenhuma\",\"renda\":\"0_15\",\"risco\":\"alto\"},\r\n",
        "        {\"historia\":\"ruim\",\"divida\":\"baixa\",\"garantias\":\"adequada\",\"renda\":\"acima_35\",\"risco\":\"moderado\"},\r\n",
        "        {\"historia\":\"boa\",\"divida\":\"baixa\",\"garantias\":\"nenhuma\",\"renda\":\"acima_35\",\"risco\":\"baixo\"},\r\n",
        "        {\"historia\":\"boa\",\"divida\":\"alta\",\"garantias\":\"adequada\",\"renda\":\"acima_35\",\"risco\":\"baixo\"},\r\n",
        "        {\"historia\":\"boa\",\"divida\":\"alta\",\"garantias\":\"nenhuma\",\"renda\":\"0_15\",\"risco\":\"alto\"},\r\n",
        "        {\"historia\":\"boa\",\"divida\":\"alta\",\"garantias\":\"nenhuma\",\"renda\":\"15_35\",\"risco\":\"moderado\"},\r\n",
        "        {\"historia\":\"boa\",\"divida\":\"alta\",\"garantias\":\"nenhuma\",\"renda\":\"acima_35\",\"risco\":\"baixo\"},\r\n",
        "        {\"historia\":\"ruim\",\"divida\":\"alta\",\"garantias\":\"nenhuma\",\"renda\":\"15_35\",\"risco\":\"alto\"}\r\n",
        "]\r\n",
        "df = pd.DataFrame(lst_risco_credito)\r\n",
        "\r\n",
        "X = df.iloc[:,:-1].values\r\n",
        "y = df.iloc[:,-1].values              \r\n",
        "\r\n",
        "lst_features = list(df.iloc[:,:-1].columns)\r\n",
        "\r\n",
        "df.head()"
      ],
      "execution_count": 2,
      "outputs": [
        {
          "output_type": "execute_result",
          "data": {
            "text/html": [
              "<div>\n",
              "<style scoped>\n",
              "    .dataframe tbody tr th:only-of-type {\n",
              "        vertical-align: middle;\n",
              "    }\n",
              "\n",
              "    .dataframe tbody tr th {\n",
              "        vertical-align: top;\n",
              "    }\n",
              "\n",
              "    .dataframe thead th {\n",
              "        text-align: right;\n",
              "    }\n",
              "</style>\n",
              "<table border=\"1\" class=\"dataframe\">\n",
              "  <thead>\n",
              "    <tr style=\"text-align: right;\">\n",
              "      <th></th>\n",
              "      <th>historia</th>\n",
              "      <th>divida</th>\n",
              "      <th>garantias</th>\n",
              "      <th>renda</th>\n",
              "      <th>risco</th>\n",
              "    </tr>\n",
              "  </thead>\n",
              "  <tbody>\n",
              "    <tr>\n",
              "      <th>0</th>\n",
              "      <td>ruim</td>\n",
              "      <td>alta</td>\n",
              "      <td>nenhuma</td>\n",
              "      <td>0_15</td>\n",
              "      <td>alto</td>\n",
              "    </tr>\n",
              "    <tr>\n",
              "      <th>1</th>\n",
              "      <td>desconhecida</td>\n",
              "      <td>alta</td>\n",
              "      <td>nenhuma</td>\n",
              "      <td>15_35</td>\n",
              "      <td>alto</td>\n",
              "    </tr>\n",
              "    <tr>\n",
              "      <th>2</th>\n",
              "      <td>desconhecida</td>\n",
              "      <td>baixa</td>\n",
              "      <td>nenhuma</td>\n",
              "      <td>15_35</td>\n",
              "      <td>moderado</td>\n",
              "    </tr>\n",
              "    <tr>\n",
              "      <th>3</th>\n",
              "      <td>desconhecida</td>\n",
              "      <td>baixa</td>\n",
              "      <td>nenhuma</td>\n",
              "      <td>acima_35</td>\n",
              "      <td>alto</td>\n",
              "    </tr>\n",
              "    <tr>\n",
              "      <th>4</th>\n",
              "      <td>desconhecida</td>\n",
              "      <td>baixa</td>\n",
              "      <td>nenhuma</td>\n",
              "      <td>acima_35</td>\n",
              "      <td>baixo</td>\n",
              "    </tr>\n",
              "  </tbody>\n",
              "</table>\n",
              "</div>"
            ],
            "text/plain": [
              "       historia divida garantias     renda     risco\n",
              "0          ruim   alta   nenhuma      0_15      alto\n",
              "1  desconhecida   alta   nenhuma     15_35      alto\n",
              "2  desconhecida  baixa   nenhuma     15_35  moderado\n",
              "3  desconhecida  baixa   nenhuma  acima_35      alto\n",
              "4  desconhecida  baixa   nenhuma  acima_35     baixo"
            ]
          },
          "metadata": {
            "tags": []
          },
          "execution_count": 2
        }
      ]
    },
    {
      "cell_type": "markdown",
      "metadata": {
        "id": "c8juwTjSv3ES"
      },
      "source": [
        "### Venda de livros\n",
        "* features\n",
        "    1. Sexo: M,F\n",
        "    1. País: França, Inglaterra, Alemanha\n",
        "    1. Idade: inteiro\n",
        "* target\n",
        "    1. Comprar: Sim, Não"
      ]
    },
    {
      "cell_type": "markdown",
      "metadata": {
        "id": "OxnZAiuzv3an"
      },
      "source": [
        "### Prever esporte\n",
        "* features\n",
        "    1. Cor dos olhos: Castanho, Azul\n",
        "    1. Casado: Sim, Não\n",
        "    1. Sexo: M,F\n",
        "    1. Cabelo: Longo, Curto\n",
        "* target\n",
        "    1. Esporte: Futebol, Aeróbica"
      ]
    },
    {
      "cell_type": "markdown",
      "metadata": {
        "id": "iNelp40Dv3-E"
      },
      "source": [
        "### Jogar tênis\n",
        "* features\n",
        "    1. Tempo: Ensolarado, Nublado, Chuvoso\n",
        "    1. Temperatura: Quente, Moderada, Agradável\n",
        "    1. Umidade: Alta, Normal\n",
        "    1. Vento: Fraco, Forte\n",
        "* target\n",
        "    1. Jogar tênis: Sim, Não"
      ]
    },
    {
      "cell_type": "markdown",
      "metadata": {
        "id": "MNyi4rPXUflI"
      },
      "source": [
        "# Questionário 1"
      ]
    },
    {
      "cell_type": "markdown",
      "metadata": {
        "id": "TtpSNXh55G1K"
      },
      "source": [
        "1. Sistemas especialistas\n",
        " * É baseado no conhecimento do especialista humano e com base nesse conhecimento o sistema é capaz de fornecer respostas\n",
        "1. Visão computacional\n",
        " * Simula o sentido da visão do ser humano\n",
        "1. Algoritmos genéticos\n",
        " * Utiliza conceitos da área da genética para gerar as respostas\n",
        "1.  Processamento de linguagem natural\n",
        " * O computador aprende a semântica de uma frase, tanto escrita quanto falada"
      ]
    },
    {
      "cell_type": "markdown",
      "metadata": {
        "id": "Z1D40wTm6BcP"
      },
      "source": [
        "1. Inteligência artificial é a área da Ciência da Computação responsável pelo desenvolvimento de sistemas que simulem a capacidade HUMANA de resolver problemas.\n",
        "\n",
        "1. Mineração de dados é o processo de criar algoritmos para extrair conhecimento de bases de dados (F)\n",
        " * Mineração de dados é o processo de extrair conhecimento e não criar algoritmos"
      ]
    },
    {
      "cell_type": "markdown",
      "metadata": {
        "id": "YYMeyMpL6mZP"
      },
      "source": [
        "1. A classificação define um valor somente para todos os registros da base de dados (F)\n",
        "1. A regressão faz a previsão de valores numéricos (V)\n",
        "1. A classificação define uma classe para cada um dos registros (V)\n",
        "1. A regressão faz a definição de valores genéricos (F)\n",
        "1. Na classificação temos rótulos e na regressão temos números (V)\n",
        "1. Na regressão temos rótulos e na classificação temos números (F)"
      ]
    },
    {
      "cell_type": "markdown",
      "metadata": {
        "id": "zax3BLLX69Pb"
      },
      "source": [
        "1. Associação\n",
        " * Utilizadas em prateleiras de supermercados para encontrar produtos que são vendidos em conjunto\n",
        "1. Agrupamento\n",
        " * Encontrar grupos de clientes que irão comprar um produto para envio de mala direta\n",
        "1. Detecção de desvios (outliers)\n",
        " * Monitoramento de máquinas em data center\n",
        "1. Descoberta de padrões sequenciais\n",
        " * Navegação de sequência de páginas web\n",
        "1. Sumarização\n",
        " * Segmentação de mercado"
      ]
    },
    {
      "cell_type": "markdown",
      "metadata": {
        "id": "eXfOnUEP73Vq"
      },
      "source": [
        "Na aprendizagem supervisionada, o programa é treinado a partir do conhecimento de um supervisor e um conjunto de dados pré-definidos. Por outro lado, na aprendizagem não-supervisionada o programa encontra automaticamente padrões e relações em um conjunto de dados. (V)"
      ]
    },
    {
      "cell_type": "markdown",
      "metadata": {
        "id": "2Y73AkIBpy-A"
      },
      "source": [
        "# Utils"
      ]
    },
    {
      "cell_type": "code",
      "metadata": {
        "id": "TRc-eS-7pyR5",
        "colab": {
          "base_uri": "https://localhost:8080/"
        },
        "outputId": "07d2481e-1c00-405a-9e2a-5985a39a23e2"
      },
      "source": [
        "import json\r\n",
        "\r\n",
        "# utils\r\n",
        "def pp_json(json_thing, sort=True, indents=4):\r\n",
        "    if type(json_thing) is str:\r\n",
        "        print(json.dumps(json.loads(json_thing)\r\n",
        "                , sort_keys=sort\r\n",
        "                , indent=indents))\r\n",
        "    else:\r\n",
        "        print(json.dumps(json_thing\r\n",
        "                         , sort_keys=sort\r\n",
        "                         , indent=indents))\r\n",
        "    return None\r\n",
        "\r\n",
        "def label_encoder(df,X):\r\n",
        "    from sklearn.preprocessing import LabelEncoder\r\n",
        "    labelencoder = LabelEncoder()\r\n",
        "    dct_label_encoder = {}\r\n",
        "    for idx in range(len(df.columns)-1):\r\n",
        "        X[:,idx] = labelencoder.fit_transform(X[:,idx])\r\n",
        "        dct_label = {}\r\n",
        "        for jj, label in enumerate(labelencoder.classes_):\r\n",
        "            dct_label[label] =  jj\r\n",
        "        dct_label_encoder[df.columns[idx]] = dct_label\r\n",
        "    print(\"Label encoder dict\")\r\n",
        "    pp_json(dct_label_encoder)\r\n",
        "\r\n",
        "    return dct_label_encoder\r\n",
        "\r\n",
        "flatten = lambda *n: (e for a in n\r\n",
        "    for e in (flatten(*a) if isinstance(a, (tuple, list)) else (a,)))\r\n",
        "\r\n",
        "def lst_from_dct_values(dct):\r\n",
        "    lst = list(dct.values())\r\n",
        "    lst = list(flatten(lst))\r\n",
        "    return lst\r\n",
        "\r\n",
        "def format_float_dct(dct):\r\n",
        "    return {k:round(v,2) if isinstance(v,float) else v for k,v in dct.items()}\r\n",
        "\r\n",
        "def dct_from2lists(lst_keys, lst_values):\r\n",
        "    return dict(zip(lst_keys, lst_values))\r\n",
        "\r\n",
        "df = pd.read_csv('risco_credito.csv')\r\n",
        "\r\n",
        "X = df.iloc[:,:-1].values\r\n",
        "y = df.iloc[:,-1].values              \r\n",
        "\r\n",
        "lst_features = list(df.iloc[:,:-1].columns)\r\n",
        "\r\n",
        "dct_label_encoder = label_encoder(df,X)\r\n",
        "\r\n",
        "def encoded_entry(entry_raw, dct_label_encoder=dct_label_encoder):\r\n",
        "    return [dct_label_encoder[k][v] for k,v in entry_raw.items()]\r\n",
        "\r\n",
        "def print_prediction(test,clf):\r\n",
        "    print(\"\\nGiven\")\r\n",
        "    pp_json(test)\r\n",
        "    test_encoded = encoded_entry(entry_raw=test)\r\n",
        "    predict_label = clf.predict([test_encoded])\r\n",
        "    predict_proba = clf.predict_proba([test_encoded])\r\n",
        "\r\n",
        "    print(\"Predicted label:\", predict_label[0])\r\n",
        "    dct_probabilities = dct_from2lists(\r\n",
        "        lst_keys=clf.classes_,\r\n",
        "        lst_values=predict_proba[0])\r\n",
        "    print(\"Probabilities\")\r\n",
        "    pp_json(dct_probabilities)"
      ],
      "execution_count": 3,
      "outputs": [
        {
          "output_type": "stream",
          "text": [
            "Label encoder dict\n",
            "{\n",
            "    \"divida\": {\n",
            "        \"alta\": 0,\n",
            "        \"baixa\": 1\n",
            "    },\n",
            "    \"garantias\": {\n",
            "        \"adequada\": 0,\n",
            "        \"nenhuma\": 1\n",
            "    },\n",
            "    \"historia\": {\n",
            "        \"boa\": 0,\n",
            "        \"desconhecida\": 1,\n",
            "        \"ruim\": 2\n",
            "    },\n",
            "    \"renda\": {\n",
            "        \"0_15\": 0,\n",
            "        \"15_35\": 1,\n",
            "        \"acima_35\": 2\n",
            "    }\n",
            "}\n"
          ],
          "name": "stdout"
        }
      ]
    },
    {
      "cell_type": "markdown",
      "metadata": {
        "id": "GxcQciTZ_h3z"
      },
      "source": [
        "# Parte 1 - Classificação\n",
        "\n",
        "1. Pré-processamento e preparação de bases de dados para classificação\n",
        "1. Aprendizagem bayesiana (algoritmo Naive Bayes)\n",
        "1. Aprendizagem por árvores de decisão (algoritmo básico de árvores e Random 1. Forest)\n",
        "1. Aprendizagem por regras (algoritmo OneR)\n",
        "1. Aprendizagem baseada em instâncias (algoritmo kNN)\n",
        "1. Regressão logística\n",
        "1. Máquinas de vetores de suporte (SVM)\n",
        "1. Redes neurais artificiais\n",
        "1. Avaliação de algoritmos de classificação\n",
        "1. Combinação e rejeição de classificadores"
      ]
    },
    {
      "cell_type": "markdown",
      "metadata": {
        "id": "Bx8eEgw0o41c"
      },
      "source": [
        "* Bias (viés)\n",
        " * erros por classificação errada\n",
        "* Variância\n",
        " * erros por sensibilidade pequena a mudanças na base de treino\n",
        " * pode levar a overfitting"
      ]
    },
    {
      "cell_type": "markdown",
      "metadata": {
        "id": "m2AH2iR7zVOY"
      },
      "source": [
        "## Generic classifier with train-test split"
      ]
    },
    {
      "cell_type": "code",
      "metadata": {
        "id": "mWoOs0VfzVOb",
        "colab": {
          "base_uri": "https://localhost:8080/"
        },
        "outputId": "e5e3a85e-1d88-4ad9-acde-3a7c6af945e5"
      },
      "source": [
        "# load dataset\n",
        "import pandas as pd\n",
        "import numpy as np\n",
        "\n",
        "np.random.seed(0)\n",
        "\n",
        "# utils\n",
        "# Flatten a list or tuple inside a list or tuple\n",
        "flatten = lambda *n: (e for a in n\n",
        "        for e in (flatten(*a) if isinstance(a, (tuple, list)) else (a,)))\n",
        "\n",
        "def lst_from_dct_values(dct):\n",
        "    lst = list(dct.values())\n",
        "    lst = list(flatten(lst))\n",
        "    return lst\n",
        "\n",
        "def pre_process_impute_mean_on_negative_values(df,col=\"age\"):\n",
        "    # imput mean values rowwise on inconsistent values\n",
        "    # identify inconsistent values\n",
        "    mask = df[col]<0\n",
        "    idx = df.loc[mask].index\n",
        "    # compute mean without inconsistent values\n",
        "    mean = df[col].loc[~mask].mean()\n",
        "    # imput mean values rowwise on inconsistent values\n",
        "    df.loc[mask,col] = mean\n",
        "    pass\n",
        "\n",
        "lst_filename = [\"credit_data\", \"census\"]\n",
        "filename = \"credit_data\"\n",
        "# filename = \"census\"\n",
        "\n",
        "\n",
        "print(\"Dataset:\",filename)\n",
        "\n",
        "# Set parameters\n",
        "lst_clf = [\"Naive Bayes\", \"Decision Tree\", \"Random Forest\", 'knn']\n",
        "# chosen_clf = \"Naive Bayes\"\n",
        "# chosen_clf = \"Decision Tree\"\n",
        "# chosen_clf = \"Random Forest\"\n",
        "chosen_clf = \"knn\"\n",
        "chosen_clf = \"Logistic Regression\"\n",
        "# chosen_clf = \"SVM\"\n",
        "# chosen_clf = \"NN\"\n",
        "# chosen_clf= 'Keras'\n",
        "\n",
        "if filename == \"credit_data\":\n",
        "    dct_preprocess = {\n",
        "        \"imputer\":True,\n",
        "        \"scaler\": 'standardization',  # False,  #  'normalization',  # \n",
        "        \"label_encoder_features\":False,\n",
        "        \"one_hot_encoder_features\":False,\n",
        "        \"label_encoder_target\":False\n",
        "        }\n",
        "\n",
        "if filename == \"census\":\n",
        "    dct_preprocess = {\n",
        "        \"imputer\":False,\n",
        "        \"scaler\":'standardization',  # False, # 'normalization',  # \n",
        "        \"label_encoder_features\":True,\n",
        "        \"one_hot_encoder_features\":True,\n",
        "        \"label_encoder_target\":True\n",
        "        }\n",
        "\n",
        "pref = \"https://raw.githubusercontent.com/viniciusriosfuck/ML_DS_A_Z/main/data/\" \n",
        "df = pd.read_csv(pref+filename+'.csv')\n",
        "\n",
        "# Features and target selection\n",
        "X = df.iloc[:,:-1].values\n",
        "y = df.iloc[:,-1].values\n",
        "\n",
        "# Dataset specific pre_process\n",
        "if filename == \"credit_data\":\n",
        "    dct_names = {\"id\": \"clientid\",\n",
        "                    \"features\": [\"income\", \"age\", \"loan\"],\n",
        "                    \"target\": \"default\"}\n",
        "    df.columns = lst_from_dct_values(dct_names)\n",
        "    pre_process_impute_mean_on_negative_values(df,col=\"age\")\n",
        "\n",
        "    # Drop id and target\n",
        "    X = df.loc[:,dct_names[\"features\"]].values\n",
        "\n",
        "# Help lst\n",
        "# identify columns with string data\n",
        "lst_col_str = [col for col in df.columns if df[col].dtypes==\"object\"]\n",
        "# remove target name\n",
        "try:\n",
        "    lst_col_str.pop(-1)\n",
        "except:\n",
        "    print(\"only numeric data\\n\")\n",
        "# get index from categorical features\n",
        "lst_idx_col_str = [df.columns.get_loc(col_name) for col_name in lst_col_str]\n",
        "\n",
        "# All features, desconsider target name\n",
        "lst_feature_idx_to_label_encoder = range(len(df.columns)-1)\n",
        "if filename == \"census\":\n",
        "    lst_feature_idx_to_label_encoder = lst_idx_col_str \n",
        "    pass\n",
        "\n",
        "# General pre_process\n",
        "\n",
        "# Encoding\n",
        "if dct_preprocess[\"label_encoder_features\"]:\n",
        "    from sklearn.preprocessing import LabelEncoder\n",
        "    labelencoder = LabelEncoder()\n",
        "    dct_label_encoder = {}\n",
        "    for idx in lst_feature_idx_to_label_encoder:\n",
        "        X[:,idx] = labelencoder.fit_transform(X[:,idx])\n",
        "        dct_label = {}\n",
        "        for jj, label in enumerate(labelencoder.classes_):\n",
        "            dct_label[label] =  jj\n",
        "        dct_label_encoder[df.columns[idx]] = dct_label\n",
        "\n",
        "if dct_preprocess[\"one_hot_encoder_features\"]:\n",
        "    from sklearn.preprocessing import OneHotEncoder\n",
        "    from sklearn.compose import ColumnTransformer\n",
        "    onehotencorder = ColumnTransformer(\n",
        "        transformers=[\n",
        "            (\"OneHot\", OneHotEncoder(), lst_feature_idx_to_label_encoder)\n",
        "            ]\n",
        "        , remainder='passthrough'\n",
        "        )\n",
        "    X = onehotencorder.fit_transform(X).toarray()\n",
        "\n",
        "if dct_preprocess[\"label_encoder_target\"]:\n",
        "    labelencorder = LabelEncoder()\n",
        "    y = labelencorder.fit_transform(y)\n",
        "\n",
        "if dct_preprocess[\"imputer\"]:\n",
        "    from sklearn.impute import SimpleImputer\n",
        "    # imput mean values on missing values\n",
        "    imputer = SimpleImputer(\n",
        "        missing_values=np.nan\n",
        "        , strategy=\"mean\"\n",
        "    )\n",
        "    imputer = imputer.fit(X[:,:])\n",
        "    X[:,:] = imputer.transform(X[:,:])\n",
        "\n",
        "if dct_preprocess[\"scaler\"]:\n",
        "    # perde interpretação\n",
        "    # nao faz muito sentido junto com o one_hot_encoder   \n",
        "    if dct_preprocess[\"scaler\"] == 'standardization':\n",
        "        # Standardization\n",
        "        from sklearn.preprocessing import StandardScaler   \n",
        "        scaler = StandardScaler()\n",
        "        X = scaler.fit_transform(X)\n",
        "    \n",
        "    if dct_preprocess[\"scaler\"] == 'normalization':\n",
        "        # Normalization\n",
        "        from sklearn.preprocessing import MinMaxScaler\n",
        "        scaler = MinMaxScaler()\n",
        "        X = scaler.fit_transform(X)\n",
        "\n",
        "# Train-test split\n",
        "from sklearn.model_selection import train_test_split\n",
        "X_train, X_test, y_train, y_test = train_test_split(\n",
        "    X\n",
        "    , y\n",
        "    , test_size=0.15\n",
        "    #, random_state=0  # global np.random.seed(0)\n",
        ")\n",
        "\n",
        "# Classifier\n",
        "if chosen_clf == \"Naive Bayes\":\n",
        "    from sklearn.naive_bayes import GaussianNB\n",
        "    clf = GaussianNB()\n",
        "\n",
        "if chosen_clf == \"Decision Tree\":\n",
        "    # decision tree doesn't deal with categorical data\n",
        "    from sklearn.tree import (\n",
        "        DecisionTreeClassifier, export_graphviz, plot_tree, export_text\n",
        "    )\n",
        "    clf = DecisionTreeClassifier(\n",
        "        criterion='entropy'  # \"entropy\", default: \"gini\"\n",
        "        , splitter=\"best\"  # \"random\", default: \"best\"\n",
        "        , max_depth=None  # : int, default=None\n",
        "        , min_samples_split=2 # : int or float, default=2\n",
        "        , min_samples_leaf=1 # : int or float, default=1\n",
        "        , max_leaf_nodes=None # : int, default=None\n",
        "        , min_weight_fraction_leaf=0.0 # : float, default=0.0\n",
        "        , max_features=None # int, float or {\"auto\",\"sqrt\",\"log2\"}, default=None\n",
        "        #, random_state=0\n",
        "        )\n",
        "\n",
        "if chosen_clf == \"Random Forest\":\n",
        "    from sklearn.ensemble import RandomForestClassifier\n",
        "    clf = RandomForestClassifier(\n",
        "        n_estimators=40 # int (default=100)\n",
        "        , criterion=\"entropy\" # str (default=\"gini\") \"entropy\"\n",
        "        , max_depth=None # int or None (default=None)\n",
        "        , min_samples_split=2 # int, float (default=2)\n",
        "        , min_samples_leaf=1 # int, float (default=1)\n",
        "        , min_weight_fraction_leaf=0. # float (default=0.)\n",
        "        , max_features=\"auto\" # int, float, string or None (default=\"auto\")\n",
        "        , min_impurity_decrease=0. # float (default=0.)\n",
        "        , bootstrap=True # bool (default=True)\n",
        "        , oob_score=False # bool (default=False) # out of bag\n",
        "        , n_jobs=None # int or None (default=None) -1: all processors\n",
        "        , warm_start=False # bool (default=False)\n",
        "        , max_samples=None # int or float default=None\n",
        "        )\n",
        "\n",
        "if chosen_clf == \"knn\":\n",
        "    from sklearn.neighbors import KNeighborsClassifier\n",
        "    clf = KNeighborsClassifier(\n",
        "        n_neighbors=5  # int, default=5\n",
        "        #, weights = 'distance'  # str, default='uniform'\n",
        "        # , algorithm = 'auto' # {'auto', 'ball_tree', 'kd_tree', 'brute'}\n",
        "        # , metric='minkowski'  # default='minkowski' and p=2:Euclidean distance\n",
        "        # , p = 2  # int, default=2\n",
        "        # , n_jobs=-1 # int, default=None, -1: all processors\n",
        "        )\n",
        "\n",
        "if chosen_clf == \"Logistic Regression\":\n",
        "    from sklearn.linear_model import LogisticRegression\n",
        "    clf = LogisticRegression(\n",
        "        # penalty= None # {'l1', 'l2', 'elasticnet', 'none'}, default='l2'\n",
        "        # , tol = 1e-6 # float, default=1e-4\n",
        "        # , solver = 'newton-cg' # {'newton-cg', 'lbfgs', 'liblinear', 'sag', 'saga'}, default='lbfgs'\n",
        "        # , max_iter = 200 # int, default=100\n",
        "        # , n_jobs = -1 # int, default=None\n",
        "        )\n",
        "\n",
        "if chosen_clf == \"SVM\":\n",
        "    from sklearn.svm import SVC\n",
        "    clf = SVC(\n",
        "        # C = 2.0,  # float (default=1.0)\n",
        "        kernel = 'linear',  # string (default='rbf'), 'linear', 'poly', 'sigmoid', 'precomputed'\n",
        "        # max_iter = 100, # int, optional (default=-1)\n",
        "        # tol = 1e-6, # : float, optional (default=1e-3)\n",
        "        )\n",
        "\n",
        "if chosen_clf == \"NN\":\n",
        "    from sklearn.neural_network import MLPClassifier\n",
        "    # Multilayer Perceptron\n",
        "    clf = MLPClassifier(\n",
        "        verbose = True,\n",
        "        max_iter=1000,  # int, default=200\n",
        "        tol = 0.0000010,  # float, default=1e-4\n",
        "        solver = 'adam', # {'lbfgs', 'sgd', 'adam'}, default='adam'\n",
        "        hidden_layer_sizes=(100),  # tuple, length = n_layers - 2, default=(100,)  # (100,50) :2 oculstas, 1s 100 neurons, 2nd 50 neurons\n",
        "        activation='relu' # {'identity', 'logistic', 'tanh', 'relu'}, default='relu'\n",
        "        #alpha : float, default=0.0001    # L2 penalty\n",
        "        # batch_size =  100, #: int, default='auto'\n",
        "        # learning_rate = 'adaptive', #{'constant', 'invscaling', 'adaptive'}, default='constant'\n",
        "        #learning_rate_init : double, default=0.001\n",
        "        #power_t : double, default=0.5\n",
        "        #shuffle : bool, default=True  # 'sgd', 'adam'\n",
        "        #momentum =0.9, # : float, default=0.9  # 'sgd'\n",
        "        #n_iter_no_change = 20 #: int, default=10\n",
        "        )\n",
        "\n",
        "if chosen_clf == \"Keras\":\n",
        "    # !pip install tensorflow\n",
        "    # !pip install keras\n",
        "    from keras.models import Sequential\n",
        "    from keras.layers import Dense\n",
        "    clf = Sequential()\n",
        "    if filename == \"credit_data\":\n",
        "        clf.add(Dense(units=2, activation='relu', input_dim=3))\n",
        "        clf.add(Dense(units=2, activation='relu'))\n",
        "    if filename == \"census\":\n",
        "        # 55 = (108 + 1)/2\n",
        "        clf.add(Dense(units=55, activation='relu', input_dim=108))\n",
        "        clf.add(Dense(units=55, activation='relu'))\n",
        "    \n",
        "    clf.add(Dense(units=1, activation='sigmoid'))\n",
        "    clf.compile(optimizer='adam', \n",
        "                loss='binary_crossentropy', \n",
        "                metrics=['accuracy'])\n",
        "    clf.fit(X_train, y_train, batch_size=10, epochs=100)\n",
        "else:   \n",
        "    # Train\n",
        "    clf.fit(X_train, y_train)\n",
        "    print(\"Classes:\", clf.classes_)\n",
        "\n",
        "# Predict\n",
        "y_pred = clf.predict(X_test)\n",
        "\n",
        "print(\"Classifier:\", chosen_clf)\n",
        "\n",
        "if chosen_clf == \"Keras\":\n",
        "    y_pred = (y_pred > 0.5)\n",
        "\n",
        "\n",
        "# Evaluation\n",
        "from sklearn.metrics import confusion_matrix, accuracy_score\n",
        "score = accuracy_score(y_test, y_pred)\n",
        "confusion_matrix = confusion_matrix(y_test, y_pred)\n",
        "\n",
        "print(\"\\nConfusion matrix\\n\",confusion_matrix)\n",
        "print(\"\\nAccuracy:\", f'{score:.3f}')\n",
        "\n",
        "\n",
        "if chosen_clf == \"NN\":\n",
        "    print(clf.out_activation_)\n",
        "\n",
        "\n",
        "if chosen_clf == \"Decision Tree\":\n",
        "    if filename == \"credit_data\":\n",
        "        print(\"\\nFeature importances:\",clf.feature_importances_)\n",
        "        r = export_text(clf, feature_names=dct_names[\"features\"])\n",
        "        print(r)\n",
        "        import graphviz \n",
        "        dot_data = export_graphviz(\n",
        "            clf,\n",
        "            out_file=None,\n",
        "            feature_names=dct_names[\"features\"],\n",
        "            #    class_names=clf.classes_,\n",
        "            filled=True,\n",
        "            leaves_parallel=True,\n",
        "            rounded=True,  \n",
        "            special_characters=True\n",
        "            )\n",
        "        graph = graphviz.Source(dot_data) \n",
        "        \n",
        "    pass"
      ],
      "execution_count": 247,
      "outputs": [
        {
          "output_type": "stream",
          "text": [
            "Dataset: credit_data\n",
            "only numeric data\n",
            "\n",
            "Classes: [0 1]\n",
            "Classifier: Logistic Regression\n",
            "\n",
            "Confusion matrix\n",
            " [[252   8]\n",
            " [  6  34]]\n",
            "\n",
            "Accuracy: 0.953\n"
          ],
          "name": "stdout"
        }
      ]
    },
    {
      "cell_type": "code",
      "metadata": {
        "colab": {
          "base_uri": "https://localhost:8080/"
        },
        "id": "TBEnMZe5ws2H",
        "outputId": "b90416e7-4b02-4994-a8ef-eae8586aa09f"
      },
      "source": [
        "!pip install tensorflow\r\n",
        "!pip install keras"
      ],
      "execution_count": 233,
      "outputs": [
        {
          "output_type": "stream",
          "text": [
            "Requirement already satisfied: tensorflow in /usr/local/lib/python3.6/dist-packages (2.4.0)\n",
            "Requirement already satisfied: wrapt~=1.12.1 in /usr/local/lib/python3.6/dist-packages (from tensorflow) (1.12.1)\n",
            "Requirement already satisfied: opt-einsum~=3.3.0 in /usr/local/lib/python3.6/dist-packages (from tensorflow) (3.3.0)\n",
            "Requirement already satisfied: gast==0.3.3 in /usr/local/lib/python3.6/dist-packages (from tensorflow) (0.3.3)\n",
            "Requirement already satisfied: astunparse~=1.6.3 in /usr/local/lib/python3.6/dist-packages (from tensorflow) (1.6.3)\n",
            "Requirement already satisfied: keras-preprocessing~=1.1.2 in /usr/local/lib/python3.6/dist-packages (from tensorflow) (1.1.2)\n",
            "Requirement already satisfied: wheel~=0.35 in /usr/local/lib/python3.6/dist-packages (from tensorflow) (0.36.2)\n",
            "Requirement already satisfied: protobuf>=3.9.2 in /usr/local/lib/python3.6/dist-packages (from tensorflow) (3.12.4)\n",
            "Requirement already satisfied: flatbuffers~=1.12.0 in /usr/local/lib/python3.6/dist-packages (from tensorflow) (1.12)\n",
            "Requirement already satisfied: absl-py~=0.10 in /usr/local/lib/python3.6/dist-packages (from tensorflow) (0.10.0)\n",
            "Requirement already satisfied: google-pasta~=0.2 in /usr/local/lib/python3.6/dist-packages (from tensorflow) (0.2.0)\n",
            "Requirement already satisfied: numpy~=1.19.2 in /usr/local/lib/python3.6/dist-packages (from tensorflow) (1.19.4)\n",
            "Requirement already satisfied: termcolor~=1.1.0 in /usr/local/lib/python3.6/dist-packages (from tensorflow) (1.1.0)\n",
            "Requirement already satisfied: typing-extensions~=3.7.4 in /usr/local/lib/python3.6/dist-packages (from tensorflow) (3.7.4.3)\n",
            "Requirement already satisfied: h5py~=2.10.0 in /usr/local/lib/python3.6/dist-packages (from tensorflow) (2.10.0)\n",
            "Requirement already satisfied: six~=1.15.0 in /usr/local/lib/python3.6/dist-packages (from tensorflow) (1.15.0)\n",
            "Requirement already satisfied: tensorboard~=2.4 in /usr/local/lib/python3.6/dist-packages (from tensorflow) (2.4.0)\n",
            "Requirement already satisfied: grpcio~=1.32.0 in /usr/local/lib/python3.6/dist-packages (from tensorflow) (1.32.0)\n",
            "Requirement already satisfied: tensorflow-estimator<2.5.0,>=2.4.0rc0 in /usr/local/lib/python3.6/dist-packages (from tensorflow) (2.4.0)\n",
            "Requirement already satisfied: setuptools in /usr/local/lib/python3.6/dist-packages (from protobuf>=3.9.2->tensorflow) (51.1.1)\n",
            "Requirement already satisfied: werkzeug>=0.11.15 in /usr/local/lib/python3.6/dist-packages (from tensorboard~=2.4->tensorflow) (1.0.1)\n",
            "Requirement already satisfied: google-auth<2,>=1.6.3 in /usr/local/lib/python3.6/dist-packages (from tensorboard~=2.4->tensorflow) (1.17.2)\n",
            "Requirement already satisfied: google-auth-oauthlib<0.5,>=0.4.1 in /usr/local/lib/python3.6/dist-packages (from tensorboard~=2.4->tensorflow) (0.4.2)\n",
            "Requirement already satisfied: requests<3,>=2.21.0 in /usr/local/lib/python3.6/dist-packages (from tensorboard~=2.4->tensorflow) (2.23.0)\n",
            "Requirement already satisfied: markdown>=2.6.8 in /usr/local/lib/python3.6/dist-packages (from tensorboard~=2.4->tensorflow) (3.3.3)\n",
            "Requirement already satisfied: tensorboard-plugin-wit>=1.6.0 in /usr/local/lib/python3.6/dist-packages (from tensorboard~=2.4->tensorflow) (1.7.0)\n",
            "Requirement already satisfied: pyasn1-modules>=0.2.1 in /usr/local/lib/python3.6/dist-packages (from google-auth<2,>=1.6.3->tensorboard~=2.4->tensorflow) (0.2.8)\n",
            "Requirement already satisfied: cachetools<5.0,>=2.0.0 in /usr/local/lib/python3.6/dist-packages (from google-auth<2,>=1.6.3->tensorboard~=2.4->tensorflow) (4.2.0)\n",
            "Requirement already satisfied: rsa<5,>=3.1.4; python_version >= \"3\" in /usr/local/lib/python3.6/dist-packages (from google-auth<2,>=1.6.3->tensorboard~=2.4->tensorflow) (4.6)\n",
            "Requirement already satisfied: requests-oauthlib>=0.7.0 in /usr/local/lib/python3.6/dist-packages (from google-auth-oauthlib<0.5,>=0.4.1->tensorboard~=2.4->tensorflow) (1.3.0)\n",
            "Requirement already satisfied: idna<3,>=2.5 in /usr/local/lib/python3.6/dist-packages (from requests<3,>=2.21.0->tensorboard~=2.4->tensorflow) (2.10)\n",
            "Requirement already satisfied: urllib3!=1.25.0,!=1.25.1,<1.26,>=1.21.1 in /usr/local/lib/python3.6/dist-packages (from requests<3,>=2.21.0->tensorboard~=2.4->tensorflow) (1.24.3)\n",
            "Requirement already satisfied: chardet<4,>=3.0.2 in /usr/local/lib/python3.6/dist-packages (from requests<3,>=2.21.0->tensorboard~=2.4->tensorflow) (3.0.4)\n",
            "Requirement already satisfied: certifi>=2017.4.17 in /usr/local/lib/python3.6/dist-packages (from requests<3,>=2.21.0->tensorboard~=2.4->tensorflow) (2020.12.5)\n",
            "Requirement already satisfied: importlib-metadata; python_version < \"3.8\" in /usr/local/lib/python3.6/dist-packages (from markdown>=2.6.8->tensorboard~=2.4->tensorflow) (3.3.0)\n",
            "Requirement already satisfied: pyasn1<0.5.0,>=0.4.6 in /usr/local/lib/python3.6/dist-packages (from pyasn1-modules>=0.2.1->google-auth<2,>=1.6.3->tensorboard~=2.4->tensorflow) (0.4.8)\n",
            "Requirement already satisfied: oauthlib>=3.0.0 in /usr/local/lib/python3.6/dist-packages (from requests-oauthlib>=0.7.0->google-auth-oauthlib<0.5,>=0.4.1->tensorboard~=2.4->tensorflow) (3.1.0)\n",
            "Requirement already satisfied: zipp>=0.5 in /usr/local/lib/python3.6/dist-packages (from importlib-metadata; python_version < \"3.8\"->markdown>=2.6.8->tensorboard~=2.4->tensorflow) (3.4.0)\n"
          ],
          "name": "stdout"
        }
      ]
    },
    {
      "cell_type": "code",
      "metadata": {
        "colab": {
          "base_uri": "https://localhost:8080/"
        },
        "id": "uIv19PG2tnzR",
        "outputId": "81b91d4d-4a45-453a-8691-6aa8f379e7b6"
      },
      "source": [
        "!pip install keras"
      ],
      "execution_count": 234,
      "outputs": [
        {
          "output_type": "stream",
          "text": [
            "Requirement already satisfied: keras in /usr/local/lib/python3.6/dist-packages (2.4.3)\n",
            "Requirement already satisfied: numpy>=1.9.1 in /usr/local/lib/python3.6/dist-packages (from keras) (1.19.4)\n",
            "Requirement already satisfied: h5py in /usr/local/lib/python3.6/dist-packages (from keras) (2.10.0)\n",
            "Requirement already satisfied: scipy>=0.14 in /usr/local/lib/python3.6/dist-packages (from keras) (1.4.1)\n",
            "Requirement already satisfied: pyyaml in /usr/local/lib/python3.6/dist-packages (from keras) (3.13)\n",
            "Requirement already satisfied: six in /usr/local/lib/python3.6/dist-packages (from h5py->keras) (1.15.0)\n"
          ],
          "name": "stdout"
        }
      ]
    },
    {
      "cell_type": "markdown",
      "metadata": {
        "id": "30FO3JJFvbfo"
      },
      "source": [
        "## Generic classifier without train-test split"
      ]
    },
    {
      "cell_type": "code",
      "metadata": {
        "colab": {
          "base_uri": "https://localhost:8080/"
        },
        "id": "_3s-nuFCuyoY",
        "outputId": "8f2cb9aa-e9d8-4d5e-e095-07f8299f2249"
      },
      "source": [
        "import pandas as pd\r\n",
        "\r\n",
        "\r\n",
        "filename = \"risco_credito\"\r\n",
        "target_type = \"binary\"\r\n",
        "chosen_clf = \"Logistic Regression\"\r\n",
        "\r\n",
        "df = pd.read_csv(filename+\".csv\")\r\n",
        "# create lists\r\n",
        "lst_features = list(df.columns[:-1])\r\n",
        "lst_col = lst_features[:]\r\n",
        "\r\n",
        "# Dataset specific pre_process\r\n",
        "if filename == \"risco_credito\":\r\n",
        "    # Fix col name\r\n",
        "    target = 'risco'\r\n",
        "    lst_col.append(target)\r\n",
        "    df.columns = lst_col\r\n",
        "    if target_type == 'binary':\r\n",
        "        df = df.loc[df['risco'] != 'moderado'].reset_index(drop=True)\r\n",
        "\r\n",
        "X = df.iloc[:,:-1].copy().values\r\n",
        "y = df.iloc[:,-1].values\r\n",
        "\r\n",
        "def pp_json(json_thing, sort=True, indents=4):\r\n",
        "    if type(json_thing) is str:\r\n",
        "        print(json.dumps(json.loads(json_thing)\r\n",
        "                , sort_keys=sort\r\n",
        "                , indent=indents))\r\n",
        "    else:\r\n",
        "        print(json.dumps(json_thing\r\n",
        "                         , sort_keys=sort\r\n",
        "                         , indent=indents))\r\n",
        "    return None\r\n",
        "\r\n",
        "def label_encoder(df,X):\r\n",
        "    from sklearn.preprocessing import LabelEncoder\r\n",
        "    labelencoder = LabelEncoder()\r\n",
        "    dct_label_encoder = {}\r\n",
        "    for idx in range(len(df.columns)-1):\r\n",
        "        X[:,idx] = labelencoder.fit_transform(X[:,idx])\r\n",
        "        dct_label = {}\r\n",
        "        for jj, label in enumerate(labelencoder.classes_):\r\n",
        "            dct_label[label] =  jj\r\n",
        "        dct_label_encoder[df.columns[idx]] = dct_label\r\n",
        "    print(\"Label encoder dict\")\r\n",
        "    pp_json(dct_label_encoder)\r\n",
        "\r\n",
        "    return dct_label_encoder\r\n",
        "\r\n",
        "dct_label_encoder = label_encoder(df, X)\r\n",
        "\r\n",
        "if chosen_clf == \"Logistic Regression\":\r\n",
        "    from sklearn.linear_model import LogisticRegression\r\n",
        "    clf = LogisticRegression(\r\n",
        "        # penalty= None # {'l1', 'l2', 'elasticnet', 'none'}, default='l2'\r\n",
        "        # , tol = 1e-6 # float, default=1e-4\r\n",
        "        # , solver = 'newton-cg' # {'newton-cg', 'lbfgs', 'liblinear', 'sag', 'saga'}, default='lbfgs'\r\n",
        "        # , max_iter = 200 # int, default=100\r\n",
        "        # , n_jobs = -1 # int, default=None\r\n",
        "        )\r\n",
        "\r\n",
        "clf.fit(X, y)\r\n",
        "\r\n",
        "if chosen_clf == \"Logistic Regression\":\r\n",
        "    print(f\"intercept:{clf.intercept_}\")\r\n",
        "    print(f\"coef:{clf.coef_}\")\r\n",
        "\r\n",
        "test0_raw = {\r\n",
        "    \"historia\": \"boa\",\r\n",
        "    \"divida\": \"alta\",\r\n",
        "    \"garantias\": \"nenhuma\",\r\n",
        "    \"renda\": \"acima_35\"\r\n",
        "}\r\n",
        "# test0 = [0, 0, 1, 2]\r\n",
        "\r\n",
        "test1_raw = {\r\n",
        "    \"historia\": \"ruim\",\r\n",
        "    \"divida\": \"alta\",\r\n",
        "    \"garantias\": \"adequada\",\r\n",
        "    \"renda\": \"0_15\"\r\n",
        "}\r\n",
        "# test1 = [2, 0, 0, 0]\r\n",
        "\r\n",
        "def encoded_entry(entry_raw, dct_label_encoder=dct_label_encoder):\r\n",
        "    return [dct_label_encoder[k][v] for k,v in entry_raw.items()]\r\n",
        "\r\n",
        "if chosen_clf == \"Logistic Regression\":\r\n",
        "    lst_raw = [test0_raw, test1_raw]\r\n",
        "    lst_encoded_test = [encoded_entry(x) for x in lst_raw]\r\n",
        "    for item in lst_raw:\r\n",
        "        print(item)\r\n",
        "    print(f\"{target}={clf.predict(lst_encoded_test)}\")\r\n",
        "    np.set_printoptions(formatter={'float': \"\\t{: .2f}\\t\".format})\r\n",
        "    print(f\"prob={clf.predict_proba(lst_encoded_test)}\")\r\n",
        "    np.set_printoptions()  # reset   \r\n"
      ],
      "execution_count": 5,
      "outputs": [
        {
          "output_type": "stream",
          "text": [
            "Label encoder dict\n",
            "{\n",
            "    \"divida\": {\n",
            "        \"alta\": 0,\n",
            "        \"baixa\": 1\n",
            "    },\n",
            "    \"garantias\": {\n",
            "        \"adequada\": 0,\n",
            "        \"nenhuma\": 1\n",
            "    },\n",
            "    \"historia\": {\n",
            "        \"boa\": 0,\n",
            "        \"desconhecida\": 1,\n",
            "        \"ruim\": 2\n",
            "    },\n",
            "    \"renda\": {\n",
            "        \"0_15\": 0,\n",
            "        \"15_35\": 1,\n",
            "        \"acima_35\": 2\n",
            "    }\n",
            "}\n",
            "intercept:[-0.80828993]\n",
            "coef:[[-0.76704533  0.23906678 -0.47976059  1.12186218]]\n",
            "{'historia': 'boa', 'divida': 'alta', 'garantias': 'nenhuma', 'renda': 'acima_35'}\n",
            "{'historia': 'ruim', 'divida': 'alta', 'garantias': 'adequada', 'renda': '0_15'}\n",
            "risco=['baixo' 'alto']\n",
            "prob=[[\t 0.28\t \t 0.72\t]\n",
            " [\t 0.91\t \t 0.09\t]]\n"
          ],
          "name": "stdout"
        }
      ]
    },
    {
      "cell_type": "markdown",
      "metadata": {
        "id": "ixhNu_yCAORJ"
      },
      "source": [
        "## Pré-processamento e preparação de bases de dados para classificação\n",
        "1. Bases\n",
        " * Dados de crédito\n",
        " * Censo (adult Data Set from UCI)\n",
        "1. Carregar bases\n",
        "1. Valores inconsistentes\n",
        "1. Valores faltantes\n",
        "1. Escalonamento de atributos\n",
        "1. Transformação de variáveis categóricas\n",
        "1. Introdução à avaliação de algoritmos\n",
        "1. Pandas\n"
      ]
    },
    {
      "cell_type": "markdown",
      "metadata": {
        "id": "DhDG3nHLAsW9"
      },
      "source": [
        "### Tipos de variáveis\n",
        "1. Numéricas\n",
        "    1. Contínua (float)\n",
        "    1. Discreta (int)\n",
        "1. Categóricas (str)\n",
        " 1. Nominal (não mensurável, sem ordem)\n",
        " 1. Ordinal (tamanho: P,M,G)\n",
        "\n",
        "* regras de associação não trabalham com dados numéricos"
      ]
    },
    {
      "cell_type": "markdown",
      "metadata": {
        "id": "6ZC0UsmJBSeO"
      },
      "source": [
        "credit_date.csv\n",
        "* features\n",
        " 1. clientid: int (categórica nominal)\n",
        " 1. income: float (renda anual, numérica contínua)\n",
        " 1. age: float (numérica contínua)\n",
        " 1. loan: boolean (empréstimo solicitado, numérica discreta)\n",
        "* target\n",
        " 1. default: 0,1 (pagou: 1, 0: nao)\n",
        "\n",
        "2000 registros, 4 features, 1 target"
      ]
    },
    {
      "cell_type": "code",
      "metadata": {
        "id": "87iTEcQF68ot",
        "colab": {
          "base_uri": "https://localhost:8080/",
          "height": 0
        },
        "outputId": "b078c83b-7b19-48e3-c462-e11798ca723a"
      },
      "source": [
        "# load dataset\n",
        "import pandas as pd\n",
        "filename = \"credit_data.csv\"\n",
        "df = pd.read_csv(filename)\n",
        "df.describe()\n"
      ],
      "execution_count": 6,
      "outputs": [
        {
          "output_type": "execute_result",
          "data": {
            "text/html": [
              "<div>\n",
              "<style scoped>\n",
              "    .dataframe tbody tr th:only-of-type {\n",
              "        vertical-align: middle;\n",
              "    }\n",
              "\n",
              "    .dataframe tbody tr th {\n",
              "        vertical-align: top;\n",
              "    }\n",
              "\n",
              "    .dataframe thead th {\n",
              "        text-align: right;\n",
              "    }\n",
              "</style>\n",
              "<table border=\"1\" class=\"dataframe\">\n",
              "  <thead>\n",
              "    <tr style=\"text-align: right;\">\n",
              "      <th></th>\n",
              "      <th>i#clientid</th>\n",
              "      <th>income</th>\n",
              "      <th>age</th>\n",
              "      <th>loan</th>\n",
              "      <th>c#default</th>\n",
              "    </tr>\n",
              "  </thead>\n",
              "  <tbody>\n",
              "    <tr>\n",
              "      <th>count</th>\n",
              "      <td>2000.000000</td>\n",
              "      <td>2000.000000</td>\n",
              "      <td>1997.000000</td>\n",
              "      <td>2000.000000</td>\n",
              "      <td>2000.000000</td>\n",
              "    </tr>\n",
              "    <tr>\n",
              "      <th>mean</th>\n",
              "      <td>1000.500000</td>\n",
              "      <td>45331.600018</td>\n",
              "      <td>40.807559</td>\n",
              "      <td>4444.369695</td>\n",
              "      <td>0.141500</td>\n",
              "    </tr>\n",
              "    <tr>\n",
              "      <th>std</th>\n",
              "      <td>577.494589</td>\n",
              "      <td>14326.327119</td>\n",
              "      <td>13.624469</td>\n",
              "      <td>3045.410024</td>\n",
              "      <td>0.348624</td>\n",
              "    </tr>\n",
              "    <tr>\n",
              "      <th>min</th>\n",
              "      <td>1.000000</td>\n",
              "      <td>20014.489470</td>\n",
              "      <td>-52.423280</td>\n",
              "      <td>1.377630</td>\n",
              "      <td>0.000000</td>\n",
              "    </tr>\n",
              "    <tr>\n",
              "      <th>25%</th>\n",
              "      <td>500.750000</td>\n",
              "      <td>32796.459717</td>\n",
              "      <td>28.990415</td>\n",
              "      <td>1939.708847</td>\n",
              "      <td>0.000000</td>\n",
              "    </tr>\n",
              "    <tr>\n",
              "      <th>50%</th>\n",
              "      <td>1000.500000</td>\n",
              "      <td>45789.117313</td>\n",
              "      <td>41.317159</td>\n",
              "      <td>3974.719419</td>\n",
              "      <td>0.000000</td>\n",
              "    </tr>\n",
              "    <tr>\n",
              "      <th>75%</th>\n",
              "      <td>1500.250000</td>\n",
              "      <td>57791.281668</td>\n",
              "      <td>52.587040</td>\n",
              "      <td>6432.410625</td>\n",
              "      <td>0.000000</td>\n",
              "    </tr>\n",
              "    <tr>\n",
              "      <th>max</th>\n",
              "      <td>2000.000000</td>\n",
              "      <td>69995.685578</td>\n",
              "      <td>63.971796</td>\n",
              "      <td>13766.051239</td>\n",
              "      <td>1.000000</td>\n",
              "    </tr>\n",
              "  </tbody>\n",
              "</table>\n",
              "</div>"
            ],
            "text/plain": [
              "        i#clientid        income          age          loan    c#default\n",
              "count  2000.000000   2000.000000  1997.000000   2000.000000  2000.000000\n",
              "mean   1000.500000  45331.600018    40.807559   4444.369695     0.141500\n",
              "std     577.494589  14326.327119    13.624469   3045.410024     0.348624\n",
              "min       1.000000  20014.489470   -52.423280      1.377630     0.000000\n",
              "25%     500.750000  32796.459717    28.990415   1939.708847     0.000000\n",
              "50%    1000.500000  45789.117313    41.317159   3974.719419     0.000000\n",
              "75%    1500.250000  57791.281668    52.587040   6432.410625     0.000000\n",
              "max    2000.000000  69995.685578    63.971796  13766.051239     1.000000"
            ]
          },
          "metadata": {
            "tags": []
          },
          "execution_count": 6
        }
      ]
    },
    {
      "cell_type": "code",
      "metadata": {
        "id": "Qi9Lq6RPKRXk"
      },
      "source": [
        "dct_names = {\"id\": \"clientid\",\n",
        "             \"features\": [\"income\", \"age\", \"loan\"],\n",
        "             \"target\": \"default\"}\n",
        "lst_columns = list(dct_names.values())\n",
        "\n",
        "flatten = lambda *n: (e for a in n\n",
        "    for e in (flatten(*a) if isinstance(a, (tuple, list)) else (a,)))\n",
        "\n",
        "lst_columns = list(flatten(lst_columns))\n",
        "\n",
        "df.columns=lst_columns\n",
        "\n",
        "X = df.loc[:,dct_names[\"features\"]].values\n",
        "\n",
        "y = df.loc[:,dct_names[\"target\"]].values"
      ],
      "execution_count": 7,
      "outputs": []
    },
    {
      "cell_type": "markdown",
      "metadata": {
        "id": "z5RgEUpVU6kU"
      },
      "source": [
        "### Imputação"
      ]
    },
    {
      "cell_type": "markdown",
      "metadata": {
        "id": "r4tJMkgvU-zp"
      },
      "source": [
        "#### Inconsistente"
      ]
    },
    {
      "cell_type": "code",
      "metadata": {
        "id": "QFfW_SIY5HsR",
        "colab": {
          "base_uri": "https://localhost:8080/",
          "height": 0
        },
        "outputId": "036209a2-bc7f-4383-f918-fb106df72038"
      },
      "source": [
        "# identify inconsistent values\n",
        "col = \"age\"\n",
        "mask = df[col]<0\n",
        "idx = df.loc[mask].index\n",
        "\n",
        "df.iloc[idx]"
      ],
      "execution_count": 8,
      "outputs": [
        {
          "output_type": "execute_result",
          "data": {
            "text/html": [
              "<div>\n",
              "<style scoped>\n",
              "    .dataframe tbody tr th:only-of-type {\n",
              "        vertical-align: middle;\n",
              "    }\n",
              "\n",
              "    .dataframe tbody tr th {\n",
              "        vertical-align: top;\n",
              "    }\n",
              "\n",
              "    .dataframe thead th {\n",
              "        text-align: right;\n",
              "    }\n",
              "</style>\n",
              "<table border=\"1\" class=\"dataframe\">\n",
              "  <thead>\n",
              "    <tr style=\"text-align: right;\">\n",
              "      <th></th>\n",
              "      <th>clientid</th>\n",
              "      <th>income</th>\n",
              "      <th>age</th>\n",
              "      <th>loan</th>\n",
              "      <th>default</th>\n",
              "    </tr>\n",
              "  </thead>\n",
              "  <tbody>\n",
              "    <tr>\n",
              "      <th>15</th>\n",
              "      <td>16</td>\n",
              "      <td>50501.726689</td>\n",
              "      <td>-28.218361</td>\n",
              "      <td>3977.287432</td>\n",
              "      <td>0</td>\n",
              "    </tr>\n",
              "    <tr>\n",
              "      <th>21</th>\n",
              "      <td>22</td>\n",
              "      <td>32197.620701</td>\n",
              "      <td>-52.423280</td>\n",
              "      <td>4244.057136</td>\n",
              "      <td>0</td>\n",
              "    </tr>\n",
              "    <tr>\n",
              "      <th>26</th>\n",
              "      <td>27</td>\n",
              "      <td>63287.038908</td>\n",
              "      <td>-36.496976</td>\n",
              "      <td>9595.286289</td>\n",
              "      <td>0</td>\n",
              "    </tr>\n",
              "  </tbody>\n",
              "</table>\n",
              "</div>"
            ],
            "text/plain": [
              "    clientid        income        age         loan  default\n",
              "15        16  50501.726689 -28.218361  3977.287432        0\n",
              "21        22  32197.620701 -52.423280  4244.057136        0\n",
              "26        27  63287.038908 -36.496976  9595.286289        0"
            ]
          },
          "metadata": {
            "tags": []
          },
          "execution_count": 8
        }
      ]
    },
    {
      "cell_type": "code",
      "metadata": {
        "id": "c3cgrW3LE2jc",
        "colab": {
          "base_uri": "https://localhost:8080/"
        },
        "outputId": "41b8abb3-d873-4ee0-cda2-b54385194a0b"
      },
      "source": [
        "# compute mean without inconsistent values\n",
        "mean = df[col].loc[~mask].mean()\n",
        "\n",
        "# TODO: check if consider missing values\n",
        "mean"
      ],
      "execution_count": 9,
      "outputs": [
        {
          "output_type": "execute_result",
          "data": {
            "text/plain": [
              "40.92770044906149"
            ]
          },
          "metadata": {
            "tags": []
          },
          "execution_count": 9
        }
      ]
    },
    {
      "cell_type": "code",
      "metadata": {
        "id": "73sUBK_-E2gj",
        "colab": {
          "base_uri": "https://localhost:8080/",
          "height": 0
        },
        "outputId": "5854c63d-cc4e-4c48-d552-7624e10314d8"
      },
      "source": [
        "# imput mean values rowwise on inconsistent values\n",
        "df.loc[mask,col] = mean\n",
        "df.iloc[idx]"
      ],
      "execution_count": 10,
      "outputs": [
        {
          "output_type": "execute_result",
          "data": {
            "text/html": [
              "<div>\n",
              "<style scoped>\n",
              "    .dataframe tbody tr th:only-of-type {\n",
              "        vertical-align: middle;\n",
              "    }\n",
              "\n",
              "    .dataframe tbody tr th {\n",
              "        vertical-align: top;\n",
              "    }\n",
              "\n",
              "    .dataframe thead th {\n",
              "        text-align: right;\n",
              "    }\n",
              "</style>\n",
              "<table border=\"1\" class=\"dataframe\">\n",
              "  <thead>\n",
              "    <tr style=\"text-align: right;\">\n",
              "      <th></th>\n",
              "      <th>clientid</th>\n",
              "      <th>income</th>\n",
              "      <th>age</th>\n",
              "      <th>loan</th>\n",
              "      <th>default</th>\n",
              "    </tr>\n",
              "  </thead>\n",
              "  <tbody>\n",
              "    <tr>\n",
              "      <th>15</th>\n",
              "      <td>16</td>\n",
              "      <td>50501.726689</td>\n",
              "      <td>40.9277</td>\n",
              "      <td>3977.287432</td>\n",
              "      <td>0</td>\n",
              "    </tr>\n",
              "    <tr>\n",
              "      <th>21</th>\n",
              "      <td>22</td>\n",
              "      <td>32197.620701</td>\n",
              "      <td>40.9277</td>\n",
              "      <td>4244.057136</td>\n",
              "      <td>0</td>\n",
              "    </tr>\n",
              "    <tr>\n",
              "      <th>26</th>\n",
              "      <td>27</td>\n",
              "      <td>63287.038908</td>\n",
              "      <td>40.9277</td>\n",
              "      <td>9595.286289</td>\n",
              "      <td>0</td>\n",
              "    </tr>\n",
              "  </tbody>\n",
              "</table>\n",
              "</div>"
            ],
            "text/plain": [
              "    clientid        income      age         loan  default\n",
              "15        16  50501.726689  40.9277  3977.287432        0\n",
              "21        22  32197.620701  40.9277  4244.057136        0\n",
              "26        27  63287.038908  40.9277  9595.286289        0"
            ]
          },
          "metadata": {
            "tags": []
          },
          "execution_count": 10
        }
      ]
    },
    {
      "cell_type": "code",
      "metadata": {
        "id": "t3cDuxGcD-aU"
      },
      "source": [
        "# remove column\n",
        "# df.drop(col, 1, inplace=True)\n",
        "# df.head()"
      ],
      "execution_count": 11,
      "outputs": []
    },
    {
      "cell_type": "code",
      "metadata": {
        "id": "bRcqToTiD-W9"
      },
      "source": [
        "# remove rows\n",
        "# df.drop(idx, inplace=True)\n",
        "# df.iloc[idx]"
      ],
      "execution_count": 12,
      "outputs": []
    },
    {
      "cell_type": "markdown",
      "metadata": {
        "id": "opEGo5slVCKx"
      },
      "source": [
        "#### Faltante"
      ]
    },
    {
      "cell_type": "code",
      "metadata": {
        "id": "6AdU6GMWE2eB",
        "colab": {
          "base_uri": "https://localhost:8080/",
          "height": 0
        },
        "outputId": "0037b4d8-e3aa-4c1c-8d70-26ec5058ac3b"
      },
      "source": [
        "# missing values\n",
        "mask = df[col].isnull()\n",
        "mask.sum()\n",
        "df.loc[mask]"
      ],
      "execution_count": 13,
      "outputs": [
        {
          "output_type": "execute_result",
          "data": {
            "text/html": [
              "<div>\n",
              "<style scoped>\n",
              "    .dataframe tbody tr th:only-of-type {\n",
              "        vertical-align: middle;\n",
              "    }\n",
              "\n",
              "    .dataframe tbody tr th {\n",
              "        vertical-align: top;\n",
              "    }\n",
              "\n",
              "    .dataframe thead th {\n",
              "        text-align: right;\n",
              "    }\n",
              "</style>\n",
              "<table border=\"1\" class=\"dataframe\">\n",
              "  <thead>\n",
              "    <tr style=\"text-align: right;\">\n",
              "      <th></th>\n",
              "      <th>clientid</th>\n",
              "      <th>income</th>\n",
              "      <th>age</th>\n",
              "      <th>loan</th>\n",
              "      <th>default</th>\n",
              "    </tr>\n",
              "  </thead>\n",
              "  <tbody>\n",
              "    <tr>\n",
              "      <th>28</th>\n",
              "      <td>29</td>\n",
              "      <td>59417.805406</td>\n",
              "      <td>NaN</td>\n",
              "      <td>2082.625938</td>\n",
              "      <td>0</td>\n",
              "    </tr>\n",
              "    <tr>\n",
              "      <th>30</th>\n",
              "      <td>31</td>\n",
              "      <td>48528.852796</td>\n",
              "      <td>NaN</td>\n",
              "      <td>6155.784670</td>\n",
              "      <td>0</td>\n",
              "    </tr>\n",
              "    <tr>\n",
              "      <th>31</th>\n",
              "      <td>32</td>\n",
              "      <td>23526.302555</td>\n",
              "      <td>NaN</td>\n",
              "      <td>2862.010139</td>\n",
              "      <td>0</td>\n",
              "    </tr>\n",
              "  </tbody>\n",
              "</table>\n",
              "</div>"
            ],
            "text/plain": [
              "    clientid        income  age         loan  default\n",
              "28        29  59417.805406  NaN  2082.625938        0\n",
              "30        31  48528.852796  NaN  6155.784670        0\n",
              "31        32  23526.302555  NaN  2862.010139        0"
            ]
          },
          "metadata": {
            "tags": []
          },
          "execution_count": 13
        }
      ]
    },
    {
      "cell_type": "code",
      "metadata": {
        "id": "XLczQJFHE2a6"
      },
      "source": [
        "import numpy as np\n",
        "from sklearn.impute import SimpleImputer\n",
        "\n",
        "imputer = SimpleImputer(\n",
        "    missing_values=np.nan\n",
        "    , strategy=\"mean\"\n",
        "    )"
      ],
      "execution_count": 14,
      "outputs": []
    },
    {
      "cell_type": "code",
      "metadata": {
        "id": "zvNWu4WJPi57"
      },
      "source": [
        "imputer = imputer.fit(X[:,:])\n",
        "\n",
        "X[:,:] = imputer.transform(X[:,:])"
      ],
      "execution_count": 15,
      "outputs": []
    },
    {
      "cell_type": "code",
      "metadata": {
        "id": "5my7KoDIQ4-c",
        "colab": {
          "base_uri": "https://localhost:8080/"
        },
        "outputId": "4fef8631-0ab8-4cf5-f235-266c35e7e817"
      },
      "source": [
        "idx = df.loc[mask].index.values\n",
        "idx"
      ],
      "execution_count": 16,
      "outputs": [
        {
          "output_type": "execute_result",
          "data": {
            "text/plain": [
              "array([28, 30, 31])"
            ]
          },
          "metadata": {
            "tags": []
          },
          "execution_count": 16
        }
      ]
    },
    {
      "cell_type": "code",
      "metadata": {
        "id": "XjgBYkrfR03k",
        "colab": {
          "base_uri": "https://localhost:8080/"
        },
        "outputId": "15de807c-22cf-44e9-8f1f-f02f317fe539"
      },
      "source": [
        "X[idx,:]"
      ],
      "execution_count": 17,
      "outputs": [
        {
          "output_type": "execute_result",
          "data": {
            "text/plain": [
              "array([[5.94178054e+04, 4.08075594e+01, 2.08262594e+03],\n",
              "       [4.85288528e+04, 4.08075594e+01, 6.15578467e+03],\n",
              "       [2.35263026e+04, 4.08075594e+01, 2.86201014e+03]])"
            ]
          },
          "metadata": {
            "tags": []
          },
          "execution_count": 17
        }
      ]
    },
    {
      "cell_type": "markdown",
      "metadata": {
        "id": "2BQl-Y6qTKGx"
      },
      "source": [
        "### Escalonamento\n",
        "* importante para algoritmos baseados em distância Euclideana como o KNN\n",
        "* Melhora performance (algoritmo roda mais rápido)\n",
        "\n",
        "Padronização (Standardisation)\n",
        "* mais robusta contra outliers\n",
        "$$ x = \\frac{x-\\mu}{\\sigma} $$\n",
        "\n",
        "Normalização (Normalization)\n",
        "$$ x = \\frac{x-x_{min}}{x_{max}-x_{min}} $$"
      ]
    },
    {
      "cell_type": "code",
      "metadata": {
        "id": "EH53ug0WScGc",
        "colab": {
          "base_uri": "https://localhost:8080/"
        },
        "outputId": "20cbd4bd-d675-4ecc-ff0f-1f1f433f831e"
      },
      "source": [
        "from sklearn.preprocessing import StandardScaler\n",
        "\n",
        "scaler = StandardScaler()\n",
        "X = scaler.fit_transform(X)\n",
        "X"
      ],
      "execution_count": 18,
      "outputs": [
        {
          "output_type": "execute_result",
          "data": {
            "text/plain": [
              "array([[ 1.45393393,  1.33786439,  1.20281942],\n",
              "       [-0.76217555,  0.53704215,  0.69642695],\n",
              "       [ 0.83682073,  1.63843621,  1.17471147],\n",
              "       ...,\n",
              "       [-0.07122592, -0.93972115,  0.35420081],\n",
              "       [-0.11000289,  1.7018964 , -0.92675625],\n",
              "       [ 1.682986  ,  1.1274146 ,  0.96381038]])"
            ]
          },
          "metadata": {
            "tags": []
          },
          "execution_count": 18
        }
      ]
    },
    {
      "cell_type": "markdown",
      "metadata": {
        "id": "gIOh5CP8VgBw"
      },
      "source": [
        "### Censo"
      ]
    },
    {
      "cell_type": "code",
      "metadata": {
        "id": "kZiRYwVycrw6",
        "colab": {
          "base_uri": "https://localhost:8080/",
          "height": 0
        },
        "outputId": "f10b5a74-1dca-44b6-dc45-381d0dbf4f54"
      },
      "source": [
        "filename = \"census.csv\"\n",
        "df = pd.read_csv(filename)\n",
        "df.describe()"
      ],
      "execution_count": 19,
      "outputs": [
        {
          "output_type": "execute_result",
          "data": {
            "text/html": [
              "<div>\n",
              "<style scoped>\n",
              "    .dataframe tbody tr th:only-of-type {\n",
              "        vertical-align: middle;\n",
              "    }\n",
              "\n",
              "    .dataframe tbody tr th {\n",
              "        vertical-align: top;\n",
              "    }\n",
              "\n",
              "    .dataframe thead th {\n",
              "        text-align: right;\n",
              "    }\n",
              "</style>\n",
              "<table border=\"1\" class=\"dataframe\">\n",
              "  <thead>\n",
              "    <tr style=\"text-align: right;\">\n",
              "      <th></th>\n",
              "      <th>age</th>\n",
              "      <th>final-weight</th>\n",
              "      <th>education-num</th>\n",
              "      <th>capital-gain</th>\n",
              "      <th>capital-loos</th>\n",
              "      <th>hour-per-week</th>\n",
              "    </tr>\n",
              "  </thead>\n",
              "  <tbody>\n",
              "    <tr>\n",
              "      <th>count</th>\n",
              "      <td>32561.000000</td>\n",
              "      <td>3.256100e+04</td>\n",
              "      <td>32561.000000</td>\n",
              "      <td>32561.000000</td>\n",
              "      <td>32561.000000</td>\n",
              "      <td>32561.000000</td>\n",
              "    </tr>\n",
              "    <tr>\n",
              "      <th>mean</th>\n",
              "      <td>38.581647</td>\n",
              "      <td>1.897784e+05</td>\n",
              "      <td>10.080679</td>\n",
              "      <td>1077.648844</td>\n",
              "      <td>87.303830</td>\n",
              "      <td>40.437456</td>\n",
              "    </tr>\n",
              "    <tr>\n",
              "      <th>std</th>\n",
              "      <td>13.640433</td>\n",
              "      <td>1.055500e+05</td>\n",
              "      <td>2.572720</td>\n",
              "      <td>7385.292085</td>\n",
              "      <td>402.960219</td>\n",
              "      <td>12.347429</td>\n",
              "    </tr>\n",
              "    <tr>\n",
              "      <th>min</th>\n",
              "      <td>17.000000</td>\n",
              "      <td>1.228500e+04</td>\n",
              "      <td>1.000000</td>\n",
              "      <td>0.000000</td>\n",
              "      <td>0.000000</td>\n",
              "      <td>1.000000</td>\n",
              "    </tr>\n",
              "    <tr>\n",
              "      <th>25%</th>\n",
              "      <td>28.000000</td>\n",
              "      <td>1.178270e+05</td>\n",
              "      <td>9.000000</td>\n",
              "      <td>0.000000</td>\n",
              "      <td>0.000000</td>\n",
              "      <td>40.000000</td>\n",
              "    </tr>\n",
              "    <tr>\n",
              "      <th>50%</th>\n",
              "      <td>37.000000</td>\n",
              "      <td>1.783560e+05</td>\n",
              "      <td>10.000000</td>\n",
              "      <td>0.000000</td>\n",
              "      <td>0.000000</td>\n",
              "      <td>40.000000</td>\n",
              "    </tr>\n",
              "    <tr>\n",
              "      <th>75%</th>\n",
              "      <td>48.000000</td>\n",
              "      <td>2.370510e+05</td>\n",
              "      <td>12.000000</td>\n",
              "      <td>0.000000</td>\n",
              "      <td>0.000000</td>\n",
              "      <td>45.000000</td>\n",
              "    </tr>\n",
              "    <tr>\n",
              "      <th>max</th>\n",
              "      <td>90.000000</td>\n",
              "      <td>1.484705e+06</td>\n",
              "      <td>16.000000</td>\n",
              "      <td>99999.000000</td>\n",
              "      <td>4356.000000</td>\n",
              "      <td>99.000000</td>\n",
              "    </tr>\n",
              "  </tbody>\n",
              "</table>\n",
              "</div>"
            ],
            "text/plain": [
              "                age  final-weight  ...  capital-loos  hour-per-week\n",
              "count  32561.000000  3.256100e+04  ...  32561.000000   32561.000000\n",
              "mean      38.581647  1.897784e+05  ...     87.303830      40.437456\n",
              "std       13.640433  1.055500e+05  ...    402.960219      12.347429\n",
              "min       17.000000  1.228500e+04  ...      0.000000       1.000000\n",
              "25%       28.000000  1.178270e+05  ...      0.000000      40.000000\n",
              "50%       37.000000  1.783560e+05  ...      0.000000      40.000000\n",
              "75%       48.000000  2.370510e+05  ...      0.000000      45.000000\n",
              "max       90.000000  1.484705e+06  ...   4356.000000      99.000000\n",
              "\n",
              "[8 rows x 6 columns]"
            ]
          },
          "metadata": {
            "tags": []
          },
          "execution_count": 19
        }
      ]
    },
    {
      "cell_type": "code",
      "metadata": {
        "id": "Cn2DUXNPc0zV",
        "colab": {
          "base_uri": "https://localhost:8080/"
        },
        "outputId": "8aab2488-a46c-4a54-f5cc-0f7b34c6545d"
      },
      "source": [
        "df.info()"
      ],
      "execution_count": 20,
      "outputs": [
        {
          "output_type": "stream",
          "text": [
            "<class 'pandas.core.frame.DataFrame'>\n",
            "RangeIndex: 32561 entries, 0 to 32560\n",
            "Data columns (total 15 columns):\n",
            " #   Column          Non-Null Count  Dtype \n",
            "---  ------          --------------  ----- \n",
            " 0   age             32561 non-null  int64 \n",
            " 1   workclass       32561 non-null  object\n",
            " 2   final-weight    32561 non-null  int64 \n",
            " 3   education       32561 non-null  object\n",
            " 4   education-num   32561 non-null  int64 \n",
            " 5   marital-status  32561 non-null  object\n",
            " 6   occupation      32561 non-null  object\n",
            " 7   relationship    32561 non-null  object\n",
            " 8   race            32561 non-null  object\n",
            " 9   sex             32561 non-null  object\n",
            " 10  capital-gain    32561 non-null  int64 \n",
            " 11  capital-loos    32561 non-null  int64 \n",
            " 12  hour-per-week   32561 non-null  int64 \n",
            " 13  native-country  32561 non-null  object\n",
            " 14  income          32561 non-null  object\n",
            "dtypes: int64(6), object(9)\n",
            "memory usage: 3.7+ MB\n"
          ],
          "name": "stdout"
        }
      ]
    },
    {
      "cell_type": "code",
      "metadata": {
        "id": "JwHBxBE0c2T6",
        "colab": {
          "base_uri": "https://localhost:8080/",
          "height": 0
        },
        "outputId": "49de8c30-8e3e-4e13-bfae-e4bc1ea555d5"
      },
      "source": [
        "df.head()"
      ],
      "execution_count": 21,
      "outputs": [
        {
          "output_type": "execute_result",
          "data": {
            "text/html": [
              "<div>\n",
              "<style scoped>\n",
              "    .dataframe tbody tr th:only-of-type {\n",
              "        vertical-align: middle;\n",
              "    }\n",
              "\n",
              "    .dataframe tbody tr th {\n",
              "        vertical-align: top;\n",
              "    }\n",
              "\n",
              "    .dataframe thead th {\n",
              "        text-align: right;\n",
              "    }\n",
              "</style>\n",
              "<table border=\"1\" class=\"dataframe\">\n",
              "  <thead>\n",
              "    <tr style=\"text-align: right;\">\n",
              "      <th></th>\n",
              "      <th>age</th>\n",
              "      <th>workclass</th>\n",
              "      <th>final-weight</th>\n",
              "      <th>education</th>\n",
              "      <th>education-num</th>\n",
              "      <th>marital-status</th>\n",
              "      <th>occupation</th>\n",
              "      <th>relationship</th>\n",
              "      <th>race</th>\n",
              "      <th>sex</th>\n",
              "      <th>capital-gain</th>\n",
              "      <th>capital-loos</th>\n",
              "      <th>hour-per-week</th>\n",
              "      <th>native-country</th>\n",
              "      <th>income</th>\n",
              "    </tr>\n",
              "  </thead>\n",
              "  <tbody>\n",
              "    <tr>\n",
              "      <th>0</th>\n",
              "      <td>39</td>\n",
              "      <td>State-gov</td>\n",
              "      <td>77516</td>\n",
              "      <td>Bachelors</td>\n",
              "      <td>13</td>\n",
              "      <td>Never-married</td>\n",
              "      <td>Adm-clerical</td>\n",
              "      <td>Not-in-family</td>\n",
              "      <td>White</td>\n",
              "      <td>Male</td>\n",
              "      <td>2174</td>\n",
              "      <td>0</td>\n",
              "      <td>40</td>\n",
              "      <td>United-States</td>\n",
              "      <td>&lt;=50K</td>\n",
              "    </tr>\n",
              "    <tr>\n",
              "      <th>1</th>\n",
              "      <td>50</td>\n",
              "      <td>Self-emp-not-inc</td>\n",
              "      <td>83311</td>\n",
              "      <td>Bachelors</td>\n",
              "      <td>13</td>\n",
              "      <td>Married-civ-spouse</td>\n",
              "      <td>Exec-managerial</td>\n",
              "      <td>Husband</td>\n",
              "      <td>White</td>\n",
              "      <td>Male</td>\n",
              "      <td>0</td>\n",
              "      <td>0</td>\n",
              "      <td>13</td>\n",
              "      <td>United-States</td>\n",
              "      <td>&lt;=50K</td>\n",
              "    </tr>\n",
              "    <tr>\n",
              "      <th>2</th>\n",
              "      <td>38</td>\n",
              "      <td>Private</td>\n",
              "      <td>215646</td>\n",
              "      <td>HS-grad</td>\n",
              "      <td>9</td>\n",
              "      <td>Divorced</td>\n",
              "      <td>Handlers-cleaners</td>\n",
              "      <td>Not-in-family</td>\n",
              "      <td>White</td>\n",
              "      <td>Male</td>\n",
              "      <td>0</td>\n",
              "      <td>0</td>\n",
              "      <td>40</td>\n",
              "      <td>United-States</td>\n",
              "      <td>&lt;=50K</td>\n",
              "    </tr>\n",
              "    <tr>\n",
              "      <th>3</th>\n",
              "      <td>53</td>\n",
              "      <td>Private</td>\n",
              "      <td>234721</td>\n",
              "      <td>11th</td>\n",
              "      <td>7</td>\n",
              "      <td>Married-civ-spouse</td>\n",
              "      <td>Handlers-cleaners</td>\n",
              "      <td>Husband</td>\n",
              "      <td>Black</td>\n",
              "      <td>Male</td>\n",
              "      <td>0</td>\n",
              "      <td>0</td>\n",
              "      <td>40</td>\n",
              "      <td>United-States</td>\n",
              "      <td>&lt;=50K</td>\n",
              "    </tr>\n",
              "    <tr>\n",
              "      <th>4</th>\n",
              "      <td>28</td>\n",
              "      <td>Private</td>\n",
              "      <td>338409</td>\n",
              "      <td>Bachelors</td>\n",
              "      <td>13</td>\n",
              "      <td>Married-civ-spouse</td>\n",
              "      <td>Prof-specialty</td>\n",
              "      <td>Wife</td>\n",
              "      <td>Black</td>\n",
              "      <td>Female</td>\n",
              "      <td>0</td>\n",
              "      <td>0</td>\n",
              "      <td>40</td>\n",
              "      <td>Cuba</td>\n",
              "      <td>&lt;=50K</td>\n",
              "    </tr>\n",
              "  </tbody>\n",
              "</table>\n",
              "</div>"
            ],
            "text/plain": [
              "   age          workclass  final-weight  ... hour-per-week  native-country  income\n",
              "0   39          State-gov         77516  ...            40   United-States   <=50K\n",
              "1   50   Self-emp-not-inc         83311  ...            13   United-States   <=50K\n",
              "2   38            Private        215646  ...            40   United-States   <=50K\n",
              "3   53            Private        234721  ...            40   United-States   <=50K\n",
              "4   28            Private        338409  ...            40            Cuba   <=50K\n",
              "\n",
              "[5 rows x 15 columns]"
            ]
          },
          "metadata": {
            "tags": []
          },
          "execution_count": 21
        }
      ]
    },
    {
      "cell_type": "code",
      "metadata": {
        "id": "8qkwOba-dsoZ",
        "colab": {
          "base_uri": "https://localhost:8080/"
        },
        "outputId": "a0dfa1c6-7b3b-4472-ae7d-8e0f29a871f9"
      },
      "source": [
        "# identify columns with string data\n",
        "lst_col_str = [col for col in df.columns if df[col].dtypes==\"object\"]\n",
        "# remove target name\n",
        "lst_col_str.pop(-1)  \n",
        "# categorical features names\n",
        "lst_col_str"
      ],
      "execution_count": 22,
      "outputs": [
        {
          "output_type": "execute_result",
          "data": {
            "text/plain": [
              "['workclass',\n",
              " 'education',\n",
              " 'marital-status',\n",
              " 'occupation',\n",
              " 'relationship',\n",
              " 'race',\n",
              " 'sex',\n",
              " 'native-country']"
            ]
          },
          "metadata": {
            "tags": []
          },
          "execution_count": 22
        }
      ]
    },
    {
      "cell_type": "code",
      "metadata": {
        "id": "tfwqhOdxdHwx",
        "colab": {
          "base_uri": "https://localhost:8080/"
        },
        "outputId": "c410bdb0-a4da-4e54-b86f-052f48ddfe23"
      },
      "source": [
        "# get index from categorical features\n",
        "lst_idx_col_str = [df.columns.get_loc(col_name) for col_name in lst_col_str]\n",
        "lst_idx_col_str"
      ],
      "execution_count": 23,
      "outputs": [
        {
          "output_type": "execute_result",
          "data": {
            "text/plain": [
              "[1, 3, 5, 6, 7, 8, 9, 13]"
            ]
          },
          "metadata": {
            "tags": []
          },
          "execution_count": 23
        }
      ]
    },
    {
      "cell_type": "code",
      "metadata": {
        "id": "sv32fxs9dUxi",
        "colab": {
          "base_uri": "https://localhost:8080/"
        },
        "outputId": "9e597f30-c003-40e8-d84d-fbe38ff30544"
      },
      "source": [
        "# split features and target\n",
        "X = df.iloc[:,:-1].values\n",
        "y = df.iloc[:,-1].values\n",
        "y"
      ],
      "execution_count": 24,
      "outputs": [
        {
          "output_type": "execute_result",
          "data": {
            "text/plain": [
              "array([' <=50K', ' <=50K', ' <=50K', ..., ' <=50K', ' <=50K', ' >50K'],\n",
              "      dtype=object)"
            ]
          },
          "metadata": {
            "tags": []
          },
          "execution_count": 24
        }
      ]
    },
    {
      "cell_type": "code",
      "metadata": {
        "id": "yGuZhvsygkRK",
        "colab": {
          "base_uri": "https://localhost:8080/"
        },
        "outputId": "11c6dc82-50f3-4710-8fec-8c959e96abc3"
      },
      "source": [
        "from sklearn.preprocessing import LabelEncoder, OneHotEncoder\n",
        "from sklearn.compose import ColumnTransformer\n",
        "\n",
        "labelencoder = LabelEncoder()\n",
        "\n",
        "for idx in lst_idx_col_str:\n",
        "    X[:,idx] = labelencoder.fit_transform(X[:,idx])\n",
        "X"
      ],
      "execution_count": 25,
      "outputs": [
        {
          "output_type": "execute_result",
          "data": {
            "text/plain": [
              "array([[39, 7, 77516, ..., 0, 40, 39],\n",
              "       [50, 6, 83311, ..., 0, 13, 39],\n",
              "       [38, 4, 215646, ..., 0, 40, 39],\n",
              "       ...,\n",
              "       [58, 4, 151910, ..., 0, 40, 39],\n",
              "       [22, 4, 201490, ..., 0, 20, 39],\n",
              "       [52, 5, 287927, ..., 0, 40, 39]], dtype=object)"
            ]
          },
          "metadata": {
            "tags": []
          },
          "execution_count": 25
        }
      ]
    },
    {
      "cell_type": "markdown",
      "metadata": {
        "id": "yFyhbLbwjq1U"
      },
      "source": [
        "Variáveis dummy: OneHotEncoder\n",
        "\n",
        "* previne efeito de diferentes inteiros que rotulam categorias nos algoritmos"
      ]
    },
    {
      "cell_type": "code",
      "metadata": {
        "id": "ts1xkIm_hTMW"
      },
      "source": [
        "onehotencorder = ColumnTransformer(\n",
        "    transformers=[\n",
        "                  (\"OneHot\", OneHotEncoder(), lst_idx_col_str)\n",
        "                  ]\n",
        "                  , remainder='passthrough'\n",
        "    )\n",
        "X = onehotencorder.fit_transform(X).toarray()\n",
        "\n",
        "labelencorder = LabelEncoder()\n",
        "y = labelencorder.fit_transform(y)"
      ],
      "execution_count": 26,
      "outputs": []
    },
    {
      "cell_type": "code",
      "metadata": {
        "id": "r2MsemfTkBvR",
        "colab": {
          "base_uri": "https://localhost:8080/"
        },
        "outputId": "7ef5f36f-3fa1-4e16-e4b3-6138c66c558d"
      },
      "source": [
        "X.shape"
      ],
      "execution_count": 27,
      "outputs": [
        {
          "output_type": "execute_result",
          "data": {
            "text/plain": [
              "(32561, 108)"
            ]
          },
          "metadata": {
            "tags": []
          },
          "execution_count": 27
        }
      ]
    },
    {
      "cell_type": "code",
      "metadata": {
        "id": "wLd3bsR-ljCo",
        "colab": {
          "base_uri": "https://localhost:8080/"
        },
        "outputId": "3bbb9e1e-0b11-4b26-c69d-e0bb136a3318"
      },
      "source": [
        "y.shape"
      ],
      "execution_count": 28,
      "outputs": [
        {
          "output_type": "execute_result",
          "data": {
            "text/plain": [
              "(32561,)"
            ]
          },
          "metadata": {
            "tags": []
          },
          "execution_count": 28
        }
      ]
    },
    {
      "cell_type": "code",
      "metadata": {
        "id": "Uho2mx_1lj8d"
      },
      "source": [
        "from sklearn.preprocessing import StandardScaler\n",
        "scaler = StandardScaler()\n",
        "X = scaler.fit_transform(X)  # perde interpretação\n"
      ],
      "execution_count": 29,
      "outputs": []
    },
    {
      "cell_type": "markdown",
      "metadata": {
        "id": "0EFKjBnqrEkg"
      },
      "source": [
        "Train test split\n",
        "* 10-30%"
      ]
    },
    {
      "cell_type": "code",
      "metadata": {
        "id": "hI4rA86qmqW_"
      },
      "source": [
        "from sklearn.model_selection import train_test_split\n",
        "X_train, X_test, y_train, y_test = train_test_split(\n",
        "    X\n",
        "    , y\n",
        "    , test_size=0.15\n",
        "    , random_state=0\n",
        ")\n"
      ],
      "execution_count": 30,
      "outputs": []
    },
    {
      "cell_type": "markdown",
      "metadata": {
        "id": "T-_3E8Ubshdj"
      },
      "source": [
        "## Questionário 2\n",
        "1. Contínua \n",
        " * Números reais: temperatura, altura, peso, salário\n",
        "1. discreta\n",
        " * Conjunto de valores finitos (inteiros): contagem de alguma coisa\n",
        "1. nominal\n",
        " * Dados não mensuráveis e sem ordenação: cor dos olhos ou gênero.\n",
        "1. ordinal\n",
        " * Categorização sob uma ordenação\n",
        "\n",
        "De acordo com base de dados credit-data, a coluna id é considerada como um tipo de variável numérica e contínua. (F)\n",
        "* categórica: nominal\n",
        "\n",
        "Na base de dados census existe a variável state-gov, a qual pode ser classificada como uma variável categórica e ordinal\n",
        "* nominal\n",
        "\n",
        "\n",
        "Durante as aulas sobre o pré-processamento, pudemos observar que se substituirmos as categorias de variáveis categóricas por números, teremos problemas com os algoritmos de aprendizagem de máquina. Isso ocorre porque o algoritmo tende a atribuir um peso para cada numeração. Por exemplo, em um sequência de zero até sete, o número sete teria um peso maior do que o zero, o que por sua vez pode não estar correto se estivéssemos trabalhando com a cor de roupas.\n",
        "\n",
        "Com base no texto acima, é correto afirmar que as variáveis do tipo dummy são uma solução para este problema, uma vez que ela transforma uma variável categórica em vários outros atributos com valores 0 e 1 para cada um dos valores dos atributos. (V)\n",
        "\n",
        "Para que o processo de treinamento ocorra de maneira eficaz, se faz necessário que os mesmos registros que estão na base de dados de teste estejam também na base de treinamento (F)\n",
        "* não podem estar\n",
        "\n"
      ]
    },
    {
      "cell_type": "markdown",
      "metadata": {
        "id": "rGIbuC3Hub7B"
      },
      "source": [
        "## Naive-Bayes\n",
        "* Abordagem probabilística\n",
        "* Exemplos: classificação de textos\n",
        " 1. Filtros de spam\n",
        " 1. Análise de sentimentos\n",
        " 1. Categorizar documentos\n",
        "\n",
        "\n",
        " * Vantagens\n",
        "  1. Rápido\n",
        "  1. Simples de interpretar\n",
        "  1. Performa bem com muitos atributos (alta dimensão)\n",
        "  1. Prevê bem com bases pequenas (200-500 registros)\n",
        "\n",
        "* Desvantagem\n",
        " 1. Considera atributos independentes"
      ]
    },
    {
      "cell_type": "markdown",
      "metadata": {
        "id": "mM3CbL-TzkjI"
      },
      "source": [
        "1. A aprendizagem no algoritmo Naïve Bayes é construir uma tabela de probabilidades baseada nos dados disponíveis (V)\n",
        "\n",
        "1. A Correção Laplaciana é uma técnica que adiciona um registro na base quando existirem partes na tabela de probabilidade nas quais não existem vinculações com a classe (V)\n",
        "\n",
        "1. Para realizar as estimativas de probabilidade, o algoritmo Naïve Bayes pode utilizar uma técnica chamada radius (raio) que consiste em estabelecer um raio no entorno do atributo a ser classificado\n",
        "\n",
        "\n",
        "\n",
        "\n",
        "\n",
        "\n",
        "\n",
        "\n",
        "\n",
        "\n"
      ]
    },
    {
      "cell_type": "markdown",
      "metadata": {
        "id": "Zju6WniA2WOo"
      },
      "source": [
        "### Testes"
      ]
    },
    {
      "cell_type": "code",
      "metadata": {
        "id": "eWq6KARYmp9Y",
        "colab": {
          "base_uri": "https://localhost:8080/",
          "height": 0
        },
        "outputId": "ce5713a9-7933-401e-f268-6278bd198f4c"
      },
      "source": [
        "import pandas as pd\n",
        "import numpy as np\n",
        "# load dataset\n",
        "filename = \"risco_credito.csv\"\n",
        "df = pd.read_csv(filename)\n",
        "df.head()"
      ],
      "execution_count": 31,
      "outputs": [
        {
          "output_type": "execute_result",
          "data": {
            "text/html": [
              "<div>\n",
              "<style scoped>\n",
              "    .dataframe tbody tr th:only-of-type {\n",
              "        vertical-align: middle;\n",
              "    }\n",
              "\n",
              "    .dataframe tbody tr th {\n",
              "        vertical-align: top;\n",
              "    }\n",
              "\n",
              "    .dataframe thead th {\n",
              "        text-align: right;\n",
              "    }\n",
              "</style>\n",
              "<table border=\"1\" class=\"dataframe\">\n",
              "  <thead>\n",
              "    <tr style=\"text-align: right;\">\n",
              "      <th></th>\n",
              "      <th>historia</th>\n",
              "      <th>divida</th>\n",
              "      <th>garantias</th>\n",
              "      <th>renda</th>\n",
              "      <th>c#risco</th>\n",
              "    </tr>\n",
              "  </thead>\n",
              "  <tbody>\n",
              "    <tr>\n",
              "      <th>0</th>\n",
              "      <td>ruim</td>\n",
              "      <td>alta</td>\n",
              "      <td>nenhuma</td>\n",
              "      <td>0_15</td>\n",
              "      <td>alto</td>\n",
              "    </tr>\n",
              "    <tr>\n",
              "      <th>1</th>\n",
              "      <td>desconhecida</td>\n",
              "      <td>alta</td>\n",
              "      <td>nenhuma</td>\n",
              "      <td>15_35</td>\n",
              "      <td>alto</td>\n",
              "    </tr>\n",
              "    <tr>\n",
              "      <th>2</th>\n",
              "      <td>desconhecida</td>\n",
              "      <td>baixa</td>\n",
              "      <td>nenhuma</td>\n",
              "      <td>15_35</td>\n",
              "      <td>moderado</td>\n",
              "    </tr>\n",
              "    <tr>\n",
              "      <th>3</th>\n",
              "      <td>desconhecida</td>\n",
              "      <td>baixa</td>\n",
              "      <td>nenhuma</td>\n",
              "      <td>acima_35</td>\n",
              "      <td>alto</td>\n",
              "    </tr>\n",
              "    <tr>\n",
              "      <th>4</th>\n",
              "      <td>desconhecida</td>\n",
              "      <td>baixa</td>\n",
              "      <td>nenhuma</td>\n",
              "      <td>acima_35</td>\n",
              "      <td>baixo</td>\n",
              "    </tr>\n",
              "  </tbody>\n",
              "</table>\n",
              "</div>"
            ],
            "text/plain": [
              "       historia divida garantias     renda   c#risco\n",
              "0          ruim   alta   nenhuma      0_15      alto\n",
              "1  desconhecida   alta   nenhuma     15_35      alto\n",
              "2  desconhecida  baixa   nenhuma     15_35  moderado\n",
              "3  desconhecida  baixa   nenhuma  acima_35      alto\n",
              "4  desconhecida  baixa   nenhuma  acima_35     baixo"
            ]
          },
          "metadata": {
            "tags": []
          },
          "execution_count": 31
        }
      ]
    },
    {
      "cell_type": "code",
      "metadata": {
        "id": "YCd1Gnj6mp2l",
        "colab": {
          "base_uri": "https://localhost:8080/",
          "height": 0
        },
        "outputId": "9d89dce5-17f4-4dd1-e4f8-15c3b38b0e82"
      },
      "source": [
        "# create lists\n",
        "lst_features = list(df.columns[:-1])\n",
        "lst_col = lst_features[:]\n",
        "\n",
        "# Fix col name\n",
        "target = 'risco'\n",
        "lst_col.append(target)\n",
        "df.columns = lst_col\n",
        "df.head()"
      ],
      "execution_count": 32,
      "outputs": [
        {
          "output_type": "execute_result",
          "data": {
            "text/html": [
              "<div>\n",
              "<style scoped>\n",
              "    .dataframe tbody tr th:only-of-type {\n",
              "        vertical-align: middle;\n",
              "    }\n",
              "\n",
              "    .dataframe tbody tr th {\n",
              "        vertical-align: top;\n",
              "    }\n",
              "\n",
              "    .dataframe thead th {\n",
              "        text-align: right;\n",
              "    }\n",
              "</style>\n",
              "<table border=\"1\" class=\"dataframe\">\n",
              "  <thead>\n",
              "    <tr style=\"text-align: right;\">\n",
              "      <th></th>\n",
              "      <th>historia</th>\n",
              "      <th>divida</th>\n",
              "      <th>garantias</th>\n",
              "      <th>renda</th>\n",
              "      <th>risco</th>\n",
              "    </tr>\n",
              "  </thead>\n",
              "  <tbody>\n",
              "    <tr>\n",
              "      <th>0</th>\n",
              "      <td>ruim</td>\n",
              "      <td>alta</td>\n",
              "      <td>nenhuma</td>\n",
              "      <td>0_15</td>\n",
              "      <td>alto</td>\n",
              "    </tr>\n",
              "    <tr>\n",
              "      <th>1</th>\n",
              "      <td>desconhecida</td>\n",
              "      <td>alta</td>\n",
              "      <td>nenhuma</td>\n",
              "      <td>15_35</td>\n",
              "      <td>alto</td>\n",
              "    </tr>\n",
              "    <tr>\n",
              "      <th>2</th>\n",
              "      <td>desconhecida</td>\n",
              "      <td>baixa</td>\n",
              "      <td>nenhuma</td>\n",
              "      <td>15_35</td>\n",
              "      <td>moderado</td>\n",
              "    </tr>\n",
              "    <tr>\n",
              "      <th>3</th>\n",
              "      <td>desconhecida</td>\n",
              "      <td>baixa</td>\n",
              "      <td>nenhuma</td>\n",
              "      <td>acima_35</td>\n",
              "      <td>alto</td>\n",
              "    </tr>\n",
              "    <tr>\n",
              "      <th>4</th>\n",
              "      <td>desconhecida</td>\n",
              "      <td>baixa</td>\n",
              "      <td>nenhuma</td>\n",
              "      <td>acima_35</td>\n",
              "      <td>baixo</td>\n",
              "    </tr>\n",
              "  </tbody>\n",
              "</table>\n",
              "</div>"
            ],
            "text/plain": [
              "       historia divida garantias     renda     risco\n",
              "0          ruim   alta   nenhuma      0_15      alto\n",
              "1  desconhecida   alta   nenhuma     15_35      alto\n",
              "2  desconhecida  baixa   nenhuma     15_35  moderado\n",
              "3  desconhecida  baixa   nenhuma  acima_35      alto\n",
              "4  desconhecida  baixa   nenhuma  acima_35     baixo"
            ]
          },
          "metadata": {
            "tags": []
          },
          "execution_count": 32
        }
      ]
    },
    {
      "cell_type": "markdown",
      "metadata": {
        "id": "YlXn6HEY2kHJ"
      },
      "source": [
        "#### EDA"
      ]
    },
    {
      "cell_type": "code",
      "metadata": {
        "id": "k3hTM7BJgYv9",
        "colab": {
          "base_uri": "https://localhost:8080/",
          "height": 0
        },
        "outputId": "a9e59f9c-d4a5-4314-de1e-8b0ae395f562"
      },
      "source": [
        "for col in lst_col:\n",
        "    display(df[col].value_counts().to_frame())"
      ],
      "execution_count": 33,
      "outputs": [
        {
          "output_type": "display_data",
          "data": {
            "text/html": [
              "<div>\n",
              "<style scoped>\n",
              "    .dataframe tbody tr th:only-of-type {\n",
              "        vertical-align: middle;\n",
              "    }\n",
              "\n",
              "    .dataframe tbody tr th {\n",
              "        vertical-align: top;\n",
              "    }\n",
              "\n",
              "    .dataframe thead th {\n",
              "        text-align: right;\n",
              "    }\n",
              "</style>\n",
              "<table border=\"1\" class=\"dataframe\">\n",
              "  <thead>\n",
              "    <tr style=\"text-align: right;\">\n",
              "      <th></th>\n",
              "      <th>historia</th>\n",
              "    </tr>\n",
              "  </thead>\n",
              "  <tbody>\n",
              "    <tr>\n",
              "      <th>desconhecida</th>\n",
              "      <td>5</td>\n",
              "    </tr>\n",
              "    <tr>\n",
              "      <th>boa</th>\n",
              "      <td>5</td>\n",
              "    </tr>\n",
              "    <tr>\n",
              "      <th>ruim</th>\n",
              "      <td>4</td>\n",
              "    </tr>\n",
              "  </tbody>\n",
              "</table>\n",
              "</div>"
            ],
            "text/plain": [
              "              historia\n",
              "desconhecida         5\n",
              "boa                  5\n",
              "ruim                 4"
            ]
          },
          "metadata": {
            "tags": []
          }
        },
        {
          "output_type": "display_data",
          "data": {
            "text/html": [
              "<div>\n",
              "<style scoped>\n",
              "    .dataframe tbody tr th:only-of-type {\n",
              "        vertical-align: middle;\n",
              "    }\n",
              "\n",
              "    .dataframe tbody tr th {\n",
              "        vertical-align: top;\n",
              "    }\n",
              "\n",
              "    .dataframe thead th {\n",
              "        text-align: right;\n",
              "    }\n",
              "</style>\n",
              "<table border=\"1\" class=\"dataframe\">\n",
              "  <thead>\n",
              "    <tr style=\"text-align: right;\">\n",
              "      <th></th>\n",
              "      <th>divida</th>\n",
              "    </tr>\n",
              "  </thead>\n",
              "  <tbody>\n",
              "    <tr>\n",
              "      <th>alta</th>\n",
              "      <td>7</td>\n",
              "    </tr>\n",
              "    <tr>\n",
              "      <th>baixa</th>\n",
              "      <td>7</td>\n",
              "    </tr>\n",
              "  </tbody>\n",
              "</table>\n",
              "</div>"
            ],
            "text/plain": [
              "       divida\n",
              "alta        7\n",
              "baixa       7"
            ]
          },
          "metadata": {
            "tags": []
          }
        },
        {
          "output_type": "display_data",
          "data": {
            "text/html": [
              "<div>\n",
              "<style scoped>\n",
              "    .dataframe tbody tr th:only-of-type {\n",
              "        vertical-align: middle;\n",
              "    }\n",
              "\n",
              "    .dataframe tbody tr th {\n",
              "        vertical-align: top;\n",
              "    }\n",
              "\n",
              "    .dataframe thead th {\n",
              "        text-align: right;\n",
              "    }\n",
              "</style>\n",
              "<table border=\"1\" class=\"dataframe\">\n",
              "  <thead>\n",
              "    <tr style=\"text-align: right;\">\n",
              "      <th></th>\n",
              "      <th>garantias</th>\n",
              "    </tr>\n",
              "  </thead>\n",
              "  <tbody>\n",
              "    <tr>\n",
              "      <th>nenhuma</th>\n",
              "      <td>11</td>\n",
              "    </tr>\n",
              "    <tr>\n",
              "      <th>adequada</th>\n",
              "      <td>3</td>\n",
              "    </tr>\n",
              "  </tbody>\n",
              "</table>\n",
              "</div>"
            ],
            "text/plain": [
              "          garantias\n",
              "nenhuma          11\n",
              "adequada          3"
            ]
          },
          "metadata": {
            "tags": []
          }
        },
        {
          "output_type": "display_data",
          "data": {
            "text/html": [
              "<div>\n",
              "<style scoped>\n",
              "    .dataframe tbody tr th:only-of-type {\n",
              "        vertical-align: middle;\n",
              "    }\n",
              "\n",
              "    .dataframe tbody tr th {\n",
              "        vertical-align: top;\n",
              "    }\n",
              "\n",
              "    .dataframe thead th {\n",
              "        text-align: right;\n",
              "    }\n",
              "</style>\n",
              "<table border=\"1\" class=\"dataframe\">\n",
              "  <thead>\n",
              "    <tr style=\"text-align: right;\">\n",
              "      <th></th>\n",
              "      <th>renda</th>\n",
              "    </tr>\n",
              "  </thead>\n",
              "  <tbody>\n",
              "    <tr>\n",
              "      <th>acima_35</th>\n",
              "      <td>7</td>\n",
              "    </tr>\n",
              "    <tr>\n",
              "      <th>15_35</th>\n",
              "      <td>4</td>\n",
              "    </tr>\n",
              "    <tr>\n",
              "      <th>0_15</th>\n",
              "      <td>3</td>\n",
              "    </tr>\n",
              "  </tbody>\n",
              "</table>\n",
              "</div>"
            ],
            "text/plain": [
              "          renda\n",
              "acima_35      7\n",
              "15_35         4\n",
              "0_15          3"
            ]
          },
          "metadata": {
            "tags": []
          }
        },
        {
          "output_type": "display_data",
          "data": {
            "text/html": [
              "<div>\n",
              "<style scoped>\n",
              "    .dataframe tbody tr th:only-of-type {\n",
              "        vertical-align: middle;\n",
              "    }\n",
              "\n",
              "    .dataframe tbody tr th {\n",
              "        vertical-align: top;\n",
              "    }\n",
              "\n",
              "    .dataframe thead th {\n",
              "        text-align: right;\n",
              "    }\n",
              "</style>\n",
              "<table border=\"1\" class=\"dataframe\">\n",
              "  <thead>\n",
              "    <tr style=\"text-align: right;\">\n",
              "      <th></th>\n",
              "      <th>risco</th>\n",
              "    </tr>\n",
              "  </thead>\n",
              "  <tbody>\n",
              "    <tr>\n",
              "      <th>alto</th>\n",
              "      <td>6</td>\n",
              "    </tr>\n",
              "    <tr>\n",
              "      <th>baixo</th>\n",
              "      <td>5</td>\n",
              "    </tr>\n",
              "    <tr>\n",
              "      <th>moderado</th>\n",
              "      <td>3</td>\n",
              "    </tr>\n",
              "  </tbody>\n",
              "</table>\n",
              "</div>"
            ],
            "text/plain": [
              "          risco\n",
              "alto          6\n",
              "baixo         5\n",
              "moderado      3"
            ]
          },
          "metadata": {
            "tags": []
          }
        }
      ]
    },
    {
      "cell_type": "code",
      "metadata": {
        "id": "hH3aecTDfnBn",
        "colab": {
          "base_uri": "https://localhost:8080/",
          "height": 0
        },
        "outputId": "76c5d736-5b6f-43db-d6dc-694d7b2bd686"
      },
      "source": [
        "for col in lst_col:\n",
        "    display(df[col].value_counts(\n",
        "        normalize=True\n",
        "        ).to_frame().style.format(\"{:.1%}\"))"
      ],
      "execution_count": 34,
      "outputs": [
        {
          "output_type": "display_data",
          "data": {
            "text/html": [
              "<style  type=\"text/css\" >\n",
              "</style><table id=\"T_297a6e80_536e_11eb_9d22_0242ac1c0002\" ><thead>    <tr>        <th class=\"blank level0\" ></th>        <th class=\"col_heading level0 col0\" >historia</th>    </tr></thead><tbody>\n",
              "                <tr>\n",
              "                        <th id=\"T_297a6e80_536e_11eb_9d22_0242ac1c0002level0_row0\" class=\"row_heading level0 row0\" >desconhecida</th>\n",
              "                        <td id=\"T_297a6e80_536e_11eb_9d22_0242ac1c0002row0_col0\" class=\"data row0 col0\" >35.7%</td>\n",
              "            </tr>\n",
              "            <tr>\n",
              "                        <th id=\"T_297a6e80_536e_11eb_9d22_0242ac1c0002level0_row1\" class=\"row_heading level0 row1\" >boa</th>\n",
              "                        <td id=\"T_297a6e80_536e_11eb_9d22_0242ac1c0002row1_col0\" class=\"data row1 col0\" >35.7%</td>\n",
              "            </tr>\n",
              "            <tr>\n",
              "                        <th id=\"T_297a6e80_536e_11eb_9d22_0242ac1c0002level0_row2\" class=\"row_heading level0 row2\" >ruim</th>\n",
              "                        <td id=\"T_297a6e80_536e_11eb_9d22_0242ac1c0002row2_col0\" class=\"data row2 col0\" >28.6%</td>\n",
              "            </tr>\n",
              "    </tbody></table>"
            ],
            "text/plain": [
              "<pandas.io.formats.style.Styler at 0x7f858f8d42e8>"
            ]
          },
          "metadata": {
            "tags": []
          }
        },
        {
          "output_type": "display_data",
          "data": {
            "text/html": [
              "<style  type=\"text/css\" >\n",
              "</style><table id=\"T_297b94ae_536e_11eb_9d22_0242ac1c0002\" ><thead>    <tr>        <th class=\"blank level0\" ></th>        <th class=\"col_heading level0 col0\" >divida</th>    </tr></thead><tbody>\n",
              "                <tr>\n",
              "                        <th id=\"T_297b94ae_536e_11eb_9d22_0242ac1c0002level0_row0\" class=\"row_heading level0 row0\" >alta</th>\n",
              "                        <td id=\"T_297b94ae_536e_11eb_9d22_0242ac1c0002row0_col0\" class=\"data row0 col0\" >50.0%</td>\n",
              "            </tr>\n",
              "            <tr>\n",
              "                        <th id=\"T_297b94ae_536e_11eb_9d22_0242ac1c0002level0_row1\" class=\"row_heading level0 row1\" >baixa</th>\n",
              "                        <td id=\"T_297b94ae_536e_11eb_9d22_0242ac1c0002row1_col0\" class=\"data row1 col0\" >50.0%</td>\n",
              "            </tr>\n",
              "    </tbody></table>"
            ],
            "text/plain": [
              "<pandas.io.formats.style.Styler at 0x7f858f8d4438>"
            ]
          },
          "metadata": {
            "tags": []
          }
        },
        {
          "output_type": "display_data",
          "data": {
            "text/html": [
              "<style  type=\"text/css\" >\n",
              "</style><table id=\"T_297c3e0e_536e_11eb_9d22_0242ac1c0002\" ><thead>    <tr>        <th class=\"blank level0\" ></th>        <th class=\"col_heading level0 col0\" >garantias</th>    </tr></thead><tbody>\n",
              "                <tr>\n",
              "                        <th id=\"T_297c3e0e_536e_11eb_9d22_0242ac1c0002level0_row0\" class=\"row_heading level0 row0\" >nenhuma</th>\n",
              "                        <td id=\"T_297c3e0e_536e_11eb_9d22_0242ac1c0002row0_col0\" class=\"data row0 col0\" >78.6%</td>\n",
              "            </tr>\n",
              "            <tr>\n",
              "                        <th id=\"T_297c3e0e_536e_11eb_9d22_0242ac1c0002level0_row1\" class=\"row_heading level0 row1\" >adequada</th>\n",
              "                        <td id=\"T_297c3e0e_536e_11eb_9d22_0242ac1c0002row1_col0\" class=\"data row1 col0\" >21.4%</td>\n",
              "            </tr>\n",
              "    </tbody></table>"
            ],
            "text/plain": [
              "<pandas.io.formats.style.Styler at 0x7f85b36c5898>"
            ]
          },
          "metadata": {
            "tags": []
          }
        },
        {
          "output_type": "display_data",
          "data": {
            "text/html": [
              "<style  type=\"text/css\" >\n",
              "</style><table id=\"T_297cf48e_536e_11eb_9d22_0242ac1c0002\" ><thead>    <tr>        <th class=\"blank level0\" ></th>        <th class=\"col_heading level0 col0\" >renda</th>    </tr></thead><tbody>\n",
              "                <tr>\n",
              "                        <th id=\"T_297cf48e_536e_11eb_9d22_0242ac1c0002level0_row0\" class=\"row_heading level0 row0\" >acima_35</th>\n",
              "                        <td id=\"T_297cf48e_536e_11eb_9d22_0242ac1c0002row0_col0\" class=\"data row0 col0\" >50.0%</td>\n",
              "            </tr>\n",
              "            <tr>\n",
              "                        <th id=\"T_297cf48e_536e_11eb_9d22_0242ac1c0002level0_row1\" class=\"row_heading level0 row1\" >15_35</th>\n",
              "                        <td id=\"T_297cf48e_536e_11eb_9d22_0242ac1c0002row1_col0\" class=\"data row1 col0\" >28.6%</td>\n",
              "            </tr>\n",
              "            <tr>\n",
              "                        <th id=\"T_297cf48e_536e_11eb_9d22_0242ac1c0002level0_row2\" class=\"row_heading level0 row2\" >0_15</th>\n",
              "                        <td id=\"T_297cf48e_536e_11eb_9d22_0242ac1c0002row2_col0\" class=\"data row2 col0\" >21.4%</td>\n",
              "            </tr>\n",
              "    </tbody></table>"
            ],
            "text/plain": [
              "<pandas.io.formats.style.Styler at 0x7f85b4165630>"
            ]
          },
          "metadata": {
            "tags": []
          }
        },
        {
          "output_type": "display_data",
          "data": {
            "text/html": [
              "<style  type=\"text/css\" >\n",
              "</style><table id=\"T_297da9d8_536e_11eb_9d22_0242ac1c0002\" ><thead>    <tr>        <th class=\"blank level0\" ></th>        <th class=\"col_heading level0 col0\" >risco</th>    </tr></thead><tbody>\n",
              "                <tr>\n",
              "                        <th id=\"T_297da9d8_536e_11eb_9d22_0242ac1c0002level0_row0\" class=\"row_heading level0 row0\" >alto</th>\n",
              "                        <td id=\"T_297da9d8_536e_11eb_9d22_0242ac1c0002row0_col0\" class=\"data row0 col0\" >42.9%</td>\n",
              "            </tr>\n",
              "            <tr>\n",
              "                        <th id=\"T_297da9d8_536e_11eb_9d22_0242ac1c0002level0_row1\" class=\"row_heading level0 row1\" >baixo</th>\n",
              "                        <td id=\"T_297da9d8_536e_11eb_9d22_0242ac1c0002row1_col0\" class=\"data row1 col0\" >35.7%</td>\n",
              "            </tr>\n",
              "            <tr>\n",
              "                        <th id=\"T_297da9d8_536e_11eb_9d22_0242ac1c0002level0_row2\" class=\"row_heading level0 row2\" >moderado</th>\n",
              "                        <td id=\"T_297da9d8_536e_11eb_9d22_0242ac1c0002row2_col0\" class=\"data row2 col0\" >21.4%</td>\n",
              "            </tr>\n",
              "    </tbody></table>"
            ],
            "text/plain": [
              "<pandas.io.formats.style.Styler at 0x7f858f5d9d30>"
            ]
          },
          "metadata": {
            "tags": []
          }
        }
      ]
    },
    {
      "cell_type": "code",
      "metadata": {
        "id": "NPAnST9diL-A",
        "colab": {
          "base_uri": "https://localhost:8080/",
          "height": 0
        },
        "outputId": "a79ea77d-68ff-453d-82ae-f1a2c44f5281"
      },
      "source": [
        "for feature in lst_features:\n",
        "    display(pd.crosstab(df[target],df[feature]))"
      ],
      "execution_count": 35,
      "outputs": [
        {
          "output_type": "display_data",
          "data": {
            "text/html": [
              "<div>\n",
              "<style scoped>\n",
              "    .dataframe tbody tr th:only-of-type {\n",
              "        vertical-align: middle;\n",
              "    }\n",
              "\n",
              "    .dataframe tbody tr th {\n",
              "        vertical-align: top;\n",
              "    }\n",
              "\n",
              "    .dataframe thead th {\n",
              "        text-align: right;\n",
              "    }\n",
              "</style>\n",
              "<table border=\"1\" class=\"dataframe\">\n",
              "  <thead>\n",
              "    <tr style=\"text-align: right;\">\n",
              "      <th>historia</th>\n",
              "      <th>boa</th>\n",
              "      <th>desconhecida</th>\n",
              "      <th>ruim</th>\n",
              "    </tr>\n",
              "    <tr>\n",
              "      <th>risco</th>\n",
              "      <th></th>\n",
              "      <th></th>\n",
              "      <th></th>\n",
              "    </tr>\n",
              "  </thead>\n",
              "  <tbody>\n",
              "    <tr>\n",
              "      <th>alto</th>\n",
              "      <td>1</td>\n",
              "      <td>2</td>\n",
              "      <td>3</td>\n",
              "    </tr>\n",
              "    <tr>\n",
              "      <th>baixo</th>\n",
              "      <td>3</td>\n",
              "      <td>2</td>\n",
              "      <td>0</td>\n",
              "    </tr>\n",
              "    <tr>\n",
              "      <th>moderado</th>\n",
              "      <td>1</td>\n",
              "      <td>1</td>\n",
              "      <td>1</td>\n",
              "    </tr>\n",
              "  </tbody>\n",
              "</table>\n",
              "</div>"
            ],
            "text/plain": [
              "historia  boa  desconhecida  ruim\n",
              "risco                            \n",
              "alto        1             2     3\n",
              "baixo       3             2     0\n",
              "moderado    1             1     1"
            ]
          },
          "metadata": {
            "tags": []
          }
        },
        {
          "output_type": "display_data",
          "data": {
            "text/html": [
              "<div>\n",
              "<style scoped>\n",
              "    .dataframe tbody tr th:only-of-type {\n",
              "        vertical-align: middle;\n",
              "    }\n",
              "\n",
              "    .dataframe tbody tr th {\n",
              "        vertical-align: top;\n",
              "    }\n",
              "\n",
              "    .dataframe thead th {\n",
              "        text-align: right;\n",
              "    }\n",
              "</style>\n",
              "<table border=\"1\" class=\"dataframe\">\n",
              "  <thead>\n",
              "    <tr style=\"text-align: right;\">\n",
              "      <th>divida</th>\n",
              "      <th>alta</th>\n",
              "      <th>baixa</th>\n",
              "    </tr>\n",
              "    <tr>\n",
              "      <th>risco</th>\n",
              "      <th></th>\n",
              "      <th></th>\n",
              "    </tr>\n",
              "  </thead>\n",
              "  <tbody>\n",
              "    <tr>\n",
              "      <th>alto</th>\n",
              "      <td>4</td>\n",
              "      <td>2</td>\n",
              "    </tr>\n",
              "    <tr>\n",
              "      <th>baixo</th>\n",
              "      <td>2</td>\n",
              "      <td>3</td>\n",
              "    </tr>\n",
              "    <tr>\n",
              "      <th>moderado</th>\n",
              "      <td>1</td>\n",
              "      <td>2</td>\n",
              "    </tr>\n",
              "  </tbody>\n",
              "</table>\n",
              "</div>"
            ],
            "text/plain": [
              "divida    alta  baixa\n",
              "risco                \n",
              "alto         4      2\n",
              "baixo        2      3\n",
              "moderado     1      2"
            ]
          },
          "metadata": {
            "tags": []
          }
        },
        {
          "output_type": "display_data",
          "data": {
            "text/html": [
              "<div>\n",
              "<style scoped>\n",
              "    .dataframe tbody tr th:only-of-type {\n",
              "        vertical-align: middle;\n",
              "    }\n",
              "\n",
              "    .dataframe tbody tr th {\n",
              "        vertical-align: top;\n",
              "    }\n",
              "\n",
              "    .dataframe thead th {\n",
              "        text-align: right;\n",
              "    }\n",
              "</style>\n",
              "<table border=\"1\" class=\"dataframe\">\n",
              "  <thead>\n",
              "    <tr style=\"text-align: right;\">\n",
              "      <th>garantias</th>\n",
              "      <th>adequada</th>\n",
              "      <th>nenhuma</th>\n",
              "    </tr>\n",
              "    <tr>\n",
              "      <th>risco</th>\n",
              "      <th></th>\n",
              "      <th></th>\n",
              "    </tr>\n",
              "  </thead>\n",
              "  <tbody>\n",
              "    <tr>\n",
              "      <th>alto</th>\n",
              "      <td>0</td>\n",
              "      <td>6</td>\n",
              "    </tr>\n",
              "    <tr>\n",
              "      <th>baixo</th>\n",
              "      <td>2</td>\n",
              "      <td>3</td>\n",
              "    </tr>\n",
              "    <tr>\n",
              "      <th>moderado</th>\n",
              "      <td>1</td>\n",
              "      <td>2</td>\n",
              "    </tr>\n",
              "  </tbody>\n",
              "</table>\n",
              "</div>"
            ],
            "text/plain": [
              "garantias  adequada  nenhuma\n",
              "risco                       \n",
              "alto              0        6\n",
              "baixo             2        3\n",
              "moderado          1        2"
            ]
          },
          "metadata": {
            "tags": []
          }
        },
        {
          "output_type": "display_data",
          "data": {
            "text/html": [
              "<div>\n",
              "<style scoped>\n",
              "    .dataframe tbody tr th:only-of-type {\n",
              "        vertical-align: middle;\n",
              "    }\n",
              "\n",
              "    .dataframe tbody tr th {\n",
              "        vertical-align: top;\n",
              "    }\n",
              "\n",
              "    .dataframe thead th {\n",
              "        text-align: right;\n",
              "    }\n",
              "</style>\n",
              "<table border=\"1\" class=\"dataframe\">\n",
              "  <thead>\n",
              "    <tr style=\"text-align: right;\">\n",
              "      <th>renda</th>\n",
              "      <th>0_15</th>\n",
              "      <th>15_35</th>\n",
              "      <th>acima_35</th>\n",
              "    </tr>\n",
              "    <tr>\n",
              "      <th>risco</th>\n",
              "      <th></th>\n",
              "      <th></th>\n",
              "      <th></th>\n",
              "    </tr>\n",
              "  </thead>\n",
              "  <tbody>\n",
              "    <tr>\n",
              "      <th>alto</th>\n",
              "      <td>3</td>\n",
              "      <td>2</td>\n",
              "      <td>1</td>\n",
              "    </tr>\n",
              "    <tr>\n",
              "      <th>baixo</th>\n",
              "      <td>0</td>\n",
              "      <td>0</td>\n",
              "      <td>5</td>\n",
              "    </tr>\n",
              "    <tr>\n",
              "      <th>moderado</th>\n",
              "      <td>0</td>\n",
              "      <td>2</td>\n",
              "      <td>1</td>\n",
              "    </tr>\n",
              "  </tbody>\n",
              "</table>\n",
              "</div>"
            ],
            "text/plain": [
              "renda     0_15  15_35  acima_35\n",
              "risco                          \n",
              "alto         3      2         1\n",
              "baixo        0      0         5\n",
              "moderado     0      2         1"
            ]
          },
          "metadata": {
            "tags": []
          }
        }
      ]
    },
    {
      "cell_type": "code",
      "metadata": {
        "id": "GLRmAHgVyK-w",
        "colab": {
          "base_uri": "https://localhost:8080/",
          "height": 0
        },
        "outputId": "9737324f-b759-423d-c5c5-042ec5119759"
      },
      "source": [
        "# multindex table\n",
        "melt = df.melt(target).value_counts()\n",
        "df_cross = melt.unstack(level=0).T.fillna(0).astype(int)\n",
        "df_cross"
      ],
      "execution_count": 36,
      "outputs": [
        {
          "output_type": "execute_result",
          "data": {
            "text/html": [
              "<div>\n",
              "<style scoped>\n",
              "    .dataframe tbody tr th:only-of-type {\n",
              "        vertical-align: middle;\n",
              "    }\n",
              "\n",
              "    .dataframe tbody tr th {\n",
              "        vertical-align: top;\n",
              "    }\n",
              "\n",
              "    .dataframe thead tr th {\n",
              "        text-align: left;\n",
              "    }\n",
              "\n",
              "    .dataframe thead tr:last-of-type th {\n",
              "        text-align: right;\n",
              "    }\n",
              "</style>\n",
              "<table border=\"1\" class=\"dataframe\">\n",
              "  <thead>\n",
              "    <tr>\n",
              "      <th>variable</th>\n",
              "      <th colspan=\"2\" halign=\"left\">divida</th>\n",
              "      <th colspan=\"2\" halign=\"left\">garantias</th>\n",
              "      <th colspan=\"3\" halign=\"left\">historia</th>\n",
              "      <th colspan=\"3\" halign=\"left\">renda</th>\n",
              "    </tr>\n",
              "    <tr>\n",
              "      <th>value</th>\n",
              "      <th>alta</th>\n",
              "      <th>baixa</th>\n",
              "      <th>adequada</th>\n",
              "      <th>nenhuma</th>\n",
              "      <th>boa</th>\n",
              "      <th>desconhecida</th>\n",
              "      <th>ruim</th>\n",
              "      <th>0_15</th>\n",
              "      <th>15_35</th>\n",
              "      <th>acima_35</th>\n",
              "    </tr>\n",
              "    <tr>\n",
              "      <th>risco</th>\n",
              "      <th></th>\n",
              "      <th></th>\n",
              "      <th></th>\n",
              "      <th></th>\n",
              "      <th></th>\n",
              "      <th></th>\n",
              "      <th></th>\n",
              "      <th></th>\n",
              "      <th></th>\n",
              "      <th></th>\n",
              "    </tr>\n",
              "  </thead>\n",
              "  <tbody>\n",
              "    <tr>\n",
              "      <th>alto</th>\n",
              "      <td>4</td>\n",
              "      <td>2</td>\n",
              "      <td>0</td>\n",
              "      <td>6</td>\n",
              "      <td>1</td>\n",
              "      <td>2</td>\n",
              "      <td>3</td>\n",
              "      <td>3</td>\n",
              "      <td>2</td>\n",
              "      <td>1</td>\n",
              "    </tr>\n",
              "    <tr>\n",
              "      <th>baixo</th>\n",
              "      <td>2</td>\n",
              "      <td>3</td>\n",
              "      <td>2</td>\n",
              "      <td>3</td>\n",
              "      <td>3</td>\n",
              "      <td>2</td>\n",
              "      <td>0</td>\n",
              "      <td>0</td>\n",
              "      <td>0</td>\n",
              "      <td>5</td>\n",
              "    </tr>\n",
              "    <tr>\n",
              "      <th>moderado</th>\n",
              "      <td>1</td>\n",
              "      <td>2</td>\n",
              "      <td>1</td>\n",
              "      <td>2</td>\n",
              "      <td>1</td>\n",
              "      <td>1</td>\n",
              "      <td>1</td>\n",
              "      <td>0</td>\n",
              "      <td>2</td>\n",
              "      <td>1</td>\n",
              "    </tr>\n",
              "  </tbody>\n",
              "</table>\n",
              "</div>"
            ],
            "text/plain": [
              "variable divida       garantias          ... historia renda               \n",
              "value      alta baixa  adequada nenhuma  ...     ruim  0_15 15_35 acima_35\n",
              "risco                                    ...                              \n",
              "alto          4     2         0       6  ...        3     3     2        1\n",
              "baixo         2     3         2       3  ...        0     0     0        5\n",
              "moderado      1     2         1       2  ...        1     0     2        1\n",
              "\n",
              "[3 rows x 10 columns]"
            ]
          },
          "metadata": {
            "tags": []
          },
          "execution_count": 36
        }
      ]
    },
    {
      "cell_type": "code",
      "metadata": {
        "id": "4221HFRs3YlS",
        "colab": {
          "base_uri": "https://localhost:8080/",
          "height": 0
        },
        "outputId": "3540e5f6-3808-4ab3-c464-f917963e099a"
      },
      "source": [
        "# access multi-index entry\n",
        "df_cross.columns[0][0]"
      ],
      "execution_count": 37,
      "outputs": [
        {
          "output_type": "execute_result",
          "data": {
            "application/vnd.google.colaboratory.intrinsic+json": {
              "type": "string"
            },
            "text/plain": [
              "'divida'"
            ]
          },
          "metadata": {
            "tags": []
          },
          "execution_count": 37
        }
      ]
    },
    {
      "cell_type": "code",
      "metadata": {
        "id": "qV3pNlADa0os",
        "colab": {
          "base_uri": "https://localhost:8080/",
          "height": 0
        },
        "outputId": "c8cfe309-9309-4a82-b398-075424b59602"
      },
      "source": [
        "arr_ref = df[target].value_counts().values\n",
        "total = \"total\"\n",
        "df_cross_total = df_cross.copy()\n",
        "df_cross_total[(target, total)] = arr_ref\n",
        "df_cross_total = df_cross_total.append(df_cross_total.sum(), ignore_index=True)\n",
        "lst_target_outcomes = list(df_cross.index)\n",
        "lst_target_outcomes.append(total)\n",
        "df_cross_total.index = lst_target_outcomes\n",
        "df_cross_total"
      ],
      "execution_count": 38,
      "outputs": [
        {
          "output_type": "execute_result",
          "data": {
            "text/html": [
              "<div>\n",
              "<style scoped>\n",
              "    .dataframe tbody tr th:only-of-type {\n",
              "        vertical-align: middle;\n",
              "    }\n",
              "\n",
              "    .dataframe tbody tr th {\n",
              "        vertical-align: top;\n",
              "    }\n",
              "\n",
              "    .dataframe thead tr th {\n",
              "        text-align: left;\n",
              "    }\n",
              "</style>\n",
              "<table border=\"1\" class=\"dataframe\">\n",
              "  <thead>\n",
              "    <tr>\n",
              "      <th>variable</th>\n",
              "      <th colspan=\"2\" halign=\"left\">divida</th>\n",
              "      <th colspan=\"2\" halign=\"left\">garantias</th>\n",
              "      <th colspan=\"3\" halign=\"left\">historia</th>\n",
              "      <th colspan=\"3\" halign=\"left\">renda</th>\n",
              "      <th>risco</th>\n",
              "    </tr>\n",
              "    <tr>\n",
              "      <th>value</th>\n",
              "      <th>alta</th>\n",
              "      <th>baixa</th>\n",
              "      <th>adequada</th>\n",
              "      <th>nenhuma</th>\n",
              "      <th>boa</th>\n",
              "      <th>desconhecida</th>\n",
              "      <th>ruim</th>\n",
              "      <th>0_15</th>\n",
              "      <th>15_35</th>\n",
              "      <th>acima_35</th>\n",
              "      <th>total</th>\n",
              "    </tr>\n",
              "  </thead>\n",
              "  <tbody>\n",
              "    <tr>\n",
              "      <th>alto</th>\n",
              "      <td>4</td>\n",
              "      <td>2</td>\n",
              "      <td>0</td>\n",
              "      <td>6</td>\n",
              "      <td>1</td>\n",
              "      <td>2</td>\n",
              "      <td>3</td>\n",
              "      <td>3</td>\n",
              "      <td>2</td>\n",
              "      <td>1</td>\n",
              "      <td>6</td>\n",
              "    </tr>\n",
              "    <tr>\n",
              "      <th>baixo</th>\n",
              "      <td>2</td>\n",
              "      <td>3</td>\n",
              "      <td>2</td>\n",
              "      <td>3</td>\n",
              "      <td>3</td>\n",
              "      <td>2</td>\n",
              "      <td>0</td>\n",
              "      <td>0</td>\n",
              "      <td>0</td>\n",
              "      <td>5</td>\n",
              "      <td>5</td>\n",
              "    </tr>\n",
              "    <tr>\n",
              "      <th>moderado</th>\n",
              "      <td>1</td>\n",
              "      <td>2</td>\n",
              "      <td>1</td>\n",
              "      <td>2</td>\n",
              "      <td>1</td>\n",
              "      <td>1</td>\n",
              "      <td>1</td>\n",
              "      <td>0</td>\n",
              "      <td>2</td>\n",
              "      <td>1</td>\n",
              "      <td>3</td>\n",
              "    </tr>\n",
              "    <tr>\n",
              "      <th>total</th>\n",
              "      <td>7</td>\n",
              "      <td>7</td>\n",
              "      <td>3</td>\n",
              "      <td>11</td>\n",
              "      <td>5</td>\n",
              "      <td>5</td>\n",
              "      <td>4</td>\n",
              "      <td>3</td>\n",
              "      <td>4</td>\n",
              "      <td>7</td>\n",
              "      <td>14</td>\n",
              "    </tr>\n",
              "  </tbody>\n",
              "</table>\n",
              "</div>"
            ],
            "text/plain": [
              "variable divida       garantias          ... renda                risco\n",
              "value      alta baixa  adequada nenhuma  ...  0_15 15_35 acima_35 total\n",
              "alto          4     2         0       6  ...     3     2        1     6\n",
              "baixo         2     3         2       3  ...     0     0        5     5\n",
              "moderado      1     2         1       2  ...     0     2        1     3\n",
              "total         7     7         3      11  ...     3     4        7    14\n",
              "\n",
              "[4 rows x 11 columns]"
            ]
          },
          "metadata": {
            "tags": []
          },
          "execution_count": 38
        }
      ]
    },
    {
      "cell_type": "markdown",
      "metadata": {
        "id": "7o1d9QW7AaBx"
      },
      "source": [
        "#### Dataset probability"
      ]
    },
    {
      "cell_type": "code",
      "metadata": {
        "id": "cMH8hwjCXl1o"
      },
      "source": [
        "# TEST: check col sum\n",
        "def test_check_col_sum():\n",
        "    for col in lst_features:\n",
        "        assert np.array_equal(\n",
        "            df_cross[col].sum().values\n",
        "            , df[col].value_counts().sort_index().values\n",
        "        ), col\n",
        "    pass"
      ],
      "execution_count": 39,
      "outputs": []
    },
    {
      "cell_type": "code",
      "metadata": {
        "id": "AzVpI155Zypg"
      },
      "source": [
        "# TEST: check row sum\n",
        "arr_ref = df[target].value_counts().values\n",
        "def test_check_row_sum():\n",
        "    for col in lst_features:\n",
        "        assert np.array_equal(\n",
        "            df_cross[col].sum(1).values\n",
        "            , arr_ref\n",
        "        ), col\n",
        "    pass"
      ],
      "execution_count": 40,
      "outputs": []
    },
    {
      "cell_type": "code",
      "metadata": {
        "id": "_yaexDVr7ULk"
      },
      "source": [
        "# Probability table\n",
        "def probability_table_database(df):\n",
        "    \"\"\" Build table with probabilities for a given entry\n",
        "        args:\n",
        "            df (pd.DataFrame): database\n",
        "        return:\n",
        "            df_prob (pd.DataFrame): probability database (Naive Bayes)\n",
        "    \"\"\"\n",
        "\n",
        "    melt = df.melt(target).value_counts()\n",
        "    df_cross = melt.unstack(level=0).T.fillna(0).astype(int)\n",
        "\n",
        "    # Naive Bayes Table\n",
        "    df_prob = df_cross.div(arr_ref, axis='rows')\n",
        "\n",
        "    test_check_col_sum()\n",
        "\n",
        "    test_check_row_sum()\n",
        "    \n",
        "    return df_prob"
      ],
      "execution_count": 41,
      "outputs": []
    },
    {
      "cell_type": "code",
      "metadata": {
        "id": "vvl6aEhhBvHn",
        "colab": {
          "base_uri": "https://localhost:8080/",
          "height": 0
        },
        "outputId": "be2c18ff-8b82-46c9-be7e-2fb926f7b3ba"
      },
      "source": [
        "# Naive Bayes Table\n",
        "df_prob = probability_table_database(df)\n",
        "df_prob.style.format(\"{:.1%}\")"
      ],
      "execution_count": 42,
      "outputs": [
        {
          "output_type": "execute_result",
          "data": {
            "text/html": [
              "<style  type=\"text/css\" >\n",
              "</style><table id=\"T_29a8ef62_536e_11eb_9d22_0242ac1c0002\" ><thead>    <tr>        <th class=\"index_name level0\" >variable</th>        <th class=\"col_heading level0 col0\" colspan=2>divida</th>        <th class=\"col_heading level0 col2\" colspan=2>garantias</th>        <th class=\"col_heading level0 col4\" colspan=3>historia</th>        <th class=\"col_heading level0 col7\" colspan=3>renda</th>    </tr>    <tr>        <th class=\"index_name level1\" >value</th>        <th class=\"col_heading level1 col0\" >alta</th>        <th class=\"col_heading level1 col1\" >baixa</th>        <th class=\"col_heading level1 col2\" >adequada</th>        <th class=\"col_heading level1 col3\" >nenhuma</th>        <th class=\"col_heading level1 col4\" >boa</th>        <th class=\"col_heading level1 col5\" >desconhecida</th>        <th class=\"col_heading level1 col6\" >ruim</th>        <th class=\"col_heading level1 col7\" >0_15</th>        <th class=\"col_heading level1 col8\" >15_35</th>        <th class=\"col_heading level1 col9\" >acima_35</th>    </tr>    <tr>        <th class=\"index_name level0\" >risco</th>        <th class=\"blank\" ></th>        <th class=\"blank\" ></th>        <th class=\"blank\" ></th>        <th class=\"blank\" ></th>        <th class=\"blank\" ></th>        <th class=\"blank\" ></th>        <th class=\"blank\" ></th>        <th class=\"blank\" ></th>        <th class=\"blank\" ></th>        <th class=\"blank\" ></th>    </tr></thead><tbody>\n",
              "                <tr>\n",
              "                        <th id=\"T_29a8ef62_536e_11eb_9d22_0242ac1c0002level0_row0\" class=\"row_heading level0 row0\" >alto</th>\n",
              "                        <td id=\"T_29a8ef62_536e_11eb_9d22_0242ac1c0002row0_col0\" class=\"data row0 col0\" >66.7%</td>\n",
              "                        <td id=\"T_29a8ef62_536e_11eb_9d22_0242ac1c0002row0_col1\" class=\"data row0 col1\" >33.3%</td>\n",
              "                        <td id=\"T_29a8ef62_536e_11eb_9d22_0242ac1c0002row0_col2\" class=\"data row0 col2\" >0.0%</td>\n",
              "                        <td id=\"T_29a8ef62_536e_11eb_9d22_0242ac1c0002row0_col3\" class=\"data row0 col3\" >100.0%</td>\n",
              "                        <td id=\"T_29a8ef62_536e_11eb_9d22_0242ac1c0002row0_col4\" class=\"data row0 col4\" >16.7%</td>\n",
              "                        <td id=\"T_29a8ef62_536e_11eb_9d22_0242ac1c0002row0_col5\" class=\"data row0 col5\" >33.3%</td>\n",
              "                        <td id=\"T_29a8ef62_536e_11eb_9d22_0242ac1c0002row0_col6\" class=\"data row0 col6\" >50.0%</td>\n",
              "                        <td id=\"T_29a8ef62_536e_11eb_9d22_0242ac1c0002row0_col7\" class=\"data row0 col7\" >50.0%</td>\n",
              "                        <td id=\"T_29a8ef62_536e_11eb_9d22_0242ac1c0002row0_col8\" class=\"data row0 col8\" >33.3%</td>\n",
              "                        <td id=\"T_29a8ef62_536e_11eb_9d22_0242ac1c0002row0_col9\" class=\"data row0 col9\" >16.7%</td>\n",
              "            </tr>\n",
              "            <tr>\n",
              "                        <th id=\"T_29a8ef62_536e_11eb_9d22_0242ac1c0002level0_row1\" class=\"row_heading level0 row1\" >baixo</th>\n",
              "                        <td id=\"T_29a8ef62_536e_11eb_9d22_0242ac1c0002row1_col0\" class=\"data row1 col0\" >40.0%</td>\n",
              "                        <td id=\"T_29a8ef62_536e_11eb_9d22_0242ac1c0002row1_col1\" class=\"data row1 col1\" >60.0%</td>\n",
              "                        <td id=\"T_29a8ef62_536e_11eb_9d22_0242ac1c0002row1_col2\" class=\"data row1 col2\" >40.0%</td>\n",
              "                        <td id=\"T_29a8ef62_536e_11eb_9d22_0242ac1c0002row1_col3\" class=\"data row1 col3\" >60.0%</td>\n",
              "                        <td id=\"T_29a8ef62_536e_11eb_9d22_0242ac1c0002row1_col4\" class=\"data row1 col4\" >60.0%</td>\n",
              "                        <td id=\"T_29a8ef62_536e_11eb_9d22_0242ac1c0002row1_col5\" class=\"data row1 col5\" >40.0%</td>\n",
              "                        <td id=\"T_29a8ef62_536e_11eb_9d22_0242ac1c0002row1_col6\" class=\"data row1 col6\" >0.0%</td>\n",
              "                        <td id=\"T_29a8ef62_536e_11eb_9d22_0242ac1c0002row1_col7\" class=\"data row1 col7\" >0.0%</td>\n",
              "                        <td id=\"T_29a8ef62_536e_11eb_9d22_0242ac1c0002row1_col8\" class=\"data row1 col8\" >0.0%</td>\n",
              "                        <td id=\"T_29a8ef62_536e_11eb_9d22_0242ac1c0002row1_col9\" class=\"data row1 col9\" >100.0%</td>\n",
              "            </tr>\n",
              "            <tr>\n",
              "                        <th id=\"T_29a8ef62_536e_11eb_9d22_0242ac1c0002level0_row2\" class=\"row_heading level0 row2\" >moderado</th>\n",
              "                        <td id=\"T_29a8ef62_536e_11eb_9d22_0242ac1c0002row2_col0\" class=\"data row2 col0\" >33.3%</td>\n",
              "                        <td id=\"T_29a8ef62_536e_11eb_9d22_0242ac1c0002row2_col1\" class=\"data row2 col1\" >66.7%</td>\n",
              "                        <td id=\"T_29a8ef62_536e_11eb_9d22_0242ac1c0002row2_col2\" class=\"data row2 col2\" >33.3%</td>\n",
              "                        <td id=\"T_29a8ef62_536e_11eb_9d22_0242ac1c0002row2_col3\" class=\"data row2 col3\" >66.7%</td>\n",
              "                        <td id=\"T_29a8ef62_536e_11eb_9d22_0242ac1c0002row2_col4\" class=\"data row2 col4\" >33.3%</td>\n",
              "                        <td id=\"T_29a8ef62_536e_11eb_9d22_0242ac1c0002row2_col5\" class=\"data row2 col5\" >33.3%</td>\n",
              "                        <td id=\"T_29a8ef62_536e_11eb_9d22_0242ac1c0002row2_col6\" class=\"data row2 col6\" >33.3%</td>\n",
              "                        <td id=\"T_29a8ef62_536e_11eb_9d22_0242ac1c0002row2_col7\" class=\"data row2 col7\" >0.0%</td>\n",
              "                        <td id=\"T_29a8ef62_536e_11eb_9d22_0242ac1c0002row2_col8\" class=\"data row2 col8\" >66.7%</td>\n",
              "                        <td id=\"T_29a8ef62_536e_11eb_9d22_0242ac1c0002row2_col9\" class=\"data row2 col9\" >33.3%</td>\n",
              "            </tr>\n",
              "    </tbody></table>"
            ],
            "text/plain": [
              "<pandas.io.formats.style.Styler at 0x7f858f63eac8>"
            ]
          },
          "metadata": {
            "tags": []
          },
          "execution_count": 42
        }
      ]
    },
    {
      "cell_type": "markdown",
      "metadata": {
        "id": "8whFAM1O_8OA"
      },
      "source": [
        "#### Predict"
      ]
    },
    {
      "cell_type": "code",
      "metadata": {
        "id": "0lCbPON3uSrM"
      },
      "source": [
        "prob = \"prob\"\n",
        "# Probability table entry\n",
        "def naive_bayes_predict(df, df_prob, test):\n",
        "    \"\"\" Build table with probabilities for a given entry\n",
        "        args:\n",
        "            df (pd.DataFrame): database\n",
        "            df_prob (pd.DataFrame): probabilities for database\n",
        "            test (dict) with sample entry\n",
        "        return:\n",
        "            df_prob_test (pd.DataFrame): probabilities for target labels\n",
        "    \"\"\"\n",
        "    \n",
        "    df_prob_test = pd.DataFrame()\n",
        "    for k,v in test.items():\n",
        "        df_prob_test[k] = df_prob[k][v]\n",
        "    df_prob_test[target] = df[target].value_counts(normalize=True)\n",
        "    df_prob_test[prob] = df_prob_test.product(1)\n",
        "    # normalize probability\n",
        "    df_prob_test[prob] = df_prob_test[prob].div(df_prob_test[prob].sum())\n",
        "\n",
        "    display(df_prob_test)\n",
        "\n",
        "    # predicted label\n",
        "    idx = df_prob_test[prob].argmax()\n",
        "    print(\"\\npredicted\", target, df_prob_test.index[idx])\n",
        "\n",
        "    return df_prob_test"
      ],
      "execution_count": 43,
      "outputs": []
    },
    {
      "cell_type": "code",
      "metadata": {
        "id": "cIvmm-F5BcC2",
        "colab": {
          "base_uri": "https://localhost:8080/",
          "height": 0
        },
        "outputId": "9edc5480-f21f-455b-eb5d-bd8b11d0456b"
      },
      "source": [
        "# história boa, dívida alta, garantias nenhuma, renda > 35\n",
        "# test0 = [0, 0, 1, 2]\n",
        "test0 = {\n",
        "    \"historia\": \"boa\",\n",
        "    \"divida\": \"alta\",\n",
        "    \"garantias\": \"nenhuma\",\n",
        "    \"renda\": \"acima_35\"\n",
        "}\n",
        "\n",
        "df_prob_test0 = naive_bayes_predict(df, df_prob, test0)"
      ],
      "execution_count": 44,
      "outputs": [
        {
          "output_type": "display_data",
          "data": {
            "text/html": [
              "<div>\n",
              "<style scoped>\n",
              "    .dataframe tbody tr th:only-of-type {\n",
              "        vertical-align: middle;\n",
              "    }\n",
              "\n",
              "    .dataframe tbody tr th {\n",
              "        vertical-align: top;\n",
              "    }\n",
              "\n",
              "    .dataframe thead th {\n",
              "        text-align: right;\n",
              "    }\n",
              "</style>\n",
              "<table border=\"1\" class=\"dataframe\">\n",
              "  <thead>\n",
              "    <tr style=\"text-align: right;\">\n",
              "      <th></th>\n",
              "      <th>historia</th>\n",
              "      <th>divida</th>\n",
              "      <th>garantias</th>\n",
              "      <th>renda</th>\n",
              "      <th>risco</th>\n",
              "      <th>prob</th>\n",
              "    </tr>\n",
              "    <tr>\n",
              "      <th>risco</th>\n",
              "      <th></th>\n",
              "      <th></th>\n",
              "      <th></th>\n",
              "      <th></th>\n",
              "      <th></th>\n",
              "      <th></th>\n",
              "    </tr>\n",
              "  </thead>\n",
              "  <tbody>\n",
              "    <tr>\n",
              "      <th>alto</th>\n",
              "      <td>0.166667</td>\n",
              "      <td>0.666667</td>\n",
              "      <td>1.000000</td>\n",
              "      <td>0.166667</td>\n",
              "      <td>0.428571</td>\n",
              "      <td>0.122750</td>\n",
              "    </tr>\n",
              "    <tr>\n",
              "      <th>baixo</th>\n",
              "      <td>0.600000</td>\n",
              "      <td>0.400000</td>\n",
              "      <td>0.600000</td>\n",
              "      <td>1.000000</td>\n",
              "      <td>0.357143</td>\n",
              "      <td>0.795417</td>\n",
              "    </tr>\n",
              "    <tr>\n",
              "      <th>moderado</th>\n",
              "      <td>0.333333</td>\n",
              "      <td>0.333333</td>\n",
              "      <td>0.666667</td>\n",
              "      <td>0.333333</td>\n",
              "      <td>0.214286</td>\n",
              "      <td>0.081833</td>\n",
              "    </tr>\n",
              "  </tbody>\n",
              "</table>\n",
              "</div>"
            ],
            "text/plain": [
              "          historia    divida  garantias     renda     risco      prob\n",
              "risco                                                                \n",
              "alto      0.166667  0.666667   1.000000  0.166667  0.428571  0.122750\n",
              "baixo     0.600000  0.400000   0.600000  1.000000  0.357143  0.795417\n",
              "moderado  0.333333  0.333333   0.666667  0.333333  0.214286  0.081833"
            ]
          },
          "metadata": {
            "tags": []
          }
        },
        {
          "output_type": "stream",
          "text": [
            "\n",
            "predicted risco baixo\n"
          ],
          "name": "stdout"
        }
      ]
    },
    {
      "cell_type": "markdown",
      "metadata": {
        "id": "wZ2sN_fu-Av0"
      },
      "source": [
        "#### Correção laplaciana"
      ]
    },
    {
      "cell_type": "code",
      "metadata": {
        "id": "sKug1a89CqDi",
        "colab": {
          "base_uri": "https://localhost:8080/",
          "height": 0
        },
        "outputId": "258ba75f-0599-4bb3-dc80-bdb901a80906"
      },
      "source": [
        "test1 = {\n",
        "    \"historia\": \"ruim\",\n",
        "    \"divida\": \"alta\",\n",
        "    \"garantias\": \"adequada\",\n",
        "    \"renda\": \"0_15\"\n",
        "}\n",
        "df_prob_test1 = naive_bayes_predict(df, df_prob, test1)"
      ],
      "execution_count": 45,
      "outputs": [
        {
          "output_type": "display_data",
          "data": {
            "text/html": [
              "<div>\n",
              "<style scoped>\n",
              "    .dataframe tbody tr th:only-of-type {\n",
              "        vertical-align: middle;\n",
              "    }\n",
              "\n",
              "    .dataframe tbody tr th {\n",
              "        vertical-align: top;\n",
              "    }\n",
              "\n",
              "    .dataframe thead th {\n",
              "        text-align: right;\n",
              "    }\n",
              "</style>\n",
              "<table border=\"1\" class=\"dataframe\">\n",
              "  <thead>\n",
              "    <tr style=\"text-align: right;\">\n",
              "      <th></th>\n",
              "      <th>historia</th>\n",
              "      <th>divida</th>\n",
              "      <th>garantias</th>\n",
              "      <th>renda</th>\n",
              "      <th>risco</th>\n",
              "      <th>prob</th>\n",
              "    </tr>\n",
              "    <tr>\n",
              "      <th>risco</th>\n",
              "      <th></th>\n",
              "      <th></th>\n",
              "      <th></th>\n",
              "      <th></th>\n",
              "      <th></th>\n",
              "      <th></th>\n",
              "    </tr>\n",
              "  </thead>\n",
              "  <tbody>\n",
              "    <tr>\n",
              "      <th>alto</th>\n",
              "      <td>0.500000</td>\n",
              "      <td>0.666667</td>\n",
              "      <td>0.000000</td>\n",
              "      <td>0.5</td>\n",
              "      <td>0.428571</td>\n",
              "      <td>NaN</td>\n",
              "    </tr>\n",
              "    <tr>\n",
              "      <th>baixo</th>\n",
              "      <td>0.000000</td>\n",
              "      <td>0.400000</td>\n",
              "      <td>0.400000</td>\n",
              "      <td>0.0</td>\n",
              "      <td>0.357143</td>\n",
              "      <td>NaN</td>\n",
              "    </tr>\n",
              "    <tr>\n",
              "      <th>moderado</th>\n",
              "      <td>0.333333</td>\n",
              "      <td>0.333333</td>\n",
              "      <td>0.333333</td>\n",
              "      <td>0.0</td>\n",
              "      <td>0.214286</td>\n",
              "      <td>NaN</td>\n",
              "    </tr>\n",
              "  </tbody>\n",
              "</table>\n",
              "</div>"
            ],
            "text/plain": [
              "          historia    divida  garantias  renda     risco  prob\n",
              "risco                                                         \n",
              "alto      0.500000  0.666667   0.000000    0.5  0.428571   NaN\n",
              "baixo     0.000000  0.400000   0.400000    0.0  0.357143   NaN\n",
              "moderado  0.333333  0.333333   0.333333    0.0  0.214286   NaN"
            ]
          },
          "metadata": {
            "tags": []
          }
        },
        {
          "output_type": "stream",
          "text": [
            "\n",
            "predicted risco moderado\n"
          ],
          "name": "stdout"
        }
      ]
    },
    {
      "cell_type": "code",
      "metadata": {
        "id": "KPbQXrgjzPe1",
        "colab": {
          "base_uri": "https://localhost:8080/",
          "height": 0
        },
        "outputId": "6c6c1bc3-32a5-47e9-beaa-fc27f45c647d"
      },
      "source": [
        "if df_prob_test1[prob].isna().any():\n",
        "    print(\"correcao_laplaciana\\n\")\n",
        "    # correcao_laplaciana\n",
        "    # imputar dados ficticios para prevenir valor zero!\n",
        "    mask = df_cross == 0\n",
        "    display(df_cross[mask].fillna(\"\"))\n"
      ],
      "execution_count": 46,
      "outputs": [
        {
          "output_type": "stream",
          "text": [
            "correcao_laplaciana\n",
            "\n"
          ],
          "name": "stdout"
        },
        {
          "output_type": "display_data",
          "data": {
            "text/html": [
              "<div>\n",
              "<style scoped>\n",
              "    .dataframe tbody tr th:only-of-type {\n",
              "        vertical-align: middle;\n",
              "    }\n",
              "\n",
              "    .dataframe tbody tr th {\n",
              "        vertical-align: top;\n",
              "    }\n",
              "\n",
              "    .dataframe thead tr th {\n",
              "        text-align: left;\n",
              "    }\n",
              "\n",
              "    .dataframe thead tr:last-of-type th {\n",
              "        text-align: right;\n",
              "    }\n",
              "</style>\n",
              "<table border=\"1\" class=\"dataframe\">\n",
              "  <thead>\n",
              "    <tr>\n",
              "      <th>variable</th>\n",
              "      <th colspan=\"2\" halign=\"left\">divida</th>\n",
              "      <th colspan=\"2\" halign=\"left\">garantias</th>\n",
              "      <th colspan=\"3\" halign=\"left\">historia</th>\n",
              "      <th colspan=\"3\" halign=\"left\">renda</th>\n",
              "    </tr>\n",
              "    <tr>\n",
              "      <th>value</th>\n",
              "      <th>alta</th>\n",
              "      <th>baixa</th>\n",
              "      <th>adequada</th>\n",
              "      <th>nenhuma</th>\n",
              "      <th>boa</th>\n",
              "      <th>desconhecida</th>\n",
              "      <th>ruim</th>\n",
              "      <th>0_15</th>\n",
              "      <th>15_35</th>\n",
              "      <th>acima_35</th>\n",
              "    </tr>\n",
              "    <tr>\n",
              "      <th>risco</th>\n",
              "      <th></th>\n",
              "      <th></th>\n",
              "      <th></th>\n",
              "      <th></th>\n",
              "      <th></th>\n",
              "      <th></th>\n",
              "      <th></th>\n",
              "      <th></th>\n",
              "      <th></th>\n",
              "      <th></th>\n",
              "    </tr>\n",
              "  </thead>\n",
              "  <tbody>\n",
              "    <tr>\n",
              "      <th>alto</th>\n",
              "      <td></td>\n",
              "      <td></td>\n",
              "      <td>0</td>\n",
              "      <td></td>\n",
              "      <td></td>\n",
              "      <td></td>\n",
              "      <td></td>\n",
              "      <td></td>\n",
              "      <td></td>\n",
              "      <td></td>\n",
              "    </tr>\n",
              "    <tr>\n",
              "      <th>baixo</th>\n",
              "      <td></td>\n",
              "      <td></td>\n",
              "      <td></td>\n",
              "      <td></td>\n",
              "      <td></td>\n",
              "      <td></td>\n",
              "      <td>0</td>\n",
              "      <td>0</td>\n",
              "      <td>0</td>\n",
              "      <td></td>\n",
              "    </tr>\n",
              "    <tr>\n",
              "      <th>moderado</th>\n",
              "      <td></td>\n",
              "      <td></td>\n",
              "      <td></td>\n",
              "      <td></td>\n",
              "      <td></td>\n",
              "      <td></td>\n",
              "      <td></td>\n",
              "      <td>0</td>\n",
              "      <td></td>\n",
              "      <td></td>\n",
              "    </tr>\n",
              "  </tbody>\n",
              "</table>\n",
              "</div>"
            ],
            "text/plain": [
              "variable divida       garantias          ... historia renda               \n",
              "value      alta baixa  adequada nenhuma  ...     ruim  0_15 15_35 acima_35\n",
              "risco                                    ...                              \n",
              "alto                          0          ...                              \n",
              "baixo                                    ...        0     0     0         \n",
              "moderado                                 ...              0               \n",
              "\n",
              "[3 rows x 10 columns]"
            ]
          },
          "metadata": {
            "tags": []
          }
        }
      ]
    },
    {
      "cell_type": "code",
      "metadata": {
        "id": "8IEnvze-zPtJ",
        "colab": {
          "base_uri": "https://localhost:8080/",
          "height": 0
        },
        "outputId": "89f3974e-2097-49ad-cb9d-c62f6b1a34ee"
      },
      "source": [
        "# Correcao Laplaciana\n",
        "\n",
        "def imput_data_laplace():\n",
        "    df_laplace = df.copy()\n",
        "\n",
        "    rows_laplace = {\n",
        "        \"historia\": \"ruim\",\n",
        "        \"divida\": \"baixa\",\n",
        "        \"garantias\": \"nenhuma\",\n",
        "        \"renda\": \"0_15\",\n",
        "        \"risco\": \"baixo\"\n",
        "    }\n",
        "\n",
        "    df_laplace = df_laplace.append(rows_laplace, ignore_index=True)\n",
        "\n",
        "    rows_laplace = {\n",
        "        \"historia\": \"boa\",\n",
        "        \"divida\": \"alta\",\n",
        "        \"garantias\": \"nenhuma\",\n",
        "        \"renda\": \"15_35\",\n",
        "        \"risco\": \"baixo\"\n",
        "    }\n",
        "\n",
        "    df_laplace = df_laplace.append(rows_laplace, ignore_index=True)\n",
        "\n",
        "    rows_laplace = {\n",
        "        \"historia\": \"boa\",\n",
        "        \"divida\": \"baixa\",\n",
        "        \"garantias\": \"adequada\",\n",
        "        \"renda\": \"0_15\",\n",
        "        \"risco\": \"moderado\"\n",
        "    }\n",
        "\n",
        "    df_laplace = df_laplace.append(rows_laplace, ignore_index=True)\n",
        "\n",
        "    rows_laplace = {\n",
        "        \"historia\": \"ruim\",\n",
        "        \"divida\": \"alta\",\n",
        "        \"garantias\": \"adequada\",\n",
        "        \"renda\": \"acima_35\",\n",
        "        \"risco\": \"alto\"\n",
        "    }\n",
        "\n",
        "    df_laplace = df_laplace.append(rows_laplace, ignore_index=True)\n",
        "\n",
        "    return df_laplace\n",
        "\n",
        "df_laplace = imput_data_laplace()\n",
        "df_laplace"
      ],
      "execution_count": 47,
      "outputs": [
        {
          "output_type": "execute_result",
          "data": {
            "text/html": [
              "<div>\n",
              "<style scoped>\n",
              "    .dataframe tbody tr th:only-of-type {\n",
              "        vertical-align: middle;\n",
              "    }\n",
              "\n",
              "    .dataframe tbody tr th {\n",
              "        vertical-align: top;\n",
              "    }\n",
              "\n",
              "    .dataframe thead th {\n",
              "        text-align: right;\n",
              "    }\n",
              "</style>\n",
              "<table border=\"1\" class=\"dataframe\">\n",
              "  <thead>\n",
              "    <tr style=\"text-align: right;\">\n",
              "      <th></th>\n",
              "      <th>historia</th>\n",
              "      <th>divida</th>\n",
              "      <th>garantias</th>\n",
              "      <th>renda</th>\n",
              "      <th>risco</th>\n",
              "    </tr>\n",
              "  </thead>\n",
              "  <tbody>\n",
              "    <tr>\n",
              "      <th>0</th>\n",
              "      <td>ruim</td>\n",
              "      <td>alta</td>\n",
              "      <td>nenhuma</td>\n",
              "      <td>0_15</td>\n",
              "      <td>alto</td>\n",
              "    </tr>\n",
              "    <tr>\n",
              "      <th>1</th>\n",
              "      <td>desconhecida</td>\n",
              "      <td>alta</td>\n",
              "      <td>nenhuma</td>\n",
              "      <td>15_35</td>\n",
              "      <td>alto</td>\n",
              "    </tr>\n",
              "    <tr>\n",
              "      <th>2</th>\n",
              "      <td>desconhecida</td>\n",
              "      <td>baixa</td>\n",
              "      <td>nenhuma</td>\n",
              "      <td>15_35</td>\n",
              "      <td>moderado</td>\n",
              "    </tr>\n",
              "    <tr>\n",
              "      <th>3</th>\n",
              "      <td>desconhecida</td>\n",
              "      <td>baixa</td>\n",
              "      <td>nenhuma</td>\n",
              "      <td>acima_35</td>\n",
              "      <td>alto</td>\n",
              "    </tr>\n",
              "    <tr>\n",
              "      <th>4</th>\n",
              "      <td>desconhecida</td>\n",
              "      <td>baixa</td>\n",
              "      <td>nenhuma</td>\n",
              "      <td>acima_35</td>\n",
              "      <td>baixo</td>\n",
              "    </tr>\n",
              "    <tr>\n",
              "      <th>5</th>\n",
              "      <td>desconhecida</td>\n",
              "      <td>baixa</td>\n",
              "      <td>adequada</td>\n",
              "      <td>acima_35</td>\n",
              "      <td>baixo</td>\n",
              "    </tr>\n",
              "    <tr>\n",
              "      <th>6</th>\n",
              "      <td>ruim</td>\n",
              "      <td>baixa</td>\n",
              "      <td>nenhuma</td>\n",
              "      <td>0_15</td>\n",
              "      <td>alto</td>\n",
              "    </tr>\n",
              "    <tr>\n",
              "      <th>7</th>\n",
              "      <td>ruim</td>\n",
              "      <td>baixa</td>\n",
              "      <td>adequada</td>\n",
              "      <td>acima_35</td>\n",
              "      <td>moderado</td>\n",
              "    </tr>\n",
              "    <tr>\n",
              "      <th>8</th>\n",
              "      <td>boa</td>\n",
              "      <td>baixa</td>\n",
              "      <td>nenhuma</td>\n",
              "      <td>acima_35</td>\n",
              "      <td>baixo</td>\n",
              "    </tr>\n",
              "    <tr>\n",
              "      <th>9</th>\n",
              "      <td>boa</td>\n",
              "      <td>alta</td>\n",
              "      <td>adequada</td>\n",
              "      <td>acima_35</td>\n",
              "      <td>baixo</td>\n",
              "    </tr>\n",
              "    <tr>\n",
              "      <th>10</th>\n",
              "      <td>boa</td>\n",
              "      <td>alta</td>\n",
              "      <td>nenhuma</td>\n",
              "      <td>0_15</td>\n",
              "      <td>alto</td>\n",
              "    </tr>\n",
              "    <tr>\n",
              "      <th>11</th>\n",
              "      <td>boa</td>\n",
              "      <td>alta</td>\n",
              "      <td>nenhuma</td>\n",
              "      <td>15_35</td>\n",
              "      <td>moderado</td>\n",
              "    </tr>\n",
              "    <tr>\n",
              "      <th>12</th>\n",
              "      <td>boa</td>\n",
              "      <td>alta</td>\n",
              "      <td>nenhuma</td>\n",
              "      <td>acima_35</td>\n",
              "      <td>baixo</td>\n",
              "    </tr>\n",
              "    <tr>\n",
              "      <th>13</th>\n",
              "      <td>ruim</td>\n",
              "      <td>alta</td>\n",
              "      <td>nenhuma</td>\n",
              "      <td>15_35</td>\n",
              "      <td>alto</td>\n",
              "    </tr>\n",
              "    <tr>\n",
              "      <th>14</th>\n",
              "      <td>ruim</td>\n",
              "      <td>baixa</td>\n",
              "      <td>nenhuma</td>\n",
              "      <td>0_15</td>\n",
              "      <td>baixo</td>\n",
              "    </tr>\n",
              "    <tr>\n",
              "      <th>15</th>\n",
              "      <td>boa</td>\n",
              "      <td>alta</td>\n",
              "      <td>nenhuma</td>\n",
              "      <td>15_35</td>\n",
              "      <td>baixo</td>\n",
              "    </tr>\n",
              "    <tr>\n",
              "      <th>16</th>\n",
              "      <td>boa</td>\n",
              "      <td>baixa</td>\n",
              "      <td>adequada</td>\n",
              "      <td>0_15</td>\n",
              "      <td>moderado</td>\n",
              "    </tr>\n",
              "    <tr>\n",
              "      <th>17</th>\n",
              "      <td>ruim</td>\n",
              "      <td>alta</td>\n",
              "      <td>adequada</td>\n",
              "      <td>acima_35</td>\n",
              "      <td>alto</td>\n",
              "    </tr>\n",
              "  </tbody>\n",
              "</table>\n",
              "</div>"
            ],
            "text/plain": [
              "        historia divida garantias     renda     risco\n",
              "0           ruim   alta   nenhuma      0_15      alto\n",
              "1   desconhecida   alta   nenhuma     15_35      alto\n",
              "2   desconhecida  baixa   nenhuma     15_35  moderado\n",
              "3   desconhecida  baixa   nenhuma  acima_35      alto\n",
              "4   desconhecida  baixa   nenhuma  acima_35     baixo\n",
              "5   desconhecida  baixa  adequada  acima_35     baixo\n",
              "6           ruim  baixa   nenhuma      0_15      alto\n",
              "7           ruim  baixa  adequada  acima_35  moderado\n",
              "8            boa  baixa   nenhuma  acima_35     baixo\n",
              "9            boa   alta  adequada  acima_35     baixo\n",
              "10           boa   alta   nenhuma      0_15      alto\n",
              "11           boa   alta   nenhuma     15_35  moderado\n",
              "12           boa   alta   nenhuma  acima_35     baixo\n",
              "13          ruim   alta   nenhuma     15_35      alto\n",
              "14          ruim  baixa   nenhuma      0_15     baixo\n",
              "15           boa   alta   nenhuma     15_35     baixo\n",
              "16           boa  baixa  adequada      0_15  moderado\n",
              "17          ruim   alta  adequada  acima_35      alto"
            ]
          },
          "metadata": {
            "tags": []
          },
          "execution_count": 47
        }
      ]
    },
    {
      "cell_type": "code",
      "metadata": {
        "id": "mPVs6MDL8vUE",
        "colab": {
          "base_uri": "https://localhost:8080/",
          "height": 0
        },
        "outputId": "2050e701-7062-48ca-9610-f4e5550afef7"
      },
      "source": [
        "df_prob_laplace = probability_table_database(df_laplace)\n",
        "df_prob_laplace"
      ],
      "execution_count": 48,
      "outputs": [
        {
          "output_type": "execute_result",
          "data": {
            "text/html": [
              "<div>\n",
              "<style scoped>\n",
              "    .dataframe tbody tr th:only-of-type {\n",
              "        vertical-align: middle;\n",
              "    }\n",
              "\n",
              "    .dataframe tbody tr th {\n",
              "        vertical-align: top;\n",
              "    }\n",
              "\n",
              "    .dataframe thead tr th {\n",
              "        text-align: left;\n",
              "    }\n",
              "\n",
              "    .dataframe thead tr:last-of-type th {\n",
              "        text-align: right;\n",
              "    }\n",
              "</style>\n",
              "<table border=\"1\" class=\"dataframe\">\n",
              "  <thead>\n",
              "    <tr>\n",
              "      <th>variable</th>\n",
              "      <th colspan=\"2\" halign=\"left\">divida</th>\n",
              "      <th colspan=\"2\" halign=\"left\">garantias</th>\n",
              "      <th colspan=\"3\" halign=\"left\">historia</th>\n",
              "      <th colspan=\"3\" halign=\"left\">renda</th>\n",
              "    </tr>\n",
              "    <tr>\n",
              "      <th>value</th>\n",
              "      <th>alta</th>\n",
              "      <th>baixa</th>\n",
              "      <th>adequada</th>\n",
              "      <th>nenhuma</th>\n",
              "      <th>boa</th>\n",
              "      <th>desconhecida</th>\n",
              "      <th>ruim</th>\n",
              "      <th>0_15</th>\n",
              "      <th>15_35</th>\n",
              "      <th>acima_35</th>\n",
              "    </tr>\n",
              "    <tr>\n",
              "      <th>risco</th>\n",
              "      <th></th>\n",
              "      <th></th>\n",
              "      <th></th>\n",
              "      <th></th>\n",
              "      <th></th>\n",
              "      <th></th>\n",
              "      <th></th>\n",
              "      <th></th>\n",
              "      <th></th>\n",
              "      <th></th>\n",
              "    </tr>\n",
              "  </thead>\n",
              "  <tbody>\n",
              "    <tr>\n",
              "      <th>alto</th>\n",
              "      <td>0.833333</td>\n",
              "      <td>0.333333</td>\n",
              "      <td>0.166667</td>\n",
              "      <td>1.000000</td>\n",
              "      <td>0.166667</td>\n",
              "      <td>0.333333</td>\n",
              "      <td>0.666667</td>\n",
              "      <td>0.500000</td>\n",
              "      <td>0.333333</td>\n",
              "      <td>0.333333</td>\n",
              "    </tr>\n",
              "    <tr>\n",
              "      <th>baixo</th>\n",
              "      <td>0.600000</td>\n",
              "      <td>0.800000</td>\n",
              "      <td>0.400000</td>\n",
              "      <td>1.000000</td>\n",
              "      <td>0.800000</td>\n",
              "      <td>0.400000</td>\n",
              "      <td>0.200000</td>\n",
              "      <td>0.200000</td>\n",
              "      <td>0.200000</td>\n",
              "      <td>1.000000</td>\n",
              "    </tr>\n",
              "    <tr>\n",
              "      <th>moderado</th>\n",
              "      <td>0.333333</td>\n",
              "      <td>1.000000</td>\n",
              "      <td>0.666667</td>\n",
              "      <td>0.666667</td>\n",
              "      <td>0.666667</td>\n",
              "      <td>0.333333</td>\n",
              "      <td>0.333333</td>\n",
              "      <td>0.333333</td>\n",
              "      <td>0.666667</td>\n",
              "      <td>0.333333</td>\n",
              "    </tr>\n",
              "  </tbody>\n",
              "</table>\n",
              "</div>"
            ],
            "text/plain": [
              "variable    divida           garantias  ...     renda                    \n",
              "value         alta     baixa  adequada  ...      0_15     15_35  acima_35\n",
              "risco                                   ...                              \n",
              "alto      0.833333  0.333333  0.166667  ...  0.500000  0.333333  0.333333\n",
              "baixo     0.600000  0.800000  0.400000  ...  0.200000  0.200000  1.000000\n",
              "moderado  0.333333  1.000000  0.666667  ...  0.333333  0.666667  0.333333\n",
              "\n",
              "[3 rows x 10 columns]"
            ]
          },
          "metadata": {
            "tags": []
          },
          "execution_count": 48
        }
      ]
    },
    {
      "cell_type": "code",
      "metadata": {
        "id": "lhs38ZQi6uhB",
        "colab": {
          "base_uri": "https://localhost:8080/",
          "height": 0
        },
        "outputId": "80765868-b764-4210-8e80-be647e2e087c"
      },
      "source": [
        "df_prob_test1_laplace = naive_bayes_predict(df_laplace, df_prob_laplace, test1)"
      ],
      "execution_count": 49,
      "outputs": [
        {
          "output_type": "display_data",
          "data": {
            "text/html": [
              "<div>\n",
              "<style scoped>\n",
              "    .dataframe tbody tr th:only-of-type {\n",
              "        vertical-align: middle;\n",
              "    }\n",
              "\n",
              "    .dataframe tbody tr th {\n",
              "        vertical-align: top;\n",
              "    }\n",
              "\n",
              "    .dataframe thead th {\n",
              "        text-align: right;\n",
              "    }\n",
              "</style>\n",
              "<table border=\"1\" class=\"dataframe\">\n",
              "  <thead>\n",
              "    <tr style=\"text-align: right;\">\n",
              "      <th></th>\n",
              "      <th>historia</th>\n",
              "      <th>divida</th>\n",
              "      <th>garantias</th>\n",
              "      <th>renda</th>\n",
              "      <th>risco</th>\n",
              "      <th>prob</th>\n",
              "    </tr>\n",
              "    <tr>\n",
              "      <th>risco</th>\n",
              "      <th></th>\n",
              "      <th></th>\n",
              "      <th></th>\n",
              "      <th></th>\n",
              "      <th></th>\n",
              "      <th></th>\n",
              "    </tr>\n",
              "  </thead>\n",
              "  <tbody>\n",
              "    <tr>\n",
              "      <th>alto</th>\n",
              "      <td>0.666667</td>\n",
              "      <td>0.833333</td>\n",
              "      <td>0.166667</td>\n",
              "      <td>0.500000</td>\n",
              "      <td>0.388889</td>\n",
              "      <td>0.661322</td>\n",
              "    </tr>\n",
              "    <tr>\n",
              "      <th>baixo</th>\n",
              "      <td>0.200000</td>\n",
              "      <td>0.600000</td>\n",
              "      <td>0.400000</td>\n",
              "      <td>0.200000</td>\n",
              "      <td>0.388889</td>\n",
              "      <td>0.137132</td>\n",
              "    </tr>\n",
              "    <tr>\n",
              "      <th>moderado</th>\n",
              "      <td>0.333333</td>\n",
              "      <td>0.333333</td>\n",
              "      <td>0.666667</td>\n",
              "      <td>0.333333</td>\n",
              "      <td>0.222222</td>\n",
              "      <td>0.201546</td>\n",
              "    </tr>\n",
              "  </tbody>\n",
              "</table>\n",
              "</div>"
            ],
            "text/plain": [
              "          historia    divida  garantias     renda     risco      prob\n",
              "risco                                                                \n",
              "alto      0.666667  0.833333   0.166667  0.500000  0.388889  0.661322\n",
              "baixo     0.200000  0.600000   0.400000  0.200000  0.388889  0.137132\n",
              "moderado  0.333333  0.333333   0.666667  0.333333  0.222222  0.201546"
            ]
          },
          "metadata": {
            "tags": []
          }
        },
        {
          "output_type": "stream",
          "text": [
            "\n",
            "predicted risco alto\n"
          ],
          "name": "stdout"
        }
      ]
    },
    {
      "cell_type": "code",
      "metadata": {
        "id": "dPaVXTSE6ubJ",
        "colab": {
          "base_uri": "https://localhost:8080/",
          "height": 0
        },
        "outputId": "4ec4b064-e660-40ba-b1d9-87122f0041c5"
      },
      "source": [
        "df_prob_test1"
      ],
      "execution_count": 50,
      "outputs": [
        {
          "output_type": "execute_result",
          "data": {
            "text/html": [
              "<div>\n",
              "<style scoped>\n",
              "    .dataframe tbody tr th:only-of-type {\n",
              "        vertical-align: middle;\n",
              "    }\n",
              "\n",
              "    .dataframe tbody tr th {\n",
              "        vertical-align: top;\n",
              "    }\n",
              "\n",
              "    .dataframe thead th {\n",
              "        text-align: right;\n",
              "    }\n",
              "</style>\n",
              "<table border=\"1\" class=\"dataframe\">\n",
              "  <thead>\n",
              "    <tr style=\"text-align: right;\">\n",
              "      <th></th>\n",
              "      <th>historia</th>\n",
              "      <th>divida</th>\n",
              "      <th>garantias</th>\n",
              "      <th>renda</th>\n",
              "      <th>risco</th>\n",
              "      <th>prob</th>\n",
              "    </tr>\n",
              "    <tr>\n",
              "      <th>risco</th>\n",
              "      <th></th>\n",
              "      <th></th>\n",
              "      <th></th>\n",
              "      <th></th>\n",
              "      <th></th>\n",
              "      <th></th>\n",
              "    </tr>\n",
              "  </thead>\n",
              "  <tbody>\n",
              "    <tr>\n",
              "      <th>alto</th>\n",
              "      <td>0.500000</td>\n",
              "      <td>0.666667</td>\n",
              "      <td>0.000000</td>\n",
              "      <td>0.5</td>\n",
              "      <td>0.428571</td>\n",
              "      <td>NaN</td>\n",
              "    </tr>\n",
              "    <tr>\n",
              "      <th>baixo</th>\n",
              "      <td>0.000000</td>\n",
              "      <td>0.400000</td>\n",
              "      <td>0.400000</td>\n",
              "      <td>0.0</td>\n",
              "      <td>0.357143</td>\n",
              "      <td>NaN</td>\n",
              "    </tr>\n",
              "    <tr>\n",
              "      <th>moderado</th>\n",
              "      <td>0.333333</td>\n",
              "      <td>0.333333</td>\n",
              "      <td>0.333333</td>\n",
              "      <td>0.0</td>\n",
              "      <td>0.214286</td>\n",
              "      <td>NaN</td>\n",
              "    </tr>\n",
              "  </tbody>\n",
              "</table>\n",
              "</div>"
            ],
            "text/plain": [
              "          historia    divida  garantias  renda     risco  prob\n",
              "risco                                                         \n",
              "alto      0.500000  0.666667   0.000000    0.5  0.428571   NaN\n",
              "baixo     0.000000  0.400000   0.400000    0.0  0.357143   NaN\n",
              "moderado  0.333333  0.333333   0.333333    0.0  0.214286   NaN"
            ]
          },
          "metadata": {
            "tags": []
          },
          "execution_count": 50
        }
      ]
    },
    {
      "cell_type": "markdown",
      "metadata": {
        "id": "M9NGEX-ev8ef"
      },
      "source": [
        "### homemade"
      ]
    },
    {
      "cell_type": "code",
      "metadata": {
        "id": "FfKSXY7vv_F6",
        "colab": {
          "base_uri": "https://localhost:8080/",
          "height": 0
        },
        "outputId": "da91fd62-360d-4dcd-a1dd-5eaa01532998"
      },
      "source": [
        "import pandas as pd\n",
        "import numpy as np\n",
        "# load dataset\n",
        "filename = \"risco_credito.csv\"\n",
        "df = pd.read_csv(filename)\n",
        "\n",
        "# create lists\n",
        "lst_features = list(df.columns[:-1])\n",
        "lst_col = lst_features[:]\n",
        "\n",
        "# Fix col name\n",
        "target = 'risco'\n",
        "lst_col.append(target)\n",
        "df.columns = lst_col\n",
        "\n",
        "# TEST: check col sum\n",
        "def test_check_col_sum():\n",
        "    for col in lst_features:\n",
        "        assert np.array_equal(\n",
        "            df_cross[col].sum().values\n",
        "            , df[col].value_counts().sort_index().values\n",
        "        ), col\n",
        "    pass\n",
        "\n",
        "# TEST: check row sum\n",
        "arr_ref = df[target].value_counts().values\n",
        "def test_check_row_sum():\n",
        "    for col in lst_features:\n",
        "        assert np.array_equal(\n",
        "            df_cross[col].sum(1).values\n",
        "            , arr_ref\n",
        "        ), col\n",
        "    pass\n",
        "\n",
        "# Probability table\n",
        "def probability_table_database(df):\n",
        "    \"\"\" Build table with probabilities for a given entry\n",
        "        args:\n",
        "            df (pd.DataFrame): database\n",
        "        return:\n",
        "            df_prob (pd.DataFrame): probability database (Naive Bayes)\n",
        "    \"\"\"\n",
        "    melt = df.melt(target).value_counts()\n",
        "    df_cross = melt.unstack(level=0).T.fillna(0).astype(int)\n",
        "    # Naive Bayes Table\n",
        "    df_prob = df_cross.div(arr_ref, axis='rows')\n",
        "    # Tests\n",
        "    test_check_col_sum()\n",
        "    test_check_row_sum()\n",
        "    # Display\n",
        "    print(\"Tabela probabilidade database\\n\")\n",
        "    display(df_prob.style.format(\"{:.1%}\"))\n",
        "\n",
        "    return df_prob\n",
        "\n",
        "# Naive Bayes Table\n",
        "df_prob = probability_table_database(df)\n",
        "\n",
        "prob = \"prob\"\n",
        "# Probability table entry\n",
        "def naive_bayes_predict(df, df_prob, test):\n",
        "    \n",
        "    \"\"\" Build table with probabilities for a given entry\n",
        "        args:\n",
        "            df (pd.DataFrame): database\n",
        "            df_prob (pd.DataFrame): probabilities for database\n",
        "            test (dict) with sample entry\n",
        "        return:\n",
        "            df_prob_test (pd.DataFrame): probabilities for target labels\n",
        "    \"\"\"\n",
        "    df_prob_test = pd.DataFrame()\n",
        "    for k,v in test.items():\n",
        "        df_prob_test[k] = df_prob[k][v]\n",
        "    df_prob_test[target] = df[target].value_counts(normalize=True)\n",
        "    df_prob_test[prob] = df_prob_test.product(1)\n",
        "    # normalize probability\n",
        "    df_prob_test[prob] = df_prob_test[prob].div(df_prob_test[prob].sum())\n",
        "    \n",
        "    # Print\n",
        "    print(\"\\nEntrada\\n\",test,\"\\n\")\n",
        "    print(\"Tabela probabilidade entrada\\n\")\n",
        "    display(df_prob_test)\n",
        "    # predicted label\n",
        "    idx = df_prob_test[prob].argmax()\n",
        "    print(\"\\npredicted\", target, df_prob_test.index[idx])\n",
        "\n",
        "    return df_prob_test\n",
        "\n",
        "# história boa, dívida alta, garantias nenhuma, renda > 35\n",
        "# test0 = [0, 0, 1, 2]\n",
        "test0 = {\n",
        "    \"historia\": \"boa\",\n",
        "    \"divida\": \"alta\",\n",
        "    \"garantias\": \"nenhuma\",\n",
        "    \"renda\": \"acima_35\"\n",
        "}\n",
        "\n",
        "df_prob_test0 = naive_bayes_predict(df, df_prob, test0)"
      ],
      "execution_count": 51,
      "outputs": [
        {
          "output_type": "stream",
          "text": [
            "Tabela probabilidade database\n",
            "\n"
          ],
          "name": "stdout"
        },
        {
          "output_type": "display_data",
          "data": {
            "text/html": [
              "<style  type=\"text/css\" >\n",
              "</style><table id=\"T_29e61d1a_536e_11eb_9d22_0242ac1c0002\" ><thead>    <tr>        <th class=\"index_name level0\" >variable</th>        <th class=\"col_heading level0 col0\" colspan=2>divida</th>        <th class=\"col_heading level0 col2\" colspan=2>garantias</th>        <th class=\"col_heading level0 col4\" colspan=3>historia</th>        <th class=\"col_heading level0 col7\" colspan=3>renda</th>    </tr>    <tr>        <th class=\"index_name level1\" >value</th>        <th class=\"col_heading level1 col0\" >alta</th>        <th class=\"col_heading level1 col1\" >baixa</th>        <th class=\"col_heading level1 col2\" >adequada</th>        <th class=\"col_heading level1 col3\" >nenhuma</th>        <th class=\"col_heading level1 col4\" >boa</th>        <th class=\"col_heading level1 col5\" >desconhecida</th>        <th class=\"col_heading level1 col6\" >ruim</th>        <th class=\"col_heading level1 col7\" >0_15</th>        <th class=\"col_heading level1 col8\" >15_35</th>        <th class=\"col_heading level1 col9\" >acima_35</th>    </tr>    <tr>        <th class=\"index_name level0\" >risco</th>        <th class=\"blank\" ></th>        <th class=\"blank\" ></th>        <th class=\"blank\" ></th>        <th class=\"blank\" ></th>        <th class=\"blank\" ></th>        <th class=\"blank\" ></th>        <th class=\"blank\" ></th>        <th class=\"blank\" ></th>        <th class=\"blank\" ></th>        <th class=\"blank\" ></th>    </tr></thead><tbody>\n",
              "                <tr>\n",
              "                        <th id=\"T_29e61d1a_536e_11eb_9d22_0242ac1c0002level0_row0\" class=\"row_heading level0 row0\" >alto</th>\n",
              "                        <td id=\"T_29e61d1a_536e_11eb_9d22_0242ac1c0002row0_col0\" class=\"data row0 col0\" >66.7%</td>\n",
              "                        <td id=\"T_29e61d1a_536e_11eb_9d22_0242ac1c0002row0_col1\" class=\"data row0 col1\" >33.3%</td>\n",
              "                        <td id=\"T_29e61d1a_536e_11eb_9d22_0242ac1c0002row0_col2\" class=\"data row0 col2\" >0.0%</td>\n",
              "                        <td id=\"T_29e61d1a_536e_11eb_9d22_0242ac1c0002row0_col3\" class=\"data row0 col3\" >100.0%</td>\n",
              "                        <td id=\"T_29e61d1a_536e_11eb_9d22_0242ac1c0002row0_col4\" class=\"data row0 col4\" >16.7%</td>\n",
              "                        <td id=\"T_29e61d1a_536e_11eb_9d22_0242ac1c0002row0_col5\" class=\"data row0 col5\" >33.3%</td>\n",
              "                        <td id=\"T_29e61d1a_536e_11eb_9d22_0242ac1c0002row0_col6\" class=\"data row0 col6\" >50.0%</td>\n",
              "                        <td id=\"T_29e61d1a_536e_11eb_9d22_0242ac1c0002row0_col7\" class=\"data row0 col7\" >50.0%</td>\n",
              "                        <td id=\"T_29e61d1a_536e_11eb_9d22_0242ac1c0002row0_col8\" class=\"data row0 col8\" >33.3%</td>\n",
              "                        <td id=\"T_29e61d1a_536e_11eb_9d22_0242ac1c0002row0_col9\" class=\"data row0 col9\" >16.7%</td>\n",
              "            </tr>\n",
              "            <tr>\n",
              "                        <th id=\"T_29e61d1a_536e_11eb_9d22_0242ac1c0002level0_row1\" class=\"row_heading level0 row1\" >baixo</th>\n",
              "                        <td id=\"T_29e61d1a_536e_11eb_9d22_0242ac1c0002row1_col0\" class=\"data row1 col0\" >40.0%</td>\n",
              "                        <td id=\"T_29e61d1a_536e_11eb_9d22_0242ac1c0002row1_col1\" class=\"data row1 col1\" >60.0%</td>\n",
              "                        <td id=\"T_29e61d1a_536e_11eb_9d22_0242ac1c0002row1_col2\" class=\"data row1 col2\" >40.0%</td>\n",
              "                        <td id=\"T_29e61d1a_536e_11eb_9d22_0242ac1c0002row1_col3\" class=\"data row1 col3\" >60.0%</td>\n",
              "                        <td id=\"T_29e61d1a_536e_11eb_9d22_0242ac1c0002row1_col4\" class=\"data row1 col4\" >60.0%</td>\n",
              "                        <td id=\"T_29e61d1a_536e_11eb_9d22_0242ac1c0002row1_col5\" class=\"data row1 col5\" >40.0%</td>\n",
              "                        <td id=\"T_29e61d1a_536e_11eb_9d22_0242ac1c0002row1_col6\" class=\"data row1 col6\" >0.0%</td>\n",
              "                        <td id=\"T_29e61d1a_536e_11eb_9d22_0242ac1c0002row1_col7\" class=\"data row1 col7\" >0.0%</td>\n",
              "                        <td id=\"T_29e61d1a_536e_11eb_9d22_0242ac1c0002row1_col8\" class=\"data row1 col8\" >0.0%</td>\n",
              "                        <td id=\"T_29e61d1a_536e_11eb_9d22_0242ac1c0002row1_col9\" class=\"data row1 col9\" >100.0%</td>\n",
              "            </tr>\n",
              "            <tr>\n",
              "                        <th id=\"T_29e61d1a_536e_11eb_9d22_0242ac1c0002level0_row2\" class=\"row_heading level0 row2\" >moderado</th>\n",
              "                        <td id=\"T_29e61d1a_536e_11eb_9d22_0242ac1c0002row2_col0\" class=\"data row2 col0\" >33.3%</td>\n",
              "                        <td id=\"T_29e61d1a_536e_11eb_9d22_0242ac1c0002row2_col1\" class=\"data row2 col1\" >66.7%</td>\n",
              "                        <td id=\"T_29e61d1a_536e_11eb_9d22_0242ac1c0002row2_col2\" class=\"data row2 col2\" >33.3%</td>\n",
              "                        <td id=\"T_29e61d1a_536e_11eb_9d22_0242ac1c0002row2_col3\" class=\"data row2 col3\" >66.7%</td>\n",
              "                        <td id=\"T_29e61d1a_536e_11eb_9d22_0242ac1c0002row2_col4\" class=\"data row2 col4\" >33.3%</td>\n",
              "                        <td id=\"T_29e61d1a_536e_11eb_9d22_0242ac1c0002row2_col5\" class=\"data row2 col5\" >33.3%</td>\n",
              "                        <td id=\"T_29e61d1a_536e_11eb_9d22_0242ac1c0002row2_col6\" class=\"data row2 col6\" >33.3%</td>\n",
              "                        <td id=\"T_29e61d1a_536e_11eb_9d22_0242ac1c0002row2_col7\" class=\"data row2 col7\" >0.0%</td>\n",
              "                        <td id=\"T_29e61d1a_536e_11eb_9d22_0242ac1c0002row2_col8\" class=\"data row2 col8\" >66.7%</td>\n",
              "                        <td id=\"T_29e61d1a_536e_11eb_9d22_0242ac1c0002row2_col9\" class=\"data row2 col9\" >33.3%</td>\n",
              "            </tr>\n",
              "    </tbody></table>"
            ],
            "text/plain": [
              "<pandas.io.formats.style.Styler at 0x7f858f8cb780>"
            ]
          },
          "metadata": {
            "tags": []
          }
        },
        {
          "output_type": "stream",
          "text": [
            "\n",
            "Entrada\n",
            " {'historia': 'boa', 'divida': 'alta', 'garantias': 'nenhuma', 'renda': 'acima_35'} \n",
            "\n",
            "Tabela probabilidade entrada\n",
            "\n"
          ],
          "name": "stdout"
        },
        {
          "output_type": "display_data",
          "data": {
            "text/html": [
              "<div>\n",
              "<style scoped>\n",
              "    .dataframe tbody tr th:only-of-type {\n",
              "        vertical-align: middle;\n",
              "    }\n",
              "\n",
              "    .dataframe tbody tr th {\n",
              "        vertical-align: top;\n",
              "    }\n",
              "\n",
              "    .dataframe thead th {\n",
              "        text-align: right;\n",
              "    }\n",
              "</style>\n",
              "<table border=\"1\" class=\"dataframe\">\n",
              "  <thead>\n",
              "    <tr style=\"text-align: right;\">\n",
              "      <th></th>\n",
              "      <th>historia</th>\n",
              "      <th>divida</th>\n",
              "      <th>garantias</th>\n",
              "      <th>renda</th>\n",
              "      <th>risco</th>\n",
              "      <th>prob</th>\n",
              "    </tr>\n",
              "    <tr>\n",
              "      <th>risco</th>\n",
              "      <th></th>\n",
              "      <th></th>\n",
              "      <th></th>\n",
              "      <th></th>\n",
              "      <th></th>\n",
              "      <th></th>\n",
              "    </tr>\n",
              "  </thead>\n",
              "  <tbody>\n",
              "    <tr>\n",
              "      <th>alto</th>\n",
              "      <td>0.166667</td>\n",
              "      <td>0.666667</td>\n",
              "      <td>1.000000</td>\n",
              "      <td>0.166667</td>\n",
              "      <td>0.428571</td>\n",
              "      <td>0.122750</td>\n",
              "    </tr>\n",
              "    <tr>\n",
              "      <th>baixo</th>\n",
              "      <td>0.600000</td>\n",
              "      <td>0.400000</td>\n",
              "      <td>0.600000</td>\n",
              "      <td>1.000000</td>\n",
              "      <td>0.357143</td>\n",
              "      <td>0.795417</td>\n",
              "    </tr>\n",
              "    <tr>\n",
              "      <th>moderado</th>\n",
              "      <td>0.333333</td>\n",
              "      <td>0.333333</td>\n",
              "      <td>0.666667</td>\n",
              "      <td>0.333333</td>\n",
              "      <td>0.214286</td>\n",
              "      <td>0.081833</td>\n",
              "    </tr>\n",
              "  </tbody>\n",
              "</table>\n",
              "</div>"
            ],
            "text/plain": [
              "          historia    divida  garantias     renda     risco      prob\n",
              "risco                                                                \n",
              "alto      0.166667  0.666667   1.000000  0.166667  0.428571  0.122750\n",
              "baixo     0.600000  0.400000   0.600000  1.000000  0.357143  0.795417\n",
              "moderado  0.333333  0.333333   0.666667  0.333333  0.214286  0.081833"
            ]
          },
          "metadata": {
            "tags": []
          }
        },
        {
          "output_type": "stream",
          "text": [
            "\n",
            "predicted risco baixo\n"
          ],
          "name": "stdout"
        }
      ]
    },
    {
      "cell_type": "markdown",
      "metadata": {
        "id": "TvVVTbVpIJ0D"
      },
      "source": [
        "### scikit-learn"
      ]
    },
    {
      "cell_type": "code",
      "metadata": {
        "id": "TCI1jdwZRMzp",
        "colab": {
          "base_uri": "https://localhost:8080/"
        },
        "outputId": "9a7f7840-55dd-4028-c8ed-894fbf408e15"
      },
      "source": [
        "import pandas as pd\n",
        "\n",
        "df = pd.read_csv('risco_credito.csv')\n",
        "\n",
        "X = df.iloc[:,:-1].values\n",
        "y = df.iloc[:,-1].values\n",
        "                  \n",
        "from sklearn.preprocessing import LabelEncoder\n",
        "labelencoder = LabelEncoder()\n",
        "\n",
        "dct = {}\n",
        "for idx in range(len(df.columns)-1):\n",
        "    X[:,idx] = labelencoder.fit_transform(X[:,idx])\n",
        "    dct_label = {}\n",
        "    for jj, label in enumerate(labelencoder.classes_):\n",
        "        dct_label[label] =  jj\n",
        "    dct[df.columns[idx]] = dct_label\n",
        "\n",
        "from sklearn.naive_bayes import GaussianNB\n",
        "# naive bayes doesn't deal with categorical data\n",
        "clf = GaussianNB()\n",
        "clf.fit(X, y)\n",
        "\n",
        "# história boa, dívida alta, garantias nenhuma, renda > 35\n",
        "test0 = [0, 0, 1, 2]\n",
        "# história ruim, dívida alta, garantias adequada, renda < 15\n",
        "test1 = [2, 0, 0, 0]\n",
        "\n",
        "resultado = clf.predict([test0, test1])\n",
        "proba = clf.predict_proba([test0,test1])\n",
        "print(clf.classes_)\n",
        "print(clf.class_count_)\n",
        "print(clf.class_prior_)\n",
        "print(resultado)\n",
        "print(proba)"
      ],
      "execution_count": 52,
      "outputs": [
        {
          "output_type": "stream",
          "text": [
            "['alto' 'baixo' 'moderado']\n",
            "[6. 5. 3.]\n",
            "[0.42857143 0.35714286 0.21428571]\n",
            "['baixo' 'moderado']\n",
            "[[6.58741407e-02 9.34121865e-01 3.99420263e-06]\n",
            " [0.00000000e+00 0.00000000e+00 1.00000000e+00]]\n"
          ],
          "name": "stdout"
        }
      ]
    },
    {
      "cell_type": "code",
      "metadata": {
        "id": "qp99Wq-BupO4",
        "colab": {
          "base_uri": "https://localhost:8080/"
        },
        "outputId": "d2b5f3f4-59a8-4620-fc40-3f2f87316bfc"
      },
      "source": [
        "# TODO: check differences homemade implementation vs scikit learn\n",
        "df_prob_test0.iloc[:,:-1].product(1)"
      ],
      "execution_count": 53,
      "outputs": [
        {
          "output_type": "execute_result",
          "data": {
            "text/plain": [
              "risco\n",
              "alto        0.007937\n",
              "baixo       0.051429\n",
              "moderado    0.005291\n",
              "dtype: float64"
            ]
          },
          "metadata": {
            "tags": []
          },
          "execution_count": 53
        }
      ]
    },
    {
      "cell_type": "code",
      "metadata": {
        "id": "j2Gd9OW7UBe0",
        "colab": {
          "base_uri": "https://localhost:8080/"
        },
        "outputId": "edc584d0-8ebe-4ae1-b72d-5d560da6f0c7"
      },
      "source": [
        "dct"
      ],
      "execution_count": 54,
      "outputs": [
        {
          "output_type": "execute_result",
          "data": {
            "text/plain": [
              "{'divida': {'alta': 0, 'baixa': 1},\n",
              " 'garantias': {'adequada': 0, 'nenhuma': 1},\n",
              " 'historia': {'boa': 0, 'desconhecida': 1, 'ruim': 2},\n",
              " 'renda': {'0_15': 0, '15_35': 1, 'acima_35': 2}}"
            ]
          },
          "metadata": {
            "tags": []
          },
          "execution_count": 54
        }
      ]
    },
    {
      "cell_type": "code",
      "metadata": {
        "id": "mmr5A3m2j3N1",
        "colab": {
          "base_uri": "https://localhost:8080/"
        },
        "outputId": "72fdc078-03a7-4f43-f941-e4f1a9efa322"
      },
      "source": [
        "dct_inv = {}\n",
        "for col in df.columns[:-1]:\n",
        "    dct_inv[col] = {v:k for k,v in dct[col].items()}\n",
        "dct_inv"
      ],
      "execution_count": 55,
      "outputs": [
        {
          "output_type": "execute_result",
          "data": {
            "text/plain": [
              "{'divida': {0: 'alta', 1: 'baixa'},\n",
              " 'garantias': {0: 'adequada', 1: 'nenhuma'},\n",
              " 'historia': {0: 'boa', 1: 'desconhecida', 2: 'ruim'},\n",
              " 'renda': {0: '0_15', 1: '15_35', 2: 'acima_35'}}"
            ]
          },
          "metadata": {
            "tags": []
          },
          "execution_count": 55
        }
      ]
    },
    {
      "cell_type": "code",
      "metadata": {
        "id": "_o2c6oZwRMNj",
        "colab": {
          "base_uri": "https://localhost:8080/"
        },
        "outputId": "fcbeb847-c887-4b8c-8103-356de86996f4"
      },
      "source": [
        "dct_test0 = {}\n",
        "for idx, col in enumerate(df.columns[:-1]):\n",
        "    dct_test0[col] = dct_inv[col][test0[idx]]\n",
        "dct_test0"
      ],
      "execution_count": 56,
      "outputs": [
        {
          "output_type": "execute_result",
          "data": {
            "text/plain": [
              "{'divida': 'alta',\n",
              " 'garantias': 'nenhuma',\n",
              " 'historia': 'boa',\n",
              " 'renda': 'acima_35'}"
            ]
          },
          "metadata": {
            "tags": []
          },
          "execution_count": 56
        }
      ]
    },
    {
      "cell_type": "code",
      "metadata": {
        "id": "OfACbiwSRMFh",
        "colab": {
          "base_uri": "https://localhost:8080/"
        },
        "outputId": "61258510-8c7a-46cf-d55c-5f208261fb84"
      },
      "source": [
        "dct_test1 = {}\n",
        "for idx, col in enumerate(df.columns[:-1]):\n",
        "    dct_test1[col] = dct_inv[col][test1[idx]]\n",
        "dct_test1"
      ],
      "execution_count": 57,
      "outputs": [
        {
          "output_type": "execute_result",
          "data": {
            "text/plain": [
              "{'divida': 'alta',\n",
              " 'garantias': 'adequada',\n",
              " 'historia': 'ruim',\n",
              " 'renda': '0_15'}"
            ]
          },
          "metadata": {
            "tags": []
          },
          "execution_count": 57
        }
      ]
    },
    {
      "cell_type": "code",
      "metadata": {
        "id": "rDvCcx91ovuE",
        "colab": {
          "base_uri": "https://localhost:8080/"
        },
        "outputId": "a718df65-ae9a-4255-df43-3346ef571cae"
      },
      "source": [
        "dct_test1_inv = {}\n",
        "for idx, col in enumerate(df.columns[:-1]):\n",
        "    dct_test1_inv[col] = dct[col][dct_test1[col]]\n",
        "dct_test1_inv"
      ],
      "execution_count": 58,
      "outputs": [
        {
          "output_type": "execute_result",
          "data": {
            "text/plain": [
              "{'divida': 0, 'garantias': 0, 'historia': 2, 'renda': 0}"
            ]
          },
          "metadata": {
            "tags": []
          },
          "execution_count": 58
        }
      ]
    },
    {
      "cell_type": "markdown",
      "metadata": {
        "id": "VnQRMDFUQiSm"
      },
      "source": [
        "### Bolinhas"
      ]
    },
    {
      "cell_type": "code",
      "metadata": {
        "id": "0p0gUTw-dnfB"
      },
      "source": [
        "red = 7\n",
        "blue = 5\n",
        "total = red + blue\n",
        "\n",
        "# Apriori Probabilities\n",
        "# Global\n",
        "p_red= red/total\n",
        "p_blue = blue/total\n",
        "# Local\n",
        "red_local = 3\n",
        "blue_local = 1\n",
        "p_red_local = red_local/red\n",
        "p_blue_local = blue_local/blue\n",
        "\n",
        "# Predicted label\n",
        "predict_red = p_red * p_red_local\n",
        "predict_blue = p_blue * p_blue_local"
      ],
      "execution_count": 59,
      "outputs": []
    },
    {
      "cell_type": "code",
      "metadata": {
        "id": "DwedA-NPIi5i",
        "colab": {
          "base_uri": "https://localhost:8080/"
        },
        "outputId": "e23c5928-6a37-4c66-e48a-b623020ff4e4"
      },
      "source": [
        "class Ball():\n",
        "    def __init__(self,color,unit,local):\n",
        "        self.color = color\n",
        "        self.unit = unit\n",
        "        self.local = local\n",
        "        \n",
        "    # Global (apriori probability)\n",
        "    def global_prob(self,total):\n",
        "        self.prob_global = self.unit/total\n",
        "    \n",
        "    # Local (apriori probability)\n",
        "    def local_prob(self):\n",
        "        self.prob_local = self.local/self.unit\n",
        "    \n",
        "    # Predict (posteriori probability)\n",
        "    def color_pred(self):\n",
        "        self.pred_color = self.prob_global * self.prob_local\n",
        "\n",
        "blue = Ball(\"blue\",5,1)\n",
        "red = Ball(\"red\",7,3)\n",
        "\n",
        "total = blue.unit + red.unit\n",
        "\n",
        "blue.global_prob(total)\n",
        "red.global_prob(total)\n",
        "\n",
        "blue.local_prob()\n",
        "red.local_prob()\n",
        "\n",
        "blue.color_pred()\n",
        "red.color_pred()\n",
        "\n",
        "red.__dict__\n"
      ],
      "execution_count": 60,
      "outputs": [
        {
          "output_type": "execute_result",
          "data": {
            "text/plain": [
              "{'color': 'red',\n",
              " 'local': 3,\n",
              " 'pred_color': 0.25,\n",
              " 'prob_global': 0.5833333333333334,\n",
              " 'prob_local': 0.42857142857142855,\n",
              " 'unit': 7}"
            ]
          },
          "metadata": {
            "tags": []
          },
          "execution_count": 60
        }
      ]
    },
    {
      "cell_type": "code",
      "metadata": {
        "id": "9E67wG7CLRu7",
        "colab": {
          "base_uri": "https://localhost:8080/"
        },
        "outputId": "e3e9d28a-12d5-4434-ab07-8c020584fc5c"
      },
      "source": [
        "blue.__dict__"
      ],
      "execution_count": 61,
      "outputs": [
        {
          "output_type": "execute_result",
          "data": {
            "text/plain": [
              "{'color': 'blue',\n",
              " 'local': 1,\n",
              " 'pred_color': 0.08333333333333334,\n",
              " 'prob_global': 0.4166666666666667,\n",
              " 'prob_local': 0.2,\n",
              " 'unit': 5}"
            ]
          },
          "metadata": {
            "tags": []
          },
          "execution_count": 61
        }
      ]
    },
    {
      "cell_type": "markdown",
      "metadata": {
        "id": "r16AFGaixhlz"
      },
      "source": [
        "### Análise de crédito"
      ]
    },
    {
      "cell_type": "code",
      "metadata": {
        "id": "8evif14oxf1Y",
        "colab": {
          "base_uri": "https://localhost:8080/"
        },
        "outputId": "75072697-15dd-4ddb-ba47-aea6dc77a9ec"
      },
      "source": [
        "# load dataset\n",
        "import pandas as pd\n",
        "filename = \"credit_data.csv\"\n",
        "df = pd.read_csv(filename)\n",
        "\n",
        "# fix column names\n",
        "dct_names = {\"id\": \"clientid\",\n",
        "             \"features\": [\"income\", \"age\", \"loan\"],\n",
        "             \"target\": \"default\"}\n",
        "lst_columns = list(dct_names.values())\n",
        "flatten = lambda *n: (e for a in n\n",
        "    for e in (flatten(*a) if isinstance(a, (tuple, list)) else (a,)))\n",
        "lst_columns = list(flatten(lst_columns))\n",
        "df.columns = lst_columns\n",
        "\n",
        "# imput mean values rowwise on inconsistent values\n",
        "# identify inconsistent values\n",
        "col = \"age\"\n",
        "mask = df[col]<0\n",
        "idx = df.loc[mask].index\n",
        "# compute mean without inconsistent values\n",
        "mean = df[col].loc[~mask].mean()\n",
        "# imput mean values rowwise on inconsistent values\n",
        "df.loc[mask,col] = mean\n",
        "\n",
        "# features\n",
        "X = df.loc[:,dct_names[\"features\"]].values\n",
        "# target\n",
        "y = df.loc[:,dct_names[\"target\"]].values\n",
        "\n",
        "# imput mean values on missing values\n",
        "import numpy as np\n",
        "from sklearn.impute import SimpleImputer\n",
        "imputer = SimpleImputer(\n",
        "    missing_values=np.nan\n",
        "    , strategy=\"mean\"\n",
        ")\n",
        "imputer = imputer.fit(X[:,:])\n",
        "X[:,:] = imputer.transform(X[:,:])\n",
        "# Standardization\n",
        "from sklearn.preprocessing import StandardScaler\n",
        "scaler = StandardScaler()\n",
        "X = scaler.fit_transform(X)\n",
        "# Train-test split\n",
        "from sklearn.model_selection import train_test_split\n",
        "X_train, X_test, y_train, y_test = train_test_split(\n",
        "    X\n",
        "    , y\n",
        "    , test_size=0.25\n",
        "    , random_state=0\n",
        ")\n",
        "# Classifier\n",
        "from sklearn.naive_bayes import GaussianNB\n",
        "clf = GaussianNB()\n",
        "# Train\n",
        "clf.fit(X_train, y_train)\n",
        "# Predict\n",
        "y_pred = clf.predict(X_test)\n",
        "# Evaluation\n",
        "from sklearn.metrics import confusion_matrix, accuracy_score\n",
        "score = accuracy_score(y_test, y_pred)\n",
        "confusion_matrix = confusion_matrix(y_test, y_pred)\n",
        "\n",
        "print(confusion_matrix)\n",
        "\n",
        "print(score)"
      ],
      "execution_count": 62,
      "outputs": [
        {
          "output_type": "stream",
          "text": [
            "[[428   8]\n",
            " [ 23  41]]\n",
            "0.938\n"
          ],
          "name": "stdout"
        }
      ]
    },
    {
      "cell_type": "markdown",
      "metadata": {
        "id": "mJq1CtOf2VxV"
      },
      "source": [
        "### Censo"
      ]
    },
    {
      "cell_type": "code",
      "metadata": {
        "id": "OB04HEEg1DQk",
        "colab": {
          "base_uri": "https://localhost:8080/"
        },
        "outputId": "b8ec606a-679c-4a16-e847-b9c4e10828cf"
      },
      "source": [
        "# load data\n",
        "filename = \"census.csv\"\n",
        "df = pd.read_csv(filename)\n",
        "\n",
        "# identify columns with string data\n",
        "lst_col_str = [col for col in df.columns if df[col].dtypes==\"object\"]\n",
        "# remove target name\n",
        "lst_col_str.pop(-1)  \n",
        "# get index from categorical features\n",
        "lst_idx_col_str = [df.columns.get_loc(col_name) for col_name in lst_col_str]\n",
        "\n",
        "# split features and target\n",
        "X = df.iloc[:,:-1].values\n",
        "y = df.iloc[:,-1].values\n",
        "\n",
        "# Encoding\n",
        "from sklearn.preprocessing import LabelEncoder, OneHotEncoder\n",
        "from sklearn.compose import ColumnTransformer\n",
        "\n",
        "\n",
        "labelencoder = LabelEncoder()\n",
        "\n",
        "for idx in lst_idx_col_str:\n",
        "    X[:,idx] = labelencoder.fit_transform(X[:,idx])\n",
        "\n",
        "onehotencorder = ColumnTransformer(\n",
        "    transformers=[\n",
        "                  (\"OneHot\", OneHotEncoder(), lst_idx_col_str)\n",
        "                  ]\n",
        "                  , remainder='passthrough'\n",
        "    )\n",
        "X = onehotencorder.fit_transform(X).toarray()\n",
        "\n",
        "labelencorder = LabelEncoder()\n",
        "y = labelencorder.fit_transform(y)\n",
        "\n",
        "# Standardization\n",
        "from sklearn.preprocessing import StandardScaler\n",
        "scaler = StandardScaler()\n",
        "# X = scaler.fit_transform(X)  # perde interpretação\n",
        "# nao faz muito sentido junto com o one_hot_encoder\n",
        "\n",
        "\n",
        "# Train-Test Split\n",
        "from sklearn.model_selection import train_test_split\n",
        "X_train, X_test, y_train, y_test = train_test_split(\n",
        "    X\n",
        "    , y\n",
        "    , test_size=0.15\n",
        "    , random_state=0\n",
        ")\n",
        "\n",
        "# Classifier\n",
        "from sklearn.naive_bayes import GaussianNB\n",
        "clf = GaussianNB()\n",
        "# Train\n",
        "clf.fit(X_train, y_train)\n",
        "# Predict\n",
        "y_pred = clf.predict(X_test)\n",
        "# Evaluation\n",
        "from sklearn.metrics import confusion_matrix, accuracy_score\n",
        "score = accuracy_score(y_test, y_pred)\n",
        "confusion_matrix_NB = confusion_matrix(y_test, y_pred)\n",
        "\n",
        "print(confusion_matrix_NB)\n",
        "print(score)\n"
      ],
      "execution_count": 63,
      "outputs": [
        {
          "output_type": "stream",
          "text": [
            "[[3515  178]\n",
            " [ 823  369]]\n",
            "0.7950870010235415\n"
          ],
          "name": "stdout"
        }
      ]
    },
    {
      "cell_type": "markdown",
      "metadata": {
        "id": "pJzW6PUbff5e"
      },
      "source": [
        "### LabelEncoder\n",
        "\n",
        "https://towardsdatascience.com/categorical-encoding-using-label-encoding-and-one-hot-encoder-911ef77fb5bd"
      ]
    },
    {
      "cell_type": "code",
      "metadata": {
        "id": "1XW7Ww7AfmHZ",
        "colab": {
          "base_uri": "https://localhost:8080/",
          "height": 0
        },
        "outputId": "77f1e1d7-0802-465f-dc0d-23c9c0ac51e8"
      },
      "source": [
        "import pandas as pd\n",
        "import numpy as np\n",
        "from sklearn.preprocessing import LabelEncoder\n",
        "# creating initial dataframe\n",
        "bridge_types = ('Arch','Beam','Truss','Cantilever',\n",
        "                'Tied Arch','Suspension','Cable')\n",
        "bridge_df = pd.DataFrame(bridge_types, columns=['Bridge_Types'])\n",
        "# creating instance of labelencoder\n",
        "labelencoder = LabelEncoder()\n",
        "# Assigning numerical values and storing in another column\n",
        "bridge_df['Bridge_Types_Cat'] = labelencoder.fit_transform(\n",
        "    bridge_df['Bridge_Types'])\n",
        "bridge_df"
      ],
      "execution_count": 64,
      "outputs": [
        {
          "output_type": "execute_result",
          "data": {
            "text/html": [
              "<div>\n",
              "<style scoped>\n",
              "    .dataframe tbody tr th:only-of-type {\n",
              "        vertical-align: middle;\n",
              "    }\n",
              "\n",
              "    .dataframe tbody tr th {\n",
              "        vertical-align: top;\n",
              "    }\n",
              "\n",
              "    .dataframe thead th {\n",
              "        text-align: right;\n",
              "    }\n",
              "</style>\n",
              "<table border=\"1\" class=\"dataframe\">\n",
              "  <thead>\n",
              "    <tr style=\"text-align: right;\">\n",
              "      <th></th>\n",
              "      <th>Bridge_Types</th>\n",
              "      <th>Bridge_Types_Cat</th>\n",
              "    </tr>\n",
              "  </thead>\n",
              "  <tbody>\n",
              "    <tr>\n",
              "      <th>0</th>\n",
              "      <td>Arch</td>\n",
              "      <td>0</td>\n",
              "    </tr>\n",
              "    <tr>\n",
              "      <th>1</th>\n",
              "      <td>Beam</td>\n",
              "      <td>1</td>\n",
              "    </tr>\n",
              "    <tr>\n",
              "      <th>2</th>\n",
              "      <td>Truss</td>\n",
              "      <td>6</td>\n",
              "    </tr>\n",
              "    <tr>\n",
              "      <th>3</th>\n",
              "      <td>Cantilever</td>\n",
              "      <td>3</td>\n",
              "    </tr>\n",
              "    <tr>\n",
              "      <th>4</th>\n",
              "      <td>Tied Arch</td>\n",
              "      <td>5</td>\n",
              "    </tr>\n",
              "    <tr>\n",
              "      <th>5</th>\n",
              "      <td>Suspension</td>\n",
              "      <td>4</td>\n",
              "    </tr>\n",
              "    <tr>\n",
              "      <th>6</th>\n",
              "      <td>Cable</td>\n",
              "      <td>2</td>\n",
              "    </tr>\n",
              "  </tbody>\n",
              "</table>\n",
              "</div>"
            ],
            "text/plain": [
              "  Bridge_Types  Bridge_Types_Cat\n",
              "0         Arch                 0\n",
              "1         Beam                 1\n",
              "2        Truss                 6\n",
              "3   Cantilever                 3\n",
              "4    Tied Arch                 5\n",
              "5   Suspension                 4\n",
              "6        Cable                 2"
            ]
          },
          "metadata": {
            "tags": []
          },
          "execution_count": 64
        }
      ]
    },
    {
      "cell_type": "markdown",
      "metadata": {
        "id": "IiupIC1mfbrX"
      },
      "source": [
        "### OneHotEncoder"
      ]
    },
    {
      "cell_type": "code",
      "metadata": {
        "id": "M8Bj2RJif1U1",
        "colab": {
          "base_uri": "https://localhost:8080/",
          "height": 0
        },
        "outputId": "c566ee0e-4e57-4e3c-e2b8-6b8aac11890f"
      },
      "source": [
        "import pandas as pd\n",
        "import numpy as np\n",
        "from sklearn.preprocessing import OneHotEncoder\n",
        "# creating instance of one-hot-encoder\n",
        "enc = OneHotEncoder(handle_unknown='ignore')\n",
        "# passing bridge-types-cat column (label encoded values of bridge_types)\n",
        "enc_df = pd.DataFrame(enc.fit_transform(\n",
        "    bridge_df[['Bridge_Types_Cat']]).toarray())\n",
        "# merge with main df bridge_df on key values\n",
        "bridge_df = bridge_df.join(enc_df)\n",
        "bridge_df"
      ],
      "execution_count": 65,
      "outputs": [
        {
          "output_type": "execute_result",
          "data": {
            "text/html": [
              "<div>\n",
              "<style scoped>\n",
              "    .dataframe tbody tr th:only-of-type {\n",
              "        vertical-align: middle;\n",
              "    }\n",
              "\n",
              "    .dataframe tbody tr th {\n",
              "        vertical-align: top;\n",
              "    }\n",
              "\n",
              "    .dataframe thead th {\n",
              "        text-align: right;\n",
              "    }\n",
              "</style>\n",
              "<table border=\"1\" class=\"dataframe\">\n",
              "  <thead>\n",
              "    <tr style=\"text-align: right;\">\n",
              "      <th></th>\n",
              "      <th>Bridge_Types</th>\n",
              "      <th>Bridge_Types_Cat</th>\n",
              "      <th>0</th>\n",
              "      <th>1</th>\n",
              "      <th>2</th>\n",
              "      <th>3</th>\n",
              "      <th>4</th>\n",
              "      <th>5</th>\n",
              "      <th>6</th>\n",
              "    </tr>\n",
              "  </thead>\n",
              "  <tbody>\n",
              "    <tr>\n",
              "      <th>0</th>\n",
              "      <td>Arch</td>\n",
              "      <td>0</td>\n",
              "      <td>1.0</td>\n",
              "      <td>0.0</td>\n",
              "      <td>0.0</td>\n",
              "      <td>0.0</td>\n",
              "      <td>0.0</td>\n",
              "      <td>0.0</td>\n",
              "      <td>0.0</td>\n",
              "    </tr>\n",
              "    <tr>\n",
              "      <th>1</th>\n",
              "      <td>Beam</td>\n",
              "      <td>1</td>\n",
              "      <td>0.0</td>\n",
              "      <td>1.0</td>\n",
              "      <td>0.0</td>\n",
              "      <td>0.0</td>\n",
              "      <td>0.0</td>\n",
              "      <td>0.0</td>\n",
              "      <td>0.0</td>\n",
              "    </tr>\n",
              "    <tr>\n",
              "      <th>2</th>\n",
              "      <td>Truss</td>\n",
              "      <td>6</td>\n",
              "      <td>0.0</td>\n",
              "      <td>0.0</td>\n",
              "      <td>0.0</td>\n",
              "      <td>0.0</td>\n",
              "      <td>0.0</td>\n",
              "      <td>0.0</td>\n",
              "      <td>1.0</td>\n",
              "    </tr>\n",
              "    <tr>\n",
              "      <th>3</th>\n",
              "      <td>Cantilever</td>\n",
              "      <td>3</td>\n",
              "      <td>0.0</td>\n",
              "      <td>0.0</td>\n",
              "      <td>0.0</td>\n",
              "      <td>1.0</td>\n",
              "      <td>0.0</td>\n",
              "      <td>0.0</td>\n",
              "      <td>0.0</td>\n",
              "    </tr>\n",
              "    <tr>\n",
              "      <th>4</th>\n",
              "      <td>Tied Arch</td>\n",
              "      <td>5</td>\n",
              "      <td>0.0</td>\n",
              "      <td>0.0</td>\n",
              "      <td>0.0</td>\n",
              "      <td>0.0</td>\n",
              "      <td>0.0</td>\n",
              "      <td>1.0</td>\n",
              "      <td>0.0</td>\n",
              "    </tr>\n",
              "    <tr>\n",
              "      <th>5</th>\n",
              "      <td>Suspension</td>\n",
              "      <td>4</td>\n",
              "      <td>0.0</td>\n",
              "      <td>0.0</td>\n",
              "      <td>0.0</td>\n",
              "      <td>0.0</td>\n",
              "      <td>1.0</td>\n",
              "      <td>0.0</td>\n",
              "      <td>0.0</td>\n",
              "    </tr>\n",
              "    <tr>\n",
              "      <th>6</th>\n",
              "      <td>Cable</td>\n",
              "      <td>2</td>\n",
              "      <td>0.0</td>\n",
              "      <td>0.0</td>\n",
              "      <td>1.0</td>\n",
              "      <td>0.0</td>\n",
              "      <td>0.0</td>\n",
              "      <td>0.0</td>\n",
              "      <td>0.0</td>\n",
              "    </tr>\n",
              "  </tbody>\n",
              "</table>\n",
              "</div>"
            ],
            "text/plain": [
              "  Bridge_Types  Bridge_Types_Cat    0    1    2    3    4    5    6\n",
              "0         Arch                 0  1.0  0.0  0.0  0.0  0.0  0.0  0.0\n",
              "1         Beam                 1  0.0  1.0  0.0  0.0  0.0  0.0  0.0\n",
              "2        Truss                 6  0.0  0.0  0.0  0.0  0.0  0.0  1.0\n",
              "3   Cantilever                 3  0.0  0.0  0.0  1.0  0.0  0.0  0.0\n",
              "4    Tied Arch                 5  0.0  0.0  0.0  0.0  0.0  1.0  0.0\n",
              "5   Suspension                 4  0.0  0.0  0.0  0.0  1.0  0.0  0.0\n",
              "6        Cable                 2  0.0  0.0  1.0  0.0  0.0  0.0  0.0"
            ]
          },
          "metadata": {
            "tags": []
          },
          "execution_count": 65
        }
      ]
    },
    {
      "cell_type": "code",
      "metadata": {
        "id": "rS0x-LGTf_F7",
        "colab": {
          "base_uri": "https://localhost:8080/",
          "height": 0
        },
        "outputId": "c3a75f69-90f0-49f4-c4ce-843bef17c0eb"
      },
      "source": [
        "import pandas as pd\n",
        "import numpy as np\n",
        "# creating initial dataframe\n",
        "bridge_types = ('Arch','Beam','Truss','Cantilever',\n",
        "                'Tied Arch','Suspension','Cable')\n",
        "bridge_df = pd.DataFrame(bridge_types, columns=['Bridge_Types'])\n",
        "# generate binary values using get_dummies\n",
        "dum_df = pd.get_dummies(bridge_df, columns=[\"Bridge_Types\"], prefix=[\"Type_is\"])\n",
        "# merge with main df bridge_df on key values\n",
        "bridge_df = bridge_df.join(dum_df)\n",
        "bridge_df"
      ],
      "execution_count": 66,
      "outputs": [
        {
          "output_type": "execute_result",
          "data": {
            "text/html": [
              "<div>\n",
              "<style scoped>\n",
              "    .dataframe tbody tr th:only-of-type {\n",
              "        vertical-align: middle;\n",
              "    }\n",
              "\n",
              "    .dataframe tbody tr th {\n",
              "        vertical-align: top;\n",
              "    }\n",
              "\n",
              "    .dataframe thead th {\n",
              "        text-align: right;\n",
              "    }\n",
              "</style>\n",
              "<table border=\"1\" class=\"dataframe\">\n",
              "  <thead>\n",
              "    <tr style=\"text-align: right;\">\n",
              "      <th></th>\n",
              "      <th>Bridge_Types</th>\n",
              "      <th>Type_is_Arch</th>\n",
              "      <th>Type_is_Beam</th>\n",
              "      <th>Type_is_Cable</th>\n",
              "      <th>Type_is_Cantilever</th>\n",
              "      <th>Type_is_Suspension</th>\n",
              "      <th>Type_is_Tied Arch</th>\n",
              "      <th>Type_is_Truss</th>\n",
              "    </tr>\n",
              "  </thead>\n",
              "  <tbody>\n",
              "    <tr>\n",
              "      <th>0</th>\n",
              "      <td>Arch</td>\n",
              "      <td>1</td>\n",
              "      <td>0</td>\n",
              "      <td>0</td>\n",
              "      <td>0</td>\n",
              "      <td>0</td>\n",
              "      <td>0</td>\n",
              "      <td>0</td>\n",
              "    </tr>\n",
              "    <tr>\n",
              "      <th>1</th>\n",
              "      <td>Beam</td>\n",
              "      <td>0</td>\n",
              "      <td>1</td>\n",
              "      <td>0</td>\n",
              "      <td>0</td>\n",
              "      <td>0</td>\n",
              "      <td>0</td>\n",
              "      <td>0</td>\n",
              "    </tr>\n",
              "    <tr>\n",
              "      <th>2</th>\n",
              "      <td>Truss</td>\n",
              "      <td>0</td>\n",
              "      <td>0</td>\n",
              "      <td>0</td>\n",
              "      <td>0</td>\n",
              "      <td>0</td>\n",
              "      <td>0</td>\n",
              "      <td>1</td>\n",
              "    </tr>\n",
              "    <tr>\n",
              "      <th>3</th>\n",
              "      <td>Cantilever</td>\n",
              "      <td>0</td>\n",
              "      <td>0</td>\n",
              "      <td>0</td>\n",
              "      <td>1</td>\n",
              "      <td>0</td>\n",
              "      <td>0</td>\n",
              "      <td>0</td>\n",
              "    </tr>\n",
              "    <tr>\n",
              "      <th>4</th>\n",
              "      <td>Tied Arch</td>\n",
              "      <td>0</td>\n",
              "      <td>0</td>\n",
              "      <td>0</td>\n",
              "      <td>0</td>\n",
              "      <td>0</td>\n",
              "      <td>1</td>\n",
              "      <td>0</td>\n",
              "    </tr>\n",
              "    <tr>\n",
              "      <th>5</th>\n",
              "      <td>Suspension</td>\n",
              "      <td>0</td>\n",
              "      <td>0</td>\n",
              "      <td>0</td>\n",
              "      <td>0</td>\n",
              "      <td>1</td>\n",
              "      <td>0</td>\n",
              "      <td>0</td>\n",
              "    </tr>\n",
              "    <tr>\n",
              "      <th>6</th>\n",
              "      <td>Cable</td>\n",
              "      <td>0</td>\n",
              "      <td>0</td>\n",
              "      <td>1</td>\n",
              "      <td>0</td>\n",
              "      <td>0</td>\n",
              "      <td>0</td>\n",
              "      <td>0</td>\n",
              "    </tr>\n",
              "  </tbody>\n",
              "</table>\n",
              "</div>"
            ],
            "text/plain": [
              "  Bridge_Types  Type_is_Arch  ...  Type_is_Tied Arch  Type_is_Truss\n",
              "0         Arch             1  ...                  0              0\n",
              "1         Beam             0  ...                  0              0\n",
              "2        Truss             0  ...                  0              1\n",
              "3   Cantilever             0  ...                  0              0\n",
              "4    Tied Arch             0  ...                  1              0\n",
              "5   Suspension             0  ...                  0              0\n",
              "6        Cable             0  ...                  0              0\n",
              "\n",
              "[7 rows x 8 columns]"
            ]
          },
          "metadata": {
            "tags": []
          },
          "execution_count": 66
        }
      ]
    },
    {
      "cell_type": "code",
      "metadata": {
        "id": "fk9zQCxB4aiA",
        "colab": {
          "base_uri": "https://localhost:8080/",
          "height": 0
        },
        "outputId": "475a7323-56cf-4523-cd4e-5b0a9e6dafed"
      },
      "source": [
        "# https://towardsdatascience.com/how-to-assign-labels-with-sklearn-one-hot-encoder-e59a5f17df4f\n",
        "\n",
        "from sklearn.preprocessing import OneHotEncoder as SklearnOneHotEncoder\n",
        "\n",
        "class OneHotEncoder(SklearnOneHotEncoder):\n",
        "    def __init__(self, **kwargs):\n",
        "        super(OneHotEncoder, self).__init__(**kwargs)\n",
        "        self.fit_flag = False\n",
        "\n",
        "    def fit(self, X, **kwargs):\n",
        "        out = super().fit(X)\n",
        "        self.fit_flag = True\n",
        "        return out\n",
        "\n",
        "    def transform(self, X, **kwargs):\n",
        "        sparse_matrix = super(OneHotEncoder, self).transform(X)\n",
        "        new_columns = self.get_new_columns(X=X)\n",
        "        d_out = pd.DataFrame(sparse_matrix.toarray(),\n",
        "                             columns=new_columns,\n",
        "                             index=X.index)\n",
        "        return d_out\n",
        "\n",
        "    def fit_transform(self, X, **kwargs):\n",
        "        self.fit(X)\n",
        "        return self.transform(X)\n",
        "\n",
        "    def get_new_columns(self, X):\n",
        "        new_columns = []\n",
        "        for i, column in enumerate(X.columns):\n",
        "            j = 0\n",
        "            while j < len(self.categories_[i]):\n",
        "                new_columns.append(f'{column}_<{self.categories_[i][j]}>')\n",
        "                j += 1\n",
        "        return new_columns\n",
        "\n",
        "encoder = OneHotEncoder()\n",
        "# creating initial dataframe\n",
        "bridge_types = ('Arch','Beam','Truss','Cantilever',\n",
        "                'Tied Arch','Suspension','Cable')\n",
        "bridge_df = pd.DataFrame(bridge_types, columns=['Bridge_Types'])\n",
        "encoder.fit_transform(bridge_df)"
      ],
      "execution_count": 67,
      "outputs": [
        {
          "output_type": "execute_result",
          "data": {
            "text/html": [
              "<div>\n",
              "<style scoped>\n",
              "    .dataframe tbody tr th:only-of-type {\n",
              "        vertical-align: middle;\n",
              "    }\n",
              "\n",
              "    .dataframe tbody tr th {\n",
              "        vertical-align: top;\n",
              "    }\n",
              "\n",
              "    .dataframe thead th {\n",
              "        text-align: right;\n",
              "    }\n",
              "</style>\n",
              "<table border=\"1\" class=\"dataframe\">\n",
              "  <thead>\n",
              "    <tr style=\"text-align: right;\">\n",
              "      <th></th>\n",
              "      <th>Bridge_Types_&lt;Arch&gt;</th>\n",
              "      <th>Bridge_Types_&lt;Beam&gt;</th>\n",
              "      <th>Bridge_Types_&lt;Cable&gt;</th>\n",
              "      <th>Bridge_Types_&lt;Cantilever&gt;</th>\n",
              "      <th>Bridge_Types_&lt;Suspension&gt;</th>\n",
              "      <th>Bridge_Types_&lt;Tied Arch&gt;</th>\n",
              "      <th>Bridge_Types_&lt;Truss&gt;</th>\n",
              "    </tr>\n",
              "  </thead>\n",
              "  <tbody>\n",
              "    <tr>\n",
              "      <th>0</th>\n",
              "      <td>1.0</td>\n",
              "      <td>0.0</td>\n",
              "      <td>0.0</td>\n",
              "      <td>0.0</td>\n",
              "      <td>0.0</td>\n",
              "      <td>0.0</td>\n",
              "      <td>0.0</td>\n",
              "    </tr>\n",
              "    <tr>\n",
              "      <th>1</th>\n",
              "      <td>0.0</td>\n",
              "      <td>1.0</td>\n",
              "      <td>0.0</td>\n",
              "      <td>0.0</td>\n",
              "      <td>0.0</td>\n",
              "      <td>0.0</td>\n",
              "      <td>0.0</td>\n",
              "    </tr>\n",
              "    <tr>\n",
              "      <th>2</th>\n",
              "      <td>0.0</td>\n",
              "      <td>0.0</td>\n",
              "      <td>0.0</td>\n",
              "      <td>0.0</td>\n",
              "      <td>0.0</td>\n",
              "      <td>0.0</td>\n",
              "      <td>1.0</td>\n",
              "    </tr>\n",
              "    <tr>\n",
              "      <th>3</th>\n",
              "      <td>0.0</td>\n",
              "      <td>0.0</td>\n",
              "      <td>0.0</td>\n",
              "      <td>1.0</td>\n",
              "      <td>0.0</td>\n",
              "      <td>0.0</td>\n",
              "      <td>0.0</td>\n",
              "    </tr>\n",
              "    <tr>\n",
              "      <th>4</th>\n",
              "      <td>0.0</td>\n",
              "      <td>0.0</td>\n",
              "      <td>0.0</td>\n",
              "      <td>0.0</td>\n",
              "      <td>0.0</td>\n",
              "      <td>1.0</td>\n",
              "      <td>0.0</td>\n",
              "    </tr>\n",
              "    <tr>\n",
              "      <th>5</th>\n",
              "      <td>0.0</td>\n",
              "      <td>0.0</td>\n",
              "      <td>0.0</td>\n",
              "      <td>0.0</td>\n",
              "      <td>1.0</td>\n",
              "      <td>0.0</td>\n",
              "      <td>0.0</td>\n",
              "    </tr>\n",
              "    <tr>\n",
              "      <th>6</th>\n",
              "      <td>0.0</td>\n",
              "      <td>0.0</td>\n",
              "      <td>1.0</td>\n",
              "      <td>0.0</td>\n",
              "      <td>0.0</td>\n",
              "      <td>0.0</td>\n",
              "      <td>0.0</td>\n",
              "    </tr>\n",
              "  </tbody>\n",
              "</table>\n",
              "</div>"
            ],
            "text/plain": [
              "   Bridge_Types_<Arch>  ...  Bridge_Types_<Truss>\n",
              "0                  1.0  ...                   0.0\n",
              "1                  0.0  ...                   0.0\n",
              "2                  0.0  ...                   1.0\n",
              "3                  0.0  ...                   0.0\n",
              "4                  0.0  ...                   0.0\n",
              "5                  0.0  ...                   0.0\n",
              "6                  0.0  ...                   0.0\n",
              "\n",
              "[7 rows x 7 columns]"
            ]
          },
          "metadata": {
            "tags": []
          },
          "execution_count": 67
        }
      ]
    },
    {
      "cell_type": "markdown",
      "metadata": {
        "id": "xQBDeTt5KnGn"
      },
      "source": [
        "## Árvores de decisão / Decision Trees\n",
        "* Teoria\n",
        "* Poda / prone\n",
        "* Random Forest / floresta randômica\n",
        " * XBOX Kinect\n",
        "* Vantagens\n",
        " 1. fácil interpretação\n",
        " 1. não precisa escalonar (pouco influencia)\n",
        " 1. classifica rápido novos registros\n",
        "* Desvantagens\n",
        " 1. gera árvores muito complexas\n",
        " 1. pequenas mudanças nos dados pode mudar árvore (poda pode ajudar)\n",
        " 1. problema NP-completo para construir a árvore\n",
        "\n",
        "* populares meados anos 90\n",
        " * perderam espaço para SVM, redes neurais\n",
        "* upgrades como random forest melhoram desempenho\n",
        "\n",
        "* CART: Classification And Regression Trees\n",
        "\n",
        "\n",
        "* Entropia\n",
        " * Teoria da informação\n",
        " $$ Entropy (S) = - \\sum_{i=1}^{c}{p_i}\\log_2p_i $$\n",
        "* Ganho\n",
        " $$ Gain (S,A) = Entropy_(S) - \\sum_{v \\in Values(A)} \\frac{|S_v|}{|S|}Entropy(S_v)$$\n",
        "\n",
        "$$ Gain_{feature} = S_{target} - \\sum p_{feature}S_{feature} $$\n",
        "\n",
        "* Gini index\n",
        "$$ Gini = 1 - \\sum_{i=1}^{c}{p_{i}^{2}} $$"
      ]
    },
    {
      "cell_type": "markdown",
      "metadata": {
        "id": "Svr3FTlbE6Sa"
      },
      "source": [
        "#### Random forest\n",
        "* Ensemble learning (aprendizagem em conjunto)\n",
        " * consulta diversos para tomar decisão\n",
        " * junta para ser mais robusto\n",
        " * quanto mais árvores, mais propenso a overfitting\n",
        "* metaparâmetros: número de features, número de árvores"
      ]
    },
    {
      "cell_type": "markdown",
      "metadata": {
        "id": "DK9xkfl7Vdty"
      },
      "source": [
        "1. Objetivo principal do treinamento de uma árvore de decisão:\n",
        " * Descobrir atributos mais importantes\n",
        "1. Por meio de uma árvore de decisão, podemos visualizar de forma gráfica o processo de tomada de decisão. Essa visualização se dá pela forma de uma árvore \"real\" invertida, ou seja, a raiz vem no topo seguida dos nós e sucessivamente das folhas (V)\n",
        "1. Uma árvore de decisão não pode ser vista como um conjunto de regras do tipo se-então (F)\n",
        "1. A entropia pode ser caracterizada como a pureza ou impureza na base de dados, ou seja, o quão organizados ou desorganizados estão os dados (V)\n",
        " * dados organizados ou desorganizados???\n",
        "1. O cálculo do ganho da informação mede qual atributo tem o valor mais baixo, com o objetivo de ser utilizado na classificação de toda a base de dados (F)\n",
        "\n",
        "\n",
        "\n",
        "\n",
        "\n",
        "\n",
        "\n"
      ]
    },
    {
      "cell_type": "markdown",
      "metadata": {
        "id": "MCofiktgKm9u"
      },
      "source": [
        "### Risco crédito\n"
      ]
    },
    {
      "cell_type": "markdown",
      "metadata": {
        "id": "DM2kSibqqruv"
      },
      "source": [
        "#### homemade"
      ]
    },
    {
      "cell_type": "code",
      "metadata": {
        "id": "2tmZw-33m4N_",
        "colab": {
          "base_uri": "https://localhost:8080/",
          "height": 0
        },
        "outputId": "46f2fdc8-ce00-4bcb-819a-7fbf8b7da62e"
      },
      "source": [
        "import pandas as pd\n",
        "import numpy as np\n",
        "# load dataset\n",
        "filename = \"risco_credito.csv\"\n",
        "df = pd.read_csv(filename)\n",
        "\n",
        "# create lists\n",
        "lst_features = list(df.columns[:-1])\n",
        "lst_col = lst_features[:]\n",
        "\n",
        "# Fix col name\n",
        "target = 'risco'\n",
        "lst_col.append(target)\n",
        "df.columns = lst_col\n",
        "df.head()"
      ],
      "execution_count": 68,
      "outputs": [
        {
          "output_type": "execute_result",
          "data": {
            "text/html": [
              "<div>\n",
              "<style scoped>\n",
              "    .dataframe tbody tr th:only-of-type {\n",
              "        vertical-align: middle;\n",
              "    }\n",
              "\n",
              "    .dataframe tbody tr th {\n",
              "        vertical-align: top;\n",
              "    }\n",
              "\n",
              "    .dataframe thead th {\n",
              "        text-align: right;\n",
              "    }\n",
              "</style>\n",
              "<table border=\"1\" class=\"dataframe\">\n",
              "  <thead>\n",
              "    <tr style=\"text-align: right;\">\n",
              "      <th></th>\n",
              "      <th>historia</th>\n",
              "      <th>divida</th>\n",
              "      <th>garantias</th>\n",
              "      <th>renda</th>\n",
              "      <th>risco</th>\n",
              "    </tr>\n",
              "  </thead>\n",
              "  <tbody>\n",
              "    <tr>\n",
              "      <th>0</th>\n",
              "      <td>ruim</td>\n",
              "      <td>alta</td>\n",
              "      <td>nenhuma</td>\n",
              "      <td>0_15</td>\n",
              "      <td>alto</td>\n",
              "    </tr>\n",
              "    <tr>\n",
              "      <th>1</th>\n",
              "      <td>desconhecida</td>\n",
              "      <td>alta</td>\n",
              "      <td>nenhuma</td>\n",
              "      <td>15_35</td>\n",
              "      <td>alto</td>\n",
              "    </tr>\n",
              "    <tr>\n",
              "      <th>2</th>\n",
              "      <td>desconhecida</td>\n",
              "      <td>baixa</td>\n",
              "      <td>nenhuma</td>\n",
              "      <td>15_35</td>\n",
              "      <td>moderado</td>\n",
              "    </tr>\n",
              "    <tr>\n",
              "      <th>3</th>\n",
              "      <td>desconhecida</td>\n",
              "      <td>baixa</td>\n",
              "      <td>nenhuma</td>\n",
              "      <td>acima_35</td>\n",
              "      <td>alto</td>\n",
              "    </tr>\n",
              "    <tr>\n",
              "      <th>4</th>\n",
              "      <td>desconhecida</td>\n",
              "      <td>baixa</td>\n",
              "      <td>nenhuma</td>\n",
              "      <td>acima_35</td>\n",
              "      <td>baixo</td>\n",
              "    </tr>\n",
              "  </tbody>\n",
              "</table>\n",
              "</div>"
            ],
            "text/plain": [
              "       historia divida garantias     renda     risco\n",
              "0          ruim   alta   nenhuma      0_15      alto\n",
              "1  desconhecida   alta   nenhuma     15_35      alto\n",
              "2  desconhecida  baixa   nenhuma     15_35  moderado\n",
              "3  desconhecida  baixa   nenhuma  acima_35      alto\n",
              "4  desconhecida  baixa   nenhuma  acima_35     baixo"
            ]
          },
          "metadata": {
            "tags": []
          },
          "execution_count": 68
        }
      ]
    },
    {
      "cell_type": "code",
      "metadata": {
        "id": "mVUkbv0xm4LX"
      },
      "source": [
        "def entropy(p_i):\n",
        "    \"\"\"\n",
        "        Calculate entropy\n",
        "        \n",
        "        Arg:\n",
        "            p_i(np.array): outcome probability\n",
        "        Return:\n",
        "            entropy(float)\n",
        "    \"\"\"\n",
        "    \n",
        "    # avoid to yield -Inf to prob == 0\n",
        "    entropy = - sum(np.where(p_i==0, 0, p_i*np.log2(p_i)))\n",
        "\n",
        "    return entropy\n",
        "\n",
        "# Test\n",
        "# p_i = np.arange(0,2)\n",
        "# entropy(p_i)"
      ],
      "execution_count": 69,
      "outputs": []
    },
    {
      "cell_type": "code",
      "metadata": {
        "id": "95PQEkQaG59a"
      },
      "source": [
        "def gini(p_i):\n",
        "    \"\"\"\n",
        "        Calculate gini index    \n",
        "        Arg:\n",
        "            p_i(np.array): outcome probability\n",
        "        Return:\n",
        "            gini_index(float)\n",
        "    \"\"\"\n",
        "    gini = 1 - sum(p_i**2)\n",
        "    return gini\n",
        "# Test\n",
        "# p_i = np.arange(0,3)\n",
        "# gini(p_i)"
      ],
      "execution_count": 70,
      "outputs": []
    },
    {
      "cell_type": "code",
      "metadata": {
        "id": "efHubC763gb7"
      },
      "source": [
        "def gain_df(df):\n",
        "    # Calculate target outcome probabilities and their entropy\n",
        "    target_prob = (df[target]\n",
        "                   .value_counts(normalize=True)  # sort by incidence\n",
        "                   .sort_index()  # reorder\n",
        "                   .values)\n",
        "    entropy_target = entropy(target_prob)\n",
        "\n",
        "    dct_gain = {}\n",
        "    lst_features = list(df.columns[:-1])\n",
        "    for feature in lst_features:\n",
        "        # Count feature outcomes and calculate their possibilites\n",
        "        df_feature_count = df[feature].value_counts().sort_index()\n",
        "        feature_prob = (df[feature]\n",
        "                        .value_counts(normalize=True)\n",
        "                        .sort_index()\n",
        "                        .values)\n",
        "        # Cross table (target, feature) count and probability\n",
        "        df_cross = pd.crosstab(df[target],df[feature])\n",
        "        df_cross_prob = df_cross.div(df_feature_count)\n",
        "        # Compute feature entropy and gain, considering probability\n",
        "        entropy_feature = df_cross_prob.apply(lambda x: entropy(x)).values\n",
        "        gain_feature = entropy_target - sum(entropy_feature * feature_prob)\n",
        "        dct_gain[feature] = gain_feature\n",
        "\n",
        "    return dct_gain\n"
      ],
      "execution_count": 71,
      "outputs": []
    },
    {
      "cell_type": "code",
      "metadata": {
        "id": "jTE1hElwDhOO",
        "colab": {
          "base_uri": "https://localhost:8080/"
        },
        "outputId": "c5d8dfa5-1e99-41b2-b284-ab9edd4b87eb"
      },
      "source": [
        "gain_df(df)"
      ],
      "execution_count": 72,
      "outputs": [
        {
          "output_type": "stream",
          "text": [
            "/usr/local/lib/python3.6/dist-packages/pandas/core/series.py:726: RuntimeWarning: divide by zero encountered in log2\n",
            "  result = getattr(ufunc, method)(*inputs, **kwargs)\n",
            "/usr/local/lib/python3.6/dist-packages/pandas/core/series.py:726: RuntimeWarning: divide by zero encountered in log2\n",
            "  result = getattr(ufunc, method)(*inputs, **kwargs)\n",
            "/usr/local/lib/python3.6/dist-packages/pandas/core/series.py:726: RuntimeWarning: divide by zero encountered in log2\n",
            "  result = getattr(ufunc, method)(*inputs, **kwargs)\n",
            "/usr/local/lib/python3.6/dist-packages/pandas/core/series.py:726: RuntimeWarning: divide by zero encountered in log2\n",
            "  result = getattr(ufunc, method)(*inputs, **kwargs)\n"
          ],
          "name": "stderr"
        },
        {
          "output_type": "execute_result",
          "data": {
            "text/plain": [
              "{'divida': 0.06289889437401808,\n",
              " 'garantias': 0.20604950908542197,\n",
              " 'historia': 0.26565428452375395,\n",
              " 'renda': 0.6704872819937732}"
            ]
          },
          "metadata": {
            "tags": []
          },
          "execution_count": 72
        }
      ]
    },
    {
      "cell_type": "code",
      "metadata": {
        "id": "q3DTwPvWDxlS",
        "colab": {
          "base_uri": "https://localhost:8080/"
        },
        "outputId": "151050a9-b927-430f-9d1d-6d194217d706"
      },
      "source": [
        "tree_level = {}\n",
        "\n",
        "dct_gain = gain_df(df)\n",
        "col_max_gain = max(dct_gain, key=dct_gain.get)\n",
        "lst_outcomes = list(df[col_max_gain].unique())\n",
        "\n",
        "tree_level[0] = {\"feature\": col_max_gain,\n",
        "                 \"lst_outcomes\": lst_outcomes,\n",
        "                 \"dct_df\": df,\n",
        "                 \"dct_gain\": dct_gain,\n",
        "                 }\n",
        "\n",
        "\n",
        "dct_df = {outcome: df.groupby([col_max_gain])\n",
        "                    .get_group(outcome)\n",
        "                    .drop(columns=col_max_gain)\n",
        "            for outcome in lst_outcomes}\n",
        "\n",
        "dct_gain = {outcome: gain_df(dct_df[outcome]) for outcome in lst_outcomes}\n",
        "\n",
        "# gain_df(tree_level[1]['dct_df']['0_15'])\n",
        "\n",
        "tree_level[1] = {\"feature\": col_max_gain,\n",
        "                 \"lst_outcomes\": lst_outcomes,\n",
        "                 \"dct_df\": dct_df,\n",
        "                 \"dct_gain\": dct_gain,\n",
        "                 }\n",
        "tree_level"
      ],
      "execution_count": 73,
      "outputs": [
        {
          "output_type": "stream",
          "text": [
            "/usr/local/lib/python3.6/dist-packages/pandas/core/series.py:726: RuntimeWarning: divide by zero encountered in log2\n",
            "  result = getattr(ufunc, method)(*inputs, **kwargs)\n",
            "/usr/local/lib/python3.6/dist-packages/pandas/core/series.py:726: RuntimeWarning: divide by zero encountered in log2\n",
            "  result = getattr(ufunc, method)(*inputs, **kwargs)\n",
            "/usr/local/lib/python3.6/dist-packages/pandas/core/series.py:726: RuntimeWarning: divide by zero encountered in log2\n",
            "  result = getattr(ufunc, method)(*inputs, **kwargs)\n",
            "/usr/local/lib/python3.6/dist-packages/pandas/core/series.py:726: RuntimeWarning: divide by zero encountered in log2\n",
            "  result = getattr(ufunc, method)(*inputs, **kwargs)\n",
            "/usr/local/lib/python3.6/dist-packages/pandas/core/series.py:726: RuntimeWarning: divide by zero encountered in log2\n",
            "  result = getattr(ufunc, method)(*inputs, **kwargs)\n",
            "/usr/local/lib/python3.6/dist-packages/pandas/core/series.py:726: RuntimeWarning: divide by zero encountered in log2\n",
            "  result = getattr(ufunc, method)(*inputs, **kwargs)\n",
            "/usr/local/lib/python3.6/dist-packages/pandas/core/series.py:726: RuntimeWarning: divide by zero encountered in log2\n",
            "  result = getattr(ufunc, method)(*inputs, **kwargs)\n",
            "/usr/local/lib/python3.6/dist-packages/pandas/core/series.py:726: RuntimeWarning: divide by zero encountered in log2\n",
            "  result = getattr(ufunc, method)(*inputs, **kwargs)\n",
            "/usr/local/lib/python3.6/dist-packages/pandas/core/series.py:726: RuntimeWarning: divide by zero encountered in log2\n",
            "  result = getattr(ufunc, method)(*inputs, **kwargs)\n",
            "/usr/local/lib/python3.6/dist-packages/pandas/core/series.py:726: RuntimeWarning: divide by zero encountered in log2\n",
            "  result = getattr(ufunc, method)(*inputs, **kwargs)\n",
            "/usr/local/lib/python3.6/dist-packages/pandas/core/series.py:726: RuntimeWarning: divide by zero encountered in log2\n",
            "  result = getattr(ufunc, method)(*inputs, **kwargs)\n",
            "/usr/local/lib/python3.6/dist-packages/pandas/core/series.py:726: RuntimeWarning: divide by zero encountered in log2\n",
            "  result = getattr(ufunc, method)(*inputs, **kwargs)\n",
            "/usr/local/lib/python3.6/dist-packages/pandas/core/series.py:726: RuntimeWarning: divide by zero encountered in log2\n",
            "  result = getattr(ufunc, method)(*inputs, **kwargs)\n"
          ],
          "name": "stderr"
        },
        {
          "output_type": "execute_result",
          "data": {
            "text/plain": [
              "{0: {'dct_df':         historia divida garantias     renda     risco\n",
              "  0           ruim   alta   nenhuma      0_15      alto\n",
              "  1   desconhecida   alta   nenhuma     15_35      alto\n",
              "  2   desconhecida  baixa   nenhuma     15_35  moderado\n",
              "  3   desconhecida  baixa   nenhuma  acima_35      alto\n",
              "  4   desconhecida  baixa   nenhuma  acima_35     baixo\n",
              "  5   desconhecida  baixa  adequada  acima_35     baixo\n",
              "  6           ruim  baixa   nenhuma      0_15      alto\n",
              "  7           ruim  baixa  adequada  acima_35  moderado\n",
              "  8            boa  baixa   nenhuma  acima_35     baixo\n",
              "  9            boa   alta  adequada  acima_35     baixo\n",
              "  10           boa   alta   nenhuma      0_15      alto\n",
              "  11           boa   alta   nenhuma     15_35  moderado\n",
              "  12           boa   alta   nenhuma  acima_35     baixo\n",
              "  13          ruim   alta   nenhuma     15_35      alto,\n",
              "  'dct_gain': {'divida': 0.06289889437401808,\n",
              "   'garantias': 0.20604950908542197,\n",
              "   'historia': 0.26565428452375395,\n",
              "   'renda': 0.6704872819937732},\n",
              "  'feature': 'renda',\n",
              "  'lst_outcomes': ['0_15', '15_35', 'acima_35']},\n",
              " 1: {'dct_df': {'0_15':    historia divida garantias risco\n",
              "   0      ruim   alta   nenhuma  alto\n",
              "   6      ruim  baixa   nenhuma  alto\n",
              "   10      boa   alta   nenhuma  alto,\n",
              "   '15_35':         historia divida garantias     risco\n",
              "   1   desconhecida   alta   nenhuma      alto\n",
              "   2   desconhecida  baixa   nenhuma  moderado\n",
              "   11           boa   alta   nenhuma  moderado\n",
              "   13          ruim   alta   nenhuma      alto,\n",
              "   'acima_35':         historia divida garantias     risco\n",
              "   3   desconhecida  baixa   nenhuma      alto\n",
              "   4   desconhecida  baixa   nenhuma     baixo\n",
              "   5   desconhecida  baixa  adequada     baixo\n",
              "   7           ruim  baixa  adequada  moderado\n",
              "   8            boa  baixa   nenhuma     baixo\n",
              "   9            boa   alta  adequada     baixo\n",
              "   12           boa   alta   nenhuma     baixo},\n",
              "  'dct_gain': {'0_15': {'divida': -0.0, 'garantias': -0.0, 'historia': -0.0},\n",
              "   '15_35': {'divida': 0.31127812445913283, 'garantias': 0.0, 'historia': 0.5},\n",
              "   'acima_35': {'divida': 0.16958442967043896,\n",
              "    'garantias': 0.2916919971380595,\n",
              "    'historia': 0.7552794968289925}},\n",
              "  'feature': 'renda',\n",
              "  'lst_outcomes': ['0_15', '15_35', 'acima_35']}}"
            ]
          },
          "metadata": {
            "tags": []
          },
          "execution_count": 73
        }
      ]
    },
    {
      "cell_type": "code",
      "metadata": {
        "id": "1TqJb65cItt3",
        "colab": {
          "base_uri": "https://localhost:8080/",
          "height": 0
        },
        "outputId": "1151ba83-c043-4d37-ff92-a2e37bc549c8"
      },
      "source": [
        "# check\n",
        "df.sort_values(col_max_gain)"
      ],
      "execution_count": 74,
      "outputs": [
        {
          "output_type": "execute_result",
          "data": {
            "text/html": [
              "<div>\n",
              "<style scoped>\n",
              "    .dataframe tbody tr th:only-of-type {\n",
              "        vertical-align: middle;\n",
              "    }\n",
              "\n",
              "    .dataframe tbody tr th {\n",
              "        vertical-align: top;\n",
              "    }\n",
              "\n",
              "    .dataframe thead th {\n",
              "        text-align: right;\n",
              "    }\n",
              "</style>\n",
              "<table border=\"1\" class=\"dataframe\">\n",
              "  <thead>\n",
              "    <tr style=\"text-align: right;\">\n",
              "      <th></th>\n",
              "      <th>historia</th>\n",
              "      <th>divida</th>\n",
              "      <th>garantias</th>\n",
              "      <th>renda</th>\n",
              "      <th>risco</th>\n",
              "    </tr>\n",
              "  </thead>\n",
              "  <tbody>\n",
              "    <tr>\n",
              "      <th>0</th>\n",
              "      <td>ruim</td>\n",
              "      <td>alta</td>\n",
              "      <td>nenhuma</td>\n",
              "      <td>0_15</td>\n",
              "      <td>alto</td>\n",
              "    </tr>\n",
              "    <tr>\n",
              "      <th>6</th>\n",
              "      <td>ruim</td>\n",
              "      <td>baixa</td>\n",
              "      <td>nenhuma</td>\n",
              "      <td>0_15</td>\n",
              "      <td>alto</td>\n",
              "    </tr>\n",
              "    <tr>\n",
              "      <th>10</th>\n",
              "      <td>boa</td>\n",
              "      <td>alta</td>\n",
              "      <td>nenhuma</td>\n",
              "      <td>0_15</td>\n",
              "      <td>alto</td>\n",
              "    </tr>\n",
              "    <tr>\n",
              "      <th>1</th>\n",
              "      <td>desconhecida</td>\n",
              "      <td>alta</td>\n",
              "      <td>nenhuma</td>\n",
              "      <td>15_35</td>\n",
              "      <td>alto</td>\n",
              "    </tr>\n",
              "    <tr>\n",
              "      <th>2</th>\n",
              "      <td>desconhecida</td>\n",
              "      <td>baixa</td>\n",
              "      <td>nenhuma</td>\n",
              "      <td>15_35</td>\n",
              "      <td>moderado</td>\n",
              "    </tr>\n",
              "    <tr>\n",
              "      <th>11</th>\n",
              "      <td>boa</td>\n",
              "      <td>alta</td>\n",
              "      <td>nenhuma</td>\n",
              "      <td>15_35</td>\n",
              "      <td>moderado</td>\n",
              "    </tr>\n",
              "    <tr>\n",
              "      <th>13</th>\n",
              "      <td>ruim</td>\n",
              "      <td>alta</td>\n",
              "      <td>nenhuma</td>\n",
              "      <td>15_35</td>\n",
              "      <td>alto</td>\n",
              "    </tr>\n",
              "    <tr>\n",
              "      <th>3</th>\n",
              "      <td>desconhecida</td>\n",
              "      <td>baixa</td>\n",
              "      <td>nenhuma</td>\n",
              "      <td>acima_35</td>\n",
              "      <td>alto</td>\n",
              "    </tr>\n",
              "    <tr>\n",
              "      <th>4</th>\n",
              "      <td>desconhecida</td>\n",
              "      <td>baixa</td>\n",
              "      <td>nenhuma</td>\n",
              "      <td>acima_35</td>\n",
              "      <td>baixo</td>\n",
              "    </tr>\n",
              "    <tr>\n",
              "      <th>5</th>\n",
              "      <td>desconhecida</td>\n",
              "      <td>baixa</td>\n",
              "      <td>adequada</td>\n",
              "      <td>acima_35</td>\n",
              "      <td>baixo</td>\n",
              "    </tr>\n",
              "    <tr>\n",
              "      <th>7</th>\n",
              "      <td>ruim</td>\n",
              "      <td>baixa</td>\n",
              "      <td>adequada</td>\n",
              "      <td>acima_35</td>\n",
              "      <td>moderado</td>\n",
              "    </tr>\n",
              "    <tr>\n",
              "      <th>8</th>\n",
              "      <td>boa</td>\n",
              "      <td>baixa</td>\n",
              "      <td>nenhuma</td>\n",
              "      <td>acima_35</td>\n",
              "      <td>baixo</td>\n",
              "    </tr>\n",
              "    <tr>\n",
              "      <th>9</th>\n",
              "      <td>boa</td>\n",
              "      <td>alta</td>\n",
              "      <td>adequada</td>\n",
              "      <td>acima_35</td>\n",
              "      <td>baixo</td>\n",
              "    </tr>\n",
              "    <tr>\n",
              "      <th>12</th>\n",
              "      <td>boa</td>\n",
              "      <td>alta</td>\n",
              "      <td>nenhuma</td>\n",
              "      <td>acima_35</td>\n",
              "      <td>baixo</td>\n",
              "    </tr>\n",
              "  </tbody>\n",
              "</table>\n",
              "</div>"
            ],
            "text/plain": [
              "        historia divida garantias     renda     risco\n",
              "0           ruim   alta   nenhuma      0_15      alto\n",
              "6           ruim  baixa   nenhuma      0_15      alto\n",
              "10           boa   alta   nenhuma      0_15      alto\n",
              "1   desconhecida   alta   nenhuma     15_35      alto\n",
              "2   desconhecida  baixa   nenhuma     15_35  moderado\n",
              "11           boa   alta   nenhuma     15_35  moderado\n",
              "13          ruim   alta   nenhuma     15_35      alto\n",
              "3   desconhecida  baixa   nenhuma  acima_35      alto\n",
              "4   desconhecida  baixa   nenhuma  acima_35     baixo\n",
              "5   desconhecida  baixa  adequada  acima_35     baixo\n",
              "7           ruim  baixa  adequada  acima_35  moderado\n",
              "8            boa  baixa   nenhuma  acima_35     baixo\n",
              "9            boa   alta  adequada  acima_35     baixo\n",
              "12           boa   alta   nenhuma  acima_35     baixo"
            ]
          },
          "metadata": {
            "tags": []
          },
          "execution_count": 74
        }
      ]
    },
    {
      "cell_type": "code",
      "metadata": {
        "id": "S4FUVA6JJXlZ",
        "colab": {
          "base_uri": "https://localhost:8080/"
        },
        "outputId": "6c45d92b-a9c6-4308-d96a-7710549bcd60"
      },
      "source": [
        "gain_df(tree_level[0]['dct_df'].loc[tree_level[0]['dct_df']['renda']=='0_15'])"
      ],
      "execution_count": 75,
      "outputs": [
        {
          "output_type": "execute_result",
          "data": {
            "text/plain": [
              "{'divida': -0.0, 'garantias': -0.0, 'historia': -0.0, 'renda': -0.0}"
            ]
          },
          "metadata": {
            "tags": []
          },
          "execution_count": 75
        }
      ]
    },
    {
      "cell_type": "code",
      "metadata": {
        "id": "KNNm8cz2IyEy",
        "colab": {
          "base_uri": "https://localhost:8080/"
        },
        "outputId": "c8021bd4-c357-4189-8b55-a7ea7f565bc5"
      },
      "source": [
        "gain_df(tree_level[0]['dct_df'].loc[tree_level[0]['dct_df']['renda']=='acima_35'])"
      ],
      "execution_count": 76,
      "outputs": [
        {
          "output_type": "stream",
          "text": [
            "/usr/local/lib/python3.6/dist-packages/pandas/core/series.py:726: RuntimeWarning: divide by zero encountered in log2\n",
            "  result = getattr(ufunc, method)(*inputs, **kwargs)\n",
            "/usr/local/lib/python3.6/dist-packages/pandas/core/series.py:726: RuntimeWarning: divide by zero encountered in log2\n",
            "  result = getattr(ufunc, method)(*inputs, **kwargs)\n",
            "/usr/local/lib/python3.6/dist-packages/pandas/core/series.py:726: RuntimeWarning: divide by zero encountered in log2\n",
            "  result = getattr(ufunc, method)(*inputs, **kwargs)\n",
            "/usr/local/lib/python3.6/dist-packages/pandas/core/series.py:726: RuntimeWarning: divide by zero encountered in log2\n",
            "  result = getattr(ufunc, method)(*inputs, **kwargs)\n",
            "/usr/local/lib/python3.6/dist-packages/pandas/core/series.py:726: RuntimeWarning: divide by zero encountered in log2\n",
            "  result = getattr(ufunc, method)(*inputs, **kwargs)\n",
            "/usr/local/lib/python3.6/dist-packages/pandas/core/series.py:726: RuntimeWarning: divide by zero encountered in log2\n",
            "  result = getattr(ufunc, method)(*inputs, **kwargs)\n"
          ],
          "name": "stderr"
        },
        {
          "output_type": "execute_result",
          "data": {
            "text/plain": [
              "{'divida': 0.16958442967043896,\n",
              " 'garantias': 0.2916919971380595,\n",
              " 'historia': 0.7552794968289925,\n",
              " 'renda': 0.0}"
            ]
          },
          "metadata": {
            "tags": []
          },
          "execution_count": 76
        }
      ]
    },
    {
      "cell_type": "markdown",
      "metadata": {
        "id": "LcIU3Hj_qxhN"
      },
      "source": [
        "#### sklearn"
      ]
    },
    {
      "cell_type": "code",
      "metadata": {
        "id": "fPcR5slJKOh_",
        "colab": {
          "base_uri": "https://localhost:8080/"
        },
        "outputId": "d8f5f101-74a7-47de-f1e1-326c70654a2c"
      },
      "source": [
        "import pandas as pd\n",
        "import json\n",
        "\n",
        "# utils\n",
        "def pp_json(json_thing, sort=True, indents=4):\n",
        "    if type(json_thing) is str:\n",
        "        print(json.dumps(json.loads(json_thing)\n",
        "                , sort_keys=sort\n",
        "                , indent=indents))\n",
        "    else:\n",
        "        print(json.dumps(json_thing\n",
        "                         , sort_keys=sort\n",
        "                         , indent=indents))\n",
        "    return None\n",
        "\n",
        "def format_float_dct(dct):\n",
        "    return {k:round(v,2) if isinstance(v,float) else v for k,v in dct.items()}\n",
        "\n",
        "def dct_from2lists(lst_keys, lst_values):\n",
        "    return dict(zip(lst_keys, lst_values))\n",
        "\n",
        "def label_encoder(df,X):\n",
        "    from sklearn.preprocessing import LabelEncoder\n",
        "    labelencoder = LabelEncoder()\n",
        "    dct_label_encoder = {}\n",
        "    for idx in range(len(df.columns)-1):\n",
        "        X[:,idx] = labelencoder.fit_transform(X[:,idx])\n",
        "        dct_label = {}\n",
        "        for jj, label in enumerate(labelencoder.classes_):\n",
        "            dct_label[label] =  jj\n",
        "        dct_label_encoder[df.columns[idx]] = dct_label\n",
        "    print(\"Label encoder dict\")\n",
        "    pp_json(dct_label_encoder)\n",
        "\n",
        "    return dct_label_encoder\n",
        "\n",
        "df = pd.read_csv('risco_credito.csv')\n",
        "\n",
        "X = df.iloc[:,:-1].values\n",
        "y = df.iloc[:,-1].values              \n",
        "\n",
        "lst_features = list(df.iloc[:,:-1].columns)\n",
        "\n",
        "dct_label_encoder = label_encoder(df,X)\n",
        "\n",
        "def encoded_entry(entry_raw, dct_label_encoder=dct_label_encoder):\n",
        "    return [dct_label_encoder[k][v] for k,v in entry_raw.items()]\n",
        "\n",
        "def print_prediction(test,clf):\n",
        "    print(\"\\nGiven\")\n",
        "    pp_json(test)\n",
        "    test_encoded = encoded_entry(entry_raw=test)\n",
        "    predict_label = clf.predict([test_encoded])\n",
        "    predict_proba = clf.predict_proba([test_encoded])\n",
        "\n",
        "    print(\"Predicted label:\", predict_label[0])\n",
        "    dct_probabilities = dct_from2lists(\n",
        "        lst_keys=clf.classes_,\n",
        "        lst_values=predict_proba[0])\n",
        "    print(\"Probabilities\")\n",
        "    pp_json(dct_probabilities)\n",
        "\n",
        "\n",
        "\n",
        "from sklearn.tree import (\n",
        "    DecisionTreeClassifier, export_graphviz, plot_tree, export_text\n",
        ")\n",
        "# decision tree doesn't deal with categorical data\n",
        "clf = DecisionTreeClassifier(criterion='entropy')\n",
        "clf.fit(X, y)\n",
        "\n",
        "dct_feature_importances = dct_from2lists(\n",
        "    lst_keys=lst_features,\n",
        "    lst_values=clf.feature_importances_)\n",
        "print(\"\\nFeature importance\")\n",
        "\n",
        "pp_json(format_float_dct(dct=dct_feature_importances))\n",
        "\n",
        "\n",
        "test0_raw = {\n",
        "    \"historia\": \"boa\",\n",
        "    \"divida\": \"alta\",\n",
        "    \"garantias\": \"nenhuma\",\n",
        "    \"renda\": \"acima_35\"\n",
        "}\n",
        "# test0 = [0, 0, 1, 2]\n",
        "test1_raw = {\n",
        "    \"historia\": \"ruim\",\n",
        "    \"divida\": \"alta\",\n",
        "    \"garantias\": \"adequada\",\n",
        "    \"renda\": \"0_15\"\n",
        "}\n",
        "# test1 = [2, 0, 0, 0]\n",
        "print_prediction(test=test0_raw, clf=clf)\n",
        "print_prediction(test=test1_raw, clf=clf)"
      ],
      "execution_count": 77,
      "outputs": [
        {
          "output_type": "stream",
          "text": [
            "Label encoder dict\n",
            "{\n",
            "    \"divida\": {\n",
            "        \"alta\": 0,\n",
            "        \"baixa\": 1\n",
            "    },\n",
            "    \"garantias\": {\n",
            "        \"adequada\": 0,\n",
            "        \"nenhuma\": 1\n",
            "    },\n",
            "    \"historia\": {\n",
            "        \"boa\": 0,\n",
            "        \"desconhecida\": 1,\n",
            "        \"ruim\": 2\n",
            "    },\n",
            "    \"renda\": {\n",
            "        \"0_15\": 0,\n",
            "        \"15_35\": 1,\n",
            "        \"acima_35\": 2\n",
            "    }\n",
            "}\n",
            "\n",
            "Feature importance\n",
            "{\n",
            "    \"divida\": 0.06,\n",
            "    \"garantias\": 0.04,\n",
            "    \"historia\": 0.42,\n",
            "    \"renda\": 0.48\n",
            "}\n",
            "\n",
            "Given\n",
            "{\n",
            "    \"divida\": \"alta\",\n",
            "    \"garantias\": \"nenhuma\",\n",
            "    \"historia\": \"boa\",\n",
            "    \"renda\": \"acima_35\"\n",
            "}\n",
            "Predicted label: baixo\n",
            "Probabilities\n",
            "{\n",
            "    \"alto\": 0.0,\n",
            "    \"baixo\": 1.0,\n",
            "    \"moderado\": 0.0\n",
            "}\n",
            "\n",
            "Given\n",
            "{\n",
            "    \"divida\": \"alta\",\n",
            "    \"garantias\": \"adequada\",\n",
            "    \"historia\": \"ruim\",\n",
            "    \"renda\": \"0_15\"\n",
            "}\n",
            "Predicted label: alto\n",
            "Probabilities\n",
            "{\n",
            "    \"alto\": 1.0,\n",
            "    \"baixo\": 0.0,\n",
            "    \"moderado\": 0.0\n",
            "}\n"
          ],
          "name": "stdout"
        }
      ]
    },
    {
      "cell_type": "code",
      "metadata": {
        "id": "VC1ucW5gwpMC",
        "colab": {
          "base_uri": "https://localhost:8080/"
        },
        "outputId": "fa238b64-d5af-4d53-fa0f-26bae0b5797f"
      },
      "source": [
        "r = export_text(clf, feature_names=lst_features)\n",
        "print(r)"
      ],
      "execution_count": 78,
      "outputs": [
        {
          "output_type": "stream",
          "text": [
            "|--- renda <= 1.50\n",
            "|   |--- historia <= 1.50\n",
            "|   |   |--- divida <= 0.50\n",
            "|   |   |   |--- historia <= 0.50\n",
            "|   |   |   |   |--- renda <= 0.50\n",
            "|   |   |   |   |   |--- class: alto\n",
            "|   |   |   |   |--- renda >  0.50\n",
            "|   |   |   |   |   |--- class: moderado\n",
            "|   |   |   |--- historia >  0.50\n",
            "|   |   |   |   |--- class: alto\n",
            "|   |   |--- divida >  0.50\n",
            "|   |   |   |--- class: moderado\n",
            "|   |--- historia >  1.50\n",
            "|   |   |--- class: alto\n",
            "|--- renda >  1.50\n",
            "|   |--- historia <= 1.50\n",
            "|   |   |--- historia <= 0.50\n",
            "|   |   |   |--- class: baixo\n",
            "|   |   |--- historia >  0.50\n",
            "|   |   |   |--- garantias <= 0.50\n",
            "|   |   |   |   |--- class: baixo\n",
            "|   |   |   |--- garantias >  0.50\n",
            "|   |   |   |   |--- class: alto\n",
            "|   |--- historia >  1.50\n",
            "|   |   |--- class: moderado\n",
            "\n"
          ],
          "name": "stdout"
        }
      ]
    },
    {
      "cell_type": "code",
      "metadata": {
        "id": "1w2EkLMKs4eO",
        "colab": {
          "base_uri": "https://localhost:8080/",
          "height": 0
        },
        "outputId": "8dde8dbf-6aed-4b37-bf1a-b19c52596f4f"
      },
      "source": [
        "import graphviz \n",
        "\n",
        "dot_data = export_graphviz(clf,\n",
        "                       out_file=None,\n",
        "                       feature_names=lst_features,\n",
        "                       class_names=clf.classes_,\n",
        "                       filled=True,\n",
        "                       leaves_parallel=True,\n",
        "                       rounded=True,  \n",
        "                       special_characters=True)\n",
        "graph = graphviz.Source(dot_data)\n",
        "graph"
      ],
      "execution_count": 79,
      "outputs": [
        {
          "output_type": "execute_result",
          "data": {
            "text/plain": [
              "<graphviz.files.Source at 0x7f858f57b4a8>"
            ],
            "image/svg+xml": "<?xml version=\"1.0\" encoding=\"UTF-8\" standalone=\"no\"?>\n<!DOCTYPE svg PUBLIC \"-//W3C//DTD SVG 1.1//EN\"\n \"http://www.w3.org/Graphics/SVG/1.1/DTD/svg11.dtd\">\n<!-- Generated by graphviz version 2.40.1 (20161225.0304)\n -->\n<!-- Title: Tree Pages: 1 -->\n<svg width=\"1241pt\" height=\"679pt\"\n viewBox=\"0.00 0.00 1240.50 678.50\" xmlns=\"http://www.w3.org/2000/svg\" xmlns:xlink=\"http://www.w3.org/1999/xlink\">\n<g id=\"graph0\" class=\"graph\" transform=\"scale(1 1) rotate(0) translate(4 674.5)\">\n<title>Tree</title>\n<polygon fill=\"#ffffff\" stroke=\"transparent\" points=\"-4,4 -4,-674.5 1236.5,-674.5 1236.5,4 -4,4\"/>\n<!-- 0 -->\n<g id=\"node1\" class=\"node\">\n<title>0</title>\n<path fill=\"#fcf1e9\" stroke=\"#000000\" d=\"M740.5,-670.5C740.5,-670.5 646.5,-670.5 646.5,-670.5 640.5,-670.5 634.5,-664.5 634.5,-658.5 634.5,-658.5 634.5,-599.5 634.5,-599.5 634.5,-593.5 640.5,-587.5 646.5,-587.5 646.5,-587.5 740.5,-587.5 740.5,-587.5 746.5,-587.5 752.5,-593.5 752.5,-599.5 752.5,-599.5 752.5,-658.5 752.5,-658.5 752.5,-664.5 746.5,-670.5 740.5,-670.5\"/>\n<text text-anchor=\"start\" x=\"657\" y=\"-655.3\" font-family=\"Helvetica,sans-Serif\" font-size=\"14.00\" fill=\"#000000\">renda ≤ 1.5</text>\n<text text-anchor=\"start\" x=\"642.5\" y=\"-640.3\" font-family=\"Helvetica,sans-Serif\" font-size=\"14.00\" fill=\"#000000\">entropy = 1.531</text>\n<text text-anchor=\"start\" x=\"649.5\" y=\"-625.3\" font-family=\"Helvetica,sans-Serif\" font-size=\"14.00\" fill=\"#000000\">samples = 14</text>\n<text text-anchor=\"start\" x=\"644\" y=\"-610.3\" font-family=\"Helvetica,sans-Serif\" font-size=\"14.00\" fill=\"#000000\">value = [6, 5, 3]</text>\n<text text-anchor=\"start\" x=\"657\" y=\"-595.3\" font-family=\"Helvetica,sans-Serif\" font-size=\"14.00\" fill=\"#000000\">class = alto</text>\n</g>\n<!-- 1 -->\n<g id=\"node2\" class=\"node\">\n<title>1</title>\n<path fill=\"#efb388\" stroke=\"#000000\" d=\"M672.5,-551.5C672.5,-551.5 578.5,-551.5 578.5,-551.5 572.5,-551.5 566.5,-545.5 566.5,-539.5 566.5,-539.5 566.5,-480.5 566.5,-480.5 566.5,-474.5 572.5,-468.5 578.5,-468.5 578.5,-468.5 672.5,-468.5 672.5,-468.5 678.5,-468.5 684.5,-474.5 684.5,-480.5 684.5,-480.5 684.5,-539.5 684.5,-539.5 684.5,-545.5 678.5,-551.5 672.5,-551.5\"/>\n<text text-anchor=\"start\" x=\"584.5\" y=\"-536.3\" font-family=\"Helvetica,sans-Serif\" font-size=\"14.00\" fill=\"#000000\">historia ≤ 1.5</text>\n<text text-anchor=\"start\" x=\"574.5\" y=\"-521.3\" font-family=\"Helvetica,sans-Serif\" font-size=\"14.00\" fill=\"#000000\">entropy = 0.863</text>\n<text text-anchor=\"start\" x=\"586\" y=\"-506.3\" font-family=\"Helvetica,sans-Serif\" font-size=\"14.00\" fill=\"#000000\">samples = 7</text>\n<text text-anchor=\"start\" x=\"576\" y=\"-491.3\" font-family=\"Helvetica,sans-Serif\" font-size=\"14.00\" fill=\"#000000\">value = [5, 0, 2]</text>\n<text text-anchor=\"start\" x=\"589\" y=\"-476.3\" font-family=\"Helvetica,sans-Serif\" font-size=\"14.00\" fill=\"#000000\">class = alto</text>\n</g>\n<!-- 0&#45;&gt;1 -->\n<g id=\"edge1\" class=\"edge\">\n<title>0&#45;&gt;1</title>\n<path fill=\"none\" stroke=\"#000000\" d=\"M669.7169,-587.3796C664.7763,-578.7335 659.5184,-569.5322 654.4167,-560.6042\"/>\n<polygon fill=\"#000000\" stroke=\"#000000\" points=\"657.3849,-558.744 649.3846,-551.7981 651.3072,-562.217 657.3849,-558.744\"/>\n<text text-anchor=\"middle\" x=\"642.8067\" y=\"-572.2172\" font-family=\"Helvetica,sans-Serif\" font-size=\"14.00\" fill=\"#000000\">True</text>\n</g>\n<!-- 10 -->\n<g id=\"node11\" class=\"node\">\n<title>10</title>\n<path fill=\"#7beeab\" stroke=\"#000000\" d=\"M873.5,-551.5C873.5,-551.5 779.5,-551.5 779.5,-551.5 773.5,-551.5 767.5,-545.5 767.5,-539.5 767.5,-539.5 767.5,-480.5 767.5,-480.5 767.5,-474.5 773.5,-468.5 779.5,-468.5 779.5,-468.5 873.5,-468.5 873.5,-468.5 879.5,-468.5 885.5,-474.5 885.5,-480.5 885.5,-480.5 885.5,-539.5 885.5,-539.5 885.5,-545.5 879.5,-551.5 873.5,-551.5\"/>\n<text text-anchor=\"start\" x=\"785.5\" y=\"-536.3\" font-family=\"Helvetica,sans-Serif\" font-size=\"14.00\" fill=\"#000000\">historia ≤ 1.5</text>\n<text text-anchor=\"start\" x=\"775.5\" y=\"-521.3\" font-family=\"Helvetica,sans-Serif\" font-size=\"14.00\" fill=\"#000000\">entropy = 1.149</text>\n<text text-anchor=\"start\" x=\"787\" y=\"-506.3\" font-family=\"Helvetica,sans-Serif\" font-size=\"14.00\" fill=\"#000000\">samples = 7</text>\n<text text-anchor=\"start\" x=\"777\" y=\"-491.3\" font-family=\"Helvetica,sans-Serif\" font-size=\"14.00\" fill=\"#000000\">value = [1, 5, 1]</text>\n<text text-anchor=\"start\" x=\"784\" y=\"-476.3\" font-family=\"Helvetica,sans-Serif\" font-size=\"14.00\" fill=\"#000000\">class = baixo</text>\n</g>\n<!-- 0&#45;&gt;10 -->\n<g id=\"edge10\" class=\"edge\">\n<title>0&#45;&gt;10</title>\n<path fill=\"none\" stroke=\"#000000\" d=\"M740.0169,-587.3796C750.3848,-578.1031 761.4671,-568.1874 772.1199,-558.6559\"/>\n<polygon fill=\"#000000\" stroke=\"#000000\" points=\"774.6659,-561.0744 779.7845,-551.7981 769.9983,-555.8577 774.6659,-561.0744\"/>\n<text text-anchor=\"middle\" x=\"778.3978\" y=\"-573.0596\" font-family=\"Helvetica,sans-Serif\" font-size=\"14.00\" fill=\"#000000\">False</text>\n</g>\n<!-- 2 -->\n<g id=\"node3\" class=\"node\">\n<title>2</title>\n<path fill=\"#ffffff\" stroke=\"#000000\" d=\"M529,-432.5C529,-432.5 438,-432.5 438,-432.5 432,-432.5 426,-426.5 426,-420.5 426,-420.5 426,-361.5 426,-361.5 426,-355.5 432,-349.5 438,-349.5 438,-349.5 529,-349.5 529,-349.5 535,-349.5 541,-355.5 541,-361.5 541,-361.5 541,-420.5 541,-420.5 541,-426.5 535,-432.5 529,-432.5\"/>\n<text text-anchor=\"start\" x=\"446.5\" y=\"-417.3\" font-family=\"Helvetica,sans-Serif\" font-size=\"14.00\" fill=\"#000000\">divida ≤ 0.5</text>\n<text text-anchor=\"start\" x=\"441\" y=\"-402.3\" font-family=\"Helvetica,sans-Serif\" font-size=\"14.00\" fill=\"#000000\">entropy = 1.0</text>\n<text text-anchor=\"start\" x=\"444\" y=\"-387.3\" font-family=\"Helvetica,sans-Serif\" font-size=\"14.00\" fill=\"#000000\">samples = 4</text>\n<text text-anchor=\"start\" x=\"434\" y=\"-372.3\" font-family=\"Helvetica,sans-Serif\" font-size=\"14.00\" fill=\"#000000\">value = [2, 0, 2]</text>\n<text text-anchor=\"start\" x=\"447\" y=\"-357.3\" font-family=\"Helvetica,sans-Serif\" font-size=\"14.00\" fill=\"#000000\">class = alto</text>\n</g>\n<!-- 1&#45;&gt;2 -->\n<g id=\"edge2\" class=\"edge\">\n<title>1&#45;&gt;2</title>\n<path fill=\"none\" stroke=\"#000000\" d=\"M575.8353,-468.3796C564.6584,-459.013 552.7038,-448.9948 541.2288,-439.3784\"/>\n<polygon fill=\"#000000\" stroke=\"#000000\" points=\"543.2893,-436.5386 533.3767,-432.7981 538.7931,-441.9037 543.2893,-436.5386\"/>\n</g>\n<!-- 9 -->\n<g id=\"node10\" class=\"node\">\n<title>9</title>\n<path fill=\"#e58139\" stroke=\"#000000\" d=\"M671,-68C671,-68 580,-68 580,-68 574,-68 568,-62 568,-56 568,-56 568,-12 568,-12 568,-6 574,0 580,0 580,0 671,0 671,0 677,0 683,-6 683,-12 683,-12 683,-56 683,-56 683,-62 677,-68 671,-68\"/>\n<text text-anchor=\"start\" x=\"583\" y=\"-52.8\" font-family=\"Helvetica,sans-Serif\" font-size=\"14.00\" fill=\"#000000\">entropy = 0.0</text>\n<text text-anchor=\"start\" x=\"586\" y=\"-37.8\" font-family=\"Helvetica,sans-Serif\" font-size=\"14.00\" fill=\"#000000\">samples = 3</text>\n<text text-anchor=\"start\" x=\"576\" y=\"-22.8\" font-family=\"Helvetica,sans-Serif\" font-size=\"14.00\" fill=\"#000000\">value = [3, 0, 0]</text>\n<text text-anchor=\"start\" x=\"589\" y=\"-7.8\" font-family=\"Helvetica,sans-Serif\" font-size=\"14.00\" fill=\"#000000\">class = alto</text>\n</g>\n<!-- 1&#45;&gt;9 -->\n<g id=\"edge9\" class=\"edge\">\n<title>1&#45;&gt;9</title>\n<path fill=\"none\" stroke=\"#000000\" d=\"M625.5,-468.1754C625.5,-378.7233 625.5,-169.5439 625.5,-78.1003\"/>\n<polygon fill=\"#000000\" stroke=\"#000000\" points=\"629.0001,-78.0659 625.5,-68.0659 622.0001,-78.066 629.0001,-78.0659\"/>\n</g>\n<!-- 3 -->\n<g id=\"node4\" class=\"node\">\n<title>3</title>\n<path fill=\"#f2c09c\" stroke=\"#000000\" d=\"M388.5,-313.5C388.5,-313.5 294.5,-313.5 294.5,-313.5 288.5,-313.5 282.5,-307.5 282.5,-301.5 282.5,-301.5 282.5,-242.5 282.5,-242.5 282.5,-236.5 288.5,-230.5 294.5,-230.5 294.5,-230.5 388.5,-230.5 388.5,-230.5 394.5,-230.5 400.5,-236.5 400.5,-242.5 400.5,-242.5 400.5,-301.5 400.5,-301.5 400.5,-307.5 394.5,-313.5 388.5,-313.5\"/>\n<text text-anchor=\"start\" x=\"300.5\" y=\"-298.3\" font-family=\"Helvetica,sans-Serif\" font-size=\"14.00\" fill=\"#000000\">historia ≤ 0.5</text>\n<text text-anchor=\"start\" x=\"290.5\" y=\"-283.3\" font-family=\"Helvetica,sans-Serif\" font-size=\"14.00\" fill=\"#000000\">entropy = 0.918</text>\n<text text-anchor=\"start\" x=\"302\" y=\"-268.3\" font-family=\"Helvetica,sans-Serif\" font-size=\"14.00\" fill=\"#000000\">samples = 3</text>\n<text text-anchor=\"start\" x=\"292\" y=\"-253.3\" font-family=\"Helvetica,sans-Serif\" font-size=\"14.00\" fill=\"#000000\">value = [2, 0, 1]</text>\n<text text-anchor=\"start\" x=\"305\" y=\"-238.3\" font-family=\"Helvetica,sans-Serif\" font-size=\"14.00\" fill=\"#000000\">class = alto</text>\n</g>\n<!-- 2&#45;&gt;3 -->\n<g id=\"edge3\" class=\"edge\">\n<title>2&#45;&gt;3</title>\n<path fill=\"none\" stroke=\"#000000\" d=\"M433.8353,-349.3796C422.6584,-340.013 410.7038,-329.9948 399.2288,-320.3784\"/>\n<polygon fill=\"#000000\" stroke=\"#000000\" points=\"401.2893,-317.5386 391.3767,-313.7981 396.7931,-322.9037 401.2893,-317.5386\"/>\n</g>\n<!-- 8 -->\n<g id=\"node9\" class=\"node\">\n<title>8</title>\n<path fill=\"#8139e5\" stroke=\"#000000\" d=\"M537.5,-68C537.5,-68 429.5,-68 429.5,-68 423.5,-68 417.5,-62 417.5,-56 417.5,-56 417.5,-12 417.5,-12 417.5,-6 423.5,0 429.5,0 429.5,0 537.5,0 537.5,0 543.5,0 549.5,-6 549.5,-12 549.5,-12 549.5,-56 549.5,-56 549.5,-62 543.5,-68 537.5,-68\"/>\n<text text-anchor=\"start\" x=\"441\" y=\"-52.8\" font-family=\"Helvetica,sans-Serif\" font-size=\"14.00\" fill=\"#000000\">entropy = 0.0</text>\n<text text-anchor=\"start\" x=\"444\" y=\"-37.8\" font-family=\"Helvetica,sans-Serif\" font-size=\"14.00\" fill=\"#000000\">samples = 1</text>\n<text text-anchor=\"start\" x=\"434\" y=\"-22.8\" font-family=\"Helvetica,sans-Serif\" font-size=\"14.00\" fill=\"#000000\">value = [0, 0, 1]</text>\n<text text-anchor=\"start\" x=\"425.5\" y=\"-7.8\" font-family=\"Helvetica,sans-Serif\" font-size=\"14.00\" fill=\"#000000\">class = moderado</text>\n</g>\n<!-- 2&#45;&gt;8 -->\n<g id=\"edge8\" class=\"edge\">\n<title>2&#45;&gt;8</title>\n<path fill=\"none\" stroke=\"#000000\" d=\"M483.5,-349.3489C483.5,-281.5557 483.5,-147.9457 483.5,-78.4119\"/>\n<polygon fill=\"#000000\" stroke=\"#000000\" points=\"487.0001,-78.2275 483.5,-68.2275 480.0001,-78.2275 487.0001,-78.2275\"/>\n</g>\n<!-- 4 -->\n<g id=\"node5\" class=\"node\">\n<title>4</title>\n<path fill=\"#ffffff\" stroke=\"#000000\" d=\"M245,-194.5C245,-194.5 154,-194.5 154,-194.5 148,-194.5 142,-188.5 142,-182.5 142,-182.5 142,-123.5 142,-123.5 142,-117.5 148,-111.5 154,-111.5 154,-111.5 245,-111.5 245,-111.5 251,-111.5 257,-117.5 257,-123.5 257,-123.5 257,-182.5 257,-182.5 257,-188.5 251,-194.5 245,-194.5\"/>\n<text text-anchor=\"start\" x=\"163\" y=\"-179.3\" font-family=\"Helvetica,sans-Serif\" font-size=\"14.00\" fill=\"#000000\">renda ≤ 0.5</text>\n<text text-anchor=\"start\" x=\"157\" y=\"-164.3\" font-family=\"Helvetica,sans-Serif\" font-size=\"14.00\" fill=\"#000000\">entropy = 1.0</text>\n<text text-anchor=\"start\" x=\"160\" y=\"-149.3\" font-family=\"Helvetica,sans-Serif\" font-size=\"14.00\" fill=\"#000000\">samples = 2</text>\n<text text-anchor=\"start\" x=\"150\" y=\"-134.3\" font-family=\"Helvetica,sans-Serif\" font-size=\"14.00\" fill=\"#000000\">value = [1, 0, 1]</text>\n<text text-anchor=\"start\" x=\"163\" y=\"-119.3\" font-family=\"Helvetica,sans-Serif\" font-size=\"14.00\" fill=\"#000000\">class = alto</text>\n</g>\n<!-- 3&#45;&gt;4 -->\n<g id=\"edge4\" class=\"edge\">\n<title>3&#45;&gt;4</title>\n<path fill=\"none\" stroke=\"#000000\" d=\"M291.8353,-230.3796C280.6584,-221.013 268.7038,-210.9948 257.2288,-201.3784\"/>\n<polygon fill=\"#000000\" stroke=\"#000000\" points=\"259.2893,-198.5386 249.3767,-194.7981 254.7931,-203.9037 259.2893,-198.5386\"/>\n</g>\n<!-- 7 -->\n<g id=\"node8\" class=\"node\">\n<title>7</title>\n<path fill=\"#e58139\" stroke=\"#000000\" d=\"M387,-68C387,-68 296,-68 296,-68 290,-68 284,-62 284,-56 284,-56 284,-12 284,-12 284,-6 290,0 296,0 296,0 387,0 387,0 393,0 399,-6 399,-12 399,-12 399,-56 399,-56 399,-62 393,-68 387,-68\"/>\n<text text-anchor=\"start\" x=\"299\" y=\"-52.8\" font-family=\"Helvetica,sans-Serif\" font-size=\"14.00\" fill=\"#000000\">entropy = 0.0</text>\n<text text-anchor=\"start\" x=\"302\" y=\"-37.8\" font-family=\"Helvetica,sans-Serif\" font-size=\"14.00\" fill=\"#000000\">samples = 1</text>\n<text text-anchor=\"start\" x=\"292\" y=\"-22.8\" font-family=\"Helvetica,sans-Serif\" font-size=\"14.00\" fill=\"#000000\">value = [1, 0, 0]</text>\n<text text-anchor=\"start\" x=\"305\" y=\"-7.8\" font-family=\"Helvetica,sans-Serif\" font-size=\"14.00\" fill=\"#000000\">class = alto</text>\n</g>\n<!-- 3&#45;&gt;7 -->\n<g id=\"edge7\" class=\"edge\">\n<title>3&#45;&gt;7</title>\n<path fill=\"none\" stroke=\"#000000\" d=\"M341.5,-230.2712C341.5,-187.6911 341.5,-121.8568 341.5,-78.3511\"/>\n<polygon fill=\"#000000\" stroke=\"#000000\" points=\"345.0001,-78.3416 341.5,-68.3417 338.0001,-78.3417 345.0001,-78.3416\"/>\n</g>\n<!-- 5 -->\n<g id=\"node6\" class=\"node\">\n<title>5</title>\n<path fill=\"#e58139\" stroke=\"#000000\" d=\"M103,-68C103,-68 12,-68 12,-68 6,-68 0,-62 0,-56 0,-56 0,-12 0,-12 0,-6 6,0 12,0 12,0 103,0 103,0 109,0 115,-6 115,-12 115,-12 115,-56 115,-56 115,-62 109,-68 103,-68\"/>\n<text text-anchor=\"start\" x=\"15\" y=\"-52.8\" font-family=\"Helvetica,sans-Serif\" font-size=\"14.00\" fill=\"#000000\">entropy = 0.0</text>\n<text text-anchor=\"start\" x=\"18\" y=\"-37.8\" font-family=\"Helvetica,sans-Serif\" font-size=\"14.00\" fill=\"#000000\">samples = 1</text>\n<text text-anchor=\"start\" x=\"8\" y=\"-22.8\" font-family=\"Helvetica,sans-Serif\" font-size=\"14.00\" fill=\"#000000\">value = [1, 0, 0]</text>\n<text text-anchor=\"start\" x=\"21\" y=\"-7.8\" font-family=\"Helvetica,sans-Serif\" font-size=\"14.00\" fill=\"#000000\">class = alto</text>\n</g>\n<!-- 4&#45;&gt;5 -->\n<g id=\"edge5\" class=\"edge\">\n<title>4&#45;&gt;5</title>\n<path fill=\"none\" stroke=\"#000000\" d=\"M149.8353,-111.3796C135.6642,-99.5038 120.243,-86.5804 106.1342,-74.7568\"/>\n<polygon fill=\"#000000\" stroke=\"#000000\" points=\"108.3598,-72.0554 98.4472,-68.3149 103.8637,-77.4206 108.3598,-72.0554\"/>\n</g>\n<!-- 6 -->\n<g id=\"node7\" class=\"node\">\n<title>6</title>\n<path fill=\"#8139e5\" stroke=\"#000000\" d=\"M253.5,-68C253.5,-68 145.5,-68 145.5,-68 139.5,-68 133.5,-62 133.5,-56 133.5,-56 133.5,-12 133.5,-12 133.5,-6 139.5,0 145.5,0 145.5,0 253.5,0 253.5,0 259.5,0 265.5,-6 265.5,-12 265.5,-12 265.5,-56 265.5,-56 265.5,-62 259.5,-68 253.5,-68\"/>\n<text text-anchor=\"start\" x=\"157\" y=\"-52.8\" font-family=\"Helvetica,sans-Serif\" font-size=\"14.00\" fill=\"#000000\">entropy = 0.0</text>\n<text text-anchor=\"start\" x=\"160\" y=\"-37.8\" font-family=\"Helvetica,sans-Serif\" font-size=\"14.00\" fill=\"#000000\">samples = 1</text>\n<text text-anchor=\"start\" x=\"150\" y=\"-22.8\" font-family=\"Helvetica,sans-Serif\" font-size=\"14.00\" fill=\"#000000\">value = [0, 0, 1]</text>\n<text text-anchor=\"start\" x=\"141.5\" y=\"-7.8\" font-family=\"Helvetica,sans-Serif\" font-size=\"14.00\" fill=\"#000000\">class = moderado</text>\n</g>\n<!-- 4&#45;&gt;6 -->\n<g id=\"edge6\" class=\"edge\">\n<title>4&#45;&gt;6</title>\n<path fill=\"none\" stroke=\"#000000\" d=\"M199.5,-111.3796C199.5,-100.7134 199.5,-89.2021 199.5,-78.4015\"/>\n<polygon fill=\"#000000\" stroke=\"#000000\" points=\"203.0001,-78.3149 199.5,-68.3149 196.0001,-78.315 203.0001,-78.3149\"/>\n</g>\n<!-- 11 -->\n<g id=\"node12\" class=\"node\">\n<title>11</title>\n<path fill=\"#61ea9a\" stroke=\"#000000\" d=\"M872,-432.5C872,-432.5 781,-432.5 781,-432.5 775,-432.5 769,-426.5 769,-420.5 769,-420.5 769,-361.5 769,-361.5 769,-355.5 775,-349.5 781,-349.5 781,-349.5 872,-349.5 872,-349.5 878,-349.5 884,-355.5 884,-361.5 884,-361.5 884,-420.5 884,-420.5 884,-426.5 878,-432.5 872,-432.5\"/>\n<text text-anchor=\"start\" x=\"785.5\" y=\"-417.3\" font-family=\"Helvetica,sans-Serif\" font-size=\"14.00\" fill=\"#000000\">historia ≤ 0.5</text>\n<text text-anchor=\"start\" x=\"779.5\" y=\"-402.3\" font-family=\"Helvetica,sans-Serif\" font-size=\"14.00\" fill=\"#000000\">entropy = 0.65</text>\n<text text-anchor=\"start\" x=\"787\" y=\"-387.3\" font-family=\"Helvetica,sans-Serif\" font-size=\"14.00\" fill=\"#000000\">samples = 6</text>\n<text text-anchor=\"start\" x=\"777\" y=\"-372.3\" font-family=\"Helvetica,sans-Serif\" font-size=\"14.00\" fill=\"#000000\">value = [1, 5, 0]</text>\n<text text-anchor=\"start\" x=\"784\" y=\"-357.3\" font-family=\"Helvetica,sans-Serif\" font-size=\"14.00\" fill=\"#000000\">class = baixo</text>\n</g>\n<!-- 10&#45;&gt;11 -->\n<g id=\"edge11\" class=\"edge\">\n<title>10&#45;&gt;11</title>\n<path fill=\"none\" stroke=\"#000000\" d=\"M826.5,-468.3796C826.5,-460.1838 826.5,-451.4891 826.5,-443.0013\"/>\n<polygon fill=\"#000000\" stroke=\"#000000\" points=\"830.0001,-442.798 826.5,-432.7981 823.0001,-442.7981 830.0001,-442.798\"/>\n</g>\n<!-- 16 -->\n<g id=\"node17\" class=\"node\">\n<title>16</title>\n<path fill=\"#8139e5\" stroke=\"#000000\" d=\"M1220.5,-68C1220.5,-68 1112.5,-68 1112.5,-68 1106.5,-68 1100.5,-62 1100.5,-56 1100.5,-56 1100.5,-12 1100.5,-12 1100.5,-6 1106.5,0 1112.5,0 1112.5,0 1220.5,0 1220.5,0 1226.5,0 1232.5,-6 1232.5,-12 1232.5,-12 1232.5,-56 1232.5,-56 1232.5,-62 1226.5,-68 1220.5,-68\"/>\n<text text-anchor=\"start\" x=\"1124\" y=\"-52.8\" font-family=\"Helvetica,sans-Serif\" font-size=\"14.00\" fill=\"#000000\">entropy = 0.0</text>\n<text text-anchor=\"start\" x=\"1127\" y=\"-37.8\" font-family=\"Helvetica,sans-Serif\" font-size=\"14.00\" fill=\"#000000\">samples = 1</text>\n<text text-anchor=\"start\" x=\"1117\" y=\"-22.8\" font-family=\"Helvetica,sans-Serif\" font-size=\"14.00\" fill=\"#000000\">value = [0, 0, 1]</text>\n<text text-anchor=\"start\" x=\"1108.5\" y=\"-7.8\" font-family=\"Helvetica,sans-Serif\" font-size=\"14.00\" fill=\"#000000\">class = moderado</text>\n</g>\n<!-- 10&#45;&gt;16 -->\n<g id=\"edge16\" class=\"edge\">\n<title>10&#45;&gt;16</title>\n<path fill=\"none\" stroke=\"#000000\" d=\"M862.2043,-468.0745C877.7553,-449.8138 892.5,-432.5 892.5,-432.5 892.5,-432.5 1066.5177,-179.4123 1137.1924,-76.6243\"/>\n<polygon fill=\"#000000\" stroke=\"#000000\" points=\"1140.12,-78.5439 1142.9018,-68.3208 1134.3519,-74.5779 1140.12,-78.5439\"/>\n</g>\n<!-- 12 -->\n<g id=\"node13\" class=\"node\">\n<title>12</title>\n<path fill=\"#39e581\" stroke=\"#000000\" d=\"M804,-68C804,-68 713,-68 713,-68 707,-68 701,-62 701,-56 701,-56 701,-12 701,-12 701,-6 707,0 713,0 713,0 804,0 804,0 810,0 816,-6 816,-12 816,-12 816,-56 816,-56 816,-62 810,-68 804,-68\"/>\n<text text-anchor=\"start\" x=\"716\" y=\"-52.8\" font-family=\"Helvetica,sans-Serif\" font-size=\"14.00\" fill=\"#000000\">entropy = 0.0</text>\n<text text-anchor=\"start\" x=\"719\" y=\"-37.8\" font-family=\"Helvetica,sans-Serif\" font-size=\"14.00\" fill=\"#000000\">samples = 3</text>\n<text text-anchor=\"start\" x=\"709\" y=\"-22.8\" font-family=\"Helvetica,sans-Serif\" font-size=\"14.00\" fill=\"#000000\">value = [0, 3, 0]</text>\n<text text-anchor=\"start\" x=\"716\" y=\"-7.8\" font-family=\"Helvetica,sans-Serif\" font-size=\"14.00\" fill=\"#000000\">class = baixo</text>\n</g>\n<!-- 11&#45;&gt;12 -->\n<g id=\"edge12\" class=\"edge\">\n<title>11&#45;&gt;12</title>\n<path fill=\"none\" stroke=\"#000000\" d=\"M818.5665,-349.3489C805.6535,-281.5557 780.204,-147.9457 766.9594,-78.4119\"/>\n<polygon fill=\"#000000\" stroke=\"#000000\" points=\"770.3289,-77.396 765.0195,-68.2275 763.4525,-78.7058 770.3289,-77.396\"/>\n</g>\n<!-- 13 -->\n<g id=\"node14\" class=\"node\">\n<title>13</title>\n<path fill=\"#9cf2c0\" stroke=\"#000000\" d=\"M938.5,-313.5C938.5,-313.5 844.5,-313.5 844.5,-313.5 838.5,-313.5 832.5,-307.5 832.5,-301.5 832.5,-301.5 832.5,-242.5 832.5,-242.5 832.5,-236.5 838.5,-230.5 844.5,-230.5 844.5,-230.5 938.5,-230.5 938.5,-230.5 944.5,-230.5 950.5,-236.5 950.5,-242.5 950.5,-242.5 950.5,-301.5 950.5,-301.5 950.5,-307.5 944.5,-313.5 938.5,-313.5\"/>\n<text text-anchor=\"start\" x=\"843.5\" y=\"-298.3\" font-family=\"Helvetica,sans-Serif\" font-size=\"14.00\" fill=\"#000000\">garantias ≤ 0.5</text>\n<text text-anchor=\"start\" x=\"840.5\" y=\"-283.3\" font-family=\"Helvetica,sans-Serif\" font-size=\"14.00\" fill=\"#000000\">entropy = 0.918</text>\n<text text-anchor=\"start\" x=\"852\" y=\"-268.3\" font-family=\"Helvetica,sans-Serif\" font-size=\"14.00\" fill=\"#000000\">samples = 3</text>\n<text text-anchor=\"start\" x=\"842\" y=\"-253.3\" font-family=\"Helvetica,sans-Serif\" font-size=\"14.00\" fill=\"#000000\">value = [1, 2, 0]</text>\n<text text-anchor=\"start\" x=\"849\" y=\"-238.3\" font-family=\"Helvetica,sans-Serif\" font-size=\"14.00\" fill=\"#000000\">class = baixo</text>\n</g>\n<!-- 11&#45;&gt;13 -->\n<g id=\"edge13\" class=\"edge\">\n<title>11&#45;&gt;13</title>\n<path fill=\"none\" stroke=\"#000000\" d=\"M849.2338,-349.3796C853.9565,-340.7335 858.9824,-331.5322 863.859,-322.6042\"/>\n<polygon fill=\"#000000\" stroke=\"#000000\" points=\"866.947,-324.252 868.6691,-313.7981 860.8037,-320.8964 866.947,-324.252\"/>\n</g>\n<!-- 14 -->\n<g id=\"node15\" class=\"node\">\n<title>14</title>\n<path fill=\"#39e581\" stroke=\"#000000\" d=\"M937,-68C937,-68 846,-68 846,-68 840,-68 834,-62 834,-56 834,-56 834,-12 834,-12 834,-6 840,0 846,0 846,0 937,0 937,0 943,0 949,-6 949,-12 949,-12 949,-56 949,-56 949,-62 943,-68 937,-68\"/>\n<text text-anchor=\"start\" x=\"849\" y=\"-52.8\" font-family=\"Helvetica,sans-Serif\" font-size=\"14.00\" fill=\"#000000\">entropy = 0.0</text>\n<text text-anchor=\"start\" x=\"852\" y=\"-37.8\" font-family=\"Helvetica,sans-Serif\" font-size=\"14.00\" fill=\"#000000\">samples = 1</text>\n<text text-anchor=\"start\" x=\"842\" y=\"-22.8\" font-family=\"Helvetica,sans-Serif\" font-size=\"14.00\" fill=\"#000000\">value = [0, 1, 0]</text>\n<text text-anchor=\"start\" x=\"849\" y=\"-7.8\" font-family=\"Helvetica,sans-Serif\" font-size=\"14.00\" fill=\"#000000\">class = baixo</text>\n</g>\n<!-- 13&#45;&gt;14 -->\n<g id=\"edge14\" class=\"edge\">\n<title>13&#45;&gt;14</title>\n<path fill=\"none\" stroke=\"#000000\" d=\"M891.5,-230.2712C891.5,-187.6911 891.5,-121.8568 891.5,-78.3511\"/>\n<polygon fill=\"#000000\" stroke=\"#000000\" points=\"895.0001,-78.3416 891.5,-68.3417 888.0001,-78.3417 895.0001,-78.3416\"/>\n</g>\n<!-- 15 -->\n<g id=\"node16\" class=\"node\">\n<title>15</title>\n<path fill=\"#ffffff\" stroke=\"#000000\" d=\"M1070,-68C1070,-68 979,-68 979,-68 973,-68 967,-62 967,-56 967,-56 967,-12 967,-12 967,-6 973,0 979,0 979,0 1070,0 1070,0 1076,0 1082,-6 1082,-12 1082,-12 1082,-56 1082,-56 1082,-62 1076,-68 1070,-68\"/>\n<text text-anchor=\"start\" x=\"982\" y=\"-52.8\" font-family=\"Helvetica,sans-Serif\" font-size=\"14.00\" fill=\"#000000\">entropy = 1.0</text>\n<text text-anchor=\"start\" x=\"985\" y=\"-37.8\" font-family=\"Helvetica,sans-Serif\" font-size=\"14.00\" fill=\"#000000\">samples = 2</text>\n<text text-anchor=\"start\" x=\"975\" y=\"-22.8\" font-family=\"Helvetica,sans-Serif\" font-size=\"14.00\" fill=\"#000000\">value = [1, 1, 0]</text>\n<text text-anchor=\"start\" x=\"988\" y=\"-7.8\" font-family=\"Helvetica,sans-Serif\" font-size=\"14.00\" fill=\"#000000\">class = alto</text>\n</g>\n<!-- 13&#45;&gt;15 -->\n<g id=\"edge15\" class=\"edge\">\n<title>13&#45;&gt;15</title>\n<path fill=\"none\" stroke=\"#000000\" d=\"M914.819,-230.2712C938.8146,-187.3317 976.0254,-120.744 1000.3284,-77.2545\"/>\n<polygon fill=\"#000000\" stroke=\"#000000\" points=\"1003.4861,-78.7785 1005.3091,-68.3417 997.3755,-75.3637 1003.4861,-78.7785\"/>\n</g>\n</g>\n</svg>\n"
          },
          "metadata": {
            "tags": []
          },
          "execution_count": 79
        }
      ]
    },
    {
      "cell_type": "markdown",
      "metadata": {
        "id": "EtV55fnVzVOh"
      },
      "source": [
        "### Censo"
      ]
    },
    {
      "cell_type": "code",
      "metadata": {
        "id": "7dG0BQ05zVOi",
        "colab": {
          "base_uri": "https://localhost:8080/"
        },
        "outputId": "cfd3d39f-97a8-4b6e-8daa-89a281b95852"
      },
      "source": [
        "import pandas as pd\n",
        "# load data\n",
        "filename = \"census.csv\"\n",
        "df = pd.read_csv(filename)\n",
        "\n",
        "# identify columns with string data\n",
        "lst_col_str = [col for col in df.columns if df[col].dtypes==\"object\"]\n",
        "# remove target name\n",
        "lst_col_str.pop(-1)  \n",
        "# get index from categorical features\n",
        "lst_idx_col_str = [df.columns.get_loc(col_name) for col_name in lst_col_str]\n",
        "\n",
        "# split features and target\n",
        "X = df.iloc[:,:-1].values\n",
        "y = df.iloc[:,-1].values\n",
        "\n",
        "# Encoding\n",
        "from sklearn.preprocessing import LabelEncoder, OneHotEncoder\n",
        "from sklearn.compose import ColumnTransformer\n",
        "\n",
        "labelencoder = LabelEncoder()\n",
        "\n",
        "for idx in lst_idx_col_str:\n",
        "    X[:,idx] = labelencoder.fit_transform(X[:,idx])\n",
        "\n",
        "onehotencorder = ColumnTransformer(\n",
        "    transformers=[\n",
        "                  (\"OneHot\", OneHotEncoder(), lst_idx_col_str)\n",
        "                  ]\n",
        "                  , remainder='passthrough'\n",
        "    )\n",
        "X = onehotencorder.fit_transform(X).toarray()\n",
        "\n",
        "labelencorder = LabelEncoder()\n",
        "y = labelencorder.fit_transform(y)\n",
        "\n",
        "# Standardization\n",
        "from sklearn.preprocessing import StandardScaler\n",
        "scaler = StandardScaler()\n",
        "# X = scaler.fit_transform(X)  # perde interpretação\n",
        "# nao faz muito sentido junto com o one_hot_encoder\n",
        "\n",
        "\n",
        "# Train-Test Split\n",
        "from sklearn.model_selection import train_test_split\n",
        "X_train, X_test, y_train, y_test = train_test_split(\n",
        "    X\n",
        "    , y\n",
        "    , test_size=0.15\n",
        "    , random_state=0\n",
        ")\n",
        "\n",
        "# Classifier\n",
        "from sklearn.tree import (\n",
        "    DecisionTreeClassifier, export_graphviz, plot_tree, export_text\n",
        ")\n",
        "# decision tree doesn't deal with categorical data\n",
        "clf = DecisionTreeClassifier(criterion='entropy', random_state=0)\n",
        "# Train\n",
        "clf.fit(X_train, y_train)\n",
        "# Predict\n",
        "y_pred = clf.predict(X_test)\n",
        "# Evaluation\n",
        "from sklearn.metrics import confusion_matrix, accuracy_score\n",
        "score = accuracy_score(y_test, y_pred)\n",
        "confusion_matrix = confusion_matrix(y_test, y_pred)\n",
        "\n",
        "print(confusion_matrix)\n",
        "print(score)\n"
      ],
      "execution_count": 80,
      "outputs": [
        {
          "output_type": "stream",
          "text": [
            "[[3226  467]\n",
            " [ 460  732]]\n",
            "0.8102354145342886\n"
          ],
          "name": "stdout"
        }
      ]
    },
    {
      "cell_type": "markdown",
      "metadata": {
        "id": "BVOJfiEHb7n-"
      },
      "source": [
        "## Indução de regras\n",
        "1. oneR\n",
        "2. PRISM\n",
        "* árvores de decisão vs regras\n",
        " 1. compreensibilidade\n",
        " 1. pouco espaço de armazenamento\n",
        " 1. regras + lento que árvores\n",
        " 1. árvores + eficiente que regras\n",
        "* Regras CN2 com orange (biblioteca, sklearn não tem regras)\n",
        "* interface gráfica via orange\n",
        "* baseline: Majority Learner\n",
        "\n",
        "1. Durante a criação de regras com o algoritmo OneR, aquelas que irão compor a coluna de regras são aquelas que tem maior frequência\n",
        "1. Para criar uma regra utilizando o algoritmo PRISM, é levado em consideração a abrangência, ou seja, a quantidade de vezes que o atributo/valor aparece em relação ao atributo alvo (V)\n",
        "1. O algoritmo Majority Learner (ou ZeroR) define o percentual de acerto a partir da maioria dos registros (V)\n",
        "\n",
        "\n",
        "\n",
        "\n",
        "\n",
        "\n",
        "\n",
        "\n",
        "\n",
        "\n",
        "\n",
        "\n",
        "\n",
        "\n",
        "\n",
        "\n",
        "\n",
        "\n",
        "\n",
        "\n",
        "\n",
        "\n"
      ]
    },
    {
      "cell_type": "markdown",
      "metadata": {
        "id": "oAsEkivycpFP"
      },
      "source": [
        "Ex.\n",
        "\n",
        "| Regra                                         | Risco |\n",
        "|-----------------------------------------------|-------|\n",
        "| Se renda >= 35\\.000 E história = boa          | Baixo |\n",
        "| Se renda >= 35\\.000 E história = desconhecida | Baixo |\n",
        "| Default                                       | Alto  |"
      ]
    },
    {
      "cell_type": "code",
      "metadata": {
        "id": "cng-bRfUdTfl",
        "colab": {
          "base_uri": "https://localhost:8080/"
        },
        "outputId": "b6935048-44cb-4d9f-96ce-2231c1fae755"
      },
      "source": [
        "test0_raw = {\n",
        "    \"historia\": \"boa\",\n",
        "    \"divida\": \"alta\",\n",
        "    \"garantias\": \"nenhuma\",\n",
        "    \"renda\": \"acima_35\"\n",
        "}\n",
        "\n",
        "test1_raw = {\n",
        "    \"historia\": \"ruim\",\n",
        "    \"divida\": \"alta\",\n",
        "    \"garantias\": \"adequada\",\n",
        "    \"renda\": \"0_15\"\n",
        "}\n",
        "\n",
        "def regra(test):\n",
        "    if ( (test['renda'] == \"acima_35\") and\n",
        "        (test['historia'] in ['boa','desconhecida'])):\n",
        "        return 'baixo'\n",
        "    return 'alto'\n",
        "\n",
        "print(\"test0:\", regra(test=test0_raw))\n",
        "print(\"test1:\", regra(test=test1_raw))\n"
      ],
      "execution_count": 81,
      "outputs": [
        {
          "output_type": "stream",
          "text": [
            "test0: baixo\n",
            "test1: alto\n"
          ],
          "name": "stdout"
        }
      ]
    },
    {
      "cell_type": "markdown",
      "metadata": {
        "id": "OPnEvpjbchOY"
      },
      "source": [
        "### OneR\n",
        "1. Testar coisas simples primeiro\n",
        "1. Um atributo faz todo o trabalho"
      ]
    },
    {
      "cell_type": "code",
      "metadata": {
        "id": "obUQy9MYfgtX",
        "colab": {
          "base_uri": "https://localhost:8080/",
          "height": 0
        },
        "outputId": "3e911f59-4313-465a-a540-0a10b04e0f10"
      },
      "source": [
        "filename = \"risco_credito\"\n",
        "df = pd.read_csv(filename+\".csv\")\n",
        "# create lists\n",
        "lst_features = list(df.columns[:-1])\n",
        "lst_col = lst_features[:]\n",
        "# Fix col name\n",
        "target = 'risco'\n",
        "lst_col.append(target)\n",
        "df.columns = lst_col\n",
        "df.head()"
      ],
      "execution_count": 82,
      "outputs": [
        {
          "output_type": "execute_result",
          "data": {
            "text/html": [
              "<div>\n",
              "<style scoped>\n",
              "    .dataframe tbody tr th:only-of-type {\n",
              "        vertical-align: middle;\n",
              "    }\n",
              "\n",
              "    .dataframe tbody tr th {\n",
              "        vertical-align: top;\n",
              "    }\n",
              "\n",
              "    .dataframe thead th {\n",
              "        text-align: right;\n",
              "    }\n",
              "</style>\n",
              "<table border=\"1\" class=\"dataframe\">\n",
              "  <thead>\n",
              "    <tr style=\"text-align: right;\">\n",
              "      <th></th>\n",
              "      <th>historia</th>\n",
              "      <th>divida</th>\n",
              "      <th>garantias</th>\n",
              "      <th>renda</th>\n",
              "      <th>risco</th>\n",
              "    </tr>\n",
              "  </thead>\n",
              "  <tbody>\n",
              "    <tr>\n",
              "      <th>0</th>\n",
              "      <td>ruim</td>\n",
              "      <td>alta</td>\n",
              "      <td>nenhuma</td>\n",
              "      <td>0_15</td>\n",
              "      <td>alto</td>\n",
              "    </tr>\n",
              "    <tr>\n",
              "      <th>1</th>\n",
              "      <td>desconhecida</td>\n",
              "      <td>alta</td>\n",
              "      <td>nenhuma</td>\n",
              "      <td>15_35</td>\n",
              "      <td>alto</td>\n",
              "    </tr>\n",
              "    <tr>\n",
              "      <th>2</th>\n",
              "      <td>desconhecida</td>\n",
              "      <td>baixa</td>\n",
              "      <td>nenhuma</td>\n",
              "      <td>15_35</td>\n",
              "      <td>moderado</td>\n",
              "    </tr>\n",
              "    <tr>\n",
              "      <th>3</th>\n",
              "      <td>desconhecida</td>\n",
              "      <td>baixa</td>\n",
              "      <td>nenhuma</td>\n",
              "      <td>acima_35</td>\n",
              "      <td>alto</td>\n",
              "    </tr>\n",
              "    <tr>\n",
              "      <th>4</th>\n",
              "      <td>desconhecida</td>\n",
              "      <td>baixa</td>\n",
              "      <td>nenhuma</td>\n",
              "      <td>acima_35</td>\n",
              "      <td>baixo</td>\n",
              "    </tr>\n",
              "  </tbody>\n",
              "</table>\n",
              "</div>"
            ],
            "text/plain": [
              "       historia divida garantias     renda     risco\n",
              "0          ruim   alta   nenhuma      0_15      alto\n",
              "1  desconhecida   alta   nenhuma     15_35      alto\n",
              "2  desconhecida  baixa   nenhuma     15_35  moderado\n",
              "3  desconhecida  baixa   nenhuma  acima_35      alto\n",
              "4  desconhecida  baixa   nenhuma  acima_35     baixo"
            ]
          },
          "metadata": {
            "tags": []
          },
          "execution_count": 82
        }
      ]
    },
    {
      "cell_type": "code",
      "metadata": {
        "id": "LAlZpsL5f-iX",
        "colab": {
          "base_uri": "https://localhost:8080/",
          "height": 0
        },
        "outputId": "2edba33e-6029-4e4a-adb0-87fed68986c0"
      },
      "source": [
        "# multindex table\n",
        "melt = df.melt(target).value_counts()\n",
        "df_cross = melt.unstack(level=0).T.fillna(0).astype(int)\n",
        "df_cross"
      ],
      "execution_count": 83,
      "outputs": [
        {
          "output_type": "execute_result",
          "data": {
            "text/html": [
              "<div>\n",
              "<style scoped>\n",
              "    .dataframe tbody tr th:only-of-type {\n",
              "        vertical-align: middle;\n",
              "    }\n",
              "\n",
              "    .dataframe tbody tr th {\n",
              "        vertical-align: top;\n",
              "    }\n",
              "\n",
              "    .dataframe thead tr th {\n",
              "        text-align: left;\n",
              "    }\n",
              "\n",
              "    .dataframe thead tr:last-of-type th {\n",
              "        text-align: right;\n",
              "    }\n",
              "</style>\n",
              "<table border=\"1\" class=\"dataframe\">\n",
              "  <thead>\n",
              "    <tr>\n",
              "      <th>variable</th>\n",
              "      <th colspan=\"2\" halign=\"left\">divida</th>\n",
              "      <th colspan=\"2\" halign=\"left\">garantias</th>\n",
              "      <th colspan=\"3\" halign=\"left\">historia</th>\n",
              "      <th colspan=\"3\" halign=\"left\">renda</th>\n",
              "    </tr>\n",
              "    <tr>\n",
              "      <th>value</th>\n",
              "      <th>alta</th>\n",
              "      <th>baixa</th>\n",
              "      <th>adequada</th>\n",
              "      <th>nenhuma</th>\n",
              "      <th>boa</th>\n",
              "      <th>desconhecida</th>\n",
              "      <th>ruim</th>\n",
              "      <th>0_15</th>\n",
              "      <th>15_35</th>\n",
              "      <th>acima_35</th>\n",
              "    </tr>\n",
              "    <tr>\n",
              "      <th>risco</th>\n",
              "      <th></th>\n",
              "      <th></th>\n",
              "      <th></th>\n",
              "      <th></th>\n",
              "      <th></th>\n",
              "      <th></th>\n",
              "      <th></th>\n",
              "      <th></th>\n",
              "      <th></th>\n",
              "      <th></th>\n",
              "    </tr>\n",
              "  </thead>\n",
              "  <tbody>\n",
              "    <tr>\n",
              "      <th>alto</th>\n",
              "      <td>4</td>\n",
              "      <td>2</td>\n",
              "      <td>0</td>\n",
              "      <td>6</td>\n",
              "      <td>1</td>\n",
              "      <td>2</td>\n",
              "      <td>3</td>\n",
              "      <td>3</td>\n",
              "      <td>2</td>\n",
              "      <td>1</td>\n",
              "    </tr>\n",
              "    <tr>\n",
              "      <th>baixo</th>\n",
              "      <td>2</td>\n",
              "      <td>3</td>\n",
              "      <td>2</td>\n",
              "      <td>3</td>\n",
              "      <td>3</td>\n",
              "      <td>2</td>\n",
              "      <td>0</td>\n",
              "      <td>0</td>\n",
              "      <td>0</td>\n",
              "      <td>5</td>\n",
              "    </tr>\n",
              "    <tr>\n",
              "      <th>moderado</th>\n",
              "      <td>1</td>\n",
              "      <td>2</td>\n",
              "      <td>1</td>\n",
              "      <td>2</td>\n",
              "      <td>1</td>\n",
              "      <td>1</td>\n",
              "      <td>1</td>\n",
              "      <td>0</td>\n",
              "      <td>2</td>\n",
              "      <td>1</td>\n",
              "    </tr>\n",
              "  </tbody>\n",
              "</table>\n",
              "</div>"
            ],
            "text/plain": [
              "variable divida       garantias          ... historia renda               \n",
              "value      alta baixa  adequada nenhuma  ...     ruim  0_15 15_35 acima_35\n",
              "risco                                    ...                              \n",
              "alto          4     2         0       6  ...        3     3     2        1\n",
              "baixo         2     3         2       3  ...        0     0     0        5\n",
              "moderado      1     2         1       2  ...        1     0     2        1\n",
              "\n",
              "[3 rows x 10 columns]"
            ]
          },
          "metadata": {
            "tags": []
          },
          "execution_count": 83
        }
      ]
    },
    {
      "cell_type": "code",
      "metadata": {
        "id": "QRle8TQvfgg3",
        "colab": {
          "base_uri": "https://localhost:8080/"
        },
        "outputId": "0844aac8-1fe4-47c2-ab21-3558ca90929d"
      },
      "source": [
        "df_cross_idxmax = df_cross.idxmax()\n",
        "df_cross_idxmax"
      ],
      "execution_count": 84,
      "outputs": [
        {
          "output_type": "execute_result",
          "data": {
            "text/plain": [
              "variable   value       \n",
              "divida     alta             alto\n",
              "           baixa           baixo\n",
              "garantias  adequada        baixo\n",
              "           nenhuma          alto\n",
              "historia   boa             baixo\n",
              "           desconhecida     alto\n",
              "           ruim             alto\n",
              "renda      0_15             alto\n",
              "           15_35            alto\n",
              "           acima_35        baixo\n",
              "dtype: object"
            ]
          },
          "metadata": {
            "tags": []
          },
          "execution_count": 84
        }
      ]
    },
    {
      "cell_type": "code",
      "metadata": {
        "id": "YyLsjfn5h7Md",
        "colab": {
          "base_uri": "https://localhost:8080/"
        },
        "outputId": "4bffd236-cafb-401b-89a6-3c3083c22142"
      },
      "source": [
        "dct_rules = df_cross_idxmax.to_dict()\n",
        "{f\"if {k[0]} is {k[1]}, then {target} is {v}\" for k,v in dct_rules.items()}"
      ],
      "execution_count": 85,
      "outputs": [
        {
          "output_type": "execute_result",
          "data": {
            "text/plain": [
              "{'if divida is alta, then risco is alto',\n",
              " 'if divida is baixa, then risco is baixo',\n",
              " 'if garantias is adequada, then risco is baixo',\n",
              " 'if garantias is nenhuma, then risco is alto',\n",
              " 'if historia is boa, then risco is baixo',\n",
              " 'if historia is desconhecida, then risco is alto',\n",
              " 'if historia is ruim, then risco is alto',\n",
              " 'if renda is 0_15, then risco is alto',\n",
              " 'if renda is 15_35, then risco is alto',\n",
              " 'if renda is acima_35, then risco is baixo'}"
            ]
          },
          "metadata": {
            "tags": []
          },
          "execution_count": 85
        }
      ]
    },
    {
      "cell_type": "code",
      "metadata": {
        "id": "EfSQZlVhlrH7",
        "colab": {
          "base_uri": "https://localhost:8080/",
          "height": 0
        },
        "outputId": "ec6cf458-9909-43e7-804c-c4d5d8b22f25"
      },
      "source": [
        "dct = {}\n",
        "for idx in range(len(df_cross_idxmax)):\n",
        "    col = df_cross_idxmax.index[idx]\n",
        "    predito = df_cross_idxmax[idx]\n",
        "    total = df_cross[col].sum()\n",
        "    acerto = df_cross[col].loc[predito]\n",
        "    erro = total - acerto\n",
        "    dct[col] = {\"predito\": predito,\n",
        "                \"erro\": erro,\n",
        "                \"acerto\": acerto,\n",
        "                \"total\": total}\n",
        "df_erro_rule = pd.DataFrame.from_dict(dct)\n",
        "df_erro_rule"
      ],
      "execution_count": 86,
      "outputs": [
        {
          "output_type": "execute_result",
          "data": {
            "text/html": [
              "<div>\n",
              "<style scoped>\n",
              "    .dataframe tbody tr th:only-of-type {\n",
              "        vertical-align: middle;\n",
              "    }\n",
              "\n",
              "    .dataframe tbody tr th {\n",
              "        vertical-align: top;\n",
              "    }\n",
              "\n",
              "    .dataframe thead tr th {\n",
              "        text-align: left;\n",
              "    }\n",
              "</style>\n",
              "<table border=\"1\" class=\"dataframe\">\n",
              "  <thead>\n",
              "    <tr>\n",
              "      <th></th>\n",
              "      <th colspan=\"2\" halign=\"left\">divida</th>\n",
              "      <th colspan=\"2\" halign=\"left\">garantias</th>\n",
              "      <th colspan=\"3\" halign=\"left\">historia</th>\n",
              "      <th colspan=\"3\" halign=\"left\">renda</th>\n",
              "    </tr>\n",
              "    <tr>\n",
              "      <th></th>\n",
              "      <th>alta</th>\n",
              "      <th>baixa</th>\n",
              "      <th>adequada</th>\n",
              "      <th>nenhuma</th>\n",
              "      <th>boa</th>\n",
              "      <th>desconhecida</th>\n",
              "      <th>ruim</th>\n",
              "      <th>0_15</th>\n",
              "      <th>15_35</th>\n",
              "      <th>acima_35</th>\n",
              "    </tr>\n",
              "  </thead>\n",
              "  <tbody>\n",
              "    <tr>\n",
              "      <th>predito</th>\n",
              "      <td>alto</td>\n",
              "      <td>baixo</td>\n",
              "      <td>baixo</td>\n",
              "      <td>alto</td>\n",
              "      <td>baixo</td>\n",
              "      <td>alto</td>\n",
              "      <td>alto</td>\n",
              "      <td>alto</td>\n",
              "      <td>alto</td>\n",
              "      <td>baixo</td>\n",
              "    </tr>\n",
              "    <tr>\n",
              "      <th>erro</th>\n",
              "      <td>3</td>\n",
              "      <td>4</td>\n",
              "      <td>1</td>\n",
              "      <td>5</td>\n",
              "      <td>2</td>\n",
              "      <td>3</td>\n",
              "      <td>1</td>\n",
              "      <td>0</td>\n",
              "      <td>2</td>\n",
              "      <td>2</td>\n",
              "    </tr>\n",
              "    <tr>\n",
              "      <th>acerto</th>\n",
              "      <td>4</td>\n",
              "      <td>3</td>\n",
              "      <td>2</td>\n",
              "      <td>6</td>\n",
              "      <td>3</td>\n",
              "      <td>2</td>\n",
              "      <td>3</td>\n",
              "      <td>3</td>\n",
              "      <td>2</td>\n",
              "      <td>5</td>\n",
              "    </tr>\n",
              "    <tr>\n",
              "      <th>total</th>\n",
              "      <td>7</td>\n",
              "      <td>7</td>\n",
              "      <td>3</td>\n",
              "      <td>11</td>\n",
              "      <td>5</td>\n",
              "      <td>5</td>\n",
              "      <td>4</td>\n",
              "      <td>3</td>\n",
              "      <td>4</td>\n",
              "      <td>7</td>\n",
              "    </tr>\n",
              "  </tbody>\n",
              "</table>\n",
              "</div>"
            ],
            "text/plain": [
              "        divida        garantias          ... historia renda               \n",
              "          alta  baixa  adequada nenhuma  ...     ruim  0_15 15_35 acima_35\n",
              "predito   alto  baixo     baixo    alto  ...     alto  alto  alto    baixo\n",
              "erro         3      4         1       5  ...        1     0     2        2\n",
              "acerto       4      3         2       6  ...        3     3     2        5\n",
              "total        7      7         3      11  ...        4     3     4        7\n",
              "\n",
              "[4 rows x 10 columns]"
            ]
          },
          "metadata": {
            "tags": []
          },
          "execution_count": 86
        }
      ]
    },
    {
      "cell_type": "code",
      "metadata": {
        "id": "fF4rdZyxxArm",
        "colab": {
          "base_uri": "https://localhost:8080/",
          "height": 0
        },
        "outputId": "a5be7f05-fda8-42b8-df98-59c76a599ed5"
      },
      "source": [
        "dct_erro_feature = dict(zip(lst_features,\n",
        "                            [{\"erro\":0, \"total\":0, \"proportion\":0}\n",
        "                             for _ in range(len(lst_features))]))\n",
        "\n",
        "for col in lst_features:\n",
        "    dct_erro_feature[col][\"erro\"] = df_erro_rule.loc[\"erro\",col].sum()\n",
        "    dct_erro_feature[col][\"total\"] = df_erro_rule.loc[\"total\",col].sum()\n",
        "    dct_erro_feature[col][\"proportion\"] = (dct_erro_feature[col][\"erro\"]\n",
        "                                           / dct_erro_feature[col][\"total\"])\n",
        "df_erro_feature = pd.DataFrame.from_dict(dct_erro_feature)\n",
        "df_erro_feature"
      ],
      "execution_count": 87,
      "outputs": [
        {
          "output_type": "execute_result",
          "data": {
            "text/html": [
              "<div>\n",
              "<style scoped>\n",
              "    .dataframe tbody tr th:only-of-type {\n",
              "        vertical-align: middle;\n",
              "    }\n",
              "\n",
              "    .dataframe tbody tr th {\n",
              "        vertical-align: top;\n",
              "    }\n",
              "\n",
              "    .dataframe thead th {\n",
              "        text-align: right;\n",
              "    }\n",
              "</style>\n",
              "<table border=\"1\" class=\"dataframe\">\n",
              "  <thead>\n",
              "    <tr style=\"text-align: right;\">\n",
              "      <th></th>\n",
              "      <th>historia</th>\n",
              "      <th>divida</th>\n",
              "      <th>garantias</th>\n",
              "      <th>renda</th>\n",
              "    </tr>\n",
              "  </thead>\n",
              "  <tbody>\n",
              "    <tr>\n",
              "      <th>erro</th>\n",
              "      <td>6.000000</td>\n",
              "      <td>7.0</td>\n",
              "      <td>6.000000</td>\n",
              "      <td>4.000000</td>\n",
              "    </tr>\n",
              "    <tr>\n",
              "      <th>total</th>\n",
              "      <td>14.000000</td>\n",
              "      <td>14.0</td>\n",
              "      <td>14.000000</td>\n",
              "      <td>14.000000</td>\n",
              "    </tr>\n",
              "    <tr>\n",
              "      <th>proportion</th>\n",
              "      <td>0.428571</td>\n",
              "      <td>0.5</td>\n",
              "      <td>0.428571</td>\n",
              "      <td>0.285714</td>\n",
              "    </tr>\n",
              "  </tbody>\n",
              "</table>\n",
              "</div>"
            ],
            "text/plain": [
              "             historia  divida  garantias      renda\n",
              "erro         6.000000     7.0   6.000000   4.000000\n",
              "total       14.000000    14.0  14.000000  14.000000\n",
              "proportion   0.428571     0.5   0.428571   0.285714"
            ]
          },
          "metadata": {
            "tags": []
          },
          "execution_count": 87
        }
      ]
    },
    {
      "cell_type": "code",
      "metadata": {
        "id": "WfYseGIHit42",
        "colab": {
          "base_uri": "https://localhost:8080/",
          "height": 0
        },
        "outputId": "e02f271a-65af-4702-9db7-12cac0b90bce"
      },
      "source": [
        "oneR_feature = df_erro_feature.T.loc[:,\"proportion\"].idxmin()\n",
        "oneR_feature"
      ],
      "execution_count": 88,
      "outputs": [
        {
          "output_type": "execute_result",
          "data": {
            "application/vnd.google.colaboratory.intrinsic+json": {
              "type": "string"
            },
            "text/plain": [
              "'renda'"
            ]
          },
          "metadata": {
            "tags": []
          },
          "execution_count": 88
        }
      ]
    },
    {
      "cell_type": "code",
      "metadata": {
        "id": "OrW00yVu2Ieu",
        "colab": {
          "base_uri": "https://localhost:8080/"
        },
        "outputId": "6025df82-82b5-4e16-b969-1a03acf953a4"
      },
      "source": [
        "{f\"IF {k[0]}=={k[1]} THEN {target}={v}\" \n",
        " for k,v in dct_rules.items()\n",
        " if k[0] == oneR_feature\n",
        " }"
      ],
      "execution_count": 89,
      "outputs": [
        {
          "output_type": "execute_result",
          "data": {
            "text/plain": [
              "{'IF renda==0_15 THEN risco=alto',\n",
              " 'IF renda==15_35 THEN risco=alto',\n",
              " 'IF renda==acima_35 THEN risco=baixo'}"
            ]
          },
          "metadata": {
            "tags": []
          },
          "execution_count": 89
        }
      ]
    },
    {
      "cell_type": "markdown",
      "metadata": {
        "id": "li5Jkiiq3wGX"
      },
      "source": [
        "### Prism"
      ]
    },
    {
      "cell_type": "code",
      "metadata": {
        "id": "Gdx0IC4g2pmy"
      },
      "source": [
        "import pandas as pd\n",
        "filename = \"risco_credito\"\n",
        "df = pd.read_csv(filename+\".csv\")\n",
        "# create lists\n",
        "lst_features = list(df.columns[:-1])\n",
        "lst_col = lst_features[:]\n",
        "# Fix col name\n",
        "target = 'risco'\n",
        "lst_col.append(target)\n",
        "df.columns = lst_col"
      ],
      "execution_count": 90,
      "outputs": []
    },
    {
      "cell_type": "code",
      "metadata": {
        "id": "2TzlNt_WGj5D"
      },
      "source": [
        "def get_mode_rule(df):\n",
        "    rule = df.melt().value_counts().idxmax()\n",
        "    return rule\n",
        "\n",
        "def update_df(df, rule):\n",
        "    mask = df.loc[:,rule[0]]==rule[1]\n",
        "    df = df.loc[mask].drop(columns=rule[0])\n",
        "    return df\n"
      ],
      "execution_count": 91,
      "outputs": []
    },
    {
      "cell_type": "code",
      "metadata": {
        "id": "meYDyCDyHuY8",
        "colab": {
          "base_uri": "https://localhost:8080/",
          "height": 0
        },
        "outputId": "a5e8d433-5496-421c-976c-a07fcc2a9ec9"
      },
      "source": [
        "dct_rule = {}\n",
        "for possible_target in df[target].unique():\n",
        "    df_target = df.loc[df[target]==possible_target].drop(columns=target)\n",
        "    dct_rule[possible_target] = {}\n",
        "\n",
        "    for idx in range(len(lst_features)):\n",
        "        rule = get_mode_rule(df=df_target)\n",
        "        df_target = update_df(df=df_target, rule=rule)\n",
        "        dct_rule[possible_target][idx] = rule\n",
        "\n",
        "pd.DataFrame.from_dict(dct_rule)"
      ],
      "execution_count": 92,
      "outputs": [
        {
          "output_type": "execute_result",
          "data": {
            "text/html": [
              "<div>\n",
              "<style scoped>\n",
              "    .dataframe tbody tr th:only-of-type {\n",
              "        vertical-align: middle;\n",
              "    }\n",
              "\n",
              "    .dataframe tbody tr th {\n",
              "        vertical-align: top;\n",
              "    }\n",
              "\n",
              "    .dataframe thead th {\n",
              "        text-align: right;\n",
              "    }\n",
              "</style>\n",
              "<table border=\"1\" class=\"dataframe\">\n",
              "  <thead>\n",
              "    <tr style=\"text-align: right;\">\n",
              "      <th></th>\n",
              "      <th>alto</th>\n",
              "      <th>moderado</th>\n",
              "      <th>baixo</th>\n",
              "    </tr>\n",
              "  </thead>\n",
              "  <tbody>\n",
              "    <tr>\n",
              "      <th>0</th>\n",
              "      <td>(garantias, nenhuma)</td>\n",
              "      <td>(renda, 15_35)</td>\n",
              "      <td>(renda, acima_35)</td>\n",
              "    </tr>\n",
              "    <tr>\n",
              "      <th>1</th>\n",
              "      <td>(divida, alta)</td>\n",
              "      <td>(garantias, nenhuma)</td>\n",
              "      <td>(historia, boa)</td>\n",
              "    </tr>\n",
              "    <tr>\n",
              "      <th>2</th>\n",
              "      <td>(renda, 15_35)</td>\n",
              "      <td>(historia, desconhecida)</td>\n",
              "      <td>(garantias, nenhuma)</td>\n",
              "    </tr>\n",
              "    <tr>\n",
              "      <th>3</th>\n",
              "      <td>(historia, ruim)</td>\n",
              "      <td>(divida, baixa)</td>\n",
              "      <td>(divida, baixa)</td>\n",
              "    </tr>\n",
              "  </tbody>\n",
              "</table>\n",
              "</div>"
            ],
            "text/plain": [
              "                   alto                  moderado                 baixo\n",
              "0  (garantias, nenhuma)            (renda, 15_35)     (renda, acima_35)\n",
              "1        (divida, alta)      (garantias, nenhuma)       (historia, boa)\n",
              "2        (renda, 15_35)  (historia, desconhecida)  (garantias, nenhuma)\n",
              "3      (historia, ruim)           (divida, baixa)       (divida, baixa)"
            ]
          },
          "metadata": {
            "tags": []
          },
          "execution_count": 92
        }
      ]
    },
    {
      "cell_type": "markdown",
      "metadata": {
        "id": "wt4MHV2g3wtw"
      },
      "source": [
        "### Orange\n",
        "\n",
        "target column name has to start with `c#` (class)\n",
        "id column name has to start with `i#` (ignore)"
      ]
    },
    {
      "cell_type": "code",
      "metadata": {
        "id": "eDGryeiN_-_U",
        "colab": {
          "base_uri": "https://localhost:8080/"
        },
        "outputId": "77f7bf6d-97ed-4668-87f4-48279e8cf519"
      },
      "source": [
        "!pip install orange3"
      ],
      "execution_count": 93,
      "outputs": [
        {
          "output_type": "stream",
          "text": [
            "Collecting orange3\n",
            "\u001b[?25l  Downloading https://files.pythonhosted.org/packages/6d/43/4b5609b7471b9e5439c4fdb4d8456445167e44d06406b1ba458cc2c38954/Orange3-3.27.1-cp36-cp36m-manylinux1_x86_64.whl (2.7MB)\n",
            "\u001b[K     |████████████████████████████████| 2.7MB 12.3MB/s \n",
            "\u001b[?25hRequirement already satisfied: bottleneck>=1.0.0 in /usr/local/lib/python3.6/dist-packages (from orange3) (1.3.2)\n",
            "Collecting orange-canvas-core<0.2a,>=0.1.18\n",
            "\u001b[?25l  Downloading https://files.pythonhosted.org/packages/50/6d/034cf6e8c4773178af5b1727315602358a4767835e31ce8839268b42467c/orange_canvas_core-0.1.18-py3-none-any.whl (456kB)\n",
            "\u001b[K     |████████████████████████████████| 460kB 35.1MB/s \n",
            "\u001b[?25hRequirement already satisfied: joblib>=0.9.4 in /usr/local/lib/python3.6/dist-packages (from orange3) (1.0.0)\n",
            "Requirement already satisfied: pyyaml in /usr/local/lib/python3.6/dist-packages (from orange3) (3.13)\n",
            "Requirement already satisfied: chardet>=3.0.2 in /usr/local/lib/python3.6/dist-packages (from orange3) (3.0.4)\n",
            "Collecting PyQtWebEngine>=5.12\n",
            "\u001b[?25l  Downloading https://files.pythonhosted.org/packages/e5/c9/e1d49dd3d4d658b19bbe6a111bb70f6454fab8c30047896409801832c03a/PyQtWebEngine-5.15.2-5.15.2-cp35.cp36.cp37.cp38.cp39-abi3-manylinux2014_x86_64.whl (67.7MB)\n",
            "\u001b[K     |████████████████████████████████| 67.7MB 61kB/s \n",
            "\u001b[?25hRequirement already satisfied: python-louvain>=0.13 in /usr/local/lib/python3.6/dist-packages (from orange3) (0.14)\n",
            "Requirement already satisfied: networkx in /usr/local/lib/python3.6/dist-packages (from orange3) (2.5)\n",
            "Requirement already satisfied: matplotlib>=2.0.0 in /usr/local/lib/python3.6/dist-packages (from orange3) (3.2.2)\n",
            "Requirement already satisfied: setuptools>=36.3 in /usr/local/lib/python3.6/dist-packages (from orange3) (51.1.1)\n",
            "Collecting httpx~=0.14.0\n",
            "\u001b[?25l  Downloading https://files.pythonhosted.org/packages/bb/f9/e187987c0f7e22c92953f2e33d5a68df545719cf6798a1f08340db5fcac1/httpx-0.14.3-py3-none-any.whl (62kB)\n",
            "\u001b[K     |████████████████████████████████| 71kB 6.7MB/s \n",
            "\u001b[?25hCollecting serverfiles\n",
            "  Downloading https://files.pythonhosted.org/packages/72/2d/edd104137443a831eed2f1cedfe96eb003302097b43e7519a98467c5fe44/serverfiles-0.3.0.tar.gz\n",
            "Requirement already satisfied: docutils in /usr/local/lib/python3.6/dist-packages (from orange3) (0.16)\n",
            "Requirement already satisfied: pandas in /usr/local/lib/python3.6/dist-packages (from orange3) (1.1.5)\n",
            "Collecting pyqtgraph>=0.11.0\n",
            "\u001b[?25l  Downloading https://files.pythonhosted.org/packages/7c/8e/0cdd8613548f138ec0ffb38b00f91da69a810f322ee1d08304d37354f8d0/pyqtgraph-0.11.1-py2.py3-none-any.whl (824kB)\n",
            "\u001b[K     |████████████████████████████████| 829kB 50.5MB/s \n",
            "\u001b[?25hCollecting PyQt5!=5.15.1,>=5.12\n",
            "\u001b[?25l  Downloading https://files.pythonhosted.org/packages/91/cf/cc705497cdae04c3c0bc34f94b91e31b6585bb65eb561f18473c998caae1/PyQt5-5.15.2-5.15.2-cp35.cp36.cp37.cp38.cp39-abi3-manylinux2014_x86_64.whl (68.3MB)\n",
            "\u001b[K     |████████████████████████████████| 68.3MB 60kB/s \n",
            "\u001b[?25hRequirement already satisfied: numpy>=1.16.0 in /usr/local/lib/python3.6/dist-packages (from orange3) (1.19.4)\n",
            "Collecting keyring\n",
            "  Downloading https://files.pythonhosted.org/packages/d0/a0/20e656cd1e2313af619e382782bd47b5f77a3f33d81992554f3aac56e90d/keyring-21.8.0-py3-none-any.whl\n",
            "Collecting xlsxwriter\n",
            "\u001b[?25l  Downloading https://files.pythonhosted.org/packages/6b/41/bf1aae04932d1eaffee1fc5f8b38ca47bbbf07d765129539bc4bcce1ce0c/XlsxWriter-1.3.7-py2.py3-none-any.whl (144kB)\n",
            "\u001b[K     |████████████████████████████████| 153kB 30.1MB/s \n",
            "\u001b[?25hRequirement already satisfied: scikit-learn!=0.23.0,>=0.22.0 in /usr/local/lib/python3.6/dist-packages (from orange3) (0.22.2.post1)\n",
            "Requirement already satisfied: xlrd>=0.9.2 in /usr/local/lib/python3.6/dist-packages (from orange3) (1.1.0)\n",
            "Requirement already satisfied: pip>=9.0 in /usr/local/lib/python3.6/dist-packages (from orange3) (19.3.1)\n",
            "Collecting keyrings.alt\n",
            "  Downloading https://files.pythonhosted.org/packages/55/bd/36afd53fe86dc28c2f7280d4e1f5e1e58dc26c0272609af069818f575698/keyrings.alt-4.0.2-py3-none-any.whl\n",
            "Collecting orange-widget-base>=4.8.1\n",
            "\u001b[?25l  Downloading https://files.pythonhosted.org/packages/46/82/60bf4132145aa1ed53e9fe9e1ea87927efdbc0b340967cd44f9f126776b7/orange_widget_base-4.10.0-py3-none-any.whl (231kB)\n",
            "\u001b[K     |████████████████████████████████| 235kB 58.5MB/s \n",
            "\u001b[?25hCollecting AnyQt>=0.0.11\n",
            "\u001b[?25l  Downloading https://files.pythonhosted.org/packages/0e/e9/bde5c1e6871068ff78b2ea18bd2e9bfa7cd6ecfd1e8f1c280cb238138bc1/AnyQt-0.0.11-py2.py3-none-any.whl (46kB)\n",
            "\u001b[K     |████████████████████████████████| 51kB 6.6MB/s \n",
            "\u001b[?25hRequirement already satisfied: openpyxl in /usr/local/lib/python3.6/dist-packages (from orange3) (2.5.9)\n",
            "Collecting openTSNE>=0.4.3\n",
            "\u001b[?25l  Downloading https://files.pythonhosted.org/packages/72/34/eb223df684fc590b7b58a7cab4b356d62d8fac661b2759e2b791aec79627/openTSNE-0.5.1-cp36-cp36m-manylinux2010_x86_64.whl (2.3MB)\n",
            "\u001b[K     |████████████████████████████████| 2.3MB 30.4MB/s \n",
            "\u001b[?25hRequirement already satisfied: scipy>=0.16.1 in /usr/local/lib/python3.6/dist-packages (from orange3) (1.4.1)\n",
            "Requirement already satisfied: requests in /usr/local/lib/python3.6/dist-packages (from orange3) (2.23.0)\n",
            "Collecting baycomp>=1.0.2\n",
            "  Downloading https://files.pythonhosted.org/packages/05/69/3029fe9fe13e4ec14d9d6be695ee197e4cd75221c7f77eb95ac5604035b4/baycomp-1.0.2-py3-none-any.whl\n",
            "Requirement already satisfied: cachecontrol[filecache] in /usr/local/lib/python3.6/dist-packages (from orange-canvas-core<0.2a,>=0.1.18->orange3) (0.12.6)\n",
            "Collecting commonmark>=0.8.1\n",
            "\u001b[?25l  Downloading https://files.pythonhosted.org/packages/b1/92/dfd892312d822f36c55366118b95d914e5f16de11044a27cf10a7d71bbbf/commonmark-0.9.1-py2.py3-none-any.whl (51kB)\n",
            "\u001b[K     |████████████████████████████████| 51kB 4.2MB/s \n",
            "\u001b[?25hCollecting dictdiffer\n",
            "  Downloading https://files.pythonhosted.org/packages/97/92/350b6b6ec39c5f87d98d04c91a50c498518716a05368e6dea88b5c69b590/dictdiffer-0.8.1-py2.py3-none-any.whl\n",
            "Collecting PyQt5-sip<13,>=12.8\n",
            "\u001b[?25l  Downloading https://files.pythonhosted.org/packages/f5/a7/3c52a17b065bcc69a6ca791b88901feeacd410235ec4b23441d975d0ecf4/PyQt5_sip-12.8.1-cp36-cp36m-manylinux1_x86_64.whl (278kB)\n",
            "\u001b[K     |████████████████████████████████| 286kB 51.8MB/s \n",
            "\u001b[?25hRequirement already satisfied: decorator>=4.3.0 in /usr/local/lib/python3.6/dist-packages (from networkx->orange3) (4.4.2)\n",
            "Requirement already satisfied: cycler>=0.10 in /usr/local/lib/python3.6/dist-packages (from matplotlib>=2.0.0->orange3) (0.10.0)\n",
            "Requirement already satisfied: pyparsing!=2.0.4,!=2.1.2,!=2.1.6,>=2.0.1 in /usr/local/lib/python3.6/dist-packages (from matplotlib>=2.0.0->orange3) (2.4.7)\n",
            "Requirement already satisfied: python-dateutil>=2.1 in /usr/local/lib/python3.6/dist-packages (from matplotlib>=2.0.0->orange3) (2.8.1)\n",
            "Requirement already satisfied: kiwisolver>=1.0.1 in /usr/local/lib/python3.6/dist-packages (from matplotlib>=2.0.0->orange3) (1.3.1)\n",
            "Requirement already satisfied: certifi in /usr/local/lib/python3.6/dist-packages (from httpx~=0.14.0->orange3) (2020.12.5)\n",
            "Collecting rfc3986[idna2008]<2,>=1.3\n",
            "  Downloading https://files.pythonhosted.org/packages/78/be/7b8b99fd74ff5684225f50dd0e865393d2265656ef3b4ba9eaaaffe622b8/rfc3986-1.4.0-py2.py3-none-any.whl\n",
            "Collecting sniffio\n",
            "  Downloading https://files.pythonhosted.org/packages/52/b0/7b2e028b63d092804b6794595871f936aafa5e9322dcaaad50ebf67445b3/sniffio-1.2.0-py3-none-any.whl\n",
            "Collecting httpcore==0.10.*\n",
            "\u001b[?25l  Downloading https://files.pythonhosted.org/packages/48/20/eb122c9a73251caa7a0a5c60ccc0707843e917aabc65ed34162a54fee147/httpcore-0.10.2-py3-none-any.whl (48kB)\n",
            "\u001b[K     |████████████████████████████████| 51kB 1.1MB/s \n",
            "\u001b[?25hRequirement already satisfied: pytz>=2017.2 in /usr/local/lib/python3.6/dist-packages (from pandas->orange3) (2018.9)\n",
            "Collecting SecretStorage>=3.2; sys_platform == \"linux\"\n",
            "  Downloading https://files.pythonhosted.org/packages/63/a2/a6d9099b14eb5dbbb04fb722d2b5322688f8f99b471bdf2097e33efa8091/SecretStorage-3.3.0-py3-none-any.whl\n",
            "Requirement already satisfied: importlib-metadata>=1; python_version < \"3.8\" in /usr/local/lib/python3.6/dist-packages (from keyring->orange3) (3.3.0)\n",
            "Collecting jeepney>=0.4.2; sys_platform == \"linux\"\n",
            "\u001b[?25l  Downloading https://files.pythonhosted.org/packages/51/b0/a6ea72741aaac3f37fb96d195e4ee576a103c4c04e279bc6b446a70960e1/jeepney-0.6.0-py3-none-any.whl (45kB)\n",
            "\u001b[K     |████████████████████████████████| 51kB 4.9MB/s \n",
            "\u001b[?25hRequirement already satisfied: jdcal in /usr/local/lib/python3.6/dist-packages (from openpyxl->orange3) (1.4.1)\n",
            "Requirement already satisfied: et-xmlfile in /usr/local/lib/python3.6/dist-packages (from openpyxl->orange3) (1.0.1)\n",
            "Requirement already satisfied: idna<3,>=2.5 in /usr/local/lib/python3.6/dist-packages (from requests->orange3) (2.10)\n",
            "Requirement already satisfied: urllib3!=1.25.0,!=1.25.1,<1.26,>=1.21.1 in /usr/local/lib/python3.6/dist-packages (from requests->orange3) (1.24.3)\n",
            "Requirement already satisfied: msgpack>=0.5.2 in /usr/local/lib/python3.6/dist-packages (from cachecontrol[filecache]->orange-canvas-core<0.2a,>=0.1.18->orange3) (1.0.1)\n",
            "Collecting lockfile>=0.9; extra == \"filecache\"\n",
            "  Downloading https://files.pythonhosted.org/packages/c8/22/9460e311f340cb62d26a38c419b1381b8593b0bb6b5d1f056938b086d362/lockfile-0.12.2-py2.py3-none-any.whl\n",
            "Requirement already satisfied: six in /usr/local/lib/python3.6/dist-packages (from cycler>=0.10->matplotlib>=2.0.0->orange3) (1.15.0)\n",
            "Collecting contextvars>=2.1; python_version < \"3.7\"\n",
            "  Downloading https://files.pythonhosted.org/packages/83/96/55b82d9f13763be9d672622e1b8106c85acb83edd7cc2fa5bc67cd9877e9/contextvars-2.4.tar.gz\n",
            "Collecting h11<0.10,>=0.8\n",
            "\u001b[?25l  Downloading https://files.pythonhosted.org/packages/5a/fd/3dad730b0f95e78aeeb742f96fa7bbecbdd56a58e405d3da440d5bfb90c6/h11-0.9.0-py2.py3-none-any.whl (53kB)\n",
            "\u001b[K     |████████████████████████████████| 61kB 6.1MB/s \n",
            "\u001b[?25hCollecting cryptography>=2.0\n",
            "\u001b[?25l  Downloading https://files.pythonhosted.org/packages/c9/de/7054df0620b5411ba45480f0261e1fb66a53f3db31b28e3aa52c026e72d9/cryptography-3.3.1-cp36-abi3-manylinux2010_x86_64.whl (2.6MB)\n",
            "\u001b[K     |████████████████████████████████| 2.6MB 33.1MB/s \n",
            "\u001b[?25hRequirement already satisfied: typing-extensions>=3.6.4; python_version < \"3.8\" in /usr/local/lib/python3.6/dist-packages (from importlib-metadata>=1; python_version < \"3.8\"->keyring->orange3) (3.7.4.3)\n",
            "Requirement already satisfied: zipp>=0.5 in /usr/local/lib/python3.6/dist-packages (from importlib-metadata>=1; python_version < \"3.8\"->keyring->orange3) (3.4.0)\n",
            "Collecting immutables>=0.9\n",
            "\u001b[?25l  Downloading https://files.pythonhosted.org/packages/99/e0/ea6fd4697120327d26773b5a84853f897a68e33d3f9376b00a8ff96e4f63/immutables-0.14-cp36-cp36m-manylinux1_x86_64.whl (98kB)\n",
            "\u001b[K     |████████████████████████████████| 102kB 9.7MB/s \n",
            "\u001b[?25hRequirement already satisfied: cffi>=1.12 in /usr/local/lib/python3.6/dist-packages (from cryptography>=2.0->SecretStorage>=3.2; sys_platform == \"linux\"->keyring->orange3) (1.14.4)\n",
            "Requirement already satisfied: pycparser in /usr/local/lib/python3.6/dist-packages (from cffi>=1.12->cryptography>=2.0->SecretStorage>=3.2; sys_platform == \"linux\"->keyring->orange3) (2.20)\n",
            "Building wheels for collected packages: serverfiles, contextvars\n",
            "  Building wheel for serverfiles (setup.py) ... \u001b[?25l\u001b[?25hdone\n",
            "  Created wheel for serverfiles: filename=serverfiles-0.3.0-cp36-none-any.whl size=6885 sha256=85cd844ac900b9bf3b32d28c74a54101380ec9543cc47246d969ca22a684362d\n",
            "  Stored in directory: /root/.cache/pip/wheels/60/e5/74/d6859d4e5fb6968bc38576bf2520fe20509600741c49605067\n",
            "  Building wheel for contextvars (setup.py) ... \u001b[?25l\u001b[?25hdone\n",
            "  Created wheel for contextvars: filename=contextvars-2.4-cp36-none-any.whl size=7667 sha256=915d60ed79f5109e2070fe4a2c9b07d14a39126563652e39e9942b015fc8c455\n",
            "  Stored in directory: /root/.cache/pip/wheels/a5/7d/68/1ebae2668bda2228686e3c1cf16f2c2384cea6e9334ad5f6de\n",
            "Successfully built serverfiles contextvars\n",
            "Installing collected packages: AnyQt, commonmark, dictdiffer, orange-canvas-core, PyQt5-sip, PyQt5, PyQtWebEngine, rfc3986, immutables, contextvars, sniffio, h11, httpcore, httpx, serverfiles, pyqtgraph, cryptography, jeepney, SecretStorage, keyring, xlsxwriter, keyrings.alt, orange-widget-base, openTSNE, baycomp, orange3, lockfile\n",
            "Successfully installed AnyQt-0.0.11 PyQt5-5.15.2 PyQt5-sip-12.8.1 PyQtWebEngine-5.15.2 SecretStorage-3.3.0 baycomp-1.0.2 commonmark-0.9.1 contextvars-2.4 cryptography-3.3.1 dictdiffer-0.8.1 h11-0.9.0 httpcore-0.10.2 httpx-0.14.3 immutables-0.14 jeepney-0.6.0 keyring-21.8.0 keyrings.alt-4.0.2 lockfile-0.12.2 openTSNE-0.5.1 orange-canvas-core-0.1.18 orange-widget-base-4.10.0 orange3-3.27.1 pyqtgraph-0.11.1 rfc3986-1.4.0 serverfiles-0.3.0 sniffio-1.2.0 xlsxwriter-1.3.7\n"
          ],
          "name": "stdout"
        }
      ]
    },
    {
      "cell_type": "code",
      "metadata": {
        "colab": {
          "base_uri": "https://localhost:8080/"
        },
        "id": "tzXfG-LMyD80",
        "outputId": "da1401ba-ba8c-49d8-c625-ec800ebd08ad"
      },
      "source": [
        "import Orange\n",
        "\n",
        "base = Orange.data.Table('risco_credito.csv')\n",
        "base.domain\n",
        "\n",
        "cn2_learner = Orange.classification.rules.CN2Learner()\n",
        "clf = cn2_learner(base)\n",
        "for rules in clf.rule_list:\n",
        "    print(rules)\n",
        "    \n",
        "lst_test = [['boa', 'alta', 'nenhuma', 'acima_35'],\n",
        "            ['ruim', 'alta', 'adequada', '0_15']]\n",
        "# história boa, dívida alta, garantias nenhuma, renda > 35\n",
        "# história ruim, dívida alta, garantias adequada, renda < 15\n",
        "predicted_label = clf(lst_test)\n",
        "for idx, label in enumerate(predicted_label):\n",
        "    print(f\"\\ntest {idx}: {base.domain.class_var.values[label]} {lst_test[idx]}\")\n",
        "\n",
        "    "
      ],
      "execution_count": 94,
      "outputs": [
        {
          "output_type": "stream",
          "text": [
            "/usr/local/lib/python3.6/dist-packages/psycopg2/__init__.py:144: UserWarning: The psycopg2 wheel package will be renamed from release 2.8; in order to keep installing from binary please use \"pip install psycopg2-binary\" instead. For details see: <http://initd.org/psycopg/docs/install.html#binary-install-from-pypi>.\n",
            "  \"\"\")\n"
          ],
          "name": "stderr"
        },
        {
          "output_type": "stream",
          "text": [
            "IF renda==0_15 THEN risco=alto \n",
            "IF historia==boa AND divida!=alta THEN risco=baixo \n",
            "IF historia==boa AND garantias!=nenhuma THEN risco=baixo \n",
            "IF historia==boa AND renda!=15_35 THEN risco=baixo \n",
            "IF historia==boa THEN risco=moderado \n",
            "IF divida==alta THEN risco=alto \n",
            "IF historia!=desconhecida THEN risco=moderado \n",
            "IF garantias==adequada THEN risco=baixo \n",
            "IF renda==15_35 THEN risco=moderado \n",
            "IF historia==desconhecida THEN risco=baixo \n",
            "IF TRUE THEN risco=alto \n",
            "\n",
            "test 0: baixo ['boa', 'alta', 'nenhuma', 'acima_35']\n",
            "\n",
            "test 1: alto ['ruim', 'alta', 'adequada', '0_15']\n"
          ],
          "name": "stdout"
        }
      ]
    },
    {
      "cell_type": "code",
      "metadata": {
        "colab": {
          "base_uri": "https://localhost:8080/"
        },
        "id": "gANrZbxH27g1",
        "outputId": "78b890cc-3b69-4cfa-9b72-39de9f2fd0e9"
      },
      "source": [
        "import Orange\n",
        "\n",
        "base = Orange.data.Table('credit_data.csv')\n",
        "base.domain\n",
        "\n",
        "# default: target=0 (not paid), 1 (paid)\n",
        "\n",
        "base_split = Orange.evaluation.testing.sample(base, n=0.25)\n",
        "base_train = base_split[1]\n",
        "base_test = base_split[0]\n",
        "print(f\"Train size: {len(base_train)}\")\n",
        "print(f\"Test size: {len(base_test)}\")\n",
        "\n",
        "cn2_learner = Orange.classification.rules.CN2Learner()\n",
        "clf = cn2_learner(base_train)\n",
        "\n",
        "for rules in clf.rule_list:\n",
        "    print(rules)\n",
        "\n",
        "predicted_label = Orange.evaluation.testing.TestOnTestData(\n",
        "    base_train, base_test, [clf])\n",
        "\n",
        "# TODO: check error for cn2_learner\n",
        "# print(Orange.evaluation.CA(predicted_label))"
      ],
      "execution_count": 95,
      "outputs": [
        {
          "output_type": "stream",
          "text": [
            "Train size: 1500\n",
            "Test size: 500\n",
            "IF age>=34.851817262359 THEN default=0 \n",
            "IF age>=34.7514377613552 THEN default=1 \n",
            "IF loan<=3052.5766906145695 AND income>=21448.8279935904 THEN default=0 \n",
            "IF income<=46801.274286117405 AND loan>=5416.3577980789005 THEN default=1 \n",
            "IF loan>=7453.26426764463 AND age>=20.6656169872731 THEN default=1 \n",
            "IF income>=58609.13148382679 AND age>=19.9765913961455 THEN default=0 \n",
            "IF loan<=2495.13299137587 AND income>=20145.9885970689 THEN default=0 \n",
            "IF income<=32197.6207010448 AND age>=18.055874488782102 THEN default=1 \n",
            "IF loan<=4285.38691174949 AND income>=33489.0398592688 THEN default=0 \n",
            "IF income>=65435.0353800692 THEN default=1 \n",
            "IF loan>=6342.56790924236 AND age>=19.487914884463 THEN default=1 \n",
            "IF loan>=9911.134962918291 THEN default=1 \n",
            "IF income>=40496.2558229454 AND income>=53612.1312342584 THEN default=0 \n",
            "IF loan>=5862.83302915672 THEN default=1 \n",
            "IF income>=40496.2558229454 THEN default=0 \n",
            "IF income>=33198.1282844208 THEN default=1 \n",
            "IF age>=33.804503521882 THEN default=1 \n",
            "IF income<=32306.8084008992 THEN default=0 \n",
            "IF income<=33093.9618567936 THEN default=0 \n",
            "IF TRUE THEN default=0 \n"
          ],
          "name": "stdout"
        }
      ]
    },
    {
      "cell_type": "markdown",
      "metadata": {
        "id": "wJC09UcPRSfE"
      },
      "source": [
        "### Majority learner\n",
        "\n",
        "Count: baseline classifier"
      ]
    },
    {
      "cell_type": "code",
      "metadata": {
        "colab": {
          "base_uri": "https://localhost:8080/"
        },
        "id": "S6e4XXgxEOyI",
        "outputId": "2bdc7791-24c8-4fc1-8f5c-9565c4c948df"
      },
      "source": [
        "clf = Orange.classification.MajorityLearner()  # count\n",
        "\n",
        "predicted_label = Orange.evaluation.testing.TestOnTestData(\n",
        "    base_train, base_test, [clf])\n",
        "\n",
        "# TODO: check error for cn2_learner\n",
        "print(Orange.evaluation.CA(predicted_label))"
      ],
      "execution_count": 96,
      "outputs": [
        {
          "output_type": "stream",
          "text": [
            "[0.874]\n"
          ],
          "name": "stdout"
        }
      ]
    },
    {
      "cell_type": "code",
      "metadata": {
        "colab": {
          "base_uri": "https://localhost:8080/"
        },
        "id": "3uWeggT3QmFP",
        "outputId": "a959dfb3-1a1b-44fe-fcb9-cf8e8345dc48"
      },
      "source": [
        "import numpy as np\n",
        "(unique, counts) = np.unique(base_test._Y, return_counts=True)\n",
        "frequencies = np.asarray((unique, counts)).T\n",
        "\n",
        "print(frequencies)"
      ],
      "execution_count": 97,
      "outputs": [
        {
          "output_type": "stream",
          "text": [
            "[[  0. 437.]\n",
            " [  1.  63.]]\n"
          ],
          "name": "stdout"
        }
      ]
    },
    {
      "cell_type": "code",
      "metadata": {
        "colab": {
          "base_uri": "https://localhost:8080/"
        },
        "id": "n1Gtd-3CO7KT",
        "outputId": "a164bbda-e7cf-4e83-9e60-525127030795"
      },
      "source": [
        "counts"
      ],
      "execution_count": 98,
      "outputs": [
        {
          "output_type": "execute_result",
          "data": {
            "text/plain": [
              "array([437,  63])"
            ]
          },
          "metadata": {
            "tags": []
          },
          "execution_count": 98
        }
      ]
    },
    {
      "cell_type": "code",
      "metadata": {
        "colab": {
          "base_uri": "https://localhost:8080/"
        },
        "id": "-zjqyg20Q36w",
        "outputId": "6ba12d9a-1bd7-4d44-da92-91eea2074436"
      },
      "source": [
        "counts/counts.sum()"
      ],
      "execution_count": 99,
      "outputs": [
        {
          "output_type": "execute_result",
          "data": {
            "text/plain": [
              "array([0.874, 0.126])"
            ]
          },
          "metadata": {
            "tags": []
          },
          "execution_count": 99
        }
      ]
    },
    {
      "cell_type": "markdown",
      "metadata": {
        "id": "vKI4EhqlzRQw"
      },
      "source": [
        "## Instância K-Nearest Neighbors (kNN)"
      ]
    },
    {
      "cell_type": "markdown",
      "metadata": {
        "id": "d0HLq6CezVvK"
      },
      "source": [
        "* maioria dos métodos de aprendizagem constroem um modelo após o treinamento e descarta após criar o modelo\r\n",
        "* sem modelo (lazy)\r\n",
        "* calcula distância, armazena dados\r\n",
        "* previsão somente quando nova instância precisa ser classificada\r\n",
        "\r\n",
        "* simples e poderoso\r\n",
        "* relação complexa entre variáveis\r\n",
        "* k pequeno sensível a ruídos e outliers\r\n",
        "* k alto: overfitting\r\n",
        "* k: 3-5\r\n",
        "* lento para prever\r\n",
        "* distâncias (Euclideana, Pearson, Índice de Tanimoto, City Block)\r\n",
        "\r\n",
        "\r\n",
        "1. seleciona os k *atributos* disponíveis e de maior valor conforme a quantidade de atributos semelhantes. Classifica pela maioria (F)\r\n",
        "\r\n",
        "2. *Constrói* um modelo e *descarta* dados pós-treinamento (F)\r\n",
        "\r\n",
        "3. Escalas diferentes, normalização e padronização\r\n",
        "\r\n",
        "4. Normalização: entre 0 e 1. Padronização: considera média e desvio padrão\r\n",
        "\r\n",
        "5. Geral: distância Euclidiana. Outras: *não* podem (oeficiente de Pearson) (F)"
      ]
    },
    {
      "cell_type": "markdown",
      "metadata": {
        "id": "i1hGn5td0GlQ"
      },
      "source": [
        "Distância Euclideana\r\n",
        "\r\n",
        "$$ DE (x,y) = \\sqrt{\\sum_{i}^{p}(x_i-y_i)^2} $$"
      ]
    },
    {
      "cell_type": "code",
      "metadata": {
        "colab": {
          "base_uri": "https://localhost:8080/"
        },
        "id": "VEOzl2WG0V4H",
        "outputId": "2a38ea1f-ec68-4d54-c0ea-ec6453a02de5"
      },
      "source": [
        "import numpy as np\r\n",
        "\r\n",
        "x = np.array([5,7,9])\r\n",
        "y = np.array([5,5,5])\r\n",
        "\r\n",
        "x-y\r\n",
        "(x-y)**2\r\n",
        "sum((x-y)**2)\r\n",
        "np.sqrt(sum((x-y)**2))\r\n",
        "np.linalg.norm(x-y)"
      ],
      "execution_count": 100,
      "outputs": [
        {
          "output_type": "execute_result",
          "data": {
            "text/plain": [
              "4.47213595499958"
            ]
          },
          "metadata": {
            "tags": []
          },
          "execution_count": 100
        }
      ]
    },
    {
      "cell_type": "markdown",
      "metadata": {
        "id": "wRtxGA6c1fdk"
      },
      "source": [
        "Sistema de recomendação"
      ]
    },
    {
      "cell_type": "code",
      "metadata": {
        "colab": {
          "base_uri": "https://localhost:8080/",
          "height": 0
        },
        "id": "qacQsm8l0qlH",
        "outputId": "467be2cb-2ba1-48eb-9c6b-fc600773d9a8"
      },
      "source": [
        "import pandas as pd\r\n",
        "df = pd.DataFrame(np.array(\r\n",
        "    [\r\n",
        "     [\"Ana\",\"Star Trek\", 3],\r\n",
        "     [\"Ana\",\"Exterminador do Futuro\", 3.5],\r\n",
        "     [\"Cláudia\",\"Star Trek\", 3],\r\n",
        "     [\"Cláudia\",\"Exterminador do Futuro\", 4],\r\n",
        "     [\"Marcos\",\"Star Trek\", 1.5],\r\n",
        "     [\"Marcos\",\"Exterminador do Futuro\", 5]\r\n",
        "    ]),\r\n",
        "    columns=['Usuário', 'Filme', 'Nota'])\r\n",
        "df[\"Nota\"] = df[\"Nota\"].astype('float64')\r\n",
        "df_pivot = df.pivot(index=\"Usuário\",columns=\"Filme\",values=\"Nota\")\r\n",
        "\r\n",
        "import seaborn as sns\r\n",
        "\r\n",
        "# df_pivot = df_pivot.reset_index()\r\n",
        "sns.scatterplot(\r\n",
        "    data=df_pivot.reset_index(),\r\n",
        "    x='Star Trek',\r\n",
        "    y='Exterminador do Futuro',\r\n",
        "    hue=\"Usuário\"\r\n",
        "    );"
      ],
      "execution_count": 101,
      "outputs": [
        {
          "output_type": "display_data",
          "data": {
            "image/png": "[encoded data removed]",
            "text/plain": [
              "<Figure size 432x288 with 1 Axes>"
            ]
          },
          "metadata": {
            "tags": [],
            "needs_background": "light"
          }
        }
      ]
    },
    {
      "cell_type": "code",
      "metadata": {
        "colab": {
          "base_uri": "https://localhost:8080/",
          "height": 0
        },
        "id": "5jv9v1Fb6sh3",
        "outputId": "3aa5ee56-8885-4c88-ed5a-094989d33726"
      },
      "source": [
        "df_pivot"
      ],
      "execution_count": 102,
      "outputs": [
        {
          "output_type": "execute_result",
          "data": {
            "text/html": [
              "<div>\n",
              "<style scoped>\n",
              "    .dataframe tbody tr th:only-of-type {\n",
              "        vertical-align: middle;\n",
              "    }\n",
              "\n",
              "    .dataframe tbody tr th {\n",
              "        vertical-align: top;\n",
              "    }\n",
              "\n",
              "    .dataframe thead th {\n",
              "        text-align: right;\n",
              "    }\n",
              "</style>\n",
              "<table border=\"1\" class=\"dataframe\">\n",
              "  <thead>\n",
              "    <tr style=\"text-align: right;\">\n",
              "      <th>Filme</th>\n",
              "      <th>Exterminador do Futuro</th>\n",
              "      <th>Star Trek</th>\n",
              "    </tr>\n",
              "    <tr>\n",
              "      <th>Usuário</th>\n",
              "      <th></th>\n",
              "      <th></th>\n",
              "    </tr>\n",
              "  </thead>\n",
              "  <tbody>\n",
              "    <tr>\n",
              "      <th>Ana</th>\n",
              "      <td>3.5</td>\n",
              "      <td>3.0</td>\n",
              "    </tr>\n",
              "    <tr>\n",
              "      <th>Cláudia</th>\n",
              "      <td>4.0</td>\n",
              "      <td>3.0</td>\n",
              "    </tr>\n",
              "    <tr>\n",
              "      <th>Marcos</th>\n",
              "      <td>5.0</td>\n",
              "      <td>1.5</td>\n",
              "    </tr>\n",
              "  </tbody>\n",
              "</table>\n",
              "</div>"
            ],
            "text/plain": [
              "Filme    Exterminador do Futuro  Star Trek\n",
              "Usuário                                   \n",
              "Ana                         3.5        3.0\n",
              "Cláudia                     4.0        3.0\n",
              "Marcos                      5.0        1.5"
            ]
          },
          "metadata": {
            "tags": []
          },
          "execution_count": 102
        }
      ]
    },
    {
      "cell_type": "code",
      "metadata": {
        "colab": {
          "base_uri": "https://localhost:8080/"
        },
        "id": "cQK0Ktpk7-H4",
        "outputId": "d58f9d98-fb57-4d7e-945e-5bcd424f57a6"
      },
      "source": [
        "# Ana - Marcos\r\n",
        "def compute_distance(x, y):\r\n",
        "    return np.linalg.norm(df_pivot.loc[x].values-df_pivot.loc[y].values)\r\n",
        "\r\n",
        "compute_distance(x=\"Ana\", y=\"Marcos\")"
      ],
      "execution_count": 103,
      "outputs": [
        {
          "output_type": "execute_result",
          "data": {
            "text/plain": [
              "2.1213203435596424"
            ]
          },
          "metadata": {
            "tags": []
          },
          "execution_count": 103
        }
      ]
    },
    {
      "cell_type": "code",
      "metadata": {
        "colab": {
          "base_uri": "https://localhost:8080/"
        },
        "id": "fmB0m92s8hku",
        "outputId": "d8ca987b-7ca8-49b8-fb02-6f4bcd206598"
      },
      "source": [
        "compute_distance(x=\"Ana\", y=\"Cláudia\")"
      ],
      "execution_count": 104,
      "outputs": [
        {
          "output_type": "execute_result",
          "data": {
            "text/plain": [
              "0.5"
            ]
          },
          "metadata": {
            "tags": []
          },
          "execution_count": 104
        }
      ]
    },
    {
      "cell_type": "code",
      "metadata": {
        "colab": {
          "base_uri": "https://localhost:8080/"
        },
        "id": "74rYR4PV9ETw",
        "outputId": "871f560d-1091-452c-e903-2a89e5facf5f"
      },
      "source": [
        "compute_distance(x=\"Cláudia\", y=\"Marcos\")"
      ],
      "execution_count": 105,
      "outputs": [
        {
          "output_type": "execute_result",
          "data": {
            "text/plain": [
              "1.8027756377319946"
            ]
          },
          "metadata": {
            "tags": []
          },
          "execution_count": 105
        }
      ]
    },
    {
      "cell_type": "code",
      "metadata": {
        "id": "McBFbmPO9OHP",
        "colab": {
          "base_uri": "https://localhost:8080/",
          "height": 0
        },
        "outputId": "0afabfa1-de9e-4d40-a271-392f162f48fb"
      },
      "source": [
        "df = pd.DataFrame(np.array(\r\n",
        "    [\r\n",
        "     [\"Invocação do mal\", 0.6, 0.0, 0.3, 0.0, \"Terror\"],\r\n",
        "     [\"Floresta maldita\", 0.9, 0.0, 0.5, 0.1, \"Terror\"],\r\n",
        "     [\"Meu passado me condena\", 0.1, 0.2, 0.1, 0.9, \"Comédia\"],\r\n",
        "     [\"Tirando o atraso\", 0.0, 0.2, 0.2, 0.8, \"Comédia\"]]),\r\n",
        "    columns=['Filme', 'Violência','Romance','Ação','Comédia','Classe'])\r\n",
        "# df = df.astype(np.dtype(\"float\"),errors='ignore')\r\n",
        "lst_col_num = [\"Violência\",\"Romance\",\"Ação\",\"Comédia\"]\r\n",
        "for col in lst_col_num:\r\n",
        "    df[col] = df[col].astype('float64')\r\n",
        "# df = df.convert_dtypes()\r\n",
        "\r\n",
        "test = {\"Filme\": \"A hora do pesadelo\",\r\n",
        "        'Violência': 0.8,\r\n",
        "        'Romance': 0.1,\r\n",
        "        'Ação': 0.5,\r\n",
        "        'Comédia': 0.0,\r\n",
        "        'Classe': \"CLASSIFICAR\"}\r\n",
        "# df = df.append(test,ignore_index=True)\r\n",
        "# X = df.select_dtypes('number').values\r\n",
        "y = np.array([test[k] for k in lst_col_num])\r\n",
        "df[\"Distance\"] = np.linalg.norm(df.select_dtypes('number')-y,axis=1)\r\n",
        "df"
      ],
      "execution_count": 106,
      "outputs": [
        {
          "output_type": "execute_result",
          "data": {
            "text/html": [
              "<div>\n",
              "<style scoped>\n",
              "    .dataframe tbody tr th:only-of-type {\n",
              "        vertical-align: middle;\n",
              "    }\n",
              "\n",
              "    .dataframe tbody tr th {\n",
              "        vertical-align: top;\n",
              "    }\n",
              "\n",
              "    .dataframe thead th {\n",
              "        text-align: right;\n",
              "    }\n",
              "</style>\n",
              "<table border=\"1\" class=\"dataframe\">\n",
              "  <thead>\n",
              "    <tr style=\"text-align: right;\">\n",
              "      <th></th>\n",
              "      <th>Filme</th>\n",
              "      <th>Violência</th>\n",
              "      <th>Romance</th>\n",
              "      <th>Ação</th>\n",
              "      <th>Comédia</th>\n",
              "      <th>Classe</th>\n",
              "      <th>Distance</th>\n",
              "    </tr>\n",
              "  </thead>\n",
              "  <tbody>\n",
              "    <tr>\n",
              "      <th>0</th>\n",
              "      <td>Invocação do mal</td>\n",
              "      <td>0.6</td>\n",
              "      <td>0.0</td>\n",
              "      <td>0.3</td>\n",
              "      <td>0.0</td>\n",
              "      <td>Terror</td>\n",
              "      <td>0.300000</td>\n",
              "    </tr>\n",
              "    <tr>\n",
              "      <th>1</th>\n",
              "      <td>Floresta maldita</td>\n",
              "      <td>0.9</td>\n",
              "      <td>0.0</td>\n",
              "      <td>0.5</td>\n",
              "      <td>0.1</td>\n",
              "      <td>Terror</td>\n",
              "      <td>0.173205</td>\n",
              "    </tr>\n",
              "    <tr>\n",
              "      <th>2</th>\n",
              "      <td>Meu passado me condena</td>\n",
              "      <td>0.1</td>\n",
              "      <td>0.2</td>\n",
              "      <td>0.1</td>\n",
              "      <td>0.9</td>\n",
              "      <td>Comédia</td>\n",
              "      <td>1.212436</td>\n",
              "    </tr>\n",
              "    <tr>\n",
              "      <th>3</th>\n",
              "      <td>Tirando o atraso</td>\n",
              "      <td>0.0</td>\n",
              "      <td>0.2</td>\n",
              "      <td>0.2</td>\n",
              "      <td>0.8</td>\n",
              "      <td>Comédia</td>\n",
              "      <td>1.174734</td>\n",
              "    </tr>\n",
              "  </tbody>\n",
              "</table>\n",
              "</div>"
            ],
            "text/plain": [
              "                    Filme  Violência  Romance  Ação  Comédia   Classe  Distance\n",
              "0        Invocação do mal        0.6      0.0   0.3      0.0   Terror  0.300000\n",
              "1        Floresta maldita        0.9      0.0   0.5      0.1   Terror  0.173205\n",
              "2  Meu passado me condena        0.1      0.2   0.1      0.9  Comédia  1.212436\n",
              "3        Tirando o atraso        0.0      0.2   0.2      0.8  Comédia  1.174734"
            ]
          },
          "metadata": {
            "tags": []
          },
          "execution_count": 106
        }
      ]
    },
    {
      "cell_type": "code",
      "metadata": {
        "colab": {
          "base_uri": "https://localhost:8080/"
        },
        "id": "pempH-IzB4pD",
        "outputId": "d866016d-583d-4c92-b3b8-63a57a0adbbf"
      },
      "source": [
        "df.sort_values(by='Distance')['Classe']"
      ],
      "execution_count": 107,
      "outputs": [
        {
          "output_type": "execute_result",
          "data": {
            "text/plain": [
              "1     Terror\n",
              "0     Terror\n",
              "3    Comédia\n",
              "2    Comédia\n",
              "Name: Classe, dtype: object"
            ]
          },
          "metadata": {
            "tags": []
          },
          "execution_count": 107
        }
      ]
    },
    {
      "cell_type": "markdown",
      "metadata": {
        "id": "nvi3pQhbG2d6"
      },
      "source": [
        "Risco crédito"
      ]
    },
    {
      "cell_type": "code",
      "metadata": {
        "colab": {
          "base_uri": "https://localhost:8080/",
          "height": 0
        },
        "id": "TRcwwgFtG4Gz",
        "outputId": "bf84611a-2bf9-43c0-ac6a-db0b334c78f7"
      },
      "source": [
        "lst_risco_credito = [\r\n",
        "        {\"historia\":\"ruim\",\"divida\":\"alta\",\"garantias\":\"nenhuma\",\"renda\":\"0_15\",\"risco\":\"alto\"},\r\n",
        "        {\"historia\":\"desconhecida\",\"divida\":\"alta\",\"garantias\":\"nenhuma\",\"renda\":\"15_35\",\"risco\":\"alto\"},\r\n",
        "        {\"historia\":\"desconhecida\",\"divida\":\"baixa\",\"garantias\":\"nenhuma\",\"renda\":\"15_35\",\"risco\":\"moderado\"},\r\n",
        "        {\"historia\":\"desconhecida\",\"divida\":\"baixa\",\"garantias\":\"nenhuma\",\"renda\":\"acima_35\",\"risco\":\"alto\"},\r\n",
        "        {\"historia\":\"desconhecida\",\"divida\":\"baixa\",\"garantias\":\"nenhuma\",\"renda\":\"acima_35\",\"risco\":\"baixo\"},\r\n",
        "        {\"historia\":\"desconhecida\",\"divida\":\"baixa\",\"garantias\":\"adequada\",\"renda\":\"acima_35\",\"risco\":\"baixo\"},\r\n",
        "        {\"historia\":\"ruim\",\"divida\":\"baixa\",\"garantias\":\"nenhuma\",\"renda\":\"0_15\",\"risco\":\"alto\"},\r\n",
        "        {\"historia\":\"ruim\",\"divida\":\"baixa\",\"garantias\":\"adequada\",\"renda\":\"acima_35\",\"risco\":\"moderado\"},\r\n",
        "        {\"historia\":\"boa\",\"divida\":\"baixa\",\"garantias\":\"nenhuma\",\"renda\":\"acima_35\",\"risco\":\"baixo\"},\r\n",
        "        {\"historia\":\"boa\",\"divida\":\"alta\",\"garantias\":\"adequada\",\"renda\":\"acima_35\",\"risco\":\"baixo\"},\r\n",
        "        {\"historia\":\"boa\",\"divida\":\"alta\",\"garantias\":\"nenhuma\",\"renda\":\"0_15\",\"risco\":\"alto\"},\r\n",
        "        {\"historia\":\"boa\",\"divida\":\"alta\",\"garantias\":\"nenhuma\",\"renda\":\"15_35\",\"risco\":\"moderado\"},\r\n",
        "        {\"historia\":\"boa\",\"divida\":\"alta\",\"garantias\":\"nenhuma\",\"renda\":\"acima_35\",\"risco\":\"baixo\"},\r\n",
        "        {\"historia\":\"ruim\",\"divida\":\"alta\",\"garantias\":\"nenhuma\",\"renda\":\"15_35\",\"risco\":\"alto\"}\r\n",
        "]\r\n",
        "df = pd.DataFrame(lst_risco_credito)\r\n",
        "\r\n",
        "X = df.iloc[:,:-1].values\r\n",
        "y = df.iloc[:,-1].values              \r\n",
        "\r\n",
        "lst_features = list(df.iloc[:,:-1].columns)\r\n",
        "\r\n",
        "df.head()"
      ],
      "execution_count": 108,
      "outputs": [
        {
          "output_type": "execute_result",
          "data": {
            "text/html": [
              "<div>\n",
              "<style scoped>\n",
              "    .dataframe tbody tr th:only-of-type {\n",
              "        vertical-align: middle;\n",
              "    }\n",
              "\n",
              "    .dataframe tbody tr th {\n",
              "        vertical-align: top;\n",
              "    }\n",
              "\n",
              "    .dataframe thead th {\n",
              "        text-align: right;\n",
              "    }\n",
              "</style>\n",
              "<table border=\"1\" class=\"dataframe\">\n",
              "  <thead>\n",
              "    <tr style=\"text-align: right;\">\n",
              "      <th></th>\n",
              "      <th>historia</th>\n",
              "      <th>divida</th>\n",
              "      <th>garantias</th>\n",
              "      <th>renda</th>\n",
              "      <th>risco</th>\n",
              "    </tr>\n",
              "  </thead>\n",
              "  <tbody>\n",
              "    <tr>\n",
              "      <th>0</th>\n",
              "      <td>ruim</td>\n",
              "      <td>alta</td>\n",
              "      <td>nenhuma</td>\n",
              "      <td>0_15</td>\n",
              "      <td>alto</td>\n",
              "    </tr>\n",
              "    <tr>\n",
              "      <th>1</th>\n",
              "      <td>desconhecida</td>\n",
              "      <td>alta</td>\n",
              "      <td>nenhuma</td>\n",
              "      <td>15_35</td>\n",
              "      <td>alto</td>\n",
              "    </tr>\n",
              "    <tr>\n",
              "      <th>2</th>\n",
              "      <td>desconhecida</td>\n",
              "      <td>baixa</td>\n",
              "      <td>nenhuma</td>\n",
              "      <td>15_35</td>\n",
              "      <td>moderado</td>\n",
              "    </tr>\n",
              "    <tr>\n",
              "      <th>3</th>\n",
              "      <td>desconhecida</td>\n",
              "      <td>baixa</td>\n",
              "      <td>nenhuma</td>\n",
              "      <td>acima_35</td>\n",
              "      <td>alto</td>\n",
              "    </tr>\n",
              "    <tr>\n",
              "      <th>4</th>\n",
              "      <td>desconhecida</td>\n",
              "      <td>baixa</td>\n",
              "      <td>nenhuma</td>\n",
              "      <td>acima_35</td>\n",
              "      <td>baixo</td>\n",
              "    </tr>\n",
              "  </tbody>\n",
              "</table>\n",
              "</div>"
            ],
            "text/plain": [
              "       historia divida garantias     renda     risco\n",
              "0          ruim   alta   nenhuma      0_15      alto\n",
              "1  desconhecida   alta   nenhuma     15_35      alto\n",
              "2  desconhecida  baixa   nenhuma     15_35  moderado\n",
              "3  desconhecida  baixa   nenhuma  acima_35      alto\n",
              "4  desconhecida  baixa   nenhuma  acima_35     baixo"
            ]
          },
          "metadata": {
            "tags": []
          },
          "execution_count": 108
        }
      ]
    },
    {
      "cell_type": "code",
      "metadata": {
        "colab": {
          "base_uri": "https://localhost:8080/"
        },
        "id": "_zC4OLeRKitr",
        "outputId": "64153848-5f6c-4199-f167-e84ed11dca22"
      },
      "source": [
        " import json\r\n",
        "\r\n",
        "# utils\r\n",
        "def pp_json(json_thing, sort=True, indents=4):\r\n",
        "    if type(json_thing) is str:\r\n",
        "        print(json.dumps(json.loads(json_thing)\r\n",
        "                , sort_keys=sort\r\n",
        "                , indent=indents))\r\n",
        "    else:\r\n",
        "        print(json.dumps(json_thing\r\n",
        "                         , sort_keys=sort\r\n",
        "                         , indent=indents))\r\n",
        "    return None\r\n",
        "\r\n",
        "def format_float_dct(dct):\r\n",
        "    return {k:round(v,2) if isinstance(v,float) else v for k,v in dct.items()}\r\n",
        "\r\n",
        "def dct_from2lists(lst_keys, lst_values):\r\n",
        "    return dict(zip(lst_keys, lst_values))\r\n",
        "\r\n",
        "def label_encoder(df,X):\r\n",
        "    from sklearn.preprocessing import LabelEncoder\r\n",
        "    labelencoder = LabelEncoder()\r\n",
        "    dct_label_encoder = {}\r\n",
        "    for idx in range(len(df.columns)-1):\r\n",
        "        X[:,idx] = labelencoder.fit_transform(X[:,idx])\r\n",
        "        dct_label = {}\r\n",
        "        for jj, label in enumerate(labelencoder.classes_):\r\n",
        "            dct_label[label] =  jj\r\n",
        "        dct_label_encoder[df.columns[idx]] = dct_label\r\n",
        "    print(\"Label encoder dict\")\r\n",
        "    pp_json(dct_label_encoder)\r\n",
        "\r\n",
        "    return dct_label_encoder\r\n",
        "\r\n",
        "def encoded_entry(dct_label_encoder, entry_raw):\r\n",
        "    return [dct_label_encoder[k][v] for k,v in entry_raw.items()]\r\n",
        "\r\n",
        "dct_label_encoder = label_encoder(df,X)\r\n",
        "\r\n",
        "# one hot\r\n",
        "# pd.get_dummies(df)"
      ],
      "execution_count": 109,
      "outputs": [
        {
          "output_type": "stream",
          "text": [
            "Label encoder dict\n",
            "{\n",
            "    \"divida\": {\n",
            "        \"alta\": 0,\n",
            "        \"baixa\": 1\n",
            "    },\n",
            "    \"garantias\": {\n",
            "        \"adequada\": 0,\n",
            "        \"nenhuma\": 1\n",
            "    },\n",
            "    \"historia\": {\n",
            "        \"boa\": 0,\n",
            "        \"desconhecida\": 1,\n",
            "        \"ruim\": 2\n",
            "    },\n",
            "    \"renda\": {\n",
            "        \"0_15\": 0,\n",
            "        \"15_35\": 1,\n",
            "        \"acima_35\": 2\n",
            "    }\n",
            "}\n"
          ],
          "name": "stdout"
        }
      ]
    },
    {
      "cell_type": "code",
      "metadata": {
        "id": "cb5eP4rPLz0Q",
        "colab": {
          "base_uri": "https://localhost:8080/"
        },
        "outputId": "05c8119b-8aa9-46ca-de04-673278795fb4"
      },
      "source": [
        "dct_label_encoder"
      ],
      "execution_count": 110,
      "outputs": [
        {
          "output_type": "execute_result",
          "data": {
            "text/plain": [
              "{'divida': {'alta': 0, 'baixa': 1},\n",
              " 'garantias': {'adequada': 0, 'nenhuma': 1},\n",
              " 'historia': {'boa': 0, 'desconhecida': 1, 'ruim': 2},\n",
              " 'renda': {'0_15': 0, '15_35': 1, 'acima_35': 2}}"
            ]
          },
          "metadata": {
            "tags": []
          },
          "execution_count": 110
        }
      ]
    },
    {
      "cell_type": "code",
      "metadata": {
        "id": "2N_vqSLaKqKv"
      },
      "source": [
        "def print_prediction(test,clf):\r\n",
        "    print(\"\\nGiven\")\r\n",
        "    pp_json(test)\r\n",
        "    test_encoded = encoded_entry(dct_label_encoder, entry_raw=test)\r\n",
        "\r\n",
        "\r\n",
        "test0_raw = {\r\n",
        "    \"historia\": \"boa\",\r\n",
        "    \"divida\": \"alta\",\r\n",
        "    \"garantias\": \"nenhuma\",\r\n",
        "    \"renda\": \"acima_35\"\r\n",
        "}\r\n",
        "# test0 = [0, 0, 1, 2]\r\n",
        "test1_raw = {\r\n",
        "    \"historia\": \"ruim\",\r\n",
        "    \"divida\": \"alta\",\r\n",
        "    \"garantias\": \"adequada\",\r\n",
        "    \"renda\": \"0_15\"\r\n",
        "}\r\n",
        "# test1 = [2, 0, 0, 0]\r\n",
        "\r\n",
        "y = encoded_entry(dct_label_encoder, test0_raw)\r\n",
        "\r\n",
        "df[\"Distance\"] = np.linalg.norm(\r\n",
        "    (\r\n",
        "        (df.iloc[:,:-1].astype(\"float\")-y)!=0)*1.0,\r\n",
        "        axis=1)\r\n"
      ],
      "execution_count": 111,
      "outputs": []
    },
    {
      "cell_type": "code",
      "metadata": {
        "id": "SSeP_E2rNYIL",
        "colab": {
          "base_uri": "https://localhost:8080/",
          "height": 0
        },
        "outputId": "10c7c111-643b-4213-e234-4bfe0bc3ceb4"
      },
      "source": [
        "df"
      ],
      "execution_count": 112,
      "outputs": [
        {
          "output_type": "execute_result",
          "data": {
            "text/html": [
              "<div>\n",
              "<style scoped>\n",
              "    .dataframe tbody tr th:only-of-type {\n",
              "        vertical-align: middle;\n",
              "    }\n",
              "\n",
              "    .dataframe tbody tr th {\n",
              "        vertical-align: top;\n",
              "    }\n",
              "\n",
              "    .dataframe thead th {\n",
              "        text-align: right;\n",
              "    }\n",
              "</style>\n",
              "<table border=\"1\" class=\"dataframe\">\n",
              "  <thead>\n",
              "    <tr style=\"text-align: right;\">\n",
              "      <th></th>\n",
              "      <th>historia</th>\n",
              "      <th>divida</th>\n",
              "      <th>garantias</th>\n",
              "      <th>renda</th>\n",
              "      <th>risco</th>\n",
              "      <th>Distance</th>\n",
              "    </tr>\n",
              "  </thead>\n",
              "  <tbody>\n",
              "    <tr>\n",
              "      <th>0</th>\n",
              "      <td>2</td>\n",
              "      <td>0</td>\n",
              "      <td>1</td>\n",
              "      <td>0</td>\n",
              "      <td>alto</td>\n",
              "      <td>1.414214</td>\n",
              "    </tr>\n",
              "    <tr>\n",
              "      <th>1</th>\n",
              "      <td>1</td>\n",
              "      <td>0</td>\n",
              "      <td>1</td>\n",
              "      <td>1</td>\n",
              "      <td>alto</td>\n",
              "      <td>1.414214</td>\n",
              "    </tr>\n",
              "    <tr>\n",
              "      <th>2</th>\n",
              "      <td>1</td>\n",
              "      <td>1</td>\n",
              "      <td>1</td>\n",
              "      <td>1</td>\n",
              "      <td>moderado</td>\n",
              "      <td>1.732051</td>\n",
              "    </tr>\n",
              "    <tr>\n",
              "      <th>3</th>\n",
              "      <td>1</td>\n",
              "      <td>1</td>\n",
              "      <td>1</td>\n",
              "      <td>2</td>\n",
              "      <td>alto</td>\n",
              "      <td>1.414214</td>\n",
              "    </tr>\n",
              "    <tr>\n",
              "      <th>4</th>\n",
              "      <td>1</td>\n",
              "      <td>1</td>\n",
              "      <td>1</td>\n",
              "      <td>2</td>\n",
              "      <td>baixo</td>\n",
              "      <td>1.414214</td>\n",
              "    </tr>\n",
              "    <tr>\n",
              "      <th>5</th>\n",
              "      <td>1</td>\n",
              "      <td>1</td>\n",
              "      <td>0</td>\n",
              "      <td>2</td>\n",
              "      <td>baixo</td>\n",
              "      <td>1.732051</td>\n",
              "    </tr>\n",
              "    <tr>\n",
              "      <th>6</th>\n",
              "      <td>2</td>\n",
              "      <td>1</td>\n",
              "      <td>1</td>\n",
              "      <td>0</td>\n",
              "      <td>alto</td>\n",
              "      <td>1.732051</td>\n",
              "    </tr>\n",
              "    <tr>\n",
              "      <th>7</th>\n",
              "      <td>2</td>\n",
              "      <td>1</td>\n",
              "      <td>0</td>\n",
              "      <td>2</td>\n",
              "      <td>moderado</td>\n",
              "      <td>1.732051</td>\n",
              "    </tr>\n",
              "    <tr>\n",
              "      <th>8</th>\n",
              "      <td>0</td>\n",
              "      <td>1</td>\n",
              "      <td>1</td>\n",
              "      <td>2</td>\n",
              "      <td>baixo</td>\n",
              "      <td>1.000000</td>\n",
              "    </tr>\n",
              "    <tr>\n",
              "      <th>9</th>\n",
              "      <td>0</td>\n",
              "      <td>0</td>\n",
              "      <td>0</td>\n",
              "      <td>2</td>\n",
              "      <td>baixo</td>\n",
              "      <td>1.000000</td>\n",
              "    </tr>\n",
              "    <tr>\n",
              "      <th>10</th>\n",
              "      <td>0</td>\n",
              "      <td>0</td>\n",
              "      <td>1</td>\n",
              "      <td>0</td>\n",
              "      <td>alto</td>\n",
              "      <td>1.000000</td>\n",
              "    </tr>\n",
              "    <tr>\n",
              "      <th>11</th>\n",
              "      <td>0</td>\n",
              "      <td>0</td>\n",
              "      <td>1</td>\n",
              "      <td>1</td>\n",
              "      <td>moderado</td>\n",
              "      <td>1.000000</td>\n",
              "    </tr>\n",
              "    <tr>\n",
              "      <th>12</th>\n",
              "      <td>0</td>\n",
              "      <td>0</td>\n",
              "      <td>1</td>\n",
              "      <td>2</td>\n",
              "      <td>baixo</td>\n",
              "      <td>0.000000</td>\n",
              "    </tr>\n",
              "    <tr>\n",
              "      <th>13</th>\n",
              "      <td>2</td>\n",
              "      <td>0</td>\n",
              "      <td>1</td>\n",
              "      <td>1</td>\n",
              "      <td>alto</td>\n",
              "      <td>1.414214</td>\n",
              "    </tr>\n",
              "  </tbody>\n",
              "</table>\n",
              "</div>"
            ],
            "text/plain": [
              "   historia divida garantias renda     risco  Distance\n",
              "0         2      0         1     0      alto  1.414214\n",
              "1         1      0         1     1      alto  1.414214\n",
              "2         1      1         1     1  moderado  1.732051\n",
              "3         1      1         1     2      alto  1.414214\n",
              "4         1      1         1     2     baixo  1.414214\n",
              "5         1      1         0     2     baixo  1.732051\n",
              "6         2      1         1     0      alto  1.732051\n",
              "7         2      1         0     2  moderado  1.732051\n",
              "8         0      1         1     2     baixo  1.000000\n",
              "9         0      0         0     2     baixo  1.000000\n",
              "10        0      0         1     0      alto  1.000000\n",
              "11        0      0         1     1  moderado  1.000000\n",
              "12        0      0         1     2     baixo  0.000000\n",
              "13        2      0         1     1      alto  1.414214"
            ]
          },
          "metadata": {
            "tags": []
          },
          "execution_count": 112
        }
      ]
    },
    {
      "cell_type": "code",
      "metadata": {
        "id": "IzkVCgdyNtEC",
        "colab": {
          "base_uri": "https://localhost:8080/",
          "height": 0
        },
        "outputId": "ac1eef28-13cc-4244-f20c-e512a580e3d7"
      },
      "source": [
        "df = pd.DataFrame([\r\n",
        "                   {\"Idade\": 60, \"Renda anual\": 30000},\r\n",
        "                   {\"Idade\": 35, \"Renda anual\": 45000},\r\n",
        "                   {\"Idade\": 20, \"Renda anual\": 29500}])\r\n",
        "df.head()"
      ],
      "execution_count": 113,
      "outputs": [
        {
          "output_type": "execute_result",
          "data": {
            "text/html": [
              "<div>\n",
              "<style scoped>\n",
              "    .dataframe tbody tr th:only-of-type {\n",
              "        vertical-align: middle;\n",
              "    }\n",
              "\n",
              "    .dataframe tbody tr th {\n",
              "        vertical-align: top;\n",
              "    }\n",
              "\n",
              "    .dataframe thead th {\n",
              "        text-align: right;\n",
              "    }\n",
              "</style>\n",
              "<table border=\"1\" class=\"dataframe\">\n",
              "  <thead>\n",
              "    <tr style=\"text-align: right;\">\n",
              "      <th></th>\n",
              "      <th>Idade</th>\n",
              "      <th>Renda anual</th>\n",
              "    </tr>\n",
              "  </thead>\n",
              "  <tbody>\n",
              "    <tr>\n",
              "      <th>0</th>\n",
              "      <td>60</td>\n",
              "      <td>30000</td>\n",
              "    </tr>\n",
              "    <tr>\n",
              "      <th>1</th>\n",
              "      <td>35</td>\n",
              "      <td>45000</td>\n",
              "    </tr>\n",
              "    <tr>\n",
              "      <th>2</th>\n",
              "      <td>20</td>\n",
              "      <td>29500</td>\n",
              "    </tr>\n",
              "  </tbody>\n",
              "</table>\n",
              "</div>"
            ],
            "text/plain": [
              "   Idade  Renda anual\n",
              "0     60        30000\n",
              "1     35        45000\n",
              "2     20        29500"
            ]
          },
          "metadata": {
            "tags": []
          },
          "execution_count": 113
        }
      ]
    },
    {
      "cell_type": "code",
      "metadata": {
        "id": "W4DLM6UnPoQE",
        "colab": {
          "base_uri": "https://localhost:8080/"
        },
        "outputId": "559621ab-e223-4b9c-a8ed-7252a511a274"
      },
      "source": [
        "np.linalg.norm(df.iloc[0]-df.iloc[1])"
      ],
      "execution_count": 114,
      "outputs": [
        {
          "output_type": "execute_result",
          "data": {
            "text/plain": [
              "15000.020833318866"
            ]
          },
          "metadata": {
            "tags": []
          },
          "execution_count": 114
        }
      ]
    },
    {
      "cell_type": "code",
      "metadata": {
        "id": "rZZ0_bRMQO1n",
        "colab": {
          "base_uri": "https://localhost:8080/"
        },
        "outputId": "650fec2f-c16c-4ce3-b6c2-f20ffd6e77ff"
      },
      "source": [
        "np.linalg.norm(df.iloc[0]-df.iloc[2])"
      ],
      "execution_count": 115,
      "outputs": [
        {
          "output_type": "execute_result",
          "data": {
            "text/plain": [
              "501.5974481593781"
            ]
          },
          "metadata": {
            "tags": []
          },
          "execution_count": 115
        }
      ]
    },
    {
      "cell_type": "code",
      "metadata": {
        "id": "QxxhIvjYQOyk",
        "colab": {
          "base_uri": "https://localhost:8080/"
        },
        "outputId": "ab6c4946-960b-406d-f948-16ec095401a8"
      },
      "source": [
        "np.linalg.norm(df.iloc[1]-df.iloc[2])"
      ],
      "execution_count": 116,
      "outputs": [
        {
          "output_type": "execute_result",
          "data": {
            "text/plain": [
              "15500.007258062817"
            ]
          },
          "metadata": {
            "tags": []
          },
          "execution_count": 116
        }
      ]
    },
    {
      "cell_type": "markdown",
      "metadata": {
        "id": "ZQlv34pGRY52"
      },
      "source": [
        "Normalização\r\n",
        "\r\n",
        "$$ x_{norm} = \\frac{x - x_{min}}{x_{max}-x_{min}} $$"
      ]
    },
    {
      "cell_type": "code",
      "metadata": {
        "id": "F_ZJZAdESwyu"
      },
      "source": [
        "X = df.values"
      ],
      "execution_count": 117,
      "outputs": []
    },
    {
      "cell_type": "code",
      "metadata": {
        "id": "BHDdZpjiR8UU",
        "colab": {
          "base_uri": "https://localhost:8080/"
        },
        "outputId": "4f9a6a1b-8017-4ae2-bbf1-9e937ea52cb8"
      },
      "source": [
        "from sklearn.preprocessing import MinMaxScaler\r\n",
        "scaler = MinMaxScaler()\r\n",
        "print(scaler.fit(X))\r\n",
        "scaler.transform(X)"
      ],
      "execution_count": 118,
      "outputs": [
        {
          "output_type": "stream",
          "text": [
            "MinMaxScaler(copy=True, feature_range=(0, 1))\n"
          ],
          "name": "stdout"
        },
        {
          "output_type": "execute_result",
          "data": {
            "text/plain": [
              "array([[1.        , 0.03225806],\n",
              "       [0.375     , 1.        ],\n",
              "       [0.        , 0.        ]])"
            ]
          },
          "metadata": {
            "tags": []
          },
          "execution_count": 118
        }
      ]
    },
    {
      "cell_type": "code",
      "metadata": {
        "id": "GalB_tg-SXj1",
        "colab": {
          "base_uri": "https://localhost:8080/"
        },
        "outputId": "d9694488-19be-4435-9588-7983454c025c"
      },
      "source": [
        "X_std = (X - X.min(axis=0)) / (X.max(axis=0) - X.min(axis=0))\r\n",
        "X_scaled = X_std * (1 - 0) + 0\r\n",
        "X_scaled"
      ],
      "execution_count": 119,
      "outputs": [
        {
          "output_type": "execute_result",
          "data": {
            "text/plain": [
              "array([[1.        , 0.03225806],\n",
              "       [0.375     , 1.        ],\n",
              "       [0.        , 0.        ]])"
            ]
          },
          "metadata": {
            "tags": []
          },
          "execution_count": 119
        }
      ]
    },
    {
      "cell_type": "code",
      "metadata": {
        "id": "meG8fDRCS7eZ"
      },
      "source": [
        "df_scaled = pd.DataFrame(X_scaled)"
      ],
      "execution_count": 120,
      "outputs": []
    },
    {
      "cell_type": "code",
      "metadata": {
        "id": "yFTZsP8XUIwd",
        "colab": {
          "base_uri": "https://localhost:8080/",
          "height": 0
        },
        "outputId": "e9af459f-d191-47d9-fe26-5c2c1cf86501"
      },
      "source": [
        "df_scaled"
      ],
      "execution_count": 121,
      "outputs": [
        {
          "output_type": "execute_result",
          "data": {
            "text/html": [
              "<div>\n",
              "<style scoped>\n",
              "    .dataframe tbody tr th:only-of-type {\n",
              "        vertical-align: middle;\n",
              "    }\n",
              "\n",
              "    .dataframe tbody tr th {\n",
              "        vertical-align: top;\n",
              "    }\n",
              "\n",
              "    .dataframe thead th {\n",
              "        text-align: right;\n",
              "    }\n",
              "</style>\n",
              "<table border=\"1\" class=\"dataframe\">\n",
              "  <thead>\n",
              "    <tr style=\"text-align: right;\">\n",
              "      <th></th>\n",
              "      <th>0</th>\n",
              "      <th>1</th>\n",
              "    </tr>\n",
              "  </thead>\n",
              "  <tbody>\n",
              "    <tr>\n",
              "      <th>0</th>\n",
              "      <td>1.000</td>\n",
              "      <td>0.032258</td>\n",
              "    </tr>\n",
              "    <tr>\n",
              "      <th>1</th>\n",
              "      <td>0.375</td>\n",
              "      <td>1.000000</td>\n",
              "    </tr>\n",
              "    <tr>\n",
              "      <th>2</th>\n",
              "      <td>0.000</td>\n",
              "      <td>0.000000</td>\n",
              "    </tr>\n",
              "  </tbody>\n",
              "</table>\n",
              "</div>"
            ],
            "text/plain": [
              "       0         1\n",
              "0  1.000  0.032258\n",
              "1  0.375  1.000000\n",
              "2  0.000  0.000000"
            ]
          },
          "metadata": {
            "tags": []
          },
          "execution_count": 121
        }
      ]
    },
    {
      "cell_type": "code",
      "metadata": {
        "id": "j_lZidfqUJiT",
        "colab": {
          "base_uri": "https://localhost:8080/"
        },
        "outputId": "b66ef133-82d4-4716-f49f-9ea75ee4dec1"
      },
      "source": [
        "print(np.linalg.norm(df_scaled.iloc[0]-df_scaled.iloc[1]))\r\n",
        "print(np.linalg.norm(df_scaled.iloc[0]-df_scaled.iloc[2]))\r\n",
        "print(np.linalg.norm(df_scaled.iloc[1]-df_scaled.iloc[2]))"
      ],
      "execution_count": 122,
      "outputs": [
        {
          "output_type": "stream",
          "text": [
            "1.1520197279969075\n",
            "1.0005201560819885\n",
            "1.0680004681646913\n"
          ],
          "name": "stdout"
        }
      ]
    },
    {
      "cell_type": "code",
      "metadata": {
        "id": "nTLQFaC4UjiD"
      },
      "source": [
        ""
      ],
      "execution_count": 122,
      "outputs": []
    },
    {
      "cell_type": "markdown",
      "metadata": {
        "id": "sGTtibx6Ulvl"
      },
      "source": [
        "Padronização\r\n",
        "\r\n",
        "$$ x_{padr} = \\frac{x - \\mu}{\\sigma} $$"
      ]
    },
    {
      "cell_type": "code",
      "metadata": {
        "id": "UmynEBwIUjfO"
      },
      "source": [
        ""
      ],
      "execution_count": 122,
      "outputs": []
    },
    {
      "cell_type": "code",
      "metadata": {
        "id": "SuJFAVagQWBD",
        "colab": {
          "base_uri": "https://localhost:8080/"
        },
        "outputId": "0e9dab0d-81e2-434b-d6e3-1b435192a70d"
      },
      "source": [
        "from sklearn.preprocessing import StandardScaler\r\n",
        "scaler = StandardScaler()\r\n",
        "print(scaler.fit(X))\r\n",
        "scaler.transform(X)\r\n",
        "\r\n",
        "# n-1\r\n",
        "# n\r\n",
        "# unbiased (numpy ddof=0), biased std "
      ],
      "execution_count": 123,
      "outputs": [
        {
          "output_type": "stream",
          "text": [
            "StandardScaler(copy=True, with_mean=True, with_std=True)\n"
          ],
          "name": "stdout"
        },
        {
          "output_type": "execute_result",
          "data": {
            "text/plain": [
              "array([[ 1.31319831, -0.67206017],\n",
              "       [-0.20203051,  1.41364381],\n",
              "       [-1.1111678 , -0.74158364]])"
            ]
          },
          "metadata": {
            "tags": []
          },
          "execution_count": 123
        }
      ]
    },
    {
      "cell_type": "code",
      "metadata": {
        "id": "4XYWVEC4UVgz",
        "colab": {
          "base_uri": "https://localhost:8080/",
          "height": 0
        },
        "outputId": "0b527f40-8a02-48c1-aa64-3518a2c9ac1c"
      },
      "source": [
        "(df - df.mean()).div(df.std())"
      ],
      "execution_count": 124,
      "outputs": [
        {
          "output_type": "execute_result",
          "data": {
            "text/html": [
              "<div>\n",
              "<style scoped>\n",
              "    .dataframe tbody tr th:only-of-type {\n",
              "        vertical-align: middle;\n",
              "    }\n",
              "\n",
              "    .dataframe tbody tr th {\n",
              "        vertical-align: top;\n",
              "    }\n",
              "\n",
              "    .dataframe thead th {\n",
              "        text-align: right;\n",
              "    }\n",
              "</style>\n",
              "<table border=\"1\" class=\"dataframe\">\n",
              "  <thead>\n",
              "    <tr style=\"text-align: right;\">\n",
              "      <th></th>\n",
              "      <th>Idade</th>\n",
              "      <th>Renda anual</th>\n",
              "    </tr>\n",
              "  </thead>\n",
              "  <tbody>\n",
              "    <tr>\n",
              "      <th>0</th>\n",
              "      <td>1.072222</td>\n",
              "      <td>-0.548735</td>\n",
              "    </tr>\n",
              "    <tr>\n",
              "      <th>1</th>\n",
              "      <td>-0.164957</td>\n",
              "      <td>1.154235</td>\n",
              "    </tr>\n",
              "    <tr>\n",
              "      <th>2</th>\n",
              "      <td>-0.907265</td>\n",
              "      <td>-0.605501</td>\n",
              "    </tr>\n",
              "  </tbody>\n",
              "</table>\n",
              "</div>"
            ],
            "text/plain": [
              "      Idade  Renda anual\n",
              "0  1.072222    -0.548735\n",
              "1 -0.164957     1.154235\n",
              "2 -0.907265    -0.605501"
            ]
          },
          "metadata": {
            "tags": []
          },
          "execution_count": 124
        }
      ]
    },
    {
      "cell_type": "code",
      "metadata": {
        "id": "4Zmzxg79WlhW",
        "colab": {
          "base_uri": "https://localhost:8080/",
          "height": 0
        },
        "outputId": "8880196e-9c74-43df-b948-f677c62feccd"
      },
      "source": [
        "(df - df.mean()).div(df.std()-1)"
      ],
      "execution_count": 125,
      "outputs": [
        {
          "output_type": "execute_result",
          "data": {
            "text/html": [
              "<div>\n",
              "<style scoped>\n",
              "    .dataframe tbody tr th:only-of-type {\n",
              "        vertical-align: middle;\n",
              "    }\n",
              "\n",
              "    .dataframe tbody tr th {\n",
              "        vertical-align: top;\n",
              "    }\n",
              "\n",
              "    .dataframe thead th {\n",
              "        text-align: right;\n",
              "    }\n",
              "</style>\n",
              "<table border=\"1\" class=\"dataframe\">\n",
              "  <thead>\n",
              "    <tr style=\"text-align: right;\">\n",
              "      <th></th>\n",
              "      <th>Idade</th>\n",
              "      <th>Renda anual</th>\n",
              "    </tr>\n",
              "  </thead>\n",
              "  <tbody>\n",
              "    <tr>\n",
              "      <th>0</th>\n",
              "      <td>1.128046</td>\n",
              "      <td>-0.548797</td>\n",
              "    </tr>\n",
              "    <tr>\n",
              "      <th>1</th>\n",
              "      <td>-0.173545</td>\n",
              "      <td>1.154366</td>\n",
              "    </tr>\n",
              "    <tr>\n",
              "      <th>2</th>\n",
              "      <td>-0.954500</td>\n",
              "      <td>-0.605569</td>\n",
              "    </tr>\n",
              "  </tbody>\n",
              "</table>\n",
              "</div>"
            ],
            "text/plain": [
              "      Idade  Renda anual\n",
              "0  1.128046    -0.548797\n",
              "1 -0.173545     1.154366\n",
              "2 -0.954500    -0.605569"
            ]
          },
          "metadata": {
            "tags": []
          },
          "execution_count": 125
        }
      ]
    },
    {
      "cell_type": "code",
      "metadata": {
        "id": "0qpg0J5EVBNF"
      },
      "source": [
        "# df[['cost', 'sales']] = StandardScaler().fit_transform(df[['cost', 'sales']])"
      ],
      "execution_count": 126,
      "outputs": []
    },
    {
      "cell_type": "code",
      "metadata": {
        "id": "OWiy6NexVbyD",
        "colab": {
          "base_uri": "https://localhost:8080/"
        },
        "outputId": "50101e17-e202-4d12-8b83-d97a0e1d5b2a"
      },
      "source": [
        "df.mean()"
      ],
      "execution_count": 127,
      "outputs": [
        {
          "output_type": "execute_result",
          "data": {
            "text/plain": [
              "Idade             38.333333\n",
              "Renda anual    34833.333333\n",
              "dtype: float64"
            ]
          },
          "metadata": {
            "tags": []
          },
          "execution_count": 127
        }
      ]
    },
    {
      "cell_type": "code",
      "metadata": {
        "id": "jNvJARu9Vnck",
        "colab": {
          "base_uri": "https://localhost:8080/",
          "height": 0
        },
        "outputId": "bb72828c-7e88-476a-cd03-534e8c58b8f2"
      },
      "source": [
        "df"
      ],
      "execution_count": 128,
      "outputs": [
        {
          "output_type": "execute_result",
          "data": {
            "text/html": [
              "<div>\n",
              "<style scoped>\n",
              "    .dataframe tbody tr th:only-of-type {\n",
              "        vertical-align: middle;\n",
              "    }\n",
              "\n",
              "    .dataframe tbody tr th {\n",
              "        vertical-align: top;\n",
              "    }\n",
              "\n",
              "    .dataframe thead th {\n",
              "        text-align: right;\n",
              "    }\n",
              "</style>\n",
              "<table border=\"1\" class=\"dataframe\">\n",
              "  <thead>\n",
              "    <tr style=\"text-align: right;\">\n",
              "      <th></th>\n",
              "      <th>Idade</th>\n",
              "      <th>Renda anual</th>\n",
              "    </tr>\n",
              "  </thead>\n",
              "  <tbody>\n",
              "    <tr>\n",
              "      <th>0</th>\n",
              "      <td>60</td>\n",
              "      <td>30000</td>\n",
              "    </tr>\n",
              "    <tr>\n",
              "      <th>1</th>\n",
              "      <td>35</td>\n",
              "      <td>45000</td>\n",
              "    </tr>\n",
              "    <tr>\n",
              "      <th>2</th>\n",
              "      <td>20</td>\n",
              "      <td>29500</td>\n",
              "    </tr>\n",
              "  </tbody>\n",
              "</table>\n",
              "</div>"
            ],
            "text/plain": [
              "   Idade  Renda anual\n",
              "0     60        30000\n",
              "1     35        45000\n",
              "2     20        29500"
            ]
          },
          "metadata": {
            "tags": []
          },
          "execution_count": 128
        }
      ]
    },
    {
      "cell_type": "code",
      "metadata": {
        "id": "tynMYpPaVpdq",
        "colab": {
          "base_uri": "https://localhost:8080/",
          "height": 0
        },
        "outputId": "c2247147-b828-45e3-f368-194f65407f33"
      },
      "source": [
        "df-df.mean()"
      ],
      "execution_count": 129,
      "outputs": [
        {
          "output_type": "execute_result",
          "data": {
            "text/html": [
              "<div>\n",
              "<style scoped>\n",
              "    .dataframe tbody tr th:only-of-type {\n",
              "        vertical-align: middle;\n",
              "    }\n",
              "\n",
              "    .dataframe tbody tr th {\n",
              "        vertical-align: top;\n",
              "    }\n",
              "\n",
              "    .dataframe thead th {\n",
              "        text-align: right;\n",
              "    }\n",
              "</style>\n",
              "<table border=\"1\" class=\"dataframe\">\n",
              "  <thead>\n",
              "    <tr style=\"text-align: right;\">\n",
              "      <th></th>\n",
              "      <th>Idade</th>\n",
              "      <th>Renda anual</th>\n",
              "    </tr>\n",
              "  </thead>\n",
              "  <tbody>\n",
              "    <tr>\n",
              "      <th>0</th>\n",
              "      <td>21.666667</td>\n",
              "      <td>-4833.333333</td>\n",
              "    </tr>\n",
              "    <tr>\n",
              "      <th>1</th>\n",
              "      <td>-3.333333</td>\n",
              "      <td>10166.666667</td>\n",
              "    </tr>\n",
              "    <tr>\n",
              "      <th>2</th>\n",
              "      <td>-18.333333</td>\n",
              "      <td>-5333.333333</td>\n",
              "    </tr>\n",
              "  </tbody>\n",
              "</table>\n",
              "</div>"
            ],
            "text/plain": [
              "       Idade   Renda anual\n",
              "0  21.666667  -4833.333333\n",
              "1  -3.333333  10166.666667\n",
              "2 -18.333333  -5333.333333"
            ]
          },
          "metadata": {
            "tags": []
          },
          "execution_count": 129
        }
      ]
    },
    {
      "cell_type": "code",
      "metadata": {
        "id": "5vMf_u10VrLr",
        "colab": {
          "base_uri": "https://localhost:8080/"
        },
        "outputId": "d92dc62a-2728-46ea-d404-919f9bf8f5f4"
      },
      "source": [
        "df.std()"
      ],
      "execution_count": 130,
      "outputs": [
        {
          "output_type": "execute_result",
          "data": {
            "text/plain": [
              "Idade            20.207259\n",
              "Renda anual    8808.140174\n",
              "dtype: float64"
            ]
          },
          "metadata": {
            "tags": []
          },
          "execution_count": 130
        }
      ]
    },
    {
      "cell_type": "markdown",
      "metadata": {
        "id": "ERKsIk6NgZ-z"
      },
      "source": [
        "## Regressão Logística\r\n",
        "\r\n",
        "\r\n",
        "1. Regressão logística é um algoritmo de classificação que utiliza alguns conceitos da regressão linear (V)\r\n",
        "\r\n",
        "2. A regressão logística tem por objetivo encontrar os melhores coeficientes que \"desenhem\" o S da função sigmoide (V)\r\n",
        "\r\n",
        "3. A descida do gradiente é uma das técnicas mais utilizadas para encontrar os coeficientes da regressão logística. Essa técnica consiste em calcular o declive da curva utilizando derivadas parciais para encontrar o mínimo local (F:#TODO: check por que)\r\n"
      ]
    },
    {
      "cell_type": "markdown",
      "metadata": {
        "id": "V5r1OqEdgdbj"
      },
      "source": [
        "### Sigmoide\r\n",
        "$$ \\mathrm{sigm}(y) = \\frac{1}{1+e^{-y}} $$"
      ]
    },
    {
      "cell_type": "code",
      "metadata": {
        "colab": {
          "base_uri": "https://localhost:8080/",
          "height": 265
        },
        "id": "4f6AU971gfmL",
        "outputId": "703545e1-b366-4f08-a7ee-d49b6626df04"
      },
      "source": [
        "import numpy as np\r\n",
        "import matplotlib.pyplot as plt\r\n",
        "\r\n",
        "sigmoid = lambda x: 1 / (1 + np.exp(-x))\r\n",
        "y = np.arange(-5,5,0.01)\r\n",
        "p = sigmoid(y)\r\n",
        "plt.plot(y, p)\r\n",
        "plt.show()"
      ],
      "execution_count": 131,
      "outputs": [
        {
          "output_type": "display_data",
          "data": {
            "image/png": "[encoded data removed]",
            "text/plain": [
              "<Figure size 432x288 with 1 Axes>"
            ]
          },
          "metadata": {
            "tags": [],
            "needs_background": "light"
          }
        }
      ]
    },
    {
      "cell_type": "markdown",
      "metadata": {
        "id": "0N8RqMxHkFTm"
      },
      "source": [
        "### Logit\r\n",
        "$$ \\mathrm{logit}(p) = \\log\\left(\\frac{p}{1-p}\\right) $$"
      ]
    },
    {
      "cell_type": "code",
      "metadata": {
        "colab": {
          "base_uri": "https://localhost:8080/",
          "height": 0
        },
        "id": "TyDD_v_NhEtU",
        "outputId": "dffca22c-7e03-49f6-d719-84fc0f1a3942"
      },
      "source": [
        "import numpy as np\r\n",
        "import matplotlib.pyplot as plt\r\n",
        "\r\n",
        "logit = lambda x: np.log(x / (1 - x))\r\n",
        "plt.plot(p, logit(p))\r\n",
        "plt.show()"
      ],
      "execution_count": 132,
      "outputs": [
        {
          "output_type": "display_data",
          "data": {
            "image/png": "[encoded data removed]",
            "text/plain": [
              "<Figure size 432x288 with 1 Axes>"
            ]
          },
          "metadata": {
            "tags": [],
            "needs_background": "light"
          }
        }
      ]
    },
    {
      "cell_type": "code",
      "metadata": {
        "colab": {
          "base_uri": "https://localhost:8080/",
          "height": 0
        },
        "id": "-eVYoRvcaC7S",
        "outputId": "361954ba-e307-4b7d-c73b-0c3ff012c74f"
      },
      "source": [
        "import pandas as pd\r\n",
        "\r\n",
        "df = pd.read_csv(\"risco_credito.csv\")\r\n",
        "# create lists\r\n",
        "lst_features = list(df.columns[:-1])\r\n",
        "lst_col = lst_features[:]\r\n",
        "\r\n",
        "# Fix col name\r\n",
        "target = 'risco'\r\n",
        "lst_col.append(target)\r\n",
        "df.columns = lst_col\r\n",
        "df = df.loc[df['risco'] != 'moderado'].reset_index(drop=True)\r\n",
        "df"
      ],
      "execution_count": 133,
      "outputs": [
        {
          "output_type": "execute_result",
          "data": {
            "text/html": [
              "<div>\n",
              "<style scoped>\n",
              "    .dataframe tbody tr th:only-of-type {\n",
              "        vertical-align: middle;\n",
              "    }\n",
              "\n",
              "    .dataframe tbody tr th {\n",
              "        vertical-align: top;\n",
              "    }\n",
              "\n",
              "    .dataframe thead th {\n",
              "        text-align: right;\n",
              "    }\n",
              "</style>\n",
              "<table border=\"1\" class=\"dataframe\">\n",
              "  <thead>\n",
              "    <tr style=\"text-align: right;\">\n",
              "      <th></th>\n",
              "      <th>historia</th>\n",
              "      <th>divida</th>\n",
              "      <th>garantias</th>\n",
              "      <th>renda</th>\n",
              "      <th>risco</th>\n",
              "    </tr>\n",
              "  </thead>\n",
              "  <tbody>\n",
              "    <tr>\n",
              "      <th>0</th>\n",
              "      <td>ruim</td>\n",
              "      <td>alta</td>\n",
              "      <td>nenhuma</td>\n",
              "      <td>0_15</td>\n",
              "      <td>alto</td>\n",
              "    </tr>\n",
              "    <tr>\n",
              "      <th>1</th>\n",
              "      <td>desconhecida</td>\n",
              "      <td>alta</td>\n",
              "      <td>nenhuma</td>\n",
              "      <td>15_35</td>\n",
              "      <td>alto</td>\n",
              "    </tr>\n",
              "    <tr>\n",
              "      <th>2</th>\n",
              "      <td>desconhecida</td>\n",
              "      <td>baixa</td>\n",
              "      <td>nenhuma</td>\n",
              "      <td>acima_35</td>\n",
              "      <td>alto</td>\n",
              "    </tr>\n",
              "    <tr>\n",
              "      <th>3</th>\n",
              "      <td>desconhecida</td>\n",
              "      <td>baixa</td>\n",
              "      <td>nenhuma</td>\n",
              "      <td>acima_35</td>\n",
              "      <td>baixo</td>\n",
              "    </tr>\n",
              "    <tr>\n",
              "      <th>4</th>\n",
              "      <td>desconhecida</td>\n",
              "      <td>baixa</td>\n",
              "      <td>adequada</td>\n",
              "      <td>acima_35</td>\n",
              "      <td>baixo</td>\n",
              "    </tr>\n",
              "    <tr>\n",
              "      <th>5</th>\n",
              "      <td>ruim</td>\n",
              "      <td>baixa</td>\n",
              "      <td>nenhuma</td>\n",
              "      <td>0_15</td>\n",
              "      <td>alto</td>\n",
              "    </tr>\n",
              "    <tr>\n",
              "      <th>6</th>\n",
              "      <td>boa</td>\n",
              "      <td>baixa</td>\n",
              "      <td>nenhuma</td>\n",
              "      <td>acima_35</td>\n",
              "      <td>baixo</td>\n",
              "    </tr>\n",
              "    <tr>\n",
              "      <th>7</th>\n",
              "      <td>boa</td>\n",
              "      <td>alta</td>\n",
              "      <td>adequada</td>\n",
              "      <td>acima_35</td>\n",
              "      <td>baixo</td>\n",
              "    </tr>\n",
              "    <tr>\n",
              "      <th>8</th>\n",
              "      <td>boa</td>\n",
              "      <td>alta</td>\n",
              "      <td>nenhuma</td>\n",
              "      <td>0_15</td>\n",
              "      <td>alto</td>\n",
              "    </tr>\n",
              "    <tr>\n",
              "      <th>9</th>\n",
              "      <td>boa</td>\n",
              "      <td>alta</td>\n",
              "      <td>nenhuma</td>\n",
              "      <td>acima_35</td>\n",
              "      <td>baixo</td>\n",
              "    </tr>\n",
              "    <tr>\n",
              "      <th>10</th>\n",
              "      <td>ruim</td>\n",
              "      <td>alta</td>\n",
              "      <td>nenhuma</td>\n",
              "      <td>15_35</td>\n",
              "      <td>alto</td>\n",
              "    </tr>\n",
              "  </tbody>\n",
              "</table>\n",
              "</div>"
            ],
            "text/plain": [
              "        historia divida garantias     renda  risco\n",
              "0           ruim   alta   nenhuma      0_15   alto\n",
              "1   desconhecida   alta   nenhuma     15_35   alto\n",
              "2   desconhecida  baixa   nenhuma  acima_35   alto\n",
              "3   desconhecida  baixa   nenhuma  acima_35  baixo\n",
              "4   desconhecida  baixa  adequada  acima_35  baixo\n",
              "5           ruim  baixa   nenhuma      0_15   alto\n",
              "6            boa  baixa   nenhuma  acima_35  baixo\n",
              "7            boa   alta  adequada  acima_35  baixo\n",
              "8            boa   alta   nenhuma      0_15   alto\n",
              "9            boa   alta   nenhuma  acima_35  baixo\n",
              "10          ruim   alta   nenhuma     15_35   alto"
            ]
          },
          "metadata": {
            "tags": []
          },
          "execution_count": 133
        }
      ]
    },
    {
      "cell_type": "code",
      "metadata": {
        "colab": {
          "base_uri": "https://localhost:8080/"
        },
        "id": "wzzZ1xOAhI17",
        "outputId": "1ae348bb-f1a0-4799-df53-c341012ea290"
      },
      "source": [
        "X = df.iloc[:,:-1].copy().values\r\n",
        "y = df.iloc[:,-1].values              \r\n",
        "\r\n",
        "lst_features = list(df.iloc[:,:-1].columns)\r\n",
        "\r\n",
        "dct_label_encoder = label_encoder(df,X)"
      ],
      "execution_count": 134,
      "outputs": [
        {
          "output_type": "stream",
          "text": [
            "Label encoder dict\n",
            "{\n",
            "    \"divida\": {\n",
            "        \"alta\": 0,\n",
            "        \"baixa\": 1\n",
            "    },\n",
            "    \"garantias\": {\n",
            "        \"adequada\": 0,\n",
            "        \"nenhuma\": 1\n",
            "    },\n",
            "    \"historia\": {\n",
            "        \"boa\": 0,\n",
            "        \"desconhecida\": 1,\n",
            "        \"ruim\": 2\n",
            "    },\n",
            "    \"renda\": {\n",
            "        \"0_15\": 0,\n",
            "        \"15_35\": 1,\n",
            "        \"acima_35\": 2\n",
            "    }\n",
            "}\n"
          ],
          "name": "stdout"
        }
      ]
    },
    {
      "cell_type": "code",
      "metadata": {
        "id": "E0aXfg7jmLxp"
      },
      "source": [
        "def encoded_entry(entry_raw, dct_label_encoder=dct_label_encoder):\r\n",
        "    return [dct_label_encoder[k][v] for k,v in entry_raw.items()]\r\n",
        "\r\n",
        "test0_raw = {\r\n",
        "    \"historia\": \"boa\",\r\n",
        "    \"divida\": \"alta\",\r\n",
        "    \"garantias\": \"nenhuma\",\r\n",
        "    \"renda\": \"acima_35\"\r\n",
        "}\r\n",
        "# test0 = [0, 0, 1, 2]\r\n",
        "\r\n",
        "test1_raw = {\r\n",
        "    \"historia\": \"ruim\",\r\n",
        "    \"divida\": \"alta\",\r\n",
        "    \"garantias\": \"adequada\",\r\n",
        "    \"renda\": \"0_15\"\r\n",
        "}\r\n",
        "# test1 = [2, 0, 0, 0]\r\n"
      ],
      "execution_count": 135,
      "outputs": []
    },
    {
      "cell_type": "code",
      "metadata": {
        "id": "-nyrbWiKyRSF",
        "colab": {
          "base_uri": "https://localhost:8080/"
        },
        "outputId": "cd344a0f-c70b-476d-f082-5f136f979548"
      },
      "source": [
        "def encoded_entry(entry_raw, dct_label_encoder=dct_label_encoder):\r\n",
        "    return [dct_label_encoder[k][v] for k,v in entry_raw.items()]\r\n",
        "\r\n",
        "test0_raw = {\r\n",
        "    \"historia\": \"boa\",\r\n",
        "    \"divida\": \"alta\",\r\n",
        "    \"garantias\": \"nenhuma\",\r\n",
        "    \"renda\": \"acima_35\"\r\n",
        "}\r\n",
        "# test0 = [0, 0, 1, 2]\r\n",
        "\r\n",
        "test1_raw = {\r\n",
        "    \"historia\": \"ruim\",\r\n",
        "    \"divida\": \"alta\",\r\n",
        "    \"garantias\": \"adequada\",\r\n",
        "    \"renda\": \"0_15\"\r\n",
        "}\r\n",
        "# test1 = [2, 0, 0, 0]\r\n",
        "import numpy as np\r\n",
        "\r\n",
        "# Logistic coeficients\r\n",
        "b = np.array([-0.12,-0.71,0.24,-0.54,1.07])\r\n",
        "\r\n",
        "for test_raw in [test0_raw, test1_raw]:\r\n",
        "    print(test_raw)\r\n",
        "    encoded_entry_val = encoded_entry(test_raw)\r\n",
        "    print(encoded_entry_val)\r\n",
        "    entry = np.insert(encoded_entry_val, 0, 1, axis=0)  # add 1 as 1st element\r\n",
        "    print(f\"coef*entry: {entry*b}\")\r\n",
        "    y = sum(entry*b)\r\n",
        "    print(f\"y={y}\")\r\n",
        "    p = sigmoid(y)\r\n",
        "    print(f\"p={p:.2f}\")"
      ],
      "execution_count": 136,
      "outputs": [
        {
          "output_type": "stream",
          "text": [
            "{'historia': 'boa', 'divida': 'alta', 'garantias': 'nenhuma', 'renda': 'acima_35'}\n",
            "[0, 0, 1, 2]\n",
            "coef*entry: [-0.12 -0.    0.   -0.54  2.14]\n",
            "y=1.48\n",
            "p=0.81\n",
            "{'historia': 'ruim', 'divida': 'alta', 'garantias': 'adequada', 'renda': '0_15'}\n",
            "[2, 0, 0, 0]\n",
            "coef*entry: [-0.12 -1.42  0.   -0.    0.  ]\n",
            "y=-1.54\n",
            "p=0.18\n"
          ],
          "name": "stdout"
        }
      ]
    },
    {
      "cell_type": "code",
      "metadata": {
        "id": "UxIPRMmZo9gj",
        "colab": {
          "base_uri": "https://localhost:8080/"
        },
        "outputId": "857c68d8-dda8-4e32-dfa6-744901549e5a"
      },
      "source": [
        "import numpy as np\r\n",
        "\r\n",
        "# Logistic coeficients\r\n",
        "b = np.array([-0.12,-0.71,0.24,-0.54,1.07])\r\n",
        "\r\n",
        "for test_raw in [test0_raw, test1_raw]:\r\n",
        "    print(test_raw)\r\n",
        "    encoded_entry_val = encoded_entry(test_raw)\r\n",
        "    print(encoded_entry_val)\r\n",
        "    entry = np.insert(encoded_entry_val, 0, 1, axis=0)  # add 1 as 1st element\r\n",
        "    print(f\"coef*entry: {entry*b}\")\r\n",
        "    y = sum(entry*b)\r\n",
        "    print(f\"y={y}\")\r\n",
        "    p = sigmoid(y)\r\n",
        "    print(f\"p={p:.2f}\")"
      ],
      "execution_count": 137,
      "outputs": [
        {
          "output_type": "stream",
          "text": [
            "{'historia': 'boa', 'divida': 'alta', 'garantias': 'nenhuma', 'renda': 'acima_35'}\n",
            "[0, 0, 1, 2]\n",
            "coef*entry: [-0.12 -0.    0.   -0.54  2.14]\n",
            "y=1.48\n",
            "p=0.81\n",
            "{'historia': 'ruim', 'divida': 'alta', 'garantias': 'adequada', 'renda': '0_15'}\n",
            "[2, 0, 0, 0]\n",
            "coef*entry: [-0.12 -1.42  0.   -0.    0.  ]\n",
            "y=-1.54\n",
            "p=0.18\n"
          ],
          "name": "stdout"
        }
      ]
    },
    {
      "cell_type": "code",
      "metadata": {
        "colab": {
          "base_uri": "https://localhost:8080/"
        },
        "id": "tgqup_NGczCB",
        "outputId": "74f2712c-c68c-4d11-aded-0dd5f2cb6861"
      },
      "source": [
        "import pandas as pd\r\n",
        "\r\n",
        "\r\n",
        "filename = \"risco_credito\"\r\n",
        "target_type = \"binary\"\r\n",
        "chosen_clf = \"Logistic Regression\"\r\n",
        "\r\n",
        "df = pd.read_csv(filename+\".csv\")\r\n",
        "# create lists\r\n",
        "lst_features = list(df.columns[:-1])\r\n",
        "lst_col = lst_features[:]\r\n",
        "\r\n",
        "# Dataset specific pre_process\r\n",
        "if filename == \"risco_credito\":\r\n",
        "    # Fix col name\r\n",
        "    target = 'risco'\r\n",
        "    lst_col.append(target)\r\n",
        "    df.columns = lst_col\r\n",
        "    if target_type == 'binary':\r\n",
        "        df = df.loc[df['risco'] != 'moderado'].reset_index(drop=True)\r\n",
        "\r\n",
        "X = df.iloc[:,:-1].copy().values\r\n",
        "y = df.iloc[:,-1].values\r\n",
        "\r\n",
        "def pp_json(json_thing, sort=True, indents=4):\r\n",
        "    if type(json_thing) is str:\r\n",
        "        print(json.dumps(json.loads(json_thing)\r\n",
        "                , sort_keys=sort\r\n",
        "                , indent=indents))\r\n",
        "    else:\r\n",
        "        print(json.dumps(json_thing\r\n",
        "                         , sort_keys=sort\r\n",
        "                         , indent=indents))\r\n",
        "    return None\r\n",
        "    \r\n",
        "def label_encoder(df,X):\r\n",
        "    from sklearn.preprocessing import LabelEncoder\r\n",
        "    labelencoder = LabelEncoder()\r\n",
        "    dct_label_encoder = {}\r\n",
        "    for idx in range(len(df.columns)-1):\r\n",
        "        X[:,idx] = labelencoder.fit_transform(X[:,idx])\r\n",
        "        dct_label = {}\r\n",
        "        for jj, label in enumerate(labelencoder.classes_):\r\n",
        "            dct_label[label] =  jj\r\n",
        "        dct_label_encoder[df.columns[idx]] = dct_label\r\n",
        "    print(\"Label encoder dict\")\r\n",
        "    pp_json(dct_label_encoder)\r\n",
        "\r\n",
        "    return dct_label_encoder\r\n",
        "\r\n",
        "dct_label_encoder = label_encoder(df, X)\r\n",
        "\r\n",
        "if chosen_clf == \"Logistic Regression\":\r\n",
        "    from sklearn.linear_model import LogisticRegression\r\n",
        "    clf = LogisticRegression(\r\n",
        "        # penalty= None # {'l1', 'l2', 'elasticnet', 'none'}, default='l2'\r\n",
        "        # , tol = 1e-6 # float, default=1e-4\r\n",
        "        # , solver = 'newton-cg' # {'newton-cg', 'lbfgs', 'liblinear', 'sag', 'saga'}, default='lbfgs'\r\n",
        "        # , max_iter = 200 # int, default=100\r\n",
        "        # , n_jobs = -1 # int, default=None\r\n",
        "        )\r\n",
        "\r\n",
        "clf.fit(X, y)\r\n",
        "\r\n",
        "if chosen_clf == \"Logistic Regression\":\r\n",
        "    print(f\"intercept:{clf.intercept_}\")\r\n",
        "    print(f\"coef:{clf.coef_}\")\r\n",
        "    # Logistic coeficients\r\n",
        "    b = np.insert(clf.coef_, 0, clf.intercept_, axis=1)\r\n",
        "\r\n",
        "test0_raw = {\r\n",
        "    \"historia\": \"boa\",\r\n",
        "    \"divida\": \"alta\",\r\n",
        "    \"garantias\": \"nenhuma\",\r\n",
        "    \"renda\": \"acima_35\"\r\n",
        "}\r\n",
        "# test0 = [0, 0, 1, 2]\r\n",
        "\r\n",
        "test1_raw = {\r\n",
        "    \"historia\": \"ruim\",\r\n",
        "    \"divida\": \"alta\",\r\n",
        "    \"garantias\": \"adequada\",\r\n",
        "    \"renda\": \"0_15\"\r\n",
        "}\r\n",
        "# test1 = [2, 0, 0, 0]\r\n",
        "\r\n",
        "def encoded_entry(entry_raw, dct_label_encoder=dct_label_encoder):\r\n",
        "    return [dct_label_encoder[k][v] for k,v in entry_raw.items()]\r\n",
        "\r\n",
        "# Target encoder\r\n",
        "targetencoder = LabelEncoder()\r\n",
        "y = targetencoder.fit_transform(y)\r\n",
        "# 0: alto; 1: baixo\r\n",
        "\r\n",
        "for test_raw in [test0_raw, test1_raw]:\r\n",
        "    print(test_raw)\r\n",
        "    encoded_entry_val = encoded_entry(test_raw)\r\n",
        "    print(encoded_entry_val)\r\n",
        "    if chosen_clf == \"Logistic Regression\":\r\n",
        "        entry = np.insert(encoded_entry_val, 0, 1, axis=0)  # add 1 as 1st element\r\n",
        "        # print(f\"coef*entry: {entry*b}\")\r\n",
        "        y_val = sum(sum(entry*b))\r\n",
        "        # print(f\"y={y_val}\")\r\n",
        "        p_val = sigmoid(y_val)\r\n",
        "        print(f\"p={p_val:.2f}\")\r\n",
        "        if p_val < 0.5:  # 0: alto; 1: baixo\r\n",
        "            print(targetencoder.inverse_transform([0])[0])\r\n",
        "        else:\r\n",
        "            print(targetencoder.inverse_transform([1])[0])\r\n",
        "\r\n",
        "lst_encoded_test = [encoded_entry(x) for x in [test0_raw, test1_raw]]\r\n",
        "print(clf.predict(lst_encoded_test))\r\n",
        "clf.predict_proba(lst_encoded_test)"
      ],
      "execution_count": 138,
      "outputs": [
        {
          "output_type": "stream",
          "text": [
            "Label encoder dict\n",
            "{\n",
            "    \"divida\": {\n",
            "        \"alta\": 0,\n",
            "        \"baixa\": 1\n",
            "    },\n",
            "    \"garantias\": {\n",
            "        \"adequada\": 0,\n",
            "        \"nenhuma\": 1\n",
            "    },\n",
            "    \"historia\": {\n",
            "        \"boa\": 0,\n",
            "        \"desconhecida\": 1,\n",
            "        \"ruim\": 2\n",
            "    },\n",
            "    \"renda\": {\n",
            "        \"0_15\": 0,\n",
            "        \"15_35\": 1,\n",
            "        \"acima_35\": 2\n",
            "    }\n",
            "}\n",
            "intercept:[-0.80828993]\n",
            "coef:[[-0.76704533  0.23906678 -0.47976059  1.12186218]]\n",
            "{'historia': 'boa', 'divida': 'alta', 'garantias': 'nenhuma', 'renda': 'acima_35'}\n",
            "[0, 0, 1, 2]\n",
            "p=0.72\n",
            "baixo\n",
            "{'historia': 'ruim', 'divida': 'alta', 'garantias': 'adequada', 'renda': '0_15'}\n",
            "[2, 0, 0, 0]\n",
            "p=0.09\n",
            "alto\n",
            "['baixo' 'alto']\n"
          ],
          "name": "stdout"
        },
        {
          "output_type": "execute_result",
          "data": {
            "text/plain": [
              "array([[0.2777452 , 0.7222548 ],\n",
              "       [0.91232669, 0.08767331]])"
            ]
          },
          "metadata": {
            "tags": []
          },
          "execution_count": 138
        }
      ]
    },
    {
      "cell_type": "markdown",
      "metadata": {
        "id": "MlowmyAJHW7b"
      },
      "source": [
        "# SVM: Support Vector Machines\r\n",
        "\r\n",
        "* Em geral bom desempenho (mas < DL)\r\n",
        "* Tarefas complexas: reconhecimento caracteres, voz, imagens\r\n",
        "\r\n",
        "* aprende hiperlanos de separação com margem máxima\r\n",
        "    * Convex hulls (envoltória/casca convexa)\r\n",
        "    * Abordagem matemática (produto escalar)\r\n",
        "* Kernel trick (não linear)\r\n",
        "    * linear: x*y\r\n",
        "    * gaussian\r\n",
        "    * polynomial\r\n",
        "    * tangent hyperbolic\r\n",
        "* Erro (c: penalização, baixo: admite mais erros, alto: mais restritivo)\r\n",
        "* Custo\r\n",
        "* slack variable: criado pelo SVM\r\n",
        "* robusto a ruídos\r\n",
        "* menos parâmetros\r\n",
        "* lento\r\n",
        "* black box\r\n",
        "\r\n",
        "\r\n",
        "1. Com o SVM é possível encontrar uma linha de separação entre dados de duas classes, que é chamado de: Hiperlano\r\n",
        "\r\n",
        "2. O conceito de aprendizado por hiperplano com margem máxima consiste em: Quanto maior a distância dos pontos em relação a reta, melhor.\r\n",
        "\r\n",
        "3. O parâmetro custo (c) do SVM representa: Uma punição por classificação incorreta\r\n",
        "\r\n",
        "\r\n",
        "4. Um problema linear é aquele no qual é possível separar duas classes apenas com uma reta. Por outro lado, um problema não-linear é quando não é possível traçar uma reta para separar os dados. Nesse caso, é possível utilizar as técnicas de kernels do SVM para transformar um problema não linearmente separável em um problema linearmente separável (V)\r\n",
        "\r\n",
        "\r\n",
        "5. Selecione a afirmativa incorreta sobre o SVM\r\n",
        " * uso: classificação e regressão\r\n",
        " * aprende conceitos não presentes nos dados originais\r\n",
        " * possui menos parâmetros para serem configurados do que uma rede neural\r\n",
        " * é muito influenciado por ruídos nos dados (F)\r\n"
      ]
    },
    {
      "cell_type": "markdown",
      "metadata": {
        "id": "CTq7I-6dKplT"
      },
      "source": [
        "\r\n",
        "| AND|B0 |B1 |\r\n",
        "|----|---|---|\r\n",
        "| A1 | 0 | 1 |\r\n",
        "| A0 | 0 | 0 |\r\n",
        "\r\n",
        "\r\n",
        "\r\n",
        "| XOR|B0 |B1 |\r\n",
        "|----|---|---|\r\n",
        "| A1 | 1 | 0 |\r\n",
        "| A0 | 0 | 1 |"
      ]
    },
    {
      "cell_type": "markdown",
      "metadata": {
        "id": "PqLlaCLlPeLT"
      },
      "source": [
        "* https://realpython.com/python-bitwise-operators/\r\n",
        "\r\n",
        "* https://data-flair.training/blogs/python-bitwise-operators/\r\n",
        "\r\n",
        "* https://www.geeksforgeeks.org/logic-gates-in-python/"
      ]
    },
    {
      "cell_type": "code",
      "metadata": {
        "colab": {
          "base_uri": "https://localhost:8080/",
          "height": 168
        },
        "id": "_ndpVHtwSFfs",
        "outputId": "7f160b7e-f5b2-4201-c954-9d45f273ee2e"
      },
      "source": [
        "options = (0,1)\r\n",
        "options = (False,True)\r\n",
        "dct_truth = {\r\n",
        "    \"AND\": {(a,b): a&b for a in options for b in options},\r\n",
        "    \"OR\": {(a,b): a|b for a in options for b in options},\r\n",
        "    \"XOR\": {(a,b): a^b for a in options for b in options},\r\n",
        "    \"NOR\": {(a,b): not(a|b) for a in options for b in options},\r\n",
        "    \"NAND\": {(a,b): not(a&b) for a in options for b in options},\r\n",
        "    \"XNOR\": {(a,b): not(a^b) for a in options for b in options}\r\n",
        "}\r\n",
        "\r\n",
        "\r\n",
        "import pandas as pd\r\n",
        "\r\n",
        "df_truth = pd.DataFrame(dct_truth).reset_index()\r\n",
        "df_truth.rename(columns={\"level_0\": \"a\", \"level_1\": \"b\"},inplace=True)\r\n",
        "df_truth\r\n",
        "             "
      ],
      "execution_count": 139,
      "outputs": [
        {
          "output_type": "execute_result",
          "data": {
            "text/html": [
              "<div>\n",
              "<style scoped>\n",
              "    .dataframe tbody tr th:only-of-type {\n",
              "        vertical-align: middle;\n",
              "    }\n",
              "\n",
              "    .dataframe tbody tr th {\n",
              "        vertical-align: top;\n",
              "    }\n",
              "\n",
              "    .dataframe thead th {\n",
              "        text-align: right;\n",
              "    }\n",
              "</style>\n",
              "<table border=\"1\" class=\"dataframe\">\n",
              "  <thead>\n",
              "    <tr style=\"text-align: right;\">\n",
              "      <th></th>\n",
              "      <th>a</th>\n",
              "      <th>b</th>\n",
              "      <th>AND</th>\n",
              "      <th>OR</th>\n",
              "      <th>XOR</th>\n",
              "      <th>NOR</th>\n",
              "      <th>NAND</th>\n",
              "      <th>XNOR</th>\n",
              "    </tr>\n",
              "  </thead>\n",
              "  <tbody>\n",
              "    <tr>\n",
              "      <th>0</th>\n",
              "      <td>False</td>\n",
              "      <td>False</td>\n",
              "      <td>False</td>\n",
              "      <td>False</td>\n",
              "      <td>False</td>\n",
              "      <td>True</td>\n",
              "      <td>True</td>\n",
              "      <td>True</td>\n",
              "    </tr>\n",
              "    <tr>\n",
              "      <th>1</th>\n",
              "      <td>False</td>\n",
              "      <td>True</td>\n",
              "      <td>False</td>\n",
              "      <td>True</td>\n",
              "      <td>True</td>\n",
              "      <td>False</td>\n",
              "      <td>True</td>\n",
              "      <td>False</td>\n",
              "    </tr>\n",
              "    <tr>\n",
              "      <th>2</th>\n",
              "      <td>True</td>\n",
              "      <td>False</td>\n",
              "      <td>False</td>\n",
              "      <td>True</td>\n",
              "      <td>True</td>\n",
              "      <td>False</td>\n",
              "      <td>True</td>\n",
              "      <td>False</td>\n",
              "    </tr>\n",
              "    <tr>\n",
              "      <th>3</th>\n",
              "      <td>True</td>\n",
              "      <td>True</td>\n",
              "      <td>True</td>\n",
              "      <td>True</td>\n",
              "      <td>False</td>\n",
              "      <td>False</td>\n",
              "      <td>False</td>\n",
              "      <td>True</td>\n",
              "    </tr>\n",
              "  </tbody>\n",
              "</table>\n",
              "</div>"
            ],
            "text/plain": [
              "       a      b    AND     OR    XOR    NOR   NAND   XNOR\n",
              "0  False  False  False  False  False   True   True   True\n",
              "1  False   True  False   True   True  False   True  False\n",
              "2   True  False  False   True   True  False   True  False\n",
              "3   True   True   True   True  False  False  False   True"
            ]
          },
          "metadata": {
            "tags": []
          },
          "execution_count": 139
        }
      ]
    },
    {
      "cell_type": "markdown",
      "metadata": {
        "id": "sTl5mRpJfVoK"
      },
      "source": [
        "# Redes Neurais\r\n",
        "\r\n",
        "algoritmos pré-determinados\r\n",
        "* sistemas de recomendação\r\n",
        "* buscas\r\n",
        "* grafos\r\n",
        "* ordenações\r\n",
        "\r\n",
        "sem algoritmos específicos\r\n",
        "* reconhecimento facial\r\n",
        "* processamento de linguagem natural (nlp)\r\n",
        "* bolsa de valores\r\n",
        "* tradução\r\n",
        "* tráfego\r\n",
        "* geração artificial (imagens, textos)\r\n",
        "\r\n",
        "muitos dados e problemas complexos\r\n",
        "* deep learning (aprendizado profundo)\r\n",
        "\r\n",
        "@ aula gravada em set/2017\r\n",
        "\r\n"
      ]
    },
    {
      "cell_type": "markdown",
      "metadata": {
        "id": "4Mu8uTvniFQP"
      },
      "source": [
        "Evolução histórica redes neurais\r\n",
        "\r\n",
        "* 1943 - McCulloch e Pitts\r\n",
        "* 1958 - Frank Rosenblatt (perceptron)\r\n",
        "\r\n",
        "\r\n",
        "entrada (x), peso (w), soma, ativação\r\n",
        "\r\n",
        "* pesos intensificam ou reduzem sinal entrada\r\n",
        "* peso positivo: sinapse excitadora\r\n",
        "* peso negativo: sinapse inibidora\r\n",
        "* pesos são sinapses\r\n",
        "* conhecimento rede: pesos\r\n",
        "* cost function (erro)\r\n",
        "* derivada (gradient descent)\r\n",
        " * vanishing gradient problem\r\n",
        " * batch gradient descent (calcula erro e atualiza para todos os registros)\r\n",
        " * stochastic gradient descent (calcula erro e atualiza para cada registro, previne mínimos locais)\r\n",
        " * mini batch gradient descent (nr registros escolhidos)\r\n",
        "* delta\r\n",
        "* backpropagation\r\n",
        "* learning rate (taxa de aprendizagem)\r\n",
        "* momentum (momento): escapar mínimos locais\r\n",
        "* bias (nós unitários extra)\r\n",
        "* Redes\r\n",
        " * convolucionais\r\n",
        " * concorrentes\r\n",
        " * Keras, Theano, TensorFlow\r\n",
        " * GPU (Nvidia)\r\n",
        " * Amazon, Microsoft\r\n",
        "\r\n",
        "\r\n",
        "1. Inicializar pesos\r\n",
        "2. Calcular saídas\r\n",
        "3. Calcular erro\r\n",
        "4. Atualizar pesos\r\n",
        "5. Verificar convergência\r\n",
        "\r\n",
        "Gradiente\r\n",
        "* algoritmos genéticos\r\n",
        "* simmulated anealing\r\n",
        "\r\n",
        "Neurônios camada oculta\r\n",
        "$$ neurônios = \\frac{entradas + saídas}{2} $$\r\n",
        "Em geral, mantém número de neurônios nas camadas ocultas\r\n",
        "* 2 camadas ocultas, bom começo\r\n",
        "* ReLu: oculta\r\n",
        "* Sigmoid: 1 neurônio (saída)\r\n",
        "* Softmax: +1 neurônio (saída)\r\n",
        "\r\n",
        "* AutoML\r\n",
        "* Cross validation\r\n",
        "\r\n"
      ]
    },
    {
      "cell_type": "markdown",
      "metadata": {
        "id": "OrunyQAA5nUD"
      },
      "source": [
        "1. Um neurônio artificial é composto por: entradas, pesos, função soma e função de ativação (V)\r\n",
        "2. A função do algoritmo backpropagation é realizar a atualização dos pesos em todas as arestas após o algoritmo o processo feed forward (V)\r\n",
        "3. A função sigmoide retorna valores entre 0 e 1 e também entre -1 e 1 (F)\r\n",
        "4. A unidade de bias (viés) adiciona um valor a mais somente na camada de saída (F)\r\n",
        "5. Considerando o perceptron de uma camada abaixo, qual é respectivamente o valor da aplicação da função soma e da função degrau (step function )? Função soma: (5*0,2) + (2*0,5) + (1*0,1) = 2,1 e funcão degrau = 1 pois o valor da soma é maior do que 1\r\n",
        "6. Considerando o resultado da aplicação da função soma = 2,1 para o perceptron abaixo, quais são os valores da aplicação das funções sigmoide , tangente hiperbólica , relu e linear ; respectivamente?\r\n",
        "\r\n",
        "\r\n",
        "\r\n",
        "\r\n",
        "\r\n"
      ]
    },
    {
      "cell_type": "code",
      "metadata": {
        "colab": {
          "base_uri": "https://localhost:8080/"
        },
        "id": "2iyuxLXd5-ib",
        "outputId": "75b4b4c4-b3ce-45f3-ff83-b5facaf79ba5"
      },
      "source": [
        "step = lambda x: 1 if x>=1 else 0\r\n",
        "x = np.array([5, 2, 1])\r\n",
        "w = np.array([0.2,0.5,0.1])\r\n",
        "sum_val = sum(x*w)\r\n",
        "print(sum_val)\r\n",
        "print(step(sum_val))"
      ],
      "execution_count": 249,
      "outputs": [
        {
          "output_type": "stream",
          "text": [
            "2.1\n",
            "1\n"
          ],
          "name": "stdout"
        }
      ]
    },
    {
      "cell_type": "code",
      "metadata": {
        "colab": {
          "base_uri": "https://localhost:8080/"
        },
        "id": "BYjBRAnH6owU",
        "outputId": "63f50686-2624-4220-90b4-326a56be7a56"
      },
      "source": [
        "sigmoid = lambda x: 1 / (1 + np.exp(-x))\r\n",
        "print(sigmoid(sum_val))"
      ],
      "execution_count": 250,
      "outputs": [
        {
          "output_type": "stream",
          "text": [
            "0.8909031788043871\n"
          ],
          "name": "stdout"
        }
      ]
    },
    {
      "cell_type": "code",
      "metadata": {
        "colab": {
          "base_uri": "https://localhost:8080/"
        },
        "id": "zfe1godU6750",
        "outputId": "e1f0e29c-c22e-43fb-d139-66a8196a1f8a"
      },
      "source": [
        "tanh = lambda x: (np.exp(x)-np.exp(-x))/(np.exp(x)+np.exp(-x))\r\n",
        "print(tanh(sum_val))"
      ],
      "execution_count": 251,
      "outputs": [
        {
          "output_type": "stream",
          "text": [
            "0.9704519366134541\n"
          ],
          "name": "stdout"
        }
      ]
    },
    {
      "cell_type": "code",
      "metadata": {
        "colab": {
          "base_uri": "https://localhost:8080/"
        },
        "id": "Md-8ONhQ7GZ9",
        "outputId": "e37fb603-91cc-4e38-c47d-e094a50abf35"
      },
      "source": [
        "relu =  lambda x: max(0,x)\r\n",
        "print(relu(sum_val))"
      ],
      "execution_count": 252,
      "outputs": [
        {
          "output_type": "stream",
          "text": [
            "2.1\n"
          ],
          "name": "stdout"
        }
      ]
    },
    {
      "cell_type": "code",
      "metadata": {
        "colab": {
          "base_uri": "https://localhost:8080/"
        },
        "id": "AW9RbThY7wir",
        "outputId": "eee67851-a13f-43e1-a30b-c197e1af88c1"
      },
      "source": [
        "linear = lambda x: x\r\n",
        "print(linear(sum_val))"
      ],
      "execution_count": 253,
      "outputs": [
        {
          "output_type": "stream",
          "text": [
            "2.1\n"
          ],
          "name": "stdout"
        }
      ]
    },
    {
      "cell_type": "markdown",
      "metadata": {
        "id": "7o1AMuPf78HX"
      },
      "source": [
        "7. A tabela abaixo apresenta na primeira coluna a classe esperada e na segunda coluna os resultados que foram calculados pela rede neural. Com base nesses dados, indique os valores do mean absolute error , mean squared error , root mean squared error e a taxa de acerto (%) da rede neural; respectivamente\r\n",
        "\r\n"
      ]
    },
    {
      "cell_type": "code",
      "metadata": {
        "colab": {
          "base_uri": "https://localhost:8080/"
        },
        "id": "FC2s-KTe7_rc",
        "outputId": "62c46d58-6078-4ff7-81fd-2954589e1608"
      },
      "source": [
        "actual = np.array([1,0,1,0])\r\n",
        "pred = np.array([0.3,0.02,0.89,0.32])\r\n",
        "# pred[pred>=0.5] = 1\r\n",
        "# pred[pred<0.5] = 0\r\n",
        "errors = actual - pred\r\n",
        "\r\n",
        "mean_absolute_error = np.mean(abs(errors))\r\n",
        "mean_squared_error = np.mean(errors**2)\r\n",
        "rmse = np.sqrt(np.mean(errors**2))\r\n",
        "\r\n",
        "print(mean_absolute_error,mean_squared_error,rmse)"
      ],
      "execution_count": 263,
      "outputs": [
        {
          "output_type": "stream",
          "text": [
            "0.2875 0.151225 0.3888765871070152\n"
          ],
          "name": "stdout"
        }
      ]
    },
    {
      "cell_type": "code",
      "metadata": {
        "colab": {
          "base_uri": "https://localhost:8080/"
        },
        "id": "4F40XfQ09pOe",
        "outputId": "79e9a029-4686-401f-a5f9-6e06fa408abe"
      },
      "source": [
        "errors"
      ],
      "execution_count": 261,
      "outputs": [
        {
          "output_type": "execute_result",
          "data": {
            "text/plain": [
              "array([0., 0., 1., 0.])"
            ]
          },
          "metadata": {
            "tags": []
          },
          "execution_count": 261
        }
      ]
    },
    {
      "cell_type": "code",
      "metadata": {
        "colab": {
          "base_uri": "https://localhost:8080/"
        },
        "id": "jheb8xmg8zEK",
        "outputId": "7c10326d-84fc-4cfb-d958-e156de675132"
      },
      "source": [
        "(0.3+0.02+0.89+0.32)/4"
      ],
      "execution_count": 258,
      "outputs": [
        {
          "output_type": "execute_result",
          "data": {
            "text/plain": [
              "0.3825"
            ]
          },
          "metadata": {
            "tags": []
          },
          "execution_count": 258
        }
      ]
    },
    {
      "cell_type": "markdown",
      "metadata": {
        "id": "0Lmpy4zJ-T5S"
      },
      "source": [
        "8. Considere as afirmações abaixo:\r\n",
        "\r\n",
        "I. Uma rede neural com somente uma camada (perceptron de uma camada) com o uso da função degrau (step function) é utilizada para problemas linearmente separáveis (V)\r\n",
        "\r\n",
        "II. Nas redes neurais do tipo feed forward, não é necessário utilizar o algoritmo backpropagation para atualização dos pesos (F)\r\n",
        "\r\n",
        "III. No algoritmo de descida do gradiente estocástico, os pesos são atualizados quando o erro é calculado para cada um dos registros (V)\r\n",
        "\r\n",
        "IV. O cálculo do parâmetro delta é usado para indicar a direção do gradiente para a atualização dos pesos (V)\r\n",
        "\r\n",
        "V. O número de épocas de uma rede neural indica quantos registros serão utilizados para o cálculo do erro antes da atualização dos pesos (F)\r\n",
        "\r\n",
        "9. Considere as afirmações abaixo sobre as funções de ativação:\r\n",
        "\r\n",
        "I. Uma função de ativação é utilizada para transmitir a informação de uma camada para outra ou para obter a resposta final na rede neural (V)\r\n",
        "\r\n",
        "II. A função degrau (step function ) pode ser utilizada para problemas não linearmente separáveis (F)\r\n",
        "\r\n",
        "III. A função sigmoide não é aplicável para problemas de classificação, principalmente quando existem duas classes a serem previstas (F)\r\n",
        "\r\n",
        "IV. A função softmax deve ser utilizada em problemas de classificação nos quais várias classes estão presentes (V)\r\n",
        "\r\n",
        "V. A função relu atribui o valor zero quando o parâmetro recebido é negativo (V)"
      ]
    },
    {
      "cell_type": "markdown",
      "metadata": {
        "id": "eMQAefy0jOsn"
      },
      "source": [
        "função ativação\r\n",
        "* função degrau (step function)"
      ]
    },
    {
      "cell_type": "code",
      "metadata": {
        "id": "F7qk6TNex5o0"
      },
      "source": [
        "step = lambda x: 1 if x>=1 else 0"
      ],
      "execution_count": 178,
      "outputs": []
    },
    {
      "cell_type": "markdown",
      "metadata": {
        "id": "Fzpq7-OJkq4D"
      },
      "source": [
        "Perceptron de uma camada"
      ]
    },
    {
      "cell_type": "code",
      "metadata": {
        "colab": {
          "base_uri": "https://localhost:8080/"
        },
        "id": "nJyvJ9dqOEtN",
        "outputId": "4b5b8085-6cdf-4ed8-965b-e43ba3a40f14"
      },
      "source": [
        "x = np.array([1, 7, 5])\r\n",
        "w = np.array([0.8,0.1,0])\r\n",
        "x*w\r\n",
        "sum_val = sum(x*w)\r\n",
        "step(sum_val)"
      ],
      "execution_count": 179,
      "outputs": [
        {
          "output_type": "execute_result",
          "data": {
            "text/plain": [
              "1"
            ]
          },
          "metadata": {
            "tags": []
          },
          "execution_count": 179
        }
      ]
    },
    {
      "cell_type": "code",
      "metadata": {
        "colab": {
          "base_uri": "https://localhost:8080/",
          "height": 468
        },
        "id": "Y6gNL7WyjlQs",
        "outputId": "c44e1aab-475d-4a63-80fb-24567e72fae3"
      },
      "source": [
        "df = pd.read_csv('risco_credito.csv')\r\n",
        "df"
      ],
      "execution_count": 145,
      "outputs": [
        {
          "output_type": "execute_result",
          "data": {
            "text/html": [
              "<div>\n",
              "<style scoped>\n",
              "    .dataframe tbody tr th:only-of-type {\n",
              "        vertical-align: middle;\n",
              "    }\n",
              "\n",
              "    .dataframe tbody tr th {\n",
              "        vertical-align: top;\n",
              "    }\n",
              "\n",
              "    .dataframe thead th {\n",
              "        text-align: right;\n",
              "    }\n",
              "</style>\n",
              "<table border=\"1\" class=\"dataframe\">\n",
              "  <thead>\n",
              "    <tr style=\"text-align: right;\">\n",
              "      <th></th>\n",
              "      <th>historia</th>\n",
              "      <th>divida</th>\n",
              "      <th>garantias</th>\n",
              "      <th>renda</th>\n",
              "      <th>c#risco</th>\n",
              "    </tr>\n",
              "  </thead>\n",
              "  <tbody>\n",
              "    <tr>\n",
              "      <th>0</th>\n",
              "      <td>ruim</td>\n",
              "      <td>alta</td>\n",
              "      <td>nenhuma</td>\n",
              "      <td>0_15</td>\n",
              "      <td>alto</td>\n",
              "    </tr>\n",
              "    <tr>\n",
              "      <th>1</th>\n",
              "      <td>desconhecida</td>\n",
              "      <td>alta</td>\n",
              "      <td>nenhuma</td>\n",
              "      <td>15_35</td>\n",
              "      <td>alto</td>\n",
              "    </tr>\n",
              "    <tr>\n",
              "      <th>2</th>\n",
              "      <td>desconhecida</td>\n",
              "      <td>baixa</td>\n",
              "      <td>nenhuma</td>\n",
              "      <td>15_35</td>\n",
              "      <td>moderado</td>\n",
              "    </tr>\n",
              "    <tr>\n",
              "      <th>3</th>\n",
              "      <td>desconhecida</td>\n",
              "      <td>baixa</td>\n",
              "      <td>nenhuma</td>\n",
              "      <td>acima_35</td>\n",
              "      <td>alto</td>\n",
              "    </tr>\n",
              "    <tr>\n",
              "      <th>4</th>\n",
              "      <td>desconhecida</td>\n",
              "      <td>baixa</td>\n",
              "      <td>nenhuma</td>\n",
              "      <td>acima_35</td>\n",
              "      <td>baixo</td>\n",
              "    </tr>\n",
              "    <tr>\n",
              "      <th>5</th>\n",
              "      <td>desconhecida</td>\n",
              "      <td>baixa</td>\n",
              "      <td>adequada</td>\n",
              "      <td>acima_35</td>\n",
              "      <td>baixo</td>\n",
              "    </tr>\n",
              "    <tr>\n",
              "      <th>6</th>\n",
              "      <td>ruim</td>\n",
              "      <td>baixa</td>\n",
              "      <td>nenhuma</td>\n",
              "      <td>0_15</td>\n",
              "      <td>alto</td>\n",
              "    </tr>\n",
              "    <tr>\n",
              "      <th>7</th>\n",
              "      <td>ruim</td>\n",
              "      <td>baixa</td>\n",
              "      <td>adequada</td>\n",
              "      <td>acima_35</td>\n",
              "      <td>moderado</td>\n",
              "    </tr>\n",
              "    <tr>\n",
              "      <th>8</th>\n",
              "      <td>boa</td>\n",
              "      <td>baixa</td>\n",
              "      <td>nenhuma</td>\n",
              "      <td>acima_35</td>\n",
              "      <td>baixo</td>\n",
              "    </tr>\n",
              "    <tr>\n",
              "      <th>9</th>\n",
              "      <td>boa</td>\n",
              "      <td>alta</td>\n",
              "      <td>adequada</td>\n",
              "      <td>acima_35</td>\n",
              "      <td>baixo</td>\n",
              "    </tr>\n",
              "    <tr>\n",
              "      <th>10</th>\n",
              "      <td>boa</td>\n",
              "      <td>alta</td>\n",
              "      <td>nenhuma</td>\n",
              "      <td>0_15</td>\n",
              "      <td>alto</td>\n",
              "    </tr>\n",
              "    <tr>\n",
              "      <th>11</th>\n",
              "      <td>boa</td>\n",
              "      <td>alta</td>\n",
              "      <td>nenhuma</td>\n",
              "      <td>15_35</td>\n",
              "      <td>moderado</td>\n",
              "    </tr>\n",
              "    <tr>\n",
              "      <th>12</th>\n",
              "      <td>boa</td>\n",
              "      <td>alta</td>\n",
              "      <td>nenhuma</td>\n",
              "      <td>acima_35</td>\n",
              "      <td>baixo</td>\n",
              "    </tr>\n",
              "    <tr>\n",
              "      <th>13</th>\n",
              "      <td>ruim</td>\n",
              "      <td>alta</td>\n",
              "      <td>nenhuma</td>\n",
              "      <td>15_35</td>\n",
              "      <td>alto</td>\n",
              "    </tr>\n",
              "  </tbody>\n",
              "</table>\n",
              "</div>"
            ],
            "text/plain": [
              "        historia divida garantias     renda   c#risco\n",
              "0           ruim   alta   nenhuma      0_15      alto\n",
              "1   desconhecida   alta   nenhuma     15_35      alto\n",
              "2   desconhecida  baixa   nenhuma     15_35  moderado\n",
              "3   desconhecida  baixa   nenhuma  acima_35      alto\n",
              "4   desconhecida  baixa   nenhuma  acima_35     baixo\n",
              "5   desconhecida  baixa  adequada  acima_35     baixo\n",
              "6           ruim  baixa   nenhuma      0_15      alto\n",
              "7           ruim  baixa  adequada  acima_35  moderado\n",
              "8            boa  baixa   nenhuma  acima_35     baixo\n",
              "9            boa   alta  adequada  acima_35     baixo\n",
              "10           boa   alta   nenhuma      0_15      alto\n",
              "11           boa   alta   nenhuma     15_35  moderado\n",
              "12           boa   alta   nenhuma  acima_35     baixo\n",
              "13          ruim   alta   nenhuma     15_35      alto"
            ]
          },
          "metadata": {
            "tags": []
          },
          "execution_count": 145
        }
      ]
    },
    {
      "cell_type": "code",
      "metadata": {
        "id": "806QrP66llqB"
      },
      "source": [
        "lst_risco_credito_teste = [\r\n",
        "        {\"historia\":\"ruim\",\"divida\":\"alta\",\"garantias\":\"adequada\",\"renda\":\"0_15\"},\r\n",
        "        {\"historia\":\"desconhecida\",\"divida\":\"alta\",\"garantias\":\"adequada\",\"renda\":\"0_15\"},\r\n",
        "        {\"historia\":\"desconhecida\",\"divida\":\"baixa\",\"garantias\":\"nenhuma\",\"renda\":\"acima_35\"},\r\n",
        "        {\"historia\":\"boa\",\"divida\":\"alta\",\"garantias\":\"adequada\",\"renda\":\"15_35\"}\r\n",
        "]"
      ],
      "execution_count": 149,
      "outputs": []
    },
    {
      "cell_type": "code",
      "metadata": {
        "colab": {
          "base_uri": "https://localhost:8080/",
          "height": 168
        },
        "id": "PfspR-vZmN98",
        "outputId": "5ca42273-cf95-421f-b5ba-b95b5c4969c9"
      },
      "source": [
        "df_teste = pd.DataFrame(lst_risco_credito_teste)\r\n",
        "df_teste"
      ],
      "execution_count": 150,
      "outputs": [
        {
          "output_type": "execute_result",
          "data": {
            "text/html": [
              "<div>\n",
              "<style scoped>\n",
              "    .dataframe tbody tr th:only-of-type {\n",
              "        vertical-align: middle;\n",
              "    }\n",
              "\n",
              "    .dataframe tbody tr th {\n",
              "        vertical-align: top;\n",
              "    }\n",
              "\n",
              "    .dataframe thead th {\n",
              "        text-align: right;\n",
              "    }\n",
              "</style>\n",
              "<table border=\"1\" class=\"dataframe\">\n",
              "  <thead>\n",
              "    <tr style=\"text-align: right;\">\n",
              "      <th></th>\n",
              "      <th>historia</th>\n",
              "      <th>divida</th>\n",
              "      <th>garantias</th>\n",
              "      <th>renda</th>\n",
              "    </tr>\n",
              "  </thead>\n",
              "  <tbody>\n",
              "    <tr>\n",
              "      <th>0</th>\n",
              "      <td>ruim</td>\n",
              "      <td>alta</td>\n",
              "      <td>adequada</td>\n",
              "      <td>0_15</td>\n",
              "    </tr>\n",
              "    <tr>\n",
              "      <th>1</th>\n",
              "      <td>desconhecida</td>\n",
              "      <td>alta</td>\n",
              "      <td>adequada</td>\n",
              "      <td>0_15</td>\n",
              "    </tr>\n",
              "    <tr>\n",
              "      <th>2</th>\n",
              "      <td>desconhecida</td>\n",
              "      <td>baixa</td>\n",
              "      <td>nenhuma</td>\n",
              "      <td>acima_35</td>\n",
              "    </tr>\n",
              "    <tr>\n",
              "      <th>3</th>\n",
              "      <td>boa</td>\n",
              "      <td>alta</td>\n",
              "      <td>adequada</td>\n",
              "      <td>15_35</td>\n",
              "    </tr>\n",
              "  </tbody>\n",
              "</table>\n",
              "</div>"
            ],
            "text/plain": [
              "       historia divida garantias     renda\n",
              "0          ruim   alta  adequada      0_15\n",
              "1  desconhecida   alta  adequada      0_15\n",
              "2  desconhecida  baixa   nenhuma  acima_35\n",
              "3           boa   alta  adequada     15_35"
            ]
          },
          "metadata": {
            "tags": []
          },
          "execution_count": 150
        }
      ]
    },
    {
      "cell_type": "code",
      "metadata": {
        "colab": {
          "base_uri": "https://localhost:8080/"
        },
        "id": "avV8jTNmn13x",
        "outputId": "3731da2c-f764-412e-9980-1ff4b7bc6d26"
      },
      "source": [
        "x1 = np.array([0,1,0,1])\r\n",
        "x2 = np.array([0,0,1,1])\r\n",
        "w = np.array([0,0])\r\n",
        "lr = 0.1 # learning rate\r\n",
        "\r\n",
        "# AND\r\n",
        "y_true = np.array([0,0,0,1])\r\n",
        "\r\n",
        "def get_y_pred(w,x1,x2):\r\n",
        "    y_pred = np.zeros(4)\r\n",
        "    for idx in range(len(x1)):\r\n",
        "        y_pred[idx] = step(w[0] * x1[idx] + w[1] * x2[idx])\r\n",
        "    return y_pred\r\n",
        "\r\n",
        "y_pred = get_y_pred(w,x1,x2)\r\n",
        "erro = y_true - y_pred\r\n",
        "\r\n",
        "i = 0\r\n",
        "while max(np.abs(erro)) > 1e-3:\r\n",
        "    print(i, w)\r\n",
        "    idx = np.argmax(np.abs(erro))\r\n",
        "    w = np.array([\r\n",
        "        w[0] + lr * x1[idx] * erro[idx],\r\n",
        "        w[1] + lr * x2[idx] * erro[idx]\r\n",
        "    ])\r\n",
        "    y_pred = get_y_pred(w,x1,x2)\r\n",
        "    erro = y_true - y_pred\r\n",
        "    \r\n",
        "    i+=1\r\n",
        "w"
      ],
      "execution_count": 180,
      "outputs": [
        {
          "output_type": "stream",
          "text": [
            "0 [0 0]\n",
            "1 [0.1 0.1]\n",
            "2 [0.2 0.2]\n",
            "3 [0.3 0.3]\n",
            "4 [0.4 0.4]\n"
          ],
          "name": "stdout"
        },
        {
          "output_type": "execute_result",
          "data": {
            "text/plain": [
              "array([0.5, 0.5])"
            ]
          },
          "metadata": {
            "tags": []
          },
          "execution_count": 180
        }
      ]
    },
    {
      "cell_type": "markdown",
      "metadata": {
        "id": "ri2TARFxwoOK"
      },
      "source": [
        "Multilayer perceptron (multicamada)\r\n",
        "* camada oculta/escondida (hidden layer)\r\n",
        "* feed forward\r\n",
        " * entrada, processa, resposta"
      ]
    },
    {
      "cell_type": "code",
      "metadata": {
        "id": "sc2Iq5KzyEH9"
      },
      "source": [
        "step = lambda x: 1 if x>=1 else 0\r\n",
        "\r\n",
        "# def step(x):\r\n",
        "#     return 1 if x>=1 else 0"
      ],
      "execution_count": 185,
      "outputs": []
    },
    {
      "cell_type": "code",
      "metadata": {
        "colab": {
          "base_uri": "https://localhost:8080/"
        },
        "id": "jdPC8OP8rING",
        "outputId": "83435601-9b5f-4034-b708-2c2bdb5c0ba9"
      },
      "source": [
        "sigmoid = lambda x: 1 / (1 + np.exp(-x))\r\n",
        "sigmoid(50)"
      ],
      "execution_count": 177,
      "outputs": [
        {
          "output_type": "execute_result",
          "data": {
            "text/plain": [
              "1.0"
            ]
          },
          "metadata": {
            "tags": []
          },
          "execution_count": 177
        }
      ]
    },
    {
      "cell_type": "markdown",
      "metadata": {
        "id": "Go1Wt8Q3yH_5"
      },
      "source": [
        "### Sigmoide\r\n",
        "$$ \\mathrm{sigm}(y) = \\frac{1}{1+e^{-y}} $$"
      ]
    },
    {
      "cell_type": "markdown",
      "metadata": {
        "id": "YRMtLLjXIpqp"
      },
      "source": [
        "https://math.stackexchange.com/questions/78575/derivative-of-sigmoid-function-sigma-x-frac11e-x\r\n",
        "\r\n",
        "\r\n",
        "\\begin{align}\r\n",
        "\\dfrac{d}{dx} \\sigma(x) &= \\dfrac{d}{dx} \\left[ \\dfrac{1}{1 + e^{-x}} \\right] \\\\\r\n",
        "&= \\dfrac{d}{dx} \\left( 1 + \\mathrm{e}^{-x} \\right)^{-1} \\\\\r\n",
        "&= -(1 + e^{-x})^{-2}(-e^{-x}) \\\\\r\n",
        "&= \\dfrac{e^{-x}}{\\left(1 + e^{-x}\\right)^2} \\\\\r\n",
        "&= \\dfrac{1}{1 + e^{-x}\\ } \\cdot \\dfrac{e^{-x}}{1 + e^{-x}}  \\\\\r\n",
        "&= \\dfrac{1}{1 + e^{-x}\\ } \\cdot \\dfrac{(1 + e^{-x}) - 1}{1 + e^{-x}}  \\\\\r\n",
        "&= \\dfrac{1}{1 + e^{-x}\\ } \\cdot \\left( \\dfrac{1 + e^{-x}}{1 + e^{-x}} - \\dfrac{1}{1 + e^{-x}} \\right) \\\\\r\n",
        "&= \\dfrac{1}{1 + e^{-x}\\ } \\cdot \\left( 1 - \\dfrac{1}{1 + e^{-x}} \\right) \\\\\r\n",
        "&= \\sigma(x) \\cdot (1 - \\sigma(x))\r\n",
        "\\end{align}"
      ]
    },
    {
      "cell_type": "code",
      "metadata": {
        "colab": {
          "base_uri": "https://localhost:8080/",
          "height": 265
        },
        "id": "8WcW17BkyIAA",
        "outputId": "299f63e5-266a-420b-dff8-9b99f1347f87"
      },
      "source": [
        "import numpy as np\r\n",
        "import matplotlib.pyplot as plt\r\n",
        "\r\n",
        "sigmoid = lambda x: 1 / (1 + np.exp(-x))\r\n",
        "y = np.arange(-5,5,0.01)\r\n",
        "p = sigmoid(y)\r\n",
        "plt.plot(y, p)\r\n",
        "plt.show()"
      ],
      "execution_count": 194,
      "outputs": [
        {
          "output_type": "display_data",
          "data": {
            "image/png": "[encoded data removed]",
            "text/plain": [
              "<Figure size 432x288 with 1 Axes>"
            ]
          },
          "metadata": {
            "tags": [],
            "needs_background": "light"
          }
        }
      ]
    },
    {
      "cell_type": "code",
      "metadata": {
        "colab": {
          "base_uri": "https://localhost:8080/",
          "height": 265
        },
        "id": "gHRLOZpMxpBl",
        "outputId": "f6e571f8-6f85-43e6-eb7a-bd2372be233a"
      },
      "source": [
        "for idx in range(len(y)):\r\n",
        "    p[idx] = step(y[idx])\r\n",
        "plt.plot(y, p)\r\n",
        "plt.show()"
      ],
      "execution_count": 196,
      "outputs": [
        {
          "output_type": "display_data",
          "data": {
            "image/png": "[encoded data removed]",
            "text/plain": [
              "<Figure size 432x288 with 1 Axes>"
            ]
          },
          "metadata": {
            "tags": [],
            "needs_background": "light"
          }
        }
      ]
    },
    {
      "cell_type": "markdown",
      "metadata": {
        "id": "de-YaeKv2X-w"
      },
      "source": [
        "$$ \\tanh(y) = \\frac{e^{y}-e^{-y}}{e^{y}+e^{-y}} $$"
      ]
    },
    {
      "cell_type": "code",
      "metadata": {
        "id": "jvOQeCrVyPuH"
      },
      "source": [
        "tanh = lambda x: (np.exp(x)-np.exp(-x))/(np.exp(x)+np.exp(-x))\r\n",
        "#  np.tanh(y)"
      ],
      "execution_count": 199,
      "outputs": []
    },
    {
      "cell_type": "code",
      "metadata": {
        "colab": {
          "base_uri": "https://localhost:8080/",
          "height": 265
        },
        "id": "vTnN1uxbzEoV",
        "outputId": "79096368-e3c2-4886-ed83-064fe9982aa8"
      },
      "source": [
        "p = tanh(y)\r\n",
        "plt.plot(y, p)\r\n",
        "plt.show()"
      ],
      "execution_count": 201,
      "outputs": [
        {
          "output_type": "display_data",
          "data": {
            "image/png": "[encoded data removed]",
            "text/plain": [
              "<Figure size 432x288 with 1 Axes>"
            ]
          },
          "metadata": {
            "tags": [],
            "needs_background": "light"
          }
        }
      ]
    },
    {
      "cell_type": "code",
      "metadata": {
        "id": "ugRZIaDS149N"
      },
      "source": [
        "x1 = np.array([0,1,0,1])\r\n",
        "x2 = np.array([0,0,1,1])\r\n",
        "w = np.array([0,0])\r\n",
        "lr = 0.1 # learning rate\r\n",
        "\r\n",
        "# XOR\r\n",
        "y_true = np.array([0,1,1,0])\r\n",
        "\r\n",
        "def get_y_pred(w,x1,x2):\r\n",
        "    y_pred = np.zeros(4)\r\n",
        "    for idx in range(len(x1)):\r\n",
        "        y_pred[idx] = step(w[0] * x1[idx] + w[1] * x2[idx])\r\n",
        "    return y_pred\r\n",
        "\r\n",
        "y_pred = get_y_pred(w,x1,x2)\r\n",
        "erro = y_true - y_pred\r\n",
        "\r\n",
        "i = 0\r\n",
        "while max(np.abs(erro)) > 1e-3:\r\n",
        "    print(i, w)\r\n",
        "    idx = np.argmax(np.abs(erro))\r\n",
        "    w = np.array([\r\n",
        "        w[0] + lr * x1[idx] * erro[idx],\r\n",
        "        w[1] + lr * x2[idx] * erro[idx]\r\n",
        "    ])\r\n",
        "    y_pred = get_y_pred(w,x1,x2)\r\n",
        "    erro = y_true - y_pred\r\n",
        "    \r\n",
        "    i+=1\r\n",
        "w"
      ],
      "execution_count": null,
      "outputs": []
    },
    {
      "cell_type": "markdown",
      "metadata": {
        "id": "L7TGbe0eGPHZ"
      },
      "source": [
        "Backpropagation\r\n",
        "\r\n",
        "$$ w_{n+1} = (w_{n} * momentum) + entrada * \\delta * learningRate $$"
      ]
    },
    {
      "cell_type": "code",
      "metadata": {
        "colab": {
          "base_uri": "https://localhost:8080/"
        },
        "id": "lKD3XCFrGEX_",
        "outputId": "401afbd6-4892-49e6-a00d-6b71d4b9e064"
      },
      "source": [
        "#source: https://github.com/jldbc/numpy_neural_net/blob/master/three_layer_network.py\r\n",
        "\r\n",
        "import numpy as np \r\n",
        "import math\r\n",
        "from sklearn import datasets\r\n",
        "\r\n",
        "def relu(X):\r\n",
        "\treturn np.maximum(X, 0)\r\n",
        "\r\n",
        "def relu_derivative(X):\r\n",
        "\treturn 1. * (X > 0)\r\n",
        "\r\n",
        "def build_model(X,hidden_nodes,output_dim=2):\r\n",
        "    model = {}\r\n",
        "    input_dim = X.shape[1]\r\n",
        "    model['W1'] = np.random.randn(input_dim, hidden_nodes) / np.sqrt(input_dim)\r\n",
        "    model['b1'] = np.zeros((1, hidden_nodes))\r\n",
        "    model['W2'] = np.random.randn(hidden_nodes, output_dim) / np.sqrt(hidden_nodes)\r\n",
        "    model['b2'] = np.zeros((1, output_dim))\r\n",
        "    return model\r\n",
        "\r\n",
        "def feed_forward(model, x):\r\n",
        "    W1, b1, W2, b2 = model['W1'], model['b1'], model['W2'], model['b2']\r\n",
        "    # Forward propagation\r\n",
        "    z1 = x.dot(W1) + b1\r\n",
        "    #a1 = np.tanh(z1)\r\n",
        "    a1 = relu(z1)\r\n",
        "    z2 = a1.dot(W2) + b2\r\n",
        "    exp_scores = np.exp(z2)\r\n",
        "    out = exp_scores / np.sum(exp_scores, axis=1, keepdims=True)\r\n",
        "    return z1, a1, z2, out\r\n",
        "\r\n",
        "def calculate_loss(model,X,y,reg_lambda):\r\n",
        "    num_examples = X.shape[0]\r\n",
        "    W1, b1, W2, b2 = model['W1'], model['b1'], model['W2'], model['b2']\r\n",
        "    # Forward propagation to calculate our predictions\r\n",
        "    z1, a1, z2, out = feed_forward(model, X)\r\n",
        "    probs = out / np.sum(out, axis=1, keepdims=True)\r\n",
        "    # Calculating the loss\r\n",
        "    corect_logprobs = -np.log(probs[range(num_examples), y])\r\n",
        "    loss = np.sum(corect_logprobs)\r\n",
        "    # Add regulatization term to loss (optional)\r\n",
        "    loss += reg_lambda/2 * (np.sum(np.square(W1)) + np.sum(np.square(W2)))\r\n",
        "    return 1./num_examples * loss\r\n",
        "\r\n",
        "def backprop(X,y,model,z1,a1,z2,output,reg_lambda):\r\n",
        "    delta3 = output\r\n",
        "    delta3[range(X.shape[0]), y] -= 1  #yhat - y\r\n",
        "    dW2 = (a1.T).dot(delta3)\r\n",
        "    db2 = np.sum(delta3, axis=0, keepdims=True)\r\n",
        "    #delta2 = delta3.dot(model['W2'].T) * (1 - np.power(a1, 2)) #if tanh\r\n",
        "    delta2 = delta3.dot(model['W2'].T) * relu_derivative(a1) #if ReLU\r\n",
        "    dW1 = np.dot(X.T, delta2)\r\n",
        "    db1 = np.sum(delta2, axis=0)\r\n",
        "    # Add regularization terms\r\n",
        "    dW2 += reg_lambda * model['W2']\r\n",
        "    dW1 += reg_lambda * model['W1']\r\n",
        "    return dW1, dW2, db1, db2\r\n",
        "\r\n",
        "\r\n",
        "def train(model, X, y, num_passes=10000, reg_lambda = .1, learning_rate=0.1):\r\n",
        "    # Batch gradient descent\r\n",
        "    done = False\r\n",
        "    previous_loss = float('inf')\r\n",
        "    i = 0\r\n",
        "    losses = []\r\n",
        "    while done == False:  #comment out while performance testing\r\n",
        "    #while i < 1500:\r\n",
        "    \t#feed forward\r\n",
        "        z1,a1,z2,output = feed_forward(model, X)\r\n",
        "        #backpropagation\r\n",
        "        dW1, dW2, db1, db2 = backprop(X,y,model,z1,a1,z2,output,reg_lambda)\r\n",
        "        #update weights and biases\r\n",
        "        model['W1'] -= learning_rate * dW1\r\n",
        "        model['b1'] -= learning_rate * db1\r\n",
        "        model['W2'] -= learning_rate * dW2\r\n",
        "        model['b2'] -= learning_rate * db2\r\n",
        "        if i % 1000 == 0:\r\n",
        "        \tloss = calculate_loss(model, X, y, reg_lambda)\r\n",
        "        \tlosses.append(loss)\r\n",
        "        \tprint(\"Loss after iteration %i: %f\" %(i, loss))  #uncomment once testing finished, return mod val to 1000\r\n",
        "        \tif (previous_loss-loss)/previous_loss < 0.01:\r\n",
        "        \t\tdone = True\r\n",
        "        \t\t#print i\r\n",
        "        \tprevious_loss = loss\r\n",
        "        i += 1\r\n",
        "    return model, losses\r\n",
        "\r\n",
        "def main():\r\n",
        "\t#toy dataset\r\n",
        "\tX, y = datasets.make_moons(16, noise=0.10)\r\n",
        "\tnum_examples = len(X) # training set size\r\n",
        "\tnn_input_dim = 2 # input layer dimensionality\r\n",
        "\tnn_output_dim = 2 # output layer dimensionality \r\n",
        "\tlearning_rate = 0.01 # learning rate for gradient descent\r\n",
        "\treg_lambda = 0.01 # regularization strength\r\n",
        "\tmodel = build_model(X,20,2)\r\n",
        "\tmodel, losses = train(model,X, y, reg_lambda=reg_lambda, learning_rate=learning_rate)\r\n",
        "\toutput = feed_forward(model, X)\r\n",
        "\tpreds = np.argmax(output[3], axis=1)\r\n",
        " \r\n",
        "main()"
      ],
      "execution_count": 205,
      "outputs": [
        {
          "output_type": "stream",
          "text": [
            "Loss after iteration 0: 0.623039\n",
            "Loss after iteration 1000: 0.072886\n"
          ],
          "name": "stdout"
        },
        {
          "output_type": "stream",
          "text": [
            "/usr/local/lib/python3.6/dist-packages/ipykernel_launcher.py:82: RuntimeWarning: invalid value encountered in double_scalars\n"
          ],
          "name": "stderr"
        },
        {
          "output_type": "stream",
          "text": [
            "Loss after iteration 2000: 0.039238\n",
            "Loss after iteration 3000: 0.036192\n",
            "Loss after iteration 4000: 0.035190\n",
            "Loss after iteration 5000: 0.034694\n",
            "Loss after iteration 6000: 0.034384\n"
          ],
          "name": "stdout"
        }
      ]
    },
    {
      "cell_type": "code",
      "metadata": {
        "id": "PLTr8lIhGEKw"
      },
      "source": [
        "# https://medium.com/engineer-quant/multilayer-perceptron-4453615c4337\r\n",
        "\r\n",
        "import numpy as np\r\n",
        "class Perceptron(object):\r\n",
        "    def __init__(self, learn, itr):\r\n",
        "        \"\"\"\r\n",
        "        :param learn: learning rate\r\n",
        "        :type learn: float\r\n",
        "        :param itr: number of iterations\r\n",
        "        :type itr: integer\r\n",
        "        \"\"\"\r\n",
        "        self.learn = learn\r\n",
        "        self.itr = itr\r\n",
        "\r\n",
        "    def train(self, x, y):\r\n",
        "        \"\"\"\r\n",
        "        Train the weights with data set x for outputs y\r\n",
        "        :param x: training data features\r\n",
        "        :type x: array (matrix) of n-samples, n-features\r\n",
        "        :param y: training data outputs\r\n",
        "        :type y: array of n-samples\r\n",
        "        :return: weights (w) and errors for each iteration\r\n",
        "        \"\"\"\r\n",
        "        self.w = np.zeros(1 + x.shape[1])\r\n",
        "        self.error = []\r\n",
        "        for _ in range(self.itr):\r\n",
        "            errors = 0\r\n",
        "            for xi, target in zip(x, y):\r\n",
        "                update = self.learn*(target - self.predict(xi))\r\n",
        "                self.w[1:] += update*xi\r\n",
        "                self.w[0] += update\r\n",
        "                errors += int(update != 0)\r\n",
        "            self.error.append(errors)\r\n",
        "        return self\r\n",
        "\r\n",
        "    def predict(self, x):\r\n",
        "        \"\"\"\r\n",
        "        :param x: input vector of features\r\n",
        "        :type x: ndarray\r\n",
        "        :return: int 1 or -1\r\n",
        "        \"\"\"\r\n",
        "        self.output = np.dot(x, self.w[1:]) + self.w[0]\r\n",
        "        return np.where(self.output >= 0, 1, -1)\r\n",
        "        \r\n",
        "    def feedforward(self, x):\r\n",
        "        \"\"\"\r\n",
        "        Predict the output given the inputs\r\n",
        "        :param x: input vector of features\r\n",
        "        :type x: ndarray\r\n",
        "        :return: All activation values and x values.\r\n",
        "        \"\"\"\r\n",
        "        self.z0 = np.dot(self.w0, x)\r\n",
        "        self.output1 = self.sigmoid(self.z0)\r\n",
        "        self.z1 = np.matmul(self.w1, self.output1)\r\n",
        "        self.output2 = self.sigmoid(self.z1)\r\n",
        "        self.z2 = np.matmul(self.w2, self.output2)\r\n",
        "        self.output3 = self.sigmoid(self.z2)\r\n",
        "        return self.z0, self.output1, self.z1, self.output2, self.z2, self.output3\r\n",
        "\r\n",
        "    def backpropagation(self):\r\n",
        "        for _ in range(self.itr):\r\n",
        "            for xi, target in zip(self.x, self.y):\r\n",
        "                self.feedforward(xi)\r\n",
        "                cost = target.T - self.output3\r\n",
        "        for i in range(self.w2.shape[0]):\r\n",
        "            self.w2[i] += -self.learn * cost.sum() * \\\r\n",
        "            self.sigmoid(self.z2) * (1 - self.sigmoid(self.z2)) * \\\r\n",
        "            self.output2[i]\r\n",
        "        for i in range(self.w1.shape[0]):\r\n",
        "            for j in range(self.w1.shape[1]):\r\n",
        "                self.w1[i, j] += -self.learn * cost.sum() * \\\r\n",
        "                self.sigmoid(self.z2) * (1 - self.sigmoid(self.z2)) * self.w2[i] * \\\r\n",
        "                self.sigmoid(self.z1[i]) * (1 - self.sigmoid(self.z1[i])) * \\\r\n",
        "                self.output1[j]\r\n",
        "        for i in range(self.w0.shape[0]):\r\n",
        "            for j in range(self.w0.shape[1]):\r\n",
        "                self.w0[i, j] += -self.learn * cost.sum() * \\\r\n",
        "                self.sigmoid(self.z2) * (1 - self.sigmoid(self.z2)) * self.w2[i] * \\\r\n",
        "                self.sigmoid(self.z1[i]) * (1 - self.sigmoid(self.z1[i])) * \\\r\n",
        "                self.w1[i, j] * self.sigmoid(self.z0[i]) * (1 - \\\r\n",
        "                self.sigmoid(self.z0[i])) * xi[j]"
      ],
      "execution_count": 213,
      "outputs": []
    },
    {
      "cell_type": "code",
      "metadata": {
        "id": "3Dl2qJnTYFow"
      },
      "source": [
        "import numpy as np\r\n",
        "\r\n",
        "\"\"\"\r\n",
        "A simple python program to implement a Multilayer Perceptron with 2 hidden layers with 20 neurons each.\r\n",
        "\"\"\"\r\n",
        "\r\n",
        "\r\n",
        "class MLP(object):\r\n",
        "\r\n",
        "    def sigmoid(self, x):\r\n",
        "        \"\"\"\r\n",
        "        Sigmoid function that is the activation function for our neural network.\r\n",
        "        :param x: x value inputted into function\r\n",
        "        :return: activation value\r\n",
        "        \"\"\"\r\n",
        "        return (1 + np.exp(-x)) ** (-1)\r\n",
        "\r\n",
        "    def __init__(self, learn, x, y, itr):\r\n",
        "        \"\"\"\r\n",
        "        :param learn: learning rate\r\n",
        "        :type learn: float\r\n",
        "        :param x: input training data\r\n",
        "        :type x: ndarray (n0-features, m0-samples)\r\n",
        "        :param y: correct output data\r\n",
        "        :type y: ndarray (m0 samples)\r\n",
        "        \"\"\"\r\n",
        "        self.learn = learn\r\n",
        "        self.x = x\r\n",
        "        self.y = y\r\n",
        "        self.w0 = np.random.random((20, self.x.shape[1]))\r\n",
        "        self.w1 = np.random.random((20, 20))\r\n",
        "        self.w2 = np.random.random(20)\r\n",
        "        self.sigmoid = np.vectorize(self.sigmoid)\r\n",
        "        self.itr = itr\r\n",
        "\r\n",
        "    def train(self):\r\n",
        "        \"\"\"\r\n",
        "        Train the weights with data set x for outputs y\r\n",
        "        :return: weights (w0, w1, w2) and errors for each iteration\r\n",
        "        \"\"\"\r\n",
        "        self.error = []\r\n",
        "        errors = 0\r\n",
        "        for _ in range(self.itr):\r\n",
        "            for xi, target in zip(self.x, self.y):\r\n",
        "                self.feedforward(xi)\r\n",
        "                cost = target.T - self.output3\r\n",
        "\r\n",
        "                for i in range(self.w2.shape[0]):\r\n",
        "                    self.w2[i] += -self.learn * cost.sum() * self.sigmoid(self.z2) * \\\r\n",
        "                                  (1 - self.sigmoid(self.z2)) * self.output2[i]\r\n",
        "\r\n",
        "                for i in range(self.w1.shape[0]):\r\n",
        "                    for j in range(self.w1.shape[1]):\r\n",
        "                        self.w1[i, j] += -self.learn * cost.sum() * self.sigmoid(self.z2) * (1 - self.sigmoid(self.z2)) * self.w2[i] * \\\r\n",
        "                                         self.sigmoid(self.z1[i]) * (1 - self.sigmoid(self.z1[i])) * self.output1[j]\r\n",
        "\r\n",
        "                for i in range(self.w0.shape[0]):\r\n",
        "                    for j in range(self.w0.shape[1]):\r\n",
        "                        self.w0[i, j] += -self.learn * cost.sum() * self.sigmoid(self.z2) * (1 - self.sigmoid(self.z2)) * self.w2[i] * \\\r\n",
        "                                         self.sigmoid(self.z1[i]) * (1 - self.sigmoid(self.z1[i])) * self.w1[i, j] * \\\r\n",
        "                                         self.sigmoid(self.z0[i]) * (1 - self.sigmoid(self.z0[i])) * xi[j]\r\n",
        "\r\n",
        "                errors = cost\r\n",
        "        self.error.append(errors)\r\n",
        "\r\n",
        "        return self\r\n",
        "\r\n",
        "    def feedforward(self, x):\r\n",
        "        \"\"\"\r\n",
        "        Predict the output given the inputs\r\n",
        "        :param x: input vector of features\r\n",
        "        :type x: ndarray\r\n",
        "        :return: All activation values and x values.\r\n",
        "        \"\"\"\r\n",
        "        self.z0 = np.dot(self.w0, x)\r\n",
        "        self.output1 = self.sigmoid(self.z0)\r\n",
        "        self.z1 = np.matmul(self.w1, self.output1)\r\n",
        "        self.output2 = self.sigmoid(self.z1)\r\n",
        "        self.z2 = np.matmul(self.w2, self.output2)\r\n",
        "        self.output3 = self.sigmoid(self.z2)\r\n",
        "\r\n",
        "        return self.z0, self.output1, self.z1, self.output2, self.z2, self.output3\r\n",
        "\r\n",
        "    def print_weights(self):\r\n",
        "        print('Layer 1: ')\r\n",
        "        print(self.w0)\r\n",
        "        print('Layer 2: ')\r\n",
        "        print(self.w1)\r\n",
        "        print('Layer 3: ')\r\n",
        "        print(self.w2)"
      ],
      "execution_count": 214,
      "outputs": []
    },
    {
      "cell_type": "code",
      "metadata": {
        "colab": {
          "base_uri": "https://localhost:8080/"
        },
        "id": "UUZ_lS_PaGkG",
        "outputId": "c7551a56-7222-44f4-a85f-1fb23ff756a4"
      },
      "source": [
        "import pandas as pd\r\n",
        "import numpy as np\r\n",
        "# from MLP import MLP\r\n",
        "\r\n",
        "df = pd.read_csv('https://archive.ics.uci.edu/ml/machine-learning-databases/iris/iris.data', header=None)\r\n",
        "\r\n",
        "y = df.iloc[0:100, 4].values\r\n",
        "y = np.where(y == 'Iris-setosa', 1, 0)\r\n",
        "\r\n",
        "x = np.asarray(df.iloc[0:100, [0, 2]].values)\r\n",
        "\r\n",
        "x_test = np.asarray(df.iloc[2, [0, 2]].values)\r\n",
        "\r\n",
        "# print(x)\r\n",
        "mlp = MLP(0.2, x, y, 100)\r\n",
        "# print(mlp.output1)\r\n",
        "print('Initial weights: ')\r\n",
        "print(mlp.print_weights())\r\n",
        "\r\n",
        "mlp.train()\r\n",
        "print('Trained Weights: ')\r\n",
        "print(mlp.print_weights())\r\n",
        "\r\n",
        "# mlp.feedforward(x_test)\r\n",
        "# print(mlp.z2)\r\n",
        "# print(mlp.z2)\r\n",
        "# print(mlp.output3)\r\n",
        "\r\n",
        "# print(x.shape[1])"
      ],
      "execution_count": 215,
      "outputs": [
        {
          "output_type": "stream",
          "text": [
            "Initial weights: \n",
            "Layer 1: \n",
            "[[7.61298774e-01 8.61083977e-01]\n",
            " [8.15900122e-04 9.31703115e-01]\n",
            " [8.60324928e-01 7.69542069e-01]\n",
            " [2.37116129e-01 3.91408975e-01]\n",
            " [6.95419994e-01 4.35406973e-01]\n",
            " [7.52109518e-01 8.59934924e-01]\n",
            " [6.07229927e-01 6.93495983e-01]\n",
            " [1.10937805e-01 6.07035424e-01]\n",
            " [8.88056141e-02 2.16470620e-02]\n",
            " [7.37758904e-01 8.48371884e-01]\n",
            " [6.94208080e-01 6.43052225e-01]\n",
            " [6.84979019e-01 9.61822452e-01]\n",
            " [2.90496127e-01 6.91698278e-01]\n",
            " [4.43830933e-01 4.26604504e-01]\n",
            " [7.23780989e-01 6.10552597e-01]\n",
            " [8.28070519e-01 7.37142929e-01]\n",
            " [8.30616305e-01 9.42766472e-02]\n",
            " [5.73571852e-01 1.78038516e-01]\n",
            " [3.69076071e-01 6.68123468e-01]\n",
            " [3.19339653e-02 3.44944091e-04]]\n",
            "Layer 2: \n",
            "[[9.61030620e-01 4.46163812e-01 5.02516502e-02 5.28620685e-02\n",
            "  9.52357328e-01 9.73272349e-01 3.45932557e-01 1.80976972e-01\n",
            "  4.31801781e-01 3.10729840e-02 5.64200048e-01 2.75501115e-01\n",
            "  4.74051861e-01 2.77047670e-01 4.12071661e-01 7.62078836e-01\n",
            "  3.81549001e-01 1.85738931e-01 9.11522908e-01 7.04649028e-01]\n",
            " [1.08019418e-01 2.77190572e-01 4.82663307e-01 6.05470199e-01\n",
            "  3.62207223e-01 8.48058744e-01 3.69766943e-01 5.81449351e-01\n",
            "  4.08685802e-01 9.39702782e-01 1.96209208e-01 7.02108080e-01\n",
            "  8.03216108e-01 7.33235301e-01 1.19387680e-01 7.91235293e-02\n",
            "  8.98369392e-01 5.66230177e-01 7.38811262e-01 8.84985686e-01]\n",
            " [2.46956330e-01 4.77289128e-01 9.47607600e-01 4.08651699e-01\n",
            "  4.80426072e-01 4.57103737e-01 5.48473178e-01 8.48029829e-01\n",
            "  4.06354297e-01 3.54084869e-01 6.26974937e-01 1.07218287e-01\n",
            "  9.49192805e-01 1.88331158e-01 3.62663212e-01 7.43779822e-01\n",
            "  5.81810086e-01 2.14894026e-01 6.91320045e-01 8.71769190e-01]\n",
            " [9.81716124e-02 5.06760341e-01 2.83439991e-01 1.72229711e-01\n",
            "  5.71310816e-01 9.81732642e-01 9.30614487e-01 9.19903437e-01\n",
            "  8.98317632e-01 8.09845474e-01 7.20345366e-01 8.82586365e-01\n",
            "  3.40746595e-02 1.69195158e-01 8.32953215e-01 1.60079340e-01\n",
            "  6.01714866e-01 1.71784266e-01 5.41544893e-01 9.40094846e-01]\n",
            " [6.10037006e-01 9.76346722e-01 4.12297389e-01 4.30303585e-01\n",
            "  4.90599659e-01 4.96258629e-01 1.36410358e-01 4.96130704e-01\n",
            "  8.06693087e-01 6.13030102e-02 3.41209277e-01 9.41710975e-02\n",
            "  1.45492548e-02 8.44986695e-01 3.43799905e-01 3.02706696e-01\n",
            "  2.07983762e-01 2.98781489e-01 9.81319404e-01 7.44007088e-01]\n",
            " [4.96175909e-01 2.10469792e-01 1.85934768e-02 9.54992493e-01\n",
            "  7.08610248e-01 1.18366182e-01 1.80684493e-01 2.16400997e-01\n",
            "  2.05154271e-01 5.21520777e-01 3.99996027e-01 8.29830808e-01\n",
            "  9.53129176e-01 5.38455247e-01 1.39482147e-01 3.03049949e-01\n",
            "  5.88947633e-01 2.72405404e-01 8.02404454e-01 2.83349387e-01]\n",
            " [5.70873037e-01 2.99882260e-01 6.64732583e-02 2.47765660e-01\n",
            "  9.59062815e-01 8.78691957e-01 3.33656576e-01 7.40548559e-01\n",
            "  8.32996292e-01 9.00877226e-01 4.49234861e-01 5.35493402e-01\n",
            "  3.50321870e-01 1.95922477e-01 4.03001276e-01 5.66396375e-01\n",
            "  5.98168259e-01 9.16507615e-01 6.47829658e-01 3.51412370e-01]\n",
            " [6.65452076e-01 4.11455491e-01 1.48951706e-01 7.75132213e-01\n",
            "  1.58845649e-01 7.93906998e-01 8.57531703e-01 7.38247282e-01\n",
            "  6.23600739e-01 5.70042225e-02 9.33440881e-01 7.11455998e-02\n",
            "  7.94444302e-01 1.38300868e-01 3.27711193e-02 9.30094464e-01\n",
            "  1.86063301e-01 5.37278213e-01 1.13475599e-01 6.36258858e-01]\n",
            " [8.68303483e-01 2.28030375e-01 2.99841508e-01 6.21656964e-01\n",
            "  6.10452290e-01 8.06739287e-01 8.25741089e-01 1.04179867e-02\n",
            "  8.28998240e-01 6.14814495e-01 2.97160966e-01 6.42250431e-03\n",
            "  4.59627619e-01 5.86390597e-01 3.72738350e-01 7.45890175e-01\n",
            "  7.72171504e-02 1.67366528e-01 8.66699676e-01 9.21687786e-01]\n",
            " [4.50017184e-01 5.56664946e-01 6.89276929e-01 4.14398752e-01\n",
            "  7.79981034e-01 5.25234527e-01 8.44245983e-01 6.73240562e-01\n",
            "  7.41203976e-01 5.88240925e-02 7.53023028e-01 4.69293969e-01\n",
            "  3.34758409e-01 4.31090038e-01 1.73790157e-01 2.31372031e-03\n",
            "  6.69384279e-01 8.30425098e-01 9.30453632e-01 5.31616180e-01]\n",
            " [5.03350412e-01 8.60428450e-01 3.75678854e-01 3.18420451e-01\n",
            "  8.72383219e-01 1.67857756e-01 7.85604378e-01 8.72970411e-01\n",
            "  7.71096653e-01 4.76712446e-01 9.19604687e-01 1.36399745e-01\n",
            "  4.35050214e-01 9.61526016e-01 1.13272056e-01 7.64526683e-01\n",
            "  4.05853991e-01 3.78209558e-02 5.24080653e-02 4.30444101e-01]\n",
            " [8.58260278e-01 7.81279538e-01 5.96721573e-01 9.07597916e-04\n",
            "  3.84918528e-01 3.64077975e-01 5.45850961e-02 1.75301748e-01\n",
            "  8.43872916e-01 5.52053456e-01 1.24563930e-01 5.46568634e-02\n",
            "  7.10316842e-01 3.70645799e-01 9.56272478e-01 7.41092214e-01\n",
            "  5.83305671e-01 7.76802015e-01 7.92154429e-01 1.70799220e-01]\n",
            " [5.48641569e-01 8.19488635e-01 3.55002908e-01 9.18194479e-02\n",
            "  1.83290772e-01 5.98942614e-01 8.97308582e-01 6.29907104e-01\n",
            "  6.66900064e-01 5.19216060e-01 5.98473501e-02 8.00923171e-01\n",
            "  6.05913091e-01 7.10312119e-01 8.70438705e-01 2.58286511e-01\n",
            "  7.45321948e-01 1.12101618e-01 7.80534886e-01 1.02492158e-01]\n",
            " [3.12856850e-01 2.96477587e-01 6.65046585e-01 7.79196425e-01\n",
            "  4.08760237e-01 7.50019788e-01 7.36325818e-01 4.78677354e-02\n",
            "  6.21665543e-01 7.99299375e-01 5.63507299e-01 4.99731431e-01\n",
            "  4.96549545e-01 3.80799702e-02 8.32996335e-01 2.18539644e-01\n",
            "  1.28275310e-01 5.93887838e-01 7.64532137e-01 2.67943729e-01]\n",
            " [1.00981041e-01 1.51648133e-01 2.18296512e-01 1.13193122e-01\n",
            "  5.47463512e-01 4.48291672e-01 9.86649926e-01 9.76012974e-01\n",
            "  6.04886331e-01 3.00000086e-01 3.68049047e-01 5.10939851e-01\n",
            "  3.69533143e-01 9.55515330e-01 2.16189878e-01 7.59524271e-01\n",
            "  5.10315218e-01 6.38479898e-01 3.04760178e-01 9.74146319e-01]\n",
            " [7.48216282e-01 3.58771568e-01 5.32463376e-01 1.13998523e-01\n",
            "  7.38792982e-01 8.96197642e-01 6.68911181e-01 7.38020626e-01\n",
            "  1.20763298e-01 6.70983641e-01 2.96450656e-01 7.85546956e-01\n",
            "  5.12485663e-01 7.18928058e-01 2.76937474e-01 9.04125171e-01\n",
            "  2.69976607e-01 2.00560899e-01 2.56521269e-01 8.86611859e-01]\n",
            " [3.80924999e-01 3.40681769e-02 2.09962984e-01 6.99867512e-01\n",
            "  5.13614103e-02 1.03668771e-01 2.74523172e-01 6.16358174e-01\n",
            "  4.66318107e-04 8.32162023e-01 1.21236841e-01 2.27192126e-01\n",
            "  8.81024326e-01 9.69812807e-01 3.12185767e-01 5.77096883e-01\n",
            "  7.71605714e-01 7.35404385e-01 3.02153883e-01 2.22352331e-02]\n",
            " [1.60460612e-02 1.15868315e-01 5.51702777e-01 9.54451484e-01\n",
            "  9.52882899e-01 4.86707564e-01 4.94045629e-01 3.55923352e-02\n",
            "  2.72866484e-02 1.28200081e-01 1.01937699e-01 5.50699116e-01\n",
            "  4.36311130e-01 1.51734307e-02 5.89937564e-01 7.76772416e-01\n",
            "  5.80067516e-01 5.68991384e-04 6.46155168e-01 9.68661217e-01]\n",
            " [8.91877377e-01 9.04458125e-01 9.62578589e-01 7.96623655e-01\n",
            "  3.62464867e-01 9.85648012e-01 5.18517462e-01 5.21745205e-01\n",
            "  1.98337759e-01 5.36114206e-01 2.82282463e-01 2.71473165e-01\n",
            "  8.60305528e-01 9.55920262e-01 6.77666080e-01 3.88699826e-01\n",
            "  3.04568866e-01 8.55502141e-01 6.90917961e-01 1.77441944e-01]\n",
            " [4.84061563e-01 5.76252722e-01 5.19178669e-01 2.00047483e-01\n",
            "  3.16893626e-01 5.62852553e-01 6.78791058e-01 3.17726207e-01\n",
            "  6.23571156e-02 4.61434523e-01 7.92488384e-01 3.51024579e-01\n",
            "  1.95681328e-01 8.95071141e-01 3.56520543e-02 2.19548398e-01\n",
            "  1.51811759e-02 6.85915543e-01 9.59643905e-01 9.85639384e-01]]\n",
            "Layer 3: \n",
            "[0.54891219 0.82989982 0.82799084 0.2071212  0.51838315 0.28452054\n",
            " 0.77352742 0.77119191 0.27857771 0.86840995 0.38925256 0.1390412\n",
            " 0.9214532  0.25203761 0.83816678 0.73734485 0.78042357 0.69750337\n",
            " 0.85849778 0.18160698]\n",
            "None\n",
            "Trained Weights: \n",
            "Layer 1: \n",
            "[[7.61298775e-01 8.61083977e-01]\n",
            " [8.15903519e-04 9.31703122e-01]\n",
            " [8.60324928e-01 7.69542069e-01]\n",
            " [2.37116131e-01 3.91408979e-01]\n",
            " [6.95420003e-01 4.35406984e-01]\n",
            " [7.52109519e-01 8.59934924e-01]\n",
            " [6.07229928e-01 6.93495984e-01]\n",
            " [1.10937913e-01 6.07035471e-01]\n",
            " [8.88058130e-02 2.16470994e-02]\n",
            " [7.37758905e-01 8.48371885e-01]\n",
            " [6.94208080e-01 6.43052225e-01]\n",
            " [6.84979019e-01 9.61822452e-01]\n",
            " [2.90496138e-01 6.91698289e-01]\n",
            " [4.43830937e-01 4.26604506e-01]\n",
            " [7.23780989e-01 6.10552597e-01]\n",
            " [8.28070520e-01 7.37142930e-01]\n",
            " [8.30616328e-01 9.42766487e-02]\n",
            " [5.73571855e-01 1.78038531e-01]\n",
            " [3.69076073e-01 6.68123469e-01]\n",
            " [3.19341204e-02 3.45076553e-04]]\n",
            "Layer 2: \n",
            "[[9.61031220e-01 4.46164401e-01 5.02522508e-02 5.28626415e-02\n",
            "  9.52357927e-01 9.73272950e-01 3.45933157e-01 1.80977549e-01\n",
            "  4.31802171e-01 3.10735845e-02 5.64200648e-01 2.75501715e-01\n",
            "  4.74052456e-01 2.77048263e-01 4.12072261e-01 7.62079436e-01\n",
            "  3.81549599e-01 1.85739522e-01 9.11523505e-01 7.04649357e-01]\n",
            " [1.08019690e-01 2.77190838e-01 4.82663578e-01 6.05470459e-01\n",
            "  3.62207494e-01 8.48059016e-01 3.69767215e-01 5.81449612e-01\n",
            "  4.08685978e-01 9.39703053e-01 1.96209480e-01 7.02108351e-01\n",
            "  8.03216377e-01 7.33235569e-01 1.19387952e-01 7.91238009e-02\n",
            "  8.98369662e-01 5.66230444e-01 7.38811532e-01 8.84985834e-01]\n",
            " [2.46956654e-01 4.77289446e-01 9.47607924e-01 4.08652008e-01\n",
            "  4.80426395e-01 4.57104062e-01 5.48473502e-01 8.48030140e-01\n",
            "  4.06354508e-01 3.54085193e-01 6.26975261e-01 1.07218611e-01\n",
            "  9.49193125e-01 1.88331478e-01 3.62663535e-01 7.43780146e-01\n",
            "  5.81810409e-01 2.14894345e-01 6.91320367e-01 8.71769368e-01]\n",
            " [9.81716609e-02 5.06760388e-01 2.83440039e-01 1.72229757e-01\n",
            "  5.71310864e-01 9.81732691e-01 9.30614536e-01 9.19903484e-01\n",
            "  8.98317664e-01 8.09845523e-01 7.20345414e-01 8.82586414e-01\n",
            "  3.40747075e-02 1.69195206e-01 8.32953264e-01 1.60079388e-01\n",
            "  6.01714914e-01 1.71784314e-01 5.41544941e-01 9.40094872e-01]\n",
            " [6.10037919e-01 9.76347616e-01 4.12298302e-01 4.30304456e-01\n",
            "  4.90600570e-01 4.96259542e-01 1.36411270e-01 4.96131580e-01\n",
            "  8.06693680e-01 6.13039230e-02 3.41210189e-01 9.41720103e-02\n",
            "  1.45501584e-02 8.44987597e-01 3.43800817e-01 3.02707609e-01\n",
            "  2.07984670e-01 2.98782387e-01 9.81320311e-01 7.44007588e-01]\n",
            " [4.96176380e-01 2.10470254e-01 1.85939482e-02 9.54992943e-01\n",
            "  7.08610718e-01 1.18366653e-01 1.80684964e-01 2.16401450e-01\n",
            "  2.05154578e-01 5.21521248e-01 3.99996498e-01 8.29831279e-01\n",
            "  9.53129643e-01 5.38455713e-01 1.39482618e-01 3.03050420e-01\n",
            "  5.88948102e-01 2.72405867e-01 8.02404922e-01 2.83349645e-01]\n",
            " [5.70873234e-01 2.99882453e-01 6.64734559e-02 2.47765849e-01\n",
            "  9.59063012e-01 8.78692155e-01 3.33656773e-01 7.40548749e-01\n",
            "  8.32996420e-01 9.00877424e-01 4.49235059e-01 5.35493599e-01\n",
            "  3.50322066e-01 1.95922672e-01 4.03001474e-01 5.66396572e-01\n",
            "  5.98168456e-01 9.16507809e-01 6.47829854e-01 3.51412478e-01]\n",
            " [6.65452809e-01 4.11456209e-01 1.48952439e-01 7.75132912e-01\n",
            "  1.58846380e-01 7.93907731e-01 8.57532435e-01 7.38247986e-01\n",
            "  6.23601215e-01 5.70049551e-02 9.33441613e-01 7.11463325e-02\n",
            "  7.94445027e-01 1.38301592e-01 3.27718513e-02 9.30095197e-01\n",
            "  1.86064030e-01 5.37278934e-01 1.13476326e-01 6.36259260e-01]\n",
            " [8.68303653e-01 2.28030542e-01 2.99841678e-01 6.21657126e-01\n",
            "  6.10452460e-01 8.06739458e-01 8.25741259e-01 1.04181503e-02\n",
            "  8.28998350e-01 6.14814665e-01 2.97161136e-01 6.42267465e-03\n",
            "  4.59627788e-01 5.86390766e-01 3.72738521e-01 7.45890345e-01\n",
            "  7.72173199e-02 1.67366696e-01 8.66699846e-01 9.21687880e-01]\n",
            " [4.50017417e-01 5.56665174e-01 6.89277162e-01 4.14398974e-01\n",
            "  7.79981267e-01 5.25234760e-01 8.44246215e-01 6.73240786e-01\n",
            "  7.41204128e-01 5.88243255e-02 7.53023261e-01 4.69294202e-01\n",
            "  3.34758639e-01 4.31090268e-01 1.73790389e-01 2.31395322e-03\n",
            "  6.69384510e-01 8.30425327e-01 9.30453863e-01 5.31616308e-01]\n",
            " [5.03350596e-01 8.60428630e-01 3.75679038e-01 3.18420627e-01\n",
            "  8.72383402e-01 1.67857940e-01 7.85604561e-01 8.72970587e-01\n",
            "  7.71096772e-01 4.76712629e-01 9.19604870e-01 1.36399928e-01\n",
            "  4.35050396e-01 9.61526197e-01 1.13272239e-01 7.64526866e-01\n",
            "  4.05854174e-01 3.78211365e-02 5.24082477e-02 4.30444201e-01]\n",
            " [8.58260363e-01 7.81279622e-01 5.96721658e-01 9.07679225e-04\n",
            "  3.84918613e-01 3.64078060e-01 5.45851812e-02 1.75301830e-01\n",
            "  8.43872972e-01 5.52053541e-01 1.24564015e-01 5.46569486e-02\n",
            "  7.10316926e-01 3.70645883e-01 9.56272564e-01 7.41092299e-01\n",
            "  5.83305756e-01 7.76802099e-01 7.92154514e-01 1.70799266e-01]\n",
            " [5.48641890e-01 8.19488950e-01 3.55003229e-01 9.18197547e-02\n",
            "  1.83291093e-01 5.98942935e-01 8.97308903e-01 6.29907413e-01\n",
            "  6.66900273e-01 5.19216382e-01 5.98476714e-02 8.00923493e-01\n",
            "  6.05913409e-01 7.10312437e-01 8.70439026e-01 2.58286832e-01\n",
            "  7.45322268e-01 1.12101934e-01 7.80535205e-01 1.02492334e-01]\n",
            " [3.12857010e-01 2.96477744e-01 6.65046745e-01 7.79196578e-01\n",
            "  4.08760396e-01 7.50019948e-01 7.36325978e-01 4.78678892e-02\n",
            "  6.21665647e-01 7.99299535e-01 5.63507459e-01 4.99731591e-01\n",
            "  4.96549704e-01 3.80801283e-02 8.32996495e-01 2.18539804e-01\n",
            "  1.28275469e-01 5.93887995e-01 7.64532296e-01 2.67943816e-01]\n",
            " [1.00981619e-01 1.51648699e-01 2.18297090e-01 1.13193674e-01\n",
            "  5.47464088e-01 4.48292250e-01 9.86650503e-01 9.76013529e-01\n",
            "  6.04886706e-01 3.00000664e-01 3.68049624e-01 5.10940429e-01\n",
            "  3.69533715e-01 9.55515901e-01 2.16190455e-01 7.59524849e-01\n",
            "  5.10315793e-01 6.38480466e-01 3.04760752e-01 9.74146635e-01]\n",
            " [7.48216497e-01 3.58771778e-01 5.32463591e-01 1.13998728e-01\n",
            "  7.38793196e-01 8.96197856e-01 6.68911395e-01 7.38020832e-01\n",
            "  1.20763437e-01 6.70983856e-01 2.96450870e-01 7.85547170e-01\n",
            "  5.12485876e-01 7.18928270e-01 2.76937688e-01 9.04125385e-01\n",
            "  2.69976820e-01 2.00561110e-01 2.56521481e-01 8.86611976e-01]\n",
            " [3.80926983e-01 3.40701209e-02 2.09964968e-01 6.99869405e-01\n",
            "  5.13633894e-02 1.03670755e-01 2.74525153e-01 6.16360079e-01\n",
            "  4.67607423e-04 8.32164007e-01 1.21238824e-01 2.27194110e-01\n",
            "  8.81026290e-01 9.69814767e-01 3.12187750e-01 5.77098867e-01\n",
            "  7.71607688e-01 7.35406337e-01 3.02155853e-01 2.22363198e-02]\n",
            " [1.60480186e-02 1.15870233e-01 5.51704735e-01 9.54453351e-01\n",
            "  9.52884852e-01 4.86709521e-01 4.94047583e-01 3.55942154e-02\n",
            "  2.72879205e-02 1.28202038e-01 1.01939654e-01 5.50701073e-01\n",
            "  4.36313068e-01 1.51753642e-02 5.89939520e-01 7.76774373e-01\n",
            "  5.80069463e-01 5.70917302e-04 6.46157112e-01 9.68662289e-01]\n",
            " [8.91877423e-01 9.04458170e-01 9.62578635e-01 7.96623699e-01\n",
            "  3.62464913e-01 9.85648058e-01 5.18517509e-01 5.21745249e-01\n",
            "  1.98337789e-01 5.36114252e-01 2.82282509e-01 2.71473211e-01\n",
            "  8.60305574e-01 9.55920307e-01 6.77666126e-01 3.88699873e-01\n",
            "  3.04568912e-01 8.55502187e-01 6.90918007e-01 1.77441969e-01]\n",
            " [4.84061782e-01 5.76252936e-01 5.19178888e-01 2.00047692e-01\n",
            "  3.16893844e-01 5.62852772e-01 6.78791277e-01 3.17726416e-01\n",
            "  6.23572576e-02 4.61434741e-01 7.92488602e-01 3.51024797e-01\n",
            "  1.95681544e-01 8.95071357e-01 3.56522726e-02 2.19548617e-01\n",
            "  1.51813934e-02 6.85915758e-01 9.59644122e-01 9.85639504e-01]]\n",
            "Layer 3: \n",
            "[0.55656629 0.83755468 0.83564563 0.21477615 0.52603658 0.29217409\n",
            " 0.78118235 0.77884614 0.28623229 0.87606486 0.39690727 0.14669578\n",
            " 0.92910803 0.25969217 0.84582127 0.74499974 0.78807622 0.70515576\n",
            " 0.86615291 0.18926098]\n",
            "None\n"
          ],
          "name": "stdout"
        }
      ]
    },
    {
      "cell_type": "code",
      "metadata": {
        "colab": {
          "base_uri": "https://localhost:8080/"
        },
        "id": "uN-10A8uaJbA",
        "outputId": "b163a74e-d034-4d1a-ec5d-79f40c32aef2"
      },
      "source": [
        "!pip install https://github.com/pybrain/pybrain/archive/0.3.3.zip"
      ],
      "execution_count": 216,
      "outputs": [
        {
          "output_type": "stream",
          "text": [
            "Collecting https://github.com/pybrain/pybrain/archive/0.3.3.zip\n",
            "\u001b[?25l  Downloading https://github.com/pybrain/pybrain/archive/0.3.3.zip\n",
            "\u001b[K     \\ 3.8MB 5.5MB/s\n",
            "\u001b[?25hRequirement already satisfied: scipy in /usr/local/lib/python3.6/dist-packages (from PyBrain==0.3.1) (1.4.1)\n",
            "Requirement already satisfied: numpy>=1.13.3 in /usr/local/lib/python3.6/dist-packages (from scipy->PyBrain==0.3.1) (1.19.4)\n",
            "Building wheels for collected packages: PyBrain\n",
            "  Building wheel for PyBrain (setup.py) ... \u001b[?25l\u001b[?25hdone\n",
            "  Created wheel for PyBrain: filename=PyBrain-0.3.1-cp36-none-any.whl size=468233 sha256=2b445043fe2650267ee3206f4b14e512478f3e7bfcf85aeceecda12e8f20ff4f\n",
            "  Stored in directory: /tmp/pip-ephem-wheel-cache-t81_36kd/wheels/0b/04/38/2f174aa3c578350870947ca6ab12e0eb89aef3478c9610eb0a\n",
            "Successfully built PyBrain\n",
            "Installing collected packages: PyBrain\n",
            "Successfully installed PyBrain-0.3.1\n"
          ],
          "name": "stdout"
        }
      ]
    },
    {
      "cell_type": "code",
      "metadata": {
        "colab": {
          "base_uri": "https://localhost:8080/"
        },
        "id": "x3yv5f2ohoi2",
        "outputId": "08392e1a-e59e-45f7-cdeb-9fb9c4a0a6ca"
      },
      "source": [
        "!pip show pybrain\r\n",
        "# /usr/local/lib/python3.6/dist-packages/pybrain/tools/functions.py\r\n",
        "# update expm2 to expm"
      ],
      "execution_count": 222,
      "outputs": [
        {
          "output_type": "stream",
          "text": [
            "Name: PyBrain\n",
            "Version: 0.3.1\n",
            "Summary: PyBrain is the Swiss army knife for neural networking.\n",
            "Home-page: http://pybrain.org\n",
            "Author: UNKNOWN\n",
            "Author-email: UNKNOWN\n",
            "License: BSD\n",
            "Location: /usr/local/lib/python3.6/dist-packages\n",
            "Requires: scipy\n",
            "Required-by: \n"
          ],
          "name": "stdout"
        }
      ]
    },
    {
      "cell_type": "code",
      "metadata": {
        "colab": {
          "base_uri": "https://localhost:8080/"
        },
        "id": "_AZX7RHug_N7",
        "outputId": "889f962c-1f7a-4c66-a4a4-ca4ad5cb60b5"
      },
      "source": [
        "!pip install pybrain"
      ],
      "execution_count": 220,
      "outputs": [
        {
          "output_type": "stream",
          "text": [
            "Requirement already satisfied: pybrain in /usr/local/lib/python3.6/dist-packages (0.3.1)\n",
            "Requirement already satisfied: scipy in /usr/local/lib/python3.6/dist-packages (from pybrain) (1.4.1)\n",
            "Requirement already satisfied: numpy>=1.13.3 in /usr/local/lib/python3.6/dist-packages (from scipy->pybrain) (1.19.4)\n"
          ],
          "name": "stdout"
        }
      ]
    },
    {
      "cell_type": "code",
      "metadata": {
        "colab": {
          "base_uri": "https://localhost:8080/"
        },
        "id": "DinjrHsRfl8b",
        "outputId": "9ba66409-3e85-4df2-c998-2151b5024a24"
      },
      "source": [
        "# https://www.udemy.com/course/machine-learning-e-data-science-com-python-y/learn/lecture/9731026#questions/10555994\r\n",
        "\r\n",
        "from pybrain.structure import FeedForwardNetwork\r\n",
        "from pybrain.structure import LinearLayer, SigmoidLayer, BiasUnit\r\n",
        "from pybrain.structure import FullConnection\r\n",
        "\r\n",
        "rede = FeedForwardNetwork()\r\n",
        "\r\n",
        "camadaEntrada = LinearLayer(2)\r\n",
        "camadaOculta = SigmoidLayer(3)\r\n",
        "camadaSaida = SigmoidLayer(1)\r\n",
        "bias1 = BiasUnit()\r\n",
        "bias2 = BiasUnit()\r\n",
        "\r\n",
        "rede.addModule(camadaEntrada)\r\n",
        "rede.addModule(camadaOculta)\r\n",
        "rede.addModule(camadaSaida)\r\n",
        "rede.addModule(bias1)\r\n",
        "rede.addModule(bias2)\r\n",
        "\r\n",
        "entradaOculta = FullConnection(camadaEntrada, camadaOculta)\r\n",
        "ocultaSaida = FullConnection(camadaOculta, camadaSaida)\r\n",
        "biasOculta = FullConnection(bias1, camadaOculta)\r\n",
        "biasSaida = FullConnection(bias2, camadaSaida)\r\n",
        "\r\n",
        "rede.sortModules()\r\n",
        "\r\n",
        "print(rede)\r\n",
        "print(entradaOculta.params)\r\n",
        "print(ocultaSaida.params)\r\n",
        "print(biasOculta.params)\r\n",
        "print(biasSaida.params)"
      ],
      "execution_count": 224,
      "outputs": [
        {
          "output_type": "stream",
          "text": [
            "FeedForwardNetwork-21\n",
            "   Modules:\n",
            "    [<BiasUnit 'BiasUnit-18'>, <BiasUnit 'BiasUnit-19'>, <LinearLayer 'LinearLayer-17'>, <SigmoidLayer 'SigmoidLayer-16'>, <SigmoidLayer 'SigmoidLayer-20'>]\n",
            "   Connections:\n",
            "    []\n",
            "\n",
            "[ 1.45196265  2.22213431  0.47491145 -0.22310425 -0.64897966  0.4445851 ]\n",
            "[0.55715434 0.31522999 0.47245704]\n",
            "[-2.0028917  -0.34082923 -2.34904936]\n",
            "[0.76760898]\n"
          ],
          "name": "stdout"
        }
      ]
    },
    {
      "cell_type": "code",
      "metadata": {
        "colab": {
          "base_uri": "https://localhost:8080/"
        },
        "id": "PsEQ36_Rf2rJ",
        "outputId": "dd1cec19-d7de-40f8-da4a-738ff1ad00ee"
      },
      "source": [
        "from pybrain.tools.shortcuts import buildNetwork\r\n",
        "from pybrain.datasets import SupervisedDataSet\r\n",
        "from pybrain.supervised.trainers import BackpropTrainer\r\n",
        "from pybrain.structure.modules import SoftmaxLayer\r\n",
        "from pybrain.structure.modules import SigmoidLayer\r\n",
        "\r\n",
        "'''rede = buildNetwork(2, 3, 1, outclass = SoftmaxLayer,\r\n",
        "                    hiddenclass = SigmoidLayer, bias = False)\r\n",
        "print(rede['in'])\r\n",
        "print(rede['hidden0'])\r\n",
        "print(rede['out'])\r\n",
        "print(rede['bias'])'''\r\n",
        "\r\n",
        "#buidlNetwork(entrada,oculta,saida) # nr neuronios camada\r\n",
        "\r\n",
        "rede = buildNetwork(2, 3, 1)\r\n",
        "base = SupervisedDataSet(2, 1)  # 2 entradas, 1 saida\r\n",
        "base.addSample((0, 0), (0, ))\r\n",
        "base.addSample((0, 1), (1, ))\r\n",
        "base.addSample((1, 0), (1, ))\r\n",
        "base.addSample((1, 1), (0, ))\r\n",
        "#print(base['input'])\r\n",
        "#print(base['target'])\r\n",
        "\r\n",
        "treinamento = BackpropTrainer(\r\n",
        "    rede, \r\n",
        "    dataset = base, \r\n",
        "    learningrate = 0.01,\r\n",
        "    momentum = 0.06)\r\n",
        "\r\n",
        "for i in range(1, 30000):  # nr de epocas\r\n",
        "    erro = treinamento.train()\r\n",
        "    if i % 1000 == 0:\r\n",
        "        print(\"Erro: %s\" % erro)\r\n",
        "        \r\n",
        "print(rede.activate([0, 0]))\r\n",
        "print(rede.activate([0, 1]))\r\n",
        "print(rede.activate([1, 0]))\r\n",
        "print(rede.activate([1, 1]))"
      ],
      "execution_count": 225,
      "outputs": [
        {
          "output_type": "stream",
          "text": [
            "Erro: 0.1289183091495335\n",
            "Erro: 0.12296188877082186\n",
            "Erro: 0.11610106795451208\n",
            "Erro: 0.10729471849504434\n",
            "Erro: 0.09681742359238454\n",
            "Erro: 0.08573594503705367\n",
            "Erro: 0.07359019376023766\n",
            "Erro: 0.056157154340060744\n",
            "Erro: 0.03249300249165593\n",
            "Erro: 0.013230523585724203\n",
            "Erro: 0.003765101007210662\n",
            "Erro: 0.0008176170944649969\n",
            "Erro: 0.0001523513558228853\n",
            "Erro: 2.6344639546922125e-05\n",
            "Erro: 4.403308193305827e-06\n",
            "Erro: 7.301674443809368e-07\n",
            "Erro: 1.200897970365067e-07\n",
            "Erro: 1.9724616420507505e-08\n",
            "Erro: 3.240157731508195e-09\n",
            "Erro: 5.294544855179908e-10\n",
            "Erro: 8.690984260129114e-11\n",
            "Erro: 1.4245722807228123e-11\n",
            "Erro: 2.3299423286502246e-12\n",
            "Erro: 3.815887459035459e-13\n",
            "Erro: 6.264572941519053e-14\n",
            "Erro: 1.0266265880555615e-14\n",
            "Erro: 1.6809545606919655e-15\n",
            "Erro: 2.747100107529386e-16\n",
            "Erro: 4.515402297973426e-17\n",
            "[2.38930031e-09]\n",
            "[1.]\n",
            "[1.]\n",
            "[5.2048974e-09]\n"
          ],
          "name": "stdout"
        }
      ]
    },
    {
      "cell_type": "code",
      "metadata": {
        "id": "HUbAlgixgB85"
      },
      "source": [
        ""
      ],
      "execution_count": null,
      "outputs": []
    }
  ]
}