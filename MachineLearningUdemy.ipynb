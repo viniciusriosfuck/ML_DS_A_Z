{
  "nbformat": 4,
  "nbformat_minor": 0,
  "metadata": {
    "colab": {
      "name": "MachineLearningUdemy.ipynb",
      "provenance": [],
      "toc_visible": true,
      "authorship_tag": "ABX9TyNmfSkea63FOwMJuBK/yw5i",
      "include_colab_link": true
    },
    "kernelspec": {
      "name": "python3",
      "display_name": "Python 3"
    }
  },
  "cells": [
    {
      "cell_type": "markdown",
      "metadata": {
        "id": "view-in-github",
        "colab_type": "text"
      },
      "source": [
        "<a href=\"https://colab.research.google.com/github/viniciusriosfuck/ML_DS_A_Z/blob/main/MachineLearningUdemy.ipynb\" target=\"_parent\"><img src=\"https://colab.research.google.com/assets/colab-badge.svg\" alt=\"Open In Colab\"/></a>"
      ]
    },
    {
      "cell_type": "markdown",
      "metadata": {
        "id": "syAGDRVC5N70"
      },
      "source": [
        "# Machine Learning e Data Science com Python de A a Z\n",
        "\n",
        "Instrutor: Jones Granatyr\n",
        "\n",
        "Início: 05.11.2020\n",
        "\n",
        "30 horas\n",
        "\n",
        "* Salesforce: 50 mi U$ @ 2017\n",
        "* 300-500 mil U$/ano\n",
        "\n",
        "1. Itaú, \n",
        "2. IBM, Intel, Microsoft\n",
        "3. Nvidia (GPU, redes neurais, deep learning)"
      ]
    },
    {
      "cell_type": "markdown",
      "metadata": {
        "id": "yxvccE9DVN_m"
      },
      "source": [
        "# Dicas\n",
        "1. Repositórios\n",
        " * UCI Machine Learning Repository\n",
        "1. Ferramentas\n",
        " * WECA (ML)"
      ]
    },
    {
      "cell_type": "markdown",
      "metadata": {
        "id": "RaXRCbTj6BLt"
      },
      "source": [
        "# Terminologia\n",
        "1. Inteligência artificial: desenvolver sistemas que simulem capacidade humana para resolver problemas\n",
        "1. Sistemas especialistas\n",
        "1. Machine learning: métodos matemáticos para treinar algoritmos\n",
        "    1. Redes neurais\n",
        "        1. Deep learning (aprendizado profundo): rede neural com muitas camadas\n",
        "2. Visão computacional\n",
        "1. Robótica\n",
        "1. Mineração de dados: extrair conhecimento de dados, usando ML\n",
        "1. Inteligência computacional: NN, computação evolucionária (genéticos), lógica nebulosa (fuzzy)\n",
        "\n",
        "1. Big data: imenso volume de dados\n",
        "1. Ciência de dados\n",
        " 1. exploração e análise de dados\n",
        " 1. computação + estatística\n",
        " 1. ML\n",
        "\n",
        "\n"
      ]
    },
    {
      "cell_type": "markdown",
      "metadata": {
        "id": "0wbDi-Me7rvJ"
      },
      "source": [
        "# Machine Learning\n",
        "1. Preditivo / supervisionado\n",
        "    1. Classificação\n",
        "    1. Regressão\n",
        "\n",
        "1. Descritivo / não supervisionado\n",
        "    1. Associação\n",
        "    1. Agrupamento\n",
        "    1. Detecção de desvios\n",
        "    1. Padrões sequenciais\n",
        "    1. Sumarização\n",
        "\n",
        "1. Reforço"
      ]
    },
    {
      "cell_type": "markdown",
      "metadata": {
        "id": "HMdX_m-j8AzD"
      },
      "source": [
        "## Exemplos\n",
        "1. Classificação (rótulo)\n",
        " 1. Marketing direto\n",
        " 1. Insatisfação de clientes\n",
        " 1. Risco de crédito\n",
        " 1. Filtros de spam\n",
        " 1. Separação de notícias\n",
        " 1. Reconhecimento de voz\n",
        " 1. Reconhecimento de face\n",
        " 1. Previsão de doença\n",
        "\n",
        "1. Regressão (número)\n",
        " 1. Propaganda > Venda\n",
        " 1. T, U, p > Vvento\n",
        " 1. fatores externos > valor dólar\n",
        " 1. exame > probabilidade de sobreviver\n",
        " 1. risco de investimento\n",
        " 1. histórico gasto crédito > limite\n",
        " 1. histórico valor > valor produto\n",
        "\n",
        "1. Associação\n",
        " 1. prateleira mercado\n",
        " 1. promoções conjunto\n",
        " 1. catálogos, folhetos\n",
        " 1. evasão escolar\n",
        "\n",
        "1. Agrupamento\n",
        " 1. segmentação de mercado\n",
        " 1. mala direta\n",
        " 1. documentos, notícias\n",
        " 1. produtos\n",
        " 1. perfil cliente (persona)\n",
        " 1. análise redes sociais\n",
        "\n",
        "1. Detecção de desvios (outliers)\n",
        " 1. fraude de cartão de crédito\n",
        " 1. intrusão em redes\n",
        " 1. uso de energia elétrica, água, telefone\n",
        " 1. desempenho atleta (doping) \n",
        " 1. monitorar máquina data center\n",
        "\n",
        "1. Descoberta padrões sequenciais\n",
        " 1. livrarias, lojas esportes, PCs\n",
        " 1. marketing direcionado\n",
        " 1. prevenir doenças\n",
        " 1. navegar sites\n",
        "\n",
        "1. Sumarização\n",
        " 1. resumir persona\n",
        " 1. segmentar mercado"
      ]
    },
    {
      "cell_type": "markdown",
      "metadata": {
        "id": "BWkMnubqzszY"
      },
      "source": [
        "## Preditivo / supervisionado\n",
        "\n",
        "1. Treinamento\n",
        " 1. Extração de características\n",
        " 1. Algoritmo de aprendizagem (+supervisor)\n",
        " 1. Modelo treinado\n",
        "\n",
        "1. Teste\n",
        " 1. Extração de características\n",
        " 1. Modelo treinado\n",
        " 1. Previsão "
      ]
    },
    {
      "cell_type": "markdown",
      "metadata": {
        "id": "128bGDlG0d-0"
      },
      "source": [
        "## Descritivo / não supervisionado\n",
        "\n",
        "1. Analisar automaticamente os dados\n",
        "1. Requer análise para determinar o signifcado dos padrões encontrados"
      ]
    },
    {
      "cell_type": "markdown",
      "metadata": {
        "id": "-sBToB_70zEu"
      },
      "source": [
        "## Por reforço\n",
        "1. Aprender com interações com ambiente (causa e efeito)\n",
        "1. Aprender com própria experiência\n",
        "\n",
        "Ex: Robôs\n",
        "\n",
        "SMA: Sistema Multi Agente"
      ]
    },
    {
      "cell_type": "markdown",
      "metadata": {
        "id": "g9Tvqgdx1MYb"
      },
      "source": [
        "# Classificação (intro)\n",
        "\n",
        "* 1 classe\n",
        "* relacionamento entre features e target\n",
        "* target conhecido (supervisionado)\n",
        "\n",
        "Método indutivo\n",
        "1. Treinamento (histórico)\n",
        " 1. Features, target\n",
        " 1. Sistema de aprendizado\n",
        " 1. Classificador\n",
        "1. Teste\n",
        " 1. Features\n",
        " 1. Classificador\n",
        " 1. Decisão\n",
        "\n",
        "\n",
        "\n",
        "1. Treinamento (histórico)\n",
        "1. Teste\n",
        "\n",
        "Naive Bayes (tabela probabilidade)\n",
        "Árvores decisão (árvore)\n",
        "Redes neurais (pesos)\n",
        "\n",
        "\n",
        "\n"
      ]
    },
    {
      "cell_type": "markdown",
      "metadata": {
        "id": "LZnbxUMWvuFT"
      },
      "source": [
        "## Bases\n"
      ]
    },
    {
      "cell_type": "markdown",
      "metadata": {
        "id": "IGxLziDJvw05"
      },
      "source": [
        "### Risco de crédito\n",
        "* features / previsores / independentes\n",
        " 1. História de crédito: Desconhecida, Ruim, Boa\n",
        " 1. Dívida: Alta, Baixa\n",
        " 1. Garantias: Nenhuma, Adequada\n",
        " 1. Renda Anual: <15.000, >=15.000 a <=35.000, >35.000\n",
        "* target: meta: classe / dependente\n",
        " 1. Risco: Alto, Moderado, Baixo"
      ]
    },
    {
      "cell_type": "markdown",
      "metadata": {
        "id": "c8juwTjSv3ES"
      },
      "source": [
        "### Venda de livros\n",
        "* features\n",
        "    1. Sexo: M,F\n",
        "    1. País: França, Inglaterra, Alemanha\n",
        "    1. Idade: inteiro\n",
        "* target\n",
        "    1. Comprar: Sim, Não"
      ]
    },
    {
      "cell_type": "markdown",
      "metadata": {
        "id": "OxnZAiuzv3an"
      },
      "source": [
        "### Prever esporte\n",
        "* features\n",
        "    1. Cor dos olhos: Castanho, Azul\n",
        "    1. Casado: Sim, Não\n",
        "    1. Sexo: M,F\n",
        "    1. Cabelo: Longo, Curto\n",
        "* target\n",
        "    1. Esporte: Futebol, Aeróbica"
      ]
    },
    {
      "cell_type": "markdown",
      "metadata": {
        "id": "iNelp40Dv3-E"
      },
      "source": [
        "### Jogar tênis\n",
        "* features\n",
        "    1. Tempo: Ensolarado, Nublado, Chuvoso\n",
        "    1. Temperatura: Quente, Moderada, Agradável\n",
        "    1. Umidade: Alta, Normal\n",
        "    1. Vento: Fraco, Forte\n",
        "* target\n",
        "    1. Jogar tênis: Sim, Não"
      ]
    },
    {
      "cell_type": "markdown",
      "metadata": {
        "id": "MNyi4rPXUflI"
      },
      "source": [
        "# Questionário 1"
      ]
    },
    {
      "cell_type": "markdown",
      "metadata": {
        "id": "TtpSNXh55G1K"
      },
      "source": [
        "1. Sistemas especialistas\n",
        " * É baseado no conhecimento do especialista humano e com base nesse conhecimento o sistema é capaz de fornecer respostas\n",
        "1. Visão computacional\n",
        " * Simula o sentido da visão do ser humano\n",
        "1. Algoritmos genéticos\n",
        " * Utiliza conceitos da área da genética para gerar as respostas\n",
        "1.  Processamento de linguagem natural\n",
        " * O computador aprende a semântica de uma frase, tanto escrita quanto falada"
      ]
    },
    {
      "cell_type": "markdown",
      "metadata": {
        "id": "Z1D40wTm6BcP"
      },
      "source": [
        "1. Inteligência artificial é a área da Ciência da Computação responsável pelo desenvolvimento de sistemas que simulem a capacidade HUMANA de resolver problemas.\n",
        "\n",
        "1. Mineração de dados é o processo de criar algoritmos para extrair conhecimento de bases de dados (F)\n",
        " * Mineração de dados é o processo de extrair conhecimento e não criar algoritmos"
      ]
    },
    {
      "cell_type": "markdown",
      "metadata": {
        "id": "YYMeyMpL6mZP"
      },
      "source": [
        "1. A classificação define um valor somente para todos os registros da base de dados (F)\n",
        "1. A regressão faz a previsão de valores numéricos (V)\n",
        "1. A classificação define uma classe para cada um dos registros (V)\n",
        "1. A regressão faz a definição de valores genéricos (F)\n",
        "1. Na classificação temos rótulos e na regressão temos números (V)\n",
        "1. Na regressão temos rótulos e na classificação temos números (F)"
      ]
    },
    {
      "cell_type": "markdown",
      "metadata": {
        "id": "zax3BLLX69Pb"
      },
      "source": [
        "1. Associação\n",
        " * Utilizadas em prateleiras de supermercados para encontrar produtos que são vendidos em conjunto\n",
        "1. Agrupamento\n",
        " * Encontrar grupos de clientes que irão comprar um produto para envio de mala direta\n",
        "1. Detecção de desvios (outliers)\n",
        " * Monitoramento de máquinas em data center\n",
        "1. Descoberta de padrões sequenciais\n",
        " * Navegação de sequência de páginas web\n",
        "1. Sumarização\n",
        " * Segmentação de mercado"
      ]
    },
    {
      "cell_type": "markdown",
      "metadata": {
        "id": "eXfOnUEP73Vq"
      },
      "source": [
        "Na aprendizagem supervisionada, o programa é treinado a partir do conhecimento de um supervisor e um conjunto de dados pré-definidos. Por outro lado, na aprendizagem não-supervisionada o programa encontra automaticamente padrões e relações em um conjunto de dados. (V)"
      ]
    },
    {
      "cell_type": "markdown",
      "metadata": {
        "id": "GxcQciTZ_h3z"
      },
      "source": [
        "# Parte 1 - Classificação\n",
        "\n",
        "1. Pré-processamento e preparação de bases de dados para classificação\n",
        "1. Aprendizagem bayesiana (algoritmo Naive Bayes)\n",
        "1. Aprendizagem por árvores de decisão (algoritmo básico de árvores e Random 1. Forest)\n",
        "1. Aprendizagem por regras (algoritmo OneR)\n",
        "1. Aprendizagem baseada em instâncias (algoritmo kNN)\n",
        "1. Regressão logística\n",
        "1. Máquinas de vetores de suporte (SVM)\n",
        "1. Redes neurais artificiais\n",
        "1. Avaliação de algoritmos de classificação\n",
        "1. Combinação e rejeição de classificadores"
      ]
    },
    {
      "cell_type": "markdown",
      "metadata": {
        "id": "Bx8eEgw0o41c"
      },
      "source": [
        "* Bias (viés)\n",
        " * erros por classificação errada\n",
        "* Variância\n",
        " * erros por sensibilidade pequena a mudanças na base de treino\n",
        " * pode levar a overfitting"
      ]
    },
    {
      "cell_type": "markdown",
      "metadata": {
        "id": "m2AH2iR7zVOY"
      },
      "source": [
        "## Generic classifier"
      ]
    },
    {
      "cell_type": "code",
      "metadata": {
        "id": "mWoOs0VfzVOb",
        "colab": {
          "base_uri": "https://localhost:8080/"
        },
        "outputId": "4ec7ae7b-342e-4c6a-d749-469598511e22"
      },
      "source": [
        "# load dataset\n",
        "import pandas as pd\n",
        "import numpy as np\n",
        "\n",
        "np.random.seed(0)\n",
        "\n",
        "# utils\n",
        "# Flatten a list or tuple inside a list or tuple\n",
        "flatten = lambda *n: (e for a in n\n",
        "        for e in (flatten(*a) if isinstance(a, (tuple, list)) else (a,)))\n",
        "\n",
        "def lst_from_dct_values(dct):\n",
        "    lst = list(dct.values())\n",
        "    lst = list(flatten(lst))\n",
        "    return lst\n",
        "\n",
        "def pre_process_impute_mean_on_negative_values(df,col=\"age\"):\n",
        "    # imput mean values rowwise on inconsistent values\n",
        "    # identify inconsistent values\n",
        "    mask = df[col]<0\n",
        "    idx = df.loc[mask].index\n",
        "    # compute mean without inconsistent values\n",
        "    mean = df[col].loc[~mask].mean()\n",
        "    # imput mean values rowwise on inconsistent values\n",
        "    df.loc[mask,col] = mean\n",
        "    pass\n",
        "\n",
        "lst_filename = [\"credit_data\", \"census\"]\n",
        "filename = \"census\"\n",
        "filename = \"credit_data\"\n",
        "\n",
        "print(\"Dataset:\",filename)\n",
        "\n",
        "# Set parameters\n",
        "lst_clf = [\"Naive Bayes\", \"Decision Tree\", \"Random Forest\"]\n",
        "# chosen_clf = \"Naive Bayes\"\n",
        "# chosen_clf = \"Decision Tree\"\n",
        "chosen_clf = \"Random Forest\"\n",
        "\n",
        "if filename == \"credit_data\":\n",
        "    dct_preprocess = {\n",
        "        \"imputer\":True,\n",
        "        \"scaler\":True,\n",
        "        \"label_encoder_features\":False,\n",
        "        \"one_hot_encoder_features\":False,\n",
        "        \"label_encoder_target\":False\n",
        "        }\n",
        "\n",
        "if filename == \"census\":\n",
        "    dct_preprocess = {\n",
        "        \"imputer\":False,\n",
        "        \"scaler\":False,\n",
        "        \"label_encoder_features\":True,\n",
        "        \"one_hot_encoder_features\":True,\n",
        "        \"label_encoder_target\":True\n",
        "        }\n",
        "\n",
        "df = pd.read_csv(filename+'.csv')\n",
        "\n",
        "# Features and target selection\n",
        "X = df.iloc[:,:-1].values\n",
        "y = df.iloc[:,-1].values\n",
        "\n",
        "# Dataset specific pre_process\n",
        "if filename == \"credit_data\":\n",
        "    dct_names = {\"id\": \"clientid\",\n",
        "                    \"features\": [\"income\", \"age\", \"loan\"],\n",
        "                    \"target\": \"default\"}\n",
        "    df.columns = lst_from_dct_values(dct_names)\n",
        "    pre_process_impute_mean_on_negative_values(df,col=\"age\")\n",
        "\n",
        "    # Drop id and target\n",
        "    X = df.loc[:,dct_names[\"features\"]].values\n",
        "\n",
        "# Help lst\n",
        "# identify columns with string data\n",
        "lst_col_str = [col for col in df.columns if df[col].dtypes==\"object\"]\n",
        "# remove target name\n",
        "try:\n",
        "    lst_col_str.pop(-1)\n",
        "except:\n",
        "    print(\"only numeric data\\n\")\n",
        "# get index from categorical features\n",
        "lst_idx_col_str = [df.columns.get_loc(col_name) for col_name in lst_col_str]\n",
        "\n",
        "# All features, desconsider target name\n",
        "lst_feature_idx_to_label_encoder = range(len(df.columns)-1)\n",
        "if filename == \"census\":\n",
        "    lst_feature_idx_to_label_encoder = lst_idx_col_str \n",
        "    pass\n",
        "\n",
        "# General pre_process\n",
        "\n",
        "# Encoding\n",
        "if dct_preprocess[\"label_encoder_features\"]:\n",
        "    from sklearn.preprocessing import LabelEncoder\n",
        "    labelencoder = LabelEncoder()\n",
        "    dct_label_encoder = {}\n",
        "    for idx in lst_feature_idx_to_label_encoder:\n",
        "        X[:,idx] = labelencoder.fit_transform(X[:,idx])\n",
        "        dct_label = {}\n",
        "        for jj, label in enumerate(labelencoder.classes_):\n",
        "            dct_label[label] =  jj\n",
        "        dct_label_encoder[df.columns[idx]] = dct_label\n",
        "\n",
        "if dct_preprocess[\"one_hot_encoder_features\"]:\n",
        "    from sklearn.preprocessing import OneHotEncoder\n",
        "    from sklearn.compose import ColumnTransformer\n",
        "    onehotencorder = ColumnTransformer(\n",
        "        transformers=[\n",
        "            (\"OneHot\", OneHotEncoder(), lst_feature_idx_to_label_encoder)\n",
        "            ]\n",
        "        , remainder='passthrough'\n",
        "        )\n",
        "    X = onehotencorder.fit_transform(X).toarray()\n",
        "\n",
        "if dct_preprocess[\"label_encoder_target\"]:\n",
        "    labelencorder = LabelEncoder()\n",
        "    y = labelencorder.fit_transform(y)\n",
        "\n",
        "if dct_preprocess[\"imputer\"]:\n",
        "    from sklearn.impute import SimpleImputer\n",
        "    # imput mean values on missing values\n",
        "    imputer = SimpleImputer(\n",
        "        missing_values=np.nan\n",
        "        , strategy=\"mean\"\n",
        "    )\n",
        "    imputer = imputer.fit(X[:,:])\n",
        "    X[:,:] = imputer.transform(X[:,:])\n",
        "\n",
        "if dct_preprocess[\"scaler\"]:\n",
        "    # perde interpretação\n",
        "    # nao faz muito sentido junto com o one_hot_encoder\n",
        "    from sklearn.preprocessing import StandardScaler\n",
        "    # Standardization\n",
        "    scaler = StandardScaler()\n",
        "    X = scaler.fit_transform(X) \n",
        "\n",
        "# Train-test split\n",
        "from sklearn.model_selection import train_test_split\n",
        "X_train, X_test, y_train, y_test = train_test_split(\n",
        "    X\n",
        "    , y\n",
        "    , test_size=0.15\n",
        "    #, random_state=0  # global np.random.seed(0)\n",
        ")\n",
        "\n",
        "# Classifier\n",
        "if chosen_clf == \"Naive Bayes\":\n",
        "    from sklearn.naive_bayes import GaussianNB\n",
        "    clf = GaussianNB()\n",
        "\n",
        "if chosen_clf == \"Decision Tree\":\n",
        "    # decision tree doesn't deal with categorical data\n",
        "    from sklearn.tree import (\n",
        "        DecisionTreeClassifier, export_graphviz, plot_tree, export_text\n",
        "    )\n",
        "    clf = DecisionTreeClassifier(\n",
        "        criterion='entropy'  # \"entropy\", default: \"gini\"\n",
        "        , splitter=\"best\"  # \"random\", default: \"best\"\n",
        "        , max_depth=None  # : int, default=None\n",
        "        , min_samples_split=2 # : int or float, default=2\n",
        "        , min_samples_leaf=1 # : int or float, default=1\n",
        "        , max_leaf_nodes=None # : int, default=None\n",
        "        , min_weight_fraction_leaf=0.0 # : float, default=0.0\n",
        "        , max_features=None # int, float or {\"auto\",\"sqrt\",\"log2\"}, default=None\n",
        "        #, random_state=0\n",
        "        )\n",
        "\n",
        "if chosen_clf == \"Random Forest\":\n",
        "    from sklearn.ensemble import RandomForestClassifier\n",
        "    clf = RandomForestClassifier(\n",
        "        n_estimators=40 # int (default=100)\n",
        "        , criterion=\"entropy\" # str (default=\"gini\") \"entropy\"\n",
        "        , max_depth=None # int or None (default=None)\n",
        "        , min_samples_split=2 # int, float (default=2)\n",
        "        , min_samples_leaf=1 # int, float (default=1)\n",
        "        , min_weight_fraction_leaf=0. # float (default=0.)\n",
        "        , max_features=\"auto\" # int, float, string or None (default=\"auto\")\n",
        "        , min_impurity_decrease=0. # float (default=0.)\n",
        "        , bootstrap=True # bool (default=True)\n",
        "        , oob_score=False # bool (default=False) # out of bag\n",
        "        , n_jobs=None # int or None (default=None) -1: all processors\n",
        "        , warm_start=False # bool (default=False)\n",
        "        , max_samples=None # int or float default=None\n",
        "        )\n",
        "\n",
        "\n",
        "\n",
        "# Train\n",
        "clf.fit(X_train, y_train)\n",
        "# Predict\n",
        "y_pred = clf.predict(X_test)\n",
        "\n",
        "print(\"Classifier:\", chosen_clf)\n",
        "\n",
        "print(\"Classes:\",clf.classes_)\n",
        "\n",
        "# Evaluation\n",
        "from sklearn.metrics import confusion_matrix, accuracy_score\n",
        "score = accuracy_score(y_test, y_pred)\n",
        "confusion_matrix = confusion_matrix(y_test, y_pred)\n",
        "\n",
        "print(\"\\nConfusion matrix\\n\",confusion_matrix)\n",
        "print(\"\\nAccuracy:\",score)\n",
        "\n",
        "if chosen_clf == \"Decision Tree\":\n",
        "    if filename == \"credit_data\":\n",
        "        print(\"\\nFeature importances:\",clf.feature_importances_)\n",
        "        r = export_text(clf, feature_names=dct_names[\"features\"])\n",
        "        print(r)\n",
        "        import graphviz \n",
        "        dot_data = export_graphviz(\n",
        "            clf,\n",
        "            out_file=None,\n",
        "            feature_names=dct_names[\"features\"],\n",
        "            #    class_names=clf.classes_,\n",
        "            filled=True,\n",
        "            leaves_parallel=True,\n",
        "            rounded=True,  \n",
        "            special_characters=True\n",
        "            )\n",
        "        graph = graphviz.Source(dot_data) \n",
        "        \n",
        "    pass"
      ],
      "execution_count": null,
      "outputs": [
        {
          "output_type": "stream",
          "text": [
            "Dataset: credit_data\n",
            "only numeric data\n",
            "\n",
            "Classifier: Random Forest\n",
            "Classes: [0 1]\n",
            "\n",
            "Confusion matrix\n",
            " [[257   3]\n",
            " [  3  37]]\n",
            "\n",
            "Accuracy: 0.98\n"
          ],
          "name": "stdout"
        }
      ]
    },
    {
      "cell_type": "markdown",
      "metadata": {
        "id": "ixhNu_yCAORJ"
      },
      "source": [
        "## Pré-processamento e preparação de bases de dados para classificação\n",
        "1. Bases\n",
        " * Dados de crédito\n",
        " * Censo (adult Data Set from UCI)\n",
        "1. Carregar bases\n",
        "1. Valores inconsistentes\n",
        "1. Valores faltantes\n",
        "1. Escalonamento de atributos\n",
        "1. Transformação de variáveis categóricas\n",
        "1. Introdução à avaliação de algoritmos\n",
        "1. Pandas\n"
      ]
    },
    {
      "cell_type": "markdown",
      "metadata": {
        "id": "DhDG3nHLAsW9"
      },
      "source": [
        "### Tipos de variáveis\n",
        "1. Numéricas\n",
        "    1. Contínua (float)\n",
        "    1. Discreta (int)\n",
        "1. Categóricas (str)\n",
        " 1. Nominal (não mensurável, sem ordem)\n",
        " 1. Ordinal (tamanho: P,M,G)\n",
        "\n",
        "* regras de associação não trabalham com dados numéricos"
      ]
    },
    {
      "cell_type": "markdown",
      "metadata": {
        "id": "6ZC0UsmJBSeO"
      },
      "source": [
        "credit_date.csv\n",
        "* features\n",
        " 1. clientid: int (categórica nominal)\n",
        " 1. income: float (renda anual, numérica contínua)\n",
        " 1. age: float (numérica contínua)\n",
        " 1. loan: boolean (empréstimo solicitado, numérica discreta)\n",
        "* target\n",
        " 1. default: 0,1 (pagou: 1, 0: nao)\n",
        "\n",
        "2000 registros, 4 features, 1 target"
      ]
    },
    {
      "cell_type": "code",
      "metadata": {
        "id": "87iTEcQF68ot",
        "colab": {
          "base_uri": "https://localhost:8080/",
          "height": 297
        },
        "outputId": "2d31d347-f693-4880-ab7e-ab691d8b51c9"
      },
      "source": [
        "# load dataset\n",
        "import pandas as pd\n",
        "filename = \"credit_data.csv\"\n",
        "df = pd.read_csv(filename)\n",
        "df.describe()\n"
      ],
      "execution_count": null,
      "outputs": [
        {
          "output_type": "execute_result",
          "data": {
            "text/html": [
              "<div>\n",
              "<style scoped>\n",
              "    .dataframe tbody tr th:only-of-type {\n",
              "        vertical-align: middle;\n",
              "    }\n",
              "\n",
              "    .dataframe tbody tr th {\n",
              "        vertical-align: top;\n",
              "    }\n",
              "\n",
              "    .dataframe thead th {\n",
              "        text-align: right;\n",
              "    }\n",
              "</style>\n",
              "<table border=\"1\" class=\"dataframe\">\n",
              "  <thead>\n",
              "    <tr style=\"text-align: right;\">\n",
              "      <th></th>\n",
              "      <th>i#clientid</th>\n",
              "      <th>income</th>\n",
              "      <th>age</th>\n",
              "      <th>loan</th>\n",
              "      <th>c#default</th>\n",
              "    </tr>\n",
              "  </thead>\n",
              "  <tbody>\n",
              "    <tr>\n",
              "      <th>count</th>\n",
              "      <td>2000.000000</td>\n",
              "      <td>2000.000000</td>\n",
              "      <td>1997.000000</td>\n",
              "      <td>2000.000000</td>\n",
              "      <td>2000.000000</td>\n",
              "    </tr>\n",
              "    <tr>\n",
              "      <th>mean</th>\n",
              "      <td>1000.500000</td>\n",
              "      <td>45331.600018</td>\n",
              "      <td>40.807559</td>\n",
              "      <td>4444.369695</td>\n",
              "      <td>0.141500</td>\n",
              "    </tr>\n",
              "    <tr>\n",
              "      <th>std</th>\n",
              "      <td>577.494589</td>\n",
              "      <td>14326.327119</td>\n",
              "      <td>13.624469</td>\n",
              "      <td>3045.410024</td>\n",
              "      <td>0.348624</td>\n",
              "    </tr>\n",
              "    <tr>\n",
              "      <th>min</th>\n",
              "      <td>1.000000</td>\n",
              "      <td>20014.489470</td>\n",
              "      <td>-52.423280</td>\n",
              "      <td>1.377630</td>\n",
              "      <td>0.000000</td>\n",
              "    </tr>\n",
              "    <tr>\n",
              "      <th>25%</th>\n",
              "      <td>500.750000</td>\n",
              "      <td>32796.459717</td>\n",
              "      <td>28.990415</td>\n",
              "      <td>1939.708847</td>\n",
              "      <td>0.000000</td>\n",
              "    </tr>\n",
              "    <tr>\n",
              "      <th>50%</th>\n",
              "      <td>1000.500000</td>\n",
              "      <td>45789.117313</td>\n",
              "      <td>41.317159</td>\n",
              "      <td>3974.719419</td>\n",
              "      <td>0.000000</td>\n",
              "    </tr>\n",
              "    <tr>\n",
              "      <th>75%</th>\n",
              "      <td>1500.250000</td>\n",
              "      <td>57791.281668</td>\n",
              "      <td>52.587040</td>\n",
              "      <td>6432.410625</td>\n",
              "      <td>0.000000</td>\n",
              "    </tr>\n",
              "    <tr>\n",
              "      <th>max</th>\n",
              "      <td>2000.000000</td>\n",
              "      <td>69995.685578</td>\n",
              "      <td>63.971796</td>\n",
              "      <td>13766.051239</td>\n",
              "      <td>1.000000</td>\n",
              "    </tr>\n",
              "  </tbody>\n",
              "</table>\n",
              "</div>"
            ],
            "text/plain": [
              "        i#clientid        income          age          loan    c#default\n",
              "count  2000.000000   2000.000000  1997.000000   2000.000000  2000.000000\n",
              "mean   1000.500000  45331.600018    40.807559   4444.369695     0.141500\n",
              "std     577.494589  14326.327119    13.624469   3045.410024     0.348624\n",
              "min       1.000000  20014.489470   -52.423280      1.377630     0.000000\n",
              "25%     500.750000  32796.459717    28.990415   1939.708847     0.000000\n",
              "50%    1000.500000  45789.117313    41.317159   3974.719419     0.000000\n",
              "75%    1500.250000  57791.281668    52.587040   6432.410625     0.000000\n",
              "max    2000.000000  69995.685578    63.971796  13766.051239     1.000000"
            ]
          },
          "metadata": {
            "tags": []
          },
          "execution_count": 31
        }
      ]
    },
    {
      "cell_type": "code",
      "metadata": {
        "id": "Qi9Lq6RPKRXk"
      },
      "source": [
        "dct_names = {\"id\": \"clientid\",\n",
        "             \"features\": [\"income\", \"age\", \"loan\"],\n",
        "             \"target\": \"default\"}\n",
        "lst_columns = list(dct_names.values())\n",
        "\n",
        "flatten = lambda *n: (e for a in n\n",
        "    for e in (flatten(*a) if isinstance(a, (tuple, list)) else (a,)))\n",
        "\n",
        "lst_columns = list(flatten(lst_columns))\n",
        "\n",
        "df.columns=lst_columns\n",
        "\n",
        "X = df.loc[:,dct_names[\"features\"]].values\n",
        "\n",
        "y = df.loc[:,dct_names[\"target\"]].values"
      ],
      "execution_count": null,
      "outputs": []
    },
    {
      "cell_type": "markdown",
      "metadata": {
        "id": "z5RgEUpVU6kU"
      },
      "source": [
        "### Imputação"
      ]
    },
    {
      "cell_type": "markdown",
      "metadata": {
        "id": "r4tJMkgvU-zp"
      },
      "source": [
        "#### Inconsistente"
      ]
    },
    {
      "cell_type": "code",
      "metadata": {
        "id": "QFfW_SIY5HsR",
        "colab": {
          "base_uri": "https://localhost:8080/",
          "height": 49
        },
        "outputId": "431ad8b3-7368-4331-bf14-09c2f42ccb83"
      },
      "source": [
        "# identify inconsistent values\n",
        "col = \"age\"\n",
        "mask = df[col]<0\n",
        "idx = df.loc[mask].index\n",
        "\n",
        "df.iloc[idx]"
      ],
      "execution_count": null,
      "outputs": [
        {
          "output_type": "execute_result",
          "data": {
            "text/html": [
              "<div>\n",
              "<style scoped>\n",
              "    .dataframe tbody tr th:only-of-type {\n",
              "        vertical-align: middle;\n",
              "    }\n",
              "\n",
              "    .dataframe tbody tr th {\n",
              "        vertical-align: top;\n",
              "    }\n",
              "\n",
              "    .dataframe thead th {\n",
              "        text-align: right;\n",
              "    }\n",
              "</style>\n",
              "<table border=\"1\" class=\"dataframe\">\n",
              "  <thead>\n",
              "    <tr style=\"text-align: right;\">\n",
              "      <th></th>\n",
              "      <th>clientid</th>\n",
              "      <th>income</th>\n",
              "      <th>age</th>\n",
              "      <th>loan</th>\n",
              "      <th>default</th>\n",
              "    </tr>\n",
              "  </thead>\n",
              "  <tbody>\n",
              "  </tbody>\n",
              "</table>\n",
              "</div>"
            ],
            "text/plain": [
              "Empty DataFrame\n",
              "Columns: [clientid, income, age, loan, default]\n",
              "Index: []"
            ]
          },
          "metadata": {
            "tags": []
          },
          "execution_count": 55
        }
      ]
    },
    {
      "cell_type": "code",
      "metadata": {
        "id": "c3cgrW3LE2jc",
        "colab": {
          "base_uri": "https://localhost:8080/"
        },
        "outputId": "fa00859f-eb2c-45dd-8951-d1bc27187566"
      },
      "source": [
        "# compute mean without inconsistent values\n",
        "mean = df[col].loc[~mask].mean()\n",
        "\n",
        "# TODO: check if consider missing values\n",
        "mean"
      ],
      "execution_count": null,
      "outputs": [
        {
          "output_type": "execute_result",
          "data": {
            "text/plain": [
              "40.92770044906149"
            ]
          },
          "metadata": {
            "tags": []
          },
          "execution_count": 33
        }
      ]
    },
    {
      "cell_type": "code",
      "metadata": {
        "id": "73sUBK_-E2gj",
        "colab": {
          "base_uri": "https://localhost:8080/",
          "height": 142
        },
        "outputId": "b1d3f5f8-82ee-45b2-e8dc-e9423b10a4b4"
      },
      "source": [
        "# imput mean values rowwise on inconsistent values\n",
        "df.loc[mask,col] = mean\n",
        "df.iloc[idx]"
      ],
      "execution_count": null,
      "outputs": [
        {
          "output_type": "execute_result",
          "data": {
            "text/html": [
              "<div>\n",
              "<style scoped>\n",
              "    .dataframe tbody tr th:only-of-type {\n",
              "        vertical-align: middle;\n",
              "    }\n",
              "\n",
              "    .dataframe tbody tr th {\n",
              "        vertical-align: top;\n",
              "    }\n",
              "\n",
              "    .dataframe thead th {\n",
              "        text-align: right;\n",
              "    }\n",
              "</style>\n",
              "<table border=\"1\" class=\"dataframe\">\n",
              "  <thead>\n",
              "    <tr style=\"text-align: right;\">\n",
              "      <th></th>\n",
              "      <th>i#clientid</th>\n",
              "      <th>income</th>\n",
              "      <th>age</th>\n",
              "      <th>loan</th>\n",
              "      <th>c#default</th>\n",
              "    </tr>\n",
              "  </thead>\n",
              "  <tbody>\n",
              "    <tr>\n",
              "      <th>15</th>\n",
              "      <td>16</td>\n",
              "      <td>50501.726689</td>\n",
              "      <td>40.9277</td>\n",
              "      <td>3977.287432</td>\n",
              "      <td>0</td>\n",
              "    </tr>\n",
              "    <tr>\n",
              "      <th>21</th>\n",
              "      <td>22</td>\n",
              "      <td>32197.620701</td>\n",
              "      <td>40.9277</td>\n",
              "      <td>4244.057136</td>\n",
              "      <td>0</td>\n",
              "    </tr>\n",
              "    <tr>\n",
              "      <th>26</th>\n",
              "      <td>27</td>\n",
              "      <td>63287.038908</td>\n",
              "      <td>40.9277</td>\n",
              "      <td>9595.286289</td>\n",
              "      <td>0</td>\n",
              "    </tr>\n",
              "  </tbody>\n",
              "</table>\n",
              "</div>"
            ],
            "text/plain": [
              "    i#clientid        income      age         loan  c#default\n",
              "15          16  50501.726689  40.9277  3977.287432          0\n",
              "21          22  32197.620701  40.9277  4244.057136          0\n",
              "26          27  63287.038908  40.9277  9595.286289          0"
            ]
          },
          "metadata": {
            "tags": []
          },
          "execution_count": 34
        }
      ]
    },
    {
      "cell_type": "code",
      "metadata": {
        "id": "t3cDuxGcD-aU",
        "colab": {
          "base_uri": "https://localhost:8080/",
          "height": 204
        },
        "outputId": "ee4b0240-74a5-4f35-a2ae-0017b1e0d4bb"
      },
      "source": [
        "# remove column\n",
        "# df.drop(col, 1, inplace=True)\n",
        "# df.head()"
      ],
      "execution_count": null,
      "outputs": [
        {
          "output_type": "execute_result",
          "data": {
            "text/html": [
              "<div>\n",
              "<style scoped>\n",
              "    .dataframe tbody tr th:only-of-type {\n",
              "        vertical-align: middle;\n",
              "    }\n",
              "\n",
              "    .dataframe tbody tr th {\n",
              "        vertical-align: top;\n",
              "    }\n",
              "\n",
              "    .dataframe thead th {\n",
              "        text-align: right;\n",
              "    }\n",
              "</style>\n",
              "<table border=\"1\" class=\"dataframe\">\n",
              "  <thead>\n",
              "    <tr style=\"text-align: right;\">\n",
              "      <th></th>\n",
              "      <th>i#clientid</th>\n",
              "      <th>income</th>\n",
              "      <th>loan</th>\n",
              "      <th>c#default</th>\n",
              "    </tr>\n",
              "  </thead>\n",
              "  <tbody>\n",
              "    <tr>\n",
              "      <th>0</th>\n",
              "      <td>1</td>\n",
              "      <td>66155.925095</td>\n",
              "      <td>8106.532131</td>\n",
              "      <td>0</td>\n",
              "    </tr>\n",
              "    <tr>\n",
              "      <th>1</th>\n",
              "      <td>2</td>\n",
              "      <td>34415.153966</td>\n",
              "      <td>6564.745018</td>\n",
              "      <td>0</td>\n",
              "    </tr>\n",
              "    <tr>\n",
              "      <th>2</th>\n",
              "      <td>3</td>\n",
              "      <td>57317.170063</td>\n",
              "      <td>8020.953296</td>\n",
              "      <td>0</td>\n",
              "    </tr>\n",
              "    <tr>\n",
              "      <th>3</th>\n",
              "      <td>4</td>\n",
              "      <td>42709.534201</td>\n",
              "      <td>6103.642260</td>\n",
              "      <td>0</td>\n",
              "    </tr>\n",
              "    <tr>\n",
              "      <th>4</th>\n",
              "      <td>5</td>\n",
              "      <td>66952.688845</td>\n",
              "      <td>8770.099235</td>\n",
              "      <td>1</td>\n",
              "    </tr>\n",
              "  </tbody>\n",
              "</table>\n",
              "</div>"
            ],
            "text/plain": [
              "   i#clientid        income         loan  c#default\n",
              "0           1  66155.925095  8106.532131          0\n",
              "1           2  34415.153966  6564.745018          0\n",
              "2           3  57317.170063  8020.953296          0\n",
              "3           4  42709.534201  6103.642260          0\n",
              "4           5  66952.688845  8770.099235          1"
            ]
          },
          "metadata": {
            "tags": []
          },
          "execution_count": 7
        }
      ]
    },
    {
      "cell_type": "code",
      "metadata": {
        "id": "bRcqToTiD-W9",
        "colab": {
          "base_uri": "https://localhost:8080/",
          "height": 142
        },
        "outputId": "278c3d9d-4377-41dc-e08f-03d71c1db095"
      },
      "source": [
        "# remove rows\n",
        "# df.drop(idx, inplace=True)\n",
        "# df.iloc[idx]"
      ],
      "execution_count": null,
      "outputs": [
        {
          "output_type": "execute_result",
          "data": {
            "text/html": [
              "<div>\n",
              "<style scoped>\n",
              "    .dataframe tbody tr th:only-of-type {\n",
              "        vertical-align: middle;\n",
              "    }\n",
              "\n",
              "    .dataframe tbody tr th {\n",
              "        vertical-align: top;\n",
              "    }\n",
              "\n",
              "    .dataframe thead th {\n",
              "        text-align: right;\n",
              "    }\n",
              "</style>\n",
              "<table border=\"1\" class=\"dataframe\">\n",
              "  <thead>\n",
              "    <tr style=\"text-align: right;\">\n",
              "      <th></th>\n",
              "      <th>i#clientid</th>\n",
              "      <th>income</th>\n",
              "      <th>age</th>\n",
              "      <th>loan</th>\n",
              "      <th>c#default</th>\n",
              "    </tr>\n",
              "  </thead>\n",
              "  <tbody>\n",
              "    <tr>\n",
              "      <th>16</th>\n",
              "      <td>17</td>\n",
              "      <td>43548.654711</td>\n",
              "      <td>39.574530</td>\n",
              "      <td>3935.544453</td>\n",
              "      <td>0</td>\n",
              "    </tr>\n",
              "    <tr>\n",
              "      <th>23</th>\n",
              "      <td>24</td>\n",
              "      <td>27845.800894</td>\n",
              "      <td>51.970624</td>\n",
              "      <td>4959.921226</td>\n",
              "      <td>0</td>\n",
              "    </tr>\n",
              "    <tr>\n",
              "      <th>29</th>\n",
              "      <td>30</td>\n",
              "      <td>58842.891308</td>\n",
              "      <td>54.510948</td>\n",
              "      <td>10871.186790</td>\n",
              "      <td>0</td>\n",
              "    </tr>\n",
              "  </tbody>\n",
              "</table>\n",
              "</div>"
            ],
            "text/plain": [
              "    i#clientid        income        age          loan  c#default\n",
              "16          17  43548.654711  39.574530   3935.544453          0\n",
              "23          24  27845.800894  51.970624   4959.921226          0\n",
              "29          30  58842.891308  54.510948  10871.186790          0"
            ]
          },
          "metadata": {
            "tags": []
          },
          "execution_count": 30
        }
      ]
    },
    {
      "cell_type": "markdown",
      "metadata": {
        "id": "opEGo5slVCKx"
      },
      "source": [
        "#### Faltante"
      ]
    },
    {
      "cell_type": "code",
      "metadata": {
        "id": "6AdU6GMWE2eB",
        "colab": {
          "base_uri": "https://localhost:8080/",
          "height": 142
        },
        "outputId": "af3df687-5b9b-4a9b-d977-9e5004ab5760"
      },
      "source": [
        "# missing values\n",
        "mask = df[col].isnull()\n",
        "mask.sum()\n",
        "df.loc[mask]"
      ],
      "execution_count": null,
      "outputs": [
        {
          "output_type": "execute_result",
          "data": {
            "text/html": [
              "<div>\n",
              "<style scoped>\n",
              "    .dataframe tbody tr th:only-of-type {\n",
              "        vertical-align: middle;\n",
              "    }\n",
              "\n",
              "    .dataframe tbody tr th {\n",
              "        vertical-align: top;\n",
              "    }\n",
              "\n",
              "    .dataframe thead th {\n",
              "        text-align: right;\n",
              "    }\n",
              "</style>\n",
              "<table border=\"1\" class=\"dataframe\">\n",
              "  <thead>\n",
              "    <tr style=\"text-align: right;\">\n",
              "      <th></th>\n",
              "      <th>clientid</th>\n",
              "      <th>income</th>\n",
              "      <th>age</th>\n",
              "      <th>loan</th>\n",
              "      <th>default</th>\n",
              "    </tr>\n",
              "  </thead>\n",
              "  <tbody>\n",
              "    <tr>\n",
              "      <th>28</th>\n",
              "      <td>29</td>\n",
              "      <td>59417.805406</td>\n",
              "      <td>NaN</td>\n",
              "      <td>2082.625938</td>\n",
              "      <td>0</td>\n",
              "    </tr>\n",
              "    <tr>\n",
              "      <th>30</th>\n",
              "      <td>31</td>\n",
              "      <td>48528.852796</td>\n",
              "      <td>NaN</td>\n",
              "      <td>6155.784670</td>\n",
              "      <td>0</td>\n",
              "    </tr>\n",
              "    <tr>\n",
              "      <th>31</th>\n",
              "      <td>32</td>\n",
              "      <td>23526.302555</td>\n",
              "      <td>NaN</td>\n",
              "      <td>2862.010139</td>\n",
              "      <td>0</td>\n",
              "    </tr>\n",
              "  </tbody>\n",
              "</table>\n",
              "</div>"
            ],
            "text/plain": [
              "    clientid        income  age         loan  default\n",
              "28        29  59417.805406  NaN  2082.625938        0\n",
              "30        31  48528.852796  NaN  6155.784670        0\n",
              "31        32  23526.302555  NaN  2862.010139        0"
            ]
          },
          "metadata": {
            "tags": []
          },
          "execution_count": 78
        }
      ]
    },
    {
      "cell_type": "code",
      "metadata": {
        "id": "XLczQJFHE2a6"
      },
      "source": [
        "import numpy as np\n",
        "from sklearn.impute import SimpleImputer\n",
        "\n",
        "imputer = SimpleImputer(\n",
        "    missing_values=np.nan\n",
        "    , strategy=\"mean\"\n",
        "    )"
      ],
      "execution_count": null,
      "outputs": []
    },
    {
      "cell_type": "code",
      "metadata": {
        "id": "zvNWu4WJPi57"
      },
      "source": [
        "imputer = imputer.fit(X[:,:])\n",
        "\n",
        "X[:,:] = imputer.transform(X[:,:])"
      ],
      "execution_count": null,
      "outputs": []
    },
    {
      "cell_type": "code",
      "metadata": {
        "id": "5my7KoDIQ4-c",
        "colab": {
          "base_uri": "https://localhost:8080/"
        },
        "outputId": "45781948-0e1a-46a3-9a47-0333950c55c6"
      },
      "source": [
        "idx = df.loc[mask].index.values\n",
        "idx"
      ],
      "execution_count": null,
      "outputs": [
        {
          "output_type": "execute_result",
          "data": {
            "text/plain": [
              "array([28, 30, 31])"
            ]
          },
          "metadata": {
            "tags": []
          },
          "execution_count": 83
        }
      ]
    },
    {
      "cell_type": "code",
      "metadata": {
        "id": "XjgBYkrfR03k",
        "colab": {
          "base_uri": "https://localhost:8080/"
        },
        "outputId": "4ebfd712-1d55-4dba-ca22-16a1e5e37d4e"
      },
      "source": [
        "X[idx,:]"
      ],
      "execution_count": null,
      "outputs": [
        {
          "output_type": "execute_result",
          "data": {
            "text/plain": [
              "array([[5.94178054e+04, 4.09277004e+01, 2.08262594e+03],\n",
              "       [4.85288528e+04, 4.09277004e+01, 6.15578467e+03],\n",
              "       [2.35263026e+04, 4.09277004e+01, 2.86201014e+03]])"
            ]
          },
          "metadata": {
            "tags": []
          },
          "execution_count": 84
        }
      ]
    },
    {
      "cell_type": "markdown",
      "metadata": {
        "id": "2BQl-Y6qTKGx"
      },
      "source": [
        "### Escalonamento\n",
        "* importante para algoritmos baseados em distância Euclideana como o KNN\n",
        "* Melhora performance (algoritmo roda mais rápido)\n",
        "\n",
        "Padronização (Standardisation)\n",
        "* mais robusta contra outliers\n",
        "$$ x = \\frac{x-\\mu}{\\sigma} $$\n",
        "\n",
        "Normalização (Normalization)\n",
        "$$ x = \\frac{x-x_{min}}{x_{max}-x_{min}} $$"
      ]
    },
    {
      "cell_type": "code",
      "metadata": {
        "id": "EH53ug0WScGc",
        "colab": {
          "base_uri": "https://localhost:8080/"
        },
        "outputId": "f9eaf85f-7690-4c9e-842d-fe9ef2598e54"
      },
      "source": [
        "from sklearn.preprocessing import StandardScaler\n",
        "\n",
        "scaler = StandardScaler()\n",
        "X = scaler.fit_transform(X)\n",
        "X"
      ],
      "execution_count": null,
      "outputs": [
        {
          "output_type": "execute_result",
          "data": {
            "text/plain": [
              "array([[ 1.45393393,  1.36538005,  1.20281942],\n",
              "       [-0.76217555,  0.54265932,  0.69642695],\n",
              "       [ 0.83682073,  1.67417101,  1.17471147],\n",
              "       ...,\n",
              "       [-0.07122592, -0.97448606,  0.35420081],\n",
              "       [-0.11000289,  1.73936652, -0.92675625],\n",
              "       [ 1.682986  ,  1.14917551,  0.96381038]])"
            ]
          },
          "metadata": {
            "tags": []
          },
          "execution_count": 85
        }
      ]
    },
    {
      "cell_type": "markdown",
      "metadata": {
        "id": "gIOh5CP8VgBw"
      },
      "source": [
        "### Censo"
      ]
    },
    {
      "cell_type": "code",
      "metadata": {
        "id": "kZiRYwVycrw6",
        "colab": {
          "base_uri": "https://localhost:8080/",
          "height": 297
        },
        "outputId": "8b514ecb-30c5-4014-edc1-f0bf66081dc4"
      },
      "source": [
        "filename = \"census.csv\"\n",
        "df = pd.read_csv(filename)\n",
        "df.describe()"
      ],
      "execution_count": null,
      "outputs": [
        {
          "output_type": "execute_result",
          "data": {
            "text/html": [
              "<div>\n",
              "<style scoped>\n",
              "    .dataframe tbody tr th:only-of-type {\n",
              "        vertical-align: middle;\n",
              "    }\n",
              "\n",
              "    .dataframe tbody tr th {\n",
              "        vertical-align: top;\n",
              "    }\n",
              "\n",
              "    .dataframe thead th {\n",
              "        text-align: right;\n",
              "    }\n",
              "</style>\n",
              "<table border=\"1\" class=\"dataframe\">\n",
              "  <thead>\n",
              "    <tr style=\"text-align: right;\">\n",
              "      <th></th>\n",
              "      <th>age</th>\n",
              "      <th>final-weight</th>\n",
              "      <th>education-num</th>\n",
              "      <th>capital-gain</th>\n",
              "      <th>capital-loos</th>\n",
              "      <th>hour-per-week</th>\n",
              "    </tr>\n",
              "  </thead>\n",
              "  <tbody>\n",
              "    <tr>\n",
              "      <th>count</th>\n",
              "      <td>32561.000000</td>\n",
              "      <td>3.256100e+04</td>\n",
              "      <td>32561.000000</td>\n",
              "      <td>32561.000000</td>\n",
              "      <td>32561.000000</td>\n",
              "      <td>32561.000000</td>\n",
              "    </tr>\n",
              "    <tr>\n",
              "      <th>mean</th>\n",
              "      <td>38.581647</td>\n",
              "      <td>1.897784e+05</td>\n",
              "      <td>10.080679</td>\n",
              "      <td>1077.648844</td>\n",
              "      <td>87.303830</td>\n",
              "      <td>40.437456</td>\n",
              "    </tr>\n",
              "    <tr>\n",
              "      <th>std</th>\n",
              "      <td>13.640433</td>\n",
              "      <td>1.055500e+05</td>\n",
              "      <td>2.572720</td>\n",
              "      <td>7385.292085</td>\n",
              "      <td>402.960219</td>\n",
              "      <td>12.347429</td>\n",
              "    </tr>\n",
              "    <tr>\n",
              "      <th>min</th>\n",
              "      <td>17.000000</td>\n",
              "      <td>1.228500e+04</td>\n",
              "      <td>1.000000</td>\n",
              "      <td>0.000000</td>\n",
              "      <td>0.000000</td>\n",
              "      <td>1.000000</td>\n",
              "    </tr>\n",
              "    <tr>\n",
              "      <th>25%</th>\n",
              "      <td>28.000000</td>\n",
              "      <td>1.178270e+05</td>\n",
              "      <td>9.000000</td>\n",
              "      <td>0.000000</td>\n",
              "      <td>0.000000</td>\n",
              "      <td>40.000000</td>\n",
              "    </tr>\n",
              "    <tr>\n",
              "      <th>50%</th>\n",
              "      <td>37.000000</td>\n",
              "      <td>1.783560e+05</td>\n",
              "      <td>10.000000</td>\n",
              "      <td>0.000000</td>\n",
              "      <td>0.000000</td>\n",
              "      <td>40.000000</td>\n",
              "    </tr>\n",
              "    <tr>\n",
              "      <th>75%</th>\n",
              "      <td>48.000000</td>\n",
              "      <td>2.370510e+05</td>\n",
              "      <td>12.000000</td>\n",
              "      <td>0.000000</td>\n",
              "      <td>0.000000</td>\n",
              "      <td>45.000000</td>\n",
              "    </tr>\n",
              "    <tr>\n",
              "      <th>max</th>\n",
              "      <td>90.000000</td>\n",
              "      <td>1.484705e+06</td>\n",
              "      <td>16.000000</td>\n",
              "      <td>99999.000000</td>\n",
              "      <td>4356.000000</td>\n",
              "      <td>99.000000</td>\n",
              "    </tr>\n",
              "  </tbody>\n",
              "</table>\n",
              "</div>"
            ],
            "text/plain": [
              "                age  final-weight  ...  capital-loos  hour-per-week\n",
              "count  32561.000000  3.256100e+04  ...  32561.000000   32561.000000\n",
              "mean      38.581647  1.897784e+05  ...     87.303830      40.437456\n",
              "std       13.640433  1.055500e+05  ...    402.960219      12.347429\n",
              "min       17.000000  1.228500e+04  ...      0.000000       1.000000\n",
              "25%       28.000000  1.178270e+05  ...      0.000000      40.000000\n",
              "50%       37.000000  1.783560e+05  ...      0.000000      40.000000\n",
              "75%       48.000000  2.370510e+05  ...      0.000000      45.000000\n",
              "max       90.000000  1.484705e+06  ...   4356.000000      99.000000\n",
              "\n",
              "[8 rows x 6 columns]"
            ]
          },
          "metadata": {
            "tags": []
          },
          "execution_count": 86
        }
      ]
    },
    {
      "cell_type": "code",
      "metadata": {
        "id": "ana-Iv-qcrkg",
        "colab": {
          "base_uri": "https://localhost:8080/"
        },
        "outputId": "56ef74b8-3127-4855-b1de-30639b98267d"
      },
      "source": [
        "df.columns"
      ],
      "execution_count": null,
      "outputs": [
        {
          "output_type": "execute_result",
          "data": {
            "text/plain": [
              "Index(['age', 'workclass', 'final-weight', 'education', 'education-num',\n",
              "       'marital-status', 'occupation', 'relationship', 'race', 'sex',\n",
              "       'capital-gain', 'capital-loos', 'hour-per-week', 'native-country',\n",
              "       'income'],\n",
              "      dtype='object')"
            ]
          },
          "metadata": {
            "tags": []
          },
          "execution_count": 87
        }
      ]
    },
    {
      "cell_type": "code",
      "metadata": {
        "id": "Cn2DUXNPc0zV",
        "colab": {
          "base_uri": "https://localhost:8080/"
        },
        "outputId": "71bcff45-57ad-4660-e894-b90429d99961"
      },
      "source": [
        "df.info()"
      ],
      "execution_count": null,
      "outputs": [
        {
          "output_type": "stream",
          "text": [
            "<class 'pandas.core.frame.DataFrame'>\n",
            "RangeIndex: 32561 entries, 0 to 32560\n",
            "Data columns (total 15 columns):\n",
            " #   Column          Non-Null Count  Dtype \n",
            "---  ------          --------------  ----- \n",
            " 0   age             32561 non-null  int64 \n",
            " 1   workclass       32561 non-null  object\n",
            " 2   final-weight    32561 non-null  int64 \n",
            " 3   education       32561 non-null  object\n",
            " 4   education-num   32561 non-null  int64 \n",
            " 5   marital-status  32561 non-null  object\n",
            " 6   occupation      32561 non-null  object\n",
            " 7   relationship    32561 non-null  object\n",
            " 8   race            32561 non-null  object\n",
            " 9   sex             32561 non-null  object\n",
            " 10  capital-gain    32561 non-null  int64 \n",
            " 11  capital-loos    32561 non-null  int64 \n",
            " 12  hour-per-week   32561 non-null  int64 \n",
            " 13  native-country  32561 non-null  object\n",
            " 14  income          32561 non-null  object\n",
            "dtypes: int64(6), object(9)\n",
            "memory usage: 3.7+ MB\n"
          ],
          "name": "stdout"
        }
      ]
    },
    {
      "cell_type": "code",
      "metadata": {
        "id": "JwHBxBE0c2T6",
        "colab": {
          "base_uri": "https://localhost:8080/",
          "height": 394
        },
        "outputId": "8540ca9c-2d98-4552-9447-2503c1a18aa6"
      },
      "source": [
        "df.head()"
      ],
      "execution_count": null,
      "outputs": [
        {
          "output_type": "execute_result",
          "data": {
            "text/html": [
              "<div>\n",
              "<style scoped>\n",
              "    .dataframe tbody tr th:only-of-type {\n",
              "        vertical-align: middle;\n",
              "    }\n",
              "\n",
              "    .dataframe tbody tr th {\n",
              "        vertical-align: top;\n",
              "    }\n",
              "\n",
              "    .dataframe thead th {\n",
              "        text-align: right;\n",
              "    }\n",
              "</style>\n",
              "<table border=\"1\" class=\"dataframe\">\n",
              "  <thead>\n",
              "    <tr style=\"text-align: right;\">\n",
              "      <th></th>\n",
              "      <th>age</th>\n",
              "      <th>workclass</th>\n",
              "      <th>final-weight</th>\n",
              "      <th>education</th>\n",
              "      <th>education-num</th>\n",
              "      <th>marital-status</th>\n",
              "      <th>occupation</th>\n",
              "      <th>relationship</th>\n",
              "      <th>race</th>\n",
              "      <th>sex</th>\n",
              "      <th>capital-gain</th>\n",
              "      <th>capital-loos</th>\n",
              "      <th>hour-per-week</th>\n",
              "      <th>native-country</th>\n",
              "      <th>income</th>\n",
              "    </tr>\n",
              "  </thead>\n",
              "  <tbody>\n",
              "    <tr>\n",
              "      <th>0</th>\n",
              "      <td>39</td>\n",
              "      <td>State-gov</td>\n",
              "      <td>77516</td>\n",
              "      <td>Bachelors</td>\n",
              "      <td>13</td>\n",
              "      <td>Never-married</td>\n",
              "      <td>Adm-clerical</td>\n",
              "      <td>Not-in-family</td>\n",
              "      <td>White</td>\n",
              "      <td>Male</td>\n",
              "      <td>2174</td>\n",
              "      <td>0</td>\n",
              "      <td>40</td>\n",
              "      <td>United-States</td>\n",
              "      <td>&lt;=50K</td>\n",
              "    </tr>\n",
              "    <tr>\n",
              "      <th>1</th>\n",
              "      <td>50</td>\n",
              "      <td>Self-emp-not-inc</td>\n",
              "      <td>83311</td>\n",
              "      <td>Bachelors</td>\n",
              "      <td>13</td>\n",
              "      <td>Married-civ-spouse</td>\n",
              "      <td>Exec-managerial</td>\n",
              "      <td>Husband</td>\n",
              "      <td>White</td>\n",
              "      <td>Male</td>\n",
              "      <td>0</td>\n",
              "      <td>0</td>\n",
              "      <td>13</td>\n",
              "      <td>United-States</td>\n",
              "      <td>&lt;=50K</td>\n",
              "    </tr>\n",
              "    <tr>\n",
              "      <th>2</th>\n",
              "      <td>38</td>\n",
              "      <td>Private</td>\n",
              "      <td>215646</td>\n",
              "      <td>HS-grad</td>\n",
              "      <td>9</td>\n",
              "      <td>Divorced</td>\n",
              "      <td>Handlers-cleaners</td>\n",
              "      <td>Not-in-family</td>\n",
              "      <td>White</td>\n",
              "      <td>Male</td>\n",
              "      <td>0</td>\n",
              "      <td>0</td>\n",
              "      <td>40</td>\n",
              "      <td>United-States</td>\n",
              "      <td>&lt;=50K</td>\n",
              "    </tr>\n",
              "    <tr>\n",
              "      <th>3</th>\n",
              "      <td>53</td>\n",
              "      <td>Private</td>\n",
              "      <td>234721</td>\n",
              "      <td>11th</td>\n",
              "      <td>7</td>\n",
              "      <td>Married-civ-spouse</td>\n",
              "      <td>Handlers-cleaners</td>\n",
              "      <td>Husband</td>\n",
              "      <td>Black</td>\n",
              "      <td>Male</td>\n",
              "      <td>0</td>\n",
              "      <td>0</td>\n",
              "      <td>40</td>\n",
              "      <td>United-States</td>\n",
              "      <td>&lt;=50K</td>\n",
              "    </tr>\n",
              "    <tr>\n",
              "      <th>4</th>\n",
              "      <td>28</td>\n",
              "      <td>Private</td>\n",
              "      <td>338409</td>\n",
              "      <td>Bachelors</td>\n",
              "      <td>13</td>\n",
              "      <td>Married-civ-spouse</td>\n",
              "      <td>Prof-specialty</td>\n",
              "      <td>Wife</td>\n",
              "      <td>Black</td>\n",
              "      <td>Female</td>\n",
              "      <td>0</td>\n",
              "      <td>0</td>\n",
              "      <td>40</td>\n",
              "      <td>Cuba</td>\n",
              "      <td>&lt;=50K</td>\n",
              "    </tr>\n",
              "  </tbody>\n",
              "</table>\n",
              "</div>"
            ],
            "text/plain": [
              "   age          workclass  final-weight  ... hour-per-week  native-country  income\n",
              "0   39          State-gov         77516  ...            40   United-States   <=50K\n",
              "1   50   Self-emp-not-inc         83311  ...            13   United-States   <=50K\n",
              "2   38            Private        215646  ...            40   United-States   <=50K\n",
              "3   53            Private        234721  ...            40   United-States   <=50K\n",
              "4   28            Private        338409  ...            40            Cuba   <=50K\n",
              "\n",
              "[5 rows x 15 columns]"
            ]
          },
          "metadata": {
            "tags": []
          },
          "execution_count": 89
        }
      ]
    },
    {
      "cell_type": "code",
      "metadata": {
        "id": "Z8Ic9GL_2vWr"
      },
      "source": [
        ""
      ],
      "execution_count": null,
      "outputs": []
    },
    {
      "cell_type": "code",
      "metadata": {
        "id": "w0AED7je2vMG"
      },
      "source": [
        ""
      ],
      "execution_count": null,
      "outputs": []
    },
    {
      "cell_type": "code",
      "metadata": {
        "id": "8qkwOba-dsoZ",
        "colab": {
          "base_uri": "https://localhost:8080/"
        },
        "outputId": "d3f7b3e6-157e-4677-d01e-15c5e15c4384"
      },
      "source": [
        "# identify columns with string data\n",
        "lst_col_str = [col for col in df.columns if df[col].dtypes==\"object\"]\n",
        "# remove target name\n",
        "lst_col_str.pop(-1)  \n",
        "# categorical features names\n",
        "lst_col_str"
      ],
      "execution_count": null,
      "outputs": [
        {
          "output_type": "execute_result",
          "data": {
            "text/plain": [
              "['workclass',\n",
              " 'education',\n",
              " 'marital-status',\n",
              " 'occupation',\n",
              " 'relationship',\n",
              " 'race',\n",
              " 'sex',\n",
              " 'native-country']"
            ]
          },
          "metadata": {
            "tags": []
          },
          "execution_count": 99
        }
      ]
    },
    {
      "cell_type": "code",
      "metadata": {
        "id": "tfwqhOdxdHwx",
        "colab": {
          "base_uri": "https://localhost:8080/"
        },
        "outputId": "78d01deb-13a4-4551-8b64-b0c6d0760858"
      },
      "source": [
        "# get index from categorical features\n",
        "lst_idx_col_str = [df.columns.get_loc(col_name) for col_name in lst_col_str]\n",
        "lst_idx_col_str"
      ],
      "execution_count": null,
      "outputs": [
        {
          "output_type": "execute_result",
          "data": {
            "text/plain": [
              "[1, 3, 5, 6, 7, 8, 9, 13]"
            ]
          },
          "metadata": {
            "tags": []
          },
          "execution_count": 100
        }
      ]
    },
    {
      "cell_type": "code",
      "metadata": {
        "id": "sv32fxs9dUxi",
        "colab": {
          "base_uri": "https://localhost:8080/"
        },
        "outputId": "119ae3ef-d619-4e85-9b4c-4a5818a0f607"
      },
      "source": [
        "# split features and target\n",
        "X = df.iloc[:,:-1].values\n",
        "y = df.iloc[:,-1].values\n",
        "y"
      ],
      "execution_count": null,
      "outputs": [
        {
          "output_type": "execute_result",
          "data": {
            "text/plain": [
              "array([' <=50K', ' <=50K', ' <=50K', ..., ' <=50K', ' <=50K', ' >50K'],\n",
              "      dtype=object)"
            ]
          },
          "metadata": {
            "tags": []
          },
          "execution_count": 101
        }
      ]
    },
    {
      "cell_type": "code",
      "metadata": {
        "id": "9kAH0T-ff7e2",
        "colab": {
          "base_uri": "https://localhost:8080/"
        },
        "outputId": "eedba84d-c15e-4c12-a86a-25b92d2939cb"
      },
      "source": [
        "X"
      ],
      "execution_count": null,
      "outputs": [
        {
          "output_type": "execute_result",
          "data": {
            "text/plain": [
              "array([[39, ' State-gov', 77516, ..., 0, 40, ' United-States'],\n",
              "       [50, ' Self-emp-not-inc', 83311, ..., 0, 13, ' United-States'],\n",
              "       [38, ' Private', 215646, ..., 0, 40, ' United-States'],\n",
              "       ...,\n",
              "       [58, ' Private', 151910, ..., 0, 40, ' United-States'],\n",
              "       [22, ' Private', 201490, ..., 0, 20, ' United-States'],\n",
              "       [52, ' Self-emp-inc', 287927, ..., 0, 40, ' United-States']],\n",
              "      dtype=object)"
            ]
          },
          "metadata": {
            "tags": []
          },
          "execution_count": 102
        }
      ]
    },
    {
      "cell_type": "code",
      "metadata": {
        "id": "yGuZhvsygkRK",
        "colab": {
          "base_uri": "https://localhost:8080/"
        },
        "outputId": "fd69cb72-06ef-461f-ae18-17c65b759ca9"
      },
      "source": [
        "from sklearn.preprocessing import LabelEncoder, OneHotEncoder\n",
        "from sklearn.compose import ColumnTransformer\n",
        "\n",
        "labelencoder = LabelEncoder()\n",
        "\n",
        "for idx in lst_idx_col_str:\n",
        "    X[:,idx] = labelencoder.fit_transform(X[:,idx])\n",
        "X"
      ],
      "execution_count": null,
      "outputs": [
        {
          "output_type": "execute_result",
          "data": {
            "text/plain": [
              "array([[39, 7, 77516, ..., 0, 40, 39],\n",
              "       [50, 6, 83311, ..., 0, 13, 39],\n",
              "       [38, 4, 215646, ..., 0, 40, 39],\n",
              "       ...,\n",
              "       [58, 4, 151910, ..., 0, 40, 39],\n",
              "       [22, 4, 201490, ..., 0, 20, 39],\n",
              "       [52, 5, 287927, ..., 0, 40, 39]], dtype=object)"
            ]
          },
          "metadata": {
            "tags": []
          },
          "execution_count": 107
        }
      ]
    },
    {
      "cell_type": "markdown",
      "metadata": {
        "id": "yFyhbLbwjq1U"
      },
      "source": [
        "Variáveis dummy: OneHotEncoder\n",
        "\n",
        "* previne efeito de diferentes inteiros que rotulam categorias nos algoritmos"
      ]
    },
    {
      "cell_type": "code",
      "metadata": {
        "id": "ts1xkIm_hTMW"
      },
      "source": [
        "onehotencorder = ColumnTransformer(\n",
        "    transformers=[\n",
        "                  (\"OneHot\", OneHotEncoder(), lst_idx_col_str)\n",
        "                  ]\n",
        "                  , remainder='passthrough'\n",
        "    )\n",
        "X = onehotencorder.fit_transform(X).toarray()\n",
        "\n",
        "labelencorder = LabelEncoder()\n",
        "y = labelencorder.fit_transform(y)"
      ],
      "execution_count": null,
      "outputs": []
    },
    {
      "cell_type": "code",
      "metadata": {
        "id": "r2MsemfTkBvR",
        "colab": {
          "base_uri": "https://localhost:8080/"
        },
        "outputId": "a030cb65-5344-40a2-8a35-2d5fbd94d35d"
      },
      "source": [
        "X.shape"
      ],
      "execution_count": null,
      "outputs": [
        {
          "output_type": "execute_result",
          "data": {
            "text/plain": [
              "(32561, 108)"
            ]
          },
          "metadata": {
            "tags": []
          },
          "execution_count": 113
        }
      ]
    },
    {
      "cell_type": "code",
      "metadata": {
        "id": "wLd3bsR-ljCo",
        "colab": {
          "base_uri": "https://localhost:8080/"
        },
        "outputId": "57a5b48a-4d8a-4a1e-9d68-b53d7e00e8da"
      },
      "source": [
        "y.shape"
      ],
      "execution_count": null,
      "outputs": [
        {
          "output_type": "execute_result",
          "data": {
            "text/plain": [
              "(32561,)"
            ]
          },
          "metadata": {
            "tags": []
          },
          "execution_count": 112
        }
      ]
    },
    {
      "cell_type": "code",
      "metadata": {
        "id": "Uho2mx_1lj8d"
      },
      "source": [
        "from sklearn.preprocessing import StandardScaler\n",
        "scaler = StandardScaler()\n",
        "X = scaler.fit_transform(X)  # perde interpretação\n"
      ],
      "execution_count": null,
      "outputs": []
    },
    {
      "cell_type": "markdown",
      "metadata": {
        "id": "0EFKjBnqrEkg"
      },
      "source": [
        "Train test split\n",
        "* 10-30%"
      ]
    },
    {
      "cell_type": "code",
      "metadata": {
        "id": "hI4rA86qmqW_"
      },
      "source": [
        "from sklearn.model_selection import train_test_split\n",
        "X_train, X_test, y_train, y_test = train_test_split(\n",
        "    X\n",
        "    , y\n",
        "    , test_size=0.15\n",
        "    , random_state=0\n",
        ")\n"
      ],
      "execution_count": null,
      "outputs": []
    },
    {
      "cell_type": "markdown",
      "metadata": {
        "id": "T-_3E8Ubshdj"
      },
      "source": [
        "## Questionário 2\n",
        "1. Contínua \n",
        " * Números reais: temperatura, altura, peso, salário\n",
        "1. discreta\n",
        " * Conjunto de valores finitos (inteiros): contagem de alguma coisa\n",
        "1. nominal\n",
        " * Dados não mensuráveis e sem ordenação: cor dos olhos ou gênero.\n",
        "1. ordinal\n",
        " * Categorização sob uma ordenação\n",
        "\n",
        "De acordo com base de dados credit-data, a coluna id é considerada como um tipo de variável numérica e contínua. (F)\n",
        "* categórica: nominal\n",
        "\n",
        "Na base de dados census existe a variável state-gov, a qual pode ser classificada como uma variável categórica e ordinal\n",
        "* nominal\n",
        "\n",
        "\n",
        "Durante as aulas sobre o pré-processamento, pudemos observar que se substituirmos as categorias de variáveis categóricas por números, teremos problemas com os algoritmos de aprendizagem de máquina. Isso ocorre porque o algoritmo tende a atribuir um peso para cada numeração. Por exemplo, em um sequência de zero até sete, o número sete teria um peso maior do que o zero, o que por sua vez pode não estar correto se estivéssemos trabalhando com a cor de roupas.\n",
        "\n",
        "Com base no texto acima, é correto afirmar que as variáveis do tipo dummy são uma solução para este problema, uma vez que ela transforma uma variável categórica em vários outros atributos com valores 0 e 1 para cada um dos valores dos atributos. (V)\n",
        "\n",
        "Para que o processo de treinamento ocorra de maneira eficaz, se faz necessário que os mesmos registros que estão na base de dados de teste estejam também na base de treinamento (F)\n",
        "* não podem estar\n",
        "\n"
      ]
    },
    {
      "cell_type": "markdown",
      "metadata": {
        "id": "rGIbuC3Hub7B"
      },
      "source": [
        "## Naive-Bayes\n",
        "* Abordagem probabilística\n",
        "* Exemplos: classificação de textos\n",
        " 1. Filtros de spam\n",
        " 1. Análise de sentimentos\n",
        " 1. Categorizar documentos\n",
        "\n",
        "\n",
        " * Vantagens\n",
        "  1. Rápido\n",
        "  1. Simples de interpretar\n",
        "  1. Performa bem com muitos atributos (alta dimensão)\n",
        "  1. Prevê bem com bases pequenas (200-500 registros)\n",
        "\n",
        "* Desvantagem\n",
        " 1. Considera atributos independentes"
      ]
    },
    {
      "cell_type": "markdown",
      "metadata": {
        "id": "mM3CbL-TzkjI"
      },
      "source": [
        "1. A aprendizagem no algoritmo Naïve Bayes é construir uma tabela de probabilidades baseada nos dados disponíveis (V)\n",
        "\n",
        "1. A Correção Laplaciana é uma técnica que adiciona um registro na base quando existirem partes na tabela de probabilidade nas quais não existem vinculações com a classe (V)\n",
        "\n",
        "1. Para realizar as estimativas de probabilidade, o algoritmo Naïve Bayes pode utilizar uma técnica chamada radius (raio) que consiste em estabelecer um raio no entorno do atributo a ser classificado\n",
        "\n",
        "\n",
        "\n",
        "\n",
        "\n",
        "\n",
        "\n",
        "\n",
        "\n",
        "\n"
      ]
    },
    {
      "cell_type": "markdown",
      "metadata": {
        "id": "Zju6WniA2WOo"
      },
      "source": [
        "### Testes"
      ]
    },
    {
      "cell_type": "code",
      "metadata": {
        "id": "eWq6KARYmp9Y",
        "colab": {
          "base_uri": "https://localhost:8080/",
          "height": 200
        },
        "outputId": "fc484049-5d50-4a26-a007-f9964a7e7c0b"
      },
      "source": [
        "import pandas as pd\n",
        "import numpy as np\n",
        "# load dataset\n",
        "filename = \"risco_credito.csv\"\n",
        "df = pd.read_csv(filename)\n",
        "df.head()"
      ],
      "execution_count": null,
      "outputs": [
        {
          "output_type": "execute_result",
          "data": {
            "text/html": [
              "<div>\n",
              "<style scoped>\n",
              "    .dataframe tbody tr th:only-of-type {\n",
              "        vertical-align: middle;\n",
              "    }\n",
              "\n",
              "    .dataframe tbody tr th {\n",
              "        vertical-align: top;\n",
              "    }\n",
              "\n",
              "    .dataframe thead th {\n",
              "        text-align: right;\n",
              "    }\n",
              "</style>\n",
              "<table border=\"1\" class=\"dataframe\">\n",
              "  <thead>\n",
              "    <tr style=\"text-align: right;\">\n",
              "      <th></th>\n",
              "      <th>historia</th>\n",
              "      <th>divida</th>\n",
              "      <th>garantias</th>\n",
              "      <th>renda</th>\n",
              "      <th>c#risco</th>\n",
              "    </tr>\n",
              "  </thead>\n",
              "  <tbody>\n",
              "    <tr>\n",
              "      <th>0</th>\n",
              "      <td>ruim</td>\n",
              "      <td>alta</td>\n",
              "      <td>nenhuma</td>\n",
              "      <td>0_15</td>\n",
              "      <td>alto</td>\n",
              "    </tr>\n",
              "    <tr>\n",
              "      <th>1</th>\n",
              "      <td>desconhecida</td>\n",
              "      <td>alta</td>\n",
              "      <td>nenhuma</td>\n",
              "      <td>15_35</td>\n",
              "      <td>alto</td>\n",
              "    </tr>\n",
              "    <tr>\n",
              "      <th>2</th>\n",
              "      <td>desconhecida</td>\n",
              "      <td>baixa</td>\n",
              "      <td>nenhuma</td>\n",
              "      <td>15_35</td>\n",
              "      <td>moderado</td>\n",
              "    </tr>\n",
              "    <tr>\n",
              "      <th>3</th>\n",
              "      <td>desconhecida</td>\n",
              "      <td>baixa</td>\n",
              "      <td>nenhuma</td>\n",
              "      <td>acima_35</td>\n",
              "      <td>alto</td>\n",
              "    </tr>\n",
              "    <tr>\n",
              "      <th>4</th>\n",
              "      <td>desconhecida</td>\n",
              "      <td>baixa</td>\n",
              "      <td>nenhuma</td>\n",
              "      <td>acima_35</td>\n",
              "      <td>baixo</td>\n",
              "    </tr>\n",
              "  </tbody>\n",
              "</table>\n",
              "</div>"
            ],
            "text/plain": [
              "       historia divida garantias     renda   c#risco\n",
              "0          ruim   alta   nenhuma      0_15      alto\n",
              "1  desconhecida   alta   nenhuma     15_35      alto\n",
              "2  desconhecida  baixa   nenhuma     15_35  moderado\n",
              "3  desconhecida  baixa   nenhuma  acima_35      alto\n",
              "4  desconhecida  baixa   nenhuma  acima_35     baixo"
            ]
          },
          "metadata": {
            "tags": []
          },
          "execution_count": 6
        }
      ]
    },
    {
      "cell_type": "code",
      "metadata": {
        "id": "YCd1Gnj6mp2l",
        "colab": {
          "base_uri": "https://localhost:8080/",
          "height": 200
        },
        "outputId": "e5c72043-8f0d-4086-e783-a9149fdb189f"
      },
      "source": [
        "# create lists\n",
        "lst_features = list(df.columns[:-1])\n",
        "lst_col = lst_features[:]\n",
        "\n",
        "# Fix col name\n",
        "target = 'risco'\n",
        "lst_col.append(target)\n",
        "df.columns = lst_col\n",
        "df.head()"
      ],
      "execution_count": null,
      "outputs": [
        {
          "output_type": "execute_result",
          "data": {
            "text/html": [
              "<div>\n",
              "<style scoped>\n",
              "    .dataframe tbody tr th:only-of-type {\n",
              "        vertical-align: middle;\n",
              "    }\n",
              "\n",
              "    .dataframe tbody tr th {\n",
              "        vertical-align: top;\n",
              "    }\n",
              "\n",
              "    .dataframe thead th {\n",
              "        text-align: right;\n",
              "    }\n",
              "</style>\n",
              "<table border=\"1\" class=\"dataframe\">\n",
              "  <thead>\n",
              "    <tr style=\"text-align: right;\">\n",
              "      <th></th>\n",
              "      <th>historia</th>\n",
              "      <th>divida</th>\n",
              "      <th>garantias</th>\n",
              "      <th>renda</th>\n",
              "      <th>risco</th>\n",
              "    </tr>\n",
              "  </thead>\n",
              "  <tbody>\n",
              "    <tr>\n",
              "      <th>0</th>\n",
              "      <td>ruim</td>\n",
              "      <td>alta</td>\n",
              "      <td>nenhuma</td>\n",
              "      <td>0_15</td>\n",
              "      <td>alto</td>\n",
              "    </tr>\n",
              "    <tr>\n",
              "      <th>1</th>\n",
              "      <td>desconhecida</td>\n",
              "      <td>alta</td>\n",
              "      <td>nenhuma</td>\n",
              "      <td>15_35</td>\n",
              "      <td>alto</td>\n",
              "    </tr>\n",
              "    <tr>\n",
              "      <th>2</th>\n",
              "      <td>desconhecida</td>\n",
              "      <td>baixa</td>\n",
              "      <td>nenhuma</td>\n",
              "      <td>15_35</td>\n",
              "      <td>moderado</td>\n",
              "    </tr>\n",
              "    <tr>\n",
              "      <th>3</th>\n",
              "      <td>desconhecida</td>\n",
              "      <td>baixa</td>\n",
              "      <td>nenhuma</td>\n",
              "      <td>acima_35</td>\n",
              "      <td>alto</td>\n",
              "    </tr>\n",
              "    <tr>\n",
              "      <th>4</th>\n",
              "      <td>desconhecida</td>\n",
              "      <td>baixa</td>\n",
              "      <td>nenhuma</td>\n",
              "      <td>acima_35</td>\n",
              "      <td>baixo</td>\n",
              "    </tr>\n",
              "  </tbody>\n",
              "</table>\n",
              "</div>"
            ],
            "text/plain": [
              "       historia divida garantias     renda     risco\n",
              "0          ruim   alta   nenhuma      0_15      alto\n",
              "1  desconhecida   alta   nenhuma     15_35      alto\n",
              "2  desconhecida  baixa   nenhuma     15_35  moderado\n",
              "3  desconhecida  baixa   nenhuma  acima_35      alto\n",
              "4  desconhecida  baixa   nenhuma  acima_35     baixo"
            ]
          },
          "metadata": {
            "tags": []
          },
          "execution_count": 7
        }
      ]
    },
    {
      "cell_type": "markdown",
      "metadata": {
        "id": "YlXn6HEY2kHJ"
      },
      "source": [
        "#### EDA"
      ]
    },
    {
      "cell_type": "code",
      "metadata": {
        "id": "k3hTM7BJgYv9",
        "colab": {
          "base_uri": "https://localhost:8080/",
          "height": 567
        },
        "outputId": "e2046fbf-48e1-4fb9-a068-226ed9bcca42"
      },
      "source": [
        "for col in lst_col:\n",
        "    display(df[col].value_counts().to_frame())"
      ],
      "execution_count": null,
      "outputs": [
        {
          "output_type": "display_data",
          "data": {
            "text/html": [
              "<div>\n",
              "<style scoped>\n",
              "    .dataframe tbody tr th:only-of-type {\n",
              "        vertical-align: middle;\n",
              "    }\n",
              "\n",
              "    .dataframe tbody tr th {\n",
              "        vertical-align: top;\n",
              "    }\n",
              "\n",
              "    .dataframe thead th {\n",
              "        text-align: right;\n",
              "    }\n",
              "</style>\n",
              "<table border=\"1\" class=\"dataframe\">\n",
              "  <thead>\n",
              "    <tr style=\"text-align: right;\">\n",
              "      <th></th>\n",
              "      <th>historia</th>\n",
              "    </tr>\n",
              "  </thead>\n",
              "  <tbody>\n",
              "    <tr>\n",
              "      <th>desconhecida</th>\n",
              "      <td>5</td>\n",
              "    </tr>\n",
              "    <tr>\n",
              "      <th>boa</th>\n",
              "      <td>5</td>\n",
              "    </tr>\n",
              "    <tr>\n",
              "      <th>ruim</th>\n",
              "      <td>4</td>\n",
              "    </tr>\n",
              "  </tbody>\n",
              "</table>\n",
              "</div>"
            ],
            "text/plain": [
              "              historia\n",
              "desconhecida         5\n",
              "boa                  5\n",
              "ruim                 4"
            ]
          },
          "metadata": {
            "tags": []
          }
        },
        {
          "output_type": "display_data",
          "data": {
            "text/html": [
              "<div>\n",
              "<style scoped>\n",
              "    .dataframe tbody tr th:only-of-type {\n",
              "        vertical-align: middle;\n",
              "    }\n",
              "\n",
              "    .dataframe tbody tr th {\n",
              "        vertical-align: top;\n",
              "    }\n",
              "\n",
              "    .dataframe thead th {\n",
              "        text-align: right;\n",
              "    }\n",
              "</style>\n",
              "<table border=\"1\" class=\"dataframe\">\n",
              "  <thead>\n",
              "    <tr style=\"text-align: right;\">\n",
              "      <th></th>\n",
              "      <th>divida</th>\n",
              "    </tr>\n",
              "  </thead>\n",
              "  <tbody>\n",
              "    <tr>\n",
              "      <th>alta</th>\n",
              "      <td>7</td>\n",
              "    </tr>\n",
              "    <tr>\n",
              "      <th>baixa</th>\n",
              "      <td>7</td>\n",
              "    </tr>\n",
              "  </tbody>\n",
              "</table>\n",
              "</div>"
            ],
            "text/plain": [
              "       divida\n",
              "alta        7\n",
              "baixa       7"
            ]
          },
          "metadata": {
            "tags": []
          }
        },
        {
          "output_type": "display_data",
          "data": {
            "text/html": [
              "<div>\n",
              "<style scoped>\n",
              "    .dataframe tbody tr th:only-of-type {\n",
              "        vertical-align: middle;\n",
              "    }\n",
              "\n",
              "    .dataframe tbody tr th {\n",
              "        vertical-align: top;\n",
              "    }\n",
              "\n",
              "    .dataframe thead th {\n",
              "        text-align: right;\n",
              "    }\n",
              "</style>\n",
              "<table border=\"1\" class=\"dataframe\">\n",
              "  <thead>\n",
              "    <tr style=\"text-align: right;\">\n",
              "      <th></th>\n",
              "      <th>garantias</th>\n",
              "    </tr>\n",
              "  </thead>\n",
              "  <tbody>\n",
              "    <tr>\n",
              "      <th>nenhuma</th>\n",
              "      <td>11</td>\n",
              "    </tr>\n",
              "    <tr>\n",
              "      <th>adequada</th>\n",
              "      <td>3</td>\n",
              "    </tr>\n",
              "  </tbody>\n",
              "</table>\n",
              "</div>"
            ],
            "text/plain": [
              "          garantias\n",
              "nenhuma          11\n",
              "adequada          3"
            ]
          },
          "metadata": {
            "tags": []
          }
        },
        {
          "output_type": "display_data",
          "data": {
            "text/html": [
              "<div>\n",
              "<style scoped>\n",
              "    .dataframe tbody tr th:only-of-type {\n",
              "        vertical-align: middle;\n",
              "    }\n",
              "\n",
              "    .dataframe tbody tr th {\n",
              "        vertical-align: top;\n",
              "    }\n",
              "\n",
              "    .dataframe thead th {\n",
              "        text-align: right;\n",
              "    }\n",
              "</style>\n",
              "<table border=\"1\" class=\"dataframe\">\n",
              "  <thead>\n",
              "    <tr style=\"text-align: right;\">\n",
              "      <th></th>\n",
              "      <th>renda</th>\n",
              "    </tr>\n",
              "  </thead>\n",
              "  <tbody>\n",
              "    <tr>\n",
              "      <th>acima_35</th>\n",
              "      <td>7</td>\n",
              "    </tr>\n",
              "    <tr>\n",
              "      <th>15_35</th>\n",
              "      <td>4</td>\n",
              "    </tr>\n",
              "    <tr>\n",
              "      <th>0_15</th>\n",
              "      <td>3</td>\n",
              "    </tr>\n",
              "  </tbody>\n",
              "</table>\n",
              "</div>"
            ],
            "text/plain": [
              "          renda\n",
              "acima_35      7\n",
              "15_35         4\n",
              "0_15          3"
            ]
          },
          "metadata": {
            "tags": []
          }
        },
        {
          "output_type": "display_data",
          "data": {
            "text/html": [
              "<div>\n",
              "<style scoped>\n",
              "    .dataframe tbody tr th:only-of-type {\n",
              "        vertical-align: middle;\n",
              "    }\n",
              "\n",
              "    .dataframe tbody tr th {\n",
              "        vertical-align: top;\n",
              "    }\n",
              "\n",
              "    .dataframe thead th {\n",
              "        text-align: right;\n",
              "    }\n",
              "</style>\n",
              "<table border=\"1\" class=\"dataframe\">\n",
              "  <thead>\n",
              "    <tr style=\"text-align: right;\">\n",
              "      <th></th>\n",
              "      <th>risco</th>\n",
              "    </tr>\n",
              "  </thead>\n",
              "  <tbody>\n",
              "    <tr>\n",
              "      <th>alto</th>\n",
              "      <td>6</td>\n",
              "    </tr>\n",
              "    <tr>\n",
              "      <th>baixo</th>\n",
              "      <td>5</td>\n",
              "    </tr>\n",
              "    <tr>\n",
              "      <th>moderado</th>\n",
              "      <td>3</td>\n",
              "    </tr>\n",
              "  </tbody>\n",
              "</table>\n",
              "</div>"
            ],
            "text/plain": [
              "          risco\n",
              "alto          6\n",
              "baixo         5\n",
              "moderado      3"
            ]
          },
          "metadata": {
            "tags": []
          }
        }
      ]
    },
    {
      "cell_type": "code",
      "metadata": {
        "id": "hH3aecTDfnBn",
        "colab": {
          "base_uri": "https://localhost:8080/",
          "height": 384
        },
        "outputId": "aabeeb01-b91f-4aa1-cdc4-15c4cf316b52"
      },
      "source": [
        "for col in lst_col:\n",
        "    display(df[col].value_counts(\n",
        "        normalize=True\n",
        "        ).to_frame().style.format(\"{:.1%}\"))"
      ],
      "execution_count": null,
      "outputs": [
        {
          "output_type": "display_data",
          "data": {
            "text/html": [
              "<style  type=\"text/css\" >\n",
              "</style><table id=\"T_e6e7db7a_2041_11eb_8f11_0242ac1c0002\" ><thead>    <tr>        <th class=\"blank level0\" ></th>        <th class=\"col_heading level0 col0\" >historia</th>    </tr></thead><tbody>\n",
              "                <tr>\n",
              "                        <th id=\"T_e6e7db7a_2041_11eb_8f11_0242ac1c0002level0_row0\" class=\"row_heading level0 row0\" >desconhecida</th>\n",
              "                        <td id=\"T_e6e7db7a_2041_11eb_8f11_0242ac1c0002row0_col0\" class=\"data row0 col0\" >35.7%</td>\n",
              "            </tr>\n",
              "            <tr>\n",
              "                        <th id=\"T_e6e7db7a_2041_11eb_8f11_0242ac1c0002level0_row1\" class=\"row_heading level0 row1\" >boa</th>\n",
              "                        <td id=\"T_e6e7db7a_2041_11eb_8f11_0242ac1c0002row1_col0\" class=\"data row1 col0\" >35.7%</td>\n",
              "            </tr>\n",
              "            <tr>\n",
              "                        <th id=\"T_e6e7db7a_2041_11eb_8f11_0242ac1c0002level0_row2\" class=\"row_heading level0 row2\" >ruim</th>\n",
              "                        <td id=\"T_e6e7db7a_2041_11eb_8f11_0242ac1c0002row2_col0\" class=\"data row2 col0\" >28.6%</td>\n",
              "            </tr>\n",
              "    </tbody></table>"
            ],
            "text/plain": [
              "<pandas.io.formats.style.Styler at 0x7f19971cf908>"
            ]
          },
          "metadata": {
            "tags": []
          }
        },
        {
          "output_type": "display_data",
          "data": {
            "text/html": [
              "<style  type=\"text/css\" >\n",
              "</style><table id=\"T_e6e87be8_2041_11eb_8f11_0242ac1c0002\" ><thead>    <tr>        <th class=\"blank level0\" ></th>        <th class=\"col_heading level0 col0\" >divida</th>    </tr></thead><tbody>\n",
              "                <tr>\n",
              "                        <th id=\"T_e6e87be8_2041_11eb_8f11_0242ac1c0002level0_row0\" class=\"row_heading level0 row0\" >alta</th>\n",
              "                        <td id=\"T_e6e87be8_2041_11eb_8f11_0242ac1c0002row0_col0\" class=\"data row0 col0\" >50.0%</td>\n",
              "            </tr>\n",
              "            <tr>\n",
              "                        <th id=\"T_e6e87be8_2041_11eb_8f11_0242ac1c0002level0_row1\" class=\"row_heading level0 row1\" >baixa</th>\n",
              "                        <td id=\"T_e6e87be8_2041_11eb_8f11_0242ac1c0002row1_col0\" class=\"data row1 col0\" >50.0%</td>\n",
              "            </tr>\n",
              "    </tbody></table>"
            ],
            "text/plain": [
              "<pandas.io.formats.style.Styler at 0x7f1996f7fd68>"
            ]
          },
          "metadata": {
            "tags": []
          }
        },
        {
          "output_type": "display_data",
          "data": {
            "text/html": [
              "<style  type=\"text/css\" >\n",
              "</style><table id=\"T_e6e93c0e_2041_11eb_8f11_0242ac1c0002\" ><thead>    <tr>        <th class=\"blank level0\" ></th>        <th class=\"col_heading level0 col0\" >garantias</th>    </tr></thead><tbody>\n",
              "                <tr>\n",
              "                        <th id=\"T_e6e93c0e_2041_11eb_8f11_0242ac1c0002level0_row0\" class=\"row_heading level0 row0\" >nenhuma</th>\n",
              "                        <td id=\"T_e6e93c0e_2041_11eb_8f11_0242ac1c0002row0_col0\" class=\"data row0 col0\" >78.6%</td>\n",
              "            </tr>\n",
              "            <tr>\n",
              "                        <th id=\"T_e6e93c0e_2041_11eb_8f11_0242ac1c0002level0_row1\" class=\"row_heading level0 row1\" >adequada</th>\n",
              "                        <td id=\"T_e6e93c0e_2041_11eb_8f11_0242ac1c0002row1_col0\" class=\"data row1 col0\" >21.4%</td>\n",
              "            </tr>\n",
              "    </tbody></table>"
            ],
            "text/plain": [
              "<pandas.io.formats.style.Styler at 0x7f19971fde10>"
            ]
          },
          "metadata": {
            "tags": []
          }
        },
        {
          "output_type": "display_data",
          "data": {
            "text/html": [
              "<style  type=\"text/css\" >\n",
              "</style><table id=\"T_e6ea1c50_2041_11eb_8f11_0242ac1c0002\" ><thead>    <tr>        <th class=\"blank level0\" ></th>        <th class=\"col_heading level0 col0\" >renda</th>    </tr></thead><tbody>\n",
              "                <tr>\n",
              "                        <th id=\"T_e6ea1c50_2041_11eb_8f11_0242ac1c0002level0_row0\" class=\"row_heading level0 row0\" >acima_35</th>\n",
              "                        <td id=\"T_e6ea1c50_2041_11eb_8f11_0242ac1c0002row0_col0\" class=\"data row0 col0\" >50.0%</td>\n",
              "            </tr>\n",
              "            <tr>\n",
              "                        <th id=\"T_e6ea1c50_2041_11eb_8f11_0242ac1c0002level0_row1\" class=\"row_heading level0 row1\" >15_35</th>\n",
              "                        <td id=\"T_e6ea1c50_2041_11eb_8f11_0242ac1c0002row1_col0\" class=\"data row1 col0\" >28.6%</td>\n",
              "            </tr>\n",
              "            <tr>\n",
              "                        <th id=\"T_e6ea1c50_2041_11eb_8f11_0242ac1c0002level0_row2\" class=\"row_heading level0 row2\" >0_15</th>\n",
              "                        <td id=\"T_e6ea1c50_2041_11eb_8f11_0242ac1c0002row2_col0\" class=\"data row2 col0\" >21.4%</td>\n",
              "            </tr>\n",
              "    </tbody></table>"
            ],
            "text/plain": [
              "<pandas.io.formats.style.Styler at 0x7f19971cf550>"
            ]
          },
          "metadata": {
            "tags": []
          }
        },
        {
          "output_type": "display_data",
          "data": {
            "text/html": [
              "<style  type=\"text/css\" >\n",
              "</style><table id=\"T_e6eb5228_2041_11eb_8f11_0242ac1c0002\" ><thead>    <tr>        <th class=\"blank level0\" ></th>        <th class=\"col_heading level0 col0\" >risco</th>    </tr></thead><tbody>\n",
              "                <tr>\n",
              "                        <th id=\"T_e6eb5228_2041_11eb_8f11_0242ac1c0002level0_row0\" class=\"row_heading level0 row0\" >alto</th>\n",
              "                        <td id=\"T_e6eb5228_2041_11eb_8f11_0242ac1c0002row0_col0\" class=\"data row0 col0\" >42.9%</td>\n",
              "            </tr>\n",
              "            <tr>\n",
              "                        <th id=\"T_e6eb5228_2041_11eb_8f11_0242ac1c0002level0_row1\" class=\"row_heading level0 row1\" >baixo</th>\n",
              "                        <td id=\"T_e6eb5228_2041_11eb_8f11_0242ac1c0002row1_col0\" class=\"data row1 col0\" >35.7%</td>\n",
              "            </tr>\n",
              "            <tr>\n",
              "                        <th id=\"T_e6eb5228_2041_11eb_8f11_0242ac1c0002level0_row2\" class=\"row_heading level0 row2\" >moderado</th>\n",
              "                        <td id=\"T_e6eb5228_2041_11eb_8f11_0242ac1c0002row2_col0\" class=\"data row2 col0\" >21.4%</td>\n",
              "            </tr>\n",
              "    </tbody></table>"
            ],
            "text/plain": [
              "<pandas.io.formats.style.Styler at 0x7f19971cf518>"
            ]
          },
          "metadata": {
            "tags": []
          }
        }
      ]
    },
    {
      "cell_type": "code",
      "metadata": {
        "id": "NPAnST9diL-A",
        "colab": {
          "base_uri": "https://localhost:8080/",
          "height": 627
        },
        "outputId": "a29649ae-f01c-4d76-d5dc-2fffbd24d20e"
      },
      "source": [
        "for feature in lst_features:\n",
        "    display(pd.crosstab(df[target],df[feature]))"
      ],
      "execution_count": null,
      "outputs": [
        {
          "output_type": "display_data",
          "data": {
            "text/html": [
              "<div>\n",
              "<style scoped>\n",
              "    .dataframe tbody tr th:only-of-type {\n",
              "        vertical-align: middle;\n",
              "    }\n",
              "\n",
              "    .dataframe tbody tr th {\n",
              "        vertical-align: top;\n",
              "    }\n",
              "\n",
              "    .dataframe thead th {\n",
              "        text-align: right;\n",
              "    }\n",
              "</style>\n",
              "<table border=\"1\" class=\"dataframe\">\n",
              "  <thead>\n",
              "    <tr style=\"text-align: right;\">\n",
              "      <th>historia</th>\n",
              "      <th>boa</th>\n",
              "      <th>desconhecida</th>\n",
              "      <th>ruim</th>\n",
              "    </tr>\n",
              "    <tr>\n",
              "      <th>risco</th>\n",
              "      <th></th>\n",
              "      <th></th>\n",
              "      <th></th>\n",
              "    </tr>\n",
              "  </thead>\n",
              "  <tbody>\n",
              "    <tr>\n",
              "      <th>alto</th>\n",
              "      <td>1</td>\n",
              "      <td>2</td>\n",
              "      <td>3</td>\n",
              "    </tr>\n",
              "    <tr>\n",
              "      <th>baixo</th>\n",
              "      <td>3</td>\n",
              "      <td>2</td>\n",
              "      <td>0</td>\n",
              "    </tr>\n",
              "    <tr>\n",
              "      <th>moderado</th>\n",
              "      <td>1</td>\n",
              "      <td>1</td>\n",
              "      <td>1</td>\n",
              "    </tr>\n",
              "  </tbody>\n",
              "</table>\n",
              "</div>"
            ],
            "text/plain": [
              "historia  boa  desconhecida  ruim\n",
              "risco                            \n",
              "alto        1             2     3\n",
              "baixo       3             2     0\n",
              "moderado    1             1     1"
            ]
          },
          "metadata": {
            "tags": []
          }
        },
        {
          "output_type": "display_data",
          "data": {
            "text/html": [
              "<div>\n",
              "<style scoped>\n",
              "    .dataframe tbody tr th:only-of-type {\n",
              "        vertical-align: middle;\n",
              "    }\n",
              "\n",
              "    .dataframe tbody tr th {\n",
              "        vertical-align: top;\n",
              "    }\n",
              "\n",
              "    .dataframe thead th {\n",
              "        text-align: right;\n",
              "    }\n",
              "</style>\n",
              "<table border=\"1\" class=\"dataframe\">\n",
              "  <thead>\n",
              "    <tr style=\"text-align: right;\">\n",
              "      <th>divida</th>\n",
              "      <th>alta</th>\n",
              "      <th>baixa</th>\n",
              "    </tr>\n",
              "    <tr>\n",
              "      <th>risco</th>\n",
              "      <th></th>\n",
              "      <th></th>\n",
              "    </tr>\n",
              "  </thead>\n",
              "  <tbody>\n",
              "    <tr>\n",
              "      <th>alto</th>\n",
              "      <td>4</td>\n",
              "      <td>2</td>\n",
              "    </tr>\n",
              "    <tr>\n",
              "      <th>baixo</th>\n",
              "      <td>2</td>\n",
              "      <td>3</td>\n",
              "    </tr>\n",
              "    <tr>\n",
              "      <th>moderado</th>\n",
              "      <td>1</td>\n",
              "      <td>2</td>\n",
              "    </tr>\n",
              "  </tbody>\n",
              "</table>\n",
              "</div>"
            ],
            "text/plain": [
              "divida    alta  baixa\n",
              "risco                \n",
              "alto         4      2\n",
              "baixo        2      3\n",
              "moderado     1      2"
            ]
          },
          "metadata": {
            "tags": []
          }
        },
        {
          "output_type": "display_data",
          "data": {
            "text/html": [
              "<div>\n",
              "<style scoped>\n",
              "    .dataframe tbody tr th:only-of-type {\n",
              "        vertical-align: middle;\n",
              "    }\n",
              "\n",
              "    .dataframe tbody tr th {\n",
              "        vertical-align: top;\n",
              "    }\n",
              "\n",
              "    .dataframe thead th {\n",
              "        text-align: right;\n",
              "    }\n",
              "</style>\n",
              "<table border=\"1\" class=\"dataframe\">\n",
              "  <thead>\n",
              "    <tr style=\"text-align: right;\">\n",
              "      <th>garantias</th>\n",
              "      <th>adequada</th>\n",
              "      <th>nenhuma</th>\n",
              "    </tr>\n",
              "    <tr>\n",
              "      <th>risco</th>\n",
              "      <th></th>\n",
              "      <th></th>\n",
              "    </tr>\n",
              "  </thead>\n",
              "  <tbody>\n",
              "    <tr>\n",
              "      <th>alto</th>\n",
              "      <td>0</td>\n",
              "      <td>6</td>\n",
              "    </tr>\n",
              "    <tr>\n",
              "      <th>baixo</th>\n",
              "      <td>2</td>\n",
              "      <td>3</td>\n",
              "    </tr>\n",
              "    <tr>\n",
              "      <th>moderado</th>\n",
              "      <td>1</td>\n",
              "      <td>2</td>\n",
              "    </tr>\n",
              "  </tbody>\n",
              "</table>\n",
              "</div>"
            ],
            "text/plain": [
              "garantias  adequada  nenhuma\n",
              "risco                       \n",
              "alto              0        6\n",
              "baixo             2        3\n",
              "moderado          1        2"
            ]
          },
          "metadata": {
            "tags": []
          }
        },
        {
          "output_type": "display_data",
          "data": {
            "text/html": [
              "<div>\n",
              "<style scoped>\n",
              "    .dataframe tbody tr th:only-of-type {\n",
              "        vertical-align: middle;\n",
              "    }\n",
              "\n",
              "    .dataframe tbody tr th {\n",
              "        vertical-align: top;\n",
              "    }\n",
              "\n",
              "    .dataframe thead th {\n",
              "        text-align: right;\n",
              "    }\n",
              "</style>\n",
              "<table border=\"1\" class=\"dataframe\">\n",
              "  <thead>\n",
              "    <tr style=\"text-align: right;\">\n",
              "      <th>renda</th>\n",
              "      <th>0_15</th>\n",
              "      <th>15_35</th>\n",
              "      <th>acima_35</th>\n",
              "    </tr>\n",
              "    <tr>\n",
              "      <th>risco</th>\n",
              "      <th></th>\n",
              "      <th></th>\n",
              "      <th></th>\n",
              "    </tr>\n",
              "  </thead>\n",
              "  <tbody>\n",
              "    <tr>\n",
              "      <th>alto</th>\n",
              "      <td>3</td>\n",
              "      <td>2</td>\n",
              "      <td>1</td>\n",
              "    </tr>\n",
              "    <tr>\n",
              "      <th>baixo</th>\n",
              "      <td>0</td>\n",
              "      <td>0</td>\n",
              "      <td>5</td>\n",
              "    </tr>\n",
              "    <tr>\n",
              "      <th>moderado</th>\n",
              "      <td>0</td>\n",
              "      <td>2</td>\n",
              "      <td>1</td>\n",
              "    </tr>\n",
              "  </tbody>\n",
              "</table>\n",
              "</div>"
            ],
            "text/plain": [
              "renda     0_15  15_35  acima_35\n",
              "risco                          \n",
              "alto         3      2         1\n",
              "baixo        0      0         5\n",
              "moderado     0      2         1"
            ]
          },
          "metadata": {
            "tags": []
          }
        }
      ]
    },
    {
      "cell_type": "code",
      "metadata": {
        "id": "GLRmAHgVyK-w",
        "colab": {
          "base_uri": "https://localhost:8080/",
          "height": 200
        },
        "outputId": "54ff5bbe-6959-4499-fffc-e9d3eae4eac2"
      },
      "source": [
        "# multindex table\n",
        "melt = df.melt(target).value_counts()\n",
        "df_cross = melt.unstack(level=0).T.fillna(0).astype(int)\n",
        "df_cross"
      ],
      "execution_count": null,
      "outputs": [
        {
          "output_type": "execute_result",
          "data": {
            "text/html": [
              "<div>\n",
              "<style scoped>\n",
              "    .dataframe tbody tr th:only-of-type {\n",
              "        vertical-align: middle;\n",
              "    }\n",
              "\n",
              "    .dataframe tbody tr th {\n",
              "        vertical-align: top;\n",
              "    }\n",
              "\n",
              "    .dataframe thead tr th {\n",
              "        text-align: left;\n",
              "    }\n",
              "\n",
              "    .dataframe thead tr:last-of-type th {\n",
              "        text-align: right;\n",
              "    }\n",
              "</style>\n",
              "<table border=\"1\" class=\"dataframe\">\n",
              "  <thead>\n",
              "    <tr>\n",
              "      <th>variable</th>\n",
              "      <th colspan=\"2\" halign=\"left\">divida</th>\n",
              "      <th colspan=\"2\" halign=\"left\">garantias</th>\n",
              "      <th colspan=\"3\" halign=\"left\">historia</th>\n",
              "      <th colspan=\"3\" halign=\"left\">renda</th>\n",
              "    </tr>\n",
              "    <tr>\n",
              "      <th>value</th>\n",
              "      <th>alta</th>\n",
              "      <th>baixa</th>\n",
              "      <th>adequada</th>\n",
              "      <th>nenhuma</th>\n",
              "      <th>boa</th>\n",
              "      <th>desconhecida</th>\n",
              "      <th>ruim</th>\n",
              "      <th>0_15</th>\n",
              "      <th>15_35</th>\n",
              "      <th>acima_35</th>\n",
              "    </tr>\n",
              "    <tr>\n",
              "      <th>risco</th>\n",
              "      <th></th>\n",
              "      <th></th>\n",
              "      <th></th>\n",
              "      <th></th>\n",
              "      <th></th>\n",
              "      <th></th>\n",
              "      <th></th>\n",
              "      <th></th>\n",
              "      <th></th>\n",
              "      <th></th>\n",
              "    </tr>\n",
              "  </thead>\n",
              "  <tbody>\n",
              "    <tr>\n",
              "      <th>alto</th>\n",
              "      <td>4</td>\n",
              "      <td>2</td>\n",
              "      <td>0</td>\n",
              "      <td>6</td>\n",
              "      <td>1</td>\n",
              "      <td>2</td>\n",
              "      <td>3</td>\n",
              "      <td>3</td>\n",
              "      <td>2</td>\n",
              "      <td>1</td>\n",
              "    </tr>\n",
              "    <tr>\n",
              "      <th>baixo</th>\n",
              "      <td>2</td>\n",
              "      <td>3</td>\n",
              "      <td>2</td>\n",
              "      <td>3</td>\n",
              "      <td>3</td>\n",
              "      <td>2</td>\n",
              "      <td>0</td>\n",
              "      <td>0</td>\n",
              "      <td>0</td>\n",
              "      <td>5</td>\n",
              "    </tr>\n",
              "    <tr>\n",
              "      <th>moderado</th>\n",
              "      <td>1</td>\n",
              "      <td>2</td>\n",
              "      <td>1</td>\n",
              "      <td>2</td>\n",
              "      <td>1</td>\n",
              "      <td>1</td>\n",
              "      <td>1</td>\n",
              "      <td>0</td>\n",
              "      <td>2</td>\n",
              "      <td>1</td>\n",
              "    </tr>\n",
              "  </tbody>\n",
              "</table>\n",
              "</div>"
            ],
            "text/plain": [
              "variable divida       garantias          ... historia renda               \n",
              "value      alta baixa  adequada nenhuma  ...     ruim  0_15 15_35 acima_35\n",
              "risco                                    ...                              \n",
              "alto          4     2         0       6  ...        3     3     2        1\n",
              "baixo         2     3         2       3  ...        0     0     0        5\n",
              "moderado      1     2         1       2  ...        1     0     2        1\n",
              "\n",
              "[3 rows x 10 columns]"
            ]
          },
          "metadata": {
            "tags": []
          },
          "execution_count": 8
        }
      ]
    },
    {
      "cell_type": "code",
      "metadata": {
        "id": "4221HFRs3YlS",
        "colab": {
          "base_uri": "https://localhost:8080/",
          "height": 35
        },
        "outputId": "2003a620-84b8-48e0-eb75-3a491c611fe7"
      },
      "source": [
        "# access multi-index entry\n",
        "df_cross.columns[0][0]"
      ],
      "execution_count": null,
      "outputs": [
        {
          "output_type": "execute_result",
          "data": {
            "application/vnd.google.colaboratory.intrinsic+json": {
              "type": "string"
            },
            "text/plain": [
              "'divida'"
            ]
          },
          "metadata": {
            "tags": []
          },
          "execution_count": 9
        }
      ]
    },
    {
      "cell_type": "code",
      "metadata": {
        "id": "qV3pNlADa0os",
        "colab": {
          "base_uri": "https://localhost:8080/",
          "height": 200
        },
        "outputId": "2be51b93-4a50-4cfb-cb19-8fbccc16116d"
      },
      "source": [
        "arr_ref = df[target].value_counts().values\n",
        "total = \"total\"\n",
        "df_cross_total = df_cross.copy()\n",
        "df_cross_total[(target, total)] = arr_ref\n",
        "df_cross_total = df_cross_total.append(df_cross_total.sum(), ignore_index=True)\n",
        "lst_target_outcomes = list(df_cross.index)\n",
        "lst_target_outcomes.append(total)\n",
        "df_cross_total.index = lst_target_outcomes\n",
        "df_cross_total"
      ],
      "execution_count": null,
      "outputs": [
        {
          "output_type": "execute_result",
          "data": {
            "text/html": [
              "<div>\n",
              "<style scoped>\n",
              "    .dataframe tbody tr th:only-of-type {\n",
              "        vertical-align: middle;\n",
              "    }\n",
              "\n",
              "    .dataframe tbody tr th {\n",
              "        vertical-align: top;\n",
              "    }\n",
              "\n",
              "    .dataframe thead tr th {\n",
              "        text-align: left;\n",
              "    }\n",
              "</style>\n",
              "<table border=\"1\" class=\"dataframe\">\n",
              "  <thead>\n",
              "    <tr>\n",
              "      <th>variable</th>\n",
              "      <th colspan=\"2\" halign=\"left\">divida</th>\n",
              "      <th colspan=\"2\" halign=\"left\">garantias</th>\n",
              "      <th colspan=\"3\" halign=\"left\">historia</th>\n",
              "      <th colspan=\"3\" halign=\"left\">renda</th>\n",
              "      <th>risco</th>\n",
              "    </tr>\n",
              "    <tr>\n",
              "      <th>value</th>\n",
              "      <th>alta</th>\n",
              "      <th>baixa</th>\n",
              "      <th>adequada</th>\n",
              "      <th>nenhuma</th>\n",
              "      <th>boa</th>\n",
              "      <th>desconhecida</th>\n",
              "      <th>ruim</th>\n",
              "      <th>0_15</th>\n",
              "      <th>15_35</th>\n",
              "      <th>acima_35</th>\n",
              "      <th>total</th>\n",
              "    </tr>\n",
              "  </thead>\n",
              "  <tbody>\n",
              "    <tr>\n",
              "      <th>alto</th>\n",
              "      <td>4</td>\n",
              "      <td>2</td>\n",
              "      <td>0</td>\n",
              "      <td>6</td>\n",
              "      <td>1</td>\n",
              "      <td>2</td>\n",
              "      <td>3</td>\n",
              "      <td>3</td>\n",
              "      <td>2</td>\n",
              "      <td>1</td>\n",
              "      <td>6</td>\n",
              "    </tr>\n",
              "    <tr>\n",
              "      <th>baixo</th>\n",
              "      <td>2</td>\n",
              "      <td>3</td>\n",
              "      <td>2</td>\n",
              "      <td>3</td>\n",
              "      <td>3</td>\n",
              "      <td>2</td>\n",
              "      <td>0</td>\n",
              "      <td>0</td>\n",
              "      <td>0</td>\n",
              "      <td>5</td>\n",
              "      <td>5</td>\n",
              "    </tr>\n",
              "    <tr>\n",
              "      <th>moderado</th>\n",
              "      <td>1</td>\n",
              "      <td>2</td>\n",
              "      <td>1</td>\n",
              "      <td>2</td>\n",
              "      <td>1</td>\n",
              "      <td>1</td>\n",
              "      <td>1</td>\n",
              "      <td>0</td>\n",
              "      <td>2</td>\n",
              "      <td>1</td>\n",
              "      <td>3</td>\n",
              "    </tr>\n",
              "    <tr>\n",
              "      <th>total</th>\n",
              "      <td>7</td>\n",
              "      <td>7</td>\n",
              "      <td>3</td>\n",
              "      <td>11</td>\n",
              "      <td>5</td>\n",
              "      <td>5</td>\n",
              "      <td>4</td>\n",
              "      <td>3</td>\n",
              "      <td>4</td>\n",
              "      <td>7</td>\n",
              "      <td>14</td>\n",
              "    </tr>\n",
              "  </tbody>\n",
              "</table>\n",
              "</div>"
            ],
            "text/plain": [
              "variable divida       garantias          ... renda                risco\n",
              "value      alta baixa  adequada nenhuma  ...  0_15 15_35 acima_35 total\n",
              "alto          4     2         0       6  ...     3     2        1     6\n",
              "baixo         2     3         2       3  ...     0     0        5     5\n",
              "moderado      1     2         1       2  ...     0     2        1     3\n",
              "total         7     7         3      11  ...     3     4        7    14\n",
              "\n",
              "[4 rows x 11 columns]"
            ]
          },
          "metadata": {
            "tags": []
          },
          "execution_count": 259
        }
      ]
    },
    {
      "cell_type": "markdown",
      "metadata": {
        "id": "7o1d9QW7AaBx"
      },
      "source": [
        "#### Dataset probability"
      ]
    },
    {
      "cell_type": "code",
      "metadata": {
        "id": "cMH8hwjCXl1o"
      },
      "source": [
        "# TEST: check col sum\n",
        "def test_check_col_sum():\n",
        "    for col in lst_features:\n",
        "        assert np.array_equal(\n",
        "            df_cross[col].sum().values\n",
        "            , df[col].value_counts().sort_index().values\n",
        "        ), col\n",
        "    pass"
      ],
      "execution_count": null,
      "outputs": []
    },
    {
      "cell_type": "code",
      "metadata": {
        "id": "AzVpI155Zypg"
      },
      "source": [
        "# TEST: check row sum\n",
        "arr_ref = df[target].value_counts().values\n",
        "def test_check_row_sum():\n",
        "    for col in lst_features:\n",
        "        assert np.array_equal(\n",
        "            df_cross[col].sum(1).values\n",
        "            , arr_ref\n",
        "        ), col\n",
        "    pass"
      ],
      "execution_count": null,
      "outputs": []
    },
    {
      "cell_type": "code",
      "metadata": {
        "id": "_yaexDVr7ULk"
      },
      "source": [
        "# Probability table\n",
        "def probability_table_database(df):\n",
        "    \"\"\" Build table with probabilities for a given entry\n",
        "        args:\n",
        "            df (pd.DataFrame): database\n",
        "        return:\n",
        "            df_prob (pd.DataFrame): probability database (Naive Bayes)\n",
        "    \"\"\"\n",
        "\n",
        "    melt = df.melt(target).value_counts()\n",
        "    df_cross = melt.unstack(level=0).T.fillna(0).astype(int)\n",
        "\n",
        "    # Naive Bayes Table\n",
        "    df_prob = df_cross.div(arr_ref, axis='rows')\n",
        "\n",
        "    test_check_col_sum()\n",
        "\n",
        "    test_check_row_sum()\n",
        "    \n",
        "    return df_prob"
      ],
      "execution_count": null,
      "outputs": []
    },
    {
      "cell_type": "code",
      "metadata": {
        "id": "vvl6aEhhBvHn",
        "colab": {
          "base_uri": "https://localhost:8080/",
          "height": 138
        },
        "outputId": "c83e4bbe-37af-4832-9bdf-830a3a8cee31"
      },
      "source": [
        "# Naive Bayes Table\n",
        "df_prob = probability_table_database(df)\n",
        "df_prob.style.format(\"{:.1%}\")"
      ],
      "execution_count": null,
      "outputs": [
        {
          "output_type": "execute_result",
          "data": {
            "text/html": [
              "<style  type=\"text/css\" >\n",
              "</style><table id=\"T_5b6bbc34_2081_11eb_9583_0242ac1c0002\" ><thead>    <tr>        <th class=\"index_name level0\" >variable</th>        <th class=\"col_heading level0 col0\" colspan=2>divida</th>        <th class=\"col_heading level0 col2\" colspan=2>garantias</th>        <th class=\"col_heading level0 col4\" colspan=3>historia</th>        <th class=\"col_heading level0 col7\" colspan=3>renda</th>    </tr>    <tr>        <th class=\"index_name level1\" >value</th>        <th class=\"col_heading level1 col0\" >alta</th>        <th class=\"col_heading level1 col1\" >baixa</th>        <th class=\"col_heading level1 col2\" >adequada</th>        <th class=\"col_heading level1 col3\" >nenhuma</th>        <th class=\"col_heading level1 col4\" >boa</th>        <th class=\"col_heading level1 col5\" >desconhecida</th>        <th class=\"col_heading level1 col6\" >ruim</th>        <th class=\"col_heading level1 col7\" >0_15</th>        <th class=\"col_heading level1 col8\" >15_35</th>        <th class=\"col_heading level1 col9\" >acima_35</th>    </tr>    <tr>        <th class=\"index_name level0\" >risco</th>        <th class=\"blank\" ></th>        <th class=\"blank\" ></th>        <th class=\"blank\" ></th>        <th class=\"blank\" ></th>        <th class=\"blank\" ></th>        <th class=\"blank\" ></th>        <th class=\"blank\" ></th>        <th class=\"blank\" ></th>        <th class=\"blank\" ></th>        <th class=\"blank\" ></th>    </tr></thead><tbody>\n",
              "                <tr>\n",
              "                        <th id=\"T_5b6bbc34_2081_11eb_9583_0242ac1c0002level0_row0\" class=\"row_heading level0 row0\" >alto</th>\n",
              "                        <td id=\"T_5b6bbc34_2081_11eb_9583_0242ac1c0002row0_col0\" class=\"data row0 col0\" >66.7%</td>\n",
              "                        <td id=\"T_5b6bbc34_2081_11eb_9583_0242ac1c0002row0_col1\" class=\"data row0 col1\" >33.3%</td>\n",
              "                        <td id=\"T_5b6bbc34_2081_11eb_9583_0242ac1c0002row0_col2\" class=\"data row0 col2\" >0.0%</td>\n",
              "                        <td id=\"T_5b6bbc34_2081_11eb_9583_0242ac1c0002row0_col3\" class=\"data row0 col3\" >100.0%</td>\n",
              "                        <td id=\"T_5b6bbc34_2081_11eb_9583_0242ac1c0002row0_col4\" class=\"data row0 col4\" >16.7%</td>\n",
              "                        <td id=\"T_5b6bbc34_2081_11eb_9583_0242ac1c0002row0_col5\" class=\"data row0 col5\" >33.3%</td>\n",
              "                        <td id=\"T_5b6bbc34_2081_11eb_9583_0242ac1c0002row0_col6\" class=\"data row0 col6\" >50.0%</td>\n",
              "                        <td id=\"T_5b6bbc34_2081_11eb_9583_0242ac1c0002row0_col7\" class=\"data row0 col7\" >50.0%</td>\n",
              "                        <td id=\"T_5b6bbc34_2081_11eb_9583_0242ac1c0002row0_col8\" class=\"data row0 col8\" >33.3%</td>\n",
              "                        <td id=\"T_5b6bbc34_2081_11eb_9583_0242ac1c0002row0_col9\" class=\"data row0 col9\" >16.7%</td>\n",
              "            </tr>\n",
              "            <tr>\n",
              "                        <th id=\"T_5b6bbc34_2081_11eb_9583_0242ac1c0002level0_row1\" class=\"row_heading level0 row1\" >baixo</th>\n",
              "                        <td id=\"T_5b6bbc34_2081_11eb_9583_0242ac1c0002row1_col0\" class=\"data row1 col0\" >40.0%</td>\n",
              "                        <td id=\"T_5b6bbc34_2081_11eb_9583_0242ac1c0002row1_col1\" class=\"data row1 col1\" >60.0%</td>\n",
              "                        <td id=\"T_5b6bbc34_2081_11eb_9583_0242ac1c0002row1_col2\" class=\"data row1 col2\" >40.0%</td>\n",
              "                        <td id=\"T_5b6bbc34_2081_11eb_9583_0242ac1c0002row1_col3\" class=\"data row1 col3\" >60.0%</td>\n",
              "                        <td id=\"T_5b6bbc34_2081_11eb_9583_0242ac1c0002row1_col4\" class=\"data row1 col4\" >60.0%</td>\n",
              "                        <td id=\"T_5b6bbc34_2081_11eb_9583_0242ac1c0002row1_col5\" class=\"data row1 col5\" >40.0%</td>\n",
              "                        <td id=\"T_5b6bbc34_2081_11eb_9583_0242ac1c0002row1_col6\" class=\"data row1 col6\" >0.0%</td>\n",
              "                        <td id=\"T_5b6bbc34_2081_11eb_9583_0242ac1c0002row1_col7\" class=\"data row1 col7\" >0.0%</td>\n",
              "                        <td id=\"T_5b6bbc34_2081_11eb_9583_0242ac1c0002row1_col8\" class=\"data row1 col8\" >0.0%</td>\n",
              "                        <td id=\"T_5b6bbc34_2081_11eb_9583_0242ac1c0002row1_col9\" class=\"data row1 col9\" >100.0%</td>\n",
              "            </tr>\n",
              "            <tr>\n",
              "                        <th id=\"T_5b6bbc34_2081_11eb_9583_0242ac1c0002level0_row2\" class=\"row_heading level0 row2\" >moderado</th>\n",
              "                        <td id=\"T_5b6bbc34_2081_11eb_9583_0242ac1c0002row2_col0\" class=\"data row2 col0\" >33.3%</td>\n",
              "                        <td id=\"T_5b6bbc34_2081_11eb_9583_0242ac1c0002row2_col1\" class=\"data row2 col1\" >66.7%</td>\n",
              "                        <td id=\"T_5b6bbc34_2081_11eb_9583_0242ac1c0002row2_col2\" class=\"data row2 col2\" >33.3%</td>\n",
              "                        <td id=\"T_5b6bbc34_2081_11eb_9583_0242ac1c0002row2_col3\" class=\"data row2 col3\" >66.7%</td>\n",
              "                        <td id=\"T_5b6bbc34_2081_11eb_9583_0242ac1c0002row2_col4\" class=\"data row2 col4\" >33.3%</td>\n",
              "                        <td id=\"T_5b6bbc34_2081_11eb_9583_0242ac1c0002row2_col5\" class=\"data row2 col5\" >33.3%</td>\n",
              "                        <td id=\"T_5b6bbc34_2081_11eb_9583_0242ac1c0002row2_col6\" class=\"data row2 col6\" >33.3%</td>\n",
              "                        <td id=\"T_5b6bbc34_2081_11eb_9583_0242ac1c0002row2_col7\" class=\"data row2 col7\" >0.0%</td>\n",
              "                        <td id=\"T_5b6bbc34_2081_11eb_9583_0242ac1c0002row2_col8\" class=\"data row2 col8\" >66.7%</td>\n",
              "                        <td id=\"T_5b6bbc34_2081_11eb_9583_0242ac1c0002row2_col9\" class=\"data row2 col9\" >33.3%</td>\n",
              "            </tr>\n",
              "    </tbody></table>"
            ],
            "text/plain": [
              "<pandas.io.formats.style.Styler at 0x7f74ae6d60f0>"
            ]
          },
          "metadata": {
            "tags": []
          },
          "execution_count": 13
        }
      ]
    },
    {
      "cell_type": "markdown",
      "metadata": {
        "id": "8whFAM1O_8OA"
      },
      "source": [
        "#### Predict"
      ]
    },
    {
      "cell_type": "code",
      "metadata": {
        "id": "0lCbPON3uSrM"
      },
      "source": [
        "prob = \"prob\"\n",
        "# Probability table entry\n",
        "def naive_bayes_predict(df, df_prob, test):\n",
        "    \"\"\" Build table with probabilities for a given entry\n",
        "        args:\n",
        "            df (pd.DataFrame): database\n",
        "            df_prob (pd.DataFrame): probabilities for database\n",
        "            test (dict) with sample entry\n",
        "        return:\n",
        "            df_prob_test (pd.DataFrame): probabilities for target labels\n",
        "    \"\"\"\n",
        "    \n",
        "    df_prob_test = pd.DataFrame()\n",
        "    for k,v in test.items():\n",
        "        df_prob_test[k] = df_prob[k][v]\n",
        "    df_prob_test[target] = df[target].value_counts(normalize=True)\n",
        "    df_prob_test[prob] = df_prob_test.product(1)\n",
        "    # normalize probability\n",
        "    df_prob_test[prob] = df_prob_test[prob].div(df_prob_test[prob].sum())\n",
        "\n",
        "    display(df_prob_test)\n",
        "\n",
        "    # predicted label\n",
        "    idx = df_prob_test[prob].argmax()\n",
        "    print(\"\\npredicted\", target, df_prob_test.index[idx])\n",
        "\n",
        "    return df_prob_test"
      ],
      "execution_count": null,
      "outputs": []
    },
    {
      "cell_type": "code",
      "metadata": {
        "id": "cIvmm-F5BcC2",
        "colab": {
          "base_uri": "https://localhost:8080/",
          "height": 205
        },
        "outputId": "ac028481-915d-4cf2-b147-e94717003b8b"
      },
      "source": [
        "# história boa, dívida alta, garantias nenhuma, renda > 35\n",
        "# test0 = [0, 0, 1, 2]\n",
        "test0 = {\n",
        "    \"historia\": \"boa\",\n",
        "    \"divida\": \"alta\",\n",
        "    \"garantias\": \"nenhuma\",\n",
        "    \"renda\": \"acima_35\"\n",
        "}\n",
        "\n",
        "df_prob_test0 = naive_bayes_predict(df, df_prob, test0)"
      ],
      "execution_count": null,
      "outputs": [
        {
          "output_type": "display_data",
          "data": {
            "text/html": [
              "<div>\n",
              "<style scoped>\n",
              "    .dataframe tbody tr th:only-of-type {\n",
              "        vertical-align: middle;\n",
              "    }\n",
              "\n",
              "    .dataframe tbody tr th {\n",
              "        vertical-align: top;\n",
              "    }\n",
              "\n",
              "    .dataframe thead th {\n",
              "        text-align: right;\n",
              "    }\n",
              "</style>\n",
              "<table border=\"1\" class=\"dataframe\">\n",
              "  <thead>\n",
              "    <tr style=\"text-align: right;\">\n",
              "      <th></th>\n",
              "      <th>historia</th>\n",
              "      <th>divida</th>\n",
              "      <th>garantias</th>\n",
              "      <th>renda</th>\n",
              "      <th>risco</th>\n",
              "      <th>prob</th>\n",
              "    </tr>\n",
              "    <tr>\n",
              "      <th>risco</th>\n",
              "      <th></th>\n",
              "      <th></th>\n",
              "      <th></th>\n",
              "      <th></th>\n",
              "      <th></th>\n",
              "      <th></th>\n",
              "    </tr>\n",
              "  </thead>\n",
              "  <tbody>\n",
              "    <tr>\n",
              "      <th>alto</th>\n",
              "      <td>0.166667</td>\n",
              "      <td>0.666667</td>\n",
              "      <td>1.000000</td>\n",
              "      <td>0.166667</td>\n",
              "      <td>0.428571</td>\n",
              "      <td>0.122750</td>\n",
              "    </tr>\n",
              "    <tr>\n",
              "      <th>baixo</th>\n",
              "      <td>0.600000</td>\n",
              "      <td>0.400000</td>\n",
              "      <td>0.600000</td>\n",
              "      <td>1.000000</td>\n",
              "      <td>0.357143</td>\n",
              "      <td>0.795417</td>\n",
              "    </tr>\n",
              "    <tr>\n",
              "      <th>moderado</th>\n",
              "      <td>0.333333</td>\n",
              "      <td>0.333333</td>\n",
              "      <td>0.666667</td>\n",
              "      <td>0.333333</td>\n",
              "      <td>0.214286</td>\n",
              "      <td>0.081833</td>\n",
              "    </tr>\n",
              "  </tbody>\n",
              "</table>\n",
              "</div>"
            ],
            "text/plain": [
              "          historia    divida  garantias     renda     risco      prob\n",
              "risco                                                                \n",
              "alto      0.166667  0.666667   1.000000  0.166667  0.428571  0.122750\n",
              "baixo     0.600000  0.400000   0.600000  1.000000  0.357143  0.795417\n",
              "moderado  0.333333  0.333333   0.666667  0.333333  0.214286  0.081833"
            ]
          },
          "metadata": {
            "tags": []
          }
        },
        {
          "output_type": "stream",
          "text": [
            "\n",
            "predicted risco baixo\n"
          ],
          "name": "stdout"
        }
      ]
    },
    {
      "cell_type": "markdown",
      "metadata": {
        "id": "wZ2sN_fu-Av0"
      },
      "source": [
        "#### Correção laplaciana"
      ]
    },
    {
      "cell_type": "code",
      "metadata": {
        "id": "sKug1a89CqDi",
        "colab": {
          "base_uri": "https://localhost:8080/",
          "height": 205
        },
        "outputId": "afb67861-5c0e-49df-d919-0180d91b2fa0"
      },
      "source": [
        "test1 = {\n",
        "    \"historia\": \"ruim\",\n",
        "    \"divida\": \"alta\",\n",
        "    \"garantias\": \"adequada\",\n",
        "    \"renda\": \"0_15\"\n",
        "}\n",
        "df_prob_test1 = naive_bayes_predict(df, df_prob, test1)"
      ],
      "execution_count": null,
      "outputs": [
        {
          "output_type": "display_data",
          "data": {
            "text/html": [
              "<div>\n",
              "<style scoped>\n",
              "    .dataframe tbody tr th:only-of-type {\n",
              "        vertical-align: middle;\n",
              "    }\n",
              "\n",
              "    .dataframe tbody tr th {\n",
              "        vertical-align: top;\n",
              "    }\n",
              "\n",
              "    .dataframe thead th {\n",
              "        text-align: right;\n",
              "    }\n",
              "</style>\n",
              "<table border=\"1\" class=\"dataframe\">\n",
              "  <thead>\n",
              "    <tr style=\"text-align: right;\">\n",
              "      <th></th>\n",
              "      <th>historia</th>\n",
              "      <th>divida</th>\n",
              "      <th>garantias</th>\n",
              "      <th>renda</th>\n",
              "      <th>risco</th>\n",
              "      <th>prob</th>\n",
              "    </tr>\n",
              "    <tr>\n",
              "      <th>risco</th>\n",
              "      <th></th>\n",
              "      <th></th>\n",
              "      <th></th>\n",
              "      <th></th>\n",
              "      <th></th>\n",
              "      <th></th>\n",
              "    </tr>\n",
              "  </thead>\n",
              "  <tbody>\n",
              "    <tr>\n",
              "      <th>alto</th>\n",
              "      <td>0.500000</td>\n",
              "      <td>0.666667</td>\n",
              "      <td>0.000000</td>\n",
              "      <td>0.5</td>\n",
              "      <td>0.428571</td>\n",
              "      <td>NaN</td>\n",
              "    </tr>\n",
              "    <tr>\n",
              "      <th>baixo</th>\n",
              "      <td>0.000000</td>\n",
              "      <td>0.400000</td>\n",
              "      <td>0.400000</td>\n",
              "      <td>0.0</td>\n",
              "      <td>0.357143</td>\n",
              "      <td>NaN</td>\n",
              "    </tr>\n",
              "    <tr>\n",
              "      <th>moderado</th>\n",
              "      <td>0.333333</td>\n",
              "      <td>0.333333</td>\n",
              "      <td>0.333333</td>\n",
              "      <td>0.0</td>\n",
              "      <td>0.214286</td>\n",
              "      <td>NaN</td>\n",
              "    </tr>\n",
              "  </tbody>\n",
              "</table>\n",
              "</div>"
            ],
            "text/plain": [
              "          historia    divida  garantias  renda     risco  prob\n",
              "risco                                                         \n",
              "alto      0.500000  0.666667   0.000000    0.5  0.428571   NaN\n",
              "baixo     0.000000  0.400000   0.400000    0.0  0.357143   NaN\n",
              "moderado  0.333333  0.333333   0.333333    0.0  0.214286   NaN"
            ]
          },
          "metadata": {
            "tags": []
          }
        },
        {
          "output_type": "stream",
          "text": [
            "\n",
            "predicted risco moderado\n"
          ],
          "name": "stdout"
        }
      ]
    },
    {
      "cell_type": "code",
      "metadata": {
        "id": "KPbQXrgjzPe1",
        "colab": {
          "base_uri": "https://localhost:8080/",
          "height": 235
        },
        "outputId": "093e31f2-9dc6-4e10-f7ef-1dd274b9f345"
      },
      "source": [
        "if df_prob_test1[prob].isna().any():\n",
        "    print(\"correcao_laplaciana\\n\")\n",
        "    # correcao_laplaciana\n",
        "    # imputar dados ficticios para prevenir valor zero!\n",
        "    mask = df_cross == 0\n",
        "    display(df_cross[mask].fillna(\"\"))\n"
      ],
      "execution_count": null,
      "outputs": [
        {
          "output_type": "stream",
          "text": [
            "correcao_laplaciana\n",
            "\n"
          ],
          "name": "stdout"
        },
        {
          "output_type": "display_data",
          "data": {
            "text/html": [
              "<div>\n",
              "<style scoped>\n",
              "    .dataframe tbody tr th:only-of-type {\n",
              "        vertical-align: middle;\n",
              "    }\n",
              "\n",
              "    .dataframe tbody tr th {\n",
              "        vertical-align: top;\n",
              "    }\n",
              "\n",
              "    .dataframe thead tr th {\n",
              "        text-align: left;\n",
              "    }\n",
              "\n",
              "    .dataframe thead tr:last-of-type th {\n",
              "        text-align: right;\n",
              "    }\n",
              "</style>\n",
              "<table border=\"1\" class=\"dataframe\">\n",
              "  <thead>\n",
              "    <tr>\n",
              "      <th>variable</th>\n",
              "      <th colspan=\"2\" halign=\"left\">divida</th>\n",
              "      <th colspan=\"2\" halign=\"left\">garantias</th>\n",
              "      <th colspan=\"3\" halign=\"left\">historia</th>\n",
              "      <th colspan=\"3\" halign=\"left\">renda</th>\n",
              "    </tr>\n",
              "    <tr>\n",
              "      <th>value</th>\n",
              "      <th>alta</th>\n",
              "      <th>baixa</th>\n",
              "      <th>adequada</th>\n",
              "      <th>nenhuma</th>\n",
              "      <th>boa</th>\n",
              "      <th>desconhecida</th>\n",
              "      <th>ruim</th>\n",
              "      <th>0_15</th>\n",
              "      <th>15_35</th>\n",
              "      <th>acima_35</th>\n",
              "    </tr>\n",
              "    <tr>\n",
              "      <th>risco</th>\n",
              "      <th></th>\n",
              "      <th></th>\n",
              "      <th></th>\n",
              "      <th></th>\n",
              "      <th></th>\n",
              "      <th></th>\n",
              "      <th></th>\n",
              "      <th></th>\n",
              "      <th></th>\n",
              "      <th></th>\n",
              "    </tr>\n",
              "  </thead>\n",
              "  <tbody>\n",
              "    <tr>\n",
              "      <th>alto</th>\n",
              "      <td></td>\n",
              "      <td></td>\n",
              "      <td>0</td>\n",
              "      <td></td>\n",
              "      <td></td>\n",
              "      <td></td>\n",
              "      <td></td>\n",
              "      <td></td>\n",
              "      <td></td>\n",
              "      <td></td>\n",
              "    </tr>\n",
              "    <tr>\n",
              "      <th>baixo</th>\n",
              "      <td></td>\n",
              "      <td></td>\n",
              "      <td></td>\n",
              "      <td></td>\n",
              "      <td></td>\n",
              "      <td></td>\n",
              "      <td>0</td>\n",
              "      <td>0</td>\n",
              "      <td>0</td>\n",
              "      <td></td>\n",
              "    </tr>\n",
              "    <tr>\n",
              "      <th>moderado</th>\n",
              "      <td></td>\n",
              "      <td></td>\n",
              "      <td></td>\n",
              "      <td></td>\n",
              "      <td></td>\n",
              "      <td></td>\n",
              "      <td></td>\n",
              "      <td>0</td>\n",
              "      <td></td>\n",
              "      <td></td>\n",
              "    </tr>\n",
              "  </tbody>\n",
              "</table>\n",
              "</div>"
            ],
            "text/plain": [
              "variable divida       garantias          ... historia renda               \n",
              "value      alta baixa  adequada nenhuma  ...     ruim  0_15 15_35 acima_35\n",
              "risco                                    ...                              \n",
              "alto                          0          ...                              \n",
              "baixo                                    ...        0     0     0         \n",
              "moderado                                 ...              0               \n",
              "\n",
              "[3 rows x 10 columns]"
            ]
          },
          "metadata": {
            "tags": []
          }
        }
      ]
    },
    {
      "cell_type": "code",
      "metadata": {
        "id": "8IEnvze-zPtJ",
        "colab": {
          "base_uri": "https://localhost:8080/",
          "height": 595
        },
        "outputId": "d47e8597-88c7-47a9-a1c2-de015d270814"
      },
      "source": [
        "# Correcao Laplaciana\n",
        "\n",
        "def imput_data_laplace():\n",
        "    df_laplace = df.copy()\n",
        "\n",
        "    rows_laplace = {\n",
        "        \"historia\": \"ruim\",\n",
        "        \"divida\": \"baixa\",\n",
        "        \"garantias\": \"nenhuma\",\n",
        "        \"renda\": \"0_15\",\n",
        "        \"risco\": \"baixo\"\n",
        "    }\n",
        "\n",
        "    df_laplace = df_laplace.append(rows_laplace, ignore_index=True)\n",
        "\n",
        "    rows_laplace = {\n",
        "        \"historia\": \"boa\",\n",
        "        \"divida\": \"alta\",\n",
        "        \"garantias\": \"nenhuma\",\n",
        "        \"renda\": \"15_35\",\n",
        "        \"risco\": \"baixo\"\n",
        "    }\n",
        "\n",
        "    df_laplace = df_laplace.append(rows_laplace, ignore_index=True)\n",
        "\n",
        "    rows_laplace = {\n",
        "        \"historia\": \"boa\",\n",
        "        \"divida\": \"baixa\",\n",
        "        \"garantias\": \"adequada\",\n",
        "        \"renda\": \"0_15\",\n",
        "        \"risco\": \"moderado\"\n",
        "    }\n",
        "\n",
        "    df_laplace = df_laplace.append(rows_laplace, ignore_index=True)\n",
        "\n",
        "    rows_laplace = {\n",
        "        \"historia\": \"ruim\",\n",
        "        \"divida\": \"alta\",\n",
        "        \"garantias\": \"adequada\",\n",
        "        \"renda\": \"acima_35\",\n",
        "        \"risco\": \"alto\"\n",
        "    }\n",
        "\n",
        "    df_laplace = df_laplace.append(rows_laplace, ignore_index=True)\n",
        "\n",
        "    return df_laplace\n",
        "\n",
        "df_laplace = imput_data_laplace()\n",
        "df_laplace"
      ],
      "execution_count": null,
      "outputs": [
        {
          "output_type": "execute_result",
          "data": {
            "text/html": [
              "<div>\n",
              "<style scoped>\n",
              "    .dataframe tbody tr th:only-of-type {\n",
              "        vertical-align: middle;\n",
              "    }\n",
              "\n",
              "    .dataframe tbody tr th {\n",
              "        vertical-align: top;\n",
              "    }\n",
              "\n",
              "    .dataframe thead th {\n",
              "        text-align: right;\n",
              "    }\n",
              "</style>\n",
              "<table border=\"1\" class=\"dataframe\">\n",
              "  <thead>\n",
              "    <tr style=\"text-align: right;\">\n",
              "      <th></th>\n",
              "      <th>historia</th>\n",
              "      <th>divida</th>\n",
              "      <th>garantias</th>\n",
              "      <th>renda</th>\n",
              "      <th>risco</th>\n",
              "    </tr>\n",
              "  </thead>\n",
              "  <tbody>\n",
              "    <tr>\n",
              "      <th>0</th>\n",
              "      <td>ruim</td>\n",
              "      <td>alta</td>\n",
              "      <td>nenhuma</td>\n",
              "      <td>0_15</td>\n",
              "      <td>alto</td>\n",
              "    </tr>\n",
              "    <tr>\n",
              "      <th>1</th>\n",
              "      <td>desconhecida</td>\n",
              "      <td>alta</td>\n",
              "      <td>nenhuma</td>\n",
              "      <td>15_35</td>\n",
              "      <td>alto</td>\n",
              "    </tr>\n",
              "    <tr>\n",
              "      <th>2</th>\n",
              "      <td>desconhecida</td>\n",
              "      <td>baixa</td>\n",
              "      <td>nenhuma</td>\n",
              "      <td>15_35</td>\n",
              "      <td>moderado</td>\n",
              "    </tr>\n",
              "    <tr>\n",
              "      <th>3</th>\n",
              "      <td>desconhecida</td>\n",
              "      <td>baixa</td>\n",
              "      <td>nenhuma</td>\n",
              "      <td>acima_35</td>\n",
              "      <td>alto</td>\n",
              "    </tr>\n",
              "    <tr>\n",
              "      <th>4</th>\n",
              "      <td>desconhecida</td>\n",
              "      <td>baixa</td>\n",
              "      <td>nenhuma</td>\n",
              "      <td>acima_35</td>\n",
              "      <td>baixo</td>\n",
              "    </tr>\n",
              "    <tr>\n",
              "      <th>5</th>\n",
              "      <td>desconhecida</td>\n",
              "      <td>baixa</td>\n",
              "      <td>adequada</td>\n",
              "      <td>acima_35</td>\n",
              "      <td>baixo</td>\n",
              "    </tr>\n",
              "    <tr>\n",
              "      <th>6</th>\n",
              "      <td>ruim</td>\n",
              "      <td>baixa</td>\n",
              "      <td>nenhuma</td>\n",
              "      <td>0_15</td>\n",
              "      <td>alto</td>\n",
              "    </tr>\n",
              "    <tr>\n",
              "      <th>7</th>\n",
              "      <td>ruim</td>\n",
              "      <td>baixa</td>\n",
              "      <td>adequada</td>\n",
              "      <td>acima_35</td>\n",
              "      <td>moderado</td>\n",
              "    </tr>\n",
              "    <tr>\n",
              "      <th>8</th>\n",
              "      <td>boa</td>\n",
              "      <td>baixa</td>\n",
              "      <td>nenhuma</td>\n",
              "      <td>acima_35</td>\n",
              "      <td>baixo</td>\n",
              "    </tr>\n",
              "    <tr>\n",
              "      <th>9</th>\n",
              "      <td>boa</td>\n",
              "      <td>alta</td>\n",
              "      <td>adequada</td>\n",
              "      <td>acima_35</td>\n",
              "      <td>baixo</td>\n",
              "    </tr>\n",
              "    <tr>\n",
              "      <th>10</th>\n",
              "      <td>boa</td>\n",
              "      <td>alta</td>\n",
              "      <td>nenhuma</td>\n",
              "      <td>0_15</td>\n",
              "      <td>alto</td>\n",
              "    </tr>\n",
              "    <tr>\n",
              "      <th>11</th>\n",
              "      <td>boa</td>\n",
              "      <td>alta</td>\n",
              "      <td>nenhuma</td>\n",
              "      <td>15_35</td>\n",
              "      <td>moderado</td>\n",
              "    </tr>\n",
              "    <tr>\n",
              "      <th>12</th>\n",
              "      <td>boa</td>\n",
              "      <td>alta</td>\n",
              "      <td>nenhuma</td>\n",
              "      <td>acima_35</td>\n",
              "      <td>baixo</td>\n",
              "    </tr>\n",
              "    <tr>\n",
              "      <th>13</th>\n",
              "      <td>ruim</td>\n",
              "      <td>alta</td>\n",
              "      <td>nenhuma</td>\n",
              "      <td>15_35</td>\n",
              "      <td>alto</td>\n",
              "    </tr>\n",
              "    <tr>\n",
              "      <th>14</th>\n",
              "      <td>ruim</td>\n",
              "      <td>baixa</td>\n",
              "      <td>nenhuma</td>\n",
              "      <td>0_15</td>\n",
              "      <td>baixo</td>\n",
              "    </tr>\n",
              "    <tr>\n",
              "      <th>15</th>\n",
              "      <td>boa</td>\n",
              "      <td>alta</td>\n",
              "      <td>nenhuma</td>\n",
              "      <td>15_35</td>\n",
              "      <td>baixo</td>\n",
              "    </tr>\n",
              "    <tr>\n",
              "      <th>16</th>\n",
              "      <td>boa</td>\n",
              "      <td>baixa</td>\n",
              "      <td>adequada</td>\n",
              "      <td>0_15</td>\n",
              "      <td>moderado</td>\n",
              "    </tr>\n",
              "    <tr>\n",
              "      <th>17</th>\n",
              "      <td>ruim</td>\n",
              "      <td>alta</td>\n",
              "      <td>adequada</td>\n",
              "      <td>acima_35</td>\n",
              "      <td>alto</td>\n",
              "    </tr>\n",
              "  </tbody>\n",
              "</table>\n",
              "</div>"
            ],
            "text/plain": [
              "        historia divida garantias     renda     risco\n",
              "0           ruim   alta   nenhuma      0_15      alto\n",
              "1   desconhecida   alta   nenhuma     15_35      alto\n",
              "2   desconhecida  baixa   nenhuma     15_35  moderado\n",
              "3   desconhecida  baixa   nenhuma  acima_35      alto\n",
              "4   desconhecida  baixa   nenhuma  acima_35     baixo\n",
              "5   desconhecida  baixa  adequada  acima_35     baixo\n",
              "6           ruim  baixa   nenhuma      0_15      alto\n",
              "7           ruim  baixa  adequada  acima_35  moderado\n",
              "8            boa  baixa   nenhuma  acima_35     baixo\n",
              "9            boa   alta  adequada  acima_35     baixo\n",
              "10           boa   alta   nenhuma      0_15      alto\n",
              "11           boa   alta   nenhuma     15_35  moderado\n",
              "12           boa   alta   nenhuma  acima_35     baixo\n",
              "13          ruim   alta   nenhuma     15_35      alto\n",
              "14          ruim  baixa   nenhuma      0_15     baixo\n",
              "15           boa   alta   nenhuma     15_35     baixo\n",
              "16           boa  baixa  adequada      0_15  moderado\n",
              "17          ruim   alta  adequada  acima_35      alto"
            ]
          },
          "metadata": {
            "tags": []
          },
          "execution_count": 284
        }
      ]
    },
    {
      "cell_type": "code",
      "metadata": {
        "id": "mPVs6MDL8vUE",
        "colab": {
          "base_uri": "https://localhost:8080/",
          "height": 200
        },
        "outputId": "ba0d9f4d-40a4-4ce5-a5da-e32f8a8b3154"
      },
      "source": [
        "df_prob_laplace = probability_table_database(df_laplace)\n",
        "df_prob_laplace"
      ],
      "execution_count": null,
      "outputs": [
        {
          "output_type": "execute_result",
          "data": {
            "text/html": [
              "<div>\n",
              "<style scoped>\n",
              "    .dataframe tbody tr th:only-of-type {\n",
              "        vertical-align: middle;\n",
              "    }\n",
              "\n",
              "    .dataframe tbody tr th {\n",
              "        vertical-align: top;\n",
              "    }\n",
              "\n",
              "    .dataframe thead tr th {\n",
              "        text-align: left;\n",
              "    }\n",
              "\n",
              "    .dataframe thead tr:last-of-type th {\n",
              "        text-align: right;\n",
              "    }\n",
              "</style>\n",
              "<table border=\"1\" class=\"dataframe\">\n",
              "  <thead>\n",
              "    <tr>\n",
              "      <th>variable</th>\n",
              "      <th colspan=\"2\" halign=\"left\">divida</th>\n",
              "      <th colspan=\"2\" halign=\"left\">garantias</th>\n",
              "      <th colspan=\"3\" halign=\"left\">historia</th>\n",
              "      <th colspan=\"3\" halign=\"left\">renda</th>\n",
              "    </tr>\n",
              "    <tr>\n",
              "      <th>value</th>\n",
              "      <th>alta</th>\n",
              "      <th>baixa</th>\n",
              "      <th>adequada</th>\n",
              "      <th>nenhuma</th>\n",
              "      <th>boa</th>\n",
              "      <th>desconhecida</th>\n",
              "      <th>ruim</th>\n",
              "      <th>0_15</th>\n",
              "      <th>15_35</th>\n",
              "      <th>acima_35</th>\n",
              "    </tr>\n",
              "    <tr>\n",
              "      <th>risco</th>\n",
              "      <th></th>\n",
              "      <th></th>\n",
              "      <th></th>\n",
              "      <th></th>\n",
              "      <th></th>\n",
              "      <th></th>\n",
              "      <th></th>\n",
              "      <th></th>\n",
              "      <th></th>\n",
              "      <th></th>\n",
              "    </tr>\n",
              "  </thead>\n",
              "  <tbody>\n",
              "    <tr>\n",
              "      <th>alto</th>\n",
              "      <td>0.833333</td>\n",
              "      <td>0.333333</td>\n",
              "      <td>0.166667</td>\n",
              "      <td>1.000000</td>\n",
              "      <td>0.166667</td>\n",
              "      <td>0.333333</td>\n",
              "      <td>0.666667</td>\n",
              "      <td>0.500000</td>\n",
              "      <td>0.333333</td>\n",
              "      <td>0.333333</td>\n",
              "    </tr>\n",
              "    <tr>\n",
              "      <th>baixo</th>\n",
              "      <td>0.600000</td>\n",
              "      <td>0.800000</td>\n",
              "      <td>0.400000</td>\n",
              "      <td>1.000000</td>\n",
              "      <td>0.800000</td>\n",
              "      <td>0.400000</td>\n",
              "      <td>0.200000</td>\n",
              "      <td>0.200000</td>\n",
              "      <td>0.200000</td>\n",
              "      <td>1.000000</td>\n",
              "    </tr>\n",
              "    <tr>\n",
              "      <th>moderado</th>\n",
              "      <td>0.333333</td>\n",
              "      <td>1.000000</td>\n",
              "      <td>0.666667</td>\n",
              "      <td>0.666667</td>\n",
              "      <td>0.666667</td>\n",
              "      <td>0.333333</td>\n",
              "      <td>0.333333</td>\n",
              "      <td>0.333333</td>\n",
              "      <td>0.666667</td>\n",
              "      <td>0.333333</td>\n",
              "    </tr>\n",
              "  </tbody>\n",
              "</table>\n",
              "</div>"
            ],
            "text/plain": [
              "variable    divida           garantias  ...     renda                    \n",
              "value         alta     baixa  adequada  ...      0_15     15_35  acima_35\n",
              "risco                                   ...                              \n",
              "alto      0.833333  0.333333  0.166667  ...  0.500000  0.333333  0.333333\n",
              "baixo     0.600000  0.800000  0.400000  ...  0.200000  0.200000  1.000000\n",
              "moderado  0.333333  1.000000  0.666667  ...  0.333333  0.666667  0.333333\n",
              "\n",
              "[3 rows x 10 columns]"
            ]
          },
          "metadata": {
            "tags": []
          },
          "execution_count": 285
        }
      ]
    },
    {
      "cell_type": "code",
      "metadata": {
        "id": "lhs38ZQi6uhB",
        "colab": {
          "base_uri": "https://localhost:8080/",
          "height": 205
        },
        "outputId": "d81480c6-785e-4ea8-b57e-f7a5ed950806"
      },
      "source": [
        "df_prob_test1_laplace = naive_bayes_predict(df_laplace, df_prob_laplace, test1)"
      ],
      "execution_count": null,
      "outputs": [
        {
          "output_type": "display_data",
          "data": {
            "text/html": [
              "<div>\n",
              "<style scoped>\n",
              "    .dataframe tbody tr th:only-of-type {\n",
              "        vertical-align: middle;\n",
              "    }\n",
              "\n",
              "    .dataframe tbody tr th {\n",
              "        vertical-align: top;\n",
              "    }\n",
              "\n",
              "    .dataframe thead th {\n",
              "        text-align: right;\n",
              "    }\n",
              "</style>\n",
              "<table border=\"1\" class=\"dataframe\">\n",
              "  <thead>\n",
              "    <tr style=\"text-align: right;\">\n",
              "      <th></th>\n",
              "      <th>historia</th>\n",
              "      <th>divida</th>\n",
              "      <th>garantias</th>\n",
              "      <th>renda</th>\n",
              "      <th>risco</th>\n",
              "      <th>prob</th>\n",
              "    </tr>\n",
              "    <tr>\n",
              "      <th>risco</th>\n",
              "      <th></th>\n",
              "      <th></th>\n",
              "      <th></th>\n",
              "      <th></th>\n",
              "      <th></th>\n",
              "      <th></th>\n",
              "    </tr>\n",
              "  </thead>\n",
              "  <tbody>\n",
              "    <tr>\n",
              "      <th>alto</th>\n",
              "      <td>0.666667</td>\n",
              "      <td>0.833333</td>\n",
              "      <td>0.166667</td>\n",
              "      <td>0.500000</td>\n",
              "      <td>0.388889</td>\n",
              "      <td>0.661322</td>\n",
              "    </tr>\n",
              "    <tr>\n",
              "      <th>baixo</th>\n",
              "      <td>0.200000</td>\n",
              "      <td>0.600000</td>\n",
              "      <td>0.400000</td>\n",
              "      <td>0.200000</td>\n",
              "      <td>0.388889</td>\n",
              "      <td>0.137132</td>\n",
              "    </tr>\n",
              "    <tr>\n",
              "      <th>moderado</th>\n",
              "      <td>0.333333</td>\n",
              "      <td>0.333333</td>\n",
              "      <td>0.666667</td>\n",
              "      <td>0.333333</td>\n",
              "      <td>0.222222</td>\n",
              "      <td>0.201546</td>\n",
              "    </tr>\n",
              "  </tbody>\n",
              "</table>\n",
              "</div>"
            ],
            "text/plain": [
              "          historia    divida  garantias     renda     risco      prob\n",
              "risco                                                                \n",
              "alto      0.666667  0.833333   0.166667  0.500000  0.388889  0.661322\n",
              "baixo     0.200000  0.600000   0.400000  0.200000  0.388889  0.137132\n",
              "moderado  0.333333  0.333333   0.666667  0.333333  0.222222  0.201546"
            ]
          },
          "metadata": {
            "tags": []
          }
        },
        {
          "output_type": "stream",
          "text": [
            "\n",
            "predicted risco alto\n"
          ],
          "name": "stdout"
        }
      ]
    },
    {
      "cell_type": "code",
      "metadata": {
        "id": "dPaVXTSE6ubJ",
        "colab": {
          "base_uri": "https://localhost:8080/",
          "height": 170
        },
        "outputId": "3f98e0a6-ddd1-4080-f6fe-e62c31580adb"
      },
      "source": [
        "df_prob_test1"
      ],
      "execution_count": null,
      "outputs": [
        {
          "output_type": "execute_result",
          "data": {
            "text/html": [
              "<div>\n",
              "<style scoped>\n",
              "    .dataframe tbody tr th:only-of-type {\n",
              "        vertical-align: middle;\n",
              "    }\n",
              "\n",
              "    .dataframe tbody tr th {\n",
              "        vertical-align: top;\n",
              "    }\n",
              "\n",
              "    .dataframe thead th {\n",
              "        text-align: right;\n",
              "    }\n",
              "</style>\n",
              "<table border=\"1\" class=\"dataframe\">\n",
              "  <thead>\n",
              "    <tr style=\"text-align: right;\">\n",
              "      <th></th>\n",
              "      <th>historia</th>\n",
              "      <th>divida</th>\n",
              "      <th>garantias</th>\n",
              "      <th>renda</th>\n",
              "      <th>risco</th>\n",
              "      <th>prob</th>\n",
              "    </tr>\n",
              "    <tr>\n",
              "      <th>risco</th>\n",
              "      <th></th>\n",
              "      <th></th>\n",
              "      <th></th>\n",
              "      <th></th>\n",
              "      <th></th>\n",
              "      <th></th>\n",
              "    </tr>\n",
              "  </thead>\n",
              "  <tbody>\n",
              "    <tr>\n",
              "      <th>alto</th>\n",
              "      <td>0.500000</td>\n",
              "      <td>0.666667</td>\n",
              "      <td>0.000000</td>\n",
              "      <td>0.5</td>\n",
              "      <td>0.428571</td>\n",
              "      <td>NaN</td>\n",
              "    </tr>\n",
              "    <tr>\n",
              "      <th>baixo</th>\n",
              "      <td>0.000000</td>\n",
              "      <td>0.400000</td>\n",
              "      <td>0.400000</td>\n",
              "      <td>0.0</td>\n",
              "      <td>0.357143</td>\n",
              "      <td>NaN</td>\n",
              "    </tr>\n",
              "    <tr>\n",
              "      <th>moderado</th>\n",
              "      <td>0.333333</td>\n",
              "      <td>0.333333</td>\n",
              "      <td>0.333333</td>\n",
              "      <td>0.0</td>\n",
              "      <td>0.214286</td>\n",
              "      <td>NaN</td>\n",
              "    </tr>\n",
              "  </tbody>\n",
              "</table>\n",
              "</div>"
            ],
            "text/plain": [
              "          historia    divida  garantias  renda     risco  prob\n",
              "risco                                                         \n",
              "alto      0.500000  0.666667   0.000000    0.5  0.428571   NaN\n",
              "baixo     0.000000  0.400000   0.400000    0.0  0.357143   NaN\n",
              "moderado  0.333333  0.333333   0.333333    0.0  0.214286   NaN"
            ]
          },
          "metadata": {
            "tags": []
          },
          "execution_count": 289
        }
      ]
    },
    {
      "cell_type": "markdown",
      "metadata": {
        "id": "M9NGEX-ev8ef"
      },
      "source": [
        "### homemade"
      ]
    },
    {
      "cell_type": "code",
      "metadata": {
        "id": "FfKSXY7vv_F6",
        "colab": {
          "base_uri": "https://localhost:8080/",
          "height": 469
        },
        "outputId": "a57c3b15-65e6-4783-ef09-b74e16e64437"
      },
      "source": [
        "import pandas as pd\n",
        "import numpy as np\n",
        "# load dataset\n",
        "filename = \"risco_credito.csv\"\n",
        "df = pd.read_csv(filename)\n",
        "\n",
        "# create lists\n",
        "lst_features = list(df.columns[:-1])\n",
        "lst_col = lst_features[:]\n",
        "\n",
        "# Fix col name\n",
        "target = 'risco'\n",
        "lst_col.append(target)\n",
        "df.columns = lst_col\n",
        "\n",
        "# TEST: check col sum\n",
        "def test_check_col_sum():\n",
        "    for col in lst_features:\n",
        "        assert np.array_equal(\n",
        "            df_cross[col].sum().values\n",
        "            , df[col].value_counts().sort_index().values\n",
        "        ), col\n",
        "    pass\n",
        "\n",
        "# TEST: check row sum\n",
        "arr_ref = df[target].value_counts().values\n",
        "def test_check_row_sum():\n",
        "    for col in lst_features:\n",
        "        assert np.array_equal(\n",
        "            df_cross[col].sum(1).values\n",
        "            , arr_ref\n",
        "        ), col\n",
        "    pass\n",
        "\n",
        "# Probability table\n",
        "def probability_table_database(df):\n",
        "    \"\"\" Build table with probabilities for a given entry\n",
        "        args:\n",
        "            df (pd.DataFrame): database\n",
        "        return:\n",
        "            df_prob (pd.DataFrame): probability database (Naive Bayes)\n",
        "    \"\"\"\n",
        "    melt = df.melt(target).value_counts()\n",
        "    df_cross = melt.unstack(level=0).T.fillna(0).astype(int)\n",
        "    # Naive Bayes Table\n",
        "    df_prob = df_cross.div(arr_ref, axis='rows')\n",
        "    # Tests\n",
        "    test_check_col_sum()\n",
        "    test_check_row_sum()\n",
        "    # Display\n",
        "    print(\"Tabela probabilidade database\\n\")\n",
        "    display(df_prob.style.format(\"{:.1%}\"))\n",
        "\n",
        "    return df_prob\n",
        "\n",
        "# Naive Bayes Table\n",
        "df_prob = probability_table_database(df)\n",
        "\n",
        "prob = \"prob\"\n",
        "# Probability table entry\n",
        "def naive_bayes_predict(df, df_prob, test):\n",
        "    \n",
        "    \"\"\" Build table with probabilities for a given entry\n",
        "        args:\n",
        "            df (pd.DataFrame): database\n",
        "            df_prob (pd.DataFrame): probabilities for database\n",
        "            test (dict) with sample entry\n",
        "        return:\n",
        "            df_prob_test (pd.DataFrame): probabilities for target labels\n",
        "    \"\"\"\n",
        "    df_prob_test = pd.DataFrame()\n",
        "    for k,v in test.items():\n",
        "        df_prob_test[k] = df_prob[k][v]\n",
        "    df_prob_test[target] = df[target].value_counts(normalize=True)\n",
        "    df_prob_test[prob] = df_prob_test.product(1)\n",
        "    # normalize probability\n",
        "    df_prob_test[prob] = df_prob_test[prob].div(df_prob_test[prob].sum())\n",
        "    \n",
        "    # Print\n",
        "    print(\"\\nEntrada\\n\",test,\"\\n\")\n",
        "    print(\"Tabela probabilidade entrada\\n\")\n",
        "    display(df_prob_test)\n",
        "    # predicted label\n",
        "    idx = df_prob_test[prob].argmax()\n",
        "    print(\"\\npredicted\", target, df_prob_test.index[idx])\n",
        "\n",
        "    return df_prob_test\n",
        "\n",
        "# história boa, dívida alta, garantias nenhuma, renda > 35\n",
        "# test0 = [0, 0, 1, 2]\n",
        "test0 = {\n",
        "    \"historia\": \"boa\",\n",
        "    \"divida\": \"alta\",\n",
        "    \"garantias\": \"nenhuma\",\n",
        "    \"renda\": \"acima_35\"\n",
        "}\n",
        "\n",
        "df_prob_test0 = naive_bayes_predict(df, df_prob, test0)"
      ],
      "execution_count": null,
      "outputs": [
        {
          "output_type": "stream",
          "text": [
            "Tabela probabilidade database\n",
            "\n"
          ],
          "name": "stdout"
        },
        {
          "output_type": "display_data",
          "data": {
            "text/html": [
              "<style  type=\"text/css\" >\n",
              "</style><table id=\"T_7a3c8c62_2084_11eb_9583_0242ac1c0002\" ><thead>    <tr>        <th class=\"index_name level0\" >variable</th>        <th class=\"col_heading level0 col0\" colspan=2>divida</th>        <th class=\"col_heading level0 col2\" colspan=2>garantias</th>        <th class=\"col_heading level0 col4\" colspan=3>historia</th>        <th class=\"col_heading level0 col7\" colspan=3>renda</th>    </tr>    <tr>        <th class=\"index_name level1\" >value</th>        <th class=\"col_heading level1 col0\" >alta</th>        <th class=\"col_heading level1 col1\" >baixa</th>        <th class=\"col_heading level1 col2\" >adequada</th>        <th class=\"col_heading level1 col3\" >nenhuma</th>        <th class=\"col_heading level1 col4\" >boa</th>        <th class=\"col_heading level1 col5\" >desconhecida</th>        <th class=\"col_heading level1 col6\" >ruim</th>        <th class=\"col_heading level1 col7\" >0_15</th>        <th class=\"col_heading level1 col8\" >15_35</th>        <th class=\"col_heading level1 col9\" >acima_35</th>    </tr>    <tr>        <th class=\"index_name level0\" >risco</th>        <th class=\"blank\" ></th>        <th class=\"blank\" ></th>        <th class=\"blank\" ></th>        <th class=\"blank\" ></th>        <th class=\"blank\" ></th>        <th class=\"blank\" ></th>        <th class=\"blank\" ></th>        <th class=\"blank\" ></th>        <th class=\"blank\" ></th>        <th class=\"blank\" ></th>    </tr></thead><tbody>\n",
              "                <tr>\n",
              "                        <th id=\"T_7a3c8c62_2084_11eb_9583_0242ac1c0002level0_row0\" class=\"row_heading level0 row0\" >alto</th>\n",
              "                        <td id=\"T_7a3c8c62_2084_11eb_9583_0242ac1c0002row0_col0\" class=\"data row0 col0\" >66.7%</td>\n",
              "                        <td id=\"T_7a3c8c62_2084_11eb_9583_0242ac1c0002row0_col1\" class=\"data row0 col1\" >33.3%</td>\n",
              "                        <td id=\"T_7a3c8c62_2084_11eb_9583_0242ac1c0002row0_col2\" class=\"data row0 col2\" >0.0%</td>\n",
              "                        <td id=\"T_7a3c8c62_2084_11eb_9583_0242ac1c0002row0_col3\" class=\"data row0 col3\" >100.0%</td>\n",
              "                        <td id=\"T_7a3c8c62_2084_11eb_9583_0242ac1c0002row0_col4\" class=\"data row0 col4\" >16.7%</td>\n",
              "                        <td id=\"T_7a3c8c62_2084_11eb_9583_0242ac1c0002row0_col5\" class=\"data row0 col5\" >33.3%</td>\n",
              "                        <td id=\"T_7a3c8c62_2084_11eb_9583_0242ac1c0002row0_col6\" class=\"data row0 col6\" >50.0%</td>\n",
              "                        <td id=\"T_7a3c8c62_2084_11eb_9583_0242ac1c0002row0_col7\" class=\"data row0 col7\" >50.0%</td>\n",
              "                        <td id=\"T_7a3c8c62_2084_11eb_9583_0242ac1c0002row0_col8\" class=\"data row0 col8\" >33.3%</td>\n",
              "                        <td id=\"T_7a3c8c62_2084_11eb_9583_0242ac1c0002row0_col9\" class=\"data row0 col9\" >16.7%</td>\n",
              "            </tr>\n",
              "            <tr>\n",
              "                        <th id=\"T_7a3c8c62_2084_11eb_9583_0242ac1c0002level0_row1\" class=\"row_heading level0 row1\" >baixo</th>\n",
              "                        <td id=\"T_7a3c8c62_2084_11eb_9583_0242ac1c0002row1_col0\" class=\"data row1 col0\" >40.0%</td>\n",
              "                        <td id=\"T_7a3c8c62_2084_11eb_9583_0242ac1c0002row1_col1\" class=\"data row1 col1\" >60.0%</td>\n",
              "                        <td id=\"T_7a3c8c62_2084_11eb_9583_0242ac1c0002row1_col2\" class=\"data row1 col2\" >40.0%</td>\n",
              "                        <td id=\"T_7a3c8c62_2084_11eb_9583_0242ac1c0002row1_col3\" class=\"data row1 col3\" >60.0%</td>\n",
              "                        <td id=\"T_7a3c8c62_2084_11eb_9583_0242ac1c0002row1_col4\" class=\"data row1 col4\" >60.0%</td>\n",
              "                        <td id=\"T_7a3c8c62_2084_11eb_9583_0242ac1c0002row1_col5\" class=\"data row1 col5\" >40.0%</td>\n",
              "                        <td id=\"T_7a3c8c62_2084_11eb_9583_0242ac1c0002row1_col6\" class=\"data row1 col6\" >0.0%</td>\n",
              "                        <td id=\"T_7a3c8c62_2084_11eb_9583_0242ac1c0002row1_col7\" class=\"data row1 col7\" >0.0%</td>\n",
              "                        <td id=\"T_7a3c8c62_2084_11eb_9583_0242ac1c0002row1_col8\" class=\"data row1 col8\" >0.0%</td>\n",
              "                        <td id=\"T_7a3c8c62_2084_11eb_9583_0242ac1c0002row1_col9\" class=\"data row1 col9\" >100.0%</td>\n",
              "            </tr>\n",
              "            <tr>\n",
              "                        <th id=\"T_7a3c8c62_2084_11eb_9583_0242ac1c0002level0_row2\" class=\"row_heading level0 row2\" >moderado</th>\n",
              "                        <td id=\"T_7a3c8c62_2084_11eb_9583_0242ac1c0002row2_col0\" class=\"data row2 col0\" >33.3%</td>\n",
              "                        <td id=\"T_7a3c8c62_2084_11eb_9583_0242ac1c0002row2_col1\" class=\"data row2 col1\" >66.7%</td>\n",
              "                        <td id=\"T_7a3c8c62_2084_11eb_9583_0242ac1c0002row2_col2\" class=\"data row2 col2\" >33.3%</td>\n",
              "                        <td id=\"T_7a3c8c62_2084_11eb_9583_0242ac1c0002row2_col3\" class=\"data row2 col3\" >66.7%</td>\n",
              "                        <td id=\"T_7a3c8c62_2084_11eb_9583_0242ac1c0002row2_col4\" class=\"data row2 col4\" >33.3%</td>\n",
              "                        <td id=\"T_7a3c8c62_2084_11eb_9583_0242ac1c0002row2_col5\" class=\"data row2 col5\" >33.3%</td>\n",
              "                        <td id=\"T_7a3c8c62_2084_11eb_9583_0242ac1c0002row2_col6\" class=\"data row2 col6\" >33.3%</td>\n",
              "                        <td id=\"T_7a3c8c62_2084_11eb_9583_0242ac1c0002row2_col7\" class=\"data row2 col7\" >0.0%</td>\n",
              "                        <td id=\"T_7a3c8c62_2084_11eb_9583_0242ac1c0002row2_col8\" class=\"data row2 col8\" >66.7%</td>\n",
              "                        <td id=\"T_7a3c8c62_2084_11eb_9583_0242ac1c0002row2_col9\" class=\"data row2 col9\" >33.3%</td>\n",
              "            </tr>\n",
              "    </tbody></table>"
            ],
            "text/plain": [
              "<pandas.io.formats.style.Styler at 0x7f74a50aae48>"
            ]
          },
          "metadata": {
            "tags": []
          }
        },
        {
          "output_type": "stream",
          "text": [
            "\n",
            "Entrada\n",
            " {'historia': 'boa', 'divida': 'alta', 'garantias': 'nenhuma', 'renda': 'acima_35'} \n",
            "\n",
            "Tabela probabilidade entrada\n",
            "\n"
          ],
          "name": "stdout"
        },
        {
          "output_type": "display_data",
          "data": {
            "text/html": [
              "<div>\n",
              "<style scoped>\n",
              "    .dataframe tbody tr th:only-of-type {\n",
              "        vertical-align: middle;\n",
              "    }\n",
              "\n",
              "    .dataframe tbody tr th {\n",
              "        vertical-align: top;\n",
              "    }\n",
              "\n",
              "    .dataframe thead th {\n",
              "        text-align: right;\n",
              "    }\n",
              "</style>\n",
              "<table border=\"1\" class=\"dataframe\">\n",
              "  <thead>\n",
              "    <tr style=\"text-align: right;\">\n",
              "      <th></th>\n",
              "      <th>historia</th>\n",
              "      <th>divida</th>\n",
              "      <th>garantias</th>\n",
              "      <th>renda</th>\n",
              "      <th>risco</th>\n",
              "      <th>prob</th>\n",
              "    </tr>\n",
              "    <tr>\n",
              "      <th>risco</th>\n",
              "      <th></th>\n",
              "      <th></th>\n",
              "      <th></th>\n",
              "      <th></th>\n",
              "      <th></th>\n",
              "      <th></th>\n",
              "    </tr>\n",
              "  </thead>\n",
              "  <tbody>\n",
              "    <tr>\n",
              "      <th>alto</th>\n",
              "      <td>0.166667</td>\n",
              "      <td>0.666667</td>\n",
              "      <td>1.000000</td>\n",
              "      <td>0.166667</td>\n",
              "      <td>0.428571</td>\n",
              "      <td>0.122750</td>\n",
              "    </tr>\n",
              "    <tr>\n",
              "      <th>baixo</th>\n",
              "      <td>0.600000</td>\n",
              "      <td>0.400000</td>\n",
              "      <td>0.600000</td>\n",
              "      <td>1.000000</td>\n",
              "      <td>0.357143</td>\n",
              "      <td>0.795417</td>\n",
              "    </tr>\n",
              "    <tr>\n",
              "      <th>moderado</th>\n",
              "      <td>0.333333</td>\n",
              "      <td>0.333333</td>\n",
              "      <td>0.666667</td>\n",
              "      <td>0.333333</td>\n",
              "      <td>0.214286</td>\n",
              "      <td>0.081833</td>\n",
              "    </tr>\n",
              "  </tbody>\n",
              "</table>\n",
              "</div>"
            ],
            "text/plain": [
              "          historia    divida  garantias     renda     risco      prob\n",
              "risco                                                                \n",
              "alto      0.166667  0.666667   1.000000  0.166667  0.428571  0.122750\n",
              "baixo     0.600000  0.400000   0.600000  1.000000  0.357143  0.795417\n",
              "moderado  0.333333  0.333333   0.666667  0.333333  0.214286  0.081833"
            ]
          },
          "metadata": {
            "tags": []
          }
        },
        {
          "output_type": "stream",
          "text": [
            "\n",
            "predicted risco baixo\n"
          ],
          "name": "stdout"
        }
      ]
    },
    {
      "cell_type": "markdown",
      "metadata": {
        "id": "TvVVTbVpIJ0D"
      },
      "source": [
        "### scikit-learn"
      ]
    },
    {
      "cell_type": "code",
      "metadata": {
        "id": "TCI1jdwZRMzp",
        "colab": {
          "base_uri": "https://localhost:8080/"
        },
        "outputId": "6b0cb4b7-e677-4779-8bbf-dd015a65b7cf"
      },
      "source": [
        "import pandas as pd\n",
        "\n",
        "df = pd.read_csv('risco_credito.csv')\n",
        "\n",
        "X = df.iloc[:,:-1].values\n",
        "y = df.iloc[:,-1].values\n",
        "                  \n",
        "from sklearn.preprocessing import LabelEncoder\n",
        "labelencoder = LabelEncoder()\n",
        "\n",
        "dct = {}\n",
        "for idx in range(len(df.columns)-1):\n",
        "    X[:,idx] = labelencoder.fit_transform(X[:,idx])\n",
        "    dct_label = {}\n",
        "    for jj, label in enumerate(labelencoder.classes_):\n",
        "        dct_label[label] =  jj\n",
        "    dct[df.columns[idx]] = dct_label\n",
        "\n",
        "from sklearn.naive_bayes import GaussianNB\n",
        "# naive bayes doesn't deal with categorical data\n",
        "clf = GaussianNB()\n",
        "clf.fit(X, y)\n",
        "\n",
        "# história boa, dívida alta, garantias nenhuma, renda > 35\n",
        "test0 = [0, 0, 1, 2]\n",
        "# história ruim, dívida alta, garantias adequada, renda < 15\n",
        "test1 = [2, 0, 0, 0]\n",
        "\n",
        "resultado = clf.predict([test0, test1])\n",
        "proba = clf.predict_proba([test0,test1])\n",
        "print(clf.classes_)\n",
        "print(clf.class_count_)\n",
        "print(clf.class_prior_)\n",
        "print(resultado)\n",
        "print(proba)"
      ],
      "execution_count": null,
      "outputs": [
        {
          "output_type": "stream",
          "text": [
            "['alto' 'baixo' 'moderado']\n",
            "[6. 5. 3.]\n",
            "[0.42857143 0.35714286 0.21428571]\n",
            "['baixo' 'moderado']\n",
            "[[6.58741407e-02 9.34121865e-01 3.99420263e-06]\n",
            " [0.00000000e+00 0.00000000e+00 1.00000000e+00]]\n"
          ],
          "name": "stdout"
        }
      ]
    },
    {
      "cell_type": "code",
      "metadata": {
        "id": "qp99Wq-BupO4",
        "colab": {
          "base_uri": "https://localhost:8080/"
        },
        "outputId": "5e5c5bf3-7f14-46a6-e5e7-2ee572448ed1"
      },
      "source": [
        "# TODO: check differences homemade implementation vs scikit learn\n",
        "df_prob_test0.iloc[:,:-1].product(1)"
      ],
      "execution_count": null,
      "outputs": [
        {
          "output_type": "execute_result",
          "data": {
            "text/plain": [
              "risco\n",
              "alto        0.007937\n",
              "baixo       0.051429\n",
              "moderado    0.005291\n",
              "dtype: float64"
            ]
          },
          "metadata": {
            "tags": []
          },
          "execution_count": 24
        }
      ]
    },
    {
      "cell_type": "code",
      "metadata": {
        "id": "j2Gd9OW7UBe0",
        "colab": {
          "base_uri": "https://localhost:8080/"
        },
        "outputId": "86e3a5b4-35b9-444d-c70e-91c697ef5a96"
      },
      "source": [
        "dct"
      ],
      "execution_count": null,
      "outputs": [
        {
          "output_type": "execute_result",
          "data": {
            "text/plain": [
              "{'divida': {'alta': 0, 'baixa': 1},\n",
              " 'garantias': {'adequada': 0, 'nenhuma': 1},\n",
              " 'historia': {'boa': 0, 'desconhecida': 1, 'ruim': 2},\n",
              " 'renda': {'0_15': 0, '15_35': 1, 'acima_35': 2}}"
            ]
          },
          "metadata": {
            "tags": []
          },
          "execution_count": 359
        }
      ]
    },
    {
      "cell_type": "code",
      "metadata": {
        "id": "mmr5A3m2j3N1",
        "colab": {
          "base_uri": "https://localhost:8080/"
        },
        "outputId": "aa1babea-66ea-4342-d621-7dad2df7dba0"
      },
      "source": [
        "dct_inv = {}\n",
        "for col in df.columns[:-1]:\n",
        "    dct_inv[col] = {v:k for k,v in dct[col].items()}\n",
        "dct_inv"
      ],
      "execution_count": null,
      "outputs": [
        {
          "output_type": "execute_result",
          "data": {
            "text/plain": [
              "{'divida': {0: 'alta', 1: 'baixa'},\n",
              " 'garantias': {0: 'adequada', 1: 'nenhuma'},\n",
              " 'historia': {0: 'boa', 1: 'desconhecida', 2: 'ruim'},\n",
              " 'renda': {0: '0_15', 1: '15_35', 2: 'acima_35'}}"
            ]
          },
          "metadata": {
            "tags": []
          },
          "execution_count": 360
        }
      ]
    },
    {
      "cell_type": "code",
      "metadata": {
        "id": "_o2c6oZwRMNj",
        "colab": {
          "base_uri": "https://localhost:8080/"
        },
        "outputId": "90ae05ee-3b38-4f1f-b874-3e7accf6189e"
      },
      "source": [
        "dct_test0 = {}\n",
        "for idx, col in enumerate(df.columns[:-1]):\n",
        "    dct_test0[col] = dct_inv[col][test0[idx]]\n",
        "dct_test0"
      ],
      "execution_count": null,
      "outputs": [
        {
          "output_type": "execute_result",
          "data": {
            "text/plain": [
              "{'divida': 'alta',\n",
              " 'garantias': 'nenhuma',\n",
              " 'historia': 'boa',\n",
              " 'renda': 'acima_35'}"
            ]
          },
          "metadata": {
            "tags": []
          },
          "execution_count": 361
        }
      ]
    },
    {
      "cell_type": "code",
      "metadata": {
        "id": "OfACbiwSRMFh",
        "colab": {
          "base_uri": "https://localhost:8080/"
        },
        "outputId": "09a731a0-5473-499c-9de7-d469939ea830"
      },
      "source": [
        "dct_test1 = {}\n",
        "for idx, col in enumerate(df.columns[:-1]):\n",
        "    dct_test1[col] = dct_inv[col][test1[idx]]\n",
        "dct_test1"
      ],
      "execution_count": null,
      "outputs": [
        {
          "output_type": "execute_result",
          "data": {
            "text/plain": [
              "{'divida': 'alta',\n",
              " 'garantias': 'adequada',\n",
              " 'historia': 'ruim',\n",
              " 'renda': '0_15'}"
            ]
          },
          "metadata": {
            "tags": []
          },
          "execution_count": 362
        }
      ]
    },
    {
      "cell_type": "code",
      "metadata": {
        "id": "rDvCcx91ovuE",
        "colab": {
          "base_uri": "https://localhost:8080/"
        },
        "outputId": "4359e962-8faf-4d39-9127-6f451ec61268"
      },
      "source": [
        "dct_test1_inv = {}\n",
        "for idx, col in enumerate(df.columns[:-1]):\n",
        "    dct_test1_inv[col] = dct[col][dct_test1[col]]\n",
        "dct_test1_inv"
      ],
      "execution_count": null,
      "outputs": [
        {
          "output_type": "execute_result",
          "data": {
            "text/plain": [
              "{'divida': 0, 'garantias': 0, 'historia': 2, 'renda': 0}"
            ]
          },
          "metadata": {
            "tags": []
          },
          "execution_count": 366
        }
      ]
    },
    {
      "cell_type": "markdown",
      "metadata": {
        "id": "VnQRMDFUQiSm"
      },
      "source": [
        "### Bolinhas"
      ]
    },
    {
      "cell_type": "code",
      "metadata": {
        "id": "0p0gUTw-dnfB"
      },
      "source": [
        "red = 7\n",
        "blue = 5\n",
        "total = red + blue\n",
        "\n",
        "# Apriori Probabilities\n",
        "# Global\n",
        "p_red= red/total\n",
        "p_blue = blue/total\n",
        "# Local\n",
        "red_local = 3\n",
        "blue_local = 1\n",
        "p_red_local = red_local/red\n",
        "p_blue_local = blue_local/blue\n",
        "\n",
        "# Predicted label\n",
        "predict_red = p_red * p_red_local\n",
        "predict_blue = p_blue * p_blue_local"
      ],
      "execution_count": null,
      "outputs": []
    },
    {
      "cell_type": "code",
      "metadata": {
        "id": "DwedA-NPIi5i",
        "colab": {
          "base_uri": "https://localhost:8080/"
        },
        "outputId": "95d1d3cc-1d7f-4b11-bc79-d06f04837fee"
      },
      "source": [
        "class Ball():\n",
        "    def __init__(self,color,unit,local):\n",
        "        self.color = color\n",
        "        self.unit = unit\n",
        "        self.local = local\n",
        "        \n",
        "    # Global (apriori probability)\n",
        "    def global_prob(self,total):\n",
        "        self.prob_global = self.unit/total\n",
        "    \n",
        "    # Local (apriori probability)\n",
        "    def local_prob(self):\n",
        "        self.prob_local = self.local/self.unit\n",
        "    \n",
        "    # Predict (posteriori probability)\n",
        "    def color_pred(self):\n",
        "        self.pred_color = self.prob_global * self.prob_local\n",
        "\n",
        "blue = Ball(\"blue\",5,1)\n",
        "red = Ball(\"red\",7,3)\n",
        "\n",
        "total = blue.unit + red.unit\n",
        "\n",
        "blue.global_prob(total)\n",
        "red.global_prob(total)\n",
        "\n",
        "blue.local_prob()\n",
        "red.local_prob()\n",
        "\n",
        "blue.color_pred()\n",
        "red.color_pred()\n",
        "\n",
        "red.__dict__\n"
      ],
      "execution_count": null,
      "outputs": [
        {
          "output_type": "execute_result",
          "data": {
            "text/plain": [
              "{'color': 'red',\n",
              " 'local': 3,\n",
              " 'pred_color': 0.25,\n",
              " 'prob_global': 0.5833333333333334,\n",
              " 'prob_local': 0.42857142857142855,\n",
              " 'unit': 7}"
            ]
          },
          "metadata": {
            "tags": []
          },
          "execution_count": 311
        }
      ]
    },
    {
      "cell_type": "code",
      "metadata": {
        "id": "9E67wG7CLRu7",
        "colab": {
          "base_uri": "https://localhost:8080/"
        },
        "outputId": "3aacabcd-2f6c-4b07-accc-d07fbe193566"
      },
      "source": [
        "blue.__dict__"
      ],
      "execution_count": null,
      "outputs": [
        {
          "output_type": "execute_result",
          "data": {
            "text/plain": [
              "{'color': 'blue',\n",
              " 'local': 1,\n",
              " 'pred_color': 0.08333333333333334,\n",
              " 'prob_global': 0.4166666666666667,\n",
              " 'prob_local': 0.2,\n",
              " 'unit': 5}"
            ]
          },
          "metadata": {
            "tags": []
          },
          "execution_count": 307
        }
      ]
    },
    {
      "cell_type": "markdown",
      "metadata": {
        "id": "r16AFGaixhlz"
      },
      "source": [
        "### Análise de crédito"
      ]
    },
    {
      "cell_type": "code",
      "metadata": {
        "id": "8evif14oxf1Y"
      },
      "source": [
        "# load dataset\n",
        "import pandas as pd\n",
        "filename = \"credit_data.csv\"\n",
        "df = pd.read_csv(filename)\n",
        "\n",
        "# fix column names\n",
        "dct_names = {\"id\": \"clientid\",\n",
        "             \"features\": [\"income\", \"age\", \"loan\"],\n",
        "             \"target\": \"default\"}\n",
        "lst_columns = list(dct_names.values())\n",
        "flatten = lambda *n: (e for a in n\n",
        "    for e in (flatten(*a) if isinstance(a, (tuple, list)) else (a,)))\n",
        "lst_columns = list(flatten(lst_columns))\n",
        "df.columns = lst_columns\n",
        "\n",
        "# imput mean values rowwise on inconsistent values\n",
        "# identify inconsistent values\n",
        "col = \"age\"\n",
        "mask = df[col]<0\n",
        "idx = df.loc[mask].index\n",
        "# compute mean without inconsistent values\n",
        "mean = df[col].loc[~mask].mean()\n",
        "# imput mean values rowwise on inconsistent values\n",
        "df.loc[mask,col] = mean\n",
        "\n",
        "# features\n",
        "X = df.loc[:,dct_names[\"features\"]].values\n",
        "# target\n",
        "y = df.loc[:,dct_names[\"target\"]].values\n",
        "\n",
        "# imput mean values on missing values\n",
        "import numpy as np\n",
        "from sklearn.impute import SimpleImputer\n",
        "imputer = SimpleImputer(\n",
        "    missing_values=np.nan\n",
        "    , strategy=\"mean\"\n",
        ")\n",
        "imputer = imputer.fit(X[:,:])\n",
        "X[:,:] = imputer.transform(X[:,:])\n",
        "# Standardization\n",
        "from sklearn.preprocessing import StandardScaler\n",
        "scaler = StandardScaler()\n",
        "X = scaler.fit_transform(X)\n",
        "# Train-test split\n",
        "from sklearn.model_selection import train_test_split\n",
        "X_train, X_test, y_train, y_test = train_test_split(\n",
        "    X\n",
        "    , y\n",
        "    , test_size=0.25\n",
        "    , random_state=0\n",
        ")\n",
        "# Classifier\n",
        "from sklearn.naive_bayes import GaussianNB\n",
        "clf = GaussianNB()\n",
        "# Train\n",
        "clf.fit(X_train, y_train)\n",
        "# Predict\n",
        "y_pred = clf.predict(X_test)\n",
        "# Evaluation\n",
        "from sklearn.metrics import confusion_matrix, accuracy_score\n",
        "score = accuracy_score(y_test, y_pred)\n",
        "confusion_matrix = confusion_matrix(y_test, y_pred)\n",
        "\n",
        "print(confusion_matrix)\n",
        "\n",
        "print(score)"
      ],
      "execution_count": null,
      "outputs": []
    },
    {
      "cell_type": "markdown",
      "metadata": {
        "id": "mJq1CtOf2VxV"
      },
      "source": [
        "### Censo"
      ]
    },
    {
      "cell_type": "code",
      "metadata": {
        "id": "OB04HEEg1DQk",
        "colab": {
          "base_uri": "https://localhost:8080/"
        },
        "outputId": "2465fb5c-e747-43df-bade-bf4539119c71"
      },
      "source": [
        "# load data\n",
        "filename = \"census.csv\"\n",
        "df = pd.read_csv(filename)\n",
        "\n",
        "# identify columns with string data\n",
        "lst_col_str = [col for col in df.columns if df[col].dtypes==\"object\"]\n",
        "# remove target name\n",
        "lst_col_str.pop(-1)  \n",
        "# get index from categorical features\n",
        "lst_idx_col_str = [df.columns.get_loc(col_name) for col_name in lst_col_str]\n",
        "\n",
        "# split features and target\n",
        "X = df.iloc[:,:-1].values\n",
        "y = df.iloc[:,-1].values\n",
        "\n",
        "# Encoding\n",
        "from sklearn.preprocessing import LabelEncoder, OneHotEncoder\n",
        "from sklearn.compose import ColumnTransformer\n",
        "\n",
        "\n",
        "labelencoder = LabelEncoder()\n",
        "\n",
        "for idx in lst_idx_col_str:\n",
        "    X[:,idx] = labelencoder.fit_transform(X[:,idx])\n",
        "\n",
        "onehotencorder = ColumnTransformer(\n",
        "    transformers=[\n",
        "                  (\"OneHot\", OneHotEncoder(), lst_idx_col_str)\n",
        "                  ]\n",
        "                  , remainder='passthrough'\n",
        "    )\n",
        "X = onehotencorder.fit_transform(X).toarray()\n",
        "\n",
        "labelencorder = LabelEncoder()\n",
        "y = labelencorder.fit_transform(y)\n",
        "\n",
        "# Standardization\n",
        "from sklearn.preprocessing import StandardScaler\n",
        "scaler = StandardScaler()\n",
        "# X = scaler.fit_transform(X)  # perde interpretação\n",
        "# nao faz muito sentido junto com o one_hot_encoder\n",
        "\n",
        "\n",
        "# Train-Test Split\n",
        "from sklearn.model_selection import train_test_split\n",
        "X_train, X_test, y_train, y_test = train_test_split(\n",
        "    X\n",
        "    , y\n",
        "    , test_size=0.15\n",
        "    , random_state=0\n",
        ")\n",
        "\n",
        "# Classifier\n",
        "from sklearn.naive_bayes import GaussianNB\n",
        "clf = GaussianNB()\n",
        "# Train\n",
        "clf.fit(X_train, y_train)\n",
        "# Predict\n",
        "y_pred = clf.predict(X_test)\n",
        "# Evaluation\n",
        "from sklearn.metrics import confusion_matrix, accuracy_score\n",
        "score = accuracy_score(y_test, y_pred)\n",
        "confusion_matrix_NB = confusion_matrix(y_test, y_pred)\n",
        "\n",
        "print(confusion_matrix_NB)\n",
        "print(score)\n"
      ],
      "execution_count": null,
      "outputs": [
        {
          "output_type": "stream",
          "text": [
            "[[3515  178]\n",
            " [ 823  369]]\n",
            "0.7950870010235415\n"
          ],
          "name": "stdout"
        }
      ]
    },
    {
      "cell_type": "markdown",
      "metadata": {
        "id": "pJzW6PUbff5e"
      },
      "source": [
        "### LabelEncoder\n",
        "\n",
        "https://towardsdatascience.com/categorical-encoding-using-label-encoding-and-one-hot-encoder-911ef77fb5bd"
      ]
    },
    {
      "cell_type": "code",
      "metadata": {
        "id": "1XW7Ww7AfmHZ",
        "colab": {
          "base_uri": "https://localhost:8080/",
          "height": 261
        },
        "outputId": "2dccdc7e-7adc-4d9b-9088-3deb64900399"
      },
      "source": [
        "import pandas as pd\n",
        "import numpy as np\n",
        "from sklearn.preprocessing import LabelEncoder\n",
        "# creating initial dataframe\n",
        "bridge_types = ('Arch','Beam','Truss','Cantilever',\n",
        "                'Tied Arch','Suspension','Cable')\n",
        "bridge_df = pd.DataFrame(bridge_types, columns=['Bridge_Types'])\n",
        "# creating instance of labelencoder\n",
        "labelencoder = LabelEncoder()\n",
        "# Assigning numerical values and storing in another column\n",
        "bridge_df['Bridge_Types_Cat'] = labelencoder.fit_transform(\n",
        "    bridge_df['Bridge_Types'])\n",
        "bridge_df"
      ],
      "execution_count": null,
      "outputs": [
        {
          "output_type": "execute_result",
          "data": {
            "text/html": [
              "<div>\n",
              "<style scoped>\n",
              "    .dataframe tbody tr th:only-of-type {\n",
              "        vertical-align: middle;\n",
              "    }\n",
              "\n",
              "    .dataframe tbody tr th {\n",
              "        vertical-align: top;\n",
              "    }\n",
              "\n",
              "    .dataframe thead th {\n",
              "        text-align: right;\n",
              "    }\n",
              "</style>\n",
              "<table border=\"1\" class=\"dataframe\">\n",
              "  <thead>\n",
              "    <tr style=\"text-align: right;\">\n",
              "      <th></th>\n",
              "      <th>Bridge_Types</th>\n",
              "      <th>Bridge_Types_Cat</th>\n",
              "    </tr>\n",
              "  </thead>\n",
              "  <tbody>\n",
              "    <tr>\n",
              "      <th>0</th>\n",
              "      <td>Arch</td>\n",
              "      <td>0</td>\n",
              "    </tr>\n",
              "    <tr>\n",
              "      <th>1</th>\n",
              "      <td>Beam</td>\n",
              "      <td>1</td>\n",
              "    </tr>\n",
              "    <tr>\n",
              "      <th>2</th>\n",
              "      <td>Truss</td>\n",
              "      <td>6</td>\n",
              "    </tr>\n",
              "    <tr>\n",
              "      <th>3</th>\n",
              "      <td>Cantilever</td>\n",
              "      <td>3</td>\n",
              "    </tr>\n",
              "    <tr>\n",
              "      <th>4</th>\n",
              "      <td>Tied Arch</td>\n",
              "      <td>5</td>\n",
              "    </tr>\n",
              "    <tr>\n",
              "      <th>5</th>\n",
              "      <td>Suspension</td>\n",
              "      <td>4</td>\n",
              "    </tr>\n",
              "    <tr>\n",
              "      <th>6</th>\n",
              "      <td>Cable</td>\n",
              "      <td>2</td>\n",
              "    </tr>\n",
              "  </tbody>\n",
              "</table>\n",
              "</div>"
            ],
            "text/plain": [
              "  Bridge_Types  Bridge_Types_Cat\n",
              "0         Arch                 0\n",
              "1         Beam                 1\n",
              "2        Truss                 6\n",
              "3   Cantilever                 3\n",
              "4    Tied Arch                 5\n",
              "5   Suspension                 4\n",
              "6        Cable                 2"
            ]
          },
          "metadata": {
            "tags": []
          },
          "execution_count": 1
        }
      ]
    },
    {
      "cell_type": "markdown",
      "metadata": {
        "id": "IiupIC1mfbrX"
      },
      "source": [
        "### OneHotEncoder"
      ]
    },
    {
      "cell_type": "code",
      "metadata": {
        "id": "M8Bj2RJif1U1",
        "colab": {
          "base_uri": "https://localhost:8080/",
          "height": 261
        },
        "outputId": "e661069e-0f1d-45e7-a6b0-6b62a4250297"
      },
      "source": [
        "import pandas as pd\n",
        "import numpy as np\n",
        "from sklearn.preprocessing import OneHotEncoder\n",
        "# creating instance of one-hot-encoder\n",
        "enc = OneHotEncoder(handle_unknown='ignore')\n",
        "# passing bridge-types-cat column (label encoded values of bridge_types)\n",
        "enc_df = pd.DataFrame(enc.fit_transform(\n",
        "    bridge_df[['Bridge_Types_Cat']]).toarray())\n",
        "# merge with main df bridge_df on key values\n",
        "bridge_df = bridge_df.join(enc_df)\n",
        "bridge_df"
      ],
      "execution_count": null,
      "outputs": [
        {
          "output_type": "execute_result",
          "data": {
            "text/html": [
              "<div>\n",
              "<style scoped>\n",
              "    .dataframe tbody tr th:only-of-type {\n",
              "        vertical-align: middle;\n",
              "    }\n",
              "\n",
              "    .dataframe tbody tr th {\n",
              "        vertical-align: top;\n",
              "    }\n",
              "\n",
              "    .dataframe thead th {\n",
              "        text-align: right;\n",
              "    }\n",
              "</style>\n",
              "<table border=\"1\" class=\"dataframe\">\n",
              "  <thead>\n",
              "    <tr style=\"text-align: right;\">\n",
              "      <th></th>\n",
              "      <th>Bridge_Types</th>\n",
              "      <th>Bridge_Types_Cat</th>\n",
              "      <th>0</th>\n",
              "      <th>1</th>\n",
              "      <th>2</th>\n",
              "      <th>3</th>\n",
              "      <th>4</th>\n",
              "      <th>5</th>\n",
              "      <th>6</th>\n",
              "    </tr>\n",
              "  </thead>\n",
              "  <tbody>\n",
              "    <tr>\n",
              "      <th>0</th>\n",
              "      <td>Arch</td>\n",
              "      <td>0</td>\n",
              "      <td>1.0</td>\n",
              "      <td>0.0</td>\n",
              "      <td>0.0</td>\n",
              "      <td>0.0</td>\n",
              "      <td>0.0</td>\n",
              "      <td>0.0</td>\n",
              "      <td>0.0</td>\n",
              "    </tr>\n",
              "    <tr>\n",
              "      <th>1</th>\n",
              "      <td>Beam</td>\n",
              "      <td>1</td>\n",
              "      <td>0.0</td>\n",
              "      <td>1.0</td>\n",
              "      <td>0.0</td>\n",
              "      <td>0.0</td>\n",
              "      <td>0.0</td>\n",
              "      <td>0.0</td>\n",
              "      <td>0.0</td>\n",
              "    </tr>\n",
              "    <tr>\n",
              "      <th>2</th>\n",
              "      <td>Truss</td>\n",
              "      <td>6</td>\n",
              "      <td>0.0</td>\n",
              "      <td>0.0</td>\n",
              "      <td>0.0</td>\n",
              "      <td>0.0</td>\n",
              "      <td>0.0</td>\n",
              "      <td>0.0</td>\n",
              "      <td>1.0</td>\n",
              "    </tr>\n",
              "    <tr>\n",
              "      <th>3</th>\n",
              "      <td>Cantilever</td>\n",
              "      <td>3</td>\n",
              "      <td>0.0</td>\n",
              "      <td>0.0</td>\n",
              "      <td>0.0</td>\n",
              "      <td>1.0</td>\n",
              "      <td>0.0</td>\n",
              "      <td>0.0</td>\n",
              "      <td>0.0</td>\n",
              "    </tr>\n",
              "    <tr>\n",
              "      <th>4</th>\n",
              "      <td>Tied Arch</td>\n",
              "      <td>5</td>\n",
              "      <td>0.0</td>\n",
              "      <td>0.0</td>\n",
              "      <td>0.0</td>\n",
              "      <td>0.0</td>\n",
              "      <td>0.0</td>\n",
              "      <td>1.0</td>\n",
              "      <td>0.0</td>\n",
              "    </tr>\n",
              "    <tr>\n",
              "      <th>5</th>\n",
              "      <td>Suspension</td>\n",
              "      <td>4</td>\n",
              "      <td>0.0</td>\n",
              "      <td>0.0</td>\n",
              "      <td>0.0</td>\n",
              "      <td>0.0</td>\n",
              "      <td>1.0</td>\n",
              "      <td>0.0</td>\n",
              "      <td>0.0</td>\n",
              "    </tr>\n",
              "    <tr>\n",
              "      <th>6</th>\n",
              "      <td>Cable</td>\n",
              "      <td>2</td>\n",
              "      <td>0.0</td>\n",
              "      <td>0.0</td>\n",
              "      <td>1.0</td>\n",
              "      <td>0.0</td>\n",
              "      <td>0.0</td>\n",
              "      <td>0.0</td>\n",
              "      <td>0.0</td>\n",
              "    </tr>\n",
              "  </tbody>\n",
              "</table>\n",
              "</div>"
            ],
            "text/plain": [
              "  Bridge_Types  Bridge_Types_Cat    0    1    2    3    4    5    6\n",
              "0         Arch                 0  1.0  0.0  0.0  0.0  0.0  0.0  0.0\n",
              "1         Beam                 1  0.0  1.0  0.0  0.0  0.0  0.0  0.0\n",
              "2        Truss                 6  0.0  0.0  0.0  0.0  0.0  0.0  1.0\n",
              "3   Cantilever                 3  0.0  0.0  0.0  1.0  0.0  0.0  0.0\n",
              "4    Tied Arch                 5  0.0  0.0  0.0  0.0  0.0  1.0  0.0\n",
              "5   Suspension                 4  0.0  0.0  0.0  0.0  1.0  0.0  0.0\n",
              "6        Cable                 2  0.0  0.0  1.0  0.0  0.0  0.0  0.0"
            ]
          },
          "metadata": {
            "tags": []
          },
          "execution_count": 2
        }
      ]
    },
    {
      "cell_type": "code",
      "metadata": {
        "id": "rS0x-LGTf_F7",
        "colab": {
          "base_uri": "https://localhost:8080/",
          "height": 278
        },
        "outputId": "390c8d7b-3c3f-45f8-cf81-23c5cd3d01aa"
      },
      "source": [
        "import pandas as pd\n",
        "import numpy as np\n",
        "# creating initial dataframe\n",
        "bridge_types = ('Arch','Beam','Truss','Cantilever',\n",
        "                'Tied Arch','Suspension','Cable')\n",
        "bridge_df = pd.DataFrame(bridge_types, columns=['Bridge_Types'])\n",
        "# generate binary values using get_dummies\n",
        "dum_df = pd.get_dummies(bridge_df, columns=[\"Bridge_Types\"], prefix=[\"Type_is\"])\n",
        "# merge with main df bridge_df on key values\n",
        "bridge_df = bridge_df.join(dum_df)\n",
        "bridge_df"
      ],
      "execution_count": null,
      "outputs": [
        {
          "output_type": "execute_result",
          "data": {
            "text/html": [
              "<div>\n",
              "<style scoped>\n",
              "    .dataframe tbody tr th:only-of-type {\n",
              "        vertical-align: middle;\n",
              "    }\n",
              "\n",
              "    .dataframe tbody tr th {\n",
              "        vertical-align: top;\n",
              "    }\n",
              "\n",
              "    .dataframe thead th {\n",
              "        text-align: right;\n",
              "    }\n",
              "</style>\n",
              "<table border=\"1\" class=\"dataframe\">\n",
              "  <thead>\n",
              "    <tr style=\"text-align: right;\">\n",
              "      <th></th>\n",
              "      <th>Bridge_Types</th>\n",
              "      <th>Type_is_Arch</th>\n",
              "      <th>Type_is_Beam</th>\n",
              "      <th>Type_is_Cable</th>\n",
              "      <th>Type_is_Cantilever</th>\n",
              "      <th>Type_is_Suspension</th>\n",
              "      <th>Type_is_Tied Arch</th>\n",
              "      <th>Type_is_Truss</th>\n",
              "    </tr>\n",
              "  </thead>\n",
              "  <tbody>\n",
              "    <tr>\n",
              "      <th>0</th>\n",
              "      <td>Arch</td>\n",
              "      <td>1</td>\n",
              "      <td>0</td>\n",
              "      <td>0</td>\n",
              "      <td>0</td>\n",
              "      <td>0</td>\n",
              "      <td>0</td>\n",
              "      <td>0</td>\n",
              "    </tr>\n",
              "    <tr>\n",
              "      <th>1</th>\n",
              "      <td>Beam</td>\n",
              "      <td>0</td>\n",
              "      <td>1</td>\n",
              "      <td>0</td>\n",
              "      <td>0</td>\n",
              "      <td>0</td>\n",
              "      <td>0</td>\n",
              "      <td>0</td>\n",
              "    </tr>\n",
              "    <tr>\n",
              "      <th>2</th>\n",
              "      <td>Truss</td>\n",
              "      <td>0</td>\n",
              "      <td>0</td>\n",
              "      <td>0</td>\n",
              "      <td>0</td>\n",
              "      <td>0</td>\n",
              "      <td>0</td>\n",
              "      <td>1</td>\n",
              "    </tr>\n",
              "    <tr>\n",
              "      <th>3</th>\n",
              "      <td>Cantilever</td>\n",
              "      <td>0</td>\n",
              "      <td>0</td>\n",
              "      <td>0</td>\n",
              "      <td>1</td>\n",
              "      <td>0</td>\n",
              "      <td>0</td>\n",
              "      <td>0</td>\n",
              "    </tr>\n",
              "    <tr>\n",
              "      <th>4</th>\n",
              "      <td>Tied Arch</td>\n",
              "      <td>0</td>\n",
              "      <td>0</td>\n",
              "      <td>0</td>\n",
              "      <td>0</td>\n",
              "      <td>0</td>\n",
              "      <td>1</td>\n",
              "      <td>0</td>\n",
              "    </tr>\n",
              "    <tr>\n",
              "      <th>5</th>\n",
              "      <td>Suspension</td>\n",
              "      <td>0</td>\n",
              "      <td>0</td>\n",
              "      <td>0</td>\n",
              "      <td>0</td>\n",
              "      <td>1</td>\n",
              "      <td>0</td>\n",
              "      <td>0</td>\n",
              "    </tr>\n",
              "    <tr>\n",
              "      <th>6</th>\n",
              "      <td>Cable</td>\n",
              "      <td>0</td>\n",
              "      <td>0</td>\n",
              "      <td>1</td>\n",
              "      <td>0</td>\n",
              "      <td>0</td>\n",
              "      <td>0</td>\n",
              "      <td>0</td>\n",
              "    </tr>\n",
              "  </tbody>\n",
              "</table>\n",
              "</div>"
            ],
            "text/plain": [
              "  Bridge_Types  Type_is_Arch  ...  Type_is_Tied Arch  Type_is_Truss\n",
              "0         Arch             1  ...                  0              0\n",
              "1         Beam             0  ...                  0              0\n",
              "2        Truss             0  ...                  0              1\n",
              "3   Cantilever             0  ...                  0              0\n",
              "4    Tied Arch             0  ...                  1              0\n",
              "5   Suspension             0  ...                  0              0\n",
              "6        Cable             0  ...                  0              0\n",
              "\n",
              "[7 rows x 8 columns]"
            ]
          },
          "metadata": {
            "tags": []
          },
          "execution_count": 3
        }
      ]
    },
    {
      "cell_type": "code",
      "metadata": {
        "id": "fk9zQCxB4aiA",
        "colab": {
          "base_uri": "https://localhost:8080/",
          "height": 298
        },
        "outputId": "b35d851f-dbd0-4b7c-8d43-71a98f151c50"
      },
      "source": [
        "# https://towardsdatascience.com/how-to-assign-labels-with-sklearn-one-hot-encoder-e59a5f17df4f\n",
        "\n",
        "from sklearn.preprocessing import OneHotEncoder as SklearnOneHotEncoder\n",
        "\n",
        "class OneHotEncoder(SklearnOneHotEncoder):\n",
        "    def __init__(self, **kwargs):\n",
        "        super(OneHotEncoder, self).__init__(**kwargs)\n",
        "        self.fit_flag = False\n",
        "\n",
        "    def fit(self, X, **kwargs):\n",
        "        out = super().fit(X)\n",
        "        self.fit_flag = True\n",
        "        return out\n",
        "\n",
        "    def transform(self, X, **kwargs):\n",
        "        sparse_matrix = super(OneHotEncoder, self).transform(X)\n",
        "        new_columns = self.get_new_columns(X=X)\n",
        "        d_out = pd.DataFrame(sparse_matrix.toarray(),\n",
        "                             columns=new_columns,\n",
        "                             index=X.index)\n",
        "        return d_out\n",
        "\n",
        "    def fit_transform(self, X, **kwargs):\n",
        "        self.fit(X)\n",
        "        return self.transform(X)\n",
        "\n",
        "    def get_new_columns(self, X):\n",
        "        new_columns = []\n",
        "        for i, column in enumerate(X.columns):\n",
        "            j = 0\n",
        "            while j < len(self.categories_[i]):\n",
        "                new_columns.append(f'{column}_<{self.categories_[i][j]}>')\n",
        "                j += 1\n",
        "        return new_columns\n",
        "\n",
        "encoder = OneHotEncoder()\n",
        "# creating initial dataframe\n",
        "bridge_types = ('Arch','Beam','Truss','Cantilever',\n",
        "                'Tied Arch','Suspension','Cable')\n",
        "bridge_df = pd.DataFrame(bridge_types, columns=['Bridge_Types'])\n",
        "encoder.fit_transform(bridge_df)"
      ],
      "execution_count": null,
      "outputs": [
        {
          "output_type": "execute_result",
          "data": {
            "text/html": [
              "<div>\n",
              "<style scoped>\n",
              "    .dataframe tbody tr th:only-of-type {\n",
              "        vertical-align: middle;\n",
              "    }\n",
              "\n",
              "    .dataframe tbody tr th {\n",
              "        vertical-align: top;\n",
              "    }\n",
              "\n",
              "    .dataframe thead th {\n",
              "        text-align: right;\n",
              "    }\n",
              "</style>\n",
              "<table border=\"1\" class=\"dataframe\">\n",
              "  <thead>\n",
              "    <tr style=\"text-align: right;\">\n",
              "      <th></th>\n",
              "      <th>Bridge_Types_&lt;Arch&gt;</th>\n",
              "      <th>Bridge_Types_&lt;Beam&gt;</th>\n",
              "      <th>Bridge_Types_&lt;Cable&gt;</th>\n",
              "      <th>Bridge_Types_&lt;Cantilever&gt;</th>\n",
              "      <th>Bridge_Types_&lt;Suspension&gt;</th>\n",
              "      <th>Bridge_Types_&lt;Tied Arch&gt;</th>\n",
              "      <th>Bridge_Types_&lt;Truss&gt;</th>\n",
              "    </tr>\n",
              "  </thead>\n",
              "  <tbody>\n",
              "    <tr>\n",
              "      <th>0</th>\n",
              "      <td>1.0</td>\n",
              "      <td>0.0</td>\n",
              "      <td>0.0</td>\n",
              "      <td>0.0</td>\n",
              "      <td>0.0</td>\n",
              "      <td>0.0</td>\n",
              "      <td>0.0</td>\n",
              "    </tr>\n",
              "    <tr>\n",
              "      <th>1</th>\n",
              "      <td>0.0</td>\n",
              "      <td>1.0</td>\n",
              "      <td>0.0</td>\n",
              "      <td>0.0</td>\n",
              "      <td>0.0</td>\n",
              "      <td>0.0</td>\n",
              "      <td>0.0</td>\n",
              "    </tr>\n",
              "    <tr>\n",
              "      <th>2</th>\n",
              "      <td>0.0</td>\n",
              "      <td>0.0</td>\n",
              "      <td>0.0</td>\n",
              "      <td>0.0</td>\n",
              "      <td>0.0</td>\n",
              "      <td>0.0</td>\n",
              "      <td>1.0</td>\n",
              "    </tr>\n",
              "    <tr>\n",
              "      <th>3</th>\n",
              "      <td>0.0</td>\n",
              "      <td>0.0</td>\n",
              "      <td>0.0</td>\n",
              "      <td>1.0</td>\n",
              "      <td>0.0</td>\n",
              "      <td>0.0</td>\n",
              "      <td>0.0</td>\n",
              "    </tr>\n",
              "    <tr>\n",
              "      <th>4</th>\n",
              "      <td>0.0</td>\n",
              "      <td>0.0</td>\n",
              "      <td>0.0</td>\n",
              "      <td>0.0</td>\n",
              "      <td>0.0</td>\n",
              "      <td>1.0</td>\n",
              "      <td>0.0</td>\n",
              "    </tr>\n",
              "    <tr>\n",
              "      <th>5</th>\n",
              "      <td>0.0</td>\n",
              "      <td>0.0</td>\n",
              "      <td>0.0</td>\n",
              "      <td>0.0</td>\n",
              "      <td>1.0</td>\n",
              "      <td>0.0</td>\n",
              "      <td>0.0</td>\n",
              "    </tr>\n",
              "    <tr>\n",
              "      <th>6</th>\n",
              "      <td>0.0</td>\n",
              "      <td>0.0</td>\n",
              "      <td>1.0</td>\n",
              "      <td>0.0</td>\n",
              "      <td>0.0</td>\n",
              "      <td>0.0</td>\n",
              "      <td>0.0</td>\n",
              "    </tr>\n",
              "  </tbody>\n",
              "</table>\n",
              "</div>"
            ],
            "text/plain": [
              "   Bridge_Types_<Arch>  ...  Bridge_Types_<Truss>\n",
              "0                  1.0  ...                   0.0\n",
              "1                  0.0  ...                   0.0\n",
              "2                  0.0  ...                   1.0\n",
              "3                  0.0  ...                   0.0\n",
              "4                  0.0  ...                   0.0\n",
              "5                  0.0  ...                   0.0\n",
              "6                  0.0  ...                   0.0\n",
              "\n",
              "[7 rows x 7 columns]"
            ]
          },
          "metadata": {
            "tags": []
          },
          "execution_count": 4
        }
      ]
    },
    {
      "cell_type": "markdown",
      "metadata": {
        "id": "xQBDeTt5KnGn"
      },
      "source": [
        "## Árvores de decisão / Decision Trees\n",
        "* Teoria\n",
        "* Poda / prone\n",
        "* Random Forest / floresta randômica\n",
        " * XBOX Kinect\n",
        "* Vantagens\n",
        " 1. fácil interpretação\n",
        " 1. não precisa escalonar (pouco influencia)\n",
        " 1. classifica rápido novos registros\n",
        "* Desvantagens\n",
        " 1. gera árvores muito complexas\n",
        " 1. pequenas mudanças nos dados pode mudar árvore (poda pode ajudar)\n",
        " 1. problema NP-completo para construir a árvore\n",
        "\n",
        "* populares meados anos 90\n",
        " * perderam espaço para SVM, redes neurais\n",
        "* upgrades como random forest melhoram desempenho\n",
        "\n",
        "* CART: Classification And Regression Trees\n",
        "\n",
        "\n",
        "* Entropia\n",
        " * Teoria da informação\n",
        " $$ Entropy (S) = - \\sum_{i=1}^{c}{p_i}\\log_2p_i $$\n",
        "* Ganho\n",
        " $$ Gain (S,A) = Entropy_(S) - \\sum_{v \\in Values(A)} \\frac{|S_v|}{|S|}Entropy(S_v)$$\n",
        "\n",
        "$$ Gain_{feature} = S_{target} - \\sum p_{feature}S_{feature} $$\n",
        "\n",
        "* Gini index\n",
        "$$ Gini = 1 - \\sum_{i=1}^{c}{p_{i}^{2}} $$"
      ]
    },
    {
      "cell_type": "markdown",
      "metadata": {
        "id": "Svr3FTlbE6Sa"
      },
      "source": [
        "#### Random forest\n",
        "* Ensemble learning (aprendizagem em conjunto)\n",
        " * consulta diversos para tomar decisão\n",
        " * junta para ser mais robusto\n",
        " * quanto mais árvores, mais propenso a overfitting\n",
        "* metaparâmetros: número de features, número de árvores"
      ]
    },
    {
      "cell_type": "markdown",
      "metadata": {
        "id": "DK9xkfl7Vdty"
      },
      "source": [
        "1. Objetivo principal do treinamento de uma árvore de decisão:\n",
        " * Descobrir atributos mais importantes\n",
        "1. Por meio de uma árvore de decisão, podemos visualizar de forma gráfica o processo de tomada de decisão. Essa visualização se dá pela forma de uma árvore \"real\" invertida, ou seja, a raiz vem no topo seguida dos nós e sucessivamente das folhas (V)\n",
        "1. Uma árvore de decisão não pode ser vista como um conjunto de regras do tipo se-então (F)\n",
        "1. A entropia pode ser caracterizada como a pureza ou impureza na base de dados, ou seja, o quão organizados ou desorganizados estão os dados (V)\n",
        " * dados organizados ou desorganizados???\n",
        "1. O cálculo do ganho da informação mede qual atributo tem o valor mais baixo, com o objetivo de ser utilizado na classificação de toda a base de dados (F)\n",
        "\n",
        "\n",
        "\n",
        "\n",
        "\n",
        "\n",
        "\n"
      ]
    },
    {
      "cell_type": "markdown",
      "metadata": {
        "id": "MCofiktgKm9u"
      },
      "source": [
        "### Risco crédito\n"
      ]
    },
    {
      "cell_type": "markdown",
      "metadata": {
        "id": "DM2kSibqqruv"
      },
      "source": [
        "#### homemade"
      ]
    },
    {
      "cell_type": "code",
      "metadata": {
        "id": "2tmZw-33m4N_",
        "colab": {
          "base_uri": "https://localhost:8080/",
          "height": 197
        },
        "outputId": "8a920790-c88a-4931-f516-f965e9f34ff9"
      },
      "source": [
        "import pandas as pd\n",
        "import numpy as np\n",
        "# load dataset\n",
        "filename = \"risco_credito.csv\"\n",
        "df = pd.read_csv(filename)\n",
        "\n",
        "# create lists\n",
        "lst_features = list(df.columns[:-1])\n",
        "lst_col = lst_features[:]\n",
        "\n",
        "# Fix col name\n",
        "target = 'risco'\n",
        "lst_col.append(target)\n",
        "df.columns = lst_col\n",
        "df.head()"
      ],
      "execution_count": null,
      "outputs": [
        {
          "output_type": "execute_result",
          "data": {
            "text/html": [
              "<div>\n",
              "<style scoped>\n",
              "    .dataframe tbody tr th:only-of-type {\n",
              "        vertical-align: middle;\n",
              "    }\n",
              "\n",
              "    .dataframe tbody tr th {\n",
              "        vertical-align: top;\n",
              "    }\n",
              "\n",
              "    .dataframe thead th {\n",
              "        text-align: right;\n",
              "    }\n",
              "</style>\n",
              "<table border=\"1\" class=\"dataframe\">\n",
              "  <thead>\n",
              "    <tr style=\"text-align: right;\">\n",
              "      <th></th>\n",
              "      <th>historia</th>\n",
              "      <th>divida</th>\n",
              "      <th>garantias</th>\n",
              "      <th>renda</th>\n",
              "      <th>risco</th>\n",
              "    </tr>\n",
              "  </thead>\n",
              "  <tbody>\n",
              "    <tr>\n",
              "      <th>0</th>\n",
              "      <td>ruim</td>\n",
              "      <td>alta</td>\n",
              "      <td>nenhuma</td>\n",
              "      <td>0_15</td>\n",
              "      <td>alto</td>\n",
              "    </tr>\n",
              "    <tr>\n",
              "      <th>1</th>\n",
              "      <td>desconhecida</td>\n",
              "      <td>alta</td>\n",
              "      <td>nenhuma</td>\n",
              "      <td>15_35</td>\n",
              "      <td>alto</td>\n",
              "    </tr>\n",
              "    <tr>\n",
              "      <th>2</th>\n",
              "      <td>desconhecida</td>\n",
              "      <td>baixa</td>\n",
              "      <td>nenhuma</td>\n",
              "      <td>15_35</td>\n",
              "      <td>moderado</td>\n",
              "    </tr>\n",
              "    <tr>\n",
              "      <th>3</th>\n",
              "      <td>desconhecida</td>\n",
              "      <td>baixa</td>\n",
              "      <td>nenhuma</td>\n",
              "      <td>acima_35</td>\n",
              "      <td>alto</td>\n",
              "    </tr>\n",
              "    <tr>\n",
              "      <th>4</th>\n",
              "      <td>desconhecida</td>\n",
              "      <td>baixa</td>\n",
              "      <td>nenhuma</td>\n",
              "      <td>acima_35</td>\n",
              "      <td>baixo</td>\n",
              "    </tr>\n",
              "  </tbody>\n",
              "</table>\n",
              "</div>"
            ],
            "text/plain": [
              "       historia divida garantias     renda     risco\n",
              "0          ruim   alta   nenhuma      0_15      alto\n",
              "1  desconhecida   alta   nenhuma     15_35      alto\n",
              "2  desconhecida  baixa   nenhuma     15_35  moderado\n",
              "3  desconhecida  baixa   nenhuma  acima_35      alto\n",
              "4  desconhecida  baixa   nenhuma  acima_35     baixo"
            ]
          },
          "metadata": {
            "tags": []
          },
          "execution_count": 98
        }
      ]
    },
    {
      "cell_type": "code",
      "metadata": {
        "id": "mVUkbv0xm4LX"
      },
      "source": [
        "def entropy(p_i):\n",
        "    \"\"\"\n",
        "        Calculate entropy\n",
        "        \n",
        "        Arg:\n",
        "            p_i(np.array): outcome probability\n",
        "        Return:\n",
        "            entropy(float)\n",
        "    \"\"\"\n",
        "    \n",
        "    # avoid to yield -Inf to prob == 0\n",
        "    entropy = - sum(np.where(p_i==0, 0, p_i*np.log2(p_i)))\n",
        "\n",
        "    return entropy\n",
        "\n",
        "# Test\n",
        "# p_i = np.arange(0,2)\n",
        "# entropy(p_i)"
      ],
      "execution_count": null,
      "outputs": []
    },
    {
      "cell_type": "code",
      "metadata": {
        "id": "95PQEkQaG59a",
        "colab": {
          "base_uri": "https://localhost:8080/"
        },
        "outputId": "ec269958-3751-4b66-9506-bb7a3e8832fd"
      },
      "source": [
        "def gini(p_i):\n",
        "    \"\"\"\n",
        "        Calculate gini index    \n",
        "        Arg:\n",
        "            p_i(np.array): outcome probability\n",
        "        Return:\n",
        "            gini_index(float)\n",
        "    \"\"\"\n",
        "    gini = 1 - sum(p_i**2)\n",
        "    return gini\n",
        "# Test\n",
        "# p_i = np.arange(0,3)\n",
        "# gini(p_i)"
      ],
      "execution_count": null,
      "outputs": [
        {
          "output_type": "execute_result",
          "data": {
            "text/plain": [
              "-4"
            ]
          },
          "metadata": {
            "tags": []
          },
          "execution_count": 116
        }
      ]
    },
    {
      "cell_type": "code",
      "metadata": {
        "id": "efHubC763gb7"
      },
      "source": [
        "def gain_df(df):\n",
        "    # Calculate target outcome probabilities and their entropy\n",
        "    target_prob = (df[target]\n",
        "                   .value_counts(normalize=True)  # sort by incidence\n",
        "                   .sort_index()  # reorder\n",
        "                   .values)\n",
        "    entropy_target = entropy(target_prob)\n",
        "\n",
        "    dct_gain = {}\n",
        "    lst_features = list(df.columns[:-1])\n",
        "    for feature in lst_features:\n",
        "        # Count feature outcomes and calculate their possibilites\n",
        "        df_feature_count = df[feature].value_counts().sort_index()\n",
        "        feature_prob = (df[feature]\n",
        "                        .value_counts(normalize=True)\n",
        "                        .sort_index()\n",
        "                        .values)\n",
        "        # Cross table (target, feature) count and probability\n",
        "        df_cross = pd.crosstab(df[target],df[feature])\n",
        "        df_cross_prob = df_cross.div(df_feature_count)\n",
        "        # Compute feature entropy and gain, considering probability\n",
        "        entropy_feature = df_cross_prob.apply(lambda x: entropy(x)).values\n",
        "        gain_feature = entropy_target - sum(entropy_feature * feature_prob)\n",
        "        dct_gain[feature] = gain_feature\n",
        "\n",
        "    return dct_gain\n"
      ],
      "execution_count": null,
      "outputs": []
    },
    {
      "cell_type": "code",
      "metadata": {
        "id": "jTE1hElwDhOO",
        "colab": {
          "base_uri": "https://localhost:8080/"
        },
        "outputId": "36a96a0b-ca2b-4c72-c27a-b32d07c04e7c"
      },
      "source": [
        "dct_gain"
      ],
      "execution_count": null,
      "outputs": [
        {
          "output_type": "execute_result",
          "data": {
            "text/plain": [
              "{'divida': 0.06289889437401808,\n",
              " 'garantias': 0.20604950908542197,\n",
              " 'historia': 0.26565428452375395,\n",
              " 'renda': 0.6704872819937732}"
            ]
          },
          "metadata": {
            "tags": []
          },
          "execution_count": 114
        }
      ]
    },
    {
      "cell_type": "code",
      "metadata": {
        "id": "q3DTwPvWDxlS",
        "colab": {
          "base_uri": "https://localhost:8080/"
        },
        "outputId": "4ef25880-799d-4457-e7d9-585cbc4991e4"
      },
      "source": [
        "tree_level = {}\n",
        "\n",
        "dct_gain = gain_df(df)\n",
        "col_max_gain = max(dct_gain, key=dct_gain.get)\n",
        "lst_outcomes = list(df[col_max_gain].unique())\n",
        "\n",
        "tree_level[0] = {\"feature\": col_max_gain,\n",
        "                 \"lst_outcomes\": lst_outcomes,\n",
        "                 \"dct_df\": df,\n",
        "                 \"dct_gain\": dct_gain,\n",
        "                 }\n",
        "\n",
        "\n",
        "dct_df = {outcome: df.groupby([col_max_gain])\n",
        "                    .get_group(outcome)\n",
        "                    .drop(columns=col_max_gain)\n",
        "            for outcome in lst_outcomes}\n",
        "\n",
        "dct_gain = {outcome: gain_df(dct_df[outcome]) for outcome in lst_outcomes}\n",
        "\n",
        "# gain_df(tree_level[1]['dct_df']['0_15'])\n",
        "\n",
        "tree_level[1] = {\"feature\": col_max_gain,\n",
        "                 \"lst_outcomes\": lst_outcomes,\n",
        "                 \"dct_df\": dct_df,\n",
        "                 \"dct_gain\": dct_gain,\n",
        "                 }\n",
        "tree_level"
      ],
      "execution_count": null,
      "outputs": [
        {
          "output_type": "stream",
          "text": [
            "/usr/local/lib/python3.6/dist-packages/pandas/core/series.py:726: RuntimeWarning: divide by zero encountered in log2\n",
            "  result = getattr(ufunc, method)(*inputs, **kwargs)\n",
            "/usr/local/lib/python3.6/dist-packages/pandas/core/series.py:726: RuntimeWarning: divide by zero encountered in log2\n",
            "  result = getattr(ufunc, method)(*inputs, **kwargs)\n",
            "/usr/local/lib/python3.6/dist-packages/pandas/core/series.py:726: RuntimeWarning: divide by zero encountered in log2\n",
            "  result = getattr(ufunc, method)(*inputs, **kwargs)\n",
            "/usr/local/lib/python3.6/dist-packages/pandas/core/series.py:726: RuntimeWarning: divide by zero encountered in log2\n",
            "  result = getattr(ufunc, method)(*inputs, **kwargs)\n",
            "/usr/local/lib/python3.6/dist-packages/pandas/core/series.py:726: RuntimeWarning: divide by zero encountered in log2\n",
            "  result = getattr(ufunc, method)(*inputs, **kwargs)\n",
            "/usr/local/lib/python3.6/dist-packages/pandas/core/series.py:726: RuntimeWarning: divide by zero encountered in log2\n",
            "  result = getattr(ufunc, method)(*inputs, **kwargs)\n",
            "/usr/local/lib/python3.6/dist-packages/pandas/core/series.py:726: RuntimeWarning: divide by zero encountered in log2\n",
            "  result = getattr(ufunc, method)(*inputs, **kwargs)\n",
            "/usr/local/lib/python3.6/dist-packages/pandas/core/series.py:726: RuntimeWarning: divide by zero encountered in log2\n",
            "  result = getattr(ufunc, method)(*inputs, **kwargs)\n",
            "/usr/local/lib/python3.6/dist-packages/pandas/core/series.py:726: RuntimeWarning: divide by zero encountered in log2\n",
            "  result = getattr(ufunc, method)(*inputs, **kwargs)\n",
            "/usr/local/lib/python3.6/dist-packages/pandas/core/series.py:726: RuntimeWarning: divide by zero encountered in log2\n",
            "  result = getattr(ufunc, method)(*inputs, **kwargs)\n",
            "/usr/local/lib/python3.6/dist-packages/pandas/core/series.py:726: RuntimeWarning: divide by zero encountered in log2\n",
            "  result = getattr(ufunc, method)(*inputs, **kwargs)\n",
            "/usr/local/lib/python3.6/dist-packages/pandas/core/series.py:726: RuntimeWarning: divide by zero encountered in log2\n",
            "  result = getattr(ufunc, method)(*inputs, **kwargs)\n",
            "/usr/local/lib/python3.6/dist-packages/pandas/core/series.py:726: RuntimeWarning: divide by zero encountered in log2\n",
            "  result = getattr(ufunc, method)(*inputs, **kwargs)\n"
          ],
          "name": "stderr"
        },
        {
          "output_type": "execute_result",
          "data": {
            "text/plain": [
              "{0: {'dct_df':         historia divida garantias     renda     risco\n",
              "  0           ruim   alta   nenhuma      0_15      alto\n",
              "  1   desconhecida   alta   nenhuma     15_35      alto\n",
              "  2   desconhecida  baixa   nenhuma     15_35  moderado\n",
              "  3   desconhecida  baixa   nenhuma  acima_35      alto\n",
              "  4   desconhecida  baixa   nenhuma  acima_35     baixo\n",
              "  5   desconhecida  baixa  adequada  acima_35     baixo\n",
              "  6           ruim  baixa   nenhuma      0_15      alto\n",
              "  7           ruim  baixa  adequada  acima_35  moderado\n",
              "  8            boa  baixa   nenhuma  acima_35     baixo\n",
              "  9            boa   alta  adequada  acima_35     baixo\n",
              "  10           boa   alta   nenhuma      0_15      alto\n",
              "  11           boa   alta   nenhuma     15_35  moderado\n",
              "  12           boa   alta   nenhuma  acima_35     baixo\n",
              "  13          ruim   alta   nenhuma     15_35      alto,\n",
              "  'dct_gain': {'divida': 0.06289889437401808,\n",
              "   'garantias': 0.20604950908542197,\n",
              "   'historia': 0.26565428452375395,\n",
              "   'renda': 0.6704872819937732},\n",
              "  'feature': 'renda',\n",
              "  'lst_outcomes': ['0_15', '15_35', 'acima_35']},\n",
              " 1: {'dct_df': {'0_15':    historia divida garantias risco\n",
              "   0      ruim   alta   nenhuma  alto\n",
              "   6      ruim  baixa   nenhuma  alto\n",
              "   10      boa   alta   nenhuma  alto,\n",
              "   '15_35':         historia divida garantias     risco\n",
              "   1   desconhecida   alta   nenhuma      alto\n",
              "   2   desconhecida  baixa   nenhuma  moderado\n",
              "   11           boa   alta   nenhuma  moderado\n",
              "   13          ruim   alta   nenhuma      alto,\n",
              "   'acima_35':         historia divida garantias     risco\n",
              "   3   desconhecida  baixa   nenhuma      alto\n",
              "   4   desconhecida  baixa   nenhuma     baixo\n",
              "   5   desconhecida  baixa  adequada     baixo\n",
              "   7           ruim  baixa  adequada  moderado\n",
              "   8            boa  baixa   nenhuma     baixo\n",
              "   9            boa   alta  adequada     baixo\n",
              "   12           boa   alta   nenhuma     baixo},\n",
              "  'dct_gain': {'0_15': {'divida': -0.0, 'garantias': -0.0, 'historia': -0.0},\n",
              "   '15_35': {'divida': 0.31127812445913283, 'garantias': 0.0, 'historia': 0.5},\n",
              "   'acima_35': {'divida': 0.16958442967043896,\n",
              "    'garantias': 0.2916919971380595,\n",
              "    'historia': 0.7552794968289925}},\n",
              "  'feature': 'renda',\n",
              "  'lst_outcomes': ['0_15', '15_35', 'acima_35']}}"
            ]
          },
          "metadata": {
            "tags": []
          },
          "execution_count": 139
        }
      ]
    },
    {
      "cell_type": "code",
      "metadata": {
        "id": "1TqJb65cItt3",
        "colab": {
          "base_uri": "https://localhost:8080/",
          "height": 458
        },
        "outputId": "1949016f-6bec-4948-a94e-ab5fec544e01"
      },
      "source": [
        "# check\n",
        "df.sort_values(col_max_gain)"
      ],
      "execution_count": null,
      "outputs": [
        {
          "output_type": "execute_result",
          "data": {
            "text/html": [
              "<div>\n",
              "<style scoped>\n",
              "    .dataframe tbody tr th:only-of-type {\n",
              "        vertical-align: middle;\n",
              "    }\n",
              "\n",
              "    .dataframe tbody tr th {\n",
              "        vertical-align: top;\n",
              "    }\n",
              "\n",
              "    .dataframe thead th {\n",
              "        text-align: right;\n",
              "    }\n",
              "</style>\n",
              "<table border=\"1\" class=\"dataframe\">\n",
              "  <thead>\n",
              "    <tr style=\"text-align: right;\">\n",
              "      <th></th>\n",
              "      <th>historia</th>\n",
              "      <th>divida</th>\n",
              "      <th>garantias</th>\n",
              "      <th>renda</th>\n",
              "      <th>risco</th>\n",
              "    </tr>\n",
              "  </thead>\n",
              "  <tbody>\n",
              "    <tr>\n",
              "      <th>0</th>\n",
              "      <td>ruim</td>\n",
              "      <td>alta</td>\n",
              "      <td>nenhuma</td>\n",
              "      <td>0_15</td>\n",
              "      <td>alto</td>\n",
              "    </tr>\n",
              "    <tr>\n",
              "      <th>6</th>\n",
              "      <td>ruim</td>\n",
              "      <td>baixa</td>\n",
              "      <td>nenhuma</td>\n",
              "      <td>0_15</td>\n",
              "      <td>alto</td>\n",
              "    </tr>\n",
              "    <tr>\n",
              "      <th>10</th>\n",
              "      <td>boa</td>\n",
              "      <td>alta</td>\n",
              "      <td>nenhuma</td>\n",
              "      <td>0_15</td>\n",
              "      <td>alto</td>\n",
              "    </tr>\n",
              "    <tr>\n",
              "      <th>1</th>\n",
              "      <td>desconhecida</td>\n",
              "      <td>alta</td>\n",
              "      <td>nenhuma</td>\n",
              "      <td>15_35</td>\n",
              "      <td>alto</td>\n",
              "    </tr>\n",
              "    <tr>\n",
              "      <th>2</th>\n",
              "      <td>desconhecida</td>\n",
              "      <td>baixa</td>\n",
              "      <td>nenhuma</td>\n",
              "      <td>15_35</td>\n",
              "      <td>moderado</td>\n",
              "    </tr>\n",
              "    <tr>\n",
              "      <th>11</th>\n",
              "      <td>boa</td>\n",
              "      <td>alta</td>\n",
              "      <td>nenhuma</td>\n",
              "      <td>15_35</td>\n",
              "      <td>moderado</td>\n",
              "    </tr>\n",
              "    <tr>\n",
              "      <th>13</th>\n",
              "      <td>ruim</td>\n",
              "      <td>alta</td>\n",
              "      <td>nenhuma</td>\n",
              "      <td>15_35</td>\n",
              "      <td>alto</td>\n",
              "    </tr>\n",
              "    <tr>\n",
              "      <th>3</th>\n",
              "      <td>desconhecida</td>\n",
              "      <td>baixa</td>\n",
              "      <td>nenhuma</td>\n",
              "      <td>acima_35</td>\n",
              "      <td>alto</td>\n",
              "    </tr>\n",
              "    <tr>\n",
              "      <th>4</th>\n",
              "      <td>desconhecida</td>\n",
              "      <td>baixa</td>\n",
              "      <td>nenhuma</td>\n",
              "      <td>acima_35</td>\n",
              "      <td>baixo</td>\n",
              "    </tr>\n",
              "    <tr>\n",
              "      <th>5</th>\n",
              "      <td>desconhecida</td>\n",
              "      <td>baixa</td>\n",
              "      <td>adequada</td>\n",
              "      <td>acima_35</td>\n",
              "      <td>baixo</td>\n",
              "    </tr>\n",
              "    <tr>\n",
              "      <th>7</th>\n",
              "      <td>ruim</td>\n",
              "      <td>baixa</td>\n",
              "      <td>adequada</td>\n",
              "      <td>acima_35</td>\n",
              "      <td>moderado</td>\n",
              "    </tr>\n",
              "    <tr>\n",
              "      <th>8</th>\n",
              "      <td>boa</td>\n",
              "      <td>baixa</td>\n",
              "      <td>nenhuma</td>\n",
              "      <td>acima_35</td>\n",
              "      <td>baixo</td>\n",
              "    </tr>\n",
              "    <tr>\n",
              "      <th>9</th>\n",
              "      <td>boa</td>\n",
              "      <td>alta</td>\n",
              "      <td>adequada</td>\n",
              "      <td>acima_35</td>\n",
              "      <td>baixo</td>\n",
              "    </tr>\n",
              "    <tr>\n",
              "      <th>12</th>\n",
              "      <td>boa</td>\n",
              "      <td>alta</td>\n",
              "      <td>nenhuma</td>\n",
              "      <td>acima_35</td>\n",
              "      <td>baixo</td>\n",
              "    </tr>\n",
              "  </tbody>\n",
              "</table>\n",
              "</div>"
            ],
            "text/plain": [
              "        historia divida garantias     renda     risco\n",
              "0           ruim   alta   nenhuma      0_15      alto\n",
              "6           ruim  baixa   nenhuma      0_15      alto\n",
              "10           boa   alta   nenhuma      0_15      alto\n",
              "1   desconhecida   alta   nenhuma     15_35      alto\n",
              "2   desconhecida  baixa   nenhuma     15_35  moderado\n",
              "11           boa   alta   nenhuma     15_35  moderado\n",
              "13          ruim   alta   nenhuma     15_35      alto\n",
              "3   desconhecida  baixa   nenhuma  acima_35      alto\n",
              "4   desconhecida  baixa   nenhuma  acima_35     baixo\n",
              "5   desconhecida  baixa  adequada  acima_35     baixo\n",
              "7           ruim  baixa  adequada  acima_35  moderado\n",
              "8            boa  baixa   nenhuma  acima_35     baixo\n",
              "9            boa   alta  adequada  acima_35     baixo\n",
              "12           boa   alta   nenhuma  acima_35     baixo"
            ]
          },
          "metadata": {
            "tags": []
          },
          "execution_count": 131
        }
      ]
    },
    {
      "cell_type": "code",
      "metadata": {
        "id": "DZqqokJvHxxU",
        "colab": {
          "base_uri": "https://localhost:8080/",
          "height": 135
        },
        "outputId": "354f17ef-b73e-4cd7-ccb7-645db4c19b4a"
      },
      "source": [
        "tree_level[0]['dct_df']['0_15']"
      ],
      "execution_count": null,
      "outputs": [
        {
          "output_type": "execute_result",
          "data": {
            "text/html": [
              "<div>\n",
              "<style scoped>\n",
              "    .dataframe tbody tr th:only-of-type {\n",
              "        vertical-align: middle;\n",
              "    }\n",
              "\n",
              "    .dataframe tbody tr th {\n",
              "        vertical-align: top;\n",
              "    }\n",
              "\n",
              "    .dataframe thead th {\n",
              "        text-align: right;\n",
              "    }\n",
              "</style>\n",
              "<table border=\"1\" class=\"dataframe\">\n",
              "  <thead>\n",
              "    <tr style=\"text-align: right;\">\n",
              "      <th></th>\n",
              "      <th>historia</th>\n",
              "      <th>divida</th>\n",
              "      <th>garantias</th>\n",
              "      <th>risco</th>\n",
              "    </tr>\n",
              "  </thead>\n",
              "  <tbody>\n",
              "    <tr>\n",
              "      <th>0</th>\n",
              "      <td>ruim</td>\n",
              "      <td>alta</td>\n",
              "      <td>nenhuma</td>\n",
              "      <td>alto</td>\n",
              "    </tr>\n",
              "    <tr>\n",
              "      <th>6</th>\n",
              "      <td>ruim</td>\n",
              "      <td>baixa</td>\n",
              "      <td>nenhuma</td>\n",
              "      <td>alto</td>\n",
              "    </tr>\n",
              "    <tr>\n",
              "      <th>10</th>\n",
              "      <td>boa</td>\n",
              "      <td>alta</td>\n",
              "      <td>nenhuma</td>\n",
              "      <td>alto</td>\n",
              "    </tr>\n",
              "  </tbody>\n",
              "</table>\n",
              "</div>"
            ],
            "text/plain": [
              "   historia divida garantias risco\n",
              "0      ruim   alta   nenhuma  alto\n",
              "6      ruim  baixa   nenhuma  alto\n",
              "10      boa   alta   nenhuma  alto"
            ]
          },
          "metadata": {
            "tags": []
          },
          "execution_count": 130
        }
      ]
    },
    {
      "cell_type": "code",
      "metadata": {
        "id": "S4FUVA6JJXlZ",
        "colab": {
          "base_uri": "https://localhost:8080/"
        },
        "outputId": "0dc4eb40-729c-45e2-f742-46b7937cf8d6"
      },
      "source": [
        "gain_df(tree_level[0]['dct_df']['0_15'])"
      ],
      "execution_count": null,
      "outputs": [
        {
          "output_type": "execute_result",
          "data": {
            "text/plain": [
              "{'divida': -0.0, 'garantias': -0.0, 'historia': -0.0}"
            ]
          },
          "metadata": {
            "tags": []
          },
          "execution_count": 134
        }
      ]
    },
    {
      "cell_type": "code",
      "metadata": {
        "id": "KNNm8cz2IyEy",
        "colab": {
          "base_uri": "https://localhost:8080/"
        },
        "outputId": "bdc77049-ade0-4e76-99b9-87b4ec5e855e"
      },
      "source": [
        "gain_df(tree_level[0]['dct_df']['acima_35'])"
      ],
      "execution_count": null,
      "outputs": [
        {
          "output_type": "stream",
          "text": [
            "/usr/local/lib/python3.6/dist-packages/pandas/core/series.py:726: RuntimeWarning: divide by zero encountered in log2\n",
            "  result = getattr(ufunc, method)(*inputs, **kwargs)\n",
            "/usr/local/lib/python3.6/dist-packages/pandas/core/series.py:726: RuntimeWarning: divide by zero encountered in log2\n",
            "  result = getattr(ufunc, method)(*inputs, **kwargs)\n",
            "/usr/local/lib/python3.6/dist-packages/pandas/core/series.py:726: RuntimeWarning: divide by zero encountered in log2\n",
            "  result = getattr(ufunc, method)(*inputs, **kwargs)\n",
            "/usr/local/lib/python3.6/dist-packages/pandas/core/series.py:726: RuntimeWarning: divide by zero encountered in log2\n",
            "  result = getattr(ufunc, method)(*inputs, **kwargs)\n",
            "/usr/local/lib/python3.6/dist-packages/pandas/core/series.py:726: RuntimeWarning: divide by zero encountered in log2\n",
            "  result = getattr(ufunc, method)(*inputs, **kwargs)\n",
            "/usr/local/lib/python3.6/dist-packages/pandas/core/series.py:726: RuntimeWarning: divide by zero encountered in log2\n",
            "  result = getattr(ufunc, method)(*inputs, **kwargs)\n"
          ],
          "name": "stderr"
        },
        {
          "output_type": "execute_result",
          "data": {
            "text/plain": [
              "{'divida': 0.16958442967043896,\n",
              " 'garantias': 0.2916919971380595,\n",
              " 'historia': 0.7552794968289925}"
            ]
          },
          "metadata": {
            "tags": []
          },
          "execution_count": 136
        }
      ]
    },
    {
      "cell_type": "markdown",
      "metadata": {
        "id": "LcIU3Hj_qxhN"
      },
      "source": [
        "#### sklearn"
      ]
    },
    {
      "cell_type": "code",
      "metadata": {
        "id": "fPcR5slJKOh_",
        "colab": {
          "base_uri": "https://localhost:8080/",
          "height": 442
        },
        "outputId": "f1fc13e2-42f6-4393-99fa-6a0750a6e4b7"
      },
      "source": [
        "import pandas as pd\n",
        "import json\n",
        "\n",
        "# utils\n",
        "def pp_json(json_thing, sort=True, indents=4):\n",
        "    if type(json_thing) is str:\n",
        "        print(json.dumps(json.loads(json_thing)\n",
        "                , sort_keys=sort\n",
        "                , indent=indents))\n",
        "    else:\n",
        "        print(json.dumps(json_thing\n",
        "                         , sort_keys=sort\n",
        "                         , indent=indents))\n",
        "    return None\n",
        "\n",
        "def format_float_dct(dct):\n",
        "    return {k:round(v,2) if isinstance(v,float) else v for k,v in dct.items()}\n",
        "\n",
        "def dct_from2lists(lst_keys, lst_values):\n",
        "    return dict(zip(lst_keys, lst_values))\n",
        "\n",
        "def label_encoder(df,X):\n",
        "    from sklearn.preprocessing import LabelEncoder\n",
        "    labelencoder = LabelEncoder()\n",
        "    dct_label_encoder = {}\n",
        "    for idx in range(len(df.columns)-1):\n",
        "        X[:,idx] = labelencoder.fit_transform(X[:,idx])\n",
        "        dct_label = {}\n",
        "        for jj, label in enumerate(labelencoder.classes_):\n",
        "            dct_label[label] =  jj\n",
        "        dct_label_encoder[df.columns[idx]] = dct_label\n",
        "    print(\"Label encoder dict\")\n",
        "    pp_json(dct_label_encoder)\n",
        "\n",
        "    return dct_label_encoder\n",
        "\n",
        "df = pd.read_csv('risco_credito.csv')\n",
        "\n",
        "X = df.iloc[:,:-1].values\n",
        "y = df.iloc[:,-1].values              \n",
        "\n",
        "lst_features = list(df.iloc[:,:-1].columns)\n",
        "\n",
        "dct_label_encoder = label_encoder(df,X)\n",
        "\n",
        "def encoded_entry(entry_raw, dct_label_encoder=dct_label_encoder):\n",
        "    return [dct_label_encoder[k][v] for k,v in entry_raw.items()]\n",
        "\n",
        "def print_prediction(test,clf):\n",
        "    print(\"\\nGiven\")\n",
        "    pp_json(test)\n",
        "    test_encoded = encoded_entry(entry_raw=test)\n",
        "    predict_label = clf.predict([test_encoded])\n",
        "    predict_proba = clf.predict_proba([test_encoded])\n",
        "\n",
        "    print(\"Predicted label:\", predict_label[0])\n",
        "    dct_probabilities = dct_from2lists(\n",
        "        lst_keys=clf.classes_,\n",
        "        lst_values=predict_proba[0])\n",
        "    print(\"Probabilities\")\n",
        "    pp_json(dct_probabilities)\n",
        "\n",
        "\n",
        "\n",
        "from sklearn.tree import (\n",
        "    DecisionTreeClassifier, export_graphviz, plot_tree, export_text\n",
        ")\n",
        "# decision tree doesn't deal with categorical data\n",
        "clf = DecisionTreeClassifier(criterion='entropy')\n",
        "clf.fit(X, y)\n",
        "\n",
        "dct_feature_importances = dct_from2lists(\n",
        "    lst_keys=lst_features,\n",
        "    lst_values=clf.feature_importances_)\n",
        "print(\"\\nFeature importance\")\n",
        "\n",
        "pp_json(format_float_dct(dct=dct_feature_importances))\n",
        "\n",
        "test0_raw = {\n",
        "    \"historia\": \"boa\",\n",
        "    \"divida\": \"alta\",\n",
        "    \"garantias\": \"nenhuma\",\n",
        "    \"renda\": \"acima_35\"\n",
        "}\n",
        "# test0 = [0, 0, 1, 2]\n",
        "test1_raw = {\n",
        "    \"historia\": \"ruim\",\n",
        "    \"divida\": \"alta\",\n",
        "    \"garantias\": \"adequada\",\n",
        "    \"renda\": \"0_15\"\n",
        "}\n",
        "# test1 = [2, 0, 0, 0]\n",
        "print_prediction(test=test0_raw, clf=clf)\n",
        "print_prediction(test=test1_raw, clf=clf)"
      ],
      "execution_count": null,
      "outputs": [
        {
          "output_type": "error",
          "ename": "FileNotFoundError",
          "evalue": "ignored",
          "traceback": [
            "\u001b[0;31m---------------------------------------------------------------------------\u001b[0m",
            "\u001b[0;31mFileNotFoundError\u001b[0m                         Traceback (most recent call last)",
            "\u001b[0;32m<ipython-input-109-e057494b3d59>\u001b[0m in \u001b[0;36m<module>\u001b[0;34m()\u001b[0m\n\u001b[1;32m     35\u001b[0m     \u001b[0;32mreturn\u001b[0m \u001b[0mdct_label_encoder\u001b[0m\u001b[0;34m\u001b[0m\u001b[0;34m\u001b[0m\u001b[0m\n\u001b[1;32m     36\u001b[0m \u001b[0;34m\u001b[0m\u001b[0m\n\u001b[0;32m---> 37\u001b[0;31m \u001b[0mdf\u001b[0m \u001b[0;34m=\u001b[0m \u001b[0mpd\u001b[0m\u001b[0;34m.\u001b[0m\u001b[0mread_csv\u001b[0m\u001b[0;34m(\u001b[0m\u001b[0;34m'risco_credito.csv'\u001b[0m\u001b[0;34m)\u001b[0m\u001b[0;34m\u001b[0m\u001b[0;34m\u001b[0m\u001b[0m\n\u001b[0m\u001b[1;32m     38\u001b[0m \u001b[0;34m\u001b[0m\u001b[0m\n\u001b[1;32m     39\u001b[0m \u001b[0mX\u001b[0m \u001b[0;34m=\u001b[0m \u001b[0mdf\u001b[0m\u001b[0;34m.\u001b[0m\u001b[0miloc\u001b[0m\u001b[0;34m[\u001b[0m\u001b[0;34m:\u001b[0m\u001b[0;34m,\u001b[0m\u001b[0;34m:\u001b[0m\u001b[0;34m-\u001b[0m\u001b[0;36m1\u001b[0m\u001b[0;34m]\u001b[0m\u001b[0;34m.\u001b[0m\u001b[0mvalues\u001b[0m\u001b[0;34m\u001b[0m\u001b[0;34m\u001b[0m\u001b[0m\n",
            "\u001b[0;32m/usr/local/lib/python3.6/dist-packages/pandas/io/parsers.py\u001b[0m in \u001b[0;36mread_csv\u001b[0;34m(filepath_or_buffer, sep, delimiter, header, names, index_col, usecols, squeeze, prefix, mangle_dupe_cols, dtype, engine, converters, true_values, false_values, skipinitialspace, skiprows, skipfooter, nrows, na_values, keep_default_na, na_filter, verbose, skip_blank_lines, parse_dates, infer_datetime_format, keep_date_col, date_parser, dayfirst, cache_dates, iterator, chunksize, compression, thousands, decimal, lineterminator, quotechar, quoting, doublequote, escapechar, comment, encoding, dialect, error_bad_lines, warn_bad_lines, delim_whitespace, low_memory, memory_map, float_precision)\u001b[0m\n\u001b[1;32m    686\u001b[0m     )\n\u001b[1;32m    687\u001b[0m \u001b[0;34m\u001b[0m\u001b[0m\n\u001b[0;32m--> 688\u001b[0;31m     \u001b[0;32mreturn\u001b[0m \u001b[0m_read\u001b[0m\u001b[0;34m(\u001b[0m\u001b[0mfilepath_or_buffer\u001b[0m\u001b[0;34m,\u001b[0m \u001b[0mkwds\u001b[0m\u001b[0;34m)\u001b[0m\u001b[0;34m\u001b[0m\u001b[0;34m\u001b[0m\u001b[0m\n\u001b[0m\u001b[1;32m    689\u001b[0m \u001b[0;34m\u001b[0m\u001b[0m\n\u001b[1;32m    690\u001b[0m \u001b[0;34m\u001b[0m\u001b[0m\n",
            "\u001b[0;32m/usr/local/lib/python3.6/dist-packages/pandas/io/parsers.py\u001b[0m in \u001b[0;36m_read\u001b[0;34m(filepath_or_buffer, kwds)\u001b[0m\n\u001b[1;32m    452\u001b[0m \u001b[0;34m\u001b[0m\u001b[0m\n\u001b[1;32m    453\u001b[0m     \u001b[0;31m# Create the parser.\u001b[0m\u001b[0;34m\u001b[0m\u001b[0;34m\u001b[0m\u001b[0;34m\u001b[0m\u001b[0m\n\u001b[0;32m--> 454\u001b[0;31m     \u001b[0mparser\u001b[0m \u001b[0;34m=\u001b[0m \u001b[0mTextFileReader\u001b[0m\u001b[0;34m(\u001b[0m\u001b[0mfp_or_buf\u001b[0m\u001b[0;34m,\u001b[0m \u001b[0;34m**\u001b[0m\u001b[0mkwds\u001b[0m\u001b[0;34m)\u001b[0m\u001b[0;34m\u001b[0m\u001b[0;34m\u001b[0m\u001b[0m\n\u001b[0m\u001b[1;32m    455\u001b[0m \u001b[0;34m\u001b[0m\u001b[0m\n\u001b[1;32m    456\u001b[0m     \u001b[0;32mif\u001b[0m \u001b[0mchunksize\u001b[0m \u001b[0;32mor\u001b[0m \u001b[0miterator\u001b[0m\u001b[0;34m:\u001b[0m\u001b[0;34m\u001b[0m\u001b[0;34m\u001b[0m\u001b[0m\n",
            "\u001b[0;32m/usr/local/lib/python3.6/dist-packages/pandas/io/parsers.py\u001b[0m in \u001b[0;36m__init__\u001b[0;34m(self, f, engine, **kwds)\u001b[0m\n\u001b[1;32m    946\u001b[0m             \u001b[0mself\u001b[0m\u001b[0;34m.\u001b[0m\u001b[0moptions\u001b[0m\u001b[0;34m[\u001b[0m\u001b[0;34m\"has_index_names\"\u001b[0m\u001b[0;34m]\u001b[0m \u001b[0;34m=\u001b[0m \u001b[0mkwds\u001b[0m\u001b[0;34m[\u001b[0m\u001b[0;34m\"has_index_names\"\u001b[0m\u001b[0;34m]\u001b[0m\u001b[0;34m\u001b[0m\u001b[0;34m\u001b[0m\u001b[0m\n\u001b[1;32m    947\u001b[0m \u001b[0;34m\u001b[0m\u001b[0m\n\u001b[0;32m--> 948\u001b[0;31m         \u001b[0mself\u001b[0m\u001b[0;34m.\u001b[0m\u001b[0m_make_engine\u001b[0m\u001b[0;34m(\u001b[0m\u001b[0mself\u001b[0m\u001b[0;34m.\u001b[0m\u001b[0mengine\u001b[0m\u001b[0;34m)\u001b[0m\u001b[0;34m\u001b[0m\u001b[0;34m\u001b[0m\u001b[0m\n\u001b[0m\u001b[1;32m    949\u001b[0m \u001b[0;34m\u001b[0m\u001b[0m\n\u001b[1;32m    950\u001b[0m     \u001b[0;32mdef\u001b[0m \u001b[0mclose\u001b[0m\u001b[0;34m(\u001b[0m\u001b[0mself\u001b[0m\u001b[0;34m)\u001b[0m\u001b[0;34m:\u001b[0m\u001b[0;34m\u001b[0m\u001b[0;34m\u001b[0m\u001b[0m\n",
            "\u001b[0;32m/usr/local/lib/python3.6/dist-packages/pandas/io/parsers.py\u001b[0m in \u001b[0;36m_make_engine\u001b[0;34m(self, engine)\u001b[0m\n\u001b[1;32m   1178\u001b[0m     \u001b[0;32mdef\u001b[0m \u001b[0m_make_engine\u001b[0m\u001b[0;34m(\u001b[0m\u001b[0mself\u001b[0m\u001b[0;34m,\u001b[0m \u001b[0mengine\u001b[0m\u001b[0;34m=\u001b[0m\u001b[0;34m\"c\"\u001b[0m\u001b[0;34m)\u001b[0m\u001b[0;34m:\u001b[0m\u001b[0;34m\u001b[0m\u001b[0;34m\u001b[0m\u001b[0m\n\u001b[1;32m   1179\u001b[0m         \u001b[0;32mif\u001b[0m \u001b[0mengine\u001b[0m \u001b[0;34m==\u001b[0m \u001b[0;34m\"c\"\u001b[0m\u001b[0;34m:\u001b[0m\u001b[0;34m\u001b[0m\u001b[0;34m\u001b[0m\u001b[0m\n\u001b[0;32m-> 1180\u001b[0;31m             \u001b[0mself\u001b[0m\u001b[0;34m.\u001b[0m\u001b[0m_engine\u001b[0m \u001b[0;34m=\u001b[0m \u001b[0mCParserWrapper\u001b[0m\u001b[0;34m(\u001b[0m\u001b[0mself\u001b[0m\u001b[0;34m.\u001b[0m\u001b[0mf\u001b[0m\u001b[0;34m,\u001b[0m \u001b[0;34m**\u001b[0m\u001b[0mself\u001b[0m\u001b[0;34m.\u001b[0m\u001b[0moptions\u001b[0m\u001b[0;34m)\u001b[0m\u001b[0;34m\u001b[0m\u001b[0;34m\u001b[0m\u001b[0m\n\u001b[0m\u001b[1;32m   1181\u001b[0m         \u001b[0;32melse\u001b[0m\u001b[0;34m:\u001b[0m\u001b[0;34m\u001b[0m\u001b[0;34m\u001b[0m\u001b[0m\n\u001b[1;32m   1182\u001b[0m             \u001b[0;32mif\u001b[0m \u001b[0mengine\u001b[0m \u001b[0;34m==\u001b[0m \u001b[0;34m\"python\"\u001b[0m\u001b[0;34m:\u001b[0m\u001b[0;34m\u001b[0m\u001b[0;34m\u001b[0m\u001b[0m\n",
            "\u001b[0;32m/usr/local/lib/python3.6/dist-packages/pandas/io/parsers.py\u001b[0m in \u001b[0;36m__init__\u001b[0;34m(self, src, **kwds)\u001b[0m\n\u001b[1;32m   2008\u001b[0m         \u001b[0mkwds\u001b[0m\u001b[0;34m[\u001b[0m\u001b[0;34m\"usecols\"\u001b[0m\u001b[0;34m]\u001b[0m \u001b[0;34m=\u001b[0m \u001b[0mself\u001b[0m\u001b[0;34m.\u001b[0m\u001b[0musecols\u001b[0m\u001b[0;34m\u001b[0m\u001b[0;34m\u001b[0m\u001b[0m\n\u001b[1;32m   2009\u001b[0m \u001b[0;34m\u001b[0m\u001b[0m\n\u001b[0;32m-> 2010\u001b[0;31m         \u001b[0mself\u001b[0m\u001b[0;34m.\u001b[0m\u001b[0m_reader\u001b[0m \u001b[0;34m=\u001b[0m \u001b[0mparsers\u001b[0m\u001b[0;34m.\u001b[0m\u001b[0mTextReader\u001b[0m\u001b[0;34m(\u001b[0m\u001b[0msrc\u001b[0m\u001b[0;34m,\u001b[0m \u001b[0;34m**\u001b[0m\u001b[0mkwds\u001b[0m\u001b[0;34m)\u001b[0m\u001b[0;34m\u001b[0m\u001b[0;34m\u001b[0m\u001b[0m\n\u001b[0m\u001b[1;32m   2011\u001b[0m         \u001b[0mself\u001b[0m\u001b[0;34m.\u001b[0m\u001b[0munnamed_cols\u001b[0m \u001b[0;34m=\u001b[0m \u001b[0mself\u001b[0m\u001b[0;34m.\u001b[0m\u001b[0m_reader\u001b[0m\u001b[0;34m.\u001b[0m\u001b[0munnamed_cols\u001b[0m\u001b[0;34m\u001b[0m\u001b[0;34m\u001b[0m\u001b[0m\n\u001b[1;32m   2012\u001b[0m \u001b[0;34m\u001b[0m\u001b[0m\n",
            "\u001b[0;32mpandas/_libs/parsers.pyx\u001b[0m in \u001b[0;36mpandas._libs.parsers.TextReader.__cinit__\u001b[0;34m()\u001b[0m\n",
            "\u001b[0;32mpandas/_libs/parsers.pyx\u001b[0m in \u001b[0;36mpandas._libs.parsers.TextReader._setup_parser_source\u001b[0;34m()\u001b[0m\n",
            "\u001b[0;31mFileNotFoundError\u001b[0m: [Errno 2] No such file or directory: 'risco_credito.csv'"
          ]
        }
      ]
    },
    {
      "cell_type": "code",
      "metadata": {
        "id": "VC1ucW5gwpMC",
        "colab": {
          "base_uri": "https://localhost:8080/"
        },
        "outputId": "2291ef5b-624f-4661-eb36-898c4df9a6d5"
      },
      "source": [
        "r = export_text(clf, feature_names=lst_features)\n",
        "print(r)"
      ],
      "execution_count": null,
      "outputs": [
        {
          "output_type": "stream",
          "text": [
            "|--- renda <= 1.50\n",
            "|   |--- historia <= 1.50\n",
            "|   |   |--- divida <= 0.50\n",
            "|   |   |   |--- historia <= 0.50\n",
            "|   |   |   |   |--- renda <= 0.50\n",
            "|   |   |   |   |   |--- class: alto\n",
            "|   |   |   |   |--- renda >  0.50\n",
            "|   |   |   |   |   |--- class: moderado\n",
            "|   |   |   |--- historia >  0.50\n",
            "|   |   |   |   |--- class: alto\n",
            "|   |   |--- divida >  0.50\n",
            "|   |   |   |--- class: moderado\n",
            "|   |--- historia >  1.50\n",
            "|   |   |--- class: alto\n",
            "|--- renda >  1.50\n",
            "|   |--- historia <= 1.50\n",
            "|   |   |--- historia <= 0.50\n",
            "|   |   |   |--- class: baixo\n",
            "|   |   |--- historia >  0.50\n",
            "|   |   |   |--- garantias <= 0.50\n",
            "|   |   |   |   |--- class: baixo\n",
            "|   |   |   |--- garantias >  0.50\n",
            "|   |   |   |   |--- class: alto\n",
            "|   |--- historia >  1.50\n",
            "|   |   |--- class: moderado\n",
            "\n"
          ],
          "name": "stdout"
        }
      ]
    },
    {
      "cell_type": "code",
      "metadata": {
        "id": "1w2EkLMKs4eO",
        "colab": {
          "base_uri": "https://localhost:8080/",
          "height": 946
        },
        "outputId": "13ee1e49-d916-49d7-8bf3-c24e45aee6b3"
      },
      "source": [
        "import graphviz \n",
        "\n",
        "dot_data = export_graphviz(clf,\n",
        "                       out_file=None,\n",
        "                       feature_names=lst_features,\n",
        "                       class_names=clf.classes_,\n",
        "                       filled=True,\n",
        "                       leaves_parallel=True,\n",
        "                       rounded=True,  \n",
        "                       special_characters=True)\n",
        "graph = graphviz.Source(dot_data)\n",
        "graph"
      ],
      "execution_count": null,
      "outputs": [
        {
          "output_type": "execute_result",
          "data": {
            "text/plain": [
              "<graphviz.files.Source at 0x7f165fafb198>"
            ],
            "image/svg+xml": "<?xml version=\"1.0\" encoding=\"UTF-8\" standalone=\"no\"?>\n<!DOCTYPE svg PUBLIC \"-//W3C//DTD SVG 1.1//EN\"\n \"http://www.w3.org/Graphics/SVG/1.1/DTD/svg11.dtd\">\n<!-- Generated by graphviz version 2.40.1 (20161225.0304)\n -->\n<!-- Title: Tree Pages: 1 -->\n<svg width=\"1241pt\" height=\"679pt\"\n viewBox=\"0.00 0.00 1240.50 678.50\" xmlns=\"http://www.w3.org/2000/svg\" xmlns:xlink=\"http://www.w3.org/1999/xlink\">\n<g id=\"graph0\" class=\"graph\" transform=\"scale(1 1) rotate(0) translate(4 674.5)\">\n<title>Tree</title>\n<polygon fill=\"#ffffff\" stroke=\"transparent\" points=\"-4,4 -4,-674.5 1236.5,-674.5 1236.5,4 -4,4\"/>\n<!-- 0 -->\n<g id=\"node1\" class=\"node\">\n<title>0</title>\n<path fill=\"#fcf1e9\" stroke=\"#000000\" d=\"M740.5,-670.5C740.5,-670.5 646.5,-670.5 646.5,-670.5 640.5,-670.5 634.5,-664.5 634.5,-658.5 634.5,-658.5 634.5,-599.5 634.5,-599.5 634.5,-593.5 640.5,-587.5 646.5,-587.5 646.5,-587.5 740.5,-587.5 740.5,-587.5 746.5,-587.5 752.5,-593.5 752.5,-599.5 752.5,-599.5 752.5,-658.5 752.5,-658.5 752.5,-664.5 746.5,-670.5 740.5,-670.5\"/>\n<text text-anchor=\"start\" x=\"657\" y=\"-655.3\" font-family=\"Helvetica,sans-Serif\" font-size=\"14.00\" fill=\"#000000\">renda ≤ 1.5</text>\n<text text-anchor=\"start\" x=\"642.5\" y=\"-640.3\" font-family=\"Helvetica,sans-Serif\" font-size=\"14.00\" fill=\"#000000\">entropy = 1.531</text>\n<text text-anchor=\"start\" x=\"649.5\" y=\"-625.3\" font-family=\"Helvetica,sans-Serif\" font-size=\"14.00\" fill=\"#000000\">samples = 14</text>\n<text text-anchor=\"start\" x=\"644\" y=\"-610.3\" font-family=\"Helvetica,sans-Serif\" font-size=\"14.00\" fill=\"#000000\">value = [6, 5, 3]</text>\n<text text-anchor=\"start\" x=\"657\" y=\"-595.3\" font-family=\"Helvetica,sans-Serif\" font-size=\"14.00\" fill=\"#000000\">class = alto</text>\n</g>\n<!-- 1 -->\n<g id=\"node2\" class=\"node\">\n<title>1</title>\n<path fill=\"#efb388\" stroke=\"#000000\" d=\"M672.5,-551.5C672.5,-551.5 578.5,-551.5 578.5,-551.5 572.5,-551.5 566.5,-545.5 566.5,-539.5 566.5,-539.5 566.5,-480.5 566.5,-480.5 566.5,-474.5 572.5,-468.5 578.5,-468.5 578.5,-468.5 672.5,-468.5 672.5,-468.5 678.5,-468.5 684.5,-474.5 684.5,-480.5 684.5,-480.5 684.5,-539.5 684.5,-539.5 684.5,-545.5 678.5,-551.5 672.5,-551.5\"/>\n<text text-anchor=\"start\" x=\"584.5\" y=\"-536.3\" font-family=\"Helvetica,sans-Serif\" font-size=\"14.00\" fill=\"#000000\">historia ≤ 1.5</text>\n<text text-anchor=\"start\" x=\"574.5\" y=\"-521.3\" font-family=\"Helvetica,sans-Serif\" font-size=\"14.00\" fill=\"#000000\">entropy = 0.863</text>\n<text text-anchor=\"start\" x=\"586\" y=\"-506.3\" font-family=\"Helvetica,sans-Serif\" font-size=\"14.00\" fill=\"#000000\">samples = 7</text>\n<text text-anchor=\"start\" x=\"576\" y=\"-491.3\" font-family=\"Helvetica,sans-Serif\" font-size=\"14.00\" fill=\"#000000\">value = [5, 0, 2]</text>\n<text text-anchor=\"start\" x=\"589\" y=\"-476.3\" font-family=\"Helvetica,sans-Serif\" font-size=\"14.00\" fill=\"#000000\">class = alto</text>\n</g>\n<!-- 0&#45;&gt;1 -->\n<g id=\"edge1\" class=\"edge\">\n<title>0&#45;&gt;1</title>\n<path fill=\"none\" stroke=\"#000000\" d=\"M669.7169,-587.3796C664.7763,-578.7335 659.5184,-569.5322 654.4167,-560.6042\"/>\n<polygon fill=\"#000000\" stroke=\"#000000\" points=\"657.3849,-558.744 649.3846,-551.7981 651.3072,-562.217 657.3849,-558.744\"/>\n<text text-anchor=\"middle\" x=\"642.8067\" y=\"-572.2172\" font-family=\"Helvetica,sans-Serif\" font-size=\"14.00\" fill=\"#000000\">True</text>\n</g>\n<!-- 10 -->\n<g id=\"node11\" class=\"node\">\n<title>10</title>\n<path fill=\"#7beeab\" stroke=\"#000000\" d=\"M873.5,-551.5C873.5,-551.5 779.5,-551.5 779.5,-551.5 773.5,-551.5 767.5,-545.5 767.5,-539.5 767.5,-539.5 767.5,-480.5 767.5,-480.5 767.5,-474.5 773.5,-468.5 779.5,-468.5 779.5,-468.5 873.5,-468.5 873.5,-468.5 879.5,-468.5 885.5,-474.5 885.5,-480.5 885.5,-480.5 885.5,-539.5 885.5,-539.5 885.5,-545.5 879.5,-551.5 873.5,-551.5\"/>\n<text text-anchor=\"start\" x=\"785.5\" y=\"-536.3\" font-family=\"Helvetica,sans-Serif\" font-size=\"14.00\" fill=\"#000000\">historia ≤ 1.5</text>\n<text text-anchor=\"start\" x=\"775.5\" y=\"-521.3\" font-family=\"Helvetica,sans-Serif\" font-size=\"14.00\" fill=\"#000000\">entropy = 1.149</text>\n<text text-anchor=\"start\" x=\"787\" y=\"-506.3\" font-family=\"Helvetica,sans-Serif\" font-size=\"14.00\" fill=\"#000000\">samples = 7</text>\n<text text-anchor=\"start\" x=\"777\" y=\"-491.3\" font-family=\"Helvetica,sans-Serif\" font-size=\"14.00\" fill=\"#000000\">value = [1, 5, 1]</text>\n<text text-anchor=\"start\" x=\"784\" y=\"-476.3\" font-family=\"Helvetica,sans-Serif\" font-size=\"14.00\" fill=\"#000000\">class = baixo</text>\n</g>\n<!-- 0&#45;&gt;10 -->\n<g id=\"edge10\" class=\"edge\">\n<title>0&#45;&gt;10</title>\n<path fill=\"none\" stroke=\"#000000\" d=\"M740.0169,-587.3796C750.3848,-578.1031 761.4671,-568.1874 772.1199,-558.6559\"/>\n<polygon fill=\"#000000\" stroke=\"#000000\" points=\"774.6659,-561.0744 779.7845,-551.7981 769.9983,-555.8577 774.6659,-561.0744\"/>\n<text text-anchor=\"middle\" x=\"778.3978\" y=\"-573.0596\" font-family=\"Helvetica,sans-Serif\" font-size=\"14.00\" fill=\"#000000\">False</text>\n</g>\n<!-- 2 -->\n<g id=\"node3\" class=\"node\">\n<title>2</title>\n<path fill=\"#ffffff\" stroke=\"#000000\" d=\"M529,-432.5C529,-432.5 438,-432.5 438,-432.5 432,-432.5 426,-426.5 426,-420.5 426,-420.5 426,-361.5 426,-361.5 426,-355.5 432,-349.5 438,-349.5 438,-349.5 529,-349.5 529,-349.5 535,-349.5 541,-355.5 541,-361.5 541,-361.5 541,-420.5 541,-420.5 541,-426.5 535,-432.5 529,-432.5\"/>\n<text text-anchor=\"start\" x=\"446.5\" y=\"-417.3\" font-family=\"Helvetica,sans-Serif\" font-size=\"14.00\" fill=\"#000000\">divida ≤ 0.5</text>\n<text text-anchor=\"start\" x=\"441\" y=\"-402.3\" font-family=\"Helvetica,sans-Serif\" font-size=\"14.00\" fill=\"#000000\">entropy = 1.0</text>\n<text text-anchor=\"start\" x=\"444\" y=\"-387.3\" font-family=\"Helvetica,sans-Serif\" font-size=\"14.00\" fill=\"#000000\">samples = 4</text>\n<text text-anchor=\"start\" x=\"434\" y=\"-372.3\" font-family=\"Helvetica,sans-Serif\" font-size=\"14.00\" fill=\"#000000\">value = [2, 0, 2]</text>\n<text text-anchor=\"start\" x=\"447\" y=\"-357.3\" font-family=\"Helvetica,sans-Serif\" font-size=\"14.00\" fill=\"#000000\">class = alto</text>\n</g>\n<!-- 1&#45;&gt;2 -->\n<g id=\"edge2\" class=\"edge\">\n<title>1&#45;&gt;2</title>\n<path fill=\"none\" stroke=\"#000000\" d=\"M575.8353,-468.3796C564.6584,-459.013 552.7038,-448.9948 541.2288,-439.3784\"/>\n<polygon fill=\"#000000\" stroke=\"#000000\" points=\"543.2893,-436.5386 533.3767,-432.7981 538.7931,-441.9037 543.2893,-436.5386\"/>\n</g>\n<!-- 9 -->\n<g id=\"node10\" class=\"node\">\n<title>9</title>\n<path fill=\"#e58139\" stroke=\"#000000\" d=\"M671,-68C671,-68 580,-68 580,-68 574,-68 568,-62 568,-56 568,-56 568,-12 568,-12 568,-6 574,0 580,0 580,0 671,0 671,0 677,0 683,-6 683,-12 683,-12 683,-56 683,-56 683,-62 677,-68 671,-68\"/>\n<text text-anchor=\"start\" x=\"583\" y=\"-52.8\" font-family=\"Helvetica,sans-Serif\" font-size=\"14.00\" fill=\"#000000\">entropy = 0.0</text>\n<text text-anchor=\"start\" x=\"586\" y=\"-37.8\" font-family=\"Helvetica,sans-Serif\" font-size=\"14.00\" fill=\"#000000\">samples = 3</text>\n<text text-anchor=\"start\" x=\"576\" y=\"-22.8\" font-family=\"Helvetica,sans-Serif\" font-size=\"14.00\" fill=\"#000000\">value = [3, 0, 0]</text>\n<text text-anchor=\"start\" x=\"589\" y=\"-7.8\" font-family=\"Helvetica,sans-Serif\" font-size=\"14.00\" fill=\"#000000\">class = alto</text>\n</g>\n<!-- 1&#45;&gt;9 -->\n<g id=\"edge9\" class=\"edge\">\n<title>1&#45;&gt;9</title>\n<path fill=\"none\" stroke=\"#000000\" d=\"M625.5,-468.1754C625.5,-378.7233 625.5,-169.5439 625.5,-78.1003\"/>\n<polygon fill=\"#000000\" stroke=\"#000000\" points=\"629.0001,-78.0659 625.5,-68.0659 622.0001,-78.066 629.0001,-78.0659\"/>\n</g>\n<!-- 3 -->\n<g id=\"node4\" class=\"node\">\n<title>3</title>\n<path fill=\"#f2c09c\" stroke=\"#000000\" d=\"M388.5,-313.5C388.5,-313.5 294.5,-313.5 294.5,-313.5 288.5,-313.5 282.5,-307.5 282.5,-301.5 282.5,-301.5 282.5,-242.5 282.5,-242.5 282.5,-236.5 288.5,-230.5 294.5,-230.5 294.5,-230.5 388.5,-230.5 388.5,-230.5 394.5,-230.5 400.5,-236.5 400.5,-242.5 400.5,-242.5 400.5,-301.5 400.5,-301.5 400.5,-307.5 394.5,-313.5 388.5,-313.5\"/>\n<text text-anchor=\"start\" x=\"300.5\" y=\"-298.3\" font-family=\"Helvetica,sans-Serif\" font-size=\"14.00\" fill=\"#000000\">historia ≤ 0.5</text>\n<text text-anchor=\"start\" x=\"290.5\" y=\"-283.3\" font-family=\"Helvetica,sans-Serif\" font-size=\"14.00\" fill=\"#000000\">entropy = 0.918</text>\n<text text-anchor=\"start\" x=\"302\" y=\"-268.3\" font-family=\"Helvetica,sans-Serif\" font-size=\"14.00\" fill=\"#000000\">samples = 3</text>\n<text text-anchor=\"start\" x=\"292\" y=\"-253.3\" font-family=\"Helvetica,sans-Serif\" font-size=\"14.00\" fill=\"#000000\">value = [2, 0, 1]</text>\n<text text-anchor=\"start\" x=\"305\" y=\"-238.3\" font-family=\"Helvetica,sans-Serif\" font-size=\"14.00\" fill=\"#000000\">class = alto</text>\n</g>\n<!-- 2&#45;&gt;3 -->\n<g id=\"edge3\" class=\"edge\">\n<title>2&#45;&gt;3</title>\n<path fill=\"none\" stroke=\"#000000\" d=\"M433.8353,-349.3796C422.6584,-340.013 410.7038,-329.9948 399.2288,-320.3784\"/>\n<polygon fill=\"#000000\" stroke=\"#000000\" points=\"401.2893,-317.5386 391.3767,-313.7981 396.7931,-322.9037 401.2893,-317.5386\"/>\n</g>\n<!-- 8 -->\n<g id=\"node9\" class=\"node\">\n<title>8</title>\n<path fill=\"#8139e5\" stroke=\"#000000\" d=\"M537.5,-68C537.5,-68 429.5,-68 429.5,-68 423.5,-68 417.5,-62 417.5,-56 417.5,-56 417.5,-12 417.5,-12 417.5,-6 423.5,0 429.5,0 429.5,0 537.5,0 537.5,0 543.5,0 549.5,-6 549.5,-12 549.5,-12 549.5,-56 549.5,-56 549.5,-62 543.5,-68 537.5,-68\"/>\n<text text-anchor=\"start\" x=\"441\" y=\"-52.8\" font-family=\"Helvetica,sans-Serif\" font-size=\"14.00\" fill=\"#000000\">entropy = 0.0</text>\n<text text-anchor=\"start\" x=\"444\" y=\"-37.8\" font-family=\"Helvetica,sans-Serif\" font-size=\"14.00\" fill=\"#000000\">samples = 1</text>\n<text text-anchor=\"start\" x=\"434\" y=\"-22.8\" font-family=\"Helvetica,sans-Serif\" font-size=\"14.00\" fill=\"#000000\">value = [0, 0, 1]</text>\n<text text-anchor=\"start\" x=\"425.5\" y=\"-7.8\" font-family=\"Helvetica,sans-Serif\" font-size=\"14.00\" fill=\"#000000\">class = moderado</text>\n</g>\n<!-- 2&#45;&gt;8 -->\n<g id=\"edge8\" class=\"edge\">\n<title>2&#45;&gt;8</title>\n<path fill=\"none\" stroke=\"#000000\" d=\"M483.5,-349.3489C483.5,-281.5557 483.5,-147.9457 483.5,-78.4119\"/>\n<polygon fill=\"#000000\" stroke=\"#000000\" points=\"487.0001,-78.2275 483.5,-68.2275 480.0001,-78.2275 487.0001,-78.2275\"/>\n</g>\n<!-- 4 -->\n<g id=\"node5\" class=\"node\">\n<title>4</title>\n<path fill=\"#ffffff\" stroke=\"#000000\" d=\"M245,-194.5C245,-194.5 154,-194.5 154,-194.5 148,-194.5 142,-188.5 142,-182.5 142,-182.5 142,-123.5 142,-123.5 142,-117.5 148,-111.5 154,-111.5 154,-111.5 245,-111.5 245,-111.5 251,-111.5 257,-117.5 257,-123.5 257,-123.5 257,-182.5 257,-182.5 257,-188.5 251,-194.5 245,-194.5\"/>\n<text text-anchor=\"start\" x=\"163\" y=\"-179.3\" font-family=\"Helvetica,sans-Serif\" font-size=\"14.00\" fill=\"#000000\">renda ≤ 0.5</text>\n<text text-anchor=\"start\" x=\"157\" y=\"-164.3\" font-family=\"Helvetica,sans-Serif\" font-size=\"14.00\" fill=\"#000000\">entropy = 1.0</text>\n<text text-anchor=\"start\" x=\"160\" y=\"-149.3\" font-family=\"Helvetica,sans-Serif\" font-size=\"14.00\" fill=\"#000000\">samples = 2</text>\n<text text-anchor=\"start\" x=\"150\" y=\"-134.3\" font-family=\"Helvetica,sans-Serif\" font-size=\"14.00\" fill=\"#000000\">value = [1, 0, 1]</text>\n<text text-anchor=\"start\" x=\"163\" y=\"-119.3\" font-family=\"Helvetica,sans-Serif\" font-size=\"14.00\" fill=\"#000000\">class = alto</text>\n</g>\n<!-- 3&#45;&gt;4 -->\n<g id=\"edge4\" class=\"edge\">\n<title>3&#45;&gt;4</title>\n<path fill=\"none\" stroke=\"#000000\" d=\"M291.8353,-230.3796C280.6584,-221.013 268.7038,-210.9948 257.2288,-201.3784\"/>\n<polygon fill=\"#000000\" stroke=\"#000000\" points=\"259.2893,-198.5386 249.3767,-194.7981 254.7931,-203.9037 259.2893,-198.5386\"/>\n</g>\n<!-- 7 -->\n<g id=\"node8\" class=\"node\">\n<title>7</title>\n<path fill=\"#e58139\" stroke=\"#000000\" d=\"M387,-68C387,-68 296,-68 296,-68 290,-68 284,-62 284,-56 284,-56 284,-12 284,-12 284,-6 290,0 296,0 296,0 387,0 387,0 393,0 399,-6 399,-12 399,-12 399,-56 399,-56 399,-62 393,-68 387,-68\"/>\n<text text-anchor=\"start\" x=\"299\" y=\"-52.8\" font-family=\"Helvetica,sans-Serif\" font-size=\"14.00\" fill=\"#000000\">entropy = 0.0</text>\n<text text-anchor=\"start\" x=\"302\" y=\"-37.8\" font-family=\"Helvetica,sans-Serif\" font-size=\"14.00\" fill=\"#000000\">samples = 1</text>\n<text text-anchor=\"start\" x=\"292\" y=\"-22.8\" font-family=\"Helvetica,sans-Serif\" font-size=\"14.00\" fill=\"#000000\">value = [1, 0, 0]</text>\n<text text-anchor=\"start\" x=\"305\" y=\"-7.8\" font-family=\"Helvetica,sans-Serif\" font-size=\"14.00\" fill=\"#000000\">class = alto</text>\n</g>\n<!-- 3&#45;&gt;7 -->\n<g id=\"edge7\" class=\"edge\">\n<title>3&#45;&gt;7</title>\n<path fill=\"none\" stroke=\"#000000\" d=\"M341.5,-230.2712C341.5,-187.6911 341.5,-121.8568 341.5,-78.3511\"/>\n<polygon fill=\"#000000\" stroke=\"#000000\" points=\"345.0001,-78.3416 341.5,-68.3417 338.0001,-78.3417 345.0001,-78.3416\"/>\n</g>\n<!-- 5 -->\n<g id=\"node6\" class=\"node\">\n<title>5</title>\n<path fill=\"#e58139\" stroke=\"#000000\" d=\"M103,-68C103,-68 12,-68 12,-68 6,-68 0,-62 0,-56 0,-56 0,-12 0,-12 0,-6 6,0 12,0 12,0 103,0 103,0 109,0 115,-6 115,-12 115,-12 115,-56 115,-56 115,-62 109,-68 103,-68\"/>\n<text text-anchor=\"start\" x=\"15\" y=\"-52.8\" font-family=\"Helvetica,sans-Serif\" font-size=\"14.00\" fill=\"#000000\">entropy = 0.0</text>\n<text text-anchor=\"start\" x=\"18\" y=\"-37.8\" font-family=\"Helvetica,sans-Serif\" font-size=\"14.00\" fill=\"#000000\">samples = 1</text>\n<text text-anchor=\"start\" x=\"8\" y=\"-22.8\" font-family=\"Helvetica,sans-Serif\" font-size=\"14.00\" fill=\"#000000\">value = [1, 0, 0]</text>\n<text text-anchor=\"start\" x=\"21\" y=\"-7.8\" font-family=\"Helvetica,sans-Serif\" font-size=\"14.00\" fill=\"#000000\">class = alto</text>\n</g>\n<!-- 4&#45;&gt;5 -->\n<g id=\"edge5\" class=\"edge\">\n<title>4&#45;&gt;5</title>\n<path fill=\"none\" stroke=\"#000000\" d=\"M149.8353,-111.3796C135.6642,-99.5038 120.243,-86.5804 106.1342,-74.7568\"/>\n<polygon fill=\"#000000\" stroke=\"#000000\" points=\"108.3598,-72.0554 98.4472,-68.3149 103.8637,-77.4206 108.3598,-72.0554\"/>\n</g>\n<!-- 6 -->\n<g id=\"node7\" class=\"node\">\n<title>6</title>\n<path fill=\"#8139e5\" stroke=\"#000000\" d=\"M253.5,-68C253.5,-68 145.5,-68 145.5,-68 139.5,-68 133.5,-62 133.5,-56 133.5,-56 133.5,-12 133.5,-12 133.5,-6 139.5,0 145.5,0 145.5,0 253.5,0 253.5,0 259.5,0 265.5,-6 265.5,-12 265.5,-12 265.5,-56 265.5,-56 265.5,-62 259.5,-68 253.5,-68\"/>\n<text text-anchor=\"start\" x=\"157\" y=\"-52.8\" font-family=\"Helvetica,sans-Serif\" font-size=\"14.00\" fill=\"#000000\">entropy = 0.0</text>\n<text text-anchor=\"start\" x=\"160\" y=\"-37.8\" font-family=\"Helvetica,sans-Serif\" font-size=\"14.00\" fill=\"#000000\">samples = 1</text>\n<text text-anchor=\"start\" x=\"150\" y=\"-22.8\" font-family=\"Helvetica,sans-Serif\" font-size=\"14.00\" fill=\"#000000\">value = [0, 0, 1]</text>\n<text text-anchor=\"start\" x=\"141.5\" y=\"-7.8\" font-family=\"Helvetica,sans-Serif\" font-size=\"14.00\" fill=\"#000000\">class = moderado</text>\n</g>\n<!-- 4&#45;&gt;6 -->\n<g id=\"edge6\" class=\"edge\">\n<title>4&#45;&gt;6</title>\n<path fill=\"none\" stroke=\"#000000\" d=\"M199.5,-111.3796C199.5,-100.7134 199.5,-89.2021 199.5,-78.4015\"/>\n<polygon fill=\"#000000\" stroke=\"#000000\" points=\"203.0001,-78.3149 199.5,-68.3149 196.0001,-78.315 203.0001,-78.3149\"/>\n</g>\n<!-- 11 -->\n<g id=\"node12\" class=\"node\">\n<title>11</title>\n<path fill=\"#61ea9a\" stroke=\"#000000\" d=\"M872,-432.5C872,-432.5 781,-432.5 781,-432.5 775,-432.5 769,-426.5 769,-420.5 769,-420.5 769,-361.5 769,-361.5 769,-355.5 775,-349.5 781,-349.5 781,-349.5 872,-349.5 872,-349.5 878,-349.5 884,-355.5 884,-361.5 884,-361.5 884,-420.5 884,-420.5 884,-426.5 878,-432.5 872,-432.5\"/>\n<text text-anchor=\"start\" x=\"785.5\" y=\"-417.3\" font-family=\"Helvetica,sans-Serif\" font-size=\"14.00\" fill=\"#000000\">historia ≤ 0.5</text>\n<text text-anchor=\"start\" x=\"779.5\" y=\"-402.3\" font-family=\"Helvetica,sans-Serif\" font-size=\"14.00\" fill=\"#000000\">entropy = 0.65</text>\n<text text-anchor=\"start\" x=\"787\" y=\"-387.3\" font-family=\"Helvetica,sans-Serif\" font-size=\"14.00\" fill=\"#000000\">samples = 6</text>\n<text text-anchor=\"start\" x=\"777\" y=\"-372.3\" font-family=\"Helvetica,sans-Serif\" font-size=\"14.00\" fill=\"#000000\">value = [1, 5, 0]</text>\n<text text-anchor=\"start\" x=\"784\" y=\"-357.3\" font-family=\"Helvetica,sans-Serif\" font-size=\"14.00\" fill=\"#000000\">class = baixo</text>\n</g>\n<!-- 10&#45;&gt;11 -->\n<g id=\"edge11\" class=\"edge\">\n<title>10&#45;&gt;11</title>\n<path fill=\"none\" stroke=\"#000000\" d=\"M826.5,-468.3796C826.5,-460.1838 826.5,-451.4891 826.5,-443.0013\"/>\n<polygon fill=\"#000000\" stroke=\"#000000\" points=\"830.0001,-442.798 826.5,-432.7981 823.0001,-442.7981 830.0001,-442.798\"/>\n</g>\n<!-- 16 -->\n<g id=\"node17\" class=\"node\">\n<title>16</title>\n<path fill=\"#8139e5\" stroke=\"#000000\" d=\"M1220.5,-68C1220.5,-68 1112.5,-68 1112.5,-68 1106.5,-68 1100.5,-62 1100.5,-56 1100.5,-56 1100.5,-12 1100.5,-12 1100.5,-6 1106.5,0 1112.5,0 1112.5,0 1220.5,0 1220.5,0 1226.5,0 1232.5,-6 1232.5,-12 1232.5,-12 1232.5,-56 1232.5,-56 1232.5,-62 1226.5,-68 1220.5,-68\"/>\n<text text-anchor=\"start\" x=\"1124\" y=\"-52.8\" font-family=\"Helvetica,sans-Serif\" font-size=\"14.00\" fill=\"#000000\">entropy = 0.0</text>\n<text text-anchor=\"start\" x=\"1127\" y=\"-37.8\" font-family=\"Helvetica,sans-Serif\" font-size=\"14.00\" fill=\"#000000\">samples = 1</text>\n<text text-anchor=\"start\" x=\"1117\" y=\"-22.8\" font-family=\"Helvetica,sans-Serif\" font-size=\"14.00\" fill=\"#000000\">value = [0, 0, 1]</text>\n<text text-anchor=\"start\" x=\"1108.5\" y=\"-7.8\" font-family=\"Helvetica,sans-Serif\" font-size=\"14.00\" fill=\"#000000\">class = moderado</text>\n</g>\n<!-- 10&#45;&gt;16 -->\n<g id=\"edge16\" class=\"edge\">\n<title>10&#45;&gt;16</title>\n<path fill=\"none\" stroke=\"#000000\" d=\"M862.2043,-468.0745C877.7553,-449.8138 892.5,-432.5 892.5,-432.5 892.5,-432.5 1066.5177,-179.4123 1137.1924,-76.6243\"/>\n<polygon fill=\"#000000\" stroke=\"#000000\" points=\"1140.12,-78.5439 1142.9018,-68.3208 1134.3519,-74.5779 1140.12,-78.5439\"/>\n</g>\n<!-- 12 -->\n<g id=\"node13\" class=\"node\">\n<title>12</title>\n<path fill=\"#39e581\" stroke=\"#000000\" d=\"M804,-68C804,-68 713,-68 713,-68 707,-68 701,-62 701,-56 701,-56 701,-12 701,-12 701,-6 707,0 713,0 713,0 804,0 804,0 810,0 816,-6 816,-12 816,-12 816,-56 816,-56 816,-62 810,-68 804,-68\"/>\n<text text-anchor=\"start\" x=\"716\" y=\"-52.8\" font-family=\"Helvetica,sans-Serif\" font-size=\"14.00\" fill=\"#000000\">entropy = 0.0</text>\n<text text-anchor=\"start\" x=\"719\" y=\"-37.8\" font-family=\"Helvetica,sans-Serif\" font-size=\"14.00\" fill=\"#000000\">samples = 3</text>\n<text text-anchor=\"start\" x=\"709\" y=\"-22.8\" font-family=\"Helvetica,sans-Serif\" font-size=\"14.00\" fill=\"#000000\">value = [0, 3, 0]</text>\n<text text-anchor=\"start\" x=\"716\" y=\"-7.8\" font-family=\"Helvetica,sans-Serif\" font-size=\"14.00\" fill=\"#000000\">class = baixo</text>\n</g>\n<!-- 11&#45;&gt;12 -->\n<g id=\"edge12\" class=\"edge\">\n<title>11&#45;&gt;12</title>\n<path fill=\"none\" stroke=\"#000000\" d=\"M818.5665,-349.3489C805.6535,-281.5557 780.204,-147.9457 766.9594,-78.4119\"/>\n<polygon fill=\"#000000\" stroke=\"#000000\" points=\"770.3289,-77.396 765.0195,-68.2275 763.4525,-78.7058 770.3289,-77.396\"/>\n</g>\n<!-- 13 -->\n<g id=\"node14\" class=\"node\">\n<title>13</title>\n<path fill=\"#9cf2c0\" stroke=\"#000000\" d=\"M938.5,-313.5C938.5,-313.5 844.5,-313.5 844.5,-313.5 838.5,-313.5 832.5,-307.5 832.5,-301.5 832.5,-301.5 832.5,-242.5 832.5,-242.5 832.5,-236.5 838.5,-230.5 844.5,-230.5 844.5,-230.5 938.5,-230.5 938.5,-230.5 944.5,-230.5 950.5,-236.5 950.5,-242.5 950.5,-242.5 950.5,-301.5 950.5,-301.5 950.5,-307.5 944.5,-313.5 938.5,-313.5\"/>\n<text text-anchor=\"start\" x=\"843.5\" y=\"-298.3\" font-family=\"Helvetica,sans-Serif\" font-size=\"14.00\" fill=\"#000000\">garantias ≤ 0.5</text>\n<text text-anchor=\"start\" x=\"840.5\" y=\"-283.3\" font-family=\"Helvetica,sans-Serif\" font-size=\"14.00\" fill=\"#000000\">entropy = 0.918</text>\n<text text-anchor=\"start\" x=\"852\" y=\"-268.3\" font-family=\"Helvetica,sans-Serif\" font-size=\"14.00\" fill=\"#000000\">samples = 3</text>\n<text text-anchor=\"start\" x=\"842\" y=\"-253.3\" font-family=\"Helvetica,sans-Serif\" font-size=\"14.00\" fill=\"#000000\">value = [1, 2, 0]</text>\n<text text-anchor=\"start\" x=\"849\" y=\"-238.3\" font-family=\"Helvetica,sans-Serif\" font-size=\"14.00\" fill=\"#000000\">class = baixo</text>\n</g>\n<!-- 11&#45;&gt;13 -->\n<g id=\"edge13\" class=\"edge\">\n<title>11&#45;&gt;13</title>\n<path fill=\"none\" stroke=\"#000000\" d=\"M849.2338,-349.3796C853.9565,-340.7335 858.9824,-331.5322 863.859,-322.6042\"/>\n<polygon fill=\"#000000\" stroke=\"#000000\" points=\"866.947,-324.252 868.6691,-313.7981 860.8037,-320.8964 866.947,-324.252\"/>\n</g>\n<!-- 14 -->\n<g id=\"node15\" class=\"node\">\n<title>14</title>\n<path fill=\"#39e581\" stroke=\"#000000\" d=\"M937,-68C937,-68 846,-68 846,-68 840,-68 834,-62 834,-56 834,-56 834,-12 834,-12 834,-6 840,0 846,0 846,0 937,0 937,0 943,0 949,-6 949,-12 949,-12 949,-56 949,-56 949,-62 943,-68 937,-68\"/>\n<text text-anchor=\"start\" x=\"849\" y=\"-52.8\" font-family=\"Helvetica,sans-Serif\" font-size=\"14.00\" fill=\"#000000\">entropy = 0.0</text>\n<text text-anchor=\"start\" x=\"852\" y=\"-37.8\" font-family=\"Helvetica,sans-Serif\" font-size=\"14.00\" fill=\"#000000\">samples = 1</text>\n<text text-anchor=\"start\" x=\"842\" y=\"-22.8\" font-family=\"Helvetica,sans-Serif\" font-size=\"14.00\" fill=\"#000000\">value = [0, 1, 0]</text>\n<text text-anchor=\"start\" x=\"849\" y=\"-7.8\" font-family=\"Helvetica,sans-Serif\" font-size=\"14.00\" fill=\"#000000\">class = baixo</text>\n</g>\n<!-- 13&#45;&gt;14 -->\n<g id=\"edge14\" class=\"edge\">\n<title>13&#45;&gt;14</title>\n<path fill=\"none\" stroke=\"#000000\" d=\"M891.5,-230.2712C891.5,-187.6911 891.5,-121.8568 891.5,-78.3511\"/>\n<polygon fill=\"#000000\" stroke=\"#000000\" points=\"895.0001,-78.3416 891.5,-68.3417 888.0001,-78.3417 895.0001,-78.3416\"/>\n</g>\n<!-- 15 -->\n<g id=\"node16\" class=\"node\">\n<title>15</title>\n<path fill=\"#ffffff\" stroke=\"#000000\" d=\"M1070,-68C1070,-68 979,-68 979,-68 973,-68 967,-62 967,-56 967,-56 967,-12 967,-12 967,-6 973,0 979,0 979,0 1070,0 1070,0 1076,0 1082,-6 1082,-12 1082,-12 1082,-56 1082,-56 1082,-62 1076,-68 1070,-68\"/>\n<text text-anchor=\"start\" x=\"982\" y=\"-52.8\" font-family=\"Helvetica,sans-Serif\" font-size=\"14.00\" fill=\"#000000\">entropy = 1.0</text>\n<text text-anchor=\"start\" x=\"985\" y=\"-37.8\" font-family=\"Helvetica,sans-Serif\" font-size=\"14.00\" fill=\"#000000\">samples = 2</text>\n<text text-anchor=\"start\" x=\"975\" y=\"-22.8\" font-family=\"Helvetica,sans-Serif\" font-size=\"14.00\" fill=\"#000000\">value = [1, 1, 0]</text>\n<text text-anchor=\"start\" x=\"988\" y=\"-7.8\" font-family=\"Helvetica,sans-Serif\" font-size=\"14.00\" fill=\"#000000\">class = alto</text>\n</g>\n<!-- 13&#45;&gt;15 -->\n<g id=\"edge15\" class=\"edge\">\n<title>13&#45;&gt;15</title>\n<path fill=\"none\" stroke=\"#000000\" d=\"M914.819,-230.2712C938.8146,-187.3317 976.0254,-120.744 1000.3284,-77.2545\"/>\n<polygon fill=\"#000000\" stroke=\"#000000\" points=\"1003.4861,-78.7785 1005.3091,-68.3417 997.3755,-75.3637 1003.4861,-78.7785\"/>\n</g>\n</g>\n</svg>\n"
          },
          "metadata": {
            "tags": []
          },
          "execution_count": 112
        }
      ]
    },
    {
      "cell_type": "code",
      "metadata": {
        "id": "9007yVVVvQ32"
      },
      "source": [
        ""
      ],
      "execution_count": null,
      "outputs": []
    },
    {
      "cell_type": "markdown",
      "metadata": {
        "id": "EtV55fnVzVOh"
      },
      "source": [
        "### Censo"
      ]
    },
    {
      "cell_type": "code",
      "metadata": {
        "id": "7dG0BQ05zVOi",
        "colab": {
          "base_uri": "https://localhost:8080/"
        },
        "outputId": "0dff6608-4e3a-485e-9264-0a2f5b53c485"
      },
      "source": [
        "import pandas as pd\n",
        "# load data\n",
        "filename = \"census.csv\"\n",
        "df = pd.read_csv(filename)\n",
        "\n",
        "# identify columns with string data\n",
        "lst_col_str = [col for col in df.columns if df[col].dtypes==\"object\"]\n",
        "# remove target name\n",
        "lst_col_str.pop(-1)  \n",
        "# get index from categorical features\n",
        "lst_idx_col_str = [df.columns.get_loc(col_name) for col_name in lst_col_str]\n",
        "\n",
        "# split features and target\n",
        "X = df.iloc[:,:-1].values\n",
        "y = df.iloc[:,-1].values\n",
        "\n",
        "# Encoding\n",
        "from sklearn.preprocessing import LabelEncoder, OneHotEncoder\n",
        "from sklearn.compose import ColumnTransformer\n",
        "\n",
        "labelencoder = LabelEncoder()\n",
        "\n",
        "for idx in lst_idx_col_str:\n",
        "    X[:,idx] = labelencoder.fit_transform(X[:,idx])\n",
        "\n",
        "onehotencorder = ColumnTransformer(\n",
        "    transformers=[\n",
        "                  (\"OneHot\", OneHotEncoder(), lst_idx_col_str)\n",
        "                  ]\n",
        "                  , remainder='passthrough'\n",
        "    )\n",
        "X = onehotencorder.fit_transform(X).toarray()\n",
        "\n",
        "labelencorder = LabelEncoder()\n",
        "y = labelencorder.fit_transform(y)\n",
        "\n",
        "# Standardization\n",
        "from sklearn.preprocessing import StandardScaler\n",
        "scaler = StandardScaler()\n",
        "# X = scaler.fit_transform(X)  # perde interpretação\n",
        "# nao faz muito sentido junto com o one_hot_encoder\n",
        "\n",
        "\n",
        "# Train-Test Split\n",
        "from sklearn.model_selection import train_test_split\n",
        "X_train, X_test, y_train, y_test = train_test_split(\n",
        "    X\n",
        "    , y\n",
        "    , test_size=0.15\n",
        "    , random_state=0\n",
        ")\n",
        "\n",
        "# Classifier\n",
        "from sklearn.tree import (\n",
        "    DecisionTreeClassifier, export_graphviz, plot_tree, export_text\n",
        ")\n",
        "# decision tree doesn't deal with categorical data\n",
        "clf = DecisionTreeClassifier(criterion='entropy', random_state=0)\n",
        "# Train\n",
        "clf.fit(X_train, y_train)\n",
        "# Predict\n",
        "y_pred = clf.predict(X_test)\n",
        "# Evaluation\n",
        "from sklearn.metrics import confusion_matrix, accuracy_score\n",
        "score = accuracy_score(y_test, y_pred)\n",
        "confusion_matrix = confusion_matrix(y_test, y_pred)\n",
        "\n",
        "print(confusion_matrix)\n",
        "print(score)\n"
      ],
      "execution_count": null,
      "outputs": [
        {
          "output_type": "stream",
          "text": [
            "[[3238  455]\n",
            " [ 457  735]]\n",
            "0.8133060388945752\n"
          ],
          "name": "stdout"
        }
      ]
    },
    {
      "cell_type": "code",
      "metadata": {
        "id": "8xl5xrFNRqXw"
      },
      "source": [
        ""
      ],
      "execution_count": null,
      "outputs": []
    },
    {
      "cell_type": "markdown",
      "metadata": {
        "id": "BVOJfiEHb7n-"
      },
      "source": [
        "## Indução de regras\n",
        "1. oneR\n",
        "2. PRISM\n",
        "* árvores de decisão vs regras\n",
        " 1. compreensibilidade\n",
        " 1. pouco espaço de armazenamento\n",
        " 1. regras + lento que árvores\n",
        " 1. árvores + eficiente que regras\n",
        "* Regras CN2 com orange (biblioteca, sklearn não tem regras)\n",
        "* interface gráfica via orange\n",
        "* baseline: Majority Learner\n",
        "\n",
        "1. Durante a criação de regras com o algoritmo OneR, aquelas que irão compor a coluna de regras são aquelas que tem maior frequência\n",
        "1. Para criar uma regra utilizando o algoritmo PRISM, é levado em consideração a abrangência, ou seja, a quantidade de vezes que o atributo/valor aparece em relação ao atributo alvo (V)\n",
        "1. O algoritmo Majority Learner (ou ZeroR) define o percentual de acerto a partir da maioria dos registros (V)\n",
        "\n",
        "\n",
        "\n",
        "\n",
        "\n",
        "\n",
        "\n",
        "\n",
        "\n",
        "\n",
        "\n",
        "\n",
        "\n",
        "\n",
        "\n",
        "\n",
        "\n",
        "\n",
        "\n",
        "\n",
        "\n",
        "\n"
      ]
    },
    {
      "cell_type": "markdown",
      "metadata": {
        "id": "oAsEkivycpFP"
      },
      "source": [
        "Ex.\n",
        "\n",
        "| Regra                                         | Risco |\n",
        "|-----------------------------------------------|-------|\n",
        "| Se renda >= 35\\.000 E história = boa          | Baixo |\n",
        "| Se renda >= 35\\.000 E história = desconhecida | Baixo |\n",
        "| Default                                       | Alto  |"
      ]
    },
    {
      "cell_type": "code",
      "metadata": {
        "id": "cng-bRfUdTfl",
        "colab": {
          "base_uri": "https://localhost:8080/"
        },
        "outputId": "c9353d41-68da-404d-e6b6-8d0996a73a8b"
      },
      "source": [
        "test0_raw = {\n",
        "    \"historia\": \"boa\",\n",
        "    \"divida\": \"alta\",\n",
        "    \"garantias\": \"nenhuma\",\n",
        "    \"renda\": \"acima_35\"\n",
        "}\n",
        "\n",
        "test1_raw = {\n",
        "    \"historia\": \"ruim\",\n",
        "    \"divida\": \"alta\",\n",
        "    \"garantias\": \"adequada\",\n",
        "    \"renda\": \"0_15\"\n",
        "}\n",
        "\n",
        "def regra(test):\n",
        "    if ( (test['renda'] == \"acima_35\") and\n",
        "        (test['historia'] in ['boa','desconhecida'])):\n",
        "        return 'baixo'\n",
        "    return 'alto'\n",
        "\n",
        "print(\"test0:\", regra(test=test0_raw))\n",
        "print(\"test1:\", regra(test=test1_raw))\n"
      ],
      "execution_count": null,
      "outputs": [
        {
          "output_type": "stream",
          "text": [
            "test0: baixo\n",
            "test1: alto\n"
          ],
          "name": "stdout"
        }
      ]
    },
    {
      "cell_type": "markdown",
      "metadata": {
        "id": "OPnEvpjbchOY"
      },
      "source": [
        "### OneR\n",
        "1. Testar coisas simples primeiro\n",
        "1. Um atributo faz todo o trabalho"
      ]
    },
    {
      "cell_type": "code",
      "metadata": {
        "id": "obUQy9MYfgtX",
        "colab": {
          "base_uri": "https://localhost:8080/",
          "height": 200
        },
        "outputId": "de9e9a37-f931-4424-a6e1-c7586eabdec9"
      },
      "source": [
        "filename = \"risco_credito\"\n",
        "df = pd.read_csv(filename+\".csv\")\n",
        "# create lists\n",
        "lst_features = list(df.columns[:-1])\n",
        "lst_col = lst_features[:]\n",
        "# Fix col name\n",
        "target = 'risco'\n",
        "lst_col.append(target)\n",
        "df.columns = lst_col\n",
        "df.head()"
      ],
      "execution_count": null,
      "outputs": [
        {
          "output_type": "execute_result",
          "data": {
            "text/html": [
              "<div>\n",
              "<style scoped>\n",
              "    .dataframe tbody tr th:only-of-type {\n",
              "        vertical-align: middle;\n",
              "    }\n",
              "\n",
              "    .dataframe tbody tr th {\n",
              "        vertical-align: top;\n",
              "    }\n",
              "\n",
              "    .dataframe thead th {\n",
              "        text-align: right;\n",
              "    }\n",
              "</style>\n",
              "<table border=\"1\" class=\"dataframe\">\n",
              "  <thead>\n",
              "    <tr style=\"text-align: right;\">\n",
              "      <th></th>\n",
              "      <th>historia</th>\n",
              "      <th>divida</th>\n",
              "      <th>garantias</th>\n",
              "      <th>renda</th>\n",
              "      <th>c#risco</th>\n",
              "    </tr>\n",
              "  </thead>\n",
              "  <tbody>\n",
              "    <tr>\n",
              "      <th>0</th>\n",
              "      <td>ruim</td>\n",
              "      <td>alta</td>\n",
              "      <td>nenhuma</td>\n",
              "      <td>0_15</td>\n",
              "      <td>alto</td>\n",
              "    </tr>\n",
              "    <tr>\n",
              "      <th>1</th>\n",
              "      <td>desconhecida</td>\n",
              "      <td>alta</td>\n",
              "      <td>nenhuma</td>\n",
              "      <td>15_35</td>\n",
              "      <td>alto</td>\n",
              "    </tr>\n",
              "    <tr>\n",
              "      <th>2</th>\n",
              "      <td>desconhecida</td>\n",
              "      <td>baixa</td>\n",
              "      <td>nenhuma</td>\n",
              "      <td>15_35</td>\n",
              "      <td>moderado</td>\n",
              "    </tr>\n",
              "    <tr>\n",
              "      <th>3</th>\n",
              "      <td>desconhecida</td>\n",
              "      <td>baixa</td>\n",
              "      <td>nenhuma</td>\n",
              "      <td>acima_35</td>\n",
              "      <td>alto</td>\n",
              "    </tr>\n",
              "    <tr>\n",
              "      <th>4</th>\n",
              "      <td>desconhecida</td>\n",
              "      <td>baixa</td>\n",
              "      <td>nenhuma</td>\n",
              "      <td>acima_35</td>\n",
              "      <td>baixo</td>\n",
              "    </tr>\n",
              "  </tbody>\n",
              "</table>\n",
              "</div>"
            ],
            "text/plain": [
              "       historia divida garantias     renda   c#risco\n",
              "0          ruim   alta   nenhuma      0_15      alto\n",
              "1  desconhecida   alta   nenhuma     15_35      alto\n",
              "2  desconhecida  baixa   nenhuma     15_35  moderado\n",
              "3  desconhecida  baixa   nenhuma  acima_35      alto\n",
              "4  desconhecida  baixa   nenhuma  acima_35     baixo"
            ]
          },
          "metadata": {
            "tags": []
          },
          "execution_count": 128
        }
      ]
    },
    {
      "cell_type": "code",
      "metadata": {
        "id": "LAlZpsL5f-iX",
        "colab": {
          "base_uri": "https://localhost:8080/",
          "height": 200
        },
        "outputId": "f90e8bd0-1342-49a5-8642-a85602bbea54"
      },
      "source": [
        "# multindex table\n",
        "melt = df.melt(target).value_counts()\n",
        "df_cross = melt.unstack(level=0).T.fillna(0).astype(int)\n",
        "df_cross"
      ],
      "execution_count": null,
      "outputs": [
        {
          "output_type": "execute_result",
          "data": {
            "text/html": [
              "<div>\n",
              "<style scoped>\n",
              "    .dataframe tbody tr th:only-of-type {\n",
              "        vertical-align: middle;\n",
              "    }\n",
              "\n",
              "    .dataframe tbody tr th {\n",
              "        vertical-align: top;\n",
              "    }\n",
              "\n",
              "    .dataframe thead tr th {\n",
              "        text-align: left;\n",
              "    }\n",
              "\n",
              "    .dataframe thead tr:last-of-type th {\n",
              "        text-align: right;\n",
              "    }\n",
              "</style>\n",
              "<table border=\"1\" class=\"dataframe\">\n",
              "  <thead>\n",
              "    <tr>\n",
              "      <th>variable</th>\n",
              "      <th colspan=\"2\" halign=\"left\">divida</th>\n",
              "      <th colspan=\"2\" halign=\"left\">garantias</th>\n",
              "      <th colspan=\"3\" halign=\"left\">historia</th>\n",
              "      <th colspan=\"3\" halign=\"left\">renda</th>\n",
              "    </tr>\n",
              "    <tr>\n",
              "      <th>value</th>\n",
              "      <th>alta</th>\n",
              "      <th>baixa</th>\n",
              "      <th>adequada</th>\n",
              "      <th>nenhuma</th>\n",
              "      <th>boa</th>\n",
              "      <th>desconhecida</th>\n",
              "      <th>ruim</th>\n",
              "      <th>0_15</th>\n",
              "      <th>15_35</th>\n",
              "      <th>acima_35</th>\n",
              "    </tr>\n",
              "    <tr>\n",
              "      <th>risco</th>\n",
              "      <th></th>\n",
              "      <th></th>\n",
              "      <th></th>\n",
              "      <th></th>\n",
              "      <th></th>\n",
              "      <th></th>\n",
              "      <th></th>\n",
              "      <th></th>\n",
              "      <th></th>\n",
              "      <th></th>\n",
              "    </tr>\n",
              "  </thead>\n",
              "  <tbody>\n",
              "    <tr>\n",
              "      <th>alto</th>\n",
              "      <td>4</td>\n",
              "      <td>2</td>\n",
              "      <td>0</td>\n",
              "      <td>6</td>\n",
              "      <td>1</td>\n",
              "      <td>2</td>\n",
              "      <td>3</td>\n",
              "      <td>3</td>\n",
              "      <td>2</td>\n",
              "      <td>1</td>\n",
              "    </tr>\n",
              "    <tr>\n",
              "      <th>baixo</th>\n",
              "      <td>2</td>\n",
              "      <td>3</td>\n",
              "      <td>2</td>\n",
              "      <td>3</td>\n",
              "      <td>3</td>\n",
              "      <td>2</td>\n",
              "      <td>0</td>\n",
              "      <td>0</td>\n",
              "      <td>0</td>\n",
              "      <td>5</td>\n",
              "    </tr>\n",
              "    <tr>\n",
              "      <th>moderado</th>\n",
              "      <td>1</td>\n",
              "      <td>2</td>\n",
              "      <td>1</td>\n",
              "      <td>2</td>\n",
              "      <td>1</td>\n",
              "      <td>1</td>\n",
              "      <td>1</td>\n",
              "      <td>0</td>\n",
              "      <td>2</td>\n",
              "      <td>1</td>\n",
              "    </tr>\n",
              "  </tbody>\n",
              "</table>\n",
              "</div>"
            ],
            "text/plain": [
              "variable divida       garantias          ... historia renda               \n",
              "value      alta baixa  adequada nenhuma  ...     ruim  0_15 15_35 acima_35\n",
              "risco                                    ...                              \n",
              "alto          4     2         0       6  ...        3     3     2        1\n",
              "baixo         2     3         2       3  ...        0     0     0        5\n",
              "moderado      1     2         1       2  ...        1     0     2        1\n",
              "\n",
              "[3 rows x 10 columns]"
            ]
          },
          "metadata": {
            "tags": []
          },
          "execution_count": 159
        }
      ]
    },
    {
      "cell_type": "code",
      "metadata": {
        "id": "QRle8TQvfgg3",
        "colab": {
          "base_uri": "https://localhost:8080/"
        },
        "outputId": "e06dd02d-6b91-4739-f492-9fe840231aff"
      },
      "source": [
        "df_cross_idxmax = df_cross.idxmax()\n",
        "df_cross_idxmax"
      ],
      "execution_count": null,
      "outputs": [
        {
          "output_type": "execute_result",
          "data": {
            "text/plain": [
              "variable   value       \n",
              "divida     alta             alto\n",
              "           baixa           baixo\n",
              "garantias  adequada        baixo\n",
              "           nenhuma          alto\n",
              "historia   boa             baixo\n",
              "           desconhecida     alto\n",
              "           ruim             alto\n",
              "renda      0_15             alto\n",
              "           15_35            alto\n",
              "           acima_35        baixo\n",
              "dtype: object"
            ]
          },
          "metadata": {
            "tags": []
          },
          "execution_count": 145
        }
      ]
    },
    {
      "cell_type": "code",
      "metadata": {
        "id": "YyLsjfn5h7Md",
        "colab": {
          "base_uri": "https://localhost:8080/"
        },
        "outputId": "af290d77-8c86-4912-ac49-981f94e6f192"
      },
      "source": [
        "dct_rules = df_cross_idxmax.to_dict()\n",
        "{f\"if {k[0]} is {k[1]}, then {target} is {v}\" for k,v in dct_rules.items()}"
      ],
      "execution_count": null,
      "outputs": [
        {
          "output_type": "execute_result",
          "data": {
            "text/plain": [
              "{'if divida is alta, then risco is alto',\n",
              " 'if divida is baixa, then risco is baixo',\n",
              " 'if garantias is adequada, then risco is baixo',\n",
              " 'if garantias is nenhuma, then risco is alto',\n",
              " 'if historia is boa, then risco is baixo',\n",
              " 'if historia is desconhecida, then risco is alto',\n",
              " 'if historia is ruim, then risco is alto',\n",
              " 'if renda is 0_15, then risco is alto',\n",
              " 'if renda is 15_35, then risco is alto',\n",
              " 'if renda is acima_35, then risco is baixo'}"
            ]
          },
          "metadata": {
            "tags": []
          },
          "execution_count": 136
        }
      ]
    },
    {
      "cell_type": "code",
      "metadata": {
        "id": "EfSQZlVhlrH7",
        "colab": {
          "base_uri": "https://localhost:8080/",
          "height": 200
        },
        "outputId": "81253570-9ded-42c0-8da4-ca40848e5c75"
      },
      "source": [
        "dct = {}\n",
        "for idx in range(len(df_cross_idxmax)):\n",
        "    col = df_cross_idxmax.index[idx]\n",
        "    predito = df_cross_idxmax[idx]\n",
        "    total = df_cross[col].sum()\n",
        "    acerto = df_cross[col].loc[predito]\n",
        "    erro = total - acerto\n",
        "    dct[col] = {\"predito\": predito,\n",
        "                \"erro\": erro,\n",
        "                \"acerto\": acerto,\n",
        "                \"total\": total}\n",
        "df_erro_rule = pd.DataFrame.from_dict(dct)\n",
        "df_erro_rule"
      ],
      "execution_count": null,
      "outputs": [
        {
          "output_type": "execute_result",
          "data": {
            "text/html": [
              "<div>\n",
              "<style scoped>\n",
              "    .dataframe tbody tr th:only-of-type {\n",
              "        vertical-align: middle;\n",
              "    }\n",
              "\n",
              "    .dataframe tbody tr th {\n",
              "        vertical-align: top;\n",
              "    }\n",
              "\n",
              "    .dataframe thead tr th {\n",
              "        text-align: left;\n",
              "    }\n",
              "</style>\n",
              "<table border=\"1\" class=\"dataframe\">\n",
              "  <thead>\n",
              "    <tr>\n",
              "      <th></th>\n",
              "      <th colspan=\"2\" halign=\"left\">divida</th>\n",
              "      <th colspan=\"2\" halign=\"left\">garantias</th>\n",
              "      <th colspan=\"3\" halign=\"left\">historia</th>\n",
              "      <th colspan=\"3\" halign=\"left\">renda</th>\n",
              "    </tr>\n",
              "    <tr>\n",
              "      <th></th>\n",
              "      <th>alta</th>\n",
              "      <th>baixa</th>\n",
              "      <th>adequada</th>\n",
              "      <th>nenhuma</th>\n",
              "      <th>boa</th>\n",
              "      <th>desconhecida</th>\n",
              "      <th>ruim</th>\n",
              "      <th>0_15</th>\n",
              "      <th>15_35</th>\n",
              "      <th>acima_35</th>\n",
              "    </tr>\n",
              "  </thead>\n",
              "  <tbody>\n",
              "    <tr>\n",
              "      <th>predito</th>\n",
              "      <td>alto</td>\n",
              "      <td>baixo</td>\n",
              "      <td>baixo</td>\n",
              "      <td>alto</td>\n",
              "      <td>baixo</td>\n",
              "      <td>alto</td>\n",
              "      <td>alto</td>\n",
              "      <td>alto</td>\n",
              "      <td>alto</td>\n",
              "      <td>baixo</td>\n",
              "    </tr>\n",
              "    <tr>\n",
              "      <th>erro</th>\n",
              "      <td>3</td>\n",
              "      <td>4</td>\n",
              "      <td>1</td>\n",
              "      <td>5</td>\n",
              "      <td>2</td>\n",
              "      <td>3</td>\n",
              "      <td>1</td>\n",
              "      <td>0</td>\n",
              "      <td>2</td>\n",
              "      <td>2</td>\n",
              "    </tr>\n",
              "    <tr>\n",
              "      <th>acerto</th>\n",
              "      <td>4</td>\n",
              "      <td>3</td>\n",
              "      <td>2</td>\n",
              "      <td>6</td>\n",
              "      <td>3</td>\n",
              "      <td>2</td>\n",
              "      <td>3</td>\n",
              "      <td>3</td>\n",
              "      <td>2</td>\n",
              "      <td>5</td>\n",
              "    </tr>\n",
              "    <tr>\n",
              "      <th>total</th>\n",
              "      <td>7</td>\n",
              "      <td>7</td>\n",
              "      <td>3</td>\n",
              "      <td>11</td>\n",
              "      <td>5</td>\n",
              "      <td>5</td>\n",
              "      <td>4</td>\n",
              "      <td>3</td>\n",
              "      <td>4</td>\n",
              "      <td>7</td>\n",
              "    </tr>\n",
              "  </tbody>\n",
              "</table>\n",
              "</div>"
            ],
            "text/plain": [
              "        divida        garantias          ... historia renda               \n",
              "          alta  baixa  adequada nenhuma  ...     ruim  0_15 15_35 acima_35\n",
              "predito   alto  baixo     baixo    alto  ...     alto  alto  alto    baixo\n",
              "erro         3      4         1       5  ...        1     0     2        2\n",
              "acerto       4      3         2       6  ...        3     3     2        5\n",
              "total        7      7         3      11  ...        4     3     4        7\n",
              "\n",
              "[4 rows x 10 columns]"
            ]
          },
          "metadata": {
            "tags": []
          },
          "execution_count": 212
        }
      ]
    },
    {
      "cell_type": "code",
      "metadata": {
        "id": "fF4rdZyxxArm",
        "colab": {
          "base_uri": "https://localhost:8080/",
          "height": 139
        },
        "outputId": "1b849905-8863-4676-a8b1-70d65481e2b3"
      },
      "source": [
        "dct_erro_feature = dict(zip(lst_features,\n",
        "                            [{\"erro\":0, \"total\":0, \"proportion\":0}\n",
        "                             for _ in range(len(lst_features))]))\n",
        "\n",
        "for col in lst_features:\n",
        "    dct_erro_feature[col][\"erro\"] = df_erro_rule.loc[\"erro\",col].sum()\n",
        "    dct_erro_feature[col][\"total\"] = df_erro_rule.loc[\"total\",col].sum()\n",
        "    dct_erro_feature[col][\"proportion\"] = (dct_erro_feature[col][\"erro\"]\n",
        "                                           / dct_erro_feature[col][\"total\"])\n",
        "df_erro_feature = pd.DataFrame.from_dict(dct_erro_feature)\n",
        "df_erro_feature"
      ],
      "execution_count": null,
      "outputs": [
        {
          "output_type": "execute_result",
          "data": {
            "text/html": [
              "<div>\n",
              "<style scoped>\n",
              "    .dataframe tbody tr th:only-of-type {\n",
              "        vertical-align: middle;\n",
              "    }\n",
              "\n",
              "    .dataframe tbody tr th {\n",
              "        vertical-align: top;\n",
              "    }\n",
              "\n",
              "    .dataframe thead th {\n",
              "        text-align: right;\n",
              "    }\n",
              "</style>\n",
              "<table border=\"1\" class=\"dataframe\">\n",
              "  <thead>\n",
              "    <tr style=\"text-align: right;\">\n",
              "      <th></th>\n",
              "      <th>historia</th>\n",
              "      <th>divida</th>\n",
              "      <th>garantias</th>\n",
              "      <th>renda</th>\n",
              "    </tr>\n",
              "  </thead>\n",
              "  <tbody>\n",
              "    <tr>\n",
              "      <th>erro</th>\n",
              "      <td>6.000000</td>\n",
              "      <td>7.0</td>\n",
              "      <td>6.000000</td>\n",
              "      <td>4.000000</td>\n",
              "    </tr>\n",
              "    <tr>\n",
              "      <th>total</th>\n",
              "      <td>14.000000</td>\n",
              "      <td>14.0</td>\n",
              "      <td>14.000000</td>\n",
              "      <td>14.000000</td>\n",
              "    </tr>\n",
              "    <tr>\n",
              "      <th>proportion</th>\n",
              "      <td>0.428571</td>\n",
              "      <td>0.5</td>\n",
              "      <td>0.428571</td>\n",
              "      <td>0.285714</td>\n",
              "    </tr>\n",
              "  </tbody>\n",
              "</table>\n",
              "</div>"
            ],
            "text/plain": [
              "             historia  divida  garantias      renda\n",
              "erro         6.000000     7.0   6.000000   4.000000\n",
              "total       14.000000    14.0  14.000000  14.000000\n",
              "proportion   0.428571     0.5   0.428571   0.285714"
            ]
          },
          "metadata": {
            "tags": []
          },
          "execution_count": 216
        }
      ]
    },
    {
      "cell_type": "code",
      "metadata": {
        "id": "WfYseGIHit42",
        "colab": {
          "base_uri": "https://localhost:8080/",
          "height": 35
        },
        "outputId": "0176970b-4e12-4362-8cf8-6d31432d8488"
      },
      "source": [
        "oneR_feature = df_erro_feature.T.loc[:,\"proportion\"].idxmin()\n",
        "oneR_feature"
      ],
      "execution_count": null,
      "outputs": [
        {
          "output_type": "execute_result",
          "data": {
            "application/vnd.google.colaboratory.intrinsic+json": {
              "type": "string"
            },
            "text/plain": [
              "'renda'"
            ]
          },
          "metadata": {
            "tags": []
          },
          "execution_count": 220
        }
      ]
    },
    {
      "cell_type": "code",
      "metadata": {
        "id": "OrW00yVu2Ieu",
        "colab": {
          "base_uri": "https://localhost:8080/"
        },
        "outputId": "9ff1baf1-315e-4f97-a87d-a465e8d1be09"
      },
      "source": [
        "{f\"IF {k[0]}=={k[1]} THEN {target}={v}\" \n",
        " for k,v in dct_rules.items()\n",
        " if k[0] == oneR_feature\n",
        " }"
      ],
      "execution_count": null,
      "outputs": [
        {
          "output_type": "execute_result",
          "data": {
            "text/plain": [
              "{'if renda is 0_15, then risco is alto',\n",
              " 'if renda is 15_35, then risco is alto',\n",
              " 'if renda is acima_35, then risco is baixo'}"
            ]
          },
          "metadata": {
            "tags": []
          },
          "execution_count": 222
        }
      ]
    },
    {
      "cell_type": "markdown",
      "metadata": {
        "id": "li5Jkiiq3wGX"
      },
      "source": [
        "### Prism"
      ]
    },
    {
      "cell_type": "code",
      "metadata": {
        "id": "Gdx0IC4g2pmy",
        "colab": {
          "base_uri": "https://localhost:8080/",
          "height": 230
        },
        "outputId": "7702b3c7-9938-4d14-a2d6-1e4feaefc9b3"
      },
      "source": [
        "import pandas as pd\n",
        "filename = \"risco_credito\"\n",
        "df = pd.read_csv(filename+\".csv\")\n",
        "# create lists\n",
        "lst_features = list(df.columns[:-1])\n",
        "lst_col = lst_features[:]\n",
        "# Fix col name\n",
        "target = 'risco'\n",
        "lst_col.append(target)\n",
        "df.columns = lst_col"
      ],
      "execution_count": null,
      "outputs": [
        {
          "output_type": "execute_result",
          "data": {
            "text/html": [
              "<div>\n",
              "<style scoped>\n",
              "    .dataframe tbody tr th:only-of-type {\n",
              "        vertical-align: middle;\n",
              "    }\n",
              "\n",
              "    .dataframe tbody tr th {\n",
              "        vertical-align: top;\n",
              "    }\n",
              "\n",
              "    .dataframe thead th {\n",
              "        text-align: right;\n",
              "    }\n",
              "</style>\n",
              "<table border=\"1\" class=\"dataframe\">\n",
              "  <thead>\n",
              "    <tr style=\"text-align: right;\">\n",
              "      <th></th>\n",
              "      <th>historia</th>\n",
              "      <th>divida</th>\n",
              "      <th>garantias</th>\n",
              "      <th>renda</th>\n",
              "    </tr>\n",
              "  </thead>\n",
              "  <tbody>\n",
              "    <tr>\n",
              "      <th>0</th>\n",
              "      <td>ruim</td>\n",
              "      <td>alta</td>\n",
              "      <td>nenhuma</td>\n",
              "      <td>0_15</td>\n",
              "    </tr>\n",
              "    <tr>\n",
              "      <th>1</th>\n",
              "      <td>desconhecida</td>\n",
              "      <td>alta</td>\n",
              "      <td>nenhuma</td>\n",
              "      <td>15_35</td>\n",
              "    </tr>\n",
              "    <tr>\n",
              "      <th>3</th>\n",
              "      <td>desconhecida</td>\n",
              "      <td>baixa</td>\n",
              "      <td>nenhuma</td>\n",
              "      <td>acima_35</td>\n",
              "    </tr>\n",
              "    <tr>\n",
              "      <th>6</th>\n",
              "      <td>ruim</td>\n",
              "      <td>baixa</td>\n",
              "      <td>nenhuma</td>\n",
              "      <td>0_15</td>\n",
              "    </tr>\n",
              "    <tr>\n",
              "      <th>10</th>\n",
              "      <td>boa</td>\n",
              "      <td>alta</td>\n",
              "      <td>nenhuma</td>\n",
              "      <td>0_15</td>\n",
              "    </tr>\n",
              "    <tr>\n",
              "      <th>13</th>\n",
              "      <td>ruim</td>\n",
              "      <td>alta</td>\n",
              "      <td>nenhuma</td>\n",
              "      <td>15_35</td>\n",
              "    </tr>\n",
              "  </tbody>\n",
              "</table>\n",
              "</div>"
            ],
            "text/plain": [
              "        historia divida garantias     renda\n",
              "0           ruim   alta   nenhuma      0_15\n",
              "1   desconhecida   alta   nenhuma     15_35\n",
              "3   desconhecida  baixa   nenhuma  acima_35\n",
              "6           ruim  baixa   nenhuma      0_15\n",
              "10           boa   alta   nenhuma      0_15\n",
              "13          ruim   alta   nenhuma     15_35"
            ]
          },
          "metadata": {
            "tags": []
          },
          "execution_count": 41
        }
      ]
    },
    {
      "cell_type": "code",
      "metadata": {
        "id": "2TzlNt_WGj5D"
      },
      "source": [
        "def get_mode_rule(df):\n",
        "    rule = df.melt().value_counts().idxmax()\n",
        "    return rule\n",
        "\n",
        "def update_df(df, rule):\n",
        "    mask = df.loc[:,rule[0]]==rule[1]\n",
        "    df = df.loc[mask].drop(columns=rule[0])\n",
        "    return df\n"
      ],
      "execution_count": null,
      "outputs": []
    },
    {
      "cell_type": "code",
      "metadata": {
        "id": "meYDyCDyHuY8",
        "colab": {
          "base_uri": "https://localhost:8080/",
          "height": 170
        },
        "outputId": "14fe8338-2da0-409a-d7be-fa178c0af4c4"
      },
      "source": [
        "dct_rule = {}\n",
        "for possible_target in df[target].unique():\n",
        "    df_target = df.loc[df[target]==possible_target].drop(columns=target)\n",
        "    dct_rule[possible_target] = {}\n",
        "\n",
        "    for idx in range(len(lst_features)):\n",
        "        rule = get_mode_rule(df=df_target)\n",
        "        df_target = update_df(df=df_target, rule=rule)\n",
        "        dct_rule[possible_target][idx] = rule\n",
        "\n",
        "pd.DataFrame.from_dict(dct_rule)"
      ],
      "execution_count": null,
      "outputs": [
        {
          "output_type": "execute_result",
          "data": {
            "text/html": [
              "<div>\n",
              "<style scoped>\n",
              "    .dataframe tbody tr th:only-of-type {\n",
              "        vertical-align: middle;\n",
              "    }\n",
              "\n",
              "    .dataframe tbody tr th {\n",
              "        vertical-align: top;\n",
              "    }\n",
              "\n",
              "    .dataframe thead th {\n",
              "        text-align: right;\n",
              "    }\n",
              "</style>\n",
              "<table border=\"1\" class=\"dataframe\">\n",
              "  <thead>\n",
              "    <tr style=\"text-align: right;\">\n",
              "      <th></th>\n",
              "      <th>alto</th>\n",
              "      <th>moderado</th>\n",
              "      <th>baixo</th>\n",
              "    </tr>\n",
              "  </thead>\n",
              "  <tbody>\n",
              "    <tr>\n",
              "      <th>0</th>\n",
              "      <td>(garantias, nenhuma)</td>\n",
              "      <td>(renda, 15_35)</td>\n",
              "      <td>(renda, acima_35)</td>\n",
              "    </tr>\n",
              "    <tr>\n",
              "      <th>1</th>\n",
              "      <td>(divida, alta)</td>\n",
              "      <td>(garantias, nenhuma)</td>\n",
              "      <td>(historia, boa)</td>\n",
              "    </tr>\n",
              "    <tr>\n",
              "      <th>2</th>\n",
              "      <td>(renda, 15_35)</td>\n",
              "      <td>(historia, desconhecida)</td>\n",
              "      <td>(garantias, nenhuma)</td>\n",
              "    </tr>\n",
              "    <tr>\n",
              "      <th>3</th>\n",
              "      <td>(historia, ruim)</td>\n",
              "      <td>(divida, baixa)</td>\n",
              "      <td>(divida, baixa)</td>\n",
              "    </tr>\n",
              "  </tbody>\n",
              "</table>\n",
              "</div>"
            ],
            "text/plain": [
              "                   alto                  moderado                 baixo\n",
              "0  (garantias, nenhuma)            (renda, 15_35)     (renda, acima_35)\n",
              "1        (divida, alta)      (garantias, nenhuma)       (historia, boa)\n",
              "2        (renda, 15_35)  (historia, desconhecida)  (garantias, nenhuma)\n",
              "3      (historia, ruim)           (divida, baixa)       (divida, baixa)"
            ]
          },
          "metadata": {
            "tags": []
          },
          "execution_count": 50
        }
      ]
    },
    {
      "cell_type": "markdown",
      "metadata": {
        "id": "wt4MHV2g3wtw"
      },
      "source": [
        "### Orange\n",
        "\n",
        "target column name has to start with `c#` (class)\n",
        "id column name has to start with `i#` (ignore)"
      ]
    },
    {
      "cell_type": "code",
      "metadata": {
        "id": "eDGryeiN_-_U",
        "colab": {
          "base_uri": "https://localhost:8080/"
        },
        "outputId": "374d18c7-0b10-496e-a200-aa8a5d18eab3"
      },
      "source": [
        "!pip install orange3"
      ],
      "execution_count": null,
      "outputs": [
        {
          "output_type": "stream",
          "text": [
            "Collecting orange3\n",
            "\u001b[?25l  Downloading https://files.pythonhosted.org/packages/6d/43/4b5609b7471b9e5439c4fdb4d8456445167e44d06406b1ba458cc2c38954/Orange3-3.27.1-cp36-cp36m-manylinux1_x86_64.whl (2.7MB)\n",
            "\u001b[K     |████████████████████████████████| 2.7MB 4.2MB/s \n",
            "\u001b[?25hCollecting httpx~=0.14.0\n",
            "\u001b[?25l  Downloading https://files.pythonhosted.org/packages/bb/f9/e187987c0f7e22c92953f2e33d5a68df545719cf6798a1f08340db5fcac1/httpx-0.14.3-py3-none-any.whl (62kB)\n",
            "\u001b[K     |████████████████████████████████| 71kB 6.8MB/s \n",
            "\u001b[?25hRequirement already satisfied: openpyxl in /usr/local/lib/python3.6/dist-packages (from orange3) (2.5.9)\n",
            "Collecting keyrings.alt\n",
            "  Downloading https://files.pythonhosted.org/packages/96/42/7e9c46e7ccf02e32095e42f369666958911464c20e6faf971f4a47dde8db/keyrings.alt-4.0.1-py3-none-any.whl\n",
            "Requirement already satisfied: pandas in /usr/local/lib/python3.6/dist-packages (from orange3) (1.1.4)\n",
            "Requirement already satisfied: joblib>=0.9.4 in /usr/local/lib/python3.6/dist-packages (from orange3) (0.17.0)\n",
            "Collecting AnyQt>=0.0.11\n",
            "\u001b[?25l  Downloading https://files.pythonhosted.org/packages/0e/e9/bde5c1e6871068ff78b2ea18bd2e9bfa7cd6ecfd1e8f1c280cb238138bc1/AnyQt-0.0.11-py2.py3-none-any.whl (46kB)\n",
            "\u001b[K     |████████████████████████████████| 51kB 5.7MB/s \n",
            "\u001b[?25hRequirement already satisfied: xlrd>=0.9.2 in /usr/local/lib/python3.6/dist-packages (from orange3) (1.1.0)\n",
            "Requirement already satisfied: pip>=9.0 in /usr/local/lib/python3.6/dist-packages (from orange3) (19.3.1)\n",
            "Collecting keyring\n",
            "  Downloading https://files.pythonhosted.org/packages/53/14/1c952bcd21255f42f9ba0280d3abd8074dca2c27d136eb749b98ab478f72/keyring-21.5.0-py3-none-any.whl\n",
            "Collecting pyqtgraph>=0.11.0\n",
            "\u001b[?25l  Downloading https://files.pythonhosted.org/packages/30/e2/4888d65753d5987a3201175ebf32258eaf1bb79c00f25a71e831c2f32e0a/pyqtgraph-0.11.0-py3-none-any.whl (800kB)\n",
            "\u001b[K     |████████████████████████████████| 808kB 21.0MB/s \n",
            "\u001b[?25hCollecting orange-widget-base>=4.8.1\n",
            "\u001b[?25l  Downloading https://files.pythonhosted.org/packages/72/16/309262506f2f9b5105980f170df51c864cc11f058d9e841e67e17b8ba706/orange_widget_base-4.9.0-py3-none-any.whl (229kB)\n",
            "\u001b[K     |████████████████████████████████| 235kB 26.8MB/s \n",
            "\u001b[?25hRequirement already satisfied: bottleneck>=1.0.0 in /usr/local/lib/python3.6/dist-packages (from orange3) (1.3.2)\n",
            "Collecting baycomp>=1.0.2\n",
            "  Downloading https://files.pythonhosted.org/packages/05/69/3029fe9fe13e4ec14d9d6be695ee197e4cd75221c7f77eb95ac5604035b4/baycomp-1.0.2-py3-none-any.whl\n",
            "Requirement already satisfied: setuptools>=36.3 in /usr/local/lib/python3.6/dist-packages (from orange3) (50.3.2)\n",
            "Requirement already satisfied: docutils in /usr/local/lib/python3.6/dist-packages (from orange3) (0.16)\n",
            "Requirement already satisfied: networkx in /usr/local/lib/python3.6/dist-packages (from orange3) (2.5)\n",
            "Requirement already satisfied: python-louvain>=0.13 in /usr/local/lib/python3.6/dist-packages (from orange3) (0.14)\n",
            "Requirement already satisfied: numpy>=1.16.0 in /usr/local/lib/python3.6/dist-packages (from orange3) (1.18.5)\n",
            "Collecting PyQt5!=5.15.1,>=5.12\n",
            "\u001b[?25l  Downloading https://files.pythonhosted.org/packages/45/32/341fa5b9fc010ff4e520efe7cdbad24e61890230cf4eb12c871f512ee456/PyQt5-5.15.0-5.15.0-cp35.cp36.cp37.cp38-abi3-manylinux2014_x86_64.whl (76.6MB)\n",
            "\u001b[K     |████████████████████████████████| 76.6MB 52kB/s \n",
            "\u001b[?25hRequirement already satisfied: scipy>=0.16.1 in /usr/local/lib/python3.6/dist-packages (from orange3) (1.4.1)\n",
            "Collecting PyQtWebEngine>=5.12\n",
            "\u001b[?25l  Downloading https://files.pythonhosted.org/packages/02/8b/becb67d45d0b30afd68fa64c0292ef53d448e0345c7e9083923e859d0888/PyQtWebEngine-5.15.1-5.15.1-cp35.cp36.cp37.cp38.cp39-abi3-manylinux2014_x86_64.whl (66.1MB)\n",
            "\u001b[K     |████████████████████████████████| 66.2MB 66kB/s \n",
            "\u001b[?25hCollecting openTSNE>=0.4.3\n",
            "\u001b[?25l  Downloading https://files.pythonhosted.org/packages/79/3e/e2d8bffa1524b5b108e3d5b00d93b458d500b5c65df7fd50b7490d38c6f8/openTSNE-0.4.4-cp36-cp36m-manylinux1_x86_64.whl (1.8MB)\n",
            "\u001b[K     |████████████████████████████████| 1.8MB 41.6MB/s \n",
            "\u001b[?25hRequirement already satisfied: scikit-learn!=0.23.0,>=0.22.0 in /usr/local/lib/python3.6/dist-packages (from orange3) (0.22.2.post1)\n",
            "Requirement already satisfied: matplotlib>=2.0.0 in /usr/local/lib/python3.6/dist-packages (from orange3) (3.2.2)\n",
            "Collecting orange-canvas-core<0.2a,>=0.1.18\n",
            "\u001b[?25l  Downloading https://files.pythonhosted.org/packages/50/6d/034cf6e8c4773178af5b1727315602358a4767835e31ce8839268b42467c/orange_canvas_core-0.1.18-py3-none-any.whl (456kB)\n",
            "\u001b[K     |████████████████████████████████| 460kB 41.2MB/s \n",
            "\u001b[?25hRequirement already satisfied: requests in /usr/local/lib/python3.6/dist-packages (from orange3) (2.23.0)\n",
            "Collecting xlsxwriter\n",
            "\u001b[?25l  Downloading https://files.pythonhosted.org/packages/6b/41/bf1aae04932d1eaffee1fc5f8b38ca47bbbf07d765129539bc4bcce1ce0c/XlsxWriter-1.3.7-py2.py3-none-any.whl (144kB)\n",
            "\u001b[K     |████████████████████████████████| 153kB 42.5MB/s \n",
            "\u001b[?25hCollecting serverfiles\n",
            "  Downloading https://files.pythonhosted.org/packages/72/2d/edd104137443a831eed2f1cedfe96eb003302097b43e7519a98467c5fe44/serverfiles-0.3.0.tar.gz\n",
            "Requirement already satisfied: chardet>=3.0.2 in /usr/local/lib/python3.6/dist-packages (from orange3) (3.0.4)\n",
            "Requirement already satisfied: pyyaml in /usr/local/lib/python3.6/dist-packages (from orange3) (3.13)\n",
            "Collecting sniffio\n",
            "  Downloading https://files.pythonhosted.org/packages/52/b0/7b2e028b63d092804b6794595871f936aafa5e9322dcaaad50ebf67445b3/sniffio-1.2.0-py3-none-any.whl\n",
            "Requirement already satisfied: certifi in /usr/local/lib/python3.6/dist-packages (from httpx~=0.14.0->orange3) (2020.6.20)\n",
            "Collecting httpcore==0.10.*\n",
            "\u001b[?25l  Downloading https://files.pythonhosted.org/packages/48/20/eb122c9a73251caa7a0a5c60ccc0707843e917aabc65ed34162a54fee147/httpcore-0.10.2-py3-none-any.whl (48kB)\n",
            "\u001b[K     |████████████████████████████████| 51kB 3.5MB/s \n",
            "\u001b[?25hCollecting rfc3986[idna2008]<2,>=1.3\n",
            "  Downloading https://files.pythonhosted.org/packages/78/be/7b8b99fd74ff5684225f50dd0e865393d2265656ef3b4ba9eaaaffe622b8/rfc3986-1.4.0-py2.py3-none-any.whl\n",
            "Requirement already satisfied: et-xmlfile in /usr/local/lib/python3.6/dist-packages (from openpyxl->orange3) (1.0.1)\n",
            "Requirement already satisfied: jdcal in /usr/local/lib/python3.6/dist-packages (from openpyxl->orange3) (1.4.1)\n",
            "Requirement already satisfied: pytz>=2017.2 in /usr/local/lib/python3.6/dist-packages (from pandas->orange3) (2018.9)\n",
            "Requirement already satisfied: python-dateutil>=2.7.3 in /usr/local/lib/python3.6/dist-packages (from pandas->orange3) (2.8.1)\n",
            "Collecting jeepney>=0.4.2; sys_platform == \"linux\"\n",
            "\u001b[?25l  Downloading https://files.pythonhosted.org/packages/91/9a/f1156be6a384c897ca8d08072b2bc26f4377a16c2935da3bb61bc2d01dc6/jeepney-0.5.0-py3-none-any.whl (45kB)\n",
            "\u001b[K     |████████████████████████████████| 51kB 4.7MB/s \n",
            "\u001b[?25hRequirement already satisfied: importlib-metadata>=1; python_version < \"3.8\" in /usr/local/lib/python3.6/dist-packages (from keyring->orange3) (2.0.0)\n",
            "Collecting SecretStorage>=3.2; sys_platform == \"linux\"\n",
            "  Downloading https://files.pythonhosted.org/packages/2e/ab/9104db89ca0f1a23e5572456f39bc608164b86b4eaab048677b815327b88/SecretStorage-3.2.0-py3-none-any.whl\n",
            "Requirement already satisfied: decorator>=4.3.0 in /usr/local/lib/python3.6/dist-packages (from networkx->orange3) (4.4.2)\n",
            "Collecting PyQt5-sip<13,>=12.8\n",
            "\u001b[?25l  Downloading https://files.pythonhosted.org/packages/f5/a7/3c52a17b065bcc69a6ca791b88901feeacd410235ec4b23441d975d0ecf4/PyQt5_sip-12.8.1-cp36-cp36m-manylinux1_x86_64.whl (278kB)\n",
            "\u001b[K     |████████████████████████████████| 286kB 42.8MB/s \n",
            "\u001b[?25hRequirement already satisfied: pyparsing!=2.0.4,!=2.1.2,!=2.1.6,>=2.0.1 in /usr/local/lib/python3.6/dist-packages (from matplotlib>=2.0.0->orange3) (2.4.7)\n",
            "Requirement already satisfied: cycler>=0.10 in /usr/local/lib/python3.6/dist-packages (from matplotlib>=2.0.0->orange3) (0.10.0)\n",
            "Requirement already satisfied: kiwisolver>=1.0.1 in /usr/local/lib/python3.6/dist-packages (from matplotlib>=2.0.0->orange3) (1.3.1)\n",
            "Requirement already satisfied: cachecontrol[filecache] in /usr/local/lib/python3.6/dist-packages (from orange-canvas-core<0.2a,>=0.1.18->orange3) (0.12.6)\n",
            "Collecting dictdiffer\n",
            "  Downloading https://files.pythonhosted.org/packages/97/92/350b6b6ec39c5f87d98d04c91a50c498518716a05368e6dea88b5c69b590/dictdiffer-0.8.1-py2.py3-none-any.whl\n",
            "Collecting commonmark>=0.8.1\n",
            "\u001b[?25l  Downloading https://files.pythonhosted.org/packages/b1/92/dfd892312d822f36c55366118b95d914e5f16de11044a27cf10a7d71bbbf/commonmark-0.9.1-py2.py3-none-any.whl (51kB)\n",
            "\u001b[K     |████████████████████████████████| 51kB 6.2MB/s \n",
            "\u001b[?25hRequirement already satisfied: urllib3!=1.25.0,!=1.25.1,<1.26,>=1.21.1 in /usr/local/lib/python3.6/dist-packages (from requests->orange3) (1.24.3)\n",
            "Requirement already satisfied: idna<3,>=2.5 in /usr/local/lib/python3.6/dist-packages (from requests->orange3) (2.10)\n",
            "Collecting contextvars>=2.1; python_version < \"3.7\"\n",
            "  Downloading https://files.pythonhosted.org/packages/83/96/55b82d9f13763be9d672622e1b8106c85acb83edd7cc2fa5bc67cd9877e9/contextvars-2.4.tar.gz\n",
            "Collecting h11<0.10,>=0.8\n",
            "\u001b[?25l  Downloading https://files.pythonhosted.org/packages/5a/fd/3dad730b0f95e78aeeb742f96fa7bbecbdd56a58e405d3da440d5bfb90c6/h11-0.9.0-py2.py3-none-any.whl (53kB)\n",
            "\u001b[K     |████████████████████████████████| 61kB 6.5MB/s \n",
            "\u001b[?25hRequirement already satisfied: six>=1.5 in /usr/local/lib/python3.6/dist-packages (from python-dateutil>=2.7.3->pandas->orange3) (1.15.0)\n",
            "Requirement already satisfied: zipp>=0.5 in /usr/local/lib/python3.6/dist-packages (from importlib-metadata>=1; python_version < \"3.8\"->keyring->orange3) (3.4.0)\n",
            "Collecting cryptography>=2.0\n",
            "\u001b[?25l  Downloading https://files.pythonhosted.org/packages/4c/a2/6565c5271a79e3c96d7a079053b4d8408a740d4bf365f0f5f244a807bd09/cryptography-3.2.1-cp35-abi3-manylinux2010_x86_64.whl (2.6MB)\n",
            "\u001b[K     |████████████████████████████████| 2.6MB 43.2MB/s \n",
            "\u001b[?25hRequirement already satisfied: msgpack>=0.5.2 in /usr/local/lib/python3.6/dist-packages (from cachecontrol[filecache]->orange-canvas-core<0.2a,>=0.1.18->orange3) (1.0.0)\n",
            "Collecting lockfile>=0.9; extra == \"filecache\"\n",
            "  Downloading https://files.pythonhosted.org/packages/c8/22/9460e311f340cb62d26a38c419b1381b8593b0bb6b5d1f056938b086d362/lockfile-0.12.2-py2.py3-none-any.whl\n",
            "Collecting immutables>=0.9\n",
            "\u001b[?25l  Downloading https://files.pythonhosted.org/packages/99/e0/ea6fd4697120327d26773b5a84853f897a68e33d3f9376b00a8ff96e4f63/immutables-0.14-cp36-cp36m-manylinux1_x86_64.whl (98kB)\n",
            "\u001b[K     |████████████████████████████████| 102kB 10.7MB/s \n",
            "\u001b[?25hRequirement already satisfied: cffi!=1.11.3,>=1.8 in /usr/local/lib/python3.6/dist-packages (from cryptography>=2.0->SecretStorage>=3.2; sys_platform == \"linux\"->keyring->orange3) (1.14.3)\n",
            "Requirement already satisfied: pycparser in /usr/local/lib/python3.6/dist-packages (from cffi!=1.11.3,>=1.8->cryptography>=2.0->SecretStorage>=3.2; sys_platform == \"linux\"->keyring->orange3) (2.20)\n",
            "Building wheels for collected packages: serverfiles, contextvars\n",
            "  Building wheel for serverfiles (setup.py) ... \u001b[?25l\u001b[?25hdone\n",
            "  Created wheel for serverfiles: filename=serverfiles-0.3.0-cp36-none-any.whl size=6885 sha256=64fddaaa7f0521c96e8f4b5f7796f7cbc6eeb5ee5666eeb48435035131f9d851\n",
            "  Stored in directory: /root/.cache/pip/wheels/60/e5/74/d6859d4e5fb6968bc38576bf2520fe20509600741c49605067\n",
            "  Building wheel for contextvars (setup.py) ... \u001b[?25l\u001b[?25hdone\n",
            "  Created wheel for contextvars: filename=contextvars-2.4-cp36-none-any.whl size=7666 sha256=1ea7774289f52f46cee97d2e3d99a9d781b692491b634a76f89ff52be608f355\n",
            "  Stored in directory: /root/.cache/pip/wheels/a5/7d/68/1ebae2668bda2228686e3c1cf16f2c2384cea6e9334ad5f6de\n",
            "Successfully built serverfiles contextvars\n",
            "Installing collected packages: immutables, contextvars, sniffio, h11, httpcore, rfc3986, httpx, keyrings.alt, AnyQt, jeepney, cryptography, SecretStorage, keyring, pyqtgraph, dictdiffer, commonmark, orange-canvas-core, orange-widget-base, baycomp, PyQt5-sip, PyQt5, PyQtWebEngine, openTSNE, xlsxwriter, serverfiles, orange3, lockfile\n",
            "Successfully installed AnyQt-0.0.11 PyQt5-5.15.0 PyQt5-sip-12.8.1 PyQtWebEngine-5.15.1 SecretStorage-3.2.0 baycomp-1.0.2 commonmark-0.9.1 contextvars-2.4 cryptography-3.2.1 dictdiffer-0.8.1 h11-0.9.0 httpcore-0.10.2 httpx-0.14.3 immutables-0.14 jeepney-0.5.0 keyring-21.5.0 keyrings.alt-4.0.1 lockfile-0.12.2 openTSNE-0.4.4 orange-canvas-core-0.1.18 orange-widget-base-4.9.0 orange3-3.27.1 pyqtgraph-0.11.0 rfc3986-1.4.0 serverfiles-0.3.0 sniffio-1.2.0 xlsxwriter-1.3.7\n"
          ],
          "name": "stdout"
        }
      ]
    },
    {
      "cell_type": "code",
      "metadata": {
        "colab": {
          "base_uri": "https://localhost:8080/"
        },
        "id": "tzXfG-LMyD80",
        "outputId": "4882786a-2c82-44c8-cb7c-b2942272c775"
      },
      "source": [
        "import Orange\n",
        "\n",
        "base = Orange.data.Table('risco_credito.csv')\n",
        "base.domain\n",
        "\n",
        "cn2_learner = Orange.classification.rules.CN2Learner()\n",
        "clf = cn2_learner(base)\n",
        "for rules in clf.rule_list:\n",
        "    print(rules)\n",
        "    \n",
        "lst_test = [['boa', 'alta', 'nenhuma', 'acima_35'],\n",
        "            ['ruim', 'alta', 'adequada', '0_15']]\n",
        "# história boa, dívida alta, garantias nenhuma, renda > 35\n",
        "# história ruim, dívida alta, garantias adequada, renda < 15\n",
        "predicted_label = clf(lst_test)\n",
        "for idx, label in enumerate(predicted_label):\n",
        "    print(f\"\\ntest {idx}: {base.domain.class_var.values[label]} {lst_test[idx]}\")\n",
        "\n",
        "    "
      ],
      "execution_count": null,
      "outputs": [
        {
          "output_type": "stream",
          "text": [
            "IF renda==0_15 THEN risco=alto \n",
            "IF historia==boa AND divida!=alta THEN risco=baixo \n",
            "IF historia==boa AND garantias!=nenhuma THEN risco=baixo \n",
            "IF historia==boa AND renda!=15_35 THEN risco=baixo \n",
            "IF historia==boa THEN risco=moderado \n",
            "IF divida==alta THEN risco=alto \n",
            "IF historia!=desconhecida THEN risco=moderado \n",
            "IF garantias==adequada THEN risco=baixo \n",
            "IF renda==15_35 THEN risco=moderado \n",
            "IF historia==desconhecida THEN risco=baixo \n",
            "IF TRUE THEN risco=alto \n",
            "\n",
            "test 0: baixo ['boa', 'alta', 'nenhuma', 'acima_35']\n",
            "\n",
            "test 1: alto ['ruim', 'alta', 'adequada', '0_15']\n"
          ],
          "name": "stdout"
        }
      ]
    },
    {
      "cell_type": "code",
      "metadata": {
        "colab": {
          "base_uri": "https://localhost:8080/"
        },
        "id": "gANrZbxH27g1",
        "outputId": "6ccaf70a-4298-48d2-c887-04d7a0db2f93"
      },
      "source": [
        "import Orange\n",
        "\n",
        "base = Orange.data.Table('credit_data.csv')\n",
        "base.domain\n",
        "\n",
        "# default: target=0 (not paid), 1 (paid)\n",
        "\n",
        "base_split = Orange.evaluation.testing.sample(base, n=0.25)\n",
        "base_train = base_split[1]\n",
        "base_test = base_split[0]\n",
        "print(f\"Train size: {len(base_train)}\")\n",
        "print(f\"Test size: {len(base_test)}\")\n",
        "\n",
        "cn2_learner = Orange.classification.rules.CN2Learner()\n",
        "clf = cn2_learner(base_train)\n",
        "\n",
        "for rules in clf.rule_list:\n",
        "    print(rules)\n",
        "\n",
        "predicted_label = Orange.evaluation.testing.TestOnTestData(\n",
        "    base_train, base_test, [clf])\n",
        "\n",
        "# TODO: check error for cn2_learner\n",
        "# print(Orange.evaluation.CA(predicted_label))"
      ],
      "execution_count": null,
      "outputs": [
        {
          "output_type": "stream",
          "text": [
            "Train size: 1500\n",
            "Test size: 500\n",
            "IF age>=34.9015168333426 THEN default=0 \n",
            "IF loan<=2495.13299137587 AND income>=20145.9885970689 THEN default=0 \n",
            "IF loan>=7708.31562497011 AND loan>=9601.375482171099 THEN default=1 \n",
            "IF loan>=7708.31562497011 AND age>=20.9909665295854 THEN default=1 \n",
            "IF income>=58132.4712652713 AND age>=20.5852316911332 THEN default=0 \n",
            "IF loan>=5836.56338145928 AND loan>=9595.28628892989 THEN default=0 \n",
            "IF income<=31702.3342987522 AND loan>=3665.88089899456 THEN default=1 \n",
            "IF age<=19.372464833315497 AND age>=19.372464833315497 THEN default=1 \n",
            "IF age<=19.487914884463 AND age>=19.487914884463 THEN default=1 \n",
            "IF age<=19.497102680616102 AND age>=19.497102680616102 THEN default=1 \n",
            "IF age<=19.613058435730604 AND age>=19.613058435730604 THEN default=1 \n",
            "IF age<=19.6300378022715 AND age>=19.6300378022715 THEN default=1 \n",
            "IF age<=19.6645014896058 AND age>=19.6645014896058 THEN default=1 \n",
            "IF age<=19.777385845780397 AND age>=19.777385845780397 THEN default=1 \n",
            "IF age<=19.9466844960116 AND age>=19.9466844960116 THEN default=1 \n",
            "IF loan<=5862.83302915672 AND income>=49413.2985407487 THEN default=0 \n",
            "IF income<=22089.8374845274 AND age>=21.3656869572587 THEN default=1 \n",
            "IF age<=23.4877088945359 AND age>=23.4877088945359 THEN default=1 \n",
            "IF age<=23.5900381784886 AND age>=23.5900381784886 THEN default=1 \n",
            "IF age<=23.7205218081363 AND age>=23.7205218081363 THEN default=1 \n",
            "IF age<=23.7774331844412 AND age>=23.7774331844412 THEN default=1 \n",
            "IF age<=23.973829543218002 AND age>=23.973829543218002 THEN default=1 \n",
            "IF age<=24.0740541960113 AND age>=24.0740541960113 THEN default=1 \n",
            "IF age<=24.4157260977663 AND age>=24.4157260977663 THEN default=1 \n",
            "IF age<=24.6631496008486 AND age>=24.6631496008486 THEN default=1 \n",
            "IF income>=32720.504798926402 AND age>=34.669146894011604 THEN default=1 \n",
            "IF age>=34.6052206088789 THEN default=0 \n",
            "IF income>=60019.447135273396 AND loan>=8402.415585756991 THEN default=1 \n",
            "IF income>=60019.447135273396 THEN default=0 \n",
            "IF loan>=5094.6700842702 AND loan>=6342.56790924236 THEN default=1 \n",
            "IF age<=24.7831077934243 AND age>=24.7831077934243 THEN default=1 \n",
            "IF age<=26.101500419899804 AND age>=26.101500419899804 THEN default=1 \n",
            "IF age<=26.2068803249858 AND age>=26.2068803249858 THEN default=1 \n",
            "IF age<=26.4306427794509 AND age>=26.4306427794509 THEN default=1 \n",
            "IF age<=26.6331468173303 AND age>=26.6331468173303 THEN default=1 \n",
            "IF age<=32.516422502230895 AND age>=32.516422502230895 THEN default=1 \n",
            "IF age<=26.723162444774104 AND age>=26.723162444774104 THEN default=1 \n",
            "IF age<=26.854012909811 AND age>=26.854012909811 THEN default=1 \n",
            "IF age<=27.0216773641296 AND age>=27.0216773641296 THEN default=1 \n",
            "IF age<=27.3684103004634 AND age>=27.3684103004634 THEN default=1 \n",
            "IF age<=32.6760442531668 AND age>=32.6760442531668 THEN default=1 \n",
            "IF loan<=4849.33378471958 AND income>=37162.8882177174 THEN default=0 \n",
            "IF income>=48290.880459826396 THEN default=0 \n",
            "IF loan>=5532.3438431879 THEN default=1 \n",
            "IF income>=42522.5757574663 THEN default=0 \n",
            "IF income>=36680.1819228567 THEN default=1 \n",
            "IF income>=34237.5754192472 THEN default=0 \n",
            "IF income>=34192.1605216339 THEN default=1 \n",
            "IF age>=33.804503521882 THEN default=1 \n",
            "IF income>=29724.4768752716 AND loan>=5282.728560308379 THEN default=1 \n",
            "IF income>=29724.4768752716 THEN default=0 \n",
            "IF income>=27514.427963178598 THEN default=1 \n",
            "IF loan>=2971.00330971188 THEN default=1 \n",
            "IF income<=24857.6948815025 THEN default=0 \n",
            "IF income<=27407.056202646298 THEN default=0 \n",
            "IF TRUE THEN default=0 \n"
          ],
          "name": "stdout"
        }
      ]
    },
    {
      "cell_type": "markdown",
      "metadata": {
        "id": "wJC09UcPRSfE"
      },
      "source": [
        "### Majority learner\n",
        "\n",
        "Count: baseline classifier"
      ]
    },
    {
      "cell_type": "code",
      "metadata": {
        "colab": {
          "base_uri": "https://localhost:8080/"
        },
        "id": "S6e4XXgxEOyI",
        "outputId": "91f9195b-a139-4dcf-eaa6-b9965b645771"
      },
      "source": [
        "clf = Orange.classification.MajorityLearner()  # count\n",
        "\n",
        "predicted_label = Orange.evaluation.testing.TestOnTestData(\n",
        "    base_train, base_test, [clf])\n",
        "\n",
        "# TODO: check error for cn2_learner\n",
        "print(Orange.evaluation.CA(predicted_label))"
      ],
      "execution_count": null,
      "outputs": [
        {
          "output_type": "stream",
          "text": [
            "[0.862]\n"
          ],
          "name": "stdout"
        }
      ]
    },
    {
      "cell_type": "code",
      "metadata": {
        "colab": {
          "base_uri": "https://localhost:8080/"
        },
        "id": "3uWeggT3QmFP",
        "outputId": "703f9a2f-3df3-45e4-f1e6-8f43f904cf2b"
      },
      "source": [
        "import numpy as np\n",
        "(unique, counts) = np.unique(base_test._Y, return_counts=True)\n",
        "frequencies = np.asarray((unique, counts)).T\n",
        "\n",
        "print(frequencies)"
      ],
      "execution_count": null,
      "outputs": [
        {
          "output_type": "stream",
          "text": [
            "[[  0. 424.]\n",
            " [  1.  76.]]\n"
          ],
          "name": "stdout"
        }
      ]
    },
    {
      "cell_type": "code",
      "metadata": {
        "colab": {
          "base_uri": "https://localhost:8080/"
        },
        "id": "n1Gtd-3CO7KT",
        "outputId": "5b5ba16c-e52e-4a40-87be-45002ce85344"
      },
      "source": [
        "counts"
      ],
      "execution_count": null,
      "outputs": [
        {
          "output_type": "execute_result",
          "data": {
            "text/plain": [
              "array([424,  76])"
            ]
          },
          "metadata": {
            "tags": []
          },
          "execution_count": 75
        }
      ]
    },
    {
      "cell_type": "code",
      "metadata": {
        "colab": {
          "base_uri": "https://localhost:8080/"
        },
        "id": "-zjqyg20Q36w",
        "outputId": "f88e4baf-f11c-41f7-a4e5-c83c77b60955"
      },
      "source": [
        "counts/counts.sum()"
      ],
      "execution_count": null,
      "outputs": [
        {
          "output_type": "execute_result",
          "data": {
            "text/plain": [
              "array([0.848, 0.152])"
            ]
          },
          "metadata": {
            "tags": []
          },
          "execution_count": 77
        }
      ]
    },
    {
      "cell_type": "code",
      "metadata": {
        "id": "KSuEcdxFQ6A3"
      },
      "source": [
        ""
      ],
      "execution_count": null,
      "outputs": []
    },
    {
      "cell_type": "markdown",
      "metadata": {
        "id": "vKI4EhqlzRQw"
      },
      "source": [
        "# Instância"
      ]
    },
    {
      "cell_type": "markdown",
      "metadata": {
        "id": "d0HLq6CezVvK"
      },
      "source": [
        "## K-Nearest Neighbors (kNN)\r\n",
        "* maioria dos métodos de aprendizagem constroem um modelo após o treinamento e descarta após criar o modelo\r\n",
        "* sem modelo (lazy)\r\n",
        "* calcula distância, armazena dados\r\n",
        "* previsão somente quando nova instância precisa ser classificada\r\n",
        "\r\n",
        "* simples e poderoso\r\n",
        "* relação complexa entre variáveis\r\n",
        "* k pequeno sensível a ruídos e outliers\r\n",
        "* k alto: overfitting\r\n",
        "* k: 3-5\r\n",
        "* lento para prever\r\n",
        "* distâncias (Euclideana, Pearson, Índice de Tanimoto, City Block)\r\n",
        "\r\n",
        "\r\n",
        "1. seleciona os k *atributos* disponíveis e de maior valor conforme a quantidade de atributos semelhantes. Classifica pela maioria (F)\r\n",
        "\r\n",
        "2. *Constrói* um modelo e *descarta* dados pós-treinamento (F)\r\n",
        "\r\n",
        "3. Escalas diferentes, normalização e padronização\r\n",
        "\r\n",
        "4. Normalização: entre 0 e 1. Padronização: considera média e desvio padrão\r\n",
        "\r\n",
        "5. Geral: distância Euclidiana. Outras: *não* podem (oeficiente de Pearson) (F)"
      ]
    },
    {
      "cell_type": "markdown",
      "metadata": {
        "id": "i1hGn5td0GlQ"
      },
      "source": [
        "Distância Euclideana\r\n",
        "\r\n",
        "$$ DE (x,y) = \\sqrt{\\sum_{i}^{p}(x_i-y_i)^2} $$"
      ]
    },
    {
      "cell_type": "code",
      "metadata": {
        "colab": {
          "base_uri": "https://localhost:8080/"
        },
        "id": "VEOzl2WG0V4H",
        "outputId": "4b050334-14a4-4482-f503-d70faf5c2007"
      },
      "source": [
        "import numpy as np\r\n",
        "\r\n",
        "x = np.array([5,7,9])\r\n",
        "y = np.array([5,5,5])\r\n",
        "\r\n",
        "x-y\r\n",
        "(x-y)**2\r\n",
        "sum((x-y)**2)\r\n",
        "np.sqrt(sum((x-y)**2))\r\n",
        "np.linalg.norm(x-y)"
      ],
      "execution_count": null,
      "outputs": [
        {
          "output_type": "execute_result",
          "data": {
            "text/plain": [
              "4.47213595499958"
            ]
          },
          "metadata": {
            "tags": []
          },
          "execution_count": 8
        }
      ]
    },
    {
      "cell_type": "markdown",
      "metadata": {
        "id": "wRtxGA6c1fdk"
      },
      "source": [
        "Sistema de recomendação"
      ]
    },
    {
      "cell_type": "code",
      "metadata": {
        "colab": {
          "base_uri": "https://localhost:8080/",
          "height": 279
        },
        "id": "qacQsm8l0qlH",
        "outputId": "5f369a5e-bb0e-4f11-fabf-ab2a51949af2"
      },
      "source": [
        "import pandas as pd\r\n",
        "df = pd.DataFrame(np.array([[\"Ana\",\"Star Trek\", 3],\r\n",
        "                             [\"Ana\",\"Exterminador do Futuro\", 3.5],\r\n",
        "                             [\"Cláudia\",\"Star Trek\", 3],\r\n",
        "                             [\"Cláudia\",\"Exterminador do Futuro\", 4],\r\n",
        "                             [\"Marcos\",\"Star Trek\", 1.5],\r\n",
        "                             [\"Marcos\",\"Exterminador do Futuro\", 5]]),\r\n",
        "                   columns=['Usuário', 'Filme', 'Nota'])\r\n",
        "df[\"Nota\"] = df[\"Nota\"].astype('float64')\r\n",
        "df_pivot = df.pivot(index=\"Usuário\",columns=\"Filme\",values=\"Nota\")\r\n",
        "\r\n",
        "import seaborn as sns\r\n",
        "\r\n",
        "# df_pivot = df_pivot.reset_index()\r\n",
        "sns.scatterplot(data=df_pivot.reset_index(), x='Star Trek', y='Exterminador do Futuro', hue=\"Usuário\");"
      ],
      "execution_count": null,
      "outputs": [
        {
          "output_type": "display_data",
          "data": {
            "image/png": "[encoded data removed]",
            "text/plain": [
              "<Figure size 432x288 with 1 Axes>"
            ]
          },
          "metadata": {
            "tags": [],
            "needs_background": "light"
          }
        }
      ]
    },
    {
      "cell_type": "code",
      "metadata": {
        "colab": {
          "base_uri": "https://localhost:8080/",
          "height": 173
        },
        "id": "5jv9v1Fb6sh3",
        "outputId": "8bfa2a61-438a-46b0-ad7d-9d6c830359d3"
      },
      "source": [
        "df_pivot"
      ],
      "execution_count": null,
      "outputs": [
        {
          "output_type": "execute_result",
          "data": {
            "text/html": [
              "<div>\n",
              "<style scoped>\n",
              "    .dataframe tbody tr th:only-of-type {\n",
              "        vertical-align: middle;\n",
              "    }\n",
              "\n",
              "    .dataframe tbody tr th {\n",
              "        vertical-align: top;\n",
              "    }\n",
              "\n",
              "    .dataframe thead th {\n",
              "        text-align: right;\n",
              "    }\n",
              "</style>\n",
              "<table border=\"1\" class=\"dataframe\">\n",
              "  <thead>\n",
              "    <tr style=\"text-align: right;\">\n",
              "      <th>Filme</th>\n",
              "      <th>Exterminador do Futuro</th>\n",
              "      <th>Star Trek</th>\n",
              "    </tr>\n",
              "    <tr>\n",
              "      <th>Usuário</th>\n",
              "      <th></th>\n",
              "      <th></th>\n",
              "    </tr>\n",
              "  </thead>\n",
              "  <tbody>\n",
              "    <tr>\n",
              "      <th>Ana</th>\n",
              "      <td>3.5</td>\n",
              "      <td>3.0</td>\n",
              "    </tr>\n",
              "    <tr>\n",
              "      <th>Cláudia</th>\n",
              "      <td>4.0</td>\n",
              "      <td>3.0</td>\n",
              "    </tr>\n",
              "    <tr>\n",
              "      <th>Marcos</th>\n",
              "      <td>5.0</td>\n",
              "      <td>1.5</td>\n",
              "    </tr>\n",
              "  </tbody>\n",
              "</table>\n",
              "</div>"
            ],
            "text/plain": [
              "Filme    Exterminador do Futuro  Star Trek\n",
              "Usuário                                   \n",
              "Ana                         3.5        3.0\n",
              "Cláudia                     4.0        3.0\n",
              "Marcos                      5.0        1.5"
            ]
          },
          "metadata": {
            "tags": []
          },
          "execution_count": 45
        }
      ]
    },
    {
      "cell_type": "code",
      "metadata": {
        "colab": {
          "base_uri": "https://localhost:8080/"
        },
        "id": "cQK0Ktpk7-H4",
        "outputId": "5fbc8fc4-d77a-4861-a10c-6dca57cf3e96"
      },
      "source": [
        "# Ana - Marcos\r\n",
        "def compute_distance(x, y):\r\n",
        "    return np.linalg.norm(df_pivot.loc[x].values-df_pivot.loc[y].values)\r\n",
        "\r\n",
        "compute_distance(x=\"Ana\", y=\"Marcos\")"
      ],
      "execution_count": null,
      "outputs": [
        {
          "output_type": "execute_result",
          "data": {
            "text/plain": [
              "2.1213203435596424"
            ]
          },
          "metadata": {
            "tags": []
          },
          "execution_count": 47
        }
      ]
    },
    {
      "cell_type": "code",
      "metadata": {
        "colab": {
          "base_uri": "https://localhost:8080/"
        },
        "id": "fmB0m92s8hku",
        "outputId": "210f6c95-0ef8-45c8-ff20-914ed19b6302"
      },
      "source": [
        "compute_distance(x=\"Ana\", y=\"Cláudia\")"
      ],
      "execution_count": null,
      "outputs": [
        {
          "output_type": "execute_result",
          "data": {
            "text/plain": [
              "0.5"
            ]
          },
          "metadata": {
            "tags": []
          },
          "execution_count": 48
        }
      ]
    },
    {
      "cell_type": "code",
      "metadata": {
        "colab": {
          "base_uri": "https://localhost:8080/"
        },
        "id": "74rYR4PV9ETw",
        "outputId": "6cf40c17-d825-4892-99c6-f1372cbce75b"
      },
      "source": [
        "compute_distance(x=\"Cláudia\", y=\"Marcos\")"
      ],
      "execution_count": null,
      "outputs": [
        {
          "output_type": "execute_result",
          "data": {
            "text/plain": [
              "1.8027756377319946"
            ]
          },
          "metadata": {
            "tags": []
          },
          "execution_count": 49
        }
      ]
    },
    {
      "cell_type": "code",
      "metadata": {
        "id": "McBFbmPO9OHP"
      },
      "source": [
        "df = pd.DataFrame(np.array([[\"Invocação do mal\", 0.6, 0.0, 0.3, 0.0, \"Terror\"],\r\n",
        " [\"Floresta maldita\", 0.9, 0.0, 0.5, 0.1, \"Terror\"],\r\n",
        " [\"Meu passado me condena\", 0.1, 0.2, 0.1, 0.9, \"Comédia\"],\r\n",
        " [\"Tirando o atraso\", 0.0, 0.2, 0.2, 0.8, \"Comédia\"]]),\r\n",
        " columns=['Filme', 'Violência','Romance','Ação','Comédia','Classe'])\r\n",
        "# df = df.astype(np.dtype(\"float\"),errors='ignore')\r\n",
        "lst_col_num = [\"Violência\",\"Romance\",\"Ação\",\"Comédia\"]\r\n",
        "for col in lst_col_num:\r\n",
        "    df[col] = df[col].astype('float64')\r\n",
        "# df = df.convert_dtypes()\r\n",
        "\r\n",
        "test = {\"Filme\": \"A hora do pesadelo\",\r\n",
        "        'Violência': 0.8,\r\n",
        "        'Romance': 0.1,\r\n",
        "        'Ação': 0.5,\r\n",
        "        'Comédia': 0.0,\r\n",
        "        'Classe': \"CLASSIFICAR\"}\r\n",
        "# df = df.append(test,ignore_index=True)\r\n",
        "# X = df.select_dtypes('number').values\r\n",
        "y = np.array([test[k] for k in lst_col_num])\r\n",
        "df[\"Distance\"] = np.linalg.norm(df.select_dtypes('number')-y,axis=1)\r\n",
        "df"
      ],
      "execution_count": null,
      "outputs": []
    },
    {
      "cell_type": "code",
      "metadata": {
        "colab": {
          "base_uri": "https://localhost:8080/",
          "height": 173
        },
        "id": "FtpR4Ic2B9QC",
        "outputId": "05ba86d4-931d-43a7-f640-ece5384bf888"
      },
      "source": [
        "df"
      ],
      "execution_count": null,
      "outputs": [
        {
          "output_type": "execute_result",
          "data": {
            "text/html": [
              "<div>\n",
              "<style scoped>\n",
              "    .dataframe tbody tr th:only-of-type {\n",
              "        vertical-align: middle;\n",
              "    }\n",
              "\n",
              "    .dataframe tbody tr th {\n",
              "        vertical-align: top;\n",
              "    }\n",
              "\n",
              "    .dataframe thead th {\n",
              "        text-align: right;\n",
              "    }\n",
              "</style>\n",
              "<table border=\"1\" class=\"dataframe\">\n",
              "  <thead>\n",
              "    <tr style=\"text-align: right;\">\n",
              "      <th></th>\n",
              "      <th>Filme</th>\n",
              "      <th>Violência</th>\n",
              "      <th>Romance</th>\n",
              "      <th>Ação</th>\n",
              "      <th>Comédia</th>\n",
              "      <th>Classe</th>\n",
              "      <th>Distance</th>\n",
              "    </tr>\n",
              "  </thead>\n",
              "  <tbody>\n",
              "    <tr>\n",
              "      <th>0</th>\n",
              "      <td>Invocação do mal</td>\n",
              "      <td>0.6</td>\n",
              "      <td>0.0</td>\n",
              "      <td>0.3</td>\n",
              "      <td>0.0</td>\n",
              "      <td>Terror</td>\n",
              "      <td>0.300000</td>\n",
              "    </tr>\n",
              "    <tr>\n",
              "      <th>1</th>\n",
              "      <td>Floresta maldita</td>\n",
              "      <td>0.9</td>\n",
              "      <td>0.0</td>\n",
              "      <td>0.5</td>\n",
              "      <td>0.1</td>\n",
              "      <td>Terror</td>\n",
              "      <td>0.173205</td>\n",
              "    </tr>\n",
              "    <tr>\n",
              "      <th>2</th>\n",
              "      <td>Meu passado me condena</td>\n",
              "      <td>0.1</td>\n",
              "      <td>0.2</td>\n",
              "      <td>0.1</td>\n",
              "      <td>0.9</td>\n",
              "      <td>Comédia</td>\n",
              "      <td>1.212436</td>\n",
              "    </tr>\n",
              "    <tr>\n",
              "      <th>3</th>\n",
              "      <td>Tirando o atraso</td>\n",
              "      <td>0.0</td>\n",
              "      <td>0.2</td>\n",
              "      <td>0.2</td>\n",
              "      <td>0.8</td>\n",
              "      <td>Comédia</td>\n",
              "      <td>1.174734</td>\n",
              "    </tr>\n",
              "  </tbody>\n",
              "</table>\n",
              "</div>"
            ],
            "text/plain": [
              "                    Filme  Violência  Romance  Ação  Comédia   Classe  Distance\n",
              "0        Invocação do mal        0.6      0.0   0.3      0.0   Terror  0.300000\n",
              "1        Floresta maldita        0.9      0.0   0.5      0.1   Terror  0.173205\n",
              "2  Meu passado me condena        0.1      0.2   0.1      0.9  Comédia  1.212436\n",
              "3        Tirando o atraso        0.0      0.2   0.2      0.8  Comédia  1.174734"
            ]
          },
          "metadata": {
            "tags": []
          },
          "execution_count": 96
        }
      ]
    },
    {
      "cell_type": "code",
      "metadata": {
        "colab": {
          "base_uri": "https://localhost:8080/"
        },
        "id": "pempH-IzB4pD",
        "outputId": "446646d4-c0ff-4aee-d42e-cd3f0004615b"
      },
      "source": [
        "df.sort_values(by='Distance')['Classe']"
      ],
      "execution_count": null,
      "outputs": [
        {
          "output_type": "execute_result",
          "data": {
            "text/plain": [
              "1     Terror\n",
              "0     Terror\n",
              "3    Comédia\n",
              "2    Comédia\n",
              "Name: Classe, dtype: object"
            ]
          },
          "metadata": {
            "tags": []
          },
          "execution_count": 102
        }
      ]
    },
    {
      "cell_type": "markdown",
      "metadata": {
        "id": "nvi3pQhbG2d6"
      },
      "source": [
        "Risco crédito"
      ]
    },
    {
      "cell_type": "code",
      "metadata": {
        "colab": {
          "base_uri": "https://localhost:8080/",
          "height": 204
        },
        "id": "TRcwwgFtG4Gz",
        "outputId": "b227e232-f3ba-4eeb-9b50-6db2cc44ba94"
      },
      "source": [
        "lst_risco_credito = [\r\n",
        "        {\"historia\":\"ruim\",\"divida\":\"alta\",\"garantias\":\"nenhuma\",\"renda\":\"0_15\",\"risco\":\"alto\"},\r\n",
        "        {\"historia\":\"desconhecida\",\"divida\":\"alta\",\"garantias\":\"nenhuma\",\"renda\":\"15_35\",\"risco\":\"alto\"},\r\n",
        "        {\"historia\":\"desconhecida\",\"divida\":\"baixa\",\"garantias\":\"nenhuma\",\"renda\":\"15_35\",\"risco\":\"moderado\"},\r\n",
        "        {\"historia\":\"desconhecida\",\"divida\":\"baixa\",\"garantias\":\"nenhuma\",\"renda\":\"acima_35\",\"risco\":\"alto\"},\r\n",
        "        {\"historia\":\"desconhecida\",\"divida\":\"baixa\",\"garantias\":\"nenhuma\",\"renda\":\"acima_35\",\"risco\":\"baixo\"},\r\n",
        "        {\"historia\":\"desconhecida\",\"divida\":\"baixa\",\"garantias\":\"adequada\",\"renda\":\"acima_35\",\"risco\":\"baixo\"},\r\n",
        "        {\"historia\":\"ruim\",\"divida\":\"baixa\",\"garantias\":\"nenhuma\",\"renda\":\"0_15\",\"risco\":\"alto\"},\r\n",
        "        {\"historia\":\"ruim\",\"divida\":\"baixa\",\"garantias\":\"adequada\",\"renda\":\"acima_35\",\"risco\":\"moderado\"},\r\n",
        "        {\"historia\":\"boa\",\"divida\":\"baixa\",\"garantias\":\"nenhuma\",\"renda\":\"acima_35\",\"risco\":\"baixo\"},\r\n",
        "        {\"historia\":\"boa\",\"divida\":\"alta\",\"garantias\":\"adequada\",\"renda\":\"acima_35\",\"risco\":\"baixo\"},\r\n",
        "        {\"historia\":\"boa\",\"divida\":\"alta\",\"garantias\":\"nenhuma\",\"renda\":\"0_15\",\"risco\":\"alto\"},\r\n",
        "        {\"historia\":\"boa\",\"divida\":\"alta\",\"garantias\":\"nenhuma\",\"renda\":\"15_35\",\"risco\":\"moderado\"},\r\n",
        "        {\"historia\":\"boa\",\"divida\":\"alta\",\"garantias\":\"nenhuma\",\"renda\":\"acima_35\",\"risco\":\"baixo\"},\r\n",
        "        {\"historia\":\"ruim\",\"divida\":\"alta\",\"garantias\":\"nenhuma\",\"renda\":\"15_35\",\"risco\":\"alto\"}\r\n",
        "]\r\n",
        "df = pd.DataFrame(lst_risco_credito)\r\n",
        "\r\n",
        "X = df.iloc[:,:-1].values\r\n",
        "y = df.iloc[:,-1].values              \r\n",
        "\r\n",
        "lst_features = list(df.iloc[:,:-1].columns)\r\n",
        "\r\n",
        "df.head()"
      ],
      "execution_count": null,
      "outputs": [
        {
          "output_type": "execute_result",
          "data": {
            "text/html": [
              "<div>\n",
              "<style scoped>\n",
              "    .dataframe tbody tr th:only-of-type {\n",
              "        vertical-align: middle;\n",
              "    }\n",
              "\n",
              "    .dataframe tbody tr th {\n",
              "        vertical-align: top;\n",
              "    }\n",
              "\n",
              "    .dataframe thead th {\n",
              "        text-align: right;\n",
              "    }\n",
              "</style>\n",
              "<table border=\"1\" class=\"dataframe\">\n",
              "  <thead>\n",
              "    <tr style=\"text-align: right;\">\n",
              "      <th></th>\n",
              "      <th>historia</th>\n",
              "      <th>divida</th>\n",
              "      <th>garantias</th>\n",
              "      <th>renda</th>\n",
              "      <th>risco</th>\n",
              "    </tr>\n",
              "  </thead>\n",
              "  <tbody>\n",
              "    <tr>\n",
              "      <th>0</th>\n",
              "      <td>ruim</td>\n",
              "      <td>alta</td>\n",
              "      <td>nenhuma</td>\n",
              "      <td>0_15</td>\n",
              "      <td>alto</td>\n",
              "    </tr>\n",
              "    <tr>\n",
              "      <th>1</th>\n",
              "      <td>desconhecida</td>\n",
              "      <td>alta</td>\n",
              "      <td>nenhuma</td>\n",
              "      <td>15_35</td>\n",
              "      <td>alto</td>\n",
              "    </tr>\n",
              "    <tr>\n",
              "      <th>2</th>\n",
              "      <td>desconhecida</td>\n",
              "      <td>baixa</td>\n",
              "      <td>nenhuma</td>\n",
              "      <td>15_35</td>\n",
              "      <td>moderado</td>\n",
              "    </tr>\n",
              "    <tr>\n",
              "      <th>3</th>\n",
              "      <td>desconhecida</td>\n",
              "      <td>baixa</td>\n",
              "      <td>nenhuma</td>\n",
              "      <td>acima_35</td>\n",
              "      <td>alto</td>\n",
              "    </tr>\n",
              "    <tr>\n",
              "      <th>4</th>\n",
              "      <td>desconhecida</td>\n",
              "      <td>baixa</td>\n",
              "      <td>nenhuma</td>\n",
              "      <td>acima_35</td>\n",
              "      <td>baixo</td>\n",
              "    </tr>\n",
              "  </tbody>\n",
              "</table>\n",
              "</div>"
            ],
            "text/plain": [
              "       historia divida garantias     renda     risco\n",
              "0          ruim   alta   nenhuma      0_15      alto\n",
              "1  desconhecida   alta   nenhuma     15_35      alto\n",
              "2  desconhecida  baixa   nenhuma     15_35  moderado\n",
              "3  desconhecida  baixa   nenhuma  acima_35      alto\n",
              "4  desconhecida  baixa   nenhuma  acima_35     baixo"
            ]
          },
          "metadata": {
            "tags": []
          },
          "execution_count": 141
        }
      ]
    },
    {
      "cell_type": "code",
      "metadata": {
        "colab": {
          "base_uri": "https://localhost:8080/"
        },
        "id": "_zC4OLeRKitr",
        "outputId": "5e7e3008-e293-4f9f-e8ee-fb3560a93ea9"
      },
      "source": [
        " import json\r\n",
        "\r\n",
        "# utils\r\n",
        "def pp_json(json_thing, sort=True, indents=4):\r\n",
        "    if type(json_thing) is str:\r\n",
        "        print(json.dumps(json.loads(json_thing)\r\n",
        "                , sort_keys=sort\r\n",
        "                , indent=indents))\r\n",
        "    else:\r\n",
        "        print(json.dumps(json_thing\r\n",
        "                         , sort_keys=sort\r\n",
        "                         , indent=indents))\r\n",
        "    return None\r\n",
        "\r\n",
        "def format_float_dct(dct):\r\n",
        "    return {k:round(v,2) if isinstance(v,float) else v for k,v in dct.items()}\r\n",
        "\r\n",
        "def dct_from2lists(lst_keys, lst_values):\r\n",
        "    return dict(zip(lst_keys, lst_values))\r\n",
        "\r\n",
        "def label_encoder(df,X):\r\n",
        "    from sklearn.preprocessing import LabelEncoder\r\n",
        "    labelencoder = LabelEncoder()\r\n",
        "    dct_label_encoder = {}\r\n",
        "    for idx in range(len(df.columns)-1):\r\n",
        "        X[:,idx] = labelencoder.fit_transform(X[:,idx])\r\n",
        "        dct_label = {}\r\n",
        "        for jj, label in enumerate(labelencoder.classes_):\r\n",
        "            dct_label[label] =  jj\r\n",
        "        dct_label_encoder[df.columns[idx]] = dct_label\r\n",
        "    print(\"Label encoder dict\")\r\n",
        "    pp_json(dct_label_encoder)\r\n",
        "\r\n",
        "    return dct_label_encoder\r\n",
        "\r\n",
        "def encoded_entry(dct_label_encoder, entry_raw):\r\n",
        "    return [dct_label_encoder[k][v] for k,v in entry_raw.items()]\r\n",
        "\r\n",
        "dct_label_encoder = label_encoder(df,X)\r\n",
        "\r\n",
        "# one hot\r\n",
        "# pd.get_dummies(df)"
      ],
      "execution_count": null,
      "outputs": [
        {
          "output_type": "stream",
          "text": [
            "Label encoder dict\n",
            "{\n",
            "    \"divida\": {\n",
            "        \"alta\": 0,\n",
            "        \"baixa\": 1\n",
            "    },\n",
            "    \"garantias\": {\n",
            "        \"adequada\": 0,\n",
            "        \"nenhuma\": 1\n",
            "    },\n",
            "    \"historia\": {\n",
            "        \"boa\": 0,\n",
            "        \"desconhecida\": 1,\n",
            "        \"ruim\": 2\n",
            "    },\n",
            "    \"renda\": {\n",
            "        \"0_15\": 0,\n",
            "        \"15_35\": 1,\n",
            "        \"acima_35\": 2\n",
            "    }\n",
            "}\n"
          ],
          "name": "stdout"
        }
      ]
    },
    {
      "cell_type": "code",
      "metadata": {
        "colab": {
          "base_uri": "https://localhost:8080/"
        },
        "id": "cb5eP4rPLz0Q",
        "outputId": "73dc4d5b-a297-443b-8126-6dc3dc4c410a"
      },
      "source": [
        "dct_label_encoder"
      ],
      "execution_count": null,
      "outputs": [
        {
          "output_type": "execute_result",
          "data": {
            "text/plain": [
              "{'divida': {'alta': 0, 'baixa': 1},\n",
              " 'garantias': {'adequada': 0, 'nenhuma': 1},\n",
              " 'historia': {'boa': 0, 'desconhecida': 1, 'ruim': 2},\n",
              " 'renda': {'0_15': 0, '15_35': 1, 'acima_35': 2}}"
            ]
          },
          "metadata": {
            "tags": []
          },
          "execution_count": 143
        }
      ]
    },
    {
      "cell_type": "code",
      "metadata": {
        "colab": {
          "base_uri": "https://localhost:8080/",
          "height": 483
        },
        "id": "v_RVpZCPLzxS",
        "outputId": "7540ed14-6f6d-4bdf-cce2-e65a084933bf"
      },
      "source": [
        "df"
      ],
      "execution_count": null,
      "outputs": [
        {
          "output_type": "execute_result",
          "data": {
            "text/html": [
              "<div>\n",
              "<style scoped>\n",
              "    .dataframe tbody tr th:only-of-type {\n",
              "        vertical-align: middle;\n",
              "    }\n",
              "\n",
              "    .dataframe tbody tr th {\n",
              "        vertical-align: top;\n",
              "    }\n",
              "\n",
              "    .dataframe thead th {\n",
              "        text-align: right;\n",
              "    }\n",
              "</style>\n",
              "<table border=\"1\" class=\"dataframe\">\n",
              "  <thead>\n",
              "    <tr style=\"text-align: right;\">\n",
              "      <th></th>\n",
              "      <th>historia</th>\n",
              "      <th>divida</th>\n",
              "      <th>garantias</th>\n",
              "      <th>renda</th>\n",
              "      <th>risco</th>\n",
              "    </tr>\n",
              "  </thead>\n",
              "  <tbody>\n",
              "    <tr>\n",
              "      <th>0</th>\n",
              "      <td>2</td>\n",
              "      <td>0</td>\n",
              "      <td>1</td>\n",
              "      <td>0</td>\n",
              "      <td>alto</td>\n",
              "    </tr>\n",
              "    <tr>\n",
              "      <th>1</th>\n",
              "      <td>1</td>\n",
              "      <td>0</td>\n",
              "      <td>1</td>\n",
              "      <td>1</td>\n",
              "      <td>alto</td>\n",
              "    </tr>\n",
              "    <tr>\n",
              "      <th>2</th>\n",
              "      <td>1</td>\n",
              "      <td>1</td>\n",
              "      <td>1</td>\n",
              "      <td>1</td>\n",
              "      <td>moderado</td>\n",
              "    </tr>\n",
              "    <tr>\n",
              "      <th>3</th>\n",
              "      <td>1</td>\n",
              "      <td>1</td>\n",
              "      <td>1</td>\n",
              "      <td>2</td>\n",
              "      <td>alto</td>\n",
              "    </tr>\n",
              "    <tr>\n",
              "      <th>4</th>\n",
              "      <td>1</td>\n",
              "      <td>1</td>\n",
              "      <td>1</td>\n",
              "      <td>2</td>\n",
              "      <td>baixo</td>\n",
              "    </tr>\n",
              "    <tr>\n",
              "      <th>5</th>\n",
              "      <td>1</td>\n",
              "      <td>1</td>\n",
              "      <td>0</td>\n",
              "      <td>2</td>\n",
              "      <td>baixo</td>\n",
              "    </tr>\n",
              "    <tr>\n",
              "      <th>6</th>\n",
              "      <td>2</td>\n",
              "      <td>1</td>\n",
              "      <td>1</td>\n",
              "      <td>0</td>\n",
              "      <td>alto</td>\n",
              "    </tr>\n",
              "    <tr>\n",
              "      <th>7</th>\n",
              "      <td>2</td>\n",
              "      <td>1</td>\n",
              "      <td>0</td>\n",
              "      <td>2</td>\n",
              "      <td>moderado</td>\n",
              "    </tr>\n",
              "    <tr>\n",
              "      <th>8</th>\n",
              "      <td>0</td>\n",
              "      <td>1</td>\n",
              "      <td>1</td>\n",
              "      <td>2</td>\n",
              "      <td>baixo</td>\n",
              "    </tr>\n",
              "    <tr>\n",
              "      <th>9</th>\n",
              "      <td>0</td>\n",
              "      <td>0</td>\n",
              "      <td>0</td>\n",
              "      <td>2</td>\n",
              "      <td>baixo</td>\n",
              "    </tr>\n",
              "    <tr>\n",
              "      <th>10</th>\n",
              "      <td>0</td>\n",
              "      <td>0</td>\n",
              "      <td>1</td>\n",
              "      <td>0</td>\n",
              "      <td>alto</td>\n",
              "    </tr>\n",
              "    <tr>\n",
              "      <th>11</th>\n",
              "      <td>0</td>\n",
              "      <td>0</td>\n",
              "      <td>1</td>\n",
              "      <td>1</td>\n",
              "      <td>moderado</td>\n",
              "    </tr>\n",
              "    <tr>\n",
              "      <th>12</th>\n",
              "      <td>0</td>\n",
              "      <td>0</td>\n",
              "      <td>1</td>\n",
              "      <td>2</td>\n",
              "      <td>baixo</td>\n",
              "    </tr>\n",
              "    <tr>\n",
              "      <th>13</th>\n",
              "      <td>2</td>\n",
              "      <td>0</td>\n",
              "      <td>1</td>\n",
              "      <td>1</td>\n",
              "      <td>alto</td>\n",
              "    </tr>\n",
              "  </tbody>\n",
              "</table>\n",
              "</div>"
            ],
            "text/plain": [
              "   historia divida garantias renda     risco\n",
              "0         2      0         1     0      alto\n",
              "1         1      0         1     1      alto\n",
              "2         1      1         1     1  moderado\n",
              "3         1      1         1     2      alto\n",
              "4         1      1         1     2     baixo\n",
              "5         1      1         0     2     baixo\n",
              "6         2      1         1     0      alto\n",
              "7         2      1         0     2  moderado\n",
              "8         0      1         1     2     baixo\n",
              "9         0      0         0     2     baixo\n",
              "10        0      0         1     0      alto\n",
              "11        0      0         1     1  moderado\n",
              "12        0      0         1     2     baixo\n",
              "13        2      0         1     1      alto"
            ]
          },
          "metadata": {
            "tags": []
          },
          "execution_count": 144
        }
      ]
    },
    {
      "cell_type": "code",
      "metadata": {
        "colab": {
          "base_uri": "https://localhost:8080/"
        },
        "id": "cBnPm6X7MW8K",
        "outputId": "9f1e0c7f-3cf4-4a82-c765-9b559d7b8e05"
      },
      "source": [
        "X"
      ],
      "execution_count": null,
      "outputs": [
        {
          "output_type": "execute_result",
          "data": {
            "text/plain": [
              "array([[2, 0, 1, 0],\n",
              "       [1, 0, 1, 1],\n",
              "       [1, 1, 1, 1],\n",
              "       [1, 1, 1, 2],\n",
              "       [1, 1, 1, 2],\n",
              "       [1, 1, 0, 2],\n",
              "       [2, 1, 1, 0],\n",
              "       [2, 1, 0, 2],\n",
              "       [0, 1, 1, 2],\n",
              "       [0, 0, 0, 2],\n",
              "       [0, 0, 1, 0],\n",
              "       [0, 0, 1, 1],\n",
              "       [0, 0, 1, 2],\n",
              "       [2, 0, 1, 1]], dtype=object)"
            ]
          },
          "metadata": {
            "tags": []
          },
          "execution_count": 145
        }
      ]
    },
    {
      "cell_type": "code",
      "metadata": {
        "id": "FZjjRwtZMW5P"
      },
      "source": [
        ""
      ],
      "execution_count": null,
      "outputs": []
    },
    {
      "cell_type": "code",
      "metadata": {
        "id": "2N_vqSLaKqKv"
      },
      "source": [
        "def print_prediction(test,clf):\r\n",
        "    print(\"\\nGiven\")\r\n",
        "    pp_json(test)\r\n",
        "    test_encoded = encoded_entry(dct_label_encoder, entry_raw=test)\r\n",
        "\r\n",
        "\r\n",
        "test0_raw = {\r\n",
        "    \"historia\": \"boa\",\r\n",
        "    \"divida\": \"alta\",\r\n",
        "    \"garantias\": \"nenhuma\",\r\n",
        "    \"renda\": \"acima_35\"\r\n",
        "}\r\n",
        "# test0 = [0, 0, 1, 2]\r\n",
        "test1_raw = {\r\n",
        "    \"historia\": \"ruim\",\r\n",
        "    \"divida\": \"alta\",\r\n",
        "    \"garantias\": \"adequada\",\r\n",
        "    \"renda\": \"0_15\"\r\n",
        "}\r\n",
        "# test1 = [2, 0, 0, 0]\r\n",
        "\r\n",
        "y = encoded_entry(dct_label_encoder, test0_raw)\r\n",
        "\r\n",
        "df[\"Distance\"] = np.linalg.norm(\r\n",
        "    (\r\n",
        "        (df.iloc[:,:-1].astype(\"float\")-y)!=0)*1.0,\r\n",
        "        axis=1)\r\n"
      ],
      "execution_count": null,
      "outputs": []
    },
    {
      "cell_type": "code",
      "metadata": {
        "colab": {
          "base_uri": "https://localhost:8080/",
          "height": 483
        },
        "id": "SSeP_E2rNYIL",
        "outputId": "d27f6ea3-9e12-430a-b245-23927b8aea89"
      },
      "source": [
        "df"
      ],
      "execution_count": null,
      "outputs": [
        {
          "output_type": "execute_result",
          "data": {
            "text/html": [
              "<div>\n",
              "<style scoped>\n",
              "    .dataframe tbody tr th:only-of-type {\n",
              "        vertical-align: middle;\n",
              "    }\n",
              "\n",
              "    .dataframe tbody tr th {\n",
              "        vertical-align: top;\n",
              "    }\n",
              "\n",
              "    .dataframe thead th {\n",
              "        text-align: right;\n",
              "    }\n",
              "</style>\n",
              "<table border=\"1\" class=\"dataframe\">\n",
              "  <thead>\n",
              "    <tr style=\"text-align: right;\">\n",
              "      <th></th>\n",
              "      <th>historia</th>\n",
              "      <th>divida</th>\n",
              "      <th>garantias</th>\n",
              "      <th>renda</th>\n",
              "      <th>risco</th>\n",
              "      <th>Distance</th>\n",
              "    </tr>\n",
              "  </thead>\n",
              "  <tbody>\n",
              "    <tr>\n",
              "      <th>0</th>\n",
              "      <td>2</td>\n",
              "      <td>0</td>\n",
              "      <td>1</td>\n",
              "      <td>0</td>\n",
              "      <td>alto</td>\n",
              "      <td>1.414214</td>\n",
              "    </tr>\n",
              "    <tr>\n",
              "      <th>1</th>\n",
              "      <td>1</td>\n",
              "      <td>0</td>\n",
              "      <td>1</td>\n",
              "      <td>1</td>\n",
              "      <td>alto</td>\n",
              "      <td>1.414214</td>\n",
              "    </tr>\n",
              "    <tr>\n",
              "      <th>2</th>\n",
              "      <td>1</td>\n",
              "      <td>1</td>\n",
              "      <td>1</td>\n",
              "      <td>1</td>\n",
              "      <td>moderado</td>\n",
              "      <td>1.732051</td>\n",
              "    </tr>\n",
              "    <tr>\n",
              "      <th>3</th>\n",
              "      <td>1</td>\n",
              "      <td>1</td>\n",
              "      <td>1</td>\n",
              "      <td>2</td>\n",
              "      <td>alto</td>\n",
              "      <td>1.414214</td>\n",
              "    </tr>\n",
              "    <tr>\n",
              "      <th>4</th>\n",
              "      <td>1</td>\n",
              "      <td>1</td>\n",
              "      <td>1</td>\n",
              "      <td>2</td>\n",
              "      <td>baixo</td>\n",
              "      <td>1.414214</td>\n",
              "    </tr>\n",
              "    <tr>\n",
              "      <th>5</th>\n",
              "      <td>1</td>\n",
              "      <td>1</td>\n",
              "      <td>0</td>\n",
              "      <td>2</td>\n",
              "      <td>baixo</td>\n",
              "      <td>1.732051</td>\n",
              "    </tr>\n",
              "    <tr>\n",
              "      <th>6</th>\n",
              "      <td>2</td>\n",
              "      <td>1</td>\n",
              "      <td>1</td>\n",
              "      <td>0</td>\n",
              "      <td>alto</td>\n",
              "      <td>1.732051</td>\n",
              "    </tr>\n",
              "    <tr>\n",
              "      <th>7</th>\n",
              "      <td>2</td>\n",
              "      <td>1</td>\n",
              "      <td>0</td>\n",
              "      <td>2</td>\n",
              "      <td>moderado</td>\n",
              "      <td>1.732051</td>\n",
              "    </tr>\n",
              "    <tr>\n",
              "      <th>8</th>\n",
              "      <td>0</td>\n",
              "      <td>1</td>\n",
              "      <td>1</td>\n",
              "      <td>2</td>\n",
              "      <td>baixo</td>\n",
              "      <td>1.000000</td>\n",
              "    </tr>\n",
              "    <tr>\n",
              "      <th>9</th>\n",
              "      <td>0</td>\n",
              "      <td>0</td>\n",
              "      <td>0</td>\n",
              "      <td>2</td>\n",
              "      <td>baixo</td>\n",
              "      <td>1.000000</td>\n",
              "    </tr>\n",
              "    <tr>\n",
              "      <th>10</th>\n",
              "      <td>0</td>\n",
              "      <td>0</td>\n",
              "      <td>1</td>\n",
              "      <td>0</td>\n",
              "      <td>alto</td>\n",
              "      <td>1.000000</td>\n",
              "    </tr>\n",
              "    <tr>\n",
              "      <th>11</th>\n",
              "      <td>0</td>\n",
              "      <td>0</td>\n",
              "      <td>1</td>\n",
              "      <td>1</td>\n",
              "      <td>moderado</td>\n",
              "      <td>1.000000</td>\n",
              "    </tr>\n",
              "    <tr>\n",
              "      <th>12</th>\n",
              "      <td>0</td>\n",
              "      <td>0</td>\n",
              "      <td>1</td>\n",
              "      <td>2</td>\n",
              "      <td>baixo</td>\n",
              "      <td>0.000000</td>\n",
              "    </tr>\n",
              "    <tr>\n",
              "      <th>13</th>\n",
              "      <td>2</td>\n",
              "      <td>0</td>\n",
              "      <td>1</td>\n",
              "      <td>1</td>\n",
              "      <td>alto</td>\n",
              "      <td>1.414214</td>\n",
              "    </tr>\n",
              "  </tbody>\n",
              "</table>\n",
              "</div>"
            ],
            "text/plain": [
              "   historia divida garantias renda     risco  Distance\n",
              "0         2      0         1     0      alto  1.414214\n",
              "1         1      0         1     1      alto  1.414214\n",
              "2         1      1         1     1  moderado  1.732051\n",
              "3         1      1         1     2      alto  1.414214\n",
              "4         1      1         1     2     baixo  1.414214\n",
              "5         1      1         0     2     baixo  1.732051\n",
              "6         2      1         1     0      alto  1.732051\n",
              "7         2      1         0     2  moderado  1.732051\n",
              "8         0      1         1     2     baixo  1.000000\n",
              "9         0      0         0     2     baixo  1.000000\n",
              "10        0      0         1     0      alto  1.000000\n",
              "11        0      0         1     1  moderado  1.000000\n",
              "12        0      0         1     2     baixo  0.000000\n",
              "13        2      0         1     1      alto  1.414214"
            ]
          },
          "metadata": {
            "tags": []
          },
          "execution_count": 147
        }
      ]
    },
    {
      "cell_type": "code",
      "metadata": {
        "colab": {
          "base_uri": "https://localhost:8080/",
          "height": 142
        },
        "id": "IzkVCgdyNtEC",
        "outputId": "c1d14a27-054b-468e-cf7d-b8630f95a5a4"
      },
      "source": [
        "df = pd.DataFrame([\r\n",
        "                   {\"Idade\": 60, \"Renda anual\": 30000},\r\n",
        "                   {\"Idade\": 35, \"Renda anual\": 45000},\r\n",
        "                   {\"Idade\": 20, \"Renda anual\": 29500}])\r\n",
        "df.head()"
      ],
      "execution_count": null,
      "outputs": [
        {
          "output_type": "execute_result",
          "data": {
            "text/html": [
              "<div>\n",
              "<style scoped>\n",
              "    .dataframe tbody tr th:only-of-type {\n",
              "        vertical-align: middle;\n",
              "    }\n",
              "\n",
              "    .dataframe tbody tr th {\n",
              "        vertical-align: top;\n",
              "    }\n",
              "\n",
              "    .dataframe thead th {\n",
              "        text-align: right;\n",
              "    }\n",
              "</style>\n",
              "<table border=\"1\" class=\"dataframe\">\n",
              "  <thead>\n",
              "    <tr style=\"text-align: right;\">\n",
              "      <th></th>\n",
              "      <th>Idade</th>\n",
              "      <th>Renda anual</th>\n",
              "    </tr>\n",
              "  </thead>\n",
              "  <tbody>\n",
              "    <tr>\n",
              "      <th>0</th>\n",
              "      <td>60</td>\n",
              "      <td>30000</td>\n",
              "    </tr>\n",
              "    <tr>\n",
              "      <th>1</th>\n",
              "      <td>35</td>\n",
              "      <td>45000</td>\n",
              "    </tr>\n",
              "    <tr>\n",
              "      <th>2</th>\n",
              "      <td>20</td>\n",
              "      <td>29500</td>\n",
              "    </tr>\n",
              "  </tbody>\n",
              "</table>\n",
              "</div>"
            ],
            "text/plain": [
              "   Idade  Renda anual\n",
              "0     60        30000\n",
              "1     35        45000\n",
              "2     20        29500"
            ]
          },
          "metadata": {
            "tags": []
          },
          "execution_count": 182
        }
      ]
    },
    {
      "cell_type": "code",
      "metadata": {
        "colab": {
          "base_uri": "https://localhost:8080/"
        },
        "id": "W4DLM6UnPoQE",
        "outputId": "6f3dd41c-1435-4f7f-a40e-8c437c0e7dab"
      },
      "source": [
        "np.linalg.norm(df.iloc[0]-df.iloc[1])"
      ],
      "execution_count": null,
      "outputs": [
        {
          "output_type": "execute_result",
          "data": {
            "text/plain": [
              "15000.020833318866"
            ]
          },
          "metadata": {
            "tags": []
          },
          "execution_count": 171
        }
      ]
    },
    {
      "cell_type": "code",
      "metadata": {
        "colab": {
          "base_uri": "https://localhost:8080/"
        },
        "id": "rZZ0_bRMQO1n",
        "outputId": "549f0bea-6057-4a25-d179-877b792ff191"
      },
      "source": [
        "np.linalg.norm(df.iloc[0]-df.iloc[2])"
      ],
      "execution_count": null,
      "outputs": [
        {
          "output_type": "execute_result",
          "data": {
            "text/plain": [
              "501.5974481593781"
            ]
          },
          "metadata": {
            "tags": []
          },
          "execution_count": 172
        }
      ]
    },
    {
      "cell_type": "code",
      "metadata": {
        "colab": {
          "base_uri": "https://localhost:8080/"
        },
        "id": "QxxhIvjYQOyk",
        "outputId": "d08a61f6-6207-41fe-8745-13f2227d3e6f"
      },
      "source": [
        "np.linalg.norm(df.iloc[1]-df.iloc[2])"
      ],
      "execution_count": null,
      "outputs": [
        {
          "output_type": "execute_result",
          "data": {
            "text/plain": [
              "15500.007258062817"
            ]
          },
          "metadata": {
            "tags": []
          },
          "execution_count": 173
        }
      ]
    },
    {
      "cell_type": "markdown",
      "metadata": {
        "id": "ZQlv34pGRY52"
      },
      "source": [
        "Normalização\r\n",
        "\r\n",
        "$$ x_{norm} = \\frac{x - x_{min}}{x_{max}-x_{min}} $$"
      ]
    },
    {
      "cell_type": "code",
      "metadata": {
        "id": "F_ZJZAdESwyu"
      },
      "source": [
        "X = df.values"
      ],
      "execution_count": null,
      "outputs": []
    },
    {
      "cell_type": "code",
      "metadata": {
        "colab": {
          "base_uri": "https://localhost:8080/"
        },
        "id": "BHDdZpjiR8UU",
        "outputId": "40dbf9c8-543b-4129-d4d6-af33e437c89a"
      },
      "source": [
        "from sklearn.preprocessing import MinMaxScaler\r\n",
        "scaler = MinMaxScaler()\r\n",
        "print(scaler.fit(X))\r\n",
        "scaler.transform(X)"
      ],
      "execution_count": null,
      "outputs": [
        {
          "output_type": "stream",
          "text": [
            "MinMaxScaler(copy=True, feature_range=(0, 1))\n"
          ],
          "name": "stdout"
        },
        {
          "output_type": "execute_result",
          "data": {
            "text/plain": [
              "array([[1.        , 0.03225806],\n",
              "       [0.375     , 1.        ],\n",
              "       [0.        , 0.        ]])"
            ]
          },
          "metadata": {
            "tags": []
          },
          "execution_count": 176
        }
      ]
    },
    {
      "cell_type": "code",
      "metadata": {
        "colab": {
          "base_uri": "https://localhost:8080/"
        },
        "id": "GalB_tg-SXj1",
        "outputId": "aea7bdee-e3c7-4566-bab2-1008b0ef0643"
      },
      "source": [
        "X_std = (X - X.min(axis=0)) / (X.max(axis=0) - X.min(axis=0))\r\n",
        "X_scaled = X_std * (1 - 0) + 0\r\n",
        "X_scaled"
      ],
      "execution_count": null,
      "outputs": [
        {
          "output_type": "execute_result",
          "data": {
            "text/plain": [
              "array([[1.        , 0.03225806],\n",
              "       [0.375     , 1.        ],\n",
              "       [0.        , 0.        ]])"
            ]
          },
          "metadata": {
            "tags": []
          },
          "execution_count": 177
        }
      ]
    },
    {
      "cell_type": "code",
      "metadata": {
        "id": "meG8fDRCS7eZ"
      },
      "source": [
        "df_scaled = pd.DataFrame(X_scaled)"
      ],
      "execution_count": null,
      "outputs": []
    },
    {
      "cell_type": "code",
      "metadata": {
        "colab": {
          "base_uri": "https://localhost:8080/",
          "height": 142
        },
        "id": "yFTZsP8XUIwd",
        "outputId": "42cedec9-c9cd-47f8-8515-60b38d7f0999"
      },
      "source": [
        "df_scaled"
      ],
      "execution_count": null,
      "outputs": [
        {
          "output_type": "execute_result",
          "data": {
            "text/html": [
              "<div>\n",
              "<style scoped>\n",
              "    .dataframe tbody tr th:only-of-type {\n",
              "        vertical-align: middle;\n",
              "    }\n",
              "\n",
              "    .dataframe tbody tr th {\n",
              "        vertical-align: top;\n",
              "    }\n",
              "\n",
              "    .dataframe thead th {\n",
              "        text-align: right;\n",
              "    }\n",
              "</style>\n",
              "<table border=\"1\" class=\"dataframe\">\n",
              "  <thead>\n",
              "    <tr style=\"text-align: right;\">\n",
              "      <th></th>\n",
              "      <th>0</th>\n",
              "      <th>1</th>\n",
              "    </tr>\n",
              "  </thead>\n",
              "  <tbody>\n",
              "    <tr>\n",
              "      <th>0</th>\n",
              "      <td>1.000</td>\n",
              "      <td>0.032258</td>\n",
              "    </tr>\n",
              "    <tr>\n",
              "      <th>1</th>\n",
              "      <td>0.375</td>\n",
              "      <td>1.000000</td>\n",
              "    </tr>\n",
              "    <tr>\n",
              "      <th>2</th>\n",
              "      <td>0.000</td>\n",
              "      <td>0.000000</td>\n",
              "    </tr>\n",
              "  </tbody>\n",
              "</table>\n",
              "</div>"
            ],
            "text/plain": [
              "       0         1\n",
              "0  1.000  0.032258\n",
              "1  0.375  1.000000\n",
              "2  0.000  0.000000"
            ]
          },
          "metadata": {
            "tags": []
          },
          "execution_count": 179
        }
      ]
    },
    {
      "cell_type": "code",
      "metadata": {
        "colab": {
          "base_uri": "https://localhost:8080/"
        },
        "id": "j_lZidfqUJiT",
        "outputId": "eefe0810-cda3-4f17-9ac1-b35270ecebf5"
      },
      "source": [
        "print(np.linalg.norm(df_scaled.iloc[0]-df_scaled.iloc[1]))\r\n",
        "print(np.linalg.norm(df_scaled.iloc[0]-df_scaled.iloc[2]))\r\n",
        "print(np.linalg.norm(df_scaled.iloc[1]-df_scaled.iloc[2]))"
      ],
      "execution_count": null,
      "outputs": [
        {
          "output_type": "stream",
          "text": [
            "1.1520197279969075\n",
            "1.0005201560819885\n",
            "1.0680004681646913\n"
          ],
          "name": "stdout"
        }
      ]
    },
    {
      "cell_type": "code",
      "metadata": {
        "id": "nTLQFaC4UjiD"
      },
      "source": [
        ""
      ],
      "execution_count": null,
      "outputs": []
    },
    {
      "cell_type": "markdown",
      "metadata": {
        "id": "sGTtibx6Ulvl"
      },
      "source": [
        "Padronização\r\n",
        "\r\n",
        "$$ x_{padr} = \\frac{x - \\mu}{\\sigma} $$"
      ]
    },
    {
      "cell_type": "code",
      "metadata": {
        "id": "UmynEBwIUjfO"
      },
      "source": [
        ""
      ],
      "execution_count": null,
      "outputs": []
    },
    {
      "cell_type": "code",
      "metadata": {
        "colab": {
          "base_uri": "https://localhost:8080/"
        },
        "id": "SuJFAVagQWBD",
        "outputId": "b871190e-3ff8-45cd-cd16-651c59ba47ec"
      },
      "source": [
        "from sklearn.preprocessing import StandardScaler\r\n",
        "scaler = StandardScaler()\r\n",
        "print(scaler.fit(X))\r\n",
        "scaler.transform(X)\r\n",
        "\r\n",
        "# n-1\r\n",
        "# n\r\n",
        "# unbiased (numpy ddof=0), biased std "
      ],
      "execution_count": null,
      "outputs": [
        {
          "output_type": "stream",
          "text": [
            "StandardScaler(copy=True, with_mean=True, with_std=True)\n"
          ],
          "name": "stdout"
        },
        {
          "output_type": "execute_result",
          "data": {
            "text/plain": [
              "array([[ 1.31319831, -0.67206017],\n",
              "       [-0.20203051,  1.41364381],\n",
              "       [-1.1111678 , -0.74158364]])"
            ]
          },
          "metadata": {
            "tags": []
          },
          "execution_count": 193
        }
      ]
    },
    {
      "cell_type": "code",
      "metadata": {
        "colab": {
          "base_uri": "https://localhost:8080/",
          "height": 142
        },
        "id": "4XYWVEC4UVgz",
        "outputId": "99f2fb70-2dce-4170-f12e-3b7a513fbc28"
      },
      "source": [
        "(df - df.mean()).div(df.std())"
      ],
      "execution_count": null,
      "outputs": [
        {
          "output_type": "execute_result",
          "data": {
            "text/html": [
              "<div>\n",
              "<style scoped>\n",
              "    .dataframe tbody tr th:only-of-type {\n",
              "        vertical-align: middle;\n",
              "    }\n",
              "\n",
              "    .dataframe tbody tr th {\n",
              "        vertical-align: top;\n",
              "    }\n",
              "\n",
              "    .dataframe thead th {\n",
              "        text-align: right;\n",
              "    }\n",
              "</style>\n",
              "<table border=\"1\" class=\"dataframe\">\n",
              "  <thead>\n",
              "    <tr style=\"text-align: right;\">\n",
              "      <th></th>\n",
              "      <th>Idade</th>\n",
              "      <th>Renda anual</th>\n",
              "    </tr>\n",
              "  </thead>\n",
              "  <tbody>\n",
              "    <tr>\n",
              "      <th>0</th>\n",
              "      <td>1.072222</td>\n",
              "      <td>-0.548735</td>\n",
              "    </tr>\n",
              "    <tr>\n",
              "      <th>1</th>\n",
              "      <td>-0.164957</td>\n",
              "      <td>1.154235</td>\n",
              "    </tr>\n",
              "    <tr>\n",
              "      <th>2</th>\n",
              "      <td>-0.907265</td>\n",
              "      <td>-0.605501</td>\n",
              "    </tr>\n",
              "  </tbody>\n",
              "</table>\n",
              "</div>"
            ],
            "text/plain": [
              "      Idade  Renda anual\n",
              "0  1.072222    -0.548735\n",
              "1 -0.164957     1.154235\n",
              "2 -0.907265    -0.605501"
            ]
          },
          "metadata": {
            "tags": []
          },
          "execution_count": 186
        }
      ]
    },
    {
      "cell_type": "code",
      "metadata": {
        "colab": {
          "base_uri": "https://localhost:8080/",
          "height": 142
        },
        "id": "4Zmzxg79WlhW",
        "outputId": "6fafd94c-5232-4804-d6ff-1e6c578c4fc5"
      },
      "source": [
        "(df - df.mean()).div(df.std()-1)"
      ],
      "execution_count": null,
      "outputs": [
        {
          "output_type": "execute_result",
          "data": {
            "text/html": [
              "<div>\n",
              "<style scoped>\n",
              "    .dataframe tbody tr th:only-of-type {\n",
              "        vertical-align: middle;\n",
              "    }\n",
              "\n",
              "    .dataframe tbody tr th {\n",
              "        vertical-align: top;\n",
              "    }\n",
              "\n",
              "    .dataframe thead th {\n",
              "        text-align: right;\n",
              "    }\n",
              "</style>\n",
              "<table border=\"1\" class=\"dataframe\">\n",
              "  <thead>\n",
              "    <tr style=\"text-align: right;\">\n",
              "      <th></th>\n",
              "      <th>Idade</th>\n",
              "      <th>Renda anual</th>\n",
              "    </tr>\n",
              "  </thead>\n",
              "  <tbody>\n",
              "    <tr>\n",
              "      <th>0</th>\n",
              "      <td>1.128046</td>\n",
              "      <td>-0.548797</td>\n",
              "    </tr>\n",
              "    <tr>\n",
              "      <th>1</th>\n",
              "      <td>-0.173545</td>\n",
              "      <td>1.154366</td>\n",
              "    </tr>\n",
              "    <tr>\n",
              "      <th>2</th>\n",
              "      <td>-0.954500</td>\n",
              "      <td>-0.605569</td>\n",
              "    </tr>\n",
              "  </tbody>\n",
              "</table>\n",
              "</div>"
            ],
            "text/plain": [
              "      Idade  Renda anual\n",
              "0  1.128046    -0.548797\n",
              "1 -0.173545     1.154366\n",
              "2 -0.954500    -0.605569"
            ]
          },
          "metadata": {
            "tags": []
          },
          "execution_count": 194
        }
      ]
    },
    {
      "cell_type": "code",
      "metadata": {
        "id": "0qpg0J5EVBNF"
      },
      "source": [
        "# df[['cost', 'sales']] = StandardScaler().fit_transform(df[['cost', 'sales']])"
      ],
      "execution_count": null,
      "outputs": []
    },
    {
      "cell_type": "code",
      "metadata": {
        "colab": {
          "base_uri": "https://localhost:8080/"
        },
        "id": "OWiy6NexVbyD",
        "outputId": "4cef8356-4f21-4378-8245-5f0d1d7e6354"
      },
      "source": [
        "df.mean()"
      ],
      "execution_count": null,
      "outputs": [
        {
          "output_type": "execute_result",
          "data": {
            "text/plain": [
              "Idade             38.333333\n",
              "Renda anual    34833.333333\n",
              "dtype: float64"
            ]
          },
          "metadata": {
            "tags": []
          },
          "execution_count": 188
        }
      ]
    },
    {
      "cell_type": "code",
      "metadata": {
        "colab": {
          "base_uri": "https://localhost:8080/",
          "height": 142
        },
        "id": "jNvJARu9Vnck",
        "outputId": "fdf8bf8f-8e17-4698-b8e7-d96138e7c172"
      },
      "source": [
        "df"
      ],
      "execution_count": null,
      "outputs": [
        {
          "output_type": "execute_result",
          "data": {
            "text/html": [
              "<div>\n",
              "<style scoped>\n",
              "    .dataframe tbody tr th:only-of-type {\n",
              "        vertical-align: middle;\n",
              "    }\n",
              "\n",
              "    .dataframe tbody tr th {\n",
              "        vertical-align: top;\n",
              "    }\n",
              "\n",
              "    .dataframe thead th {\n",
              "        text-align: right;\n",
              "    }\n",
              "</style>\n",
              "<table border=\"1\" class=\"dataframe\">\n",
              "  <thead>\n",
              "    <tr style=\"text-align: right;\">\n",
              "      <th></th>\n",
              "      <th>Idade</th>\n",
              "      <th>Renda anual</th>\n",
              "    </tr>\n",
              "  </thead>\n",
              "  <tbody>\n",
              "    <tr>\n",
              "      <th>0</th>\n",
              "      <td>60</td>\n",
              "      <td>30000</td>\n",
              "    </tr>\n",
              "    <tr>\n",
              "      <th>1</th>\n",
              "      <td>35</td>\n",
              "      <td>45000</td>\n",
              "    </tr>\n",
              "    <tr>\n",
              "      <th>2</th>\n",
              "      <td>20</td>\n",
              "      <td>29500</td>\n",
              "    </tr>\n",
              "  </tbody>\n",
              "</table>\n",
              "</div>"
            ],
            "text/plain": [
              "   Idade  Renda anual\n",
              "0     60        30000\n",
              "1     35        45000\n",
              "2     20        29500"
            ]
          },
          "metadata": {
            "tags": []
          },
          "execution_count": 189
        }
      ]
    },
    {
      "cell_type": "code",
      "metadata": {
        "colab": {
          "base_uri": "https://localhost:8080/",
          "height": 142
        },
        "id": "tynMYpPaVpdq",
        "outputId": "28db886a-89ea-4f07-e94e-88ba927492f0"
      },
      "source": [
        "df-df.mean()"
      ],
      "execution_count": null,
      "outputs": [
        {
          "output_type": "execute_result",
          "data": {
            "text/html": [
              "<div>\n",
              "<style scoped>\n",
              "    .dataframe tbody tr th:only-of-type {\n",
              "        vertical-align: middle;\n",
              "    }\n",
              "\n",
              "    .dataframe tbody tr th {\n",
              "        vertical-align: top;\n",
              "    }\n",
              "\n",
              "    .dataframe thead th {\n",
              "        text-align: right;\n",
              "    }\n",
              "</style>\n",
              "<table border=\"1\" class=\"dataframe\">\n",
              "  <thead>\n",
              "    <tr style=\"text-align: right;\">\n",
              "      <th></th>\n",
              "      <th>Idade</th>\n",
              "      <th>Renda anual</th>\n",
              "    </tr>\n",
              "  </thead>\n",
              "  <tbody>\n",
              "    <tr>\n",
              "      <th>0</th>\n",
              "      <td>21.666667</td>\n",
              "      <td>-4833.333333</td>\n",
              "    </tr>\n",
              "    <tr>\n",
              "      <th>1</th>\n",
              "      <td>-3.333333</td>\n",
              "      <td>10166.666667</td>\n",
              "    </tr>\n",
              "    <tr>\n",
              "      <th>2</th>\n",
              "      <td>-18.333333</td>\n",
              "      <td>-5333.333333</td>\n",
              "    </tr>\n",
              "  </tbody>\n",
              "</table>\n",
              "</div>"
            ],
            "text/plain": [
              "       Idade   Renda anual\n",
              "0  21.666667  -4833.333333\n",
              "1  -3.333333  10166.666667\n",
              "2 -18.333333  -5333.333333"
            ]
          },
          "metadata": {
            "tags": []
          },
          "execution_count": 190
        }
      ]
    },
    {
      "cell_type": "code",
      "metadata": {
        "colab": {
          "base_uri": "https://localhost:8080/"
        },
        "id": "5vMf_u10VrLr",
        "outputId": "d30cee40-a013-41cd-f0d4-229c0dee60f1"
      },
      "source": [
        "df.std()"
      ],
      "execution_count": null,
      "outputs": [
        {
          "output_type": "execute_result",
          "data": {
            "text/plain": [
              "Idade            20.207259\n",
              "Renda anual    8808.140174\n",
              "dtype: float64"
            ]
          },
          "metadata": {
            "tags": []
          },
          "execution_count": 191
        }
      ]
    },
    {
      "cell_type": "code",
      "metadata": {
        "id": "BCadO9_6VxUU"
      },
      "source": [
        ""
      ],
      "execution_count": null,
      "outputs": []
    }
  ]
}